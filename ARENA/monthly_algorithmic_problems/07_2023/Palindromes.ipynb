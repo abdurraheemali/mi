{
  "cells": [
    {
      "cell_type": "markdown",
      "metadata": {
        "id": "view-in-github",
        "colab_type": "text"
      },
      "source": [
        "<a href=\"https://colab.research.google.com/github/andyrdt/mi/blob/main/ARENA/monthly_algorithmic_problems/07_2023/Palindromes.ipynb\" target=\"_parent\"><img src=\"https://colab.research.google.com/assets/colab-badge.svg\" alt=\"Open In Colab\"/></a>"
      ]
    },
    {
      "cell_type": "markdown",
      "source": [
        "# Monthly Algorithmic Challenge (July 2023): Palindromes\n",
        "\n",
        "This marks the first of the (hopefully sequence of) monthly mechanistic interpretability challenges. I designed them in the spirit of [Stephen Casper's challenges](https://www.lesswrong.com/posts/KSHqLzQscwJnv44T8/eis-vii-a-challenge-for-mechanists), but with the more specific aim of working well in the context of the rest of the [ARENA material](https://arena-ch1-transformers.streamlit.app/), and helping people put into practice all the things they've learned so far.\n",
        "\n",
        "If you prefer, you can access the Streamlit page [here](https://arena-ch1-transformers.streamlit.app/Monthly_Algorithmic_Problems#task-dataset).\n",
        "\n",
        "<img src=\"https://raw.githubusercontent.com/callummcdougall/computational-thread-art/master/example_images/misc/zoom.png\" width=\"400\">"
      ],
      "metadata": {
        "id": "kP1uuM5cat75"
      }
    },
    {
      "cell_type": "markdown",
      "metadata": {
        "id": "YrRgKTEvagv7"
      },
      "source": [
        "## Setup"
      ]
    },
    {
      "cell_type": "code",
      "execution_count": 1,
      "metadata": {
        "id": "m6QECdbLagv-"
      },
      "outputs": [],
      "source": [
        "%%capture\n",
        "try:\n",
        "    import google.colab # type: ignore\n",
        "    IN_COLAB = True\n",
        "except:\n",
        "    IN_COLAB = False\n",
        "\n",
        "import os; os.environ[\"ACCELERATE_DISABLE_RICH\"] = \"1\"\n",
        "import sys\n",
        "\n",
        "if IN_COLAB:\n",
        "    # Install packages\n",
        "    %pip install einops\n",
        "    %pip install jaxtyping\n",
        "    %pip install transformer_lens\n",
        "    %pip install git+https://github.com/callummcdougall/CircuitsVis.git#subdirectory=python\n",
        "\n",
        "    # Code to download the necessary files (e.g. solutions, test funcs)\n",
        "    import os, sys\n",
        "    if not os.path.exists(\"chapter1_transformers\"):\n",
        "        !wget https://github.com/callummcdougall/ARENA_2.0/archive/refs/heads/main.zip\n",
        "        !unzip /content/main.zip 'ARENA_2.0-main/chapter1_transformers/exercises/*'\n",
        "        sys.path.append(\"/content/ARENA_2.0-main/chapter1_transformers/exercises\")\n",
        "        os.remove(\"/content/main.zip\")\n",
        "        os.rename(\"ARENA_2.0-main/chapter1_transformers\", \"chapter1_transformers\")\n",
        "        os.rmdir(\"ARENA_2.0-main\")\n",
        "        os.chdir(\"chapter1_transformers/exercises\")\n",
        "else:\n",
        "    from IPython import get_ipython\n",
        "    ipython = get_ipython()\n",
        "    ipython.run_line_magic(\"load_ext\", \"autoreload\")\n",
        "    ipython.run_line_magic(\"autoreload\", \"2\")"
      ]
    },
    {
      "cell_type": "code",
      "execution_count": 2,
      "metadata": {
        "id": "Jyvl4hcUagv_",
        "outputId": "150fb631-7307-4163-e97a-825e6f73997e",
        "colab": {
          "base_uri": "https://localhost:8080/"
        }
      },
      "outputs": [
        {
          "output_type": "stream",
          "name": "stderr",
          "text": [
            "/usr/local/lib/python3.10/dist-packages/accelerate/utils/imports.py:197: UserWarning: `ACCELERATE_DISABLE_RICH` is deprecated and will be removed in v0.22.0 and deactivated by default. Please use `ACCELERATE_ENABLE_RICH` if you wish to use `rich`.\n",
            "  warnings.warn(\n"
          ]
        }
      ],
      "source": [
        "import torch as t\n",
        "from pathlib import Path\n",
        "\n",
        "# Make sure exercises are in the path\n",
        "chapter = r\"chapter1_transformers\"\n",
        "exercises_dir = Path(f\"{os.getcwd().split(chapter)[0]}/{chapter}/exercises\").resolve()\n",
        "section_dir = exercises_dir / \"monthly_algorithmic_problems\" / \"july23_palindromes\"\n",
        "if str(exercises_dir) not in sys.path: sys.path.append(str(exercises_dir))\n",
        "\n",
        "from monthly_algorithmic_problems.july23_palindromes.dataset import PalindromeDataset, display_seq\n",
        "from monthly_algorithmic_problems.july23_palindromes.model import create_model\n",
        "from plotly_utils import hist, bar, imshow\n",
        "\n",
        "device = t.device(\"cuda\" if t.cuda.is_available() else \"cpu\")"
      ]
    },
    {
      "cell_type": "code",
      "source": [
        "import os\n",
        "import sys\n",
        "import json\n",
        "import functools\n",
        "import webbrowser\n",
        "from pathlib import Path\n",
        "from functools import partial\n",
        "\n",
        "import numpy as np\n",
        "import pandas as pd\n",
        "import plotly.express as px\n",
        "import plotly.graph_objects as go\n",
        "import plotly.io as pio\n",
        "from plotly.subplots import make_subplots\n",
        "from tqdm import tqdm\n",
        "from IPython.display import display\n",
        "import torch as t\n",
        "from torch import Tensor\n",
        "import torch.nn as nn\n",
        "import torch.nn.functional as F\n",
        "import einops\n",
        "import gdown\n",
        "\n",
        "from jaxtyping import Float, Int, Bool\n",
        "from transformer_lens import (utils, ActivationCache, HookedTransformer,\n",
        "                             HookedTransformerConfig, FactoredMatrix)\n",
        "from transformer_lens.hook_points import HookPoint\n",
        "from transformer_lens.components import LayerNorm\n",
        "import circuitsvis as cv\n",
        "\n",
        "from typing import List, Tuple, Union, Optional, Callable, Dict\n"
      ],
      "metadata": {
        "id": "-tKT9txj01EG"
      },
      "execution_count": 3,
      "outputs": []
    },
    {
      "cell_type": "markdown",
      "source": [
        "## Task & Dataset\n",
        "\n",
        "The directory containing all the relevant files is `chapter1_transformers/exercises/monthly_algorithmic_problems/july23_palindromes`. This contains files `model.py` (for defining the model), `training.py` (for training the model), and `dataset.py` (for the dataset of palindromes and non-palindromes).\n",
        "\n",
        "Each sequence in the dataset looks like:\n",
        "\n",
        "```\n",
        "[start_token, a_1, a_2, ..., a_N, end_token]\n",
        "```\n",
        "\n",
        "where `start_token = 31`, `end_token = 32`, and each value `a_i` is a value in the range `[0, 30]` inclusive.\n",
        "\n",
        "Each sequence has a corresponding label, which is `1` if the sequence is a palindrome (i.e. `(a_1, a_2, ..., a_N) == (a_N, ..., a_2, a_1)`), and `0` otherwise. The model has been trained to classify each sequence according to this label.\n",
        "\n",
        "We've given you the class `PalindromeDataset` to store your data. You can slice this object to get batches of tokens and labels. You can also use the function `display_seq` to display a sequence in a more readable format (with any tokens that stop it from being a palindrome highlighted). There's an example later on this page.\n",
        "\n",
        "Some other useful methods and attributes of this dataset (you can inspect `dataset.py` to see for yourself) are:\n",
        "\n",
        "* `dataset.toks`, to get a batch of all the tokens in the dataset, of shape `(size, 2 * half_length + 2)`.\n",
        "* `dataset.is_palindrome`, to get a tensor of all the labels in the dataset, of shape `(size,)`.\n",
        "* `dataset.str_toks`, to get a list of lists, with string representations of each sequence, e.g. `[\"START\", \"1\", \"4\", ..., \"END\"]`. This is useful for visualisation, e.g. circuitsvis."
      ],
      "metadata": {
        "id": "bQgyYCaVawF2"
      }
    },
    {
      "cell_type": "markdown",
      "source": [
        "## Model\n",
        "\n",
        "Our model was trained by minimising cross-entropy loss between its predictions and the true labels. You can inspect the notebook `training_model.ipynb` to see how it was trained.\n",
        "\n",
        "The model is is a 2-layer transformer with 2 attention heads, and causal attention. It includes layernorm, but no MLP layers. You can load it in as follows:"
      ],
      "metadata": {
        "id": "2EukMwuOa8Eh"
      }
    },
    {
      "cell_type": "markdown",
      "metadata": {
        "id": "OPNbvzmoagwB"
      },
      "source": [
        "The model is is a 2-layer transformer with 2 attention heads, and causal attention. It was trained to predict the palindrome label at the `[END]` token for each sequence. You can load it in as follows:"
      ]
    },
    {
      "cell_type": "code",
      "execution_count": 4,
      "metadata": {
        "id": "BVocPt-sagwB"
      },
      "outputs": [],
      "source": [
        "filename = section_dir / \"palindrome_classifier.pt\"\n",
        "\n",
        "model = create_model(\n",
        "    half_length=10, # this is half the length of the palindrome sequences\n",
        "    max_value=30, # values in palindrome sequence are between 0 and max_value inclusive\n",
        "    seed=42,\n",
        "    d_model=28,\n",
        "    d_head=14,\n",
        "    n_heads=2,\n",
        "    normalization_type=\"LN\",\n",
        "    d_mlp=None, # this is an attn-only model\n",
        "    device=device\n",
        ")\n",
        "\n",
        "state_dict = t.load(filename, map_location=t.device(device))\n",
        "\n",
        "state_dict = model.center_writing_weights(t.load(filename))\n",
        "state_dict = model.center_unembed(state_dict)\n",
        "state_dict = model.fold_layer_norm(state_dict)\n",
        "state_dict = model.fold_value_biases(state_dict)\n",
        "model.load_state_dict(state_dict, strict=False);"
      ]
    },
    {
      "cell_type": "markdown",
      "metadata": {
        "id": "YiZFDAzFagwC"
      },
      "source": [
        "The code to process the state dictionary is a bit messy, but it's necessary to make sure the model is easy to work with. For instance, if you inspect the model's parameters, you'll see that `model.ln_final.w` is a vector of 1s, and `model.ln_final.b` is a vector of 0s (because the weight and bias have been folded into the unembedding)."
      ]
    },
    {
      "cell_type": "code",
      "execution_count": 5,
      "metadata": {
        "colab": {
          "base_uri": "https://localhost:8080/"
        },
        "id": "3SYMGt0sagwC",
        "outputId": "f0c230af-9067-4f3a-e967-236d414a41e4"
      },
      "outputs": [
        {
          "output_type": "stream",
          "name": "stdout",
          "text": [
            "ln_final weight:  Parameter containing:\n",
            "tensor([1., 1., 1., 1., 1., 1., 1., 1., 1., 1., 1., 1., 1., 1., 1., 1., 1., 1.,\n",
            "        1., 1., 1., 1., 1., 1., 1., 1., 1., 1.], device='cuda:0',\n",
            "       requires_grad=True)\n",
            "\n",
            "ln_final, bias:  Parameter containing:\n",
            "tensor([0., 0., 0., 0., 0., 0., 0., 0., 0., 0., 0., 0., 0., 0., 0., 0., 0., 0., 0., 0., 0., 0., 0., 0.,\n",
            "        0., 0., 0., 0.], device='cuda:0', requires_grad=True)\n",
            "ln block 0 weight:  Parameter containing:\n",
            "tensor([1., 1., 1., 1., 1., 1., 1., 1., 1., 1., 1., 1., 1., 1., 1., 1., 1., 1.,\n",
            "        1., 1., 1., 1., 1., 1., 1., 1., 1., 1.], device='cuda:0',\n",
            "       requires_grad=True)\n",
            "ln block 0 bias:  Parameter containing:\n",
            "tensor([0., 0., 0., 0., 0., 0., 0., 0., 0., 0., 0., 0., 0., 0., 0., 0., 0., 0., 0., 0., 0., 0., 0., 0.,\n",
            "        0., 0., 0., 0.], device='cuda:0', requires_grad=True)\n",
            "ln block 1 weight:  Parameter containing:\n",
            "tensor([1., 1., 1., 1., 1., 1., 1., 1., 1., 1., 1., 1., 1., 1., 1., 1., 1., 1.,\n",
            "        1., 1., 1., 1., 1., 1., 1., 1., 1., 1.], device='cuda:0',\n",
            "       requires_grad=True)\n",
            "ln block 1 bias:  Parameter containing:\n",
            "tensor([0., 0., 0., 0., 0., 0., 0., 0., 0., 0., 0., 0., 0., 0., 0., 0., 0., 0., 0., 0., 0., 0., 0., 0.,\n",
            "        0., 0., 0., 0.], device='cuda:0', requires_grad=True)\n"
          ]
        }
      ],
      "source": [
        "print(\"ln_final weight: \", model.ln_final.w)\n",
        "print(\"\\nln_final, bias: \", model.ln_final.b)\n",
        "\n",
        "print(\"ln block 0 weight: \", model.blocks[0].ln1.w)\n",
        "print(\"ln block 0 bias: \", model.blocks[0].ln1.b)\n",
        "\n",
        "print(\"ln block 1 weight: \", model.blocks[1].ln1.w)\n",
        "print(\"ln block 1 bias: \", model.blocks[1].ln1.b)"
      ]
    },
    {
      "cell_type": "markdown",
      "metadata": {
        "id": "kE6-KTCEagwC"
      },
      "source": [
        "<details>\n",
        "<summary>Aside - the other weight processing parameters</summary>\n",
        "\n",
        "Here's some more code to verify that our weights processing worked, in other words:\n",
        "\n",
        "* The unembedding matrix has mean zero over both its input dimension (`d_model`) and output dimension (`d_vocab`)\n",
        "* All writing weights (i.e. `b_O`, `W_O`, and both embeddings) have mean zero over their output dimension (`d_model`)\n",
        "* The value biases `b_V` are zero (because these can just be folded into the output biases `b_O`)\n",
        "\n",
        "```python\n",
        "W_U_mean_over_input = einops.reduce(model.W_U, \"d_model d_vocab -> d_model\", \"mean\")\n",
        "t.testing.assert_close(W_U_mean_over_input, t.zeros_like(W_U_mean_over_input))\n",
        "\n",
        "W_U_mean_over_output = einops.reduce(model.W_U, \"d_model d_vocab -> d_vocab\", \"mean\")\n",
        "t.testing.assert_close(W_U_mean_over_output, t.zeros_like(W_U_mean_over_output))\n",
        "\n",
        "W_O_mean_over_output = einops.reduce(model.W_O, \"layer head d_head d_model -> layer head d_head\", \"mean\")\n",
        "t.testing.assert_close(W_O_mean_over_output, t.zeros_like(W_O_mean_over_output))\n",
        "\n",
        "b_O_mean_over_output = einops.reduce(model.b_O, \"layer d_model -> layer\", \"mean\")\n",
        "t.testing.assert_close(b_O_mean_over_output, t.zeros_like(b_O_mean_over_output))\n",
        "\n",
        "W_E_mean_over_output = einops.reduce(model.W_E, \"token d_model -> token\", \"mean\")\n",
        "t.testing.assert_close(W_E_mean_over_output, t.zeros_like(W_E_mean_over_output))\n",
        "\n",
        "W_pos_mean_over_output = einops.reduce(model.W_pos, \"position d_model -> position\", \"mean\")\n",
        "t.testing.assert_close(W_pos_mean_over_output, t.zeros_like(W_pos_mean_over_output))\n",
        "\n",
        "b_V = model.b_V\n",
        "t.testing.assert_close(b_V, t.zeros_like(b_V))\n",
        "```\n",
        "\n",
        "</details>"
      ]
    },
    {
      "cell_type": "markdown",
      "metadata": {
        "id": "3noWR5QRagwD"
      },
      "source": [
        "The model was trained to output the correct classification at the `END` token, in other words the value of the residual stream at `END` (post-layernorm) is mapped through `model.W_U` which has shape `(d_model, 2)`, and this gives us our classification logits for `(not palindrome, palindrome)`.\n",
        "\n",
        "A demonstration of the model working (and of the `display_seq` function):"
      ]
    },
    {
      "cell_type": "code",
      "execution_count": 6,
      "metadata": {
        "colab": {
          "base_uri": "https://localhost:8080/",
          "height": 98
        },
        "id": "YLtoK5nXagwD",
        "outputId": "924d982b-688a-4d3d-cfb6-e9e5477abb4a"
      },
      "outputs": [
        {
          "output_type": "display_data",
          "data": {
            "text/plain": [
              "START |\u001b[1;38;5;208m04\u001b[0m|\u001b[1;37m16\u001b[0m|\u001b[1;38;5;208m06\u001b[0m|\u001b[1;37m27\u001b[0m|\u001b[1;38;5;208m00\u001b[0m|\u001b[1;38;5;208m10\u001b[0m|\u001b[1;38;5;208m00\u001b[0m|\u001b[1;37m09\u001b[0m|\u001b[1;38;5;208m06\u001b[0m|\u001b[1;38;5;208m09\u001b[0m|\u001b[1;38;5;208m22\u001b[0m|\u001b[1;38;5;208m25\u001b[0m|\u001b[1;37m09\u001b[0m|\u001b[1;38;5;208m01\u001b[0m|\u001b[1;38;5;208m25\u001b[0m|\u001b[1;38;5;208m26\u001b[0m|\u001b[1;37m27\u001b[0m|\u001b[1;38;5;208m29\u001b[0m|\u001b[1;37m16\u001b[0m|\u001b[1;38;5;208m25\u001b[0m| END  ->  \u001b[1;36m0.000\u001b[0m\n"
            ],
            "text/html": [
              "<pre style=\"white-space:pre;overflow-x:auto;line-height:normal;font-family:Menlo,'DejaVu Sans Mono',consolas,'Courier New',monospace\">START |<span style=\"color: #ff8700; text-decoration-color: #ff8700; font-weight: bold\">04</span>|<span style=\"color: #c0c0c0; text-decoration-color: #c0c0c0; font-weight: bold\">16</span>|<span style=\"color: #ff8700; text-decoration-color: #ff8700; font-weight: bold\">06</span>|<span style=\"color: #c0c0c0; text-decoration-color: #c0c0c0; font-weight: bold\">27</span>|<span style=\"color: #ff8700; text-decoration-color: #ff8700; font-weight: bold\">00</span>|<span style=\"color: #ff8700; text-decoration-color: #ff8700; font-weight: bold\">10</span>|<span style=\"color: #ff8700; text-decoration-color: #ff8700; font-weight: bold\">00</span>|<span style=\"color: #c0c0c0; text-decoration-color: #c0c0c0; font-weight: bold\">09</span>|<span style=\"color: #ff8700; text-decoration-color: #ff8700; font-weight: bold\">06</span>|<span style=\"color: #ff8700; text-decoration-color: #ff8700; font-weight: bold\">09</span>|<span style=\"color: #ff8700; text-decoration-color: #ff8700; font-weight: bold\">22</span>|<span style=\"color: #ff8700; text-decoration-color: #ff8700; font-weight: bold\">25</span>|<span style=\"color: #c0c0c0; text-decoration-color: #c0c0c0; font-weight: bold\">09</span>|<span style=\"color: #ff8700; text-decoration-color: #ff8700; font-weight: bold\">01</span>|<span style=\"color: #ff8700; text-decoration-color: #ff8700; font-weight: bold\">25</span>|<span style=\"color: #ff8700; text-decoration-color: #ff8700; font-weight: bold\">26</span>|<span style=\"color: #c0c0c0; text-decoration-color: #c0c0c0; font-weight: bold\">27</span>|<span style=\"color: #ff8700; text-decoration-color: #ff8700; font-weight: bold\">29</span>|<span style=\"color: #c0c0c0; text-decoration-color: #c0c0c0; font-weight: bold\">16</span>|<span style=\"color: #ff8700; text-decoration-color: #ff8700; font-weight: bold\">25</span>| END  -&gt;  <span style=\"color: #008080; text-decoration-color: #008080; font-weight: bold\">0.000</span>\n",
              "</pre>\n"
            ]
          },
          "metadata": {}
        },
        {
          "output_type": "display_data",
          "data": {
            "text/plain": [
              "START |\u001b[1;37m30\u001b[0m|\u001b[1;37m02\u001b[0m|\u001b[1;37m20\u001b[0m|\u001b[1;37m18\u001b[0m|\u001b[1;37m29\u001b[0m|\u001b[1;37m08\u001b[0m|\u001b[1;37m04\u001b[0m|\u001b[1;37m10\u001b[0m|\u001b[1;37m13\u001b[0m|\u001b[1;37m12\u001b[0m|\u001b[1;37m12\u001b[0m|\u001b[1;37m13\u001b[0m|\u001b[1;37m10\u001b[0m|\u001b[1;37m04\u001b[0m|\u001b[1;37m08\u001b[0m|\u001b[1;37m29\u001b[0m|\u001b[1;37m18\u001b[0m|\u001b[1;37m20\u001b[0m|\u001b[1;37m02\u001b[0m|\u001b[1;37m30\u001b[0m| END  ->  \u001b[1;36m0.995\u001b[0m\n"
            ],
            "text/html": [
              "<pre style=\"white-space:pre;overflow-x:auto;line-height:normal;font-family:Menlo,'DejaVu Sans Mono',consolas,'Courier New',monospace\">START |<span style=\"color: #c0c0c0; text-decoration-color: #c0c0c0; font-weight: bold\">30</span>|<span style=\"color: #c0c0c0; text-decoration-color: #c0c0c0; font-weight: bold\">02</span>|<span style=\"color: #c0c0c0; text-decoration-color: #c0c0c0; font-weight: bold\">20</span>|<span style=\"color: #c0c0c0; text-decoration-color: #c0c0c0; font-weight: bold\">18</span>|<span style=\"color: #c0c0c0; text-decoration-color: #c0c0c0; font-weight: bold\">29</span>|<span style=\"color: #c0c0c0; text-decoration-color: #c0c0c0; font-weight: bold\">08</span>|<span style=\"color: #c0c0c0; text-decoration-color: #c0c0c0; font-weight: bold\">04</span>|<span style=\"color: #c0c0c0; text-decoration-color: #c0c0c0; font-weight: bold\">10</span>|<span style=\"color: #c0c0c0; text-decoration-color: #c0c0c0; font-weight: bold\">13</span>|<span style=\"color: #c0c0c0; text-decoration-color: #c0c0c0; font-weight: bold\">12</span>|<span style=\"color: #c0c0c0; text-decoration-color: #c0c0c0; font-weight: bold\">12</span>|<span style=\"color: #c0c0c0; text-decoration-color: #c0c0c0; font-weight: bold\">13</span>|<span style=\"color: #c0c0c0; text-decoration-color: #c0c0c0; font-weight: bold\">10</span>|<span style=\"color: #c0c0c0; text-decoration-color: #c0c0c0; font-weight: bold\">04</span>|<span style=\"color: #c0c0c0; text-decoration-color: #c0c0c0; font-weight: bold\">08</span>|<span style=\"color: #c0c0c0; text-decoration-color: #c0c0c0; font-weight: bold\">29</span>|<span style=\"color: #c0c0c0; text-decoration-color: #c0c0c0; font-weight: bold\">18</span>|<span style=\"color: #c0c0c0; text-decoration-color: #c0c0c0; font-weight: bold\">20</span>|<span style=\"color: #c0c0c0; text-decoration-color: #c0c0c0; font-weight: bold\">02</span>|<span style=\"color: #c0c0c0; text-decoration-color: #c0c0c0; font-weight: bold\">30</span>| END  -&gt;  <span style=\"color: #008080; text-decoration-color: #008080; font-weight: bold\">0.995</span>\n",
              "</pre>\n"
            ]
          },
          "metadata": {}
        },
        {
          "output_type": "display_data",
          "data": {
            "text/plain": [
              "START |\u001b[1;38;5;208m30\u001b[0m|\u001b[1;37m22\u001b[0m|\u001b[1;37m22\u001b[0m|\u001b[1;37m00\u001b[0m|\u001b[1;37m28\u001b[0m|\u001b[1;37m01\u001b[0m|\u001b[1;37m00\u001b[0m|\u001b[1;38;5;208m09\u001b[0m|\u001b[1;37m23\u001b[0m|\u001b[1;37m27\u001b[0m|\u001b[1;37m27\u001b[0m|\u001b[1;37m23\u001b[0m|\u001b[1;38;5;208m30\u001b[0m|\u001b[1;37m00\u001b[0m|\u001b[1;37m01\u001b[0m|\u001b[1;37m28\u001b[0m|\u001b[1;37m00\u001b[0m|\u001b[1;37m22\u001b[0m|\u001b[1;37m22\u001b[0m|\u001b[1;38;5;208m23\u001b[0m| END  ->  \u001b[1;36m0.000\u001b[0m\n"
            ],
            "text/html": [
              "<pre style=\"white-space:pre;overflow-x:auto;line-height:normal;font-family:Menlo,'DejaVu Sans Mono',consolas,'Courier New',monospace\">START |<span style=\"color: #ff8700; text-decoration-color: #ff8700; font-weight: bold\">30</span>|<span style=\"color: #c0c0c0; text-decoration-color: #c0c0c0; font-weight: bold\">22</span>|<span style=\"color: #c0c0c0; text-decoration-color: #c0c0c0; font-weight: bold\">22</span>|<span style=\"color: #c0c0c0; text-decoration-color: #c0c0c0; font-weight: bold\">00</span>|<span style=\"color: #c0c0c0; text-decoration-color: #c0c0c0; font-weight: bold\">28</span>|<span style=\"color: #c0c0c0; text-decoration-color: #c0c0c0; font-weight: bold\">01</span>|<span style=\"color: #c0c0c0; text-decoration-color: #c0c0c0; font-weight: bold\">00</span>|<span style=\"color: #ff8700; text-decoration-color: #ff8700; font-weight: bold\">09</span>|<span style=\"color: #c0c0c0; text-decoration-color: #c0c0c0; font-weight: bold\">23</span>|<span style=\"color: #c0c0c0; text-decoration-color: #c0c0c0; font-weight: bold\">27</span>|<span style=\"color: #c0c0c0; text-decoration-color: #c0c0c0; font-weight: bold\">27</span>|<span style=\"color: #c0c0c0; text-decoration-color: #c0c0c0; font-weight: bold\">23</span>|<span style=\"color: #ff8700; text-decoration-color: #ff8700; font-weight: bold\">30</span>|<span style=\"color: #c0c0c0; text-decoration-color: #c0c0c0; font-weight: bold\">00</span>|<span style=\"color: #c0c0c0; text-decoration-color: #c0c0c0; font-weight: bold\">01</span>|<span style=\"color: #c0c0c0; text-decoration-color: #c0c0c0; font-weight: bold\">28</span>|<span style=\"color: #c0c0c0; text-decoration-color: #c0c0c0; font-weight: bold\">00</span>|<span style=\"color: #c0c0c0; text-decoration-color: #c0c0c0; font-weight: bold\">22</span>|<span style=\"color: #c0c0c0; text-decoration-color: #c0c0c0; font-weight: bold\">22</span>|<span style=\"color: #ff8700; text-decoration-color: #ff8700; font-weight: bold\">23</span>| END  -&gt;  <span style=\"color: #008080; text-decoration-color: #008080; font-weight: bold\">0.000</span>\n",
              "</pre>\n"
            ]
          },
          "metadata": {}
        },
        {
          "output_type": "display_data",
          "data": {
            "text/plain": [
              "START |\u001b[1;37m18\u001b[0m|\u001b[1;37m20\u001b[0m|\u001b[1;37m21\u001b[0m|\u001b[1;37m28\u001b[0m|\u001b[1;37m05\u001b[0m|\u001b[1;37m13\u001b[0m|\u001b[1;37m21\u001b[0m|\u001b[1;37m01\u001b[0m|\u001b[1;37m08\u001b[0m|\u001b[1;37m16\u001b[0m|\u001b[1;37m16\u001b[0m|\u001b[1;37m08\u001b[0m|\u001b[1;37m01\u001b[0m|\u001b[1;37m21\u001b[0m|\u001b[1;37m13\u001b[0m|\u001b[1;37m05\u001b[0m|\u001b[1;37m28\u001b[0m|\u001b[1;37m21\u001b[0m|\u001b[1;37m20\u001b[0m|\u001b[1;37m18\u001b[0m| END  ->  \u001b[1;36m0.997\u001b[0m\n"
            ],
            "text/html": [
              "<pre style=\"white-space:pre;overflow-x:auto;line-height:normal;font-family:Menlo,'DejaVu Sans Mono',consolas,'Courier New',monospace\">START |<span style=\"color: #c0c0c0; text-decoration-color: #c0c0c0; font-weight: bold\">18</span>|<span style=\"color: #c0c0c0; text-decoration-color: #c0c0c0; font-weight: bold\">20</span>|<span style=\"color: #c0c0c0; text-decoration-color: #c0c0c0; font-weight: bold\">21</span>|<span style=\"color: #c0c0c0; text-decoration-color: #c0c0c0; font-weight: bold\">28</span>|<span style=\"color: #c0c0c0; text-decoration-color: #c0c0c0; font-weight: bold\">05</span>|<span style=\"color: #c0c0c0; text-decoration-color: #c0c0c0; font-weight: bold\">13</span>|<span style=\"color: #c0c0c0; text-decoration-color: #c0c0c0; font-weight: bold\">21</span>|<span style=\"color: #c0c0c0; text-decoration-color: #c0c0c0; font-weight: bold\">01</span>|<span style=\"color: #c0c0c0; text-decoration-color: #c0c0c0; font-weight: bold\">08</span>|<span style=\"color: #c0c0c0; text-decoration-color: #c0c0c0; font-weight: bold\">16</span>|<span style=\"color: #c0c0c0; text-decoration-color: #c0c0c0; font-weight: bold\">16</span>|<span style=\"color: #c0c0c0; text-decoration-color: #c0c0c0; font-weight: bold\">08</span>|<span style=\"color: #c0c0c0; text-decoration-color: #c0c0c0; font-weight: bold\">01</span>|<span style=\"color: #c0c0c0; text-decoration-color: #c0c0c0; font-weight: bold\">21</span>|<span style=\"color: #c0c0c0; text-decoration-color: #c0c0c0; font-weight: bold\">13</span>|<span style=\"color: #c0c0c0; text-decoration-color: #c0c0c0; font-weight: bold\">05</span>|<span style=\"color: #c0c0c0; text-decoration-color: #c0c0c0; font-weight: bold\">28</span>|<span style=\"color: #c0c0c0; text-decoration-color: #c0c0c0; font-weight: bold\">21</span>|<span style=\"color: #c0c0c0; text-decoration-color: #c0c0c0; font-weight: bold\">20</span>|<span style=\"color: #c0c0c0; text-decoration-color: #c0c0c0; font-weight: bold\">18</span>| END  -&gt;  <span style=\"color: #008080; text-decoration-color: #008080; font-weight: bold\">0.997</span>\n",
              "</pre>\n"
            ]
          },
          "metadata": {}
        },
        {
          "output_type": "display_data",
          "data": {
            "text/plain": [
              "START |\u001b[1;37m13\u001b[0m|\u001b[1;38;5;208m30\u001b[0m|\u001b[1;38;5;208m18\u001b[0m|\u001b[1;38;5;208m17\u001b[0m|\u001b[1;38;5;208m25\u001b[0m|\u001b[1;38;5;208m23\u001b[0m|\u001b[1;37m11\u001b[0m|\u001b[1;38;5;208m24\u001b[0m|\u001b[1;37m09\u001b[0m|\u001b[1;38;5;208m01\u001b[0m|\u001b[1;38;5;208m17\u001b[0m|\u001b[1;37m09\u001b[0m|\u001b[1;38;5;208m28\u001b[0m|\u001b[1;37m11\u001b[0m|\u001b[1;38;5;208m29\u001b[0m|\u001b[1;38;5;208m20\u001b[0m|\u001b[1;38;5;208m09\u001b[0m|\u001b[1;38;5;208m10\u001b[0m|\u001b[1;38;5;208m25\u001b[0m|\u001b[1;37m13\u001b[0m| END  ->  \u001b[1;36m0.000\u001b[0m\n"
            ],
            "text/html": [
              "<pre style=\"white-space:pre;overflow-x:auto;line-height:normal;font-family:Menlo,'DejaVu Sans Mono',consolas,'Courier New',monospace\">START |<span style=\"color: #c0c0c0; text-decoration-color: #c0c0c0; font-weight: bold\">13</span>|<span style=\"color: #ff8700; text-decoration-color: #ff8700; font-weight: bold\">30</span>|<span style=\"color: #ff8700; text-decoration-color: #ff8700; font-weight: bold\">18</span>|<span style=\"color: #ff8700; text-decoration-color: #ff8700; font-weight: bold\">17</span>|<span style=\"color: #ff8700; text-decoration-color: #ff8700; font-weight: bold\">25</span>|<span style=\"color: #ff8700; text-decoration-color: #ff8700; font-weight: bold\">23</span>|<span style=\"color: #c0c0c0; text-decoration-color: #c0c0c0; font-weight: bold\">11</span>|<span style=\"color: #ff8700; text-decoration-color: #ff8700; font-weight: bold\">24</span>|<span style=\"color: #c0c0c0; text-decoration-color: #c0c0c0; font-weight: bold\">09</span>|<span style=\"color: #ff8700; text-decoration-color: #ff8700; font-weight: bold\">01</span>|<span style=\"color: #ff8700; text-decoration-color: #ff8700; font-weight: bold\">17</span>|<span style=\"color: #c0c0c0; text-decoration-color: #c0c0c0; font-weight: bold\">09</span>|<span style=\"color: #ff8700; text-decoration-color: #ff8700; font-weight: bold\">28</span>|<span style=\"color: #c0c0c0; text-decoration-color: #c0c0c0; font-weight: bold\">11</span>|<span style=\"color: #ff8700; text-decoration-color: #ff8700; font-weight: bold\">29</span>|<span style=\"color: #ff8700; text-decoration-color: #ff8700; font-weight: bold\">20</span>|<span style=\"color: #ff8700; text-decoration-color: #ff8700; font-weight: bold\">09</span>|<span style=\"color: #ff8700; text-decoration-color: #ff8700; font-weight: bold\">10</span>|<span style=\"color: #ff8700; text-decoration-color: #ff8700; font-weight: bold\">25</span>|<span style=\"color: #c0c0c0; text-decoration-color: #c0c0c0; font-weight: bold\">13</span>| END  -&gt;  <span style=\"color: #008080; text-decoration-color: #008080; font-weight: bold\">0.000</span>\n",
              "</pre>\n"
            ]
          },
          "metadata": {}
        }
      ],
      "source": [
        "dataset = PalindromeDataset(size=100, max_value=30, half_length=10)\n",
        "\n",
        "toks, is_palindrome = dataset[:5]\n",
        "\n",
        "logits = model(toks)[:, -1]\n",
        "probs = logits.softmax(-1)\n",
        "probs_palindrome = probs[:, 1]\n",
        "\n",
        "for tok, prob in zip(toks, probs_palindrome):\n",
        "    display_seq(tok, prob)"
      ]
    },
    {
      "cell_type": "markdown",
      "metadata": {
        "id": "WFbyg6CbagwE"
      },
      "source": [
        "<details>\n",
        "<summary>Click on this dropdown for a hint on how to start (and some example code).</summary>\n",
        "\n",
        "The following code will display the attention patterns for each head, on a particular example.\n",
        "\n",
        "```python\n",
        "display_seq(dataset.toks[batch_idx], probs_palindrome[batch_idx])\n",
        "\n",
        "import circuitsvis as cv\n",
        "\n",
        "cv.attention.attention_patterns(\n",
        "    attention = t.concat([cache[\"pattern\", layer][batch_idx] for layer in range(model.cfg.n_layers)]),\n",
        "    tokens = dataset.str_toks[batch_idx],\n",
        "    attention_head_names = [f\"{layer}.{head}\" for layer in range(model.cfg.n_layers) for head in range(model.cfg.n_heads)],\n",
        ")\n",
        "```\n",
        "\n",
        "Find (1) a palindromic example, and (2) a non-palindromic example which is close to being palindromic (i.e. only 1 or 2 tokens are different). Then, compare the attention patterns for these two examples. Questions you might want to answer:\n",
        "\n",
        "* How do the attention patterns for numbers which are palindromic (i.e. they are the same as their mirror image) differ from the numbers which aren't?\n",
        "* How does information eventually get to the `[END]` token?\n",
        "\n",
        "</details>"
      ]
    },
    {
      "cell_type": "markdown",
      "source": [
        "Note - although this model was trained for long enough to get loss close to zero (you can test this for yourself), it's not perfect. There are some weaknesses that the model has which make it vulnerable to adversarial examples, which I've decided to leave in as a fun extra challenge! Note that the model is still very good at its intended task, and the main focus of this challenge is on figuring out how it solves the task, not dissecting the situations where it fails. However, you might find that the adversarial examples help you understand the model better."
      ],
      "metadata": {
        "id": "z5KggcQ0dbk-"
      }
    },
    {
      "cell_type": "markdown",
      "metadata": {
        "id": "Sh9CtuD5agwE"
      },
      "source": [
        "Best of luck! 🎈"
      ]
    },
    {
      "cell_type": "markdown",
      "source": [
        "# Andy's work begins here"
      ],
      "metadata": {
        "id": "-yNncr0XaSU0"
      }
    },
    {
      "cell_type": "markdown",
      "source": [
        "## Summary of findings"
      ],
      "metadata": {
        "id": "vF103Rr-0lco"
      }
    },
    {
      "cell_type": "markdown",
      "source": [
        "### Mechanism overview\n",
        "\n",
        "I'll give some intuitive explanations for how I think the mechanism works.\n",
        "\n",
        "**Layer 0 Head 0 (H0.0)**\n",
        "- QK circuit\n",
        "  - The QK circuit serves two functions - one to do with embeddings and another to do with positions.\n",
        "    - Embedding: Sequence position $i$ attends to a previous position $j$ if their token embeddings are the same.\n",
        "    - Position: For $i \\geq 11$, position $i$ attends to its \"palindromic corresponding\" position $j$ (i.e. 11 attends to 10, 12 attends to 9, and so on).\n",
        "- OV circuit\n",
        "  - A value's output encodes whether the originating position corresponds to the first half, or second half of the sequence.\n",
        "- QK and OV in combination\n",
        "  - Consider some token in the second half of the sequence.\n",
        "    - If the input is a palindrome, the token will attend strongly to its corresponding token in the first half, and thus the resulting output value will strongly reflect the \"first half direction.\"\n",
        "    - If the input is not a palindrome, then the token should not attend strongly to any token in the first half. It will always attend strongly to itself, and thus its resulting value will strongly reflect the \"second half direction.\"\n",
        "  - Thus, a position with output in the \"second half direction\" indicates that the palindrome property has been violated at that position, and is thus a \"problematic token.\"\n",
        "    - This is the signal that H1.0 will query for in the next layer, and the signal that it will propagate.\n",
        "\n",
        "**Layer 1 Head 0 (H1.0)**\n",
        "- QK circuit\n",
        "  - The last sequence position attends to keys that indicate a \"problematic token,\" or a token that H0.0 has discovered breaks the palindrome property (it has no corresponding token in the first half).\n",
        "  - H0.0 and H1.0 interact through K-composition:\n",
        "    - The value from H0.0 is used as input for the key. This value from H0.0 indicates whether a token is \"problematic.\"\n",
        "    - H1.0 queries for problematic tokens, and pays attention to them.\n",
        "- OV circuit\n",
        "  - H1.0 projects attended-to-values to a \"palindrome-or-not\" direction.\n",
        "  - H0.0 and H1.0 interact through V-composition:\n",
        "    - The value from H0.0 is used as input for the value. This value from H0.0 indicates whether a token is \"problematic.\"\n",
        "    - H1.0 maps this value to a direction which shifts the logit difference in the \"non-palindrome\" direction.\n",
        "\n",
        "**Other heads**\n",
        "- Ablation testing showed that H1.1 is not useful at all.\n",
        "- Ablation testing suggested H0.1 is doing *something*, but I leave it to further work to find exactly *what* it is doing.\n"
      ],
      "metadata": {
        "id": "7rCydhAmsiPg"
      }
    },
    {
      "cell_type": "markdown",
      "source": [
        "## H0.0 QK Circuit"
      ],
      "metadata": {
        "id": "vw0iamzopl0i"
      }
    },
    {
      "cell_type": "markdown",
      "source": [
        "### Observations\n",
        "\n",
        "From just observing the attention pattern of H0.0 on a few examples, we can immediately notice an interesting pattern.\n",
        "\n",
        "It seems as though there are high attention scores between repeated words. I.e. the attention score $A_{i,j}^{0.0}$ is high if the tokens in the $i^{th}$ and $j^{th}$ position are the same.\n",
        "\n",
        "Notice this pattern in the subsequent examples:"
      ],
      "metadata": {
        "id": "1LVY_eXdZ0gg"
      }
    },
    {
      "cell_type": "code",
      "source": [
        "dataset = PalindromeDataset(size=100, max_value=30, half_length=10)\n",
        "\n",
        "toks, is_palindrome = dataset[:100]\n",
        "logits, cache = model.run_with_cache(toks[:5])\n",
        "probs = logits[:, -1].softmax(-1)[:, 1]\n",
        "\n",
        "layer = 0\n",
        "head  = 0\n",
        "\n",
        "for batch_idx in [1, 2, 3]:\n",
        "  display_seq(dataset.toks[batch_idx], probs_palindrome[batch_idx])\n",
        "\n",
        "  display(cv.attention.attention_patterns(\n",
        "      attention = cache[\"pattern\", layer][batch_idx][head].unsqueeze(0),\n",
        "      tokens = dataset.str_toks[batch_idx],\n",
        "      attention_head_names = [f\"{layer}.{head}\"],\n",
        "  ))"
      ],
      "metadata": {
        "colab": {
          "base_uri": "https://localhost:8080/",
          "height": 1000
        },
        "id": "jire_1x8Z6qb",
        "outputId": "cb4d52b7-7868-41ee-f1fc-e1b73d0697bf"
      },
      "execution_count": 7,
      "outputs": [
        {
          "output_type": "display_data",
          "data": {
            "text/plain": [
              "START |\u001b[1;37m30\u001b[0m|\u001b[1;37m02\u001b[0m|\u001b[1;37m20\u001b[0m|\u001b[1;37m18\u001b[0m|\u001b[1;37m29\u001b[0m|\u001b[1;37m08\u001b[0m|\u001b[1;37m04\u001b[0m|\u001b[1;37m10\u001b[0m|\u001b[1;37m13\u001b[0m|\u001b[1;37m12\u001b[0m|\u001b[1;37m12\u001b[0m|\u001b[1;37m13\u001b[0m|\u001b[1;37m10\u001b[0m|\u001b[1;37m04\u001b[0m|\u001b[1;37m08\u001b[0m|\u001b[1;37m29\u001b[0m|\u001b[1;37m18\u001b[0m|\u001b[1;37m20\u001b[0m|\u001b[1;37m02\u001b[0m|\u001b[1;37m30\u001b[0m| END  ->  \u001b[1;36m0.995\u001b[0m\n"
            ],
            "text/html": [
              "<pre style=\"white-space:pre;overflow-x:auto;line-height:normal;font-family:Menlo,'DejaVu Sans Mono',consolas,'Courier New',monospace\">START |<span style=\"color: #c0c0c0; text-decoration-color: #c0c0c0; font-weight: bold\">30</span>|<span style=\"color: #c0c0c0; text-decoration-color: #c0c0c0; font-weight: bold\">02</span>|<span style=\"color: #c0c0c0; text-decoration-color: #c0c0c0; font-weight: bold\">20</span>|<span style=\"color: #c0c0c0; text-decoration-color: #c0c0c0; font-weight: bold\">18</span>|<span style=\"color: #c0c0c0; text-decoration-color: #c0c0c0; font-weight: bold\">29</span>|<span style=\"color: #c0c0c0; text-decoration-color: #c0c0c0; font-weight: bold\">08</span>|<span style=\"color: #c0c0c0; text-decoration-color: #c0c0c0; font-weight: bold\">04</span>|<span style=\"color: #c0c0c0; text-decoration-color: #c0c0c0; font-weight: bold\">10</span>|<span style=\"color: #c0c0c0; text-decoration-color: #c0c0c0; font-weight: bold\">13</span>|<span style=\"color: #c0c0c0; text-decoration-color: #c0c0c0; font-weight: bold\">12</span>|<span style=\"color: #c0c0c0; text-decoration-color: #c0c0c0; font-weight: bold\">12</span>|<span style=\"color: #c0c0c0; text-decoration-color: #c0c0c0; font-weight: bold\">13</span>|<span style=\"color: #c0c0c0; text-decoration-color: #c0c0c0; font-weight: bold\">10</span>|<span style=\"color: #c0c0c0; text-decoration-color: #c0c0c0; font-weight: bold\">04</span>|<span style=\"color: #c0c0c0; text-decoration-color: #c0c0c0; font-weight: bold\">08</span>|<span style=\"color: #c0c0c0; text-decoration-color: #c0c0c0; font-weight: bold\">29</span>|<span style=\"color: #c0c0c0; text-decoration-color: #c0c0c0; font-weight: bold\">18</span>|<span style=\"color: #c0c0c0; text-decoration-color: #c0c0c0; font-weight: bold\">20</span>|<span style=\"color: #c0c0c0; text-decoration-color: #c0c0c0; font-weight: bold\">02</span>|<span style=\"color: #c0c0c0; text-decoration-color: #c0c0c0; font-weight: bold\">30</span>| END  -&gt;  <span style=\"color: #008080; text-decoration-color: #008080; font-weight: bold\">0.995</span>\n",
              "</pre>\n"
            ]
          },
          "metadata": {}
        },
        {
          "output_type": "display_data",
          "data": {
            "text/plain": [
              "<circuitsvis.utils.render.RenderedHTML at 0x7afda773a980>"
            ],
            "text/html": [
              "<div id=\"circuits-vis-30a733b8-2f9e\" style=\"margin: 15px 0;\"/>\n",
              "    <script crossorigin type=\"module\">\n",
              "    import { render, AttentionPatterns } from \"https://unpkg.com/circuitsvis@1.41.0/dist/cdn/esm.js\";\n",
              "    render(\n",
              "      \"circuits-vis-30a733b8-2f9e\",\n",
              "      AttentionPatterns,\n",
              "      {\"tokens\": [\"START\", \"30\", \"02\", \"20\", \"18\", \"29\", \"08\", \"04\", \"10\", \"13\", \"12\", \"12\", \"13\", \"10\", \"04\", \"08\", \"29\", \"18\", \"20\", \"02\", \"30\", \"END\"], \"attention\": [[[1.0, 0.0, 0.0, 0.0, 0.0, 0.0, 0.0, 0.0, 0.0, 0.0, 0.0, 0.0, 0.0, 0.0, 0.0, 0.0, 0.0, 0.0, 0.0, 0.0, 0.0, 0.0], [0.012026050128042698, 0.9879739284515381, 0.0, 0.0, 0.0, 0.0, 0.0, 0.0, 0.0, 0.0, 0.0, 0.0, 0.0, 0.0, 0.0, 0.0, 0.0, 0.0, 0.0, 0.0, 0.0, 0.0], [0.04868001863360405, 0.06931758671998978, 0.8820024728775024, 0.0, 0.0, 0.0, 0.0, 0.0, 0.0, 0.0, 0.0, 0.0, 0.0, 0.0, 0.0, 0.0, 0.0, 0.0, 0.0, 0.0, 0.0, 0.0], [0.012579960748553276, 0.10564620047807693, 0.00434299698099494, 0.87743079662323, 0.0, 0.0, 0.0, 0.0, 0.0, 0.0, 0.0, 0.0, 0.0, 0.0, 0.0, 0.0, 0.0, 0.0, 0.0, 0.0, 0.0, 0.0], [0.029844293370842934, 0.011306259781122208, 0.00082057696999982, 0.030017754063010216, 0.9280111193656921, 0.0, 0.0, 0.0, 0.0, 0.0, 0.0, 0.0, 0.0, 0.0, 0.0, 0.0, 0.0, 0.0, 0.0, 0.0, 0.0, 0.0], [0.015574848279356956, 0.005450821481645107, 0.03969031199812889, 0.010689347982406616, 0.030818896368145943, 0.8977758288383484, 0.0, 0.0, 0.0, 0.0, 0.0, 0.0, 0.0, 0.0, 0.0, 0.0, 0.0, 0.0, 0.0, 0.0, 0.0, 0.0], [0.0005300634074956179, 0.0010934242745861411, 0.0013544992543756962, 0.006362174171954393, 0.0021587959490716457, 0.0692693367600441, 0.9192315936088562, 0.0, 0.0, 0.0, 0.0, 0.0, 0.0, 0.0, 0.0, 0.0, 0.0, 0.0, 0.0, 0.0, 0.0, 0.0], [0.0029807877726852894, 0.0001472211442887783, 0.0032777332235127687, 0.0004608664312399924, 0.0031793341040611267, 0.011011995375156403, 0.003141077235341072, 0.9758008718490601, 0.0, 0.0, 0.0, 0.0, 0.0, 0.0, 0.0, 0.0, 0.0, 0.0, 0.0, 0.0, 0.0, 0.0], [0.0003547719679772854, 0.005601775832474232, 0.008896793238818645, 0.001055368920788169, 6.504373595817015e-05, 3.319470488349907e-05, 0.00016651891928631812, 1.8292214008397423e-05, 0.9838082194328308, 0.0, 0.0, 0.0, 0.0, 0.0, 0.0, 0.0, 0.0, 0.0, 0.0, 0.0, 0.0, 0.0], [0.027426602318882942, 0.0011221040040254593, 0.007928874343633652, 0.0007924390956759453, 0.001716089784167707, 0.0001105406045098789, 8.443213300779462e-05, 0.002126735867932439, 0.002194320084527135, 0.9564979076385498, 0.0, 0.0, 0.0, 0.0, 0.0, 0.0, 0.0, 0.0, 0.0, 0.0, 0.0, 0.0], [0.016018088907003403, 0.0005211333045735955, 2.414186019450426e-05, 0.001579909585416317, 0.025293299928307533, 6.619511259486899e-05, 0.000253785663517192, 0.0005713495193049312, 0.00011514635843923315, 0.03630613908171654, 0.9192508459091187, 0.0, 0.0, 0.0, 0.0, 0.0, 0.0, 0.0, 0.0, 0.0, 0.0, 0.0], [0.0027143394108861685, 1.5241760593198705e-05, 7.952920668685692e-07, 7.871917478041723e-05, 0.008833091706037521, 3.399491106392816e-05, 6.577622116310522e-05, 0.00046837894478812814, 5.996462641633116e-05, 0.008536162786185741, 0.7283111810684204, 0.2508823275566101, 0.0, 0.0, 0.0, 0.0, 0.0, 0.0, 0.0, 0.0, 0.0, 0.0], [0.007879874669015408, 2.8301099519012496e-05, 0.00026289228117093444, 3.466207272140309e-05, 0.0017897245706990361, 0.0003394450177438557, 0.00012530047388281673, 0.005465381313115358, 0.0017835241742432117, 0.6003921031951904, 0.04152602329850197, 0.0205366387963295, 0.3198361396789551, 0.0, 0.0, 0.0, 0.0, 0.0, 0.0, 0.0, 0.0, 0.0], [0.00011359817290212959, 0.0002415416674921289, 0.0002774345630314201, 0.00010901514178840443, 8.047185110626742e-05, 5.5794564104871824e-05, 0.00019267850439064205, 4.768831786350347e-05, 0.7333226203918457, 0.0031959014013409615, 0.00014011083112563938, 0.00013070319255348295, 0.0016353371320292354, 0.26045718789100647, 0.0, 0.0, 0.0, 0.0, 0.0, 0.0, 0.0, 0.0], [0.00035919054062105715, 1.1828348078779527e-06, 2.9038938009762205e-05, 7.26921916793799e-06, 0.0014982374850660563, 0.005926158744841814, 0.0010457843309268355, 0.7231249809265137, 0.000151696614921093, 0.013901236467063427, 0.007652281317859888, 0.003750503296032548, 0.008217000402510166, 0.00013307026529219002, 0.23420235514640808, 0.0, 0.0, 0.0, 0.0, 0.0, 0.0, 0.0], [0.0001807346270652488, 5.4626780183753e-05, 8.156080002663657e-05, 0.0007566639687865973, 0.002100677229464054, 0.08950135111808777, 0.6831005811691284, 0.0028420346789062023, 0.0015702033415436745, 0.0001832260750234127, 0.0018702519591897726, 0.0030493983067572117, 0.00042092971852980554, 0.0014515555230900645, 0.002258366672322154, 0.2105778008699417, 0.0, 0.0, 0.0, 0.0, 0.0, 0.0], [0.001513620838522911, 0.00014165423635859042, 0.0012823852011933923, 0.00018814789655152708, 0.005336516071110964, 0.5079739689826965, 0.08795548230409622, 0.037672992795705795, 0.0025128424167633057, 0.004579104948788881, 0.008660380728542805, 0.01129817869514227, 0.008448652923107147, 0.0022732780780643225, 0.027117813006043434, 0.04387727379798889, 0.24916768074035645, 0.0, 0.0, 0.0, 0.0, 0.0], [0.001088044955395162, 0.0002783859963528812, 2.182835669373162e-05, 0.00040098733734339476, 0.08298443257808685, 9.150909318123013e-05, 0.0003714550693985075, 0.004089615773409605, 0.0003272663161624223, 0.01267430279403925, 0.21835334599018097, 0.12831424176692963, 0.009524810127913952, 0.00034809057251550257, 0.004566686227917671, 0.0002933270297944546, 5.735959712183103e-05, 0.5362143516540527, 0.0, 0.0, 0.0, 0.0], [0.006916275713592768, 0.06722280383110046, 0.002626086352393031, 0.7398731112480164, 0.005147031508386135, 0.0001535699557280168, 0.00198341510258615, 4.788382284459658e-05, 0.0015886429464444518, 0.0001707206101855263, 0.001722911954857409, 0.0013099618954584002, 0.00010294872481608763, 0.0017927755834534764, 3.870984437526204e-05, 0.0016962015070021152, 0.00018425812595523894, 0.0041411807760596275, 0.16328153014183044, 0.0, 0.0, 0.0], [0.0006668910500593483, 0.02779902145266533, 0.07949940860271454, 0.001339493552222848, 4.3489439121913165e-05, 3.363953874213621e-05, 1.670304118306376e-05, 0.00030407344456762075, 0.0017752220155671239, 0.0010324495378881693, 1.9303979570395313e-06, 2.774198264887673e-06, 0.0003789891197811812, 0.0015053690876811743, 0.0002337292826268822, 1.0965942237817217e-05, 3.937443034374155e-05, 2.7629466785583645e-05, 0.0008271416882053018, 0.8844618201255798, 0.0, 0.0], [0.0001471444556955248, 0.8721514344215393, 0.0017982145072892308, 0.0025942453648895025, 3.8401623896788806e-05, 8.007149858713092e-07, 5.107619017508114e-06, 5.8990451634599594e-08, 2.1253979866742156e-05, 1.2952860970472102e-06, 1.0969471304633771e-06, 3.6587609884009e-06, 1.1594537454584497e-06, 2.9817732865922153e-05, 1.4667992331851565e-07, 9.272008355765138e-06, 2.643908601385192e-06, 2.0039957234985195e-05, 0.0016415895661339164, 0.0010715594980865717, 0.12046109884977341, 0.0], [0.031463801860809326, 0.0014718737220391631, 0.0003586158563848585, 0.00010515045141801238, 0.016805600374937057, 0.0005152223166078329, 0.000181749026523903, 0.0057794214226305485, 0.0003935902495868504, 0.2036949247121811, 0.2812766432762146, 0.2179606854915619, 0.1479058563709259, 0.0004014836740680039, 0.007738211657851934, 0.00034074095310643315, 0.0006011559162288904, 0.01312674954533577, 0.00010474719601916149, 0.0003323119308333844, 0.0008022791589610279, 0.06863920390605927]]], \"headLabels\": [\"0.0\"]}\n",
              "    )\n",
              "    </script>"
            ]
          },
          "metadata": {}
        },
        {
          "output_type": "display_data",
          "data": {
            "text/plain": [
              "START |\u001b[1;38;5;208m30\u001b[0m|\u001b[1;37m22\u001b[0m|\u001b[1;37m22\u001b[0m|\u001b[1;37m00\u001b[0m|\u001b[1;37m28\u001b[0m|\u001b[1;37m01\u001b[0m|\u001b[1;37m00\u001b[0m|\u001b[1;38;5;208m09\u001b[0m|\u001b[1;37m23\u001b[0m|\u001b[1;37m27\u001b[0m|\u001b[1;37m27\u001b[0m|\u001b[1;37m23\u001b[0m|\u001b[1;38;5;208m30\u001b[0m|\u001b[1;37m00\u001b[0m|\u001b[1;37m01\u001b[0m|\u001b[1;37m28\u001b[0m|\u001b[1;37m00\u001b[0m|\u001b[1;37m22\u001b[0m|\u001b[1;37m22\u001b[0m|\u001b[1;38;5;208m23\u001b[0m| END  ->  \u001b[1;36m0.000\u001b[0m\n"
            ],
            "text/html": [
              "<pre style=\"white-space:pre;overflow-x:auto;line-height:normal;font-family:Menlo,'DejaVu Sans Mono',consolas,'Courier New',monospace\">START |<span style=\"color: #ff8700; text-decoration-color: #ff8700; font-weight: bold\">30</span>|<span style=\"color: #c0c0c0; text-decoration-color: #c0c0c0; font-weight: bold\">22</span>|<span style=\"color: #c0c0c0; text-decoration-color: #c0c0c0; font-weight: bold\">22</span>|<span style=\"color: #c0c0c0; text-decoration-color: #c0c0c0; font-weight: bold\">00</span>|<span style=\"color: #c0c0c0; text-decoration-color: #c0c0c0; font-weight: bold\">28</span>|<span style=\"color: #c0c0c0; text-decoration-color: #c0c0c0; font-weight: bold\">01</span>|<span style=\"color: #c0c0c0; text-decoration-color: #c0c0c0; font-weight: bold\">00</span>|<span style=\"color: #ff8700; text-decoration-color: #ff8700; font-weight: bold\">09</span>|<span style=\"color: #c0c0c0; text-decoration-color: #c0c0c0; font-weight: bold\">23</span>|<span style=\"color: #c0c0c0; text-decoration-color: #c0c0c0; font-weight: bold\">27</span>|<span style=\"color: #c0c0c0; text-decoration-color: #c0c0c0; font-weight: bold\">27</span>|<span style=\"color: #c0c0c0; text-decoration-color: #c0c0c0; font-weight: bold\">23</span>|<span style=\"color: #ff8700; text-decoration-color: #ff8700; font-weight: bold\">30</span>|<span style=\"color: #c0c0c0; text-decoration-color: #c0c0c0; font-weight: bold\">00</span>|<span style=\"color: #c0c0c0; text-decoration-color: #c0c0c0; font-weight: bold\">01</span>|<span style=\"color: #c0c0c0; text-decoration-color: #c0c0c0; font-weight: bold\">28</span>|<span style=\"color: #c0c0c0; text-decoration-color: #c0c0c0; font-weight: bold\">00</span>|<span style=\"color: #c0c0c0; text-decoration-color: #c0c0c0; font-weight: bold\">22</span>|<span style=\"color: #c0c0c0; text-decoration-color: #c0c0c0; font-weight: bold\">22</span>|<span style=\"color: #ff8700; text-decoration-color: #ff8700; font-weight: bold\">23</span>| END  -&gt;  <span style=\"color: #008080; text-decoration-color: #008080; font-weight: bold\">0.000</span>\n",
              "</pre>\n"
            ]
          },
          "metadata": {}
        },
        {
          "output_type": "display_data",
          "data": {
            "text/plain": [
              "<circuitsvis.utils.render.RenderedHTML at 0x7afda7739c90>"
            ],
            "text/html": [
              "<div id=\"circuits-vis-8d314071-f557\" style=\"margin: 15px 0;\"/>\n",
              "    <script crossorigin type=\"module\">\n",
              "    import { render, AttentionPatterns } from \"https://unpkg.com/circuitsvis@1.41.0/dist/cdn/esm.js\";\n",
              "    render(\n",
              "      \"circuits-vis-8d314071-f557\",\n",
              "      AttentionPatterns,\n",
              "      {\"tokens\": [\"START\", \"30\", \"22\", \"22\", \"00\", \"28\", \"01\", \"00\", \"09\", \"23\", \"27\", \"27\", \"23\", \"30\", \"00\", \"01\", \"28\", \"00\", \"22\", \"22\", \"23\", \"END\"], \"attention\": [[[1.0, 0.0, 0.0, 0.0, 0.0, 0.0, 0.0, 0.0, 0.0, 0.0, 0.0, 0.0, 0.0, 0.0, 0.0, 0.0, 0.0, 0.0, 0.0, 0.0, 0.0, 0.0], [0.012026050128042698, 0.9879739284515381, 0.0, 0.0, 0.0, 0.0, 0.0, 0.0, 0.0, 0.0, 0.0, 0.0, 0.0, 0.0, 0.0, 0.0, 0.0, 0.0, 0.0, 0.0, 0.0, 0.0], [0.010186062194406986, 0.011955156922340393, 0.9778587222099304, 0.0, 0.0, 0.0, 0.0, 0.0, 0.0, 0.0, 0.0, 0.0, 0.0, 0.0, 0.0, 0.0, 0.0, 0.0, 0.0, 0.0, 0.0, 0.0], [0.0058303275145590305, 0.0044002230279147625, 0.04373873770236969, 0.9460307359695435, 0.0, 0.0, 0.0, 0.0, 0.0, 0.0, 0.0, 0.0, 0.0, 0.0, 0.0, 0.0, 0.0, 0.0, 0.0, 0.0, 0.0, 0.0], [0.0041765086352825165, 0.003072932828217745, 0.009863350540399551, 0.007646659389138222, 0.9752405881881714, 0.0, 0.0, 0.0, 0.0, 0.0, 0.0, 0.0, 0.0, 0.0, 0.0, 0.0, 0.0, 0.0, 0.0, 0.0, 0.0, 0.0], [0.0011957533424720168, 6.651494913967326e-05, 0.001620963797904551, 0.0017082690028473735, 0.016736425459384918, 0.9786721467971802, 0.0, 0.0, 0.0, 0.0, 0.0, 0.0, 0.0, 0.0, 0.0, 0.0, 0.0, 0.0, 0.0, 0.0, 0.0, 0.0], [0.0002235383726656437, 1.2062791938660666e-05, 0.0007779932930134237, 0.0016854825662449002, 0.0020899721421301365, 0.015091950073838234, 0.980118989944458, 0.0, 0.0, 0.0, 0.0, 0.0, 0.0, 0.0, 0.0, 0.0, 0.0, 0.0, 0.0, 0.0, 0.0, 0.0], [0.000901509658433497, 0.0021580674219876528, 0.002050376031547785, 0.006034746766090393, 0.158357173204422, 0.0270791407674551, 0.026811685413122177, 0.7766072750091553, 0.0, 0.0, 0.0, 0.0, 0.0, 0.0, 0.0, 0.0, 0.0, 0.0, 0.0, 0.0, 0.0, 0.0], [0.00018507159256841987, 0.0009129342506639659, 0.015133850276470184, 0.0015729242004454136, 0.0016313147498294711, 0.003161707427352667, 0.004761718213558197, 0.0059570856392383575, 0.9666833877563477, 0.0, 0.0, 0.0, 0.0, 0.0, 0.0, 0.0, 0.0, 0.0, 0.0, 0.0, 0.0, 0.0], [0.03707650303840637, 0.0012870783684775233, 0.0456245094537735, 0.26142439246177673, 0.00201202230527997, 0.012995889410376549, 0.002431184984743595, 0.0006267224089242518, 0.001566865830682218, 0.6349548101425171, 0.0, 0.0, 0.0, 0.0, 0.0, 0.0, 0.0, 0.0, 0.0, 0.0, 0.0, 0.0], [0.006115925032645464, 0.0018514265539124608, 0.003779185237362981, 0.009785989299416542, 9.532953299640212e-06, 1.1335495400999207e-05, 4.2963085434166715e-05, 1.0310465086149634e-06, 1.355249696644023e-05, 0.01035416778177023, 0.9680348634719849, 0.0, 0.0, 0.0, 0.0, 0.0, 0.0, 0.0, 0.0, 0.0, 0.0, 0.0], [0.0026085255667567253, 9.98343457467854e-05, 0.00038771791150793433, 0.0010064932284876704, 1.1784643902501557e-05, 1.2760273421008606e-05, 1.2237484042998403e-05, 2.044768962150556e-06, 1.4994408047641627e-05, 0.012654152698814869, 0.5644612908363342, 0.41872817277908325, 0.0, 0.0, 0.0, 0.0, 0.0, 0.0, 0.0, 0.0, 0.0, 0.0], [0.008097532205283642, 2.481352748873178e-05, 0.0037343096919357777, 0.006887324620038271, 0.004495605360716581, 0.018109504133462906, 0.0025295731611549854, 0.0032156198285520077, 0.004094447009265423, 0.5446145534515381, 0.049116041511297226, 0.039518240839242935, 0.3155623972415924, 0.0, 0.0, 0.0, 0.0, 0.0, 0.0, 0.0, 0.0, 0.0], [0.0035037361085414886, 0.06667819619178772, 0.001736211939714849, 0.0007639209507033229, 0.0011706608347594738, 0.0003909475344698876, 5.497553138411604e-05, 0.0005313370493240654, 0.00853029265999794, 0.0012659333879128098, 0.03735358640551567, 0.04629163816571236, 0.0006063376786187291, 0.8311221599578857, 0.0, 0.0, 0.0, 0.0, 0.0, 0.0, 0.0, 0.0], [0.0001147620496340096, 2.0993067664676346e-05, 8.885528950486332e-05, 0.00014809616550337523, 0.08292601257562637, 0.012382283806800842, 0.005091121885925531, 0.6137623190879822, 0.007480103988200426, 0.0006771606276743114, 1.0523040145926643e-05, 9.361287084175274e-06, 0.0006453635287471116, 0.00010908207332249731, 0.27653396129608154, 0.0, 0.0, 0.0, 0.0, 0.0, 0.0, 0.0], [8.420580707024783e-05, 9.836405752139399e-07, 0.00023221959418151528, 0.0003209249989595264, 0.003915400244295597, 0.013205149210989475, 0.6947964429855347, 0.021316060796380043, 0.0014255120186135173, 0.0008184675825759768, 3.914440094376914e-05, 5.263809362077154e-05, 0.00202906783670187, 1.4988926523074042e-05, 0.013352559879422188, 0.24839627742767334, 0.0, 0.0, 0.0, 0.0, 0.0, 0.0], [0.0010887021198868752, 1.8926990378531627e-05, 0.0004012352437712252, 0.00013266118185129017, 0.0471692755818367, 0.6976421475410461, 0.01803452894091606, 0.03825078904628754, 0.0040522473864257336, 0.0038992278277873993, 3.091705002589151e-05, 4.683653241954744e-05, 0.00638826796784997, 0.00010903870133915916, 0.032352130860090256, 0.008768854662775993, 0.14161421358585358, 0.0, 0.0, 0.0, 0.0, 0.0], [0.000537324754986912, 0.00029983860440552235, 0.0019206488505005836, 0.0006547350785695016, 0.15405356884002686, 0.07175352424383163, 0.0022276323288679123, 0.13722966611385345, 0.01623253896832466, 0.003649559337645769, 2.6287829314242117e-05, 3.3422966225771233e-05, 0.0037673357874155045, 0.000253877806244418, 0.11231384426355362, 0.0016809633234515786, 0.016955796629190445, 0.4764094352722168, 0.0, 0.0, 0.0, 0.0], [0.003320623654872179, 0.004068266600370407, 0.019506340846419334, 0.7127814888954163, 0.0029418712947517633, 0.0018969124648720026, 0.002759723924100399, 0.002326199086382985, 0.0005426660063676536, 0.00618413370102644, 0.00327239534817636, 0.0024699156638234854, 0.0037534842267632484, 0.0005035769427195191, 0.001777410157956183, 0.002403126796707511, 0.0013879159232601523, 0.0017390147550031543, 0.22636491060256958, 0.0, 0.0, 0.0], [0.004820035304874182, 0.21979454159736633, 0.1519167423248291, 0.13794557750225067, 0.002925471169874072, 0.00849432684481144, 0.0027428646571934223, 0.0008611473022028804, 0.009213699027895927, 0.003346850862726569, 0.005212308373302221, 0.009162490256130695, 0.0036367301363497972, 0.048658337444067, 0.001213866868056357, 0.0023485354613512754, 0.004089509602636099, 0.0026845054235309362, 0.21281658113002777, 0.16811592876911163, 0.0, 0.0], [0.01309153065085411, 0.08841801434755325, 0.35293105244636536, 0.11666757613420486, 0.02932349033653736, 0.018152058124542236, 0.01002096850425005, 0.010512853972613811, 0.008950777351856232, 0.014482289552688599, 0.0037221249658614397, 0.005192395765334368, 0.02689783088862896, 0.0030687926337122917, 0.020726986229419708, 0.023650888353586197, 0.03503045812249184, 0.02720034308731556, 0.11035848408937454, 0.015233217738568783, 0.06636782735586166, 0.0], [0.17420534789562225, 0.008149310946464539, 0.00468235881999135, 0.0009027689811773598, 0.03548211231827736, 0.06455617398023605, 0.001378172542899847, 0.002131075132638216, 0.0007071967120282352, 0.058559685945510864, 0.05189601331949234, 0.07840685546398163, 0.04471174627542496, 0.005629329010844231, 0.0029624036978930235, 0.00222439575009048, 0.05202396959066391, 0.023345304653048515, 0.0008302891510538757, 0.004322755616158247, 0.002858610125258565, 0.38003408908843994]]], \"headLabels\": [\"0.0\"]}\n",
              "    )\n",
              "    </script>"
            ]
          },
          "metadata": {}
        },
        {
          "output_type": "display_data",
          "data": {
            "text/plain": [
              "START |\u001b[1;37m18\u001b[0m|\u001b[1;37m20\u001b[0m|\u001b[1;37m21\u001b[0m|\u001b[1;37m28\u001b[0m|\u001b[1;37m05\u001b[0m|\u001b[1;37m13\u001b[0m|\u001b[1;37m21\u001b[0m|\u001b[1;37m01\u001b[0m|\u001b[1;37m08\u001b[0m|\u001b[1;37m16\u001b[0m|\u001b[1;37m16\u001b[0m|\u001b[1;37m08\u001b[0m|\u001b[1;37m01\u001b[0m|\u001b[1;37m21\u001b[0m|\u001b[1;37m13\u001b[0m|\u001b[1;37m05\u001b[0m|\u001b[1;37m28\u001b[0m|\u001b[1;37m21\u001b[0m|\u001b[1;37m20\u001b[0m|\u001b[1;37m18\u001b[0m| END  ->  \u001b[1;36m0.997\u001b[0m\n"
            ],
            "text/html": [
              "<pre style=\"white-space:pre;overflow-x:auto;line-height:normal;font-family:Menlo,'DejaVu Sans Mono',consolas,'Courier New',monospace\">START |<span style=\"color: #c0c0c0; text-decoration-color: #c0c0c0; font-weight: bold\">18</span>|<span style=\"color: #c0c0c0; text-decoration-color: #c0c0c0; font-weight: bold\">20</span>|<span style=\"color: #c0c0c0; text-decoration-color: #c0c0c0; font-weight: bold\">21</span>|<span style=\"color: #c0c0c0; text-decoration-color: #c0c0c0; font-weight: bold\">28</span>|<span style=\"color: #c0c0c0; text-decoration-color: #c0c0c0; font-weight: bold\">05</span>|<span style=\"color: #c0c0c0; text-decoration-color: #c0c0c0; font-weight: bold\">13</span>|<span style=\"color: #c0c0c0; text-decoration-color: #c0c0c0; font-weight: bold\">21</span>|<span style=\"color: #c0c0c0; text-decoration-color: #c0c0c0; font-weight: bold\">01</span>|<span style=\"color: #c0c0c0; text-decoration-color: #c0c0c0; font-weight: bold\">08</span>|<span style=\"color: #c0c0c0; text-decoration-color: #c0c0c0; font-weight: bold\">16</span>|<span style=\"color: #c0c0c0; text-decoration-color: #c0c0c0; font-weight: bold\">16</span>|<span style=\"color: #c0c0c0; text-decoration-color: #c0c0c0; font-weight: bold\">08</span>|<span style=\"color: #c0c0c0; text-decoration-color: #c0c0c0; font-weight: bold\">01</span>|<span style=\"color: #c0c0c0; text-decoration-color: #c0c0c0; font-weight: bold\">21</span>|<span style=\"color: #c0c0c0; text-decoration-color: #c0c0c0; font-weight: bold\">13</span>|<span style=\"color: #c0c0c0; text-decoration-color: #c0c0c0; font-weight: bold\">05</span>|<span style=\"color: #c0c0c0; text-decoration-color: #c0c0c0; font-weight: bold\">28</span>|<span style=\"color: #c0c0c0; text-decoration-color: #c0c0c0; font-weight: bold\">21</span>|<span style=\"color: #c0c0c0; text-decoration-color: #c0c0c0; font-weight: bold\">20</span>|<span style=\"color: #c0c0c0; text-decoration-color: #c0c0c0; font-weight: bold\">18</span>| END  -&gt;  <span style=\"color: #008080; text-decoration-color: #008080; font-weight: bold\">0.997</span>\n",
              "</pre>\n"
            ]
          },
          "metadata": {}
        },
        {
          "output_type": "display_data",
          "data": {
            "text/plain": [
              "<circuitsvis.utils.render.RenderedHTML at 0x7afda773b460>"
            ],
            "text/html": [
              "<div id=\"circuits-vis-e518421a-4b18\" style=\"margin: 15px 0;\"/>\n",
              "    <script crossorigin type=\"module\">\n",
              "    import { render, AttentionPatterns } from \"https://unpkg.com/circuitsvis@1.41.0/dist/cdn/esm.js\";\n",
              "    render(\n",
              "      \"circuits-vis-e518421a-4b18\",\n",
              "      AttentionPatterns,\n",
              "      {\"tokens\": [\"START\", \"18\", \"20\", \"21\", \"28\", \"05\", \"13\", \"21\", \"01\", \"08\", \"16\", \"16\", \"08\", \"01\", \"21\", \"13\", \"05\", \"28\", \"21\", \"20\", \"18\", \"END\"], \"attention\": [[[1.0, 0.0, 0.0, 0.0, 0.0, 0.0, 0.0, 0.0, 0.0, 0.0, 0.0, 0.0, 0.0, 0.0, 0.0, 0.0, 0.0, 0.0, 0.0, 0.0, 0.0, 0.0], [0.09603554755449295, 0.9039645195007324, 0.0, 0.0, 0.0, 0.0, 0.0, 0.0, 0.0, 0.0, 0.0, 0.0, 0.0, 0.0, 0.0, 0.0, 0.0, 0.0, 0.0, 0.0, 0.0, 0.0], [0.012089184485375881, 0.15029379725456238, 0.837617039680481, 0.0, 0.0, 0.0, 0.0, 0.0, 0.0, 0.0, 0.0, 0.0, 0.0, 0.0, 0.0, 0.0, 0.0, 0.0, 0.0, 0.0, 0.0, 0.0], [0.0009611645946279168, 0.0041559115052223206, 0.00537383696064353, 0.989509105682373, 0.0, 0.0, 0.0, 0.0, 0.0, 0.0, 0.0, 0.0, 0.0, 0.0, 0.0, 0.0, 0.0, 0.0, 0.0, 0.0, 0.0, 0.0], [0.0033761519007384777, 0.002216770313680172, 0.000699003110639751, 6.515300628961995e-05, 0.9936429262161255, 0.0, 0.0, 0.0, 0.0, 0.0, 0.0, 0.0, 0.0, 0.0, 0.0, 0.0, 0.0, 0.0, 0.0, 0.0, 0.0, 0.0], [0.005441717803478241, 0.005307289771735668, 0.1526484489440918, 0.011849988251924515, 0.0004209144099149853, 0.8243317008018494, 0.0, 0.0, 0.0, 0.0, 0.0, 0.0, 0.0, 0.0, 0.0, 0.0, 0.0, 0.0, 0.0, 0.0, 0.0, 0.0], [0.001417507417500019, 8.54023382999003e-05, 8.054768113652244e-05, 0.004061776679009199, 0.0014773478033021092, 0.0018138434970751405, 0.9910634756088257, 0.0, 0.0, 0.0, 0.0, 0.0, 0.0, 0.0, 0.0, 0.0, 0.0, 0.0, 0.0, 0.0, 0.0, 0.0], [2.539358138164971e-05, 0.0008130156202241778, 0.0031007672660052776, 0.25846198201179504, 1.2950431482749991e-05, 0.0015925003681331873, 0.0009126825607381761, 0.7350807785987854, 0.0, 0.0, 0.0, 0.0, 0.0, 0.0, 0.0, 0.0, 0.0, 0.0, 0.0, 0.0, 0.0, 0.0], [0.001104240887798369, 0.00019680839614011347, 0.00040185413672588766, 0.000497537141200155, 0.00595412403345108, 0.007665675599128008, 0.057943299412727356, 0.001332707004621625, 0.9249038696289062, 0.0, 0.0, 0.0, 0.0, 0.0, 0.0, 0.0, 0.0, 0.0, 0.0, 0.0, 0.0, 0.0], [0.04236886277794838, 0.01959877274930477, 0.06720183044672012, 0.0025281081907451153, 0.008826280012726784, 0.189862459897995, 0.0006634821183979511, 0.00026858359342440963, 0.005118809174746275, 0.6635628938674927, 0.0, 0.0, 0.0, 0.0, 0.0, 0.0, 0.0, 0.0, 0.0, 0.0, 0.0, 0.0], [0.03064897283911705, 0.005140293855220079, 0.0045553273521363735, 0.35647135972976685, 0.002700364449992776, 0.009111541323363781, 0.06734480708837509, 0.010811805725097656, 0.0035400798078626394, 0.001128072151914239, 0.5085473656654358, 0.0, 0.0, 0.0, 0.0, 0.0, 0.0, 0.0, 0.0, 0.0, 0.0, 0.0], [0.01251133345067501, 0.0006011045770719647, 0.000282120454357937, 0.02439679577946663, 0.0021959750447422266, 0.0009241859661415219, 0.022737400606274605, 0.00327929831109941, 0.0024579553864896297, 0.0011547815520316362, 0.6487916707992554, 0.28066733479499817, 0.0, 0.0, 0.0, 0.0, 0.0, 0.0, 0.0, 0.0, 0.0, 0.0], [0.011199647560715675, 0.0018518168944865465, 0.004128389526158571, 0.00013347878120839596, 0.01061947550624609, 0.02550181746482849, 0.0007956995978020132, 0.00016011419938877225, 0.021031007170677185, 0.6183016300201416, 0.0003828907501883805, 0.0007448822143487632, 0.3051491379737854, 0.0, 0.0, 0.0, 0.0, 0.0, 0.0, 0.0, 0.0, 0.0], [0.00030607389635406435, 2.633033182064537e-05, 3.7229656300041825e-05, 3.9652913983445615e-05, 0.004179691895842552, 0.001268200110644102, 0.019283076748251915, 0.0005580234574154019, 0.7046746015548706, 0.021587152034044266, 0.0017310905968770385, 0.0026074526831507683, 0.023674553260207176, 0.22002682089805603, 0.0, 0.0, 0.0, 0.0, 0.0, 0.0, 0.0, 0.0], [3.630726132541895e-05, 0.0003533917188178748, 0.0009038666030392051, 0.04378319904208183, 4.999752854928374e-05, 0.0011118707479909062, 0.002152565633878112, 0.6471396088600159, 0.0014088363386690617, 0.0001509958819951862, 0.003887418657541275, 0.0020385533571243286, 0.0001381550682708621, 0.0009448950295336545, 0.2959003150463104, 0.0, 0.0, 0.0, 0.0, 0.0, 0.0, 0.0], [0.0008139536948874593, 3.437135455897078e-05, 3.9987953641684726e-05, 0.0013198046945035458, 0.002179078059270978, 0.0012666143011301756, 0.6140214800834656, 0.0023882819805294275, 0.09573174268007278, 0.0014725871151313186, 0.0206261295825243, 0.016316043213009834, 0.0019818274304270744, 0.05310824140906334, 0.0017117379466071725, 0.18698818981647491, 0.0, 0.0, 0.0, 0.0, 0.0, 0.0], [0.00536308204755187, 0.002042157109826803, 0.04629393666982651, 0.002115456620231271, 0.0009526120848022401, 0.5562507510185242, 0.003587754676118493, 0.0028780056163668633, 0.00597359798848629, 0.03286190330982208, 0.0011460899841040373, 0.002367371693253517, 0.03816109523177147, 0.006161756347864866, 0.004104691091924906, 0.004248426295816898, 0.28549134731292725, 0.0, 0.0, 0.0, 0.0, 0.0], [0.0002466290316078812, 0.00039460475090891123, 3.3908014302141964e-05, 3.4782754028128693e-06, 0.1643027365207672, 2.267818672407884e-06, 0.0008983496809378266, 8.440726560365874e-06, 0.0008440313395112753, 0.0002231860999017954, 0.00011655598791548982, 0.00019988995336461812, 0.00033936614636331797, 0.0008356181206181645, 8.94642471394036e-06, 0.0004794260021299124, 2.4997325454023667e-06, 0.831059992313385, 0.0, 0.0, 0.0, 0.0], [0.0005322073702700436, 0.0011808831477537751, 0.002811872400343418, 0.5607619881629944, 0.00010126101551577449, 0.002686969004571438, 0.0013933683512732387, 0.19038216769695282, 0.00028293003560975194, 0.00025798901333473623, 0.014832775108516216, 0.0053980713710188866, 0.00016872015839908272, 0.00030249322298914194, 0.09420626610517502, 0.0009597514872439206, 0.0021757548674941063, 0.00010477431351318955, 0.12145981937646866, 0.0, 0.0, 0.0], [0.0024617104791104794, 0.06281054019927979, 0.23825950920581818, 0.00942163448780775, 0.000846962328068912, 0.02457265742123127, 0.0001253344671567902, 0.0034731344785541296, 9.445203431823757e-06, 0.0014622992603108287, 0.00028796042897738516, 0.0005188923678360879, 0.000960764242336154, 1.6512112779309973e-05, 0.004350499249994755, 0.00010685322195058689, 0.008893361315131187, 0.0010715973330661654, 0.010851604864001274, 0.6294987201690674, 0.0, 0.0], [0.006067595444619656, 0.3286229372024536, 0.3550666272640228, 0.0018057754496112466, 0.012028725817799568, 0.010122650302946568, 0.0001228215842274949, 0.0015559284947812557, 0.00011871862807311118, 0.008139016106724739, 9.324812708655372e-05, 0.00019849507953040302, 0.008197454735636711, 0.0002462468110024929, 0.003192621748894453, 0.00022699394321534783, 0.012035656720399857, 0.015467598102986813, 0.0026669197250157595, 0.1550114005804062, 0.07901261001825333, 0.0], [0.14986853301525116, 0.025095736607909203, 0.00252495682798326, 8.115988748613745e-05, 0.1348043978214264, 0.0024946825578808784, 0.015866978093981743, 2.9505830752896145e-05, 0.0062208278104662895, 0.11633481830358505, 0.0013393916888162494, 0.002240723231807351, 0.06787355989217758, 0.005736975930631161, 5.0515387556515634e-05, 0.022861212491989136, 0.0028946867678314447, 0.1030161902308464, 9.607681568013504e-05, 0.0022812476381659508, 0.011345230974256992, 0.3269426226615906]]], \"headLabels\": [\"0.0\"]}\n",
              "    )\n",
              "    </script>"
            ]
          },
          "metadata": {}
        }
      ]
    },
    {
      "cell_type": "markdown",
      "source": [
        "### The embed circuit\n",
        "\n",
        "Let's examine the circuit $W_{emb} W_{QK}^{0.0} W_{emb}^T$.\n",
        "\n",
        "If we have two tokens $a$ and $b$ (represented as one-hot encoding column vectors), this matrix determines the attention in H0.0 between these tokens:\n",
        "$$a^T W_{emb} W_{QK}^{0.0} W_{emb}^T b$$\n",
        "\n",
        "We expect this circuit to be approximate the identity matrix, as the attention score seems to be high exactly when $a=b$.\n",
        "\n",
        "Let's compute the circuit explicitly, and check that it resembles the identity matrix:"
      ],
      "metadata": {
        "id": "C-nkvXuecYE5"
      }
    },
    {
      "cell_type": "code",
      "source": [
        "def mask_scores(attn_scores):\n",
        "    '''\n",
        "    Helper function to mask the attention scores so that\n",
        "    tokens don't attend to previous tokens.\n",
        "    '''\n",
        "    mask = t.tril(t.ones_like(attn_scores)).bool()\n",
        "    neg_inf = t.tensor(-1.0e6).to(attn_scores.device)\n",
        "    masked_attn_scores = t.where(mask, attn_scores, neg_inf)\n",
        "    return masked_attn_scores"
      ],
      "metadata": {
        "id": "g2WaqXAI13fO"
      },
      "execution_count": 8,
      "outputs": []
    },
    {
      "cell_type": "code",
      "source": [
        "W_Q_0_0 = model.W_Q[0, 0] # (d_model, d_head)\n",
        "W_K_0_0 = model.W_K[0, 0] # (d_model, d_head)\n",
        "\n",
        "W_E = model.W_E # (vocab_size, d_model)\n",
        "\n",
        "# approximate the L0 LayerNorm as a constant scaling factor\n",
        "W_E_scaled = W_E / cache[\"scale\", 0, \"ln1\"].mean()\n",
        "\n",
        "W_QK = W_Q_0_0 @ W_K_0_0.T\n",
        "\n",
        "token_by_token = W_E_scaled @ W_QK @ W_E_scaled.T # (vocab_size, vocab_size)\n",
        "token_by_token = token_by_token / model.cfg.d_head**0.5\n",
        "\n",
        "circuit_QK_0_0 = t.softmax(token_by_token, dim=-1)\n",
        "\n",
        "display(\n",
        "    imshow(\n",
        "      circuit_QK_0_0,\n",
        "      title=f\"Head 0.0 QK circuit (embed)\",\n",
        "      labels={\"x\": \"Vocab\", \"y\": \"Vocab\", \"color\": \"QK weight\"},\n",
        "      width=700,\n",
        "      height=700\n",
        "    )\n",
        ")"
      ],
      "metadata": {
        "id": "Cw43vucEaaud",
        "colab": {
          "base_uri": "https://localhost:8080/",
          "height": 734
        },
        "outputId": "1734adcf-dffa-4579-bbb5-c02b9914881c"
      },
      "execution_count": 9,
      "outputs": [
        {
          "output_type": "display_data",
          "data": {
            "text/html": [
              "<html>\n",
              "<head><meta charset=\"utf-8\" /></head>\n",
              "<body>\n",
              "    <div>            <script src=\"https://cdnjs.cloudflare.com/ajax/libs/mathjax/2.7.5/MathJax.js?config=TeX-AMS-MML_SVG\"></script><script type=\"text/javascript\">if (window.MathJax && window.MathJax.Hub && window.MathJax.Hub.Config) {window.MathJax.Hub.Config({SVG: {font: \"STIX-Web\"}});}</script>                <script type=\"text/javascript\">window.PlotlyConfig = {MathJaxConfig: 'local'};</script>\n",
              "        <script charset=\"utf-8\" src=\"https://cdn.plot.ly/plotly-2.24.1.min.js\"></script>                <div id=\"217929d4-692a-47aa-979a-8a2c4f343093\" class=\"plotly-graph-div\" style=\"height:700px; width:700px;\"></div>            <script type=\"text/javascript\">                                    window.PLOTLYENV=window.PLOTLYENV || {};                                    if (document.getElementById(\"217929d4-692a-47aa-979a-8a2c4f343093\")) {                    Plotly.newPlot(                        \"217929d4-692a-47aa-979a-8a2c4f343093\",                        [{\"coloraxis\":\"coloraxis\",\"name\":\"0\",\"z\":[[0.4815264046192169,0.02158459648489952,0.0002823177201207727,0.0697873905301094,0.004235248547047377,0.0007497580372728407,0.007494581397622824,0.0018596886657178402,0.01531312894076109,0.029269101098179817,0.0019230833277106285,0.01763111539185047,0.0636473149061203,0.0007137796492315829,0.0031453967094421387,0.026091327890753746,0.0021226019598543644,0.05292108654975891,0.008610541000962257,0.015124845318496227,0.016641657799482346,0.001573001267388463,0.018259724602103233,0.007505604065954685,0.04128596931695938,0.010829458013176918,0.005871766712516546,0.0003297181974630803,0.041543226689100266,0.0055147809907794,0.002264220966026187,0.012670542113482952,0.0116769690066576],[0.023567505180835724,0.4446289539337158,0.0010214956710115075,0.005372207146137953,0.02652559243142605,0.0060987286269664764,0.00838733371347189,0.0011873914627358317,0.03274264186620712,0.005484588909894228,0.0004977948265150189,0.0020957584492862225,0.05780931934714317,0.0193476565182209,0.0024550994858145714,0.05573299154639244,0.011345562525093555,0.003301669145002961,0.0031678450759500265,0.0017971794586628675,0.0009673796012066305,0.0005201231106184423,0.0061457292176783085,0.03068622015416622,0.0007790196686983109,0.016238903626799583,0.0021319210063666105,0.004275043494999409,0.08411072194576263,0.1164606586098671,0.0004103121464140713,0.011380703188478947,0.013325952924787998],[0.00015264716057572514,0.0005987533368170261,0.6544057130813599,0.0016698192339390516,0.005721853580325842,0.03620530664920807,0.003070507664233446,0.006086238659918308,0.0010259862756356597,0.0007509354618377984,0.022006943821907043,0.009765706025063992,0.0001978366490220651,0.010487589053809643,0.020137682557106018,0.003944694995880127,0.02609766647219658,0.0016729338094592094,0.001565731130540371,0.012512587010860443,0.0036606050562113523,0.01966518722474575,0.0007088604616001248,0.0008361299405805767,0.0018843853613361716,0.0007544920081272721,0.05321645364165306,0.05175527185201645,0.0003896765992976725,0.005601107608526945,0.0394255630671978,0.0023472397588193417,0.0016778780845925212],[0.11692147701978683,0.005736136343330145,0.003299684263765812,0.3114570677280426,0.00799739919602871,0.0013774222461506724,0.009359782561659813,0.002326316200196743,0.008997585624456406,0.03480244055390358,0.0028076577000319958,0.0711432620882988,0.01594909094274044,0.0006711070891469717,0.011448487639427185,0.03241946920752525,0.003859679214656353,0.04798264428973198,0.015796272084116936,0.02349156141281128,0.02909502200782299,0.002899107988923788,0.01034130621701479,0.002111437264829874,0.03378164395689964,0.0018339831149205565,0.057251881808042526,0.0001957937638508156,0.06739919632673264,0.0033435660880059004,0.03243592754006386,0.017097534611821175,0.014369087293744087],[0.005125946365296841,0.0283899437636137,0.008473193272948265,0.008299256674945354,0.37808361649513245,0.0018838356481865048,0.05502600222826004,0.006827168632298708,0.004005777649581432,0.0036392242182046175,0.0022924013901501894,0.004805877339094877,0.030817441642284393,0.1787373572587967,0.025348763912916183,0.030002634972333908,0.01540661696344614,0.0019282686989754438,0.02149146981537342,0.000553106889128685,0.00043789236224256456,0.0011863313848152757,0.0011694959830492735,0.013699478469789028,0.00018902593001257628,0.01323804259300232,0.014967714436352253,0.013959827832877636,0.05681256577372551,0.028030188754200935,0.004531810060143471,0.013230396434664726,0.027409326285123825],[0.0005410633748397231,0.008977389894425869,0.06722338497638702,0.0008247961523011327,0.0017186638433486223,0.5289199948310852,0.0030947839841246605,0.006467793136835098,0.028262311592698097,0.00128535320982337,0.025508921593427658,0.0016123241512104869,0.0010491323191672564,0.012511024251580238,0.009588021785020828,0.0022431130055338144,0.0065848915837705135,0.008961359038949013,0.001454323180951178,0.05148356407880783,0.015379022806882858,0.02335660345852375,0.011037562973797321,0.00300948740914464,0.0119291627779603,0.00838648620992899,0.0021051988005638123,0.10378328710794449,0.0005127590266056359,0.025218540802598,0.018040664494037628,0.00462696747854352,0.004302002023905516],[0.0014091411139816046,0.0016962547088041902,0.0013067128602415323,0.0027531448286026716,0.008517193607985973,0.0014071856858208776,0.6545835137367249,0.008158111944794655,0.002227457705885172,0.000364459294360131,0.010087021626532078,0.00010328691132599488,0.019277792423963547,0.025629617273807526,0.003301822580397129,0.0007787368958815932,0.0006697186036035419,0.01070836279541254,0.004181255120784044,0.0014860702212899923,0.001679551787674427,0.0001427428360329941,0.003370503196492791,0.0028980213683098555,0.00016264365694951266,0.061886437237262726,0.0005917171947658062,0.025191601365804672,0.005185198504477739,8.355594036402181e-05,0.009245079010725021,0.10404849797487259,0.026867613196372986],[0.001687353476881981,0.0024909235071390867,0.005515603814274073,0.0024428237229585648,0.005958880297839642,0.004761835094541311,0.02508062869310379,0.4430304169654846,0.004163586534559727,0.030596455559134483,0.022330159321427345,0.003292521694675088,0.01697521284222603,0.050517987459897995,0.0023640457075089216,0.000385001243557781,0.009408173151314259,0.0015879832208156586,0.05167144164443016,0.000670606445055455,0.020843777805566788,0.07580839097499847,0.0415956974029541,0.06114133074879646,0.003979641478508711,0.03918939828872681,0.0009060014272108674,0.0368027538061142,0.006042922381311655,0.0006521633476950228,0.010696412064135075,0.010614606551826,0.006795322522521019],[0.038935337215662,0.09645421802997589,0.0038240428548306227,0.015010753646492958,0.005333019886165857,0.0756523385643959,0.011514898389577866,0.0057651880197227,0.18575170636177063,0.008099774830043316,0.009711474180221558,0.006367938593029976,0.036584772169589996,0.009938493371009827,0.011508147232234478,0.012456022202968597,0.004479975905269384,0.07803505659103394,0.008377606980502605,0.02434934675693512,0.02590516209602356,0.00824201013892889,0.059904396533966064,0.01885291002690792,0.047964226454496384,0.06293921172618866,0.0025302169378846884,0.01555518340319395,0.014091523364186287,0.05379784479737282,0.006694791838526726,0.018769804388284683,0.01660257577896118],[0.0524698831140995,0.017104439437389374,0.0019504824886098504,0.03451869636774063,0.012969153933227062,0.0019854556303471327,0.003172979224473238,0.03841349855065346,0.008498326875269413,0.32843077182769775,0.002308227587491274,0.06667624413967133,0.036638155579566956,0.005600708071142435,0.0028681475669145584,0.011038923636078835,0.014022325165569782,0.0026947043370455503,0.056030627340078354,0.0034820684231817722,0.02857011929154396,0.041707269847393036,0.028346577659249306,0.036036014556884766,0.020228778943419456,0.00389047316275537,0.009419204667210579,0.0007122782990336418,0.0927535817027092,0.010432598181068897,0.006975578144192696,0.007245414890348911,0.012808306142687798],[0.00075292878318578,0.0007892895373515785,0.043182700872421265,0.0017516004154458642,0.001534137292765081,0.040482886135578156,0.02328968234360218,0.03518058732151985,0.004911311902105808,0.0016414945712313056,0.33567526936531067,0.001580261392518878,0.0008622283930890262,0.012921134941279888,0.010596254840493202,0.0012910183286294341,0.008033827878534794,0.022003889083862305,0.003461515996605158,0.02943352982401848,0.015397755429148674,0.031123533844947815,0.02158430404961109,0.007469898089766502,0.019332487136125565,0.03324378654360771,0.00687539903447032,0.24283376336097717,0.00038195765228010714,0.000650412286631763,0.029339885339140892,0.008907674811780453,0.0034836430568248034],[0.0352478064596653,0.002013751771301031,0.010214405134320259,0.027755726128816605,0.007365280296653509,0.003064709482714534,0.001456461031921208,0.012452135793864727,0.005628333427011967,0.07082852721214294,0.0070262206718325615,0.39141640067100525,0.00893411599099636,0.002344566397368908,0.016277387738227844,0.010073400102555752,0.008329284377396107,0.007794402074068785,0.03508599102497101,0.00903217401355505,0.023958450183272362,0.06376837939023972,0.005320575088262558,0.008030621334910393,0.09313731640577316,0.002258388791233301,0.07088695466518402,0.0012576013104990125,0.013082416728138924,0.014092684723436832,0.013511436991393566,0.006694419775158167,0.011659614741802216],[0.08160776644945145,0.029058629646897316,0.00011958387040067464,0.015377878211438656,0.01772281341254711,0.0003593959263525903,0.07253365963697433,0.012474091723561287,0.011269064620137215,0.015498088672757149,0.000982615863904357,0.002187088830396533,0.380400687456131,0.012803852558135986,0.002080116653814912,0.004218948073685169,0.0016812130343168974,0.008697339333593845,0.03310331329703331,0.00043111597187817097,0.00445160735398531,0.0006612125434912741,0.01366447750478983,0.03414227440953255,0.0014941294211894274,0.06058202311396599,0.0006014796090312302,0.0016225134022533894,0.0983557403087616,0.0019364535110071301,0.0012415919918566942,0.045778244733810425,0.032860975712537766],[0.0004079071222804487,0.017722465097904205,0.007840635254979134,0.0004950349102728069,0.07585806399583817,0.005868171341717243,0.05327366292476654,0.024993306025862694,0.003968522883951664,0.0010399345774203539,0.004711800720542669,0.0004665741871576756,0.01383158564567566,0.4874194264411926,0.005575926974415779,0.0023074871860444546,0.009703448042273521,0.0005541144055314362,0.008580021560192108,0.00016593630425632,0.0003061516035813838,0.002273495541885495,0.0021171735133975744,0.029696878045797348,8.008736040210351e-05,0.049976639449596405,0.0010390254901722074,0.1505531221628189,0.006446634419262409,0.008974063210189342,0.0015567007940262556,0.009730945341289043,0.012465013191103935],[0.0066125956363976,0.005907723680138588,0.08244435489177704,0.02095429226756096,0.05963222309947014,0.028179354965686798,0.04080715775489807,0.008079749532043934,0.01246433611959219,0.0027109619695693254,0.04683490842580795,0.014525200240314007,0.00701150530949235,0.037197526544332504,0.1806914061307907,0.02547895349562168,0.014653017744421959,0.045303065329790115,0.02071075141429901,0.026595579460263252,0.006922356318682432,0.0091022290289402,0.004403081256896257,0.00468078488484025,0.011892735958099365,0.015884671360254288,0.0687202736735344,0.04967186599969864,0.007533568423241377,0.02297065779566765,0.0706157460808754,0.01695839688181877,0.023848969489336014],[0.035855453461408615,0.04101448133587837,0.011382821947336197,0.030267398804426193,0.043259505182504654,0.004148190375417471,0.007077720947563648,0.0004308565112296492,0.006783928256481886,0.004506759345531464,0.0038089663721621037,0.016864465549588203,0.0073438240215182304,0.0043436214327812195,0.02568191848695278,0.3876732885837555,0.03774607926607132,0.015424346551299095,0.0027246607933193445,0.021616069599986076,0.0015618294710293412,0.0008135118405334651,0.0016800034791231155,0.004909244365990162,0.003121424000710249,0.0019623367115855217,0.1436888873577118,0.00337312207557261,0.043930165469646454,0.06519987434148788,0.004474165849387646,0.008159225806593895,0.009171956218779087],[0.004185240250080824,0.022888371720910072,0.06970740109682083,0.005867501255124807,0.023392094299197197,0.009437229484319687,0.007618783973157406,0.023421503603458405,0.003782877931371331,0.014287819154560566,0.020709052681922913,0.015403490513563156,0.005790041759610176,0.02713913656771183,0.010300440713763237,0.05363459885120392,0.38444840908050537,0.002186542609706521,0.008094357326626778,0.0035988350864499807,0.005255034659057856,0.025371434167027473,0.008691786788403988,0.064931720495224,0.002180502749979496,0.005305089056491852,0.060826949775218964,0.05773468315601349,0.01880362257361412,0.022289317101240158,0.005262903403490782,0.005232897587120533,0.0022203573025763035],[0.030965246260166168,0.004013532306998968,0.003276452422142029,0.02743471972644329,0.0013478914042934775,0.020957935601472855,0.02657269686460495,0.002237333683297038,0.03796260431408882,0.001948572346009314,0.03191211819648743,0.0032556799706071615,0.008395000360906124,0.0013419489841908216,0.016562461853027344,0.004524689633399248,0.0006981503684073687,0.36029794812202454,0.004091751296073198,0.12196405231952667,0.03575001284480095,0.0024160267785191536,0.027199411764740944,0.0016375326085835695,0.10557889938354492,0.035139236599206924,0.004318848252296448,0.0064412448555231094,0.002595231169834733,0.002015745732933283,0.0281028114259243,0.02496958337724209,0.014074576087296009],[0.01937100850045681,0.007276623044162989,0.0029474287293851376,0.025588832795619965,0.05006449669599533,0.001991398399695754,0.045211657881736755,0.10709962993860245,0.008879476226866245,0.060307033360004425,0.00787742342799902,0.017395460978150368,0.08494248241186142,0.046762824058532715,0.015376719646155834,0.0035188356414437294,0.0066595119424164295,0.006433769594877958,0.18934737145900726,0.0011498788371682167,0.015042382292449474,0.021274039521813393,0.020553426817059517,0.03963401913642883,0.0069630201905965805,0.03083392046391964,0.0052647399716079235,0.0055676838383078575,0.06387092173099518,0.0037820639554411173,0.019635731354355812,0.023502742871642113,0.03587343543767929],[0.004429755266755819,0.004245631396770477,0.05070198327302933,0.008502928540110588,0.003280223812907934,0.07530736923217773,0.006985528860241175,0.0023057786747813225,0.007980311289429665,0.004297796171158552,0.020894063636660576,0.0051749395206570625,0.0013758017448708415,0.0026144159492105246,0.012793058529496193,0.01257368829101324,0.004478410817682743,0.021890494972467422,0.0018385276198387146,0.5575721263885498,0.02448498271405697,0.0073323906399309635,0.006097856909036636,0.0008462754194624722,0.03014124557375908,0.0026881240773946047,0.015516133047640324,0.008858428336679935,0.0023146551102399826,0.00880967453122139,0.057771433144807816,0.011028626933693886,0.014867405407130718],[0.011962582357227802,0.0008641843451187015,0.0034375321120023727,0.014798879623413086,0.00029028861899860203,0.014721550978720188,0.004338389728218317,0.039450667798519135,0.010128970257937908,0.03991428017616272,0.0209526214748621,0.009751159697771072,0.005810439120978117,0.0005459772073663771,0.0023959537502378225,0.0005057735834270716,0.0017467053839936852,0.028039073571562767,0.013748567551374435,0.04301048070192337,0.388052761554718,0.05697573348879814,0.08001157641410828,0.00332524417899549,0.12412165105342865,0.004824450239539146,0.0015420046402141452,0.0017376719042658806,0.002589563140645623,0.0003550756082404405,0.05681451037526131,0.009611343033611774,0.0036243884824216366],[0.001055289525538683,0.0010314820101484656,0.02536395750939846,0.0013108601560816169,0.0009482383611612022,0.020764442160725594,0.00036649705725722015,0.08787180483341217,0.0038149808533489704,0.028080789372324944,0.026065293699502945,0.022800147533416748,0.0007987556746229529,0.00514829671010375,0.0031060967594385147,0.0006027568015269935,0.01470219437032938,0.0013276017270982265,0.010936114005744457,0.00403295224532485,0.03128587827086449,0.5865972638130188,0.022143933922052383,0.014203048311173916,0.0488615445792675,0.0031801862642169,0.003771324409171939,0.015285219997167587,0.000548060517758131,0.004753651563078165,0.008078944869339466,0.0005255062715150416,0.0006368986214511096],[0.018562743440270424,0.019170789048075676,0.00287117762491107,0.013523610308766365,0.0011287861270830035,0.032409097999334335,0.01016365084797144,0.04746667295694351,0.0527677983045578,0.036972738802433014,0.02747521549463272,0.004371593706309795,0.017461678013205528,0.004401848651468754,0.0024320862721651793,0.0025168638676404953,0.0069744884967803955,0.033406320959329605,0.013163053430616856,0.019584599882364273,0.11685005575418472,0.04122014343738556,0.27244365215301514,0.037008944898843765,0.06841050088405609,0.0431768000125885,0.0012707572896033525,0.010831364430487156,0.01038688886910677,0.0028927072416990995,0.01224176213145256,0.011818995699286461,0.0046226452104747295],[0.01095711812376976,0.06456640362739563,0.0014057508669793606,0.003264583880081773,0.017050376161932945,0.0018694894388318062,0.015522487461566925,0.051636938005685806,0.011034867726266384,0.02483646385371685,0.005986691918224096,0.003745559835806489,0.0557246096432209,0.05768617242574692,0.0017945668660104275,0.009306356310844421,0.039885517209768295,0.0016489282716065645,0.0199782345443964,0.00027316604973748326,0.0022512602154165506,0.010404807515442371,0.03041338548064232,0.3795695900917053,0.002062890911474824,0.07188880443572998,0.0023626217152923346,0.03171153366565704,0.043644946068525314,0.010250487364828587,0.0004955264739692211,0.009836175478994846,0.006933622527867556],[0.007123279385268688,0.000161883988766931,0.002372629242017865,0.005778627935796976,5.4973297665128484e-05,0.005362668540328741,0.00013527229020837694,0.001738566206768155,0.004317000973969698,0.0053582568652927876,0.009799583815038204,0.02090475894510746,0.00030027556931599975,5.5057982535799965e-05,0.0021674332674592733,0.0004511105944402516,0.0002920069091487676,0.023080503568053246,0.0015245310496538877,0.05238467827439308,0.04051758348941803,0.03374924138188362,0.009406267665326595,0.00041234554373659194,0.7584384083747864,0.0011353229638189077,0.003183692693710327,0.0004348134098108858,0.00013495491293724626,0.0008569225901737809,0.0069821663200855255,0.0005637256545014679,0.0008214634144678712],[0.006116100121289492,0.020390396937727928,0.001544622820802033,0.0019700899720191956,0.004623885732144117,0.01066405326128006,0.10357192158699036,0.023101013153791428,0.02825608104467392,0.0016172919422388077,0.018217211589217186,0.0004867802490480244,0.03853003308176994,0.04894670844078064,0.0025593764148652554,0.0013057145988568664,0.001791581860743463,0.01943870447576046,0.005448434967547655,0.0024382330011576414,0.004395263735204935,0.0025041440967470407,0.03230215609073639,0.03356534615159035,0.0038322501350194216,0.41607847809791565,0.00038406779640354216,0.10100992023944855,0.003698448184877634,0.002133914502337575,0.001912106410600245,0.03897470608353615,0.018191039562225342],[0.0064011309295892715,0.0019704040605574846,0.0893457755446434,0.027420472353696823,0.023477016016840935,0.004679874982684851,0.008529645390808582,0.003025081939995289,0.0019153936300426722,0.007159859873354435,0.017343727871775627,0.07903680205345154,0.0019136718474328518,0.005155138671398163,0.03769240900874138,0.056970492005348206,0.028833800926804543,0.008490818552672863,0.0064458781853318214,0.025090306997299194,0.0043494245037436485,0.007174569182097912,0.001221999991685152,0.0027232568245381117,0.008534861728549004,0.0012580760521814227,0.44683390855789185,0.0068125296384096146,0.0112778190523386,0.009144376032054424,0.03228965029120445,0.013443715870380402,0.01403807196766138],[7.075466419337317e-05,0.0017568017356097698,0.02075936459004879,8.712214912520722e-05,0.0018594159046187997,0.021896030753850937,0.012610790319740772,0.012364335358142853,0.0022276027593761683,0.00012704735854640603,0.0421183705329895,0.0001124443078879267,0.0006061650929041207,0.04803859069943428,0.002799168461933732,0.0005144245224073529,0.006575854495167732,0.0014955903170630336,0.0006872203084640205,0.0011882303515449166,0.0006039648433215916,0.004331651609390974,0.0029406112153083086,0.00861962977796793,0.0005488403839990497,0.03511213883757591,0.0006835231324657798,0.7619836330413818,0.00011340298078721389,0.00132202438544482,0.0014667111681774259,0.002895861631259322,0.0014826104743406177],[0.04802469536662102,0.05349120497703552,0.00015794821956660599,0.028537210077047348,0.06188836693763733,0.00015035462274681777,0.012019802816212177,0.0019313107477501035,0.0040154531598091125,0.02708924189209938,0.00016993467579595745,0.005201670341193676,0.10321120917797089,0.006939301732927561,0.002156234113499522,0.03516542539000511,0.005851720459759235,0.0013700126437470317,0.019826943054795265,0.0002346862747799605,0.000898853235412389,0.0002786310506053269,0.002830370794981718,0.01774110458791256,0.00026725351926870644,0.0029218546114861965,0.004045094363391399,0.00017513205239083618,0.5191689133644104,0.008082003332674503,0.0008434596820734441,0.010582629591226578,0.014731980860233307],[0.007835384458303452,0.08637800067663193,0.015392053872346878,0.002685481682419777,0.03288530558347702,0.0296376533806324,0.0013496626634150743,0.0014172144001349807,0.022050414234399796,0.003832930698990822,0.0017438237555325031,0.015113652683794498,0.008222300559282303,0.02431991510093212,0.017000451683998108,0.04565154388546944,0.018528154119849205,0.0029883412644267082,0.003907578065991402,0.00535577954724431,0.0013025404186919332,0.006217430345714092,0.0019586088601499796,0.010254916734993458,0.0038776795845478773,0.005349605809897184,0.01188842672854662,0.012003562413156033,0.00954076461493969,0.5807083249092102,0.0013958053896203637,0.002401240635663271,0.006805364042520523],[0.001268458552658558,0.0004431389970704913,0.06565476953983307,0.018479622900485992,0.005133288446813822,0.029675131663680077,0.03274650499224663,0.0232281144708395,0.0039024713914841413,0.005927859339863062,0.03589858487248421,0.007202325388789177,0.0020751836709678173,0.005829134024679661,0.02741474285721779,0.0013191562611609697,0.002720492659136653,0.0187826007604599,0.017069708555936813,0.0534728579223156,0.059394367039203644,0.016395268961787224,0.007852291688323021,0.0007639927789568901,0.011076534166932106,0.0028868375811725855,0.013703078031539917,0.007765865884721279,0.0031826142221689224,0.0006035029073245823,0.4787444472312927,0.023611776530742645,0.015775268897414207],[0.015530453063547611,0.015041998587548733,0.001734115183353424,0.011891953647136688,0.03845612704753876,0.0011430811136960983,0.24201589822769165,0.04239928722381592,0.007132821716368198,0.007704084273427725,0.008629636839032173,0.0018825167790055275,0.1338825821876526,0.05836068093776703,0.006859487853944302,0.00546709168702364,0.009231441654264927,0.009251830168068409,0.03661445900797844,0.0006180012132972479,0.004506194964051247,0.0018555407878011465,0.014210464432835579,0.05284220352768898,0.0009392341016791761,0.09285084903240204,0.0025376039557158947,0.024423426017165184,0.0515444278717041,0.00137979572173208,0.005145668517798185,0.06416786462068558,0.02974916435778141],[0.0071731870993971825,0.013414409011602402,0.0004644630535040051,0.002629626542329788,0.12351561337709427,0.0015124037163332105,0.1955699622631073,0.005043196026235819,0.00697500491514802,0.001602924196049571,0.0020021796226501465,0.0005352995358407497,0.10956208407878876,0.13650842010974884,0.012972337193787098,0.0031214889604598284,0.00046537822345271707,0.0049931141547858715,0.02458517998456955,0.0009266119450330734,0.0005053492495790124,0.00025004224153235555,0.001502273604273796,0.007311721332371235,0.00030459664412774146,0.08904329687356949,0.0006423591403290629,0.009359156712889671,0.02942575141787529,0.005304912105202675,0.0029841766227036715,0.05400265380740166,0.14579078555107117]],\"type\":\"heatmap\",\"xaxis\":\"x\",\"yaxis\":\"y\",\"hovertemplate\":\"Vocab: %{x}\\u003cbr\\u003eVocab: %{y}\\u003cbr\\u003eQK weight: %{z}\\u003cextra\\u003e\\u003c\\u002fextra\\u003e\"}],                        {\"template\":{\"data\":{\"histogram2dcontour\":[{\"type\":\"histogram2dcontour\",\"colorbar\":{\"outlinewidth\":0,\"ticks\":\"\"},\"colorscale\":[[0.0,\"#0d0887\"],[0.1111111111111111,\"#46039f\"],[0.2222222222222222,\"#7201a8\"],[0.3333333333333333,\"#9c179e\"],[0.4444444444444444,\"#bd3786\"],[0.5555555555555556,\"#d8576b\"],[0.6666666666666666,\"#ed7953\"],[0.7777777777777778,\"#fb9f3a\"],[0.8888888888888888,\"#fdca26\"],[1.0,\"#f0f921\"]]}],\"choropleth\":[{\"type\":\"choropleth\",\"colorbar\":{\"outlinewidth\":0,\"ticks\":\"\"}}],\"histogram2d\":[{\"type\":\"histogram2d\",\"colorbar\":{\"outlinewidth\":0,\"ticks\":\"\"},\"colorscale\":[[0.0,\"#0d0887\"],[0.1111111111111111,\"#46039f\"],[0.2222222222222222,\"#7201a8\"],[0.3333333333333333,\"#9c179e\"],[0.4444444444444444,\"#bd3786\"],[0.5555555555555556,\"#d8576b\"],[0.6666666666666666,\"#ed7953\"],[0.7777777777777778,\"#fb9f3a\"],[0.8888888888888888,\"#fdca26\"],[1.0,\"#f0f921\"]]}],\"heatmap\":[{\"type\":\"heatmap\",\"colorbar\":{\"outlinewidth\":0,\"ticks\":\"\"},\"colorscale\":[[0.0,\"#0d0887\"],[0.1111111111111111,\"#46039f\"],[0.2222222222222222,\"#7201a8\"],[0.3333333333333333,\"#9c179e\"],[0.4444444444444444,\"#bd3786\"],[0.5555555555555556,\"#d8576b\"],[0.6666666666666666,\"#ed7953\"],[0.7777777777777778,\"#fb9f3a\"],[0.8888888888888888,\"#fdca26\"],[1.0,\"#f0f921\"]]}],\"heatmapgl\":[{\"type\":\"heatmapgl\",\"colorbar\":{\"outlinewidth\":0,\"ticks\":\"\"},\"colorscale\":[[0.0,\"#0d0887\"],[0.1111111111111111,\"#46039f\"],[0.2222222222222222,\"#7201a8\"],[0.3333333333333333,\"#9c179e\"],[0.4444444444444444,\"#bd3786\"],[0.5555555555555556,\"#d8576b\"],[0.6666666666666666,\"#ed7953\"],[0.7777777777777778,\"#fb9f3a\"],[0.8888888888888888,\"#fdca26\"],[1.0,\"#f0f921\"]]}],\"contourcarpet\":[{\"type\":\"contourcarpet\",\"colorbar\":{\"outlinewidth\":0,\"ticks\":\"\"}}],\"contour\":[{\"type\":\"contour\",\"colorbar\":{\"outlinewidth\":0,\"ticks\":\"\"},\"colorscale\":[[0.0,\"#0d0887\"],[0.1111111111111111,\"#46039f\"],[0.2222222222222222,\"#7201a8\"],[0.3333333333333333,\"#9c179e\"],[0.4444444444444444,\"#bd3786\"],[0.5555555555555556,\"#d8576b\"],[0.6666666666666666,\"#ed7953\"],[0.7777777777777778,\"#fb9f3a\"],[0.8888888888888888,\"#fdca26\"],[1.0,\"#f0f921\"]]}],\"surface\":[{\"type\":\"surface\",\"colorbar\":{\"outlinewidth\":0,\"ticks\":\"\"},\"colorscale\":[[0.0,\"#0d0887\"],[0.1111111111111111,\"#46039f\"],[0.2222222222222222,\"#7201a8\"],[0.3333333333333333,\"#9c179e\"],[0.4444444444444444,\"#bd3786\"],[0.5555555555555556,\"#d8576b\"],[0.6666666666666666,\"#ed7953\"],[0.7777777777777778,\"#fb9f3a\"],[0.8888888888888888,\"#fdca26\"],[1.0,\"#f0f921\"]]}],\"mesh3d\":[{\"type\":\"mesh3d\",\"colorbar\":{\"outlinewidth\":0,\"ticks\":\"\"}}],\"scatter\":[{\"fillpattern\":{\"fillmode\":\"overlay\",\"size\":10,\"solidity\":0.2},\"type\":\"scatter\"}],\"parcoords\":[{\"type\":\"parcoords\",\"line\":{\"colorbar\":{\"outlinewidth\":0,\"ticks\":\"\"}}}],\"scatterpolargl\":[{\"type\":\"scatterpolargl\",\"marker\":{\"colorbar\":{\"outlinewidth\":0,\"ticks\":\"\"}}}],\"bar\":[{\"error_x\":{\"color\":\"#2a3f5f\"},\"error_y\":{\"color\":\"#2a3f5f\"},\"marker\":{\"line\":{\"color\":\"#E5ECF6\",\"width\":0.5},\"pattern\":{\"fillmode\":\"overlay\",\"size\":10,\"solidity\":0.2}},\"type\":\"bar\"}],\"scattergeo\":[{\"type\":\"scattergeo\",\"marker\":{\"colorbar\":{\"outlinewidth\":0,\"ticks\":\"\"}}}],\"scatterpolar\":[{\"type\":\"scatterpolar\",\"marker\":{\"colorbar\":{\"outlinewidth\":0,\"ticks\":\"\"}}}],\"histogram\":[{\"marker\":{\"pattern\":{\"fillmode\":\"overlay\",\"size\":10,\"solidity\":0.2}},\"type\":\"histogram\"}],\"scattergl\":[{\"type\":\"scattergl\",\"marker\":{\"colorbar\":{\"outlinewidth\":0,\"ticks\":\"\"}}}],\"scatter3d\":[{\"type\":\"scatter3d\",\"line\":{\"colorbar\":{\"outlinewidth\":0,\"ticks\":\"\"}},\"marker\":{\"colorbar\":{\"outlinewidth\":0,\"ticks\":\"\"}}}],\"scattermapbox\":[{\"type\":\"scattermapbox\",\"marker\":{\"colorbar\":{\"outlinewidth\":0,\"ticks\":\"\"}}}],\"scatterternary\":[{\"type\":\"scatterternary\",\"marker\":{\"colorbar\":{\"outlinewidth\":0,\"ticks\":\"\"}}}],\"scattercarpet\":[{\"type\":\"scattercarpet\",\"marker\":{\"colorbar\":{\"outlinewidth\":0,\"ticks\":\"\"}}}],\"carpet\":[{\"aaxis\":{\"endlinecolor\":\"#2a3f5f\",\"gridcolor\":\"white\",\"linecolor\":\"white\",\"minorgridcolor\":\"white\",\"startlinecolor\":\"#2a3f5f\"},\"baxis\":{\"endlinecolor\":\"#2a3f5f\",\"gridcolor\":\"white\",\"linecolor\":\"white\",\"minorgridcolor\":\"white\",\"startlinecolor\":\"#2a3f5f\"},\"type\":\"carpet\"}],\"table\":[{\"cells\":{\"fill\":{\"color\":\"#EBF0F8\"},\"line\":{\"color\":\"white\"}},\"header\":{\"fill\":{\"color\":\"#C8D4E3\"},\"line\":{\"color\":\"white\"}},\"type\":\"table\"}],\"barpolar\":[{\"marker\":{\"line\":{\"color\":\"#E5ECF6\",\"width\":0.5},\"pattern\":{\"fillmode\":\"overlay\",\"size\":10,\"solidity\":0.2}},\"type\":\"barpolar\"}],\"pie\":[{\"automargin\":true,\"type\":\"pie\"}]},\"layout\":{\"autotypenumbers\":\"strict\",\"colorway\":[\"#636efa\",\"#EF553B\",\"#00cc96\",\"#ab63fa\",\"#FFA15A\",\"#19d3f3\",\"#FF6692\",\"#B6E880\",\"#FF97FF\",\"#FECB52\"],\"font\":{\"color\":\"#2a3f5f\"},\"hovermode\":\"closest\",\"hoverlabel\":{\"align\":\"left\"},\"paper_bgcolor\":\"white\",\"plot_bgcolor\":\"#E5ECF6\",\"polar\":{\"bgcolor\":\"#E5ECF6\",\"angularaxis\":{\"gridcolor\":\"white\",\"linecolor\":\"white\",\"ticks\":\"\"},\"radialaxis\":{\"gridcolor\":\"white\",\"linecolor\":\"white\",\"ticks\":\"\"}},\"ternary\":{\"bgcolor\":\"#E5ECF6\",\"aaxis\":{\"gridcolor\":\"white\",\"linecolor\":\"white\",\"ticks\":\"\"},\"baxis\":{\"gridcolor\":\"white\",\"linecolor\":\"white\",\"ticks\":\"\"},\"caxis\":{\"gridcolor\":\"white\",\"linecolor\":\"white\",\"ticks\":\"\"}},\"coloraxis\":{\"colorbar\":{\"outlinewidth\":0,\"ticks\":\"\"}},\"colorscale\":{\"sequential\":[[0.0,\"#0d0887\"],[0.1111111111111111,\"#46039f\"],[0.2222222222222222,\"#7201a8\"],[0.3333333333333333,\"#9c179e\"],[0.4444444444444444,\"#bd3786\"],[0.5555555555555556,\"#d8576b\"],[0.6666666666666666,\"#ed7953\"],[0.7777777777777778,\"#fb9f3a\"],[0.8888888888888888,\"#fdca26\"],[1.0,\"#f0f921\"]],\"sequentialminus\":[[0.0,\"#0d0887\"],[0.1111111111111111,\"#46039f\"],[0.2222222222222222,\"#7201a8\"],[0.3333333333333333,\"#9c179e\"],[0.4444444444444444,\"#bd3786\"],[0.5555555555555556,\"#d8576b\"],[0.6666666666666666,\"#ed7953\"],[0.7777777777777778,\"#fb9f3a\"],[0.8888888888888888,\"#fdca26\"],[1.0,\"#f0f921\"]],\"diverging\":[[0,\"#8e0152\"],[0.1,\"#c51b7d\"],[0.2,\"#de77ae\"],[0.3,\"#f1b6da\"],[0.4,\"#fde0ef\"],[0.5,\"#f7f7f7\"],[0.6,\"#e6f5d0\"],[0.7,\"#b8e186\"],[0.8,\"#7fbc41\"],[0.9,\"#4d9221\"],[1,\"#276419\"]]},\"xaxis\":{\"gridcolor\":\"white\",\"linecolor\":\"white\",\"ticks\":\"\",\"title\":{\"standoff\":15},\"zerolinecolor\":\"white\",\"automargin\":true,\"zerolinewidth\":2},\"yaxis\":{\"gridcolor\":\"white\",\"linecolor\":\"white\",\"ticks\":\"\",\"title\":{\"standoff\":15},\"zerolinecolor\":\"white\",\"automargin\":true,\"zerolinewidth\":2},\"scene\":{\"xaxis\":{\"backgroundcolor\":\"#E5ECF6\",\"gridcolor\":\"white\",\"linecolor\":\"white\",\"showbackground\":true,\"ticks\":\"\",\"zerolinecolor\":\"white\",\"gridwidth\":2},\"yaxis\":{\"backgroundcolor\":\"#E5ECF6\",\"gridcolor\":\"white\",\"linecolor\":\"white\",\"showbackground\":true,\"ticks\":\"\",\"zerolinecolor\":\"white\",\"gridwidth\":2},\"zaxis\":{\"backgroundcolor\":\"#E5ECF6\",\"gridcolor\":\"white\",\"linecolor\":\"white\",\"showbackground\":true,\"ticks\":\"\",\"zerolinecolor\":\"white\",\"gridwidth\":2}},\"shapedefaults\":{\"line\":{\"color\":\"#2a3f5f\"}},\"annotationdefaults\":{\"arrowcolor\":\"#2a3f5f\",\"arrowhead\":0,\"arrowwidth\":1},\"geo\":{\"bgcolor\":\"white\",\"landcolor\":\"#E5ECF6\",\"subunitcolor\":\"white\",\"showland\":true,\"showlakes\":true,\"lakecolor\":\"white\"},\"title\":{\"x\":0.05},\"mapbox\":{\"style\":\"light\"}}},\"xaxis\":{\"anchor\":\"y\",\"domain\":[0.0,1.0],\"scaleanchor\":\"y\",\"constrain\":\"domain\",\"title\":{\"text\":\"Vocab\"}},\"yaxis\":{\"anchor\":\"x\",\"domain\":[0.0,1.0],\"autorange\":\"reversed\",\"constrain\":\"domain\",\"title\":{\"text\":\"Vocab\"}},\"coloraxis\":{\"colorbar\":{\"title\":{\"text\":\"QK weight\"}},\"colorscale\":[[0.0,\"rgb(103,0,31)\"],[0.1,\"rgb(178,24,43)\"],[0.2,\"rgb(214,96,77)\"],[0.3,\"rgb(244,165,130)\"],[0.4,\"rgb(253,219,199)\"],[0.5,\"rgb(247,247,247)\"],[0.6,\"rgb(209,229,240)\"],[0.7,\"rgb(146,197,222)\"],[0.8,\"rgb(67,147,195)\"],[0.9,\"rgb(33,102,172)\"],[1.0,\"rgb(5,48,97)\"]],\"cmid\":0.0},\"title\":{\"text\":\"Head 0.0 QK circuit (embed)\"},\"height\":700,\"width\":700},                        {\"staticPlot\": false, \"responsive\": true}                    ).then(function(){\n",
              "                            \n",
              "var gd = document.getElementById('217929d4-692a-47aa-979a-8a2c4f343093');\n",
              "var x = new MutationObserver(function (mutations, observer) {{\n",
              "        var display = window.getComputedStyle(gd).display;\n",
              "        if (!display || display === 'none') {{\n",
              "            console.log([gd, 'removed!']);\n",
              "            Plotly.purge(gd);\n",
              "            observer.disconnect();\n",
              "        }}\n",
              "}});\n",
              "\n",
              "// Listen for the removal of the full notebook cells\n",
              "var notebookContainer = gd.closest('#notebook-container');\n",
              "if (notebookContainer) {{\n",
              "    x.observe(notebookContainer, {childList: true});\n",
              "}}\n",
              "\n",
              "// Listen for the clearing of the current output cell\n",
              "var outputEl = gd.closest('.output');\n",
              "if (outputEl) {{\n",
              "    x.observe(outputEl, {childList: true});\n",
              "}}\n",
              "\n",
              "                        })                };                            </script>        </div>\n",
              "</body>\n",
              "</html>"
            ]
          },
          "metadata": {}
        },
        {
          "output_type": "display_data",
          "data": {
            "text/plain": [
              "None"
            ]
          },
          "metadata": {}
        }
      ]
    },
    {
      "cell_type": "code",
      "source": [
        "def top_1_acc(matrix) -> float:\n",
        "    '''\n",
        "    Computes the top-1 accuracy of a matrix.\n",
        "    '''\n",
        "    num_rows = matrix.shape[0]\n",
        "    top_diag_count = 0.0\n",
        "    for i in range(num_rows):\n",
        "        (max, max_index) = matrix[i].max(-1)\n",
        "        if max_index.item() == i:\n",
        "            top_diag_count += 1.0\n",
        "\n",
        "    return top_diag_count / num_rows"
      ],
      "metadata": {
        "id": "CqACMqRrgnGa"
      },
      "execution_count": 10,
      "outputs": []
    },
    {
      "cell_type": "code",
      "source": [
        "# we don't care about start or end tokens\n",
        "effective_circuit_QK_0_0 = circuit_QK_0_0[:-2]\n",
        "print(f\"proportion of rows with diag element as heaviest: {top_1_acc(effective_circuit_QK_0_0)}\")\n",
        "print(\"(not including <start> or <end> tokens)\")"
      ],
      "metadata": {
        "colab": {
          "base_uri": "https://localhost:8080/"
        },
        "id": "Ek6EiLT6hfag",
        "outputId": "cf9641fa-ba3a-4509-f9a9-ee2e6b403b93"
      },
      "execution_count": 11,
      "outputs": [
        {
          "output_type": "stream",
          "name": "stdout",
          "text": [
            "proportion of rows with diag element as heaviest: 1.0\n",
            "(not including <start> or <end> tokens)\n"
          ]
        }
      ]
    },
    {
      "cell_type": "markdown",
      "source": [
        "We computed the $W_{emb} W_{QK}^{0.0} W_{emb}^T$ matrix and performed some analysis on it to support the claim that it is approxmiately diagonal.\n",
        "\n",
        "It's plot shows that the diagonal entries are the heaviest. The `top_1_acc` measurement shows that all rows (except for those corresponding to the `start` and `end` tokens) have the diagonal element as the heaviest element.\n",
        "\n",
        "Let's next explore how H0.0's QK circuit attends to positional information."
      ],
      "metadata": {
        "id": "GgOMF7xvdxXJ"
      }
    },
    {
      "cell_type": "markdown",
      "source": [
        "### The position circuit\n",
        "\n",
        "Let's examine the circuit $W_{pos} W_{QK}^{0.0} W_{pos}^T$.\n",
        "\n",
        "If we have two positions $i$ and $j$ (represented as one-hot encoding column vectors), this matrix determines the attention in H0.0 between these positions:\n",
        "$$i^T W_{emb} W_{QK}^{0.0} W_{emb}^T j$$\n",
        "\n",
        "Starting with $i = 11$, we expect the $i^{th}$ token to attend to its palindromic corresponding position (11 to 10, 12 to 9, and so on). This will give us a matrix that looks sort of like a lambda $\\lambda$.\n",
        "\n",
        "Let's compute the circuit explicitly, and check that it resembles lambda:"
      ],
      "metadata": {
        "id": "RbO3sXvbCWPR"
      }
    },
    {
      "cell_type": "code",
      "source": [
        "W_Q_0_0 = model.W_Q[0, 0] # (d_model, d_head)\n",
        "W_K_0_0 = model.W_K[0, 0] # (d_model, d_head)\n",
        "\n",
        "W_pos = model.W_pos # (seq_len, d_model)\n",
        "\n",
        "# approximate the L0 LayerNorm as a constant scaling factor\n",
        "W_pos_scaled = W_pos / cache[\"scale\", 0, \"ln1\"].mean()\n",
        "\n",
        "W_QK = W_Q_0_0 @ W_K_0_0.T\n",
        "\n",
        "pos_by_pos = W_pos_scaled @ W_QK @ W_pos_scaled.T # (seq_len, seq_len)\n",
        "pos_by_pos = pos_by_pos / model.cfg.d_head**0.5\n",
        "masked = mask_scores(pos_by_pos)\n",
        "\n",
        "circuit_pos_QK_0_0 = t.softmax(masked, dim=-1)\n",
        "\n",
        "display(\n",
        "    imshow(\n",
        "      circuit_pos_QK_0_0,\n",
        "      title=f\"Head 0.0 QK circuit (pos)\",\n",
        "      labels={\"x\": \"Position\", \"y\": \"Position\", \"color\": \"QK weight\"},\n",
        "      width=700,\n",
        "      height=700\n",
        "    )\n",
        ")"
      ],
      "metadata": {
        "colab": {
          "base_uri": "https://localhost:8080/",
          "height": 734
        },
        "id": "dXYNC2Hh65Hq",
        "outputId": "0a3b72e8-560e-44d0-bf61-efd616bb5715"
      },
      "execution_count": 12,
      "outputs": [
        {
          "output_type": "display_data",
          "data": {
            "text/html": [
              "<html>\n",
              "<head><meta charset=\"utf-8\" /></head>\n",
              "<body>\n",
              "    <div>            <script src=\"https://cdnjs.cloudflare.com/ajax/libs/mathjax/2.7.5/MathJax.js?config=TeX-AMS-MML_SVG\"></script><script type=\"text/javascript\">if (window.MathJax && window.MathJax.Hub && window.MathJax.Hub.Config) {window.MathJax.Hub.Config({SVG: {font: \"STIX-Web\"}});}</script>                <script type=\"text/javascript\">window.PlotlyConfig = {MathJaxConfig: 'local'};</script>\n",
              "        <script charset=\"utf-8\" src=\"https://cdn.plot.ly/plotly-2.24.1.min.js\"></script>                <div id=\"d4a69d3f-c2b9-4bdb-8e53-c698f6ee148b\" class=\"plotly-graph-div\" style=\"height:700px; width:700px;\"></div>            <script type=\"text/javascript\">                                    window.PLOTLYENV=window.PLOTLYENV || {};                                    if (document.getElementById(\"d4a69d3f-c2b9-4bdb-8e53-c698f6ee148b\")) {                    Plotly.newPlot(                        \"d4a69d3f-c2b9-4bdb-8e53-c698f6ee148b\",                        [{\"coloraxis\":\"coloraxis\",\"name\":\"0\",\"z\":[[1.0,0.0,0.0,0.0,0.0,0.0,0.0,0.0,0.0,0.0,0.0,0.0,0.0,0.0,0.0,0.0,0.0,0.0,0.0,0.0,0.0,0.0],[0.1575327217578888,0.8424672484397888,0.0,0.0,0.0,0.0,0.0,0.0,0.0,0.0,0.0,0.0,0.0,0.0,0.0,0.0,0.0,0.0,0.0,0.0,0.0,0.0],[0.25579896569252014,0.0876351147890091,0.6565659642219543,0.0,0.0,0.0,0.0,0.0,0.0,0.0,0.0,0.0,0.0,0.0,0.0,0.0,0.0,0.0,0.0,0.0,0.0,0.0],[0.07807883620262146,0.06655143201351166,0.037628546357154846,0.8177412152290344,0.0,0.0,0.0,0.0,0.0,0.0,0.0,0.0,0.0,0.0,0.0,0.0,0.0,0.0,0.0,0.0,0.0,0.0],[0.12151014059782028,0.08815154433250427,0.12231245636940002,0.1260642260313034,0.5419616103172302,0.0,0.0,0.0,0.0,0.0,0.0,0.0,0.0,0.0,0.0,0.0,0.0,0.0,0.0,0.0,0.0,0.0],[0.09352683275938034,0.20162208378314972,0.18298321962356567,0.1276521384716034,0.1466178596019745,0.24759787321090698,0.0,0.0,0.0,0.0,0.0,0.0,0.0,0.0,0.0,0.0,0.0,0.0,0.0,0.0,0.0,0.0],[0.09869221597909927,0.044507842510938644,0.0718827024102211,0.12729035317897797,0.055087070912122726,0.10356302559375763,0.4989768862724304,0.0,0.0,0.0,0.0,0.0,0.0,0.0,0.0,0.0,0.0,0.0,0.0,0.0,0.0,0.0],[0.10762850195169449,0.1018097773194313,0.06046537309885025,0.24151262640953064,0.06774556636810303,0.05476560816168785,0.17303720116615295,0.1930353343486786,0.0,0.0,0.0,0.0,0.0,0.0,0.0,0.0,0.0,0.0,0.0,0.0,0.0,0.0],[0.06305494904518127,0.049459248781204224,0.07510895282030106,0.036122728139162064,0.040610574185848236,0.06064433231949806,0.10550975799560547,0.08566391468048096,0.48382553458213806,0.0,0.0,0.0,0.0,0.0,0.0,0.0,0.0,0.0,0.0,0.0,0.0,0.0],[0.09513640403747559,0.24970854818820953,0.10184359550476074,0.1474735140800476,0.09067470580339432,0.08350905776023865,0.024346888065338135,0.02380431443452835,0.03254284709692001,0.15096017718315125,0.0,0.0,0.0,0.0,0.0,0.0,0.0,0.0,0.0,0.0,0.0,0.0],[0.08274241536855698,0.13516251742839813,0.11291518807411194,0.13816700875759125,0.09697669744491577,0.07225705683231354,0.03201742842793465,0.031080923974514008,0.053422968834638596,0.12711754441261292,0.11814027279615402,0.0,0.0,0.0,0.0,0.0,0.0,0.0,0.0,0.0,0.0,0.0],[0.05607598274946213,0.016530562192201614,0.03133157640695572,0.03875548392534256,0.07869819551706314,0.07862439751625061,0.022897733375430107,0.030809175223112106,0.08064606040716171,0.1609935462474823,0.21095292270183563,0.1936843991279602,0.0,0.0,0.0,0.0,0.0,0.0,0.0,0.0,0.0,0.0],[0.04542658478021622,0.021444177255034447,0.03416721150279045,0.02141203172504902,0.07428213208913803,0.08031251281499863,0.020507117733359337,0.02514783851802349,0.06586775183677673,0.15964984893798828,0.15204283595085144,0.16339576244354248,0.13634422421455383,0.0,0.0,0.0,0.0,0.0,0.0,0.0,0.0,0.0],[0.013348482549190521,0.0015369332395493984,0.0054833670146763325,0.0027540104929357767,0.01344622764736414,0.027956141158938408,0.04148038476705551,0.03927050530910492,0.4009481370449066,0.04420303553342819,0.06481268256902695,0.06373512744903564,0.03915010765194893,0.2418747991323471,0.0,0.0,0.0,0.0,0.0,0.0,0.0,0.0],[0.049579475075006485,0.007178515195846558,0.015107960440218449,0.03570578619837761,0.04926265776157379,0.04641607776284218,0.11190018802881241,0.15511205792427063,0.12016227096319199,0.044618796557188034,0.06673601269721985,0.055751264095306396,0.03853362426161766,0.10507068783044815,0.0988645851612091,0.0,0.0,0.0,0.0,0.0,0.0,0.0],[0.03135056793689728,0.003898168681189418,0.014450248330831528,0.016819562762975693,0.026911601424217224,0.05197369307279587,0.230681374669075,0.11604437977075577,0.10877816379070282,0.01909961923956871,0.027063027024269104,0.027249308302998543,0.024525167420506477,0.1005248948931694,0.08466025441884995,0.1159699484705925,0.0,0.0,0.0,0.0,0.0,0.0],[0.0348115935921669,0.017384249716997147,0.043456971645355225,0.009334822185337543,0.07885873317718506,0.13320660591125488,0.05305629223585129,0.03132069483399391,0.06101953610777855,0.06786523014307022,0.06713637709617615,0.08621399104595184,0.09321896731853485,0.0668082907795906,0.033218879252672195,0.04475370794534683,0.07833503931760788,0.0,0.0,0.0,0.0,0.0],[0.02530389465391636,0.023589443415403366,0.045030627399683,0.02032225951552391,0.08942007273435593,0.06832403689622879,0.042277831584215164,0.035586871206760406,0.05138201639056206,0.06289356201887131,0.07857310771942139,0.09570629149675369,0.06953888386487961,0.048742055892944336,0.03807481378316879,0.038165148347616196,0.04656653851270676,0.12050248682498932,0.0,0.0,0.0,0.0],[0.05695602670311928,0.015196585096418858,0.0071856300346553326,0.4796595871448517,0.025511354207992554,0.01686045713722706,0.019977768883109093,0.0434475913643837,0.008400795981287956,0.018814561888575554,0.027758514508605003,0.014614120125770569,0.010263469070196152,0.008822239004075527,0.024824349209666252,0.013352357782423496,0.01248603779822588,0.01557705644518137,0.18029151856899261,0.0,0.0,0.0],[0.042557843029499054,0.0331415981054306,0.04061318188905716,0.032778549939394,0.027891164645552635,0.044569484889507294,0.055135007947683334,0.023036718368530273,0.036363109946250916,0.05664617568254471,0.04514442756772041,0.060934897512197495,0.04708845540881157,0.034267738461494446,0.023831717669963837,0.03573482483625412,0.025363439694046974,0.03251419588923454,0.05729392543435097,0.24509353935718536,0.0,0.0],[0.006410721689462662,0.6353207230567932,0.04925050958991051,0.005061321426182985,0.021891171112656593,0.018730230629444122,0.005847924388945103,0.003688025288283825,0.0031042590271681547,0.009855229407548904,0.0035618790425360203,0.00714007206261158,0.013129794970154762,0.004010921809822321,0.006587660405784845,0.010362787172198296,0.039300013333559036,0.011058230884373188,0.009051713161170483,0.008551167324185371,0.12808562815189362,0.0],[0.040620796382427216,0.10561244189739227,0.05643691495060921,0.053282562643289566,0.07657664269208908,0.03444664925336838,0.009690925478935242,0.015790898352861404,0.012418283149600029,0.06301931291818619,0.0546325258910656,0.05800981819629669,0.057349078357219696,0.014679443091154099,0.0189871396869421,0.01372556947171688,0.04769855737686157,0.049740858376026154,0.03006165660917759,0.03454824537038803,0.058687835931777954,0.09398381412029266]],\"type\":\"heatmap\",\"xaxis\":\"x\",\"yaxis\":\"y\",\"hovertemplate\":\"Position: %{x}\\u003cbr\\u003ePosition: %{y}\\u003cbr\\u003eQK weight: %{z}\\u003cextra\\u003e\\u003c\\u002fextra\\u003e\"}],                        {\"template\":{\"data\":{\"histogram2dcontour\":[{\"type\":\"histogram2dcontour\",\"colorbar\":{\"outlinewidth\":0,\"ticks\":\"\"},\"colorscale\":[[0.0,\"#0d0887\"],[0.1111111111111111,\"#46039f\"],[0.2222222222222222,\"#7201a8\"],[0.3333333333333333,\"#9c179e\"],[0.4444444444444444,\"#bd3786\"],[0.5555555555555556,\"#d8576b\"],[0.6666666666666666,\"#ed7953\"],[0.7777777777777778,\"#fb9f3a\"],[0.8888888888888888,\"#fdca26\"],[1.0,\"#f0f921\"]]}],\"choropleth\":[{\"type\":\"choropleth\",\"colorbar\":{\"outlinewidth\":0,\"ticks\":\"\"}}],\"histogram2d\":[{\"type\":\"histogram2d\",\"colorbar\":{\"outlinewidth\":0,\"ticks\":\"\"},\"colorscale\":[[0.0,\"#0d0887\"],[0.1111111111111111,\"#46039f\"],[0.2222222222222222,\"#7201a8\"],[0.3333333333333333,\"#9c179e\"],[0.4444444444444444,\"#bd3786\"],[0.5555555555555556,\"#d8576b\"],[0.6666666666666666,\"#ed7953\"],[0.7777777777777778,\"#fb9f3a\"],[0.8888888888888888,\"#fdca26\"],[1.0,\"#f0f921\"]]}],\"heatmap\":[{\"type\":\"heatmap\",\"colorbar\":{\"outlinewidth\":0,\"ticks\":\"\"},\"colorscale\":[[0.0,\"#0d0887\"],[0.1111111111111111,\"#46039f\"],[0.2222222222222222,\"#7201a8\"],[0.3333333333333333,\"#9c179e\"],[0.4444444444444444,\"#bd3786\"],[0.5555555555555556,\"#d8576b\"],[0.6666666666666666,\"#ed7953\"],[0.7777777777777778,\"#fb9f3a\"],[0.8888888888888888,\"#fdca26\"],[1.0,\"#f0f921\"]]}],\"heatmapgl\":[{\"type\":\"heatmapgl\",\"colorbar\":{\"outlinewidth\":0,\"ticks\":\"\"},\"colorscale\":[[0.0,\"#0d0887\"],[0.1111111111111111,\"#46039f\"],[0.2222222222222222,\"#7201a8\"],[0.3333333333333333,\"#9c179e\"],[0.4444444444444444,\"#bd3786\"],[0.5555555555555556,\"#d8576b\"],[0.6666666666666666,\"#ed7953\"],[0.7777777777777778,\"#fb9f3a\"],[0.8888888888888888,\"#fdca26\"],[1.0,\"#f0f921\"]]}],\"contourcarpet\":[{\"type\":\"contourcarpet\",\"colorbar\":{\"outlinewidth\":0,\"ticks\":\"\"}}],\"contour\":[{\"type\":\"contour\",\"colorbar\":{\"outlinewidth\":0,\"ticks\":\"\"},\"colorscale\":[[0.0,\"#0d0887\"],[0.1111111111111111,\"#46039f\"],[0.2222222222222222,\"#7201a8\"],[0.3333333333333333,\"#9c179e\"],[0.4444444444444444,\"#bd3786\"],[0.5555555555555556,\"#d8576b\"],[0.6666666666666666,\"#ed7953\"],[0.7777777777777778,\"#fb9f3a\"],[0.8888888888888888,\"#fdca26\"],[1.0,\"#f0f921\"]]}],\"surface\":[{\"type\":\"surface\",\"colorbar\":{\"outlinewidth\":0,\"ticks\":\"\"},\"colorscale\":[[0.0,\"#0d0887\"],[0.1111111111111111,\"#46039f\"],[0.2222222222222222,\"#7201a8\"],[0.3333333333333333,\"#9c179e\"],[0.4444444444444444,\"#bd3786\"],[0.5555555555555556,\"#d8576b\"],[0.6666666666666666,\"#ed7953\"],[0.7777777777777778,\"#fb9f3a\"],[0.8888888888888888,\"#fdca26\"],[1.0,\"#f0f921\"]]}],\"mesh3d\":[{\"type\":\"mesh3d\",\"colorbar\":{\"outlinewidth\":0,\"ticks\":\"\"}}],\"scatter\":[{\"fillpattern\":{\"fillmode\":\"overlay\",\"size\":10,\"solidity\":0.2},\"type\":\"scatter\"}],\"parcoords\":[{\"type\":\"parcoords\",\"line\":{\"colorbar\":{\"outlinewidth\":0,\"ticks\":\"\"}}}],\"scatterpolargl\":[{\"type\":\"scatterpolargl\",\"marker\":{\"colorbar\":{\"outlinewidth\":0,\"ticks\":\"\"}}}],\"bar\":[{\"error_x\":{\"color\":\"#2a3f5f\"},\"error_y\":{\"color\":\"#2a3f5f\"},\"marker\":{\"line\":{\"color\":\"#E5ECF6\",\"width\":0.5},\"pattern\":{\"fillmode\":\"overlay\",\"size\":10,\"solidity\":0.2}},\"type\":\"bar\"}],\"scattergeo\":[{\"type\":\"scattergeo\",\"marker\":{\"colorbar\":{\"outlinewidth\":0,\"ticks\":\"\"}}}],\"scatterpolar\":[{\"type\":\"scatterpolar\",\"marker\":{\"colorbar\":{\"outlinewidth\":0,\"ticks\":\"\"}}}],\"histogram\":[{\"marker\":{\"pattern\":{\"fillmode\":\"overlay\",\"size\":10,\"solidity\":0.2}},\"type\":\"histogram\"}],\"scattergl\":[{\"type\":\"scattergl\",\"marker\":{\"colorbar\":{\"outlinewidth\":0,\"ticks\":\"\"}}}],\"scatter3d\":[{\"type\":\"scatter3d\",\"line\":{\"colorbar\":{\"outlinewidth\":0,\"ticks\":\"\"}},\"marker\":{\"colorbar\":{\"outlinewidth\":0,\"ticks\":\"\"}}}],\"scattermapbox\":[{\"type\":\"scattermapbox\",\"marker\":{\"colorbar\":{\"outlinewidth\":0,\"ticks\":\"\"}}}],\"scatterternary\":[{\"type\":\"scatterternary\",\"marker\":{\"colorbar\":{\"outlinewidth\":0,\"ticks\":\"\"}}}],\"scattercarpet\":[{\"type\":\"scattercarpet\",\"marker\":{\"colorbar\":{\"outlinewidth\":0,\"ticks\":\"\"}}}],\"carpet\":[{\"aaxis\":{\"endlinecolor\":\"#2a3f5f\",\"gridcolor\":\"white\",\"linecolor\":\"white\",\"minorgridcolor\":\"white\",\"startlinecolor\":\"#2a3f5f\"},\"baxis\":{\"endlinecolor\":\"#2a3f5f\",\"gridcolor\":\"white\",\"linecolor\":\"white\",\"minorgridcolor\":\"white\",\"startlinecolor\":\"#2a3f5f\"},\"type\":\"carpet\"}],\"table\":[{\"cells\":{\"fill\":{\"color\":\"#EBF0F8\"},\"line\":{\"color\":\"white\"}},\"header\":{\"fill\":{\"color\":\"#C8D4E3\"},\"line\":{\"color\":\"white\"}},\"type\":\"table\"}],\"barpolar\":[{\"marker\":{\"line\":{\"color\":\"#E5ECF6\",\"width\":0.5},\"pattern\":{\"fillmode\":\"overlay\",\"size\":10,\"solidity\":0.2}},\"type\":\"barpolar\"}],\"pie\":[{\"automargin\":true,\"type\":\"pie\"}]},\"layout\":{\"autotypenumbers\":\"strict\",\"colorway\":[\"#636efa\",\"#EF553B\",\"#00cc96\",\"#ab63fa\",\"#FFA15A\",\"#19d3f3\",\"#FF6692\",\"#B6E880\",\"#FF97FF\",\"#FECB52\"],\"font\":{\"color\":\"#2a3f5f\"},\"hovermode\":\"closest\",\"hoverlabel\":{\"align\":\"left\"},\"paper_bgcolor\":\"white\",\"plot_bgcolor\":\"#E5ECF6\",\"polar\":{\"bgcolor\":\"#E5ECF6\",\"angularaxis\":{\"gridcolor\":\"white\",\"linecolor\":\"white\",\"ticks\":\"\"},\"radialaxis\":{\"gridcolor\":\"white\",\"linecolor\":\"white\",\"ticks\":\"\"}},\"ternary\":{\"bgcolor\":\"#E5ECF6\",\"aaxis\":{\"gridcolor\":\"white\",\"linecolor\":\"white\",\"ticks\":\"\"},\"baxis\":{\"gridcolor\":\"white\",\"linecolor\":\"white\",\"ticks\":\"\"},\"caxis\":{\"gridcolor\":\"white\",\"linecolor\":\"white\",\"ticks\":\"\"}},\"coloraxis\":{\"colorbar\":{\"outlinewidth\":0,\"ticks\":\"\"}},\"colorscale\":{\"sequential\":[[0.0,\"#0d0887\"],[0.1111111111111111,\"#46039f\"],[0.2222222222222222,\"#7201a8\"],[0.3333333333333333,\"#9c179e\"],[0.4444444444444444,\"#bd3786\"],[0.5555555555555556,\"#d8576b\"],[0.6666666666666666,\"#ed7953\"],[0.7777777777777778,\"#fb9f3a\"],[0.8888888888888888,\"#fdca26\"],[1.0,\"#f0f921\"]],\"sequentialminus\":[[0.0,\"#0d0887\"],[0.1111111111111111,\"#46039f\"],[0.2222222222222222,\"#7201a8\"],[0.3333333333333333,\"#9c179e\"],[0.4444444444444444,\"#bd3786\"],[0.5555555555555556,\"#d8576b\"],[0.6666666666666666,\"#ed7953\"],[0.7777777777777778,\"#fb9f3a\"],[0.8888888888888888,\"#fdca26\"],[1.0,\"#f0f921\"]],\"diverging\":[[0,\"#8e0152\"],[0.1,\"#c51b7d\"],[0.2,\"#de77ae\"],[0.3,\"#f1b6da\"],[0.4,\"#fde0ef\"],[0.5,\"#f7f7f7\"],[0.6,\"#e6f5d0\"],[0.7,\"#b8e186\"],[0.8,\"#7fbc41\"],[0.9,\"#4d9221\"],[1,\"#276419\"]]},\"xaxis\":{\"gridcolor\":\"white\",\"linecolor\":\"white\",\"ticks\":\"\",\"title\":{\"standoff\":15},\"zerolinecolor\":\"white\",\"automargin\":true,\"zerolinewidth\":2},\"yaxis\":{\"gridcolor\":\"white\",\"linecolor\":\"white\",\"ticks\":\"\",\"title\":{\"standoff\":15},\"zerolinecolor\":\"white\",\"automargin\":true,\"zerolinewidth\":2},\"scene\":{\"xaxis\":{\"backgroundcolor\":\"#E5ECF6\",\"gridcolor\":\"white\",\"linecolor\":\"white\",\"showbackground\":true,\"ticks\":\"\",\"zerolinecolor\":\"white\",\"gridwidth\":2},\"yaxis\":{\"backgroundcolor\":\"#E5ECF6\",\"gridcolor\":\"white\",\"linecolor\":\"white\",\"showbackground\":true,\"ticks\":\"\",\"zerolinecolor\":\"white\",\"gridwidth\":2},\"zaxis\":{\"backgroundcolor\":\"#E5ECF6\",\"gridcolor\":\"white\",\"linecolor\":\"white\",\"showbackground\":true,\"ticks\":\"\",\"zerolinecolor\":\"white\",\"gridwidth\":2}},\"shapedefaults\":{\"line\":{\"color\":\"#2a3f5f\"}},\"annotationdefaults\":{\"arrowcolor\":\"#2a3f5f\",\"arrowhead\":0,\"arrowwidth\":1},\"geo\":{\"bgcolor\":\"white\",\"landcolor\":\"#E5ECF6\",\"subunitcolor\":\"white\",\"showland\":true,\"showlakes\":true,\"lakecolor\":\"white\"},\"title\":{\"x\":0.05},\"mapbox\":{\"style\":\"light\"}}},\"xaxis\":{\"anchor\":\"y\",\"domain\":[0.0,1.0],\"scaleanchor\":\"y\",\"constrain\":\"domain\",\"title\":{\"text\":\"Position\"}},\"yaxis\":{\"anchor\":\"x\",\"domain\":[0.0,1.0],\"autorange\":\"reversed\",\"constrain\":\"domain\",\"title\":{\"text\":\"Position\"}},\"coloraxis\":{\"colorbar\":{\"title\":{\"text\":\"QK weight\"}},\"colorscale\":[[0.0,\"rgb(103,0,31)\"],[0.1,\"rgb(178,24,43)\"],[0.2,\"rgb(214,96,77)\"],[0.3,\"rgb(244,165,130)\"],[0.4,\"rgb(253,219,199)\"],[0.5,\"rgb(247,247,247)\"],[0.6,\"rgb(209,229,240)\"],[0.7,\"rgb(146,197,222)\"],[0.8,\"rgb(67,147,195)\"],[0.9,\"rgb(33,102,172)\"],[1.0,\"rgb(5,48,97)\"]],\"cmid\":0.0},\"title\":{\"text\":\"Head 0.0 QK circuit (pos)\"},\"height\":700,\"width\":700},                        {\"staticPlot\": false, \"responsive\": true}                    ).then(function(){\n",
              "                            \n",
              "var gd = document.getElementById('d4a69d3f-c2b9-4bdb-8e53-c698f6ee148b');\n",
              "var x = new MutationObserver(function (mutations, observer) {{\n",
              "        var display = window.getComputedStyle(gd).display;\n",
              "        if (!display || display === 'none') {{\n",
              "            console.log([gd, 'removed!']);\n",
              "            Plotly.purge(gd);\n",
              "            observer.disconnect();\n",
              "        }}\n",
              "}});\n",
              "\n",
              "// Listen for the removal of the full notebook cells\n",
              "var notebookContainer = gd.closest('#notebook-container');\n",
              "if (notebookContainer) {{\n",
              "    x.observe(notebookContainer, {childList: true});\n",
              "}}\n",
              "\n",
              "// Listen for the clearing of the current output cell\n",
              "var outputEl = gd.closest('.output');\n",
              "if (outputEl) {{\n",
              "    x.observe(outputEl, {childList: true});\n",
              "}}\n",
              "\n",
              "                        })                };                            </script>        </div>\n",
              "</body>\n",
              "</html>"
            ]
          },
          "metadata": {}
        },
        {
          "output_type": "display_data",
          "data": {
            "text/plain": [
              "None"
            ]
          },
          "metadata": {}
        }
      ]
    },
    {
      "cell_type": "markdown",
      "source": [
        "We can roughly see the lambda $\\lambda$ shape.\n",
        "\n",
        "It's also notable that for *most* of the palindromic positional pairs `[(11, 10), (12, 9), ...]`, more attention is placed on the earlier position (although I see notable exceptions for `(19, 2)` and `(17, 4)`)."
      ],
      "metadata": {
        "id": "jsOGHBLIECAp"
      }
    },
    {
      "cell_type": "markdown",
      "source": [
        "Let's zoom in on a single example's H0.0 attention pattern to really see what effect the positional QK circuit has when combined with the embedding QK circuit.\n",
        "\n",
        "Consider the sequence `[1, 2, 3, 4, 5, 1, 2, 3, 4, 5, 1, 2, 3, 4, 5, 1, 2, 3, 4, 5]`.\n",
        "\n",
        "If the embedding circuit were the only contributor, then we would see attention evenly spread throughout all the repeated characters (first visualization). But in reality, some are weighted higher than others - namely the ones along the \"lambda,\" due to the contribution of the positional circuit (second visualization). Switching between these two visualizations clearly demonstrates the power of the positional circuit."
      ],
      "metadata": {
        "id": "7hZkFQ2M3A1i"
      }
    },
    {
      "cell_type": "code",
      "source": [
        "# consider this example, with a bunch of spurious duplicated tokens\n",
        "custom_toks = [31, 1, 2, 3, 4, 5, 1, 2, 3, 4, 5, 1, 2, 3, 4, 5, 1, 2, 3, 4, 5, 32]\n",
        "\n",
        "# first compute attn using only embedding information (no positional embedding)\n",
        "embed = W_E[custom_toks]\n",
        "resid = embed\n",
        "\n",
        "# manually compute LayerNorm\n",
        "resid = (resid - resid.mean(dim=-1, keepdim=True))\n",
        "ln_out = resid / (resid.pow(2).mean(-1, keepdim=True) + 1e-5)**0.5\n",
        "\n",
        "# QK circuit\n",
        "pos_by_pos = ln_out @ W_QK @ ln_out.T\n",
        "masked = mask_scores(pos_by_pos / model.cfg.d_head**0.5)\n",
        "attn_no_pos = t.softmax(masked, dim=-1)\n",
        "\n",
        "# now compute attn with embedding and positional embedding\n",
        "embed = W_E[custom_toks]\n",
        "pos_embed = W_pos[range(22)]\n",
        "resid = embed + pos_embed\n",
        "\n",
        "# manually compute LayerNorm\n",
        "resid = (resid - resid.mean(dim=-1, keepdim=True))\n",
        "ln_out = resid / (resid.pow(2).mean(-1, keepdim=True) + 1e-5)**0.5\n",
        "\n",
        "# QK circuit\n",
        "pos_by_pos = ln_out @ W_QK @ ln_out.T\n",
        "masked = mask_scores(pos_by_pos / model.cfg.d_head**0.5)\n",
        "attn_with_pos = t.softmax(masked, dim=-1)\n",
        "\n",
        "display(cv.attention.attention_patterns(\n",
        "      attention = t.stack((attn_no_pos, attn_with_pos)),\n",
        "      tokens = [str(i) for i in custom_toks],\n",
        "      attention_head_names = [f\"Without position\", f\"With position\"],\n",
        "  ))"
      ],
      "metadata": {
        "colab": {
          "base_uri": "https://localhost:8080/",
          "height": 357
        },
        "id": "Jw0Cqm5eEMvN",
        "outputId": "f322ca00-8126-4ff4-b9b3-85b6cba6876a"
      },
      "execution_count": 13,
      "outputs": [
        {
          "output_type": "display_data",
          "data": {
            "text/plain": [
              "<circuitsvis.utils.render.RenderedHTML at 0x7afdd15bc0d0>"
            ],
            "text/html": [
              "<div id=\"circuits-vis-26a52690-a5c8\" style=\"margin: 15px 0;\"/>\n",
              "    <script crossorigin type=\"module\">\n",
              "    import { render, AttentionPatterns } from \"https://unpkg.com/circuitsvis@1.41.0/dist/cdn/esm.js\";\n",
              "    render(\n",
              "      \"circuits-vis-26a52690-a5c8\",\n",
              "      AttentionPatterns,\n",
              "      {\"tokens\": [\"31\", \"1\", \"2\", \"3\", \"4\", \"5\", \"1\", \"2\", \"3\", \"4\", \"5\", \"1\", \"2\", \"3\", \"4\", \"5\", \"1\", \"2\", \"3\", \"4\", \"5\", \"32\"], \"attention\": [[[1.0, 0.0, 0.0, 0.0, 0.0, 0.0, 0.0, 0.0, 0.0, 0.0, 0.0, 0.0, 0.0, 0.0, 0.0, 0.0, 0.0, 0.0, 0.0, 0.0, 0.0, 0.0], [0.0013421277981251478, 0.9986578226089478, 0.0, 0.0, 0.0, 0.0, 0.0, 0.0, 0.0, 0.0, 0.0, 0.0, 0.0, 0.0, 0.0, 0.0, 0.0, 0.0, 0.0, 0.0, 0.0, 0.0], [3.6026114685228094e-05, 2.580376758487546e-06, 0.9999613761901855, 0.0, 0.0, 0.0, 0.0, 0.0, 0.0, 0.0, 0.0, 0.0, 0.0, 0.0, 0.0, 0.0, 0.0, 0.0, 0.0, 0.0, 0.0, 0.0], [0.002477893838658929, 0.0003493413969408721, 0.00011789996642619371, 0.997054934501648, 0.0, 0.0, 0.0, 0.0, 0.0, 0.0, 0.0, 0.0, 0.0, 0.0, 0.0, 0.0, 0.0, 0.0, 0.0, 0.0, 0.0, 0.0], [0.0006728010484948754, 0.003262984799221158, 0.00030820470419712365, 0.00029374760924838483, 0.9954622387886047, 0.0, 0.0, 0.0, 0.0, 0.0, 0.0, 0.0, 0.0, 0.0, 0.0, 0.0, 0.0, 0.0, 0.0, 0.0, 0.0, 0.0], [0.00021570223907474428, 0.0006438997224904597, 0.025415971875190735, 7.0816613515489735e-06, 2.6380028430139646e-05, 0.9736909866333008, 0.0, 0.0, 0.0, 0.0, 0.0, 0.0, 0.0, 0.0, 0.0, 0.0, 0.0, 0.0, 0.0, 0.0, 0.0, 0.0], [0.0006685886182822287, 0.4974871277809143, 9.074664376385044e-06, 0.0001790704991435632, 0.0039342124946415424, 0.00023491133470088243, 0.4974871277809143, 0.0, 0.0, 0.0, 0.0, 0.0, 0.0, 0.0, 0.0, 0.0, 0.0, 0.0, 0.0, 0.0, 0.0, 0.0], [1.797140976123046e-05, 1.2872054639956332e-06, 0.49882474541664124, 7.3844394137267955e-06, 8.01205460447818e-05, 0.002242399612441659, 1.2872054639956332e-06, 0.49882474541664124, 0.0, 0.0, 0.0, 0.0, 0.0, 0.0, 0.0, 0.0, 0.0, 0.0, 0.0, 0.0, 0.0, 0.0], [0.0012400818523019552, 0.00017483071133028716, 5.9003985370509326e-05, 0.49898412823677063, 0.0003124437644146383, 1.1591437214519829e-05, 0.00017483071133028716, 5.9003985370509326e-05, 0.49898412823677063, 0.0, 0.0, 0.0, 0.0, 0.0, 0.0, 0.0, 0.0, 0.0, 0.0, 0.0, 0.0, 0.0], [0.000336510973284021, 0.0016320281429216266, 0.00015415294910781085, 0.00014692202967125922, 0.4978945553302765, 8.159295248333365e-06, 0.0016320281429216266, 0.00015415294910781085, 0.00014692202967125922, 0.4978945553302765, 0.0, 0.0, 0.0, 0.0, 0.0, 0.0, 0.0, 0.0, 0.0, 0.0, 0.0, 0.0], [0.00010786275379359722, 0.0003219845821149647, 0.012709356844425201, 3.541212436175556e-06, 1.3191436664783396e-05, 0.4868980050086975, 0.0003219845821149647, 0.012709356844425201, 3.541212436175556e-06, 1.3191436664783396e-05, 0.4868980050086975, 0.0, 0.0, 0.0, 0.0, 0.0, 0.0, 0.0, 0.0, 0.0, 0.0, 0.0], [0.0004451783315744251, 0.33125075697898865, 6.042346285539679e-06, 0.00011923370766453445, 0.002619587117806077, 0.00015641521895304322, 0.33125075697898865, 6.042346285539679e-06, 0.00011923370766453445, 0.002619587117806077, 0.00015641521895304322, 0.33125075697898865, 0.0, 0.0, 0.0, 0.0, 0.0, 0.0, 0.0, 0.0, 0.0, 0.0], [1.1971716048719827e-05, 8.574762659918633e-07, 0.3322938084602356, 4.919169441564009e-06, 5.33725724380929e-05, 0.0014937820378690958, 8.574762659918633e-07, 0.3322938084602356, 4.919169441564009e-06, 5.33725724380929e-05, 0.0014937820378690958, 8.574762659918633e-07, 0.3322938084602356, 0.0, 0.0, 0.0, 0.0, 0.0, 0.0, 0.0, 0.0, 0.0], [0.0008269736426882446, 0.00011658939911285415, 3.934800042770803e-05, 0.3327576816082001, 0.00020835944451391697, 7.729984645266086e-06, 0.00011658939911285415, 3.934800042770803e-05, 0.3327576816082001, 0.00020835944451391697, 7.729984645266086e-06, 0.00011658939911285415, 3.934800042770803e-05, 0.3327576816082001, 0.0, 0.0, 0.0, 0.0, 0.0, 0.0, 0.0, 0.0], [0.0002243652124889195, 0.00108813785482198, 0.00010277988621965051, 9.79587493930012e-05, 0.3319660425186157, 5.4401257330027875e-06, 0.00108813785482198, 0.00010277988621965051, 9.79587493930012e-05, 0.3319660425186157, 5.4401257330027875e-06, 0.00108813785482198, 0.00010277988621965051, 9.79587493930012e-05, 0.3319660425186157, 0.0, 0.0, 0.0, 0.0, 0.0, 0.0, 0.0], [7.191109034465626e-05, 0.00021466411999426782, 0.008473209105432034, 2.3608931769558694e-06, 8.794608220341615e-06, 0.3246103525161743, 0.00021466411999426782, 0.008473209105432034, 2.3608931769558694e-06, 8.794608220341615e-06, 0.3246103525161743, 0.00021466411999426782, 0.008473209105432034, 2.3608931769558694e-06, 8.794608220341615e-06, 0.3246103525161743, 0.0, 0.0, 0.0, 0.0, 0.0, 0.0], [0.00033367887954227626, 0.24828562140464783, 4.528978934104089e-06, 8.937041275203228e-05, 0.001963484799489379, 0.00011723942589014769, 0.24828562140464783, 4.528978934104089e-06, 8.937041275203228e-05, 0.001963484799489379, 0.00011723942589014769, 0.24828562140464783, 4.528978934104089e-06, 8.937041275203228e-05, 0.001963484799489379, 0.00011723942589014769, 0.24828562140464783, 0.0, 0.0, 0.0, 0.0, 0.0], [8.975330274552107e-06, 6.428595611396304e-07, 0.24912439286708832, 3.687956450448837e-06, 4.001401612185873e-05, 0.0011199051514267921, 6.428595611396304e-07, 0.24912439286708832, 3.687956450448837e-06, 4.001401612185873e-05, 0.0011199051514267921, 6.428595611396304e-07, 0.24912439286708832, 3.687956450448837e-06, 4.001401612185873e-05, 0.0011199051514267921, 6.428595611396304e-07, 0.24912439286708832, 0.0, 0.0, 0.0, 0.0], [0.0006203249795362353, 8.745540253585204e-05, 2.951550777652301e-05, 0.24960637092590332, 0.00015629344852641225, 5.79837387704174e-06, 8.745540253585204e-05, 2.951550777652301e-05, 0.24960637092590332, 0.00015629344852641225, 5.79837387704174e-06, 8.745540253585204e-05, 2.951550777652301e-05, 0.24960637092590332, 0.00015629344852641225, 5.79837387704174e-06, 8.745540253585204e-05, 2.951550777652301e-05, 0.24960637092590332, 0.0, 0.0, 0.0], [0.00016828310617711395, 0.0008161480654962361, 7.708912744419649e-05, 7.347307837335393e-05, 0.24898815155029297, 4.080317467014538e-06, 0.0008161480654962361, 7.708912744419649e-05, 7.347307837335393e-05, 0.24898815155029297, 4.080317467014538e-06, 0.0008161480654962361, 7.708912744419649e-05, 7.347307837335393e-05, 0.24898815155029297, 4.080317467014538e-06, 0.0008161480654962361, 7.708912744419649e-05, 7.347307837335393e-05, 0.24898815155029297, 0.0, 0.0], [5.393428000388667e-05, 0.00016100096399895847, 0.006355020683258772, 1.7707016013446264e-06, 6.596073944820091e-06, 0.24346211552619934, 0.00016100096399895847, 0.006355020683258772, 1.7707016013446264e-06, 6.596073944820091e-06, 0.24346211552619934, 0.00016100096399895847, 0.006355020683258772, 1.7707016013446264e-06, 6.596073944820091e-06, 0.24346211552619934, 0.00016100096399895847, 0.006355020683258772, 1.7707016013446264e-06, 6.596073944820091e-06, 0.24346211552619934, 0.0], [0.02242693491280079, 0.0040458557195961475, 1.9075559976045042e-05, 0.0002968208573292941, 0.21742716431617737, 0.00012953448458574712, 0.0040458557195961475, 1.9075559976045042e-05, 0.0002968208573292941, 0.21742716431617737, 0.00012953448458574712, 0.0040458557195961475, 1.9075559976045042e-05, 0.0002968208573292941, 0.21742716431617737, 0.00012953448458574712, 0.0040458557195961475, 1.9075559976045042e-05, 0.0002968208573292941, 0.21742716431617737, 0.00012953448458574712, 0.08989915996789932]], [[1.0, 0.0, 0.0, 0.0, 0.0, 0.0, 0.0, 0.0, 0.0, 0.0, 0.0, 0.0, 0.0, 0.0, 0.0, 0.0, 0.0, 0.0, 0.0, 0.0, 0.0, 0.0], [0.06368380039930344, 0.9363162517547607, 0.0, 0.0, 0.0, 0.0, 0.0, 0.0, 0.0, 0.0, 0.0, 0.0, 0.0, 0.0, 0.0, 0.0, 0.0, 0.0, 0.0, 0.0, 0.0, 0.0], [0.05567905679345131, 0.006695137359201908, 0.9376258254051208, 0.0, 0.0, 0.0, 0.0, 0.0, 0.0, 0.0, 0.0, 0.0, 0.0, 0.0, 0.0, 0.0, 0.0, 0.0, 0.0, 0.0, 0.0, 0.0], [0.02546425350010395, 0.012210167944431305, 0.0012053130194544792, 0.9611201882362366, 0.0, 0.0, 0.0, 0.0, 0.0, 0.0, 0.0, 0.0, 0.0, 0.0, 0.0, 0.0, 0.0, 0.0, 0.0, 0.0, 0.0, 0.0], [0.018117215484380722, 0.00199874141253531, 0.00047207786701619625, 0.013988278806209564, 0.9654237031936646, 0.0, 0.0, 0.0, 0.0, 0.0, 0.0, 0.0, 0.0, 0.0, 0.0, 0.0, 0.0, 0.0, 0.0, 0.0, 0.0, 0.0], [0.005909785628318787, 0.020505733788013458, 0.07727983593940735, 0.0005842878599651158, 0.0006546073709614575, 0.8950657248497009, 0.0, 0.0, 0.0, 0.0, 0.0, 0.0, 0.0, 0.0, 0.0, 0.0, 0.0, 0.0, 0.0, 0.0, 0.0, 0.0], [0.0001485259854234755, 0.009509598836302757, 0.00011712375999195501, 0.0010610099416226149, 0.0038780367467552423, 0.0005205684574320912, 0.9847650527954102, 0.0, 0.0, 0.0, 0.0, 0.0, 0.0, 0.0, 0.0, 0.0, 0.0, 0.0, 0.0, 0.0, 0.0, 0.0], [0.0005524288862943649, 0.00023549410980194807, 0.16307084262371063, 0.0052109393291175365, 0.00015630124835297465, 0.0015780630055814981, 0.00015414328663609922, 0.8290417790412903, 0.0, 0.0, 0.0, 0.0, 0.0, 0.0, 0.0, 0.0, 0.0, 0.0, 0.0, 0.0, 0.0, 0.0], [0.0017533781938254833, 0.002251703292131424, 0.0015488109784200788, 0.054744184017181396, 0.002940274542197585, 0.001864011981524527, 0.002426511375233531, 0.007901418954133987, 0.9245697259902954, 0.0, 0.0, 0.0, 0.0, 0.0, 0.0, 0.0, 0.0, 0.0, 0.0, 0.0, 0.0, 0.0], [0.028382129967212677, 0.0005794414901174605, 0.0030882081482559443, 0.007293775677680969, 0.1287769228219986, 0.00047700427239760756, 0.0011057457886636257, 0.002192387357354164, 0.0015363652491942048, 0.8265680074691772, 0.0, 0.0, 0.0, 0.0, 0.0, 0.0, 0.0, 0.0, 0.0, 0.0, 0.0, 0.0], [0.005181147716939449, 0.005547827575355768, 0.11499686539173126, 0.0001610096951480955, 0.00037757455720566213, 0.38834601640701294, 0.00033203326165676117, 0.0040791938081383705, 2.1535073756240308e-05, 0.0001829426910262555, 0.4807739853858948, 0.0, 0.0, 0.0, 0.0, 0.0, 0.0, 0.0, 0.0, 0.0, 0.0, 0.0], [0.019075144082307816, 0.013294925913214684, 0.00012202408834127709, 0.0037174606695771217, 0.12386864423751831, 0.0019588691648095846, 0.12986421585083008, 0.0001494981988798827, 0.00294224894605577, 0.09143117815256119, 0.003498620120808482, 0.6100771427154541, 0.0, 0.0, 0.0, 0.0, 0.0, 0.0, 0.0, 0.0, 0.0, 0.0], [0.030961675569415092, 0.00018187315436080098, 0.13301357626914978, 0.004050007555633783, 0.004236853215843439, 0.015043479390442371, 4.68818616354838e-05, 0.11686404794454575, 0.0009922066237777472, 0.036020852625370026, 0.070992611348629, 0.00023030595912132412, 0.5873656272888184, 0.0, 0.0, 0.0, 0.0, 0.0, 0.0, 0.0, 0.0, 0.0], [0.00020455477351788431, 5.141165092936717e-05, 1.439354946342064e-05, 0.0032330728136003017, 0.0017074857605621219, 0.00015551497926935554, 0.0006663368549197912, 0.0003402578877285123, 0.7867719531059265, 0.005209519527852535, 0.0002969648048747331, 0.0007857806049287319, 0.00014886260032653809, 0.20041398704051971, 0.0, 0.0, 0.0, 0.0, 0.0, 0.0, 0.0, 0.0], [0.0005106119206175208, 3.667829150799662e-05, 3.836761970887892e-05, 0.0010758531279861927, 0.10379812866449356, 2.125939317920711e-05, 0.01895425096154213, 0.001702679437585175, 0.009007037617266178, 0.34338802099227905, 0.00010440615005791187, 0.009294182993471622, 0.00033675023587420583, 0.004650826565921307, 0.5070809125900269, 0.0, 0.0, 0.0, 0.0, 0.0, 0.0, 0.0], [0.0005686415242962539, 0.004033837467432022, 0.015817834064364433, 0.0003247742133680731, 0.0012263122480362654, 0.26625868678092957, 0.07286487519741058, 0.021255768835544586, 0.0014731923583894968, 0.00032027234556153417, 0.08853846788406372, 0.008052525110542774, 0.00676488084718585, 0.0015968126244843006, 0.0021593617275357246, 0.5087438225746155, 0.0, 0.0, 0.0, 0.0, 0.0, 0.0], [0.0035430651623755693, 0.018454886972904205, 0.00010088440467370674, 0.0008642224129289389, 0.03655344247817993, 0.004811432212591171, 0.3476879894733429, 8.763217192608863e-05, 0.001948440563865006, 0.010128800757229328, 0.0014405060792341828, 0.27958691120147705, 0.0001101391899283044, 0.002287391573190689, 0.016741693019866943, 0.0030051327776163816, 0.2726474404335022, 0.0, 0.0, 0.0, 0.0, 0.0], [0.014363028109073639, 0.0005774992168880999, 0.17464032769203186, 0.007792591582983732, 0.012508971616625786, 0.010526992380619049, 0.0003382408758625388, 0.1562749445438385, 0.00122053362429142, 0.028142651543021202, 0.027294088155031204, 0.00037776990211568773, 0.1944364756345749, 0.001396925188601017, 0.00915828999131918, 0.007471573073416948, 0.0003260931116528809, 0.35315293073654175, 0.0, 0.0, 0.0, 0.0], [0.007316667586565018, 0.0033308144193142653, 0.0005200430750846863, 0.776275098323822, 0.002609893213957548, 0.00035528076114133, 0.002583705820143223, 0.005615616217255592, 0.016860535368323326, 0.0013338245917111635, 0.0004090718866791576, 0.0015424517914652824, 0.0008782271179370582, 0.017120361328125, 0.00184911978431046, 0.0002845988783519715, 0.001324963290244341, 0.0037689998280256987, 0.15602073073387146, 0.0, 0.0, 0.0], [0.0030860346741974354, 0.0001537086645839736, 0.0020878028590232134, 0.002055478747934103, 0.06503177434206009, 0.0004627352755051106, 0.002683606930077076, 0.0036388514563441277, 0.0031808605417609215, 0.36856430768966675, 0.0012068789219483733, 0.0030856241937726736, 0.008874787017703056, 0.002448092447593808, 0.09617871046066284, 0.000490527949295938, 0.000478957052109763, 0.004866492003202438, 0.0027672667056322098, 0.4286574721336365, 0.0, 0.0], [0.0007268170593306422, 0.014857694506645203, 0.04569016396999359, 0.00012908400094602257, 2.788372330542188e-05, 0.2626124918460846, 0.000145625788718462, 0.0012825626181438565, 4.38789720647037e-05, 3.942981038562721e-06, 0.04277293011546135, 0.00015780642570462078, 0.00671603437513113, 8.660035382490605e-05, 3.6044546050106874e-06, 0.11663459241390228, 0.001461622305214405, 0.003263692604377866, 0.00029620129498653114, 1.2730987691611517e-05, 0.5030739903450012, 0.0], [0.05326635390520096, 0.0030185910873115063, 0.0005642733885906637, 0.0007245724555104971, 0.21018843352794647, 0.0008864931296557188, 0.0006372337811626494, 6.427597691072151e-05, 0.0012951901881024241, 0.4937605857849121, 0.0044969841837882996, 0.04044123739004135, 0.0018073724349960685, 0.0012761252000927925, 0.01995272748172283, 0.0001842221972765401, 0.0052471887320280075, 0.0006329960306175053, 0.0006362801068462431, 0.04620419070124626, 0.0004204325668979436, 0.11429420113563538]]], \"headLabels\": [\"Without position\", \"With position\"]}\n",
              "    )\n",
              "    </script>"
            ]
          },
          "metadata": {}
        }
      ]
    },
    {
      "cell_type": "markdown",
      "source": [
        "### Summary of H0.0 QK Circuit"
      ],
      "metadata": {
        "id": "a6vMDzW34KiE"
      }
    },
    {
      "cell_type": "markdown",
      "source": [
        "So to summarize, there are two things that H0.0's QK circuit is effectively doing.\n",
        "\n",
        "With respect to embeddings: a position will attend highly to another position if they have the same token embedding. This is evidenced by the diagonal nature of $W_E W_{QK}^{0.0} W_E^T$.\n",
        "\n",
        "With respect to position: a position will attend highly to another position if it is its \"palindromic correspondent.\" This is evidenced by the \"lambda\" nature of $W_{pos} W_{QK}^{0.0} W_{pos}^T$."
      ],
      "metadata": {
        "id": "9Opa2ToLHlrR"
      }
    },
    {
      "cell_type": "markdown",
      "source": [
        "## Direct logit attribution"
      ],
      "metadata": {
        "id": "r8snGA3m3Cdk"
      }
    },
    {
      "cell_type": "markdown",
      "source": [
        "Next, we'll look at direct logit attribution. We will work backwards from the logit outputs, similar to the analysis done in [ARENA Chapter 1.4](https://arena-ch1-transformers.streamlit.app/[1.4]_Balanced_Bracket_Classifier)."
      ],
      "metadata": {
        "id": "INXlhMmc4uvp"
      }
    },
    {
      "cell_type": "markdown",
      "source": [
        "### Translating through softmax\n",
        "\n",
        "The probability `P(not_palindrome)` is a function of the difference between the two logits:\n",
        "\n",
        "$$\\text{softmax}\\left( \\begin{bmatrix} \\text{logit}_0 \\\\ \\text{logit}_1 \\end{bmatrix} \\right) = \\frac{e^{\\text{logit}_0}}{e^{\\text{logit}_0}+ e^{\\text{logit}_1}} = \\frac{1}{1 + e^{\\text{logit}_1 - \\text{logit}_0}} = \\text{sigmoid}(\\text{logit}_0 - \\text{logit}_1)$$\n",
        "\n",
        "Thus, we can just reason about the difference between the logits from now on.\n",
        "\n",
        "### Translating through linear\n",
        "\n",
        "`logits = final_LN_output @ W_U`\n",
        "- `W_U` has shape `(d_model, 2)`\n",
        "- `final_LN_output` has shape `(seq_len, d_model)`\n",
        "\n",
        "```python\n",
        "logit_diff = (final_LN_output @ W_U)[-1, 0] - (final_LN_output @ W_U)[-1, 1]\n",
        "           = final_LN_output[-1, :] @ (W_U[:, 0] - W_U[:, 1])\n",
        "```\n",
        "\n",
        "This means that the `logit_diff` is directly proportional to the dot product between the last row of `final_LN_output` and the vector given by `W_U[:, 0] - W_U[:, 1]`.\n",
        "\n",
        "We'll call this vector `post_final_ln_dir := W_U[:, 0] - W_U[:, 1]`. We can compute it directly:"
      ],
      "metadata": {
        "id": "ENZbFkpr4yiZ"
      }
    },
    {
      "cell_type": "code",
      "source": [
        "def get_post_final_ln_dir(model: HookedTransformer) -> Float[Tensor, \"d_model\"]:\n",
        "    '''\n",
        "    Returns the direction in which final_ln_output[0, :] should point to maximize P(not palindrome)\n",
        "    '''\n",
        "    return model.W_U[:, 0] - model.W_U[:,1]"
      ],
      "metadata": {
        "id": "FeZpUq9B47_b"
      },
      "execution_count": 14,
      "outputs": []
    },
    {
      "cell_type": "markdown",
      "source": [
        "### Ignoring the final LayerNorm\n",
        "\n",
        "For this directional analysis, we're going to ignore the final LayerNorm for simplicity."
      ],
      "metadata": {
        "id": "OGvadMl2eYxy"
      }
    },
    {
      "cell_type": "markdown",
      "source": [
        "### Direct logit attribution for residual stream components\n",
        "\n",
        "With this assumption, we have made it into the residual stream. We can check a residual stream's contribution to the \"non-palindrome\" direction by dotting it with `post_final_ln_dir`.\n",
        "\n",
        "Let's decompose the pre-final-layernorm residual stream into its constituents, and compute the direct logit attribution for each of them.\n",
        "\n",
        "$$x_{\\text{residual}} = emb + pos + h_{0.0} + h_{0.1} + h_{1.0} + h_{1.1}$$"
      ],
      "metadata": {
        "id": "JzrvN2V3jl1L"
      }
    },
    {
      "cell_type": "code",
      "source": [
        "def get_out_by_components(model: HookedTransformer, data: PalindromeDataset) -> Float[Tensor, \"component batch seq d_model\"]:\n",
        "    '''\n",
        "    Computes a tensor of shape [10, dataset_size, seq_pos, emb] representing the output of the model's components when run on the data.\n",
        "    The first dimension is  [emb, pos_emb, head 0.0, head 0.1, head 1.0, head 1.1]\n",
        "    '''\n",
        "    logits, cache = model.run_with_cache(data.toks)\n",
        "\n",
        "    emb = cache[utils.get_act_name('embed')].unsqueeze(0)\n",
        "    pos_emb = cache[utils.get_act_name('pos_embed')].unsqueeze(0)\n",
        "\n",
        "    head_0 = einops.rearrange(cache[utils.get_act_name('result', 0)], 'b s h d -> h b s d')\n",
        "    head_1 = einops.rearrange(cache[utils.get_act_name('result', 1)], 'b s h d -> h b s d')\n",
        "\n",
        "    out = t.cat((emb, pos_emb, head_0, head_1), dim=0)\n",
        "    return out"
      ],
      "metadata": {
        "id": "8gDXBleLFHk-"
      },
      "execution_count": 15,
      "outputs": []
    },
    {
      "cell_type": "code",
      "source": [
        "# double check that the sum of all components is equal to the cached final ln input\n",
        "biases = model.b_O.sum(0)\n",
        "out_by_components = get_out_by_components(model, dataset)\n",
        "summed_terms = out_by_components.sum(dim=0) + biases\n",
        "\n",
        "logits, cache = model.run_with_cache(dataset.toks)\n",
        "final_ln_input = cache[utils.get_act_name('resid_post', 1)]\n",
        "\n",
        "t.testing.assert_close(summed_terms, final_ln_input)\n",
        "print(\"Output decomposition is correct!\")"
      ],
      "metadata": {
        "colab": {
          "base_uri": "https://localhost:8080/"
        },
        "id": "RLzqxbDWFuME",
        "outputId": "25166939-22b2-4418-f2aa-67af3bcf154f"
      },
      "execution_count": 16,
      "outputs": [
        {
          "output_type": "stream",
          "name": "stdout",
          "text": [
            "Output decomposition is correct!\n"
          ]
        }
      ]
    },
    {
      "cell_type": "code",
      "source": [
        "out_by_components = get_out_by_components(model, dataset) # (n, batch, seq, d_model)\n",
        "# we only care about the last sequence position:\n",
        "out_by_components = out_by_components[:, :, -1, :] # (n, batch, d_model)\n",
        "\n",
        "post_final_ln_dir = get_post_final_ln_dir(model)\n",
        "\n",
        "out_by_components_in_nonpal_dir = einops.einsum(out_by_components, post_final_ln_dir, 'n batch d_model, d_model -> n batch')\n",
        "\n",
        "labels = ['embed', 'pos_embed', 'H0.0', 'H0.1', 'H1.0', 'H1.1']\n",
        "\n",
        "for i in range(out_by_components_in_nonpal_dir.shape[0]):\n",
        "    nonpal = out_by_components_in_nonpal_dir[i][dataset.is_palindrome == 0].cpu().detach().numpy()\n",
        "    pal = out_by_components_in_nonpal_dir[i][dataset.is_palindrome == 1].cpu().detach().numpy()\n",
        "\n",
        "    overall_min = min(nonpal.min(), pal.min())\n",
        "    overall_max = max(nonpal.max(), pal.max())\n",
        "    bin_edges = np.linspace(overall_min, overall_max, num=51)  # num = number of bins + 1\n",
        "\n",
        "    fig = go.Figure()\n",
        "    fig.add_trace(go.Histogram(x=nonpal, xbins=dict(start=bin_edges[0], end=bin_edges[-1], size=(overall_max-overall_min)/50), name='non-pal', marker_color='red'))\n",
        "    fig.add_trace(go.Histogram(x=pal, xbins=dict(start=bin_edges[0], end=bin_edges[-1], size=(overall_max-overall_min)/50), name='pal', marker_color='blue'))\n",
        "\n",
        "    fig.update_layout(\n",
        "        barmode='overlay',\n",
        "        title=f'{labels[i]}',  # Sets the title for the histogram\n",
        "        xaxis_title=\"Dot prod with non-palindrome direction\",  # Sets the label for the x-axis\n",
        "        yaxis_title=\"Frequency\",  # Sets the label for the y-axis\n",
        "        autosize=False,\n",
        "        width=800,\n",
        "        height=300,\n",
        "    )\n",
        "    fig.update_traces(opacity=0.60)\n",
        "    fig.show()  # Displays the histogram"
      ],
      "metadata": {
        "colab": {
          "base_uri": "https://localhost:8080/",
          "height": 1000
        },
        "id": "xsptNMvWGYSX",
        "outputId": "3468d122-0371-4ceb-c66a-d8806ec71661"
      },
      "execution_count": 17,
      "outputs": [
        {
          "output_type": "display_data",
          "data": {
            "text/html": [
              "<html>\n",
              "<head><meta charset=\"utf-8\" /></head>\n",
              "<body>\n",
              "    <div>            <script src=\"https://cdnjs.cloudflare.com/ajax/libs/mathjax/2.7.5/MathJax.js?config=TeX-AMS-MML_SVG\"></script><script type=\"text/javascript\">if (window.MathJax && window.MathJax.Hub && window.MathJax.Hub.Config) {window.MathJax.Hub.Config({SVG: {font: \"STIX-Web\"}});}</script>                <script type=\"text/javascript\">window.PlotlyConfig = {MathJaxConfig: 'local'};</script>\n",
              "        <script charset=\"utf-8\" src=\"https://cdn.plot.ly/plotly-2.24.1.min.js\"></script>                <div id=\"228b4f47-ae9d-4c69-b737-cb0246802107\" class=\"plotly-graph-div\" style=\"height:300px; width:800px;\"></div>            <script type=\"text/javascript\">                                    window.PLOTLYENV=window.PLOTLYENV || {};                                    if (document.getElementById(\"228b4f47-ae9d-4c69-b737-cb0246802107\")) {                    Plotly.newPlot(                        \"228b4f47-ae9d-4c69-b737-cb0246802107\",                        [{\"marker\":{\"color\":\"red\"},\"name\":\"non-pal\",\"x\":[-0.49063315987586975,-0.49063315987586975,-0.49063315987586975,-0.49063315987586975,-0.49063315987586975,-0.49063315987586975,-0.49063315987586975,-0.49063315987586975,-0.49063315987586975,-0.49063315987586975,-0.49063315987586975,-0.49063315987586975,-0.49063315987586975,-0.49063315987586975,-0.49063315987586975,-0.49063315987586975,-0.49063315987586975,-0.49063315987586975,-0.49063315987586975,-0.49063315987586975,-0.49063315987586975,-0.49063315987586975,-0.49063315987586975,-0.49063315987586975,-0.49063315987586975,-0.49063315987586975,-0.49063315987586975,-0.49063315987586975,-0.49063315987586975,-0.49063315987586975,-0.49063315987586975,-0.49063315987586975,-0.49063315987586975,-0.49063315987586975,-0.49063315987586975,-0.49063315987586975,-0.49063315987586975,-0.49063315987586975,-0.49063315987586975,-0.49063315987586975,-0.49063315987586975,-0.49063315987586975,-0.49063315987586975,-0.49063315987586975,-0.49063315987586975,-0.49063315987586975,-0.49063315987586975,-0.49063315987586975,-0.49063315987586975,-0.49063315987586975],\"xbins\":{\"end\":-0.49063315987586975,\"size\":0.0,\"start\":-0.49063315987586975},\"type\":\"histogram\",\"opacity\":0.6},{\"marker\":{\"color\":\"blue\"},\"name\":\"pal\",\"x\":[-0.49063315987586975,-0.49063315987586975,-0.49063315987586975,-0.49063315987586975,-0.49063315987586975,-0.49063315987586975,-0.49063315987586975,-0.49063315987586975,-0.49063315987586975,-0.49063315987586975,-0.49063315987586975,-0.49063315987586975,-0.49063315987586975,-0.49063315987586975,-0.49063315987586975,-0.49063315987586975,-0.49063315987586975,-0.49063315987586975,-0.49063315987586975,-0.49063315987586975,-0.49063315987586975,-0.49063315987586975,-0.49063315987586975,-0.49063315987586975,-0.49063315987586975,-0.49063315987586975,-0.49063315987586975,-0.49063315987586975,-0.49063315987586975,-0.49063315987586975,-0.49063315987586975,-0.49063315987586975,-0.49063315987586975,-0.49063315987586975,-0.49063315987586975,-0.49063315987586975,-0.49063315987586975,-0.49063315987586975,-0.49063315987586975,-0.49063315987586975,-0.49063315987586975,-0.49063315987586975,-0.49063315987586975,-0.49063315987586975,-0.49063315987586975,-0.49063315987586975,-0.49063315987586975,-0.49063315987586975,-0.49063315987586975,-0.49063315987586975],\"xbins\":{\"end\":-0.49063315987586975,\"size\":0.0,\"start\":-0.49063315987586975},\"type\":\"histogram\",\"opacity\":0.6}],                        {\"template\":{\"data\":{\"histogram2dcontour\":[{\"type\":\"histogram2dcontour\",\"colorbar\":{\"outlinewidth\":0,\"ticks\":\"\"},\"colorscale\":[[0.0,\"#0d0887\"],[0.1111111111111111,\"#46039f\"],[0.2222222222222222,\"#7201a8\"],[0.3333333333333333,\"#9c179e\"],[0.4444444444444444,\"#bd3786\"],[0.5555555555555556,\"#d8576b\"],[0.6666666666666666,\"#ed7953\"],[0.7777777777777778,\"#fb9f3a\"],[0.8888888888888888,\"#fdca26\"],[1.0,\"#f0f921\"]]}],\"choropleth\":[{\"type\":\"choropleth\",\"colorbar\":{\"outlinewidth\":0,\"ticks\":\"\"}}],\"histogram2d\":[{\"type\":\"histogram2d\",\"colorbar\":{\"outlinewidth\":0,\"ticks\":\"\"},\"colorscale\":[[0.0,\"#0d0887\"],[0.1111111111111111,\"#46039f\"],[0.2222222222222222,\"#7201a8\"],[0.3333333333333333,\"#9c179e\"],[0.4444444444444444,\"#bd3786\"],[0.5555555555555556,\"#d8576b\"],[0.6666666666666666,\"#ed7953\"],[0.7777777777777778,\"#fb9f3a\"],[0.8888888888888888,\"#fdca26\"],[1.0,\"#f0f921\"]]}],\"heatmap\":[{\"type\":\"heatmap\",\"colorbar\":{\"outlinewidth\":0,\"ticks\":\"\"},\"colorscale\":[[0.0,\"#0d0887\"],[0.1111111111111111,\"#46039f\"],[0.2222222222222222,\"#7201a8\"],[0.3333333333333333,\"#9c179e\"],[0.4444444444444444,\"#bd3786\"],[0.5555555555555556,\"#d8576b\"],[0.6666666666666666,\"#ed7953\"],[0.7777777777777778,\"#fb9f3a\"],[0.8888888888888888,\"#fdca26\"],[1.0,\"#f0f921\"]]}],\"heatmapgl\":[{\"type\":\"heatmapgl\",\"colorbar\":{\"outlinewidth\":0,\"ticks\":\"\"},\"colorscale\":[[0.0,\"#0d0887\"],[0.1111111111111111,\"#46039f\"],[0.2222222222222222,\"#7201a8\"],[0.3333333333333333,\"#9c179e\"],[0.4444444444444444,\"#bd3786\"],[0.5555555555555556,\"#d8576b\"],[0.6666666666666666,\"#ed7953\"],[0.7777777777777778,\"#fb9f3a\"],[0.8888888888888888,\"#fdca26\"],[1.0,\"#f0f921\"]]}],\"contourcarpet\":[{\"type\":\"contourcarpet\",\"colorbar\":{\"outlinewidth\":0,\"ticks\":\"\"}}],\"contour\":[{\"type\":\"contour\",\"colorbar\":{\"outlinewidth\":0,\"ticks\":\"\"},\"colorscale\":[[0.0,\"#0d0887\"],[0.1111111111111111,\"#46039f\"],[0.2222222222222222,\"#7201a8\"],[0.3333333333333333,\"#9c179e\"],[0.4444444444444444,\"#bd3786\"],[0.5555555555555556,\"#d8576b\"],[0.6666666666666666,\"#ed7953\"],[0.7777777777777778,\"#fb9f3a\"],[0.8888888888888888,\"#fdca26\"],[1.0,\"#f0f921\"]]}],\"surface\":[{\"type\":\"surface\",\"colorbar\":{\"outlinewidth\":0,\"ticks\":\"\"},\"colorscale\":[[0.0,\"#0d0887\"],[0.1111111111111111,\"#46039f\"],[0.2222222222222222,\"#7201a8\"],[0.3333333333333333,\"#9c179e\"],[0.4444444444444444,\"#bd3786\"],[0.5555555555555556,\"#d8576b\"],[0.6666666666666666,\"#ed7953\"],[0.7777777777777778,\"#fb9f3a\"],[0.8888888888888888,\"#fdca26\"],[1.0,\"#f0f921\"]]}],\"mesh3d\":[{\"type\":\"mesh3d\",\"colorbar\":{\"outlinewidth\":0,\"ticks\":\"\"}}],\"scatter\":[{\"fillpattern\":{\"fillmode\":\"overlay\",\"size\":10,\"solidity\":0.2},\"type\":\"scatter\"}],\"parcoords\":[{\"type\":\"parcoords\",\"line\":{\"colorbar\":{\"outlinewidth\":0,\"ticks\":\"\"}}}],\"scatterpolargl\":[{\"type\":\"scatterpolargl\",\"marker\":{\"colorbar\":{\"outlinewidth\":0,\"ticks\":\"\"}}}],\"bar\":[{\"error_x\":{\"color\":\"#2a3f5f\"},\"error_y\":{\"color\":\"#2a3f5f\"},\"marker\":{\"line\":{\"color\":\"#E5ECF6\",\"width\":0.5},\"pattern\":{\"fillmode\":\"overlay\",\"size\":10,\"solidity\":0.2}},\"type\":\"bar\"}],\"scattergeo\":[{\"type\":\"scattergeo\",\"marker\":{\"colorbar\":{\"outlinewidth\":0,\"ticks\":\"\"}}}],\"scatterpolar\":[{\"type\":\"scatterpolar\",\"marker\":{\"colorbar\":{\"outlinewidth\":0,\"ticks\":\"\"}}}],\"histogram\":[{\"marker\":{\"pattern\":{\"fillmode\":\"overlay\",\"size\":10,\"solidity\":0.2}},\"type\":\"histogram\"}],\"scattergl\":[{\"type\":\"scattergl\",\"marker\":{\"colorbar\":{\"outlinewidth\":0,\"ticks\":\"\"}}}],\"scatter3d\":[{\"type\":\"scatter3d\",\"line\":{\"colorbar\":{\"outlinewidth\":0,\"ticks\":\"\"}},\"marker\":{\"colorbar\":{\"outlinewidth\":0,\"ticks\":\"\"}}}],\"scattermapbox\":[{\"type\":\"scattermapbox\",\"marker\":{\"colorbar\":{\"outlinewidth\":0,\"ticks\":\"\"}}}],\"scatterternary\":[{\"type\":\"scatterternary\",\"marker\":{\"colorbar\":{\"outlinewidth\":0,\"ticks\":\"\"}}}],\"scattercarpet\":[{\"type\":\"scattercarpet\",\"marker\":{\"colorbar\":{\"outlinewidth\":0,\"ticks\":\"\"}}}],\"carpet\":[{\"aaxis\":{\"endlinecolor\":\"#2a3f5f\",\"gridcolor\":\"white\",\"linecolor\":\"white\",\"minorgridcolor\":\"white\",\"startlinecolor\":\"#2a3f5f\"},\"baxis\":{\"endlinecolor\":\"#2a3f5f\",\"gridcolor\":\"white\",\"linecolor\":\"white\",\"minorgridcolor\":\"white\",\"startlinecolor\":\"#2a3f5f\"},\"type\":\"carpet\"}],\"table\":[{\"cells\":{\"fill\":{\"color\":\"#EBF0F8\"},\"line\":{\"color\":\"white\"}},\"header\":{\"fill\":{\"color\":\"#C8D4E3\"},\"line\":{\"color\":\"white\"}},\"type\":\"table\"}],\"barpolar\":[{\"marker\":{\"line\":{\"color\":\"#E5ECF6\",\"width\":0.5},\"pattern\":{\"fillmode\":\"overlay\",\"size\":10,\"solidity\":0.2}},\"type\":\"barpolar\"}],\"pie\":[{\"automargin\":true,\"type\":\"pie\"}]},\"layout\":{\"autotypenumbers\":\"strict\",\"colorway\":[\"#636efa\",\"#EF553B\",\"#00cc96\",\"#ab63fa\",\"#FFA15A\",\"#19d3f3\",\"#FF6692\",\"#B6E880\",\"#FF97FF\",\"#FECB52\"],\"font\":{\"color\":\"#2a3f5f\"},\"hovermode\":\"closest\",\"hoverlabel\":{\"align\":\"left\"},\"paper_bgcolor\":\"white\",\"plot_bgcolor\":\"#E5ECF6\",\"polar\":{\"bgcolor\":\"#E5ECF6\",\"angularaxis\":{\"gridcolor\":\"white\",\"linecolor\":\"white\",\"ticks\":\"\"},\"radialaxis\":{\"gridcolor\":\"white\",\"linecolor\":\"white\",\"ticks\":\"\"}},\"ternary\":{\"bgcolor\":\"#E5ECF6\",\"aaxis\":{\"gridcolor\":\"white\",\"linecolor\":\"white\",\"ticks\":\"\"},\"baxis\":{\"gridcolor\":\"white\",\"linecolor\":\"white\",\"ticks\":\"\"},\"caxis\":{\"gridcolor\":\"white\",\"linecolor\":\"white\",\"ticks\":\"\"}},\"coloraxis\":{\"colorbar\":{\"outlinewidth\":0,\"ticks\":\"\"}},\"colorscale\":{\"sequential\":[[0.0,\"#0d0887\"],[0.1111111111111111,\"#46039f\"],[0.2222222222222222,\"#7201a8\"],[0.3333333333333333,\"#9c179e\"],[0.4444444444444444,\"#bd3786\"],[0.5555555555555556,\"#d8576b\"],[0.6666666666666666,\"#ed7953\"],[0.7777777777777778,\"#fb9f3a\"],[0.8888888888888888,\"#fdca26\"],[1.0,\"#f0f921\"]],\"sequentialminus\":[[0.0,\"#0d0887\"],[0.1111111111111111,\"#46039f\"],[0.2222222222222222,\"#7201a8\"],[0.3333333333333333,\"#9c179e\"],[0.4444444444444444,\"#bd3786\"],[0.5555555555555556,\"#d8576b\"],[0.6666666666666666,\"#ed7953\"],[0.7777777777777778,\"#fb9f3a\"],[0.8888888888888888,\"#fdca26\"],[1.0,\"#f0f921\"]],\"diverging\":[[0,\"#8e0152\"],[0.1,\"#c51b7d\"],[0.2,\"#de77ae\"],[0.3,\"#f1b6da\"],[0.4,\"#fde0ef\"],[0.5,\"#f7f7f7\"],[0.6,\"#e6f5d0\"],[0.7,\"#b8e186\"],[0.8,\"#7fbc41\"],[0.9,\"#4d9221\"],[1,\"#276419\"]]},\"xaxis\":{\"gridcolor\":\"white\",\"linecolor\":\"white\",\"ticks\":\"\",\"title\":{\"standoff\":15},\"zerolinecolor\":\"white\",\"automargin\":true,\"zerolinewidth\":2},\"yaxis\":{\"gridcolor\":\"white\",\"linecolor\":\"white\",\"ticks\":\"\",\"title\":{\"standoff\":15},\"zerolinecolor\":\"white\",\"automargin\":true,\"zerolinewidth\":2},\"scene\":{\"xaxis\":{\"backgroundcolor\":\"#E5ECF6\",\"gridcolor\":\"white\",\"linecolor\":\"white\",\"showbackground\":true,\"ticks\":\"\",\"zerolinecolor\":\"white\",\"gridwidth\":2},\"yaxis\":{\"backgroundcolor\":\"#E5ECF6\",\"gridcolor\":\"white\",\"linecolor\":\"white\",\"showbackground\":true,\"ticks\":\"\",\"zerolinecolor\":\"white\",\"gridwidth\":2},\"zaxis\":{\"backgroundcolor\":\"#E5ECF6\",\"gridcolor\":\"white\",\"linecolor\":\"white\",\"showbackground\":true,\"ticks\":\"\",\"zerolinecolor\":\"white\",\"gridwidth\":2}},\"shapedefaults\":{\"line\":{\"color\":\"#2a3f5f\"}},\"annotationdefaults\":{\"arrowcolor\":\"#2a3f5f\",\"arrowhead\":0,\"arrowwidth\":1},\"geo\":{\"bgcolor\":\"white\",\"landcolor\":\"#E5ECF6\",\"subunitcolor\":\"white\",\"showland\":true,\"showlakes\":true,\"lakecolor\":\"white\"},\"title\":{\"x\":0.05},\"mapbox\":{\"style\":\"light\"}}},\"barmode\":\"overlay\",\"title\":{\"text\":\"embed\"},\"xaxis\":{\"title\":{\"text\":\"Dot prod with non-palindrome direction\"}},\"yaxis\":{\"title\":{\"text\":\"Frequency\"}},\"autosize\":false,\"width\":800,\"height\":300},                        {\"responsive\": true}                    ).then(function(){\n",
              "                            \n",
              "var gd = document.getElementById('228b4f47-ae9d-4c69-b737-cb0246802107');\n",
              "var x = new MutationObserver(function (mutations, observer) {{\n",
              "        var display = window.getComputedStyle(gd).display;\n",
              "        if (!display || display === 'none') {{\n",
              "            console.log([gd, 'removed!']);\n",
              "            Plotly.purge(gd);\n",
              "            observer.disconnect();\n",
              "        }}\n",
              "}});\n",
              "\n",
              "// Listen for the removal of the full notebook cells\n",
              "var notebookContainer = gd.closest('#notebook-container');\n",
              "if (notebookContainer) {{\n",
              "    x.observe(notebookContainer, {childList: true});\n",
              "}}\n",
              "\n",
              "// Listen for the clearing of the current output cell\n",
              "var outputEl = gd.closest('.output');\n",
              "if (outputEl) {{\n",
              "    x.observe(outputEl, {childList: true});\n",
              "}}\n",
              "\n",
              "                        })                };                            </script>        </div>\n",
              "</body>\n",
              "</html>"
            ]
          },
          "metadata": {}
        },
        {
          "output_type": "display_data",
          "data": {
            "text/html": [
              "<html>\n",
              "<head><meta charset=\"utf-8\" /></head>\n",
              "<body>\n",
              "    <div>            <script src=\"https://cdnjs.cloudflare.com/ajax/libs/mathjax/2.7.5/MathJax.js?config=TeX-AMS-MML_SVG\"></script><script type=\"text/javascript\">if (window.MathJax && window.MathJax.Hub && window.MathJax.Hub.Config) {window.MathJax.Hub.Config({SVG: {font: \"STIX-Web\"}});}</script>                <script type=\"text/javascript\">window.PlotlyConfig = {MathJaxConfig: 'local'};</script>\n",
              "        <script charset=\"utf-8\" src=\"https://cdn.plot.ly/plotly-2.24.1.min.js\"></script>                <div id=\"05e7a6b3-b6bb-4c76-8232-1d862d4db2e8\" class=\"plotly-graph-div\" style=\"height:300px; width:800px;\"></div>            <script type=\"text/javascript\">                                    window.PLOTLYENV=window.PLOTLYENV || {};                                    if (document.getElementById(\"05e7a6b3-b6bb-4c76-8232-1d862d4db2e8\")) {                    Plotly.newPlot(                        \"05e7a6b3-b6bb-4c76-8232-1d862d4db2e8\",                        [{\"marker\":{\"color\":\"red\"},\"name\":\"non-pal\",\"x\":[-8.620088919997215e-06,-8.620088919997215e-06,-8.620088919997215e-06,-8.620088919997215e-06,-8.620088919997215e-06,-8.620088919997215e-06,-8.620088919997215e-06,-8.620088919997215e-06,-8.620088919997215e-06,-8.620088919997215e-06,-8.620088919997215e-06,-8.620088919997215e-06,-8.620088919997215e-06,-8.620088919997215e-06,-8.620088919997215e-06,-8.620088919997215e-06,-8.620088919997215e-06,-8.620088919997215e-06,-8.620088919997215e-06,-8.620088919997215e-06,-8.620088919997215e-06,-8.620088919997215e-06,-8.620088919997215e-06,-8.620088919997215e-06,-8.620088919997215e-06,-8.620088919997215e-06,-8.620088919997215e-06,-8.620088919997215e-06,-8.620088919997215e-06,-8.620088919997215e-06,-8.620088919997215e-06,-8.620088919997215e-06,-8.620088919997215e-06,-8.620088919997215e-06,-8.620088919997215e-06,-8.620088919997215e-06,-8.620088919997215e-06,-8.620088919997215e-06,-8.620088919997215e-06,-8.620088919997215e-06,-8.620088919997215e-06,-8.620088919997215e-06,-8.620088919997215e-06,-8.620088919997215e-06,-8.620088919997215e-06,-8.620088919997215e-06,-8.620088919997215e-06,-8.620088919997215e-06,-8.620088919997215e-06,-8.620088919997215e-06],\"xbins\":{\"end\":-8.620088919997215e-06,\"size\":0.0,\"start\":-8.620088919997215e-06},\"type\":\"histogram\",\"opacity\":0.6},{\"marker\":{\"color\":\"blue\"},\"name\":\"pal\",\"x\":[-8.620088919997215e-06,-8.620088919997215e-06,-8.620088919997215e-06,-8.620088919997215e-06,-8.620088919997215e-06,-8.620088919997215e-06,-8.620088919997215e-06,-8.620088919997215e-06,-8.620088919997215e-06,-8.620088919997215e-06,-8.620088919997215e-06,-8.620088919997215e-06,-8.620088919997215e-06,-8.620088919997215e-06,-8.620088919997215e-06,-8.620088919997215e-06,-8.620088919997215e-06,-8.620088919997215e-06,-8.620088919997215e-06,-8.620088919997215e-06,-8.620088919997215e-06,-8.620088919997215e-06,-8.620088919997215e-06,-8.620088919997215e-06,-8.620088919997215e-06,-8.620088919997215e-06,-8.620088919997215e-06,-8.620088919997215e-06,-8.620088919997215e-06,-8.620088919997215e-06,-8.620088919997215e-06,-8.620088919997215e-06,-8.620088919997215e-06,-8.620088919997215e-06,-8.620088919997215e-06,-8.620088919997215e-06,-8.620088919997215e-06,-8.620088919997215e-06,-8.620088919997215e-06,-8.620088919997215e-06,-8.620088919997215e-06,-8.620088919997215e-06,-8.620088919997215e-06,-8.620088919997215e-06,-8.620088919997215e-06,-8.620088919997215e-06,-8.620088919997215e-06,-8.620088919997215e-06,-8.620088919997215e-06,-8.620088919997215e-06],\"xbins\":{\"end\":-8.620088919997215e-06,\"size\":0.0,\"start\":-8.620088919997215e-06},\"type\":\"histogram\",\"opacity\":0.6}],                        {\"template\":{\"data\":{\"histogram2dcontour\":[{\"type\":\"histogram2dcontour\",\"colorbar\":{\"outlinewidth\":0,\"ticks\":\"\"},\"colorscale\":[[0.0,\"#0d0887\"],[0.1111111111111111,\"#46039f\"],[0.2222222222222222,\"#7201a8\"],[0.3333333333333333,\"#9c179e\"],[0.4444444444444444,\"#bd3786\"],[0.5555555555555556,\"#d8576b\"],[0.6666666666666666,\"#ed7953\"],[0.7777777777777778,\"#fb9f3a\"],[0.8888888888888888,\"#fdca26\"],[1.0,\"#f0f921\"]]}],\"choropleth\":[{\"type\":\"choropleth\",\"colorbar\":{\"outlinewidth\":0,\"ticks\":\"\"}}],\"histogram2d\":[{\"type\":\"histogram2d\",\"colorbar\":{\"outlinewidth\":0,\"ticks\":\"\"},\"colorscale\":[[0.0,\"#0d0887\"],[0.1111111111111111,\"#46039f\"],[0.2222222222222222,\"#7201a8\"],[0.3333333333333333,\"#9c179e\"],[0.4444444444444444,\"#bd3786\"],[0.5555555555555556,\"#d8576b\"],[0.6666666666666666,\"#ed7953\"],[0.7777777777777778,\"#fb9f3a\"],[0.8888888888888888,\"#fdca26\"],[1.0,\"#f0f921\"]]}],\"heatmap\":[{\"type\":\"heatmap\",\"colorbar\":{\"outlinewidth\":0,\"ticks\":\"\"},\"colorscale\":[[0.0,\"#0d0887\"],[0.1111111111111111,\"#46039f\"],[0.2222222222222222,\"#7201a8\"],[0.3333333333333333,\"#9c179e\"],[0.4444444444444444,\"#bd3786\"],[0.5555555555555556,\"#d8576b\"],[0.6666666666666666,\"#ed7953\"],[0.7777777777777778,\"#fb9f3a\"],[0.8888888888888888,\"#fdca26\"],[1.0,\"#f0f921\"]]}],\"heatmapgl\":[{\"type\":\"heatmapgl\",\"colorbar\":{\"outlinewidth\":0,\"ticks\":\"\"},\"colorscale\":[[0.0,\"#0d0887\"],[0.1111111111111111,\"#46039f\"],[0.2222222222222222,\"#7201a8\"],[0.3333333333333333,\"#9c179e\"],[0.4444444444444444,\"#bd3786\"],[0.5555555555555556,\"#d8576b\"],[0.6666666666666666,\"#ed7953\"],[0.7777777777777778,\"#fb9f3a\"],[0.8888888888888888,\"#fdca26\"],[1.0,\"#f0f921\"]]}],\"contourcarpet\":[{\"type\":\"contourcarpet\",\"colorbar\":{\"outlinewidth\":0,\"ticks\":\"\"}}],\"contour\":[{\"type\":\"contour\",\"colorbar\":{\"outlinewidth\":0,\"ticks\":\"\"},\"colorscale\":[[0.0,\"#0d0887\"],[0.1111111111111111,\"#46039f\"],[0.2222222222222222,\"#7201a8\"],[0.3333333333333333,\"#9c179e\"],[0.4444444444444444,\"#bd3786\"],[0.5555555555555556,\"#d8576b\"],[0.6666666666666666,\"#ed7953\"],[0.7777777777777778,\"#fb9f3a\"],[0.8888888888888888,\"#fdca26\"],[1.0,\"#f0f921\"]]}],\"surface\":[{\"type\":\"surface\",\"colorbar\":{\"outlinewidth\":0,\"ticks\":\"\"},\"colorscale\":[[0.0,\"#0d0887\"],[0.1111111111111111,\"#46039f\"],[0.2222222222222222,\"#7201a8\"],[0.3333333333333333,\"#9c179e\"],[0.4444444444444444,\"#bd3786\"],[0.5555555555555556,\"#d8576b\"],[0.6666666666666666,\"#ed7953\"],[0.7777777777777778,\"#fb9f3a\"],[0.8888888888888888,\"#fdca26\"],[1.0,\"#f0f921\"]]}],\"mesh3d\":[{\"type\":\"mesh3d\",\"colorbar\":{\"outlinewidth\":0,\"ticks\":\"\"}}],\"scatter\":[{\"fillpattern\":{\"fillmode\":\"overlay\",\"size\":10,\"solidity\":0.2},\"type\":\"scatter\"}],\"parcoords\":[{\"type\":\"parcoords\",\"line\":{\"colorbar\":{\"outlinewidth\":0,\"ticks\":\"\"}}}],\"scatterpolargl\":[{\"type\":\"scatterpolargl\",\"marker\":{\"colorbar\":{\"outlinewidth\":0,\"ticks\":\"\"}}}],\"bar\":[{\"error_x\":{\"color\":\"#2a3f5f\"},\"error_y\":{\"color\":\"#2a3f5f\"},\"marker\":{\"line\":{\"color\":\"#E5ECF6\",\"width\":0.5},\"pattern\":{\"fillmode\":\"overlay\",\"size\":10,\"solidity\":0.2}},\"type\":\"bar\"}],\"scattergeo\":[{\"type\":\"scattergeo\",\"marker\":{\"colorbar\":{\"outlinewidth\":0,\"ticks\":\"\"}}}],\"scatterpolar\":[{\"type\":\"scatterpolar\",\"marker\":{\"colorbar\":{\"outlinewidth\":0,\"ticks\":\"\"}}}],\"histogram\":[{\"marker\":{\"pattern\":{\"fillmode\":\"overlay\",\"size\":10,\"solidity\":0.2}},\"type\":\"histogram\"}],\"scattergl\":[{\"type\":\"scattergl\",\"marker\":{\"colorbar\":{\"outlinewidth\":0,\"ticks\":\"\"}}}],\"scatter3d\":[{\"type\":\"scatter3d\",\"line\":{\"colorbar\":{\"outlinewidth\":0,\"ticks\":\"\"}},\"marker\":{\"colorbar\":{\"outlinewidth\":0,\"ticks\":\"\"}}}],\"scattermapbox\":[{\"type\":\"scattermapbox\",\"marker\":{\"colorbar\":{\"outlinewidth\":0,\"ticks\":\"\"}}}],\"scatterternary\":[{\"type\":\"scatterternary\",\"marker\":{\"colorbar\":{\"outlinewidth\":0,\"ticks\":\"\"}}}],\"scattercarpet\":[{\"type\":\"scattercarpet\",\"marker\":{\"colorbar\":{\"outlinewidth\":0,\"ticks\":\"\"}}}],\"carpet\":[{\"aaxis\":{\"endlinecolor\":\"#2a3f5f\",\"gridcolor\":\"white\",\"linecolor\":\"white\",\"minorgridcolor\":\"white\",\"startlinecolor\":\"#2a3f5f\"},\"baxis\":{\"endlinecolor\":\"#2a3f5f\",\"gridcolor\":\"white\",\"linecolor\":\"white\",\"minorgridcolor\":\"white\",\"startlinecolor\":\"#2a3f5f\"},\"type\":\"carpet\"}],\"table\":[{\"cells\":{\"fill\":{\"color\":\"#EBF0F8\"},\"line\":{\"color\":\"white\"}},\"header\":{\"fill\":{\"color\":\"#C8D4E3\"},\"line\":{\"color\":\"white\"}},\"type\":\"table\"}],\"barpolar\":[{\"marker\":{\"line\":{\"color\":\"#E5ECF6\",\"width\":0.5},\"pattern\":{\"fillmode\":\"overlay\",\"size\":10,\"solidity\":0.2}},\"type\":\"barpolar\"}],\"pie\":[{\"automargin\":true,\"type\":\"pie\"}]},\"layout\":{\"autotypenumbers\":\"strict\",\"colorway\":[\"#636efa\",\"#EF553B\",\"#00cc96\",\"#ab63fa\",\"#FFA15A\",\"#19d3f3\",\"#FF6692\",\"#B6E880\",\"#FF97FF\",\"#FECB52\"],\"font\":{\"color\":\"#2a3f5f\"},\"hovermode\":\"closest\",\"hoverlabel\":{\"align\":\"left\"},\"paper_bgcolor\":\"white\",\"plot_bgcolor\":\"#E5ECF6\",\"polar\":{\"bgcolor\":\"#E5ECF6\",\"angularaxis\":{\"gridcolor\":\"white\",\"linecolor\":\"white\",\"ticks\":\"\"},\"radialaxis\":{\"gridcolor\":\"white\",\"linecolor\":\"white\",\"ticks\":\"\"}},\"ternary\":{\"bgcolor\":\"#E5ECF6\",\"aaxis\":{\"gridcolor\":\"white\",\"linecolor\":\"white\",\"ticks\":\"\"},\"baxis\":{\"gridcolor\":\"white\",\"linecolor\":\"white\",\"ticks\":\"\"},\"caxis\":{\"gridcolor\":\"white\",\"linecolor\":\"white\",\"ticks\":\"\"}},\"coloraxis\":{\"colorbar\":{\"outlinewidth\":0,\"ticks\":\"\"}},\"colorscale\":{\"sequential\":[[0.0,\"#0d0887\"],[0.1111111111111111,\"#46039f\"],[0.2222222222222222,\"#7201a8\"],[0.3333333333333333,\"#9c179e\"],[0.4444444444444444,\"#bd3786\"],[0.5555555555555556,\"#d8576b\"],[0.6666666666666666,\"#ed7953\"],[0.7777777777777778,\"#fb9f3a\"],[0.8888888888888888,\"#fdca26\"],[1.0,\"#f0f921\"]],\"sequentialminus\":[[0.0,\"#0d0887\"],[0.1111111111111111,\"#46039f\"],[0.2222222222222222,\"#7201a8\"],[0.3333333333333333,\"#9c179e\"],[0.4444444444444444,\"#bd3786\"],[0.5555555555555556,\"#d8576b\"],[0.6666666666666666,\"#ed7953\"],[0.7777777777777778,\"#fb9f3a\"],[0.8888888888888888,\"#fdca26\"],[1.0,\"#f0f921\"]],\"diverging\":[[0,\"#8e0152\"],[0.1,\"#c51b7d\"],[0.2,\"#de77ae\"],[0.3,\"#f1b6da\"],[0.4,\"#fde0ef\"],[0.5,\"#f7f7f7\"],[0.6,\"#e6f5d0\"],[0.7,\"#b8e186\"],[0.8,\"#7fbc41\"],[0.9,\"#4d9221\"],[1,\"#276419\"]]},\"xaxis\":{\"gridcolor\":\"white\",\"linecolor\":\"white\",\"ticks\":\"\",\"title\":{\"standoff\":15},\"zerolinecolor\":\"white\",\"automargin\":true,\"zerolinewidth\":2},\"yaxis\":{\"gridcolor\":\"white\",\"linecolor\":\"white\",\"ticks\":\"\",\"title\":{\"standoff\":15},\"zerolinecolor\":\"white\",\"automargin\":true,\"zerolinewidth\":2},\"scene\":{\"xaxis\":{\"backgroundcolor\":\"#E5ECF6\",\"gridcolor\":\"white\",\"linecolor\":\"white\",\"showbackground\":true,\"ticks\":\"\",\"zerolinecolor\":\"white\",\"gridwidth\":2},\"yaxis\":{\"backgroundcolor\":\"#E5ECF6\",\"gridcolor\":\"white\",\"linecolor\":\"white\",\"showbackground\":true,\"ticks\":\"\",\"zerolinecolor\":\"white\",\"gridwidth\":2},\"zaxis\":{\"backgroundcolor\":\"#E5ECF6\",\"gridcolor\":\"white\",\"linecolor\":\"white\",\"showbackground\":true,\"ticks\":\"\",\"zerolinecolor\":\"white\",\"gridwidth\":2}},\"shapedefaults\":{\"line\":{\"color\":\"#2a3f5f\"}},\"annotationdefaults\":{\"arrowcolor\":\"#2a3f5f\",\"arrowhead\":0,\"arrowwidth\":1},\"geo\":{\"bgcolor\":\"white\",\"landcolor\":\"#E5ECF6\",\"subunitcolor\":\"white\",\"showland\":true,\"showlakes\":true,\"lakecolor\":\"white\"},\"title\":{\"x\":0.05},\"mapbox\":{\"style\":\"light\"}}},\"barmode\":\"overlay\",\"title\":{\"text\":\"pos_embed\"},\"xaxis\":{\"title\":{\"text\":\"Dot prod with non-palindrome direction\"}},\"yaxis\":{\"title\":{\"text\":\"Frequency\"}},\"autosize\":false,\"width\":800,\"height\":300},                        {\"responsive\": true}                    ).then(function(){\n",
              "                            \n",
              "var gd = document.getElementById('05e7a6b3-b6bb-4c76-8232-1d862d4db2e8');\n",
              "var x = new MutationObserver(function (mutations, observer) {{\n",
              "        var display = window.getComputedStyle(gd).display;\n",
              "        if (!display || display === 'none') {{\n",
              "            console.log([gd, 'removed!']);\n",
              "            Plotly.purge(gd);\n",
              "            observer.disconnect();\n",
              "        }}\n",
              "}});\n",
              "\n",
              "// Listen for the removal of the full notebook cells\n",
              "var notebookContainer = gd.closest('#notebook-container');\n",
              "if (notebookContainer) {{\n",
              "    x.observe(notebookContainer, {childList: true});\n",
              "}}\n",
              "\n",
              "// Listen for the clearing of the current output cell\n",
              "var outputEl = gd.closest('.output');\n",
              "if (outputEl) {{\n",
              "    x.observe(outputEl, {childList: true});\n",
              "}}\n",
              "\n",
              "                        })                };                            </script>        </div>\n",
              "</body>\n",
              "</html>"
            ]
          },
          "metadata": {}
        },
        {
          "output_type": "display_data",
          "data": {
            "text/html": [
              "<html>\n",
              "<head><meta charset=\"utf-8\" /></head>\n",
              "<body>\n",
              "    <div>            <script src=\"https://cdnjs.cloudflare.com/ajax/libs/mathjax/2.7.5/MathJax.js?config=TeX-AMS-MML_SVG\"></script><script type=\"text/javascript\">if (window.MathJax && window.MathJax.Hub && window.MathJax.Hub.Config) {window.MathJax.Hub.Config({SVG: {font: \"STIX-Web\"}});}</script>                <script type=\"text/javascript\">window.PlotlyConfig = {MathJaxConfig: 'local'};</script>\n",
              "        <script charset=\"utf-8\" src=\"https://cdn.plot.ly/plotly-2.24.1.min.js\"></script>                <div id=\"b1a03f76-e820-466d-a8c7-1b01adc65ae2\" class=\"plotly-graph-div\" style=\"height:300px; width:800px;\"></div>            <script type=\"text/javascript\">                                    window.PLOTLYENV=window.PLOTLYENV || {};                                    if (document.getElementById(\"b1a03f76-e820-466d-a8c7-1b01adc65ae2\")) {                    Plotly.newPlot(                        \"b1a03f76-e820-466d-a8c7-1b01adc65ae2\",                        [{\"marker\":{\"color\":\"red\"},\"name\":\"non-pal\",\"x\":[-0.37145665287971497,-0.9159198999404907,-0.6367920637130737,-0.761942446231842,-0.311531126499176,-0.8289210796356201,-0.4969944357872009,-0.5954004526138306,-1.160199522972107,-0.22415044903755188,-0.5263477563858032,-0.49395957589149475,-0.7395356297492981,-0.3081290125846863,-0.8655046224594116,-0.8755541443824768,-0.40752366185188293,-0.6018396615982056,-0.8806147575378418,-1.0526914596557617,-1.0938547849655151,-1.0333194732666016,-0.7448575496673584,-0.8981851935386658,-1.0021724700927734,-0.9634147882461548,-0.18889911472797394,-0.6596592664718628,-0.6047425866127014,-0.7410382628440857,-0.42560362815856934,-0.7086934447288513,-0.9914870858192444,-0.7475321888923645,-0.9733673930168152,-0.47078970074653625,-0.48316460847854614,-1.1839172840118408,-0.8576604723930359,-0.4241299629211426,-0.12401613593101501,-0.27308517694473267,-0.7653558254241943,-0.9144408106803894,-0.556329071521759,-0.6636928915977478,-0.35559818148612976,-0.6141468286514282,-0.501665472984314,-0.13703963160514832],\"xbins\":{\"end\":-0.12401613593101501,\"size\":0.022920374870300294,\"start\":-1.270034909248352},\"type\":\"histogram\",\"opacity\":0.6},{\"marker\":{\"color\":\"blue\"},\"name\":\"pal\",\"x\":[-0.43793559074401855,-0.8301565647125244,-0.7397421598434448,-1.0671136379241943,-0.9803918600082397,-0.6377683877944946,-0.15716274082660675,-0.49047791957855225,-1.0176987648010254,-0.9531406760215759,-0.46018868684768677,-0.9145851731300354,-0.5605536699295044,-0.4868203401565552,-0.6169891953468323,-0.5082685947418213,-0.6148481965065002,-0.703117847442627,-0.4299505352973938,-1.0449358224868774,-0.5601000189781189,-0.9431019425392151,-0.6267551183700562,-1.270034909248352,-0.7882779240608215,-0.9210711121559143,-0.8012467622756958,-0.6303731203079224,-0.25886666774749756,-0.6286144256591797,-0.1914888173341751,-0.5025466084480286,-0.2507376968860626,-1.1218880414962769,-0.8337339758872986,-0.40979593992233276,-0.7994357347488403,-0.8004924654960632,-0.9709670543670654,-0.6578178405761719,-0.5491117835044861,-0.6998487114906311,-0.7309163212776184,-1.2598406076431274,-0.8447487354278564,-1.1115436553955078,-1.0954737663269043,-0.691070556640625,-0.4534918963909149,-0.816564679145813],\"xbins\":{\"end\":-0.12401613593101501,\"size\":0.022920374870300294,\"start\":-1.270034909248352},\"type\":\"histogram\",\"opacity\":0.6}],                        {\"template\":{\"data\":{\"histogram2dcontour\":[{\"type\":\"histogram2dcontour\",\"colorbar\":{\"outlinewidth\":0,\"ticks\":\"\"},\"colorscale\":[[0.0,\"#0d0887\"],[0.1111111111111111,\"#46039f\"],[0.2222222222222222,\"#7201a8\"],[0.3333333333333333,\"#9c179e\"],[0.4444444444444444,\"#bd3786\"],[0.5555555555555556,\"#d8576b\"],[0.6666666666666666,\"#ed7953\"],[0.7777777777777778,\"#fb9f3a\"],[0.8888888888888888,\"#fdca26\"],[1.0,\"#f0f921\"]]}],\"choropleth\":[{\"type\":\"choropleth\",\"colorbar\":{\"outlinewidth\":0,\"ticks\":\"\"}}],\"histogram2d\":[{\"type\":\"histogram2d\",\"colorbar\":{\"outlinewidth\":0,\"ticks\":\"\"},\"colorscale\":[[0.0,\"#0d0887\"],[0.1111111111111111,\"#46039f\"],[0.2222222222222222,\"#7201a8\"],[0.3333333333333333,\"#9c179e\"],[0.4444444444444444,\"#bd3786\"],[0.5555555555555556,\"#d8576b\"],[0.6666666666666666,\"#ed7953\"],[0.7777777777777778,\"#fb9f3a\"],[0.8888888888888888,\"#fdca26\"],[1.0,\"#f0f921\"]]}],\"heatmap\":[{\"type\":\"heatmap\",\"colorbar\":{\"outlinewidth\":0,\"ticks\":\"\"},\"colorscale\":[[0.0,\"#0d0887\"],[0.1111111111111111,\"#46039f\"],[0.2222222222222222,\"#7201a8\"],[0.3333333333333333,\"#9c179e\"],[0.4444444444444444,\"#bd3786\"],[0.5555555555555556,\"#d8576b\"],[0.6666666666666666,\"#ed7953\"],[0.7777777777777778,\"#fb9f3a\"],[0.8888888888888888,\"#fdca26\"],[1.0,\"#f0f921\"]]}],\"heatmapgl\":[{\"type\":\"heatmapgl\",\"colorbar\":{\"outlinewidth\":0,\"ticks\":\"\"},\"colorscale\":[[0.0,\"#0d0887\"],[0.1111111111111111,\"#46039f\"],[0.2222222222222222,\"#7201a8\"],[0.3333333333333333,\"#9c179e\"],[0.4444444444444444,\"#bd3786\"],[0.5555555555555556,\"#d8576b\"],[0.6666666666666666,\"#ed7953\"],[0.7777777777777778,\"#fb9f3a\"],[0.8888888888888888,\"#fdca26\"],[1.0,\"#f0f921\"]]}],\"contourcarpet\":[{\"type\":\"contourcarpet\",\"colorbar\":{\"outlinewidth\":0,\"ticks\":\"\"}}],\"contour\":[{\"type\":\"contour\",\"colorbar\":{\"outlinewidth\":0,\"ticks\":\"\"},\"colorscale\":[[0.0,\"#0d0887\"],[0.1111111111111111,\"#46039f\"],[0.2222222222222222,\"#7201a8\"],[0.3333333333333333,\"#9c179e\"],[0.4444444444444444,\"#bd3786\"],[0.5555555555555556,\"#d8576b\"],[0.6666666666666666,\"#ed7953\"],[0.7777777777777778,\"#fb9f3a\"],[0.8888888888888888,\"#fdca26\"],[1.0,\"#f0f921\"]]}],\"surface\":[{\"type\":\"surface\",\"colorbar\":{\"outlinewidth\":0,\"ticks\":\"\"},\"colorscale\":[[0.0,\"#0d0887\"],[0.1111111111111111,\"#46039f\"],[0.2222222222222222,\"#7201a8\"],[0.3333333333333333,\"#9c179e\"],[0.4444444444444444,\"#bd3786\"],[0.5555555555555556,\"#d8576b\"],[0.6666666666666666,\"#ed7953\"],[0.7777777777777778,\"#fb9f3a\"],[0.8888888888888888,\"#fdca26\"],[1.0,\"#f0f921\"]]}],\"mesh3d\":[{\"type\":\"mesh3d\",\"colorbar\":{\"outlinewidth\":0,\"ticks\":\"\"}}],\"scatter\":[{\"fillpattern\":{\"fillmode\":\"overlay\",\"size\":10,\"solidity\":0.2},\"type\":\"scatter\"}],\"parcoords\":[{\"type\":\"parcoords\",\"line\":{\"colorbar\":{\"outlinewidth\":0,\"ticks\":\"\"}}}],\"scatterpolargl\":[{\"type\":\"scatterpolargl\",\"marker\":{\"colorbar\":{\"outlinewidth\":0,\"ticks\":\"\"}}}],\"bar\":[{\"error_x\":{\"color\":\"#2a3f5f\"},\"error_y\":{\"color\":\"#2a3f5f\"},\"marker\":{\"line\":{\"color\":\"#E5ECF6\",\"width\":0.5},\"pattern\":{\"fillmode\":\"overlay\",\"size\":10,\"solidity\":0.2}},\"type\":\"bar\"}],\"scattergeo\":[{\"type\":\"scattergeo\",\"marker\":{\"colorbar\":{\"outlinewidth\":0,\"ticks\":\"\"}}}],\"scatterpolar\":[{\"type\":\"scatterpolar\",\"marker\":{\"colorbar\":{\"outlinewidth\":0,\"ticks\":\"\"}}}],\"histogram\":[{\"marker\":{\"pattern\":{\"fillmode\":\"overlay\",\"size\":10,\"solidity\":0.2}},\"type\":\"histogram\"}],\"scattergl\":[{\"type\":\"scattergl\",\"marker\":{\"colorbar\":{\"outlinewidth\":0,\"ticks\":\"\"}}}],\"scatter3d\":[{\"type\":\"scatter3d\",\"line\":{\"colorbar\":{\"outlinewidth\":0,\"ticks\":\"\"}},\"marker\":{\"colorbar\":{\"outlinewidth\":0,\"ticks\":\"\"}}}],\"scattermapbox\":[{\"type\":\"scattermapbox\",\"marker\":{\"colorbar\":{\"outlinewidth\":0,\"ticks\":\"\"}}}],\"scatterternary\":[{\"type\":\"scatterternary\",\"marker\":{\"colorbar\":{\"outlinewidth\":0,\"ticks\":\"\"}}}],\"scattercarpet\":[{\"type\":\"scattercarpet\",\"marker\":{\"colorbar\":{\"outlinewidth\":0,\"ticks\":\"\"}}}],\"carpet\":[{\"aaxis\":{\"endlinecolor\":\"#2a3f5f\",\"gridcolor\":\"white\",\"linecolor\":\"white\",\"minorgridcolor\":\"white\",\"startlinecolor\":\"#2a3f5f\"},\"baxis\":{\"endlinecolor\":\"#2a3f5f\",\"gridcolor\":\"white\",\"linecolor\":\"white\",\"minorgridcolor\":\"white\",\"startlinecolor\":\"#2a3f5f\"},\"type\":\"carpet\"}],\"table\":[{\"cells\":{\"fill\":{\"color\":\"#EBF0F8\"},\"line\":{\"color\":\"white\"}},\"header\":{\"fill\":{\"color\":\"#C8D4E3\"},\"line\":{\"color\":\"white\"}},\"type\":\"table\"}],\"barpolar\":[{\"marker\":{\"line\":{\"color\":\"#E5ECF6\",\"width\":0.5},\"pattern\":{\"fillmode\":\"overlay\",\"size\":10,\"solidity\":0.2}},\"type\":\"barpolar\"}],\"pie\":[{\"automargin\":true,\"type\":\"pie\"}]},\"layout\":{\"autotypenumbers\":\"strict\",\"colorway\":[\"#636efa\",\"#EF553B\",\"#00cc96\",\"#ab63fa\",\"#FFA15A\",\"#19d3f3\",\"#FF6692\",\"#B6E880\",\"#FF97FF\",\"#FECB52\"],\"font\":{\"color\":\"#2a3f5f\"},\"hovermode\":\"closest\",\"hoverlabel\":{\"align\":\"left\"},\"paper_bgcolor\":\"white\",\"plot_bgcolor\":\"#E5ECF6\",\"polar\":{\"bgcolor\":\"#E5ECF6\",\"angularaxis\":{\"gridcolor\":\"white\",\"linecolor\":\"white\",\"ticks\":\"\"},\"radialaxis\":{\"gridcolor\":\"white\",\"linecolor\":\"white\",\"ticks\":\"\"}},\"ternary\":{\"bgcolor\":\"#E5ECF6\",\"aaxis\":{\"gridcolor\":\"white\",\"linecolor\":\"white\",\"ticks\":\"\"},\"baxis\":{\"gridcolor\":\"white\",\"linecolor\":\"white\",\"ticks\":\"\"},\"caxis\":{\"gridcolor\":\"white\",\"linecolor\":\"white\",\"ticks\":\"\"}},\"coloraxis\":{\"colorbar\":{\"outlinewidth\":0,\"ticks\":\"\"}},\"colorscale\":{\"sequential\":[[0.0,\"#0d0887\"],[0.1111111111111111,\"#46039f\"],[0.2222222222222222,\"#7201a8\"],[0.3333333333333333,\"#9c179e\"],[0.4444444444444444,\"#bd3786\"],[0.5555555555555556,\"#d8576b\"],[0.6666666666666666,\"#ed7953\"],[0.7777777777777778,\"#fb9f3a\"],[0.8888888888888888,\"#fdca26\"],[1.0,\"#f0f921\"]],\"sequentialminus\":[[0.0,\"#0d0887\"],[0.1111111111111111,\"#46039f\"],[0.2222222222222222,\"#7201a8\"],[0.3333333333333333,\"#9c179e\"],[0.4444444444444444,\"#bd3786\"],[0.5555555555555556,\"#d8576b\"],[0.6666666666666666,\"#ed7953\"],[0.7777777777777778,\"#fb9f3a\"],[0.8888888888888888,\"#fdca26\"],[1.0,\"#f0f921\"]],\"diverging\":[[0,\"#8e0152\"],[0.1,\"#c51b7d\"],[0.2,\"#de77ae\"],[0.3,\"#f1b6da\"],[0.4,\"#fde0ef\"],[0.5,\"#f7f7f7\"],[0.6,\"#e6f5d0\"],[0.7,\"#b8e186\"],[0.8,\"#7fbc41\"],[0.9,\"#4d9221\"],[1,\"#276419\"]]},\"xaxis\":{\"gridcolor\":\"white\",\"linecolor\":\"white\",\"ticks\":\"\",\"title\":{\"standoff\":15},\"zerolinecolor\":\"white\",\"automargin\":true,\"zerolinewidth\":2},\"yaxis\":{\"gridcolor\":\"white\",\"linecolor\":\"white\",\"ticks\":\"\",\"title\":{\"standoff\":15},\"zerolinecolor\":\"white\",\"automargin\":true,\"zerolinewidth\":2},\"scene\":{\"xaxis\":{\"backgroundcolor\":\"#E5ECF6\",\"gridcolor\":\"white\",\"linecolor\":\"white\",\"showbackground\":true,\"ticks\":\"\",\"zerolinecolor\":\"white\",\"gridwidth\":2},\"yaxis\":{\"backgroundcolor\":\"#E5ECF6\",\"gridcolor\":\"white\",\"linecolor\":\"white\",\"showbackground\":true,\"ticks\":\"\",\"zerolinecolor\":\"white\",\"gridwidth\":2},\"zaxis\":{\"backgroundcolor\":\"#E5ECF6\",\"gridcolor\":\"white\",\"linecolor\":\"white\",\"showbackground\":true,\"ticks\":\"\",\"zerolinecolor\":\"white\",\"gridwidth\":2}},\"shapedefaults\":{\"line\":{\"color\":\"#2a3f5f\"}},\"annotationdefaults\":{\"arrowcolor\":\"#2a3f5f\",\"arrowhead\":0,\"arrowwidth\":1},\"geo\":{\"bgcolor\":\"white\",\"landcolor\":\"#E5ECF6\",\"subunitcolor\":\"white\",\"showland\":true,\"showlakes\":true,\"lakecolor\":\"white\"},\"title\":{\"x\":0.05},\"mapbox\":{\"style\":\"light\"}}},\"barmode\":\"overlay\",\"title\":{\"text\":\"H0.0\"},\"xaxis\":{\"title\":{\"text\":\"Dot prod with non-palindrome direction\"}},\"yaxis\":{\"title\":{\"text\":\"Frequency\"}},\"autosize\":false,\"width\":800,\"height\":300},                        {\"responsive\": true}                    ).then(function(){\n",
              "                            \n",
              "var gd = document.getElementById('b1a03f76-e820-466d-a8c7-1b01adc65ae2');\n",
              "var x = new MutationObserver(function (mutations, observer) {{\n",
              "        var display = window.getComputedStyle(gd).display;\n",
              "        if (!display || display === 'none') {{\n",
              "            console.log([gd, 'removed!']);\n",
              "            Plotly.purge(gd);\n",
              "            observer.disconnect();\n",
              "        }}\n",
              "}});\n",
              "\n",
              "// Listen for the removal of the full notebook cells\n",
              "var notebookContainer = gd.closest('#notebook-container');\n",
              "if (notebookContainer) {{\n",
              "    x.observe(notebookContainer, {childList: true});\n",
              "}}\n",
              "\n",
              "// Listen for the clearing of the current output cell\n",
              "var outputEl = gd.closest('.output');\n",
              "if (outputEl) {{\n",
              "    x.observe(outputEl, {childList: true});\n",
              "}}\n",
              "\n",
              "                        })                };                            </script>        </div>\n",
              "</body>\n",
              "</html>"
            ]
          },
          "metadata": {}
        },
        {
          "output_type": "display_data",
          "data": {
            "text/html": [
              "<html>\n",
              "<head><meta charset=\"utf-8\" /></head>\n",
              "<body>\n",
              "    <div>            <script src=\"https://cdnjs.cloudflare.com/ajax/libs/mathjax/2.7.5/MathJax.js?config=TeX-AMS-MML_SVG\"></script><script type=\"text/javascript\">if (window.MathJax && window.MathJax.Hub && window.MathJax.Hub.Config) {window.MathJax.Hub.Config({SVG: {font: \"STIX-Web\"}});}</script>                <script type=\"text/javascript\">window.PlotlyConfig = {MathJaxConfig: 'local'};</script>\n",
              "        <script charset=\"utf-8\" src=\"https://cdn.plot.ly/plotly-2.24.1.min.js\"></script>                <div id=\"8f4672d3-e54c-4d7d-81b9-08c63b33c396\" class=\"plotly-graph-div\" style=\"height:300px; width:800px;\"></div>            <script type=\"text/javascript\">                                    window.PLOTLYENV=window.PLOTLYENV || {};                                    if (document.getElementById(\"8f4672d3-e54c-4d7d-81b9-08c63b33c396\")) {                    Plotly.newPlot(                        \"8f4672d3-e54c-4d7d-81b9-08c63b33c396\",                        [{\"marker\":{\"color\":\"red\"},\"name\":\"non-pal\",\"x\":[-0.7271672487258911,-0.2685685157775879,-0.5166059732437134,-1.1421562433242798,-0.8181281089782715,-0.46228617429733276,-0.5021748542785645,-0.47349774837493896,-0.6552013754844666,-0.021640513092279434,-1.0554635524749756,-0.27376994490623474,-0.487928181886673,-0.6558381915092468,-0.9522231221199036,-0.6244611144065857,-0.4786795675754547,-0.30608928203582764,-1.0644943714141846,-0.5719292163848877,-0.9305402636528015,-0.632300078868866,-0.7096080780029297,-0.8850116729736328,-0.5260633230209351,-0.4016134738922119,-0.37059539556503296,-0.2531001567840576,-0.35259297490119934,-0.5771579146385193,-0.32975780963897705,-0.7104384303092957,-0.5641056299209595,-0.4358665347099304,-0.2530708312988281,-0.3319057822227478,-0.4807412922382355,-0.5534746050834656,-0.5404679179191589,-0.6716421246528625,-0.20762719213962555,-0.21502113342285156,-0.05315255746245384,-0.7491129636764526,-0.5261771082878113,-0.42779481410980225,-0.8049327731132507,-0.48116621375083923,-0.7828901410102844,-0.8153418302536011],\"xbins\":{\"end\":0.15460869669914246,\"size\":0.029969484806060792,\"start\":-1.3438655138015747},\"type\":\"histogram\",\"opacity\":0.6},{\"marker\":{\"color\":\"blue\"},\"name\":\"pal\",\"x\":[-0.8999301791191101,-1.3438655138015747,-0.7764330506324768,-0.8521149754524231,-0.3315918743610382,-0.7604500651359558,-0.12143351882696152,-0.7420535683631897,-0.9406402707099915,-0.7670358419418335,-0.3949262201786041,-0.2487800568342209,-0.6305126547813416,-0.4968589246273041,-0.2891797125339508,-0.5624767541885376,-0.5794808268547058,-0.41569480299949646,-0.23932039737701416,-0.5766909122467041,-0.687965989112854,-0.3893233835697174,-0.7161920070648193,-0.9523209929466248,-0.7573431730270386,-0.7423260807991028,-0.10171244293451309,0.15460869669914246,-0.586635947227478,-0.8470396399497986,-0.4076050817966461,-0.629426121711731,-1.3199139833450317,0.135529026389122,-0.8288955092430115,-0.4047197103500366,0.030771169811487198,-1.019315481185913,-0.08908198773860931,-0.7145792245864868,-0.8044468760490417,-0.30527225136756897,-0.17054630815982819,-1.006351351737976,-1.0223132371902466,-0.004890422336757183,-1.1118919849395752,-0.19954678416252136,-0.7501388788223267,-0.48637956380844116],\"xbins\":{\"end\":0.15460869669914246,\"size\":0.029969484806060792,\"start\":-1.3438655138015747},\"type\":\"histogram\",\"opacity\":0.6}],                        {\"template\":{\"data\":{\"histogram2dcontour\":[{\"type\":\"histogram2dcontour\",\"colorbar\":{\"outlinewidth\":0,\"ticks\":\"\"},\"colorscale\":[[0.0,\"#0d0887\"],[0.1111111111111111,\"#46039f\"],[0.2222222222222222,\"#7201a8\"],[0.3333333333333333,\"#9c179e\"],[0.4444444444444444,\"#bd3786\"],[0.5555555555555556,\"#d8576b\"],[0.6666666666666666,\"#ed7953\"],[0.7777777777777778,\"#fb9f3a\"],[0.8888888888888888,\"#fdca26\"],[1.0,\"#f0f921\"]]}],\"choropleth\":[{\"type\":\"choropleth\",\"colorbar\":{\"outlinewidth\":0,\"ticks\":\"\"}}],\"histogram2d\":[{\"type\":\"histogram2d\",\"colorbar\":{\"outlinewidth\":0,\"ticks\":\"\"},\"colorscale\":[[0.0,\"#0d0887\"],[0.1111111111111111,\"#46039f\"],[0.2222222222222222,\"#7201a8\"],[0.3333333333333333,\"#9c179e\"],[0.4444444444444444,\"#bd3786\"],[0.5555555555555556,\"#d8576b\"],[0.6666666666666666,\"#ed7953\"],[0.7777777777777778,\"#fb9f3a\"],[0.8888888888888888,\"#fdca26\"],[1.0,\"#f0f921\"]]}],\"heatmap\":[{\"type\":\"heatmap\",\"colorbar\":{\"outlinewidth\":0,\"ticks\":\"\"},\"colorscale\":[[0.0,\"#0d0887\"],[0.1111111111111111,\"#46039f\"],[0.2222222222222222,\"#7201a8\"],[0.3333333333333333,\"#9c179e\"],[0.4444444444444444,\"#bd3786\"],[0.5555555555555556,\"#d8576b\"],[0.6666666666666666,\"#ed7953\"],[0.7777777777777778,\"#fb9f3a\"],[0.8888888888888888,\"#fdca26\"],[1.0,\"#f0f921\"]]}],\"heatmapgl\":[{\"type\":\"heatmapgl\",\"colorbar\":{\"outlinewidth\":0,\"ticks\":\"\"},\"colorscale\":[[0.0,\"#0d0887\"],[0.1111111111111111,\"#46039f\"],[0.2222222222222222,\"#7201a8\"],[0.3333333333333333,\"#9c179e\"],[0.4444444444444444,\"#bd3786\"],[0.5555555555555556,\"#d8576b\"],[0.6666666666666666,\"#ed7953\"],[0.7777777777777778,\"#fb9f3a\"],[0.8888888888888888,\"#fdca26\"],[1.0,\"#f0f921\"]]}],\"contourcarpet\":[{\"type\":\"contourcarpet\",\"colorbar\":{\"outlinewidth\":0,\"ticks\":\"\"}}],\"contour\":[{\"type\":\"contour\",\"colorbar\":{\"outlinewidth\":0,\"ticks\":\"\"},\"colorscale\":[[0.0,\"#0d0887\"],[0.1111111111111111,\"#46039f\"],[0.2222222222222222,\"#7201a8\"],[0.3333333333333333,\"#9c179e\"],[0.4444444444444444,\"#bd3786\"],[0.5555555555555556,\"#d8576b\"],[0.6666666666666666,\"#ed7953\"],[0.7777777777777778,\"#fb9f3a\"],[0.8888888888888888,\"#fdca26\"],[1.0,\"#f0f921\"]]}],\"surface\":[{\"type\":\"surface\",\"colorbar\":{\"outlinewidth\":0,\"ticks\":\"\"},\"colorscale\":[[0.0,\"#0d0887\"],[0.1111111111111111,\"#46039f\"],[0.2222222222222222,\"#7201a8\"],[0.3333333333333333,\"#9c179e\"],[0.4444444444444444,\"#bd3786\"],[0.5555555555555556,\"#d8576b\"],[0.6666666666666666,\"#ed7953\"],[0.7777777777777778,\"#fb9f3a\"],[0.8888888888888888,\"#fdca26\"],[1.0,\"#f0f921\"]]}],\"mesh3d\":[{\"type\":\"mesh3d\",\"colorbar\":{\"outlinewidth\":0,\"ticks\":\"\"}}],\"scatter\":[{\"fillpattern\":{\"fillmode\":\"overlay\",\"size\":10,\"solidity\":0.2},\"type\":\"scatter\"}],\"parcoords\":[{\"type\":\"parcoords\",\"line\":{\"colorbar\":{\"outlinewidth\":0,\"ticks\":\"\"}}}],\"scatterpolargl\":[{\"type\":\"scatterpolargl\",\"marker\":{\"colorbar\":{\"outlinewidth\":0,\"ticks\":\"\"}}}],\"bar\":[{\"error_x\":{\"color\":\"#2a3f5f\"},\"error_y\":{\"color\":\"#2a3f5f\"},\"marker\":{\"line\":{\"color\":\"#E5ECF6\",\"width\":0.5},\"pattern\":{\"fillmode\":\"overlay\",\"size\":10,\"solidity\":0.2}},\"type\":\"bar\"}],\"scattergeo\":[{\"type\":\"scattergeo\",\"marker\":{\"colorbar\":{\"outlinewidth\":0,\"ticks\":\"\"}}}],\"scatterpolar\":[{\"type\":\"scatterpolar\",\"marker\":{\"colorbar\":{\"outlinewidth\":0,\"ticks\":\"\"}}}],\"histogram\":[{\"marker\":{\"pattern\":{\"fillmode\":\"overlay\",\"size\":10,\"solidity\":0.2}},\"type\":\"histogram\"}],\"scattergl\":[{\"type\":\"scattergl\",\"marker\":{\"colorbar\":{\"outlinewidth\":0,\"ticks\":\"\"}}}],\"scatter3d\":[{\"type\":\"scatter3d\",\"line\":{\"colorbar\":{\"outlinewidth\":0,\"ticks\":\"\"}},\"marker\":{\"colorbar\":{\"outlinewidth\":0,\"ticks\":\"\"}}}],\"scattermapbox\":[{\"type\":\"scattermapbox\",\"marker\":{\"colorbar\":{\"outlinewidth\":0,\"ticks\":\"\"}}}],\"scatterternary\":[{\"type\":\"scatterternary\",\"marker\":{\"colorbar\":{\"outlinewidth\":0,\"ticks\":\"\"}}}],\"scattercarpet\":[{\"type\":\"scattercarpet\",\"marker\":{\"colorbar\":{\"outlinewidth\":0,\"ticks\":\"\"}}}],\"carpet\":[{\"aaxis\":{\"endlinecolor\":\"#2a3f5f\",\"gridcolor\":\"white\",\"linecolor\":\"white\",\"minorgridcolor\":\"white\",\"startlinecolor\":\"#2a3f5f\"},\"baxis\":{\"endlinecolor\":\"#2a3f5f\",\"gridcolor\":\"white\",\"linecolor\":\"white\",\"minorgridcolor\":\"white\",\"startlinecolor\":\"#2a3f5f\"},\"type\":\"carpet\"}],\"table\":[{\"cells\":{\"fill\":{\"color\":\"#EBF0F8\"},\"line\":{\"color\":\"white\"}},\"header\":{\"fill\":{\"color\":\"#C8D4E3\"},\"line\":{\"color\":\"white\"}},\"type\":\"table\"}],\"barpolar\":[{\"marker\":{\"line\":{\"color\":\"#E5ECF6\",\"width\":0.5},\"pattern\":{\"fillmode\":\"overlay\",\"size\":10,\"solidity\":0.2}},\"type\":\"barpolar\"}],\"pie\":[{\"automargin\":true,\"type\":\"pie\"}]},\"layout\":{\"autotypenumbers\":\"strict\",\"colorway\":[\"#636efa\",\"#EF553B\",\"#00cc96\",\"#ab63fa\",\"#FFA15A\",\"#19d3f3\",\"#FF6692\",\"#B6E880\",\"#FF97FF\",\"#FECB52\"],\"font\":{\"color\":\"#2a3f5f\"},\"hovermode\":\"closest\",\"hoverlabel\":{\"align\":\"left\"},\"paper_bgcolor\":\"white\",\"plot_bgcolor\":\"#E5ECF6\",\"polar\":{\"bgcolor\":\"#E5ECF6\",\"angularaxis\":{\"gridcolor\":\"white\",\"linecolor\":\"white\",\"ticks\":\"\"},\"radialaxis\":{\"gridcolor\":\"white\",\"linecolor\":\"white\",\"ticks\":\"\"}},\"ternary\":{\"bgcolor\":\"#E5ECF6\",\"aaxis\":{\"gridcolor\":\"white\",\"linecolor\":\"white\",\"ticks\":\"\"},\"baxis\":{\"gridcolor\":\"white\",\"linecolor\":\"white\",\"ticks\":\"\"},\"caxis\":{\"gridcolor\":\"white\",\"linecolor\":\"white\",\"ticks\":\"\"}},\"coloraxis\":{\"colorbar\":{\"outlinewidth\":0,\"ticks\":\"\"}},\"colorscale\":{\"sequential\":[[0.0,\"#0d0887\"],[0.1111111111111111,\"#46039f\"],[0.2222222222222222,\"#7201a8\"],[0.3333333333333333,\"#9c179e\"],[0.4444444444444444,\"#bd3786\"],[0.5555555555555556,\"#d8576b\"],[0.6666666666666666,\"#ed7953\"],[0.7777777777777778,\"#fb9f3a\"],[0.8888888888888888,\"#fdca26\"],[1.0,\"#f0f921\"]],\"sequentialminus\":[[0.0,\"#0d0887\"],[0.1111111111111111,\"#46039f\"],[0.2222222222222222,\"#7201a8\"],[0.3333333333333333,\"#9c179e\"],[0.4444444444444444,\"#bd3786\"],[0.5555555555555556,\"#d8576b\"],[0.6666666666666666,\"#ed7953\"],[0.7777777777777778,\"#fb9f3a\"],[0.8888888888888888,\"#fdca26\"],[1.0,\"#f0f921\"]],\"diverging\":[[0,\"#8e0152\"],[0.1,\"#c51b7d\"],[0.2,\"#de77ae\"],[0.3,\"#f1b6da\"],[0.4,\"#fde0ef\"],[0.5,\"#f7f7f7\"],[0.6,\"#e6f5d0\"],[0.7,\"#b8e186\"],[0.8,\"#7fbc41\"],[0.9,\"#4d9221\"],[1,\"#276419\"]]},\"xaxis\":{\"gridcolor\":\"white\",\"linecolor\":\"white\",\"ticks\":\"\",\"title\":{\"standoff\":15},\"zerolinecolor\":\"white\",\"automargin\":true,\"zerolinewidth\":2},\"yaxis\":{\"gridcolor\":\"white\",\"linecolor\":\"white\",\"ticks\":\"\",\"title\":{\"standoff\":15},\"zerolinecolor\":\"white\",\"automargin\":true,\"zerolinewidth\":2},\"scene\":{\"xaxis\":{\"backgroundcolor\":\"#E5ECF6\",\"gridcolor\":\"white\",\"linecolor\":\"white\",\"showbackground\":true,\"ticks\":\"\",\"zerolinecolor\":\"white\",\"gridwidth\":2},\"yaxis\":{\"backgroundcolor\":\"#E5ECF6\",\"gridcolor\":\"white\",\"linecolor\":\"white\",\"showbackground\":true,\"ticks\":\"\",\"zerolinecolor\":\"white\",\"gridwidth\":2},\"zaxis\":{\"backgroundcolor\":\"#E5ECF6\",\"gridcolor\":\"white\",\"linecolor\":\"white\",\"showbackground\":true,\"ticks\":\"\",\"zerolinecolor\":\"white\",\"gridwidth\":2}},\"shapedefaults\":{\"line\":{\"color\":\"#2a3f5f\"}},\"annotationdefaults\":{\"arrowcolor\":\"#2a3f5f\",\"arrowhead\":0,\"arrowwidth\":1},\"geo\":{\"bgcolor\":\"white\",\"landcolor\":\"#E5ECF6\",\"subunitcolor\":\"white\",\"showland\":true,\"showlakes\":true,\"lakecolor\":\"white\"},\"title\":{\"x\":0.05},\"mapbox\":{\"style\":\"light\"}}},\"barmode\":\"overlay\",\"title\":{\"text\":\"H0.1\"},\"xaxis\":{\"title\":{\"text\":\"Dot prod with non-palindrome direction\"}},\"yaxis\":{\"title\":{\"text\":\"Frequency\"}},\"autosize\":false,\"width\":800,\"height\":300},                        {\"responsive\": true}                    ).then(function(){\n",
              "                            \n",
              "var gd = document.getElementById('8f4672d3-e54c-4d7d-81b9-08c63b33c396');\n",
              "var x = new MutationObserver(function (mutations, observer) {{\n",
              "        var display = window.getComputedStyle(gd).display;\n",
              "        if (!display || display === 'none') {{\n",
              "            console.log([gd, 'removed!']);\n",
              "            Plotly.purge(gd);\n",
              "            observer.disconnect();\n",
              "        }}\n",
              "}});\n",
              "\n",
              "// Listen for the removal of the full notebook cells\n",
              "var notebookContainer = gd.closest('#notebook-container');\n",
              "if (notebookContainer) {{\n",
              "    x.observe(notebookContainer, {childList: true});\n",
              "}}\n",
              "\n",
              "// Listen for the clearing of the current output cell\n",
              "var outputEl = gd.closest('.output');\n",
              "if (outputEl) {{\n",
              "    x.observe(outputEl, {childList: true});\n",
              "}}\n",
              "\n",
              "                        })                };                            </script>        </div>\n",
              "</body>\n",
              "</html>"
            ]
          },
          "metadata": {}
        },
        {
          "output_type": "display_data",
          "data": {
            "text/html": [
              "<html>\n",
              "<head><meta charset=\"utf-8\" /></head>\n",
              "<body>\n",
              "    <div>            <script src=\"https://cdnjs.cloudflare.com/ajax/libs/mathjax/2.7.5/MathJax.js?config=TeX-AMS-MML_SVG\"></script><script type=\"text/javascript\">if (window.MathJax && window.MathJax.Hub && window.MathJax.Hub.Config) {window.MathJax.Hub.Config({SVG: {font: \"STIX-Web\"}});}</script>                <script type=\"text/javascript\">window.PlotlyConfig = {MathJaxConfig: 'local'};</script>\n",
              "        <script charset=\"utf-8\" src=\"https://cdn.plot.ly/plotly-2.24.1.min.js\"></script>                <div id=\"9b77152a-46fd-4e87-a523-b559e084f0cb\" class=\"plotly-graph-div\" style=\"height:300px; width:800px;\"></div>            <script type=\"text/javascript\">                                    window.PLOTLYENV=window.PLOTLYENV || {};                                    if (document.getElementById(\"9b77152a-46fd-4e87-a523-b559e084f0cb\")) {                    Plotly.newPlot(                        \"9b77152a-46fd-4e87-a523-b559e084f0cb\",                        [{\"marker\":{\"color\":\"red\"},\"name\":\"non-pal\",\"x\":[19.48400115966797,21.389204025268555,21.80046272277832,18.851390838623047,18.493345260620117,20.010591506958008,22.08133316040039,16.1743106842041,17.229799270629883,18.15349006652832,9.535928726196289,10.272438049316406,17.677024841308594,17.802772521972656,18.42934799194336,14.79542064666748,19.558956146240234,16.596467971801758,19.12940788269043,19.39863395690918,19.850568771362305,11.822259902954102,20.562061309814453,23.050270080566406,14.329597473144531,15.834245681762695,18.699987411499023,18.713714599609375,18.256135940551758,15.925938606262207,18.58231544494629,18.258514404296875,15.265786170959473,18.58770751953125,13.155226707458496,18.800016403198242,14.985783576965332,18.753725051879883,18.73888397216797,15.227014541625977,18.32390022277832,17.306867599487305,16.171499252319336,15.501571655273438,15.512707710266113,18.72307586669922,19.3714542388916,19.019094467163086,19.148996353149414,18.323637008666992],\"xbins\":{\"end\":23.050270080566406,\"size\":0.4908942413330078,\"start\":-1.494441032409668},\"type\":\"histogram\",\"opacity\":0.6},{\"marker\":{\"color\":\"blue\"},\"name\":\"pal\",\"x\":[0.9719213843345642,2.3950247764587402,0.8054026365280151,2.215862989425659,1.2828917503356934,0.17462342977523804,-0.8252744078636169,1.4254000186920166,1.4378020763397217,1.258244514465332,-0.35511040687561035,1.057405710220337,0.9744718074798584,-0.4814256429672241,1.5027620792388916,0.33583879470825195,0.3997884690761566,0.9047070741653442,0.31336113810539246,0.6493762135505676,1.3287302255630493,1.4379048347473145,-1.494441032409668,0.24775615334510803,0.26939913630485535,0.6606063842773438,0.07012426108121872,-0.7880703806877136,0.00045249518007040024,1.4533905982971191,0.3788672387599945,0.8861435055732727,0.7703105211257935,0.7585214972496033,1.0048600435256958,0.05384022742509842,-0.14788617193698883,0.46529915928840637,0.7837767601013184,-0.03302760422229767,0.01921231485903263,0.9997307062149048,-0.031687844544649124,2.011707305908203,1.2230323553085327,0.3541111648082733,0.7694865465164185,1.0913413763046265,-0.6218724846839905,1.8359606266021729],\"xbins\":{\"end\":23.050270080566406,\"size\":0.4908942413330078,\"start\":-1.494441032409668},\"type\":\"histogram\",\"opacity\":0.6}],                        {\"template\":{\"data\":{\"histogram2dcontour\":[{\"type\":\"histogram2dcontour\",\"colorbar\":{\"outlinewidth\":0,\"ticks\":\"\"},\"colorscale\":[[0.0,\"#0d0887\"],[0.1111111111111111,\"#46039f\"],[0.2222222222222222,\"#7201a8\"],[0.3333333333333333,\"#9c179e\"],[0.4444444444444444,\"#bd3786\"],[0.5555555555555556,\"#d8576b\"],[0.6666666666666666,\"#ed7953\"],[0.7777777777777778,\"#fb9f3a\"],[0.8888888888888888,\"#fdca26\"],[1.0,\"#f0f921\"]]}],\"choropleth\":[{\"type\":\"choropleth\",\"colorbar\":{\"outlinewidth\":0,\"ticks\":\"\"}}],\"histogram2d\":[{\"type\":\"histogram2d\",\"colorbar\":{\"outlinewidth\":0,\"ticks\":\"\"},\"colorscale\":[[0.0,\"#0d0887\"],[0.1111111111111111,\"#46039f\"],[0.2222222222222222,\"#7201a8\"],[0.3333333333333333,\"#9c179e\"],[0.4444444444444444,\"#bd3786\"],[0.5555555555555556,\"#d8576b\"],[0.6666666666666666,\"#ed7953\"],[0.7777777777777778,\"#fb9f3a\"],[0.8888888888888888,\"#fdca26\"],[1.0,\"#f0f921\"]]}],\"heatmap\":[{\"type\":\"heatmap\",\"colorbar\":{\"outlinewidth\":0,\"ticks\":\"\"},\"colorscale\":[[0.0,\"#0d0887\"],[0.1111111111111111,\"#46039f\"],[0.2222222222222222,\"#7201a8\"],[0.3333333333333333,\"#9c179e\"],[0.4444444444444444,\"#bd3786\"],[0.5555555555555556,\"#d8576b\"],[0.6666666666666666,\"#ed7953\"],[0.7777777777777778,\"#fb9f3a\"],[0.8888888888888888,\"#fdca26\"],[1.0,\"#f0f921\"]]}],\"heatmapgl\":[{\"type\":\"heatmapgl\",\"colorbar\":{\"outlinewidth\":0,\"ticks\":\"\"},\"colorscale\":[[0.0,\"#0d0887\"],[0.1111111111111111,\"#46039f\"],[0.2222222222222222,\"#7201a8\"],[0.3333333333333333,\"#9c179e\"],[0.4444444444444444,\"#bd3786\"],[0.5555555555555556,\"#d8576b\"],[0.6666666666666666,\"#ed7953\"],[0.7777777777777778,\"#fb9f3a\"],[0.8888888888888888,\"#fdca26\"],[1.0,\"#f0f921\"]]}],\"contourcarpet\":[{\"type\":\"contourcarpet\",\"colorbar\":{\"outlinewidth\":0,\"ticks\":\"\"}}],\"contour\":[{\"type\":\"contour\",\"colorbar\":{\"outlinewidth\":0,\"ticks\":\"\"},\"colorscale\":[[0.0,\"#0d0887\"],[0.1111111111111111,\"#46039f\"],[0.2222222222222222,\"#7201a8\"],[0.3333333333333333,\"#9c179e\"],[0.4444444444444444,\"#bd3786\"],[0.5555555555555556,\"#d8576b\"],[0.6666666666666666,\"#ed7953\"],[0.7777777777777778,\"#fb9f3a\"],[0.8888888888888888,\"#fdca26\"],[1.0,\"#f0f921\"]]}],\"surface\":[{\"type\":\"surface\",\"colorbar\":{\"outlinewidth\":0,\"ticks\":\"\"},\"colorscale\":[[0.0,\"#0d0887\"],[0.1111111111111111,\"#46039f\"],[0.2222222222222222,\"#7201a8\"],[0.3333333333333333,\"#9c179e\"],[0.4444444444444444,\"#bd3786\"],[0.5555555555555556,\"#d8576b\"],[0.6666666666666666,\"#ed7953\"],[0.7777777777777778,\"#fb9f3a\"],[0.8888888888888888,\"#fdca26\"],[1.0,\"#f0f921\"]]}],\"mesh3d\":[{\"type\":\"mesh3d\",\"colorbar\":{\"outlinewidth\":0,\"ticks\":\"\"}}],\"scatter\":[{\"fillpattern\":{\"fillmode\":\"overlay\",\"size\":10,\"solidity\":0.2},\"type\":\"scatter\"}],\"parcoords\":[{\"type\":\"parcoords\",\"line\":{\"colorbar\":{\"outlinewidth\":0,\"ticks\":\"\"}}}],\"scatterpolargl\":[{\"type\":\"scatterpolargl\",\"marker\":{\"colorbar\":{\"outlinewidth\":0,\"ticks\":\"\"}}}],\"bar\":[{\"error_x\":{\"color\":\"#2a3f5f\"},\"error_y\":{\"color\":\"#2a3f5f\"},\"marker\":{\"line\":{\"color\":\"#E5ECF6\",\"width\":0.5},\"pattern\":{\"fillmode\":\"overlay\",\"size\":10,\"solidity\":0.2}},\"type\":\"bar\"}],\"scattergeo\":[{\"type\":\"scattergeo\",\"marker\":{\"colorbar\":{\"outlinewidth\":0,\"ticks\":\"\"}}}],\"scatterpolar\":[{\"type\":\"scatterpolar\",\"marker\":{\"colorbar\":{\"outlinewidth\":0,\"ticks\":\"\"}}}],\"histogram\":[{\"marker\":{\"pattern\":{\"fillmode\":\"overlay\",\"size\":10,\"solidity\":0.2}},\"type\":\"histogram\"}],\"scattergl\":[{\"type\":\"scattergl\",\"marker\":{\"colorbar\":{\"outlinewidth\":0,\"ticks\":\"\"}}}],\"scatter3d\":[{\"type\":\"scatter3d\",\"line\":{\"colorbar\":{\"outlinewidth\":0,\"ticks\":\"\"}},\"marker\":{\"colorbar\":{\"outlinewidth\":0,\"ticks\":\"\"}}}],\"scattermapbox\":[{\"type\":\"scattermapbox\",\"marker\":{\"colorbar\":{\"outlinewidth\":0,\"ticks\":\"\"}}}],\"scatterternary\":[{\"type\":\"scatterternary\",\"marker\":{\"colorbar\":{\"outlinewidth\":0,\"ticks\":\"\"}}}],\"scattercarpet\":[{\"type\":\"scattercarpet\",\"marker\":{\"colorbar\":{\"outlinewidth\":0,\"ticks\":\"\"}}}],\"carpet\":[{\"aaxis\":{\"endlinecolor\":\"#2a3f5f\",\"gridcolor\":\"white\",\"linecolor\":\"white\",\"minorgridcolor\":\"white\",\"startlinecolor\":\"#2a3f5f\"},\"baxis\":{\"endlinecolor\":\"#2a3f5f\",\"gridcolor\":\"white\",\"linecolor\":\"white\",\"minorgridcolor\":\"white\",\"startlinecolor\":\"#2a3f5f\"},\"type\":\"carpet\"}],\"table\":[{\"cells\":{\"fill\":{\"color\":\"#EBF0F8\"},\"line\":{\"color\":\"white\"}},\"header\":{\"fill\":{\"color\":\"#C8D4E3\"},\"line\":{\"color\":\"white\"}},\"type\":\"table\"}],\"barpolar\":[{\"marker\":{\"line\":{\"color\":\"#E5ECF6\",\"width\":0.5},\"pattern\":{\"fillmode\":\"overlay\",\"size\":10,\"solidity\":0.2}},\"type\":\"barpolar\"}],\"pie\":[{\"automargin\":true,\"type\":\"pie\"}]},\"layout\":{\"autotypenumbers\":\"strict\",\"colorway\":[\"#636efa\",\"#EF553B\",\"#00cc96\",\"#ab63fa\",\"#FFA15A\",\"#19d3f3\",\"#FF6692\",\"#B6E880\",\"#FF97FF\",\"#FECB52\"],\"font\":{\"color\":\"#2a3f5f\"},\"hovermode\":\"closest\",\"hoverlabel\":{\"align\":\"left\"},\"paper_bgcolor\":\"white\",\"plot_bgcolor\":\"#E5ECF6\",\"polar\":{\"bgcolor\":\"#E5ECF6\",\"angularaxis\":{\"gridcolor\":\"white\",\"linecolor\":\"white\",\"ticks\":\"\"},\"radialaxis\":{\"gridcolor\":\"white\",\"linecolor\":\"white\",\"ticks\":\"\"}},\"ternary\":{\"bgcolor\":\"#E5ECF6\",\"aaxis\":{\"gridcolor\":\"white\",\"linecolor\":\"white\",\"ticks\":\"\"},\"baxis\":{\"gridcolor\":\"white\",\"linecolor\":\"white\",\"ticks\":\"\"},\"caxis\":{\"gridcolor\":\"white\",\"linecolor\":\"white\",\"ticks\":\"\"}},\"coloraxis\":{\"colorbar\":{\"outlinewidth\":0,\"ticks\":\"\"}},\"colorscale\":{\"sequential\":[[0.0,\"#0d0887\"],[0.1111111111111111,\"#46039f\"],[0.2222222222222222,\"#7201a8\"],[0.3333333333333333,\"#9c179e\"],[0.4444444444444444,\"#bd3786\"],[0.5555555555555556,\"#d8576b\"],[0.6666666666666666,\"#ed7953\"],[0.7777777777777778,\"#fb9f3a\"],[0.8888888888888888,\"#fdca26\"],[1.0,\"#f0f921\"]],\"sequentialminus\":[[0.0,\"#0d0887\"],[0.1111111111111111,\"#46039f\"],[0.2222222222222222,\"#7201a8\"],[0.3333333333333333,\"#9c179e\"],[0.4444444444444444,\"#bd3786\"],[0.5555555555555556,\"#d8576b\"],[0.6666666666666666,\"#ed7953\"],[0.7777777777777778,\"#fb9f3a\"],[0.8888888888888888,\"#fdca26\"],[1.0,\"#f0f921\"]],\"diverging\":[[0,\"#8e0152\"],[0.1,\"#c51b7d\"],[0.2,\"#de77ae\"],[0.3,\"#f1b6da\"],[0.4,\"#fde0ef\"],[0.5,\"#f7f7f7\"],[0.6,\"#e6f5d0\"],[0.7,\"#b8e186\"],[0.8,\"#7fbc41\"],[0.9,\"#4d9221\"],[1,\"#276419\"]]},\"xaxis\":{\"gridcolor\":\"white\",\"linecolor\":\"white\",\"ticks\":\"\",\"title\":{\"standoff\":15},\"zerolinecolor\":\"white\",\"automargin\":true,\"zerolinewidth\":2},\"yaxis\":{\"gridcolor\":\"white\",\"linecolor\":\"white\",\"ticks\":\"\",\"title\":{\"standoff\":15},\"zerolinecolor\":\"white\",\"automargin\":true,\"zerolinewidth\":2},\"scene\":{\"xaxis\":{\"backgroundcolor\":\"#E5ECF6\",\"gridcolor\":\"white\",\"linecolor\":\"white\",\"showbackground\":true,\"ticks\":\"\",\"zerolinecolor\":\"white\",\"gridwidth\":2},\"yaxis\":{\"backgroundcolor\":\"#E5ECF6\",\"gridcolor\":\"white\",\"linecolor\":\"white\",\"showbackground\":true,\"ticks\":\"\",\"zerolinecolor\":\"white\",\"gridwidth\":2},\"zaxis\":{\"backgroundcolor\":\"#E5ECF6\",\"gridcolor\":\"white\",\"linecolor\":\"white\",\"showbackground\":true,\"ticks\":\"\",\"zerolinecolor\":\"white\",\"gridwidth\":2}},\"shapedefaults\":{\"line\":{\"color\":\"#2a3f5f\"}},\"annotationdefaults\":{\"arrowcolor\":\"#2a3f5f\",\"arrowhead\":0,\"arrowwidth\":1},\"geo\":{\"bgcolor\":\"white\",\"landcolor\":\"#E5ECF6\",\"subunitcolor\":\"white\",\"showland\":true,\"showlakes\":true,\"lakecolor\":\"white\"},\"title\":{\"x\":0.05},\"mapbox\":{\"style\":\"light\"}}},\"barmode\":\"overlay\",\"title\":{\"text\":\"H1.0\"},\"xaxis\":{\"title\":{\"text\":\"Dot prod with non-palindrome direction\"}},\"yaxis\":{\"title\":{\"text\":\"Frequency\"}},\"autosize\":false,\"width\":800,\"height\":300},                        {\"responsive\": true}                    ).then(function(){\n",
              "                            \n",
              "var gd = document.getElementById('9b77152a-46fd-4e87-a523-b559e084f0cb');\n",
              "var x = new MutationObserver(function (mutations, observer) {{\n",
              "        var display = window.getComputedStyle(gd).display;\n",
              "        if (!display || display === 'none') {{\n",
              "            console.log([gd, 'removed!']);\n",
              "            Plotly.purge(gd);\n",
              "            observer.disconnect();\n",
              "        }}\n",
              "}});\n",
              "\n",
              "// Listen for the removal of the full notebook cells\n",
              "var notebookContainer = gd.closest('#notebook-container');\n",
              "if (notebookContainer) {{\n",
              "    x.observe(notebookContainer, {childList: true});\n",
              "}}\n",
              "\n",
              "// Listen for the clearing of the current output cell\n",
              "var outputEl = gd.closest('.output');\n",
              "if (outputEl) {{\n",
              "    x.observe(outputEl, {childList: true});\n",
              "}}\n",
              "\n",
              "                        })                };                            </script>        </div>\n",
              "</body>\n",
              "</html>"
            ]
          },
          "metadata": {}
        },
        {
          "output_type": "display_data",
          "data": {
            "text/html": [
              "<html>\n",
              "<head><meta charset=\"utf-8\" /></head>\n",
              "<body>\n",
              "    <div>            <script src=\"https://cdnjs.cloudflare.com/ajax/libs/mathjax/2.7.5/MathJax.js?config=TeX-AMS-MML_SVG\"></script><script type=\"text/javascript\">if (window.MathJax && window.MathJax.Hub && window.MathJax.Hub.Config) {window.MathJax.Hub.Config({SVG: {font: \"STIX-Web\"}});}</script>                <script type=\"text/javascript\">window.PlotlyConfig = {MathJaxConfig: 'local'};</script>\n",
              "        <script charset=\"utf-8\" src=\"https://cdn.plot.ly/plotly-2.24.1.min.js\"></script>                <div id=\"094b4d54-3133-4810-8575-2bdb09495013\" class=\"plotly-graph-div\" style=\"height:300px; width:800px;\"></div>            <script type=\"text/javascript\">                                    window.PLOTLYENV=window.PLOTLYENV || {};                                    if (document.getElementById(\"094b4d54-3133-4810-8575-2bdb09495013\")) {                    Plotly.newPlot(                        \"094b4d54-3133-4810-8575-2bdb09495013\",                        [{\"marker\":{\"color\":\"red\"},\"name\":\"non-pal\",\"x\":[6.410508155822754,7.210648059844971,-0.42812708020210266,-3.2196781635284424,9.312262535095215,-1.7124862670898438,9.105659484863281,-2.2534666061401367,-1.4837453365325928,5.808367729187012,-0.44105783104896545,6.7832932472229,-1.6070563793182373,0.28237664699554443,6.178677082061768,-0.6959666013717651,-1.7398473024368286,9.310739517211914,-1.17715585231781,-0.10743194073438644,-0.8580486178398132,9.04955005645752,-1.6968597173690796,0.19445377588272095,-0.3603001832962036,1.145307183265686,5.0781073570251465,7.9512152671813965,8.972365379333496,-0.6609265208244324,4.478732109069824,4.980990409851074,-1.3005175590515137,-1.834150791168213,-0.8133749961853027,-1.5725575685501099,2.9261069297790527,-0.7461349964141846,-1.333687424659729,-2.362602949142456,-1.0995798110961914,10.693456649780273,-1.4650496244430542,-1.6594074964523315,4.487992286682129,-1.257115125656128,-1.7337883710861206,-1.8919620513916016,-0.6851300001144409,-1.7888365983963013],\"xbins\":{\"end\":10.693456649780273,\"size\":0.27826269149780275,\"start\":-3.2196781635284424},\"type\":\"histogram\",\"opacity\":0.6},{\"marker\":{\"color\":\"blue\"},\"name\":\"pal\",\"x\":[-0.8205655217170715,-1.575146198272705,-2.08359694480896,-0.8833249807357788,-1.771331548690796,-0.9583751559257507,-1.4850207567214966,-2.041658401489258,-2.15844988822937,-1.9144656658172607,-1.1960697174072266,-1.916047215461731,-1.0864872932434082,-1.0262640714645386,-1.805230736732483,-2.174269914627075,-0.7490423917770386,-1.1563184261322021,-2.561260938644409,-1.9930564165115356,-1.3414443731307983,-2.044595241546631,-1.7455602884292603,-0.04922498017549515,-1.8599905967712402,-0.8063580393791199,-1.3727537393569946,-1.1187654733657837,-0.33912646770477295,-1.8852312564849854,-1.0746904611587524,-2.046895980834961,-2.1956284046173096,-0.5983068346977234,-1.0155988931655884,-2.516716480255127,-1.7092669010162354,-0.8533251881599426,-2.564457654953003,-3.0046072006225586,-0.3080856204032898,-1.6302905082702637,-0.8569430708885193,1.2146929502487183,-1.7713969945907593,-1.1578772068023682,-0.8428018093109131,-1.2206189632415771,-0.9298326373100281,-1.7932974100112915],\"xbins\":{\"end\":10.693456649780273,\"size\":0.27826269149780275,\"start\":-3.2196781635284424},\"type\":\"histogram\",\"opacity\":0.6}],                        {\"template\":{\"data\":{\"histogram2dcontour\":[{\"type\":\"histogram2dcontour\",\"colorbar\":{\"outlinewidth\":0,\"ticks\":\"\"},\"colorscale\":[[0.0,\"#0d0887\"],[0.1111111111111111,\"#46039f\"],[0.2222222222222222,\"#7201a8\"],[0.3333333333333333,\"#9c179e\"],[0.4444444444444444,\"#bd3786\"],[0.5555555555555556,\"#d8576b\"],[0.6666666666666666,\"#ed7953\"],[0.7777777777777778,\"#fb9f3a\"],[0.8888888888888888,\"#fdca26\"],[1.0,\"#f0f921\"]]}],\"choropleth\":[{\"type\":\"choropleth\",\"colorbar\":{\"outlinewidth\":0,\"ticks\":\"\"}}],\"histogram2d\":[{\"type\":\"histogram2d\",\"colorbar\":{\"outlinewidth\":0,\"ticks\":\"\"},\"colorscale\":[[0.0,\"#0d0887\"],[0.1111111111111111,\"#46039f\"],[0.2222222222222222,\"#7201a8\"],[0.3333333333333333,\"#9c179e\"],[0.4444444444444444,\"#bd3786\"],[0.5555555555555556,\"#d8576b\"],[0.6666666666666666,\"#ed7953\"],[0.7777777777777778,\"#fb9f3a\"],[0.8888888888888888,\"#fdca26\"],[1.0,\"#f0f921\"]]}],\"heatmap\":[{\"type\":\"heatmap\",\"colorbar\":{\"outlinewidth\":0,\"ticks\":\"\"},\"colorscale\":[[0.0,\"#0d0887\"],[0.1111111111111111,\"#46039f\"],[0.2222222222222222,\"#7201a8\"],[0.3333333333333333,\"#9c179e\"],[0.4444444444444444,\"#bd3786\"],[0.5555555555555556,\"#d8576b\"],[0.6666666666666666,\"#ed7953\"],[0.7777777777777778,\"#fb9f3a\"],[0.8888888888888888,\"#fdca26\"],[1.0,\"#f0f921\"]]}],\"heatmapgl\":[{\"type\":\"heatmapgl\",\"colorbar\":{\"outlinewidth\":0,\"ticks\":\"\"},\"colorscale\":[[0.0,\"#0d0887\"],[0.1111111111111111,\"#46039f\"],[0.2222222222222222,\"#7201a8\"],[0.3333333333333333,\"#9c179e\"],[0.4444444444444444,\"#bd3786\"],[0.5555555555555556,\"#d8576b\"],[0.6666666666666666,\"#ed7953\"],[0.7777777777777778,\"#fb9f3a\"],[0.8888888888888888,\"#fdca26\"],[1.0,\"#f0f921\"]]}],\"contourcarpet\":[{\"type\":\"contourcarpet\",\"colorbar\":{\"outlinewidth\":0,\"ticks\":\"\"}}],\"contour\":[{\"type\":\"contour\",\"colorbar\":{\"outlinewidth\":0,\"ticks\":\"\"},\"colorscale\":[[0.0,\"#0d0887\"],[0.1111111111111111,\"#46039f\"],[0.2222222222222222,\"#7201a8\"],[0.3333333333333333,\"#9c179e\"],[0.4444444444444444,\"#bd3786\"],[0.5555555555555556,\"#d8576b\"],[0.6666666666666666,\"#ed7953\"],[0.7777777777777778,\"#fb9f3a\"],[0.8888888888888888,\"#fdca26\"],[1.0,\"#f0f921\"]]}],\"surface\":[{\"type\":\"surface\",\"colorbar\":{\"outlinewidth\":0,\"ticks\":\"\"},\"colorscale\":[[0.0,\"#0d0887\"],[0.1111111111111111,\"#46039f\"],[0.2222222222222222,\"#7201a8\"],[0.3333333333333333,\"#9c179e\"],[0.4444444444444444,\"#bd3786\"],[0.5555555555555556,\"#d8576b\"],[0.6666666666666666,\"#ed7953\"],[0.7777777777777778,\"#fb9f3a\"],[0.8888888888888888,\"#fdca26\"],[1.0,\"#f0f921\"]]}],\"mesh3d\":[{\"type\":\"mesh3d\",\"colorbar\":{\"outlinewidth\":0,\"ticks\":\"\"}}],\"scatter\":[{\"fillpattern\":{\"fillmode\":\"overlay\",\"size\":10,\"solidity\":0.2},\"type\":\"scatter\"}],\"parcoords\":[{\"type\":\"parcoords\",\"line\":{\"colorbar\":{\"outlinewidth\":0,\"ticks\":\"\"}}}],\"scatterpolargl\":[{\"type\":\"scatterpolargl\",\"marker\":{\"colorbar\":{\"outlinewidth\":0,\"ticks\":\"\"}}}],\"bar\":[{\"error_x\":{\"color\":\"#2a3f5f\"},\"error_y\":{\"color\":\"#2a3f5f\"},\"marker\":{\"line\":{\"color\":\"#E5ECF6\",\"width\":0.5},\"pattern\":{\"fillmode\":\"overlay\",\"size\":10,\"solidity\":0.2}},\"type\":\"bar\"}],\"scattergeo\":[{\"type\":\"scattergeo\",\"marker\":{\"colorbar\":{\"outlinewidth\":0,\"ticks\":\"\"}}}],\"scatterpolar\":[{\"type\":\"scatterpolar\",\"marker\":{\"colorbar\":{\"outlinewidth\":0,\"ticks\":\"\"}}}],\"histogram\":[{\"marker\":{\"pattern\":{\"fillmode\":\"overlay\",\"size\":10,\"solidity\":0.2}},\"type\":\"histogram\"}],\"scattergl\":[{\"type\":\"scattergl\",\"marker\":{\"colorbar\":{\"outlinewidth\":0,\"ticks\":\"\"}}}],\"scatter3d\":[{\"type\":\"scatter3d\",\"line\":{\"colorbar\":{\"outlinewidth\":0,\"ticks\":\"\"}},\"marker\":{\"colorbar\":{\"outlinewidth\":0,\"ticks\":\"\"}}}],\"scattermapbox\":[{\"type\":\"scattermapbox\",\"marker\":{\"colorbar\":{\"outlinewidth\":0,\"ticks\":\"\"}}}],\"scatterternary\":[{\"type\":\"scatterternary\",\"marker\":{\"colorbar\":{\"outlinewidth\":0,\"ticks\":\"\"}}}],\"scattercarpet\":[{\"type\":\"scattercarpet\",\"marker\":{\"colorbar\":{\"outlinewidth\":0,\"ticks\":\"\"}}}],\"carpet\":[{\"aaxis\":{\"endlinecolor\":\"#2a3f5f\",\"gridcolor\":\"white\",\"linecolor\":\"white\",\"minorgridcolor\":\"white\",\"startlinecolor\":\"#2a3f5f\"},\"baxis\":{\"endlinecolor\":\"#2a3f5f\",\"gridcolor\":\"white\",\"linecolor\":\"white\",\"minorgridcolor\":\"white\",\"startlinecolor\":\"#2a3f5f\"},\"type\":\"carpet\"}],\"table\":[{\"cells\":{\"fill\":{\"color\":\"#EBF0F8\"},\"line\":{\"color\":\"white\"}},\"header\":{\"fill\":{\"color\":\"#C8D4E3\"},\"line\":{\"color\":\"white\"}},\"type\":\"table\"}],\"barpolar\":[{\"marker\":{\"line\":{\"color\":\"#E5ECF6\",\"width\":0.5},\"pattern\":{\"fillmode\":\"overlay\",\"size\":10,\"solidity\":0.2}},\"type\":\"barpolar\"}],\"pie\":[{\"automargin\":true,\"type\":\"pie\"}]},\"layout\":{\"autotypenumbers\":\"strict\",\"colorway\":[\"#636efa\",\"#EF553B\",\"#00cc96\",\"#ab63fa\",\"#FFA15A\",\"#19d3f3\",\"#FF6692\",\"#B6E880\",\"#FF97FF\",\"#FECB52\"],\"font\":{\"color\":\"#2a3f5f\"},\"hovermode\":\"closest\",\"hoverlabel\":{\"align\":\"left\"},\"paper_bgcolor\":\"white\",\"plot_bgcolor\":\"#E5ECF6\",\"polar\":{\"bgcolor\":\"#E5ECF6\",\"angularaxis\":{\"gridcolor\":\"white\",\"linecolor\":\"white\",\"ticks\":\"\"},\"radialaxis\":{\"gridcolor\":\"white\",\"linecolor\":\"white\",\"ticks\":\"\"}},\"ternary\":{\"bgcolor\":\"#E5ECF6\",\"aaxis\":{\"gridcolor\":\"white\",\"linecolor\":\"white\",\"ticks\":\"\"},\"baxis\":{\"gridcolor\":\"white\",\"linecolor\":\"white\",\"ticks\":\"\"},\"caxis\":{\"gridcolor\":\"white\",\"linecolor\":\"white\",\"ticks\":\"\"}},\"coloraxis\":{\"colorbar\":{\"outlinewidth\":0,\"ticks\":\"\"}},\"colorscale\":{\"sequential\":[[0.0,\"#0d0887\"],[0.1111111111111111,\"#46039f\"],[0.2222222222222222,\"#7201a8\"],[0.3333333333333333,\"#9c179e\"],[0.4444444444444444,\"#bd3786\"],[0.5555555555555556,\"#d8576b\"],[0.6666666666666666,\"#ed7953\"],[0.7777777777777778,\"#fb9f3a\"],[0.8888888888888888,\"#fdca26\"],[1.0,\"#f0f921\"]],\"sequentialminus\":[[0.0,\"#0d0887\"],[0.1111111111111111,\"#46039f\"],[0.2222222222222222,\"#7201a8\"],[0.3333333333333333,\"#9c179e\"],[0.4444444444444444,\"#bd3786\"],[0.5555555555555556,\"#d8576b\"],[0.6666666666666666,\"#ed7953\"],[0.7777777777777778,\"#fb9f3a\"],[0.8888888888888888,\"#fdca26\"],[1.0,\"#f0f921\"]],\"diverging\":[[0,\"#8e0152\"],[0.1,\"#c51b7d\"],[0.2,\"#de77ae\"],[0.3,\"#f1b6da\"],[0.4,\"#fde0ef\"],[0.5,\"#f7f7f7\"],[0.6,\"#e6f5d0\"],[0.7,\"#b8e186\"],[0.8,\"#7fbc41\"],[0.9,\"#4d9221\"],[1,\"#276419\"]]},\"xaxis\":{\"gridcolor\":\"white\",\"linecolor\":\"white\",\"ticks\":\"\",\"title\":{\"standoff\":15},\"zerolinecolor\":\"white\",\"automargin\":true,\"zerolinewidth\":2},\"yaxis\":{\"gridcolor\":\"white\",\"linecolor\":\"white\",\"ticks\":\"\",\"title\":{\"standoff\":15},\"zerolinecolor\":\"white\",\"automargin\":true,\"zerolinewidth\":2},\"scene\":{\"xaxis\":{\"backgroundcolor\":\"#E5ECF6\",\"gridcolor\":\"white\",\"linecolor\":\"white\",\"showbackground\":true,\"ticks\":\"\",\"zerolinecolor\":\"white\",\"gridwidth\":2},\"yaxis\":{\"backgroundcolor\":\"#E5ECF6\",\"gridcolor\":\"white\",\"linecolor\":\"white\",\"showbackground\":true,\"ticks\":\"\",\"zerolinecolor\":\"white\",\"gridwidth\":2},\"zaxis\":{\"backgroundcolor\":\"#E5ECF6\",\"gridcolor\":\"white\",\"linecolor\":\"white\",\"showbackground\":true,\"ticks\":\"\",\"zerolinecolor\":\"white\",\"gridwidth\":2}},\"shapedefaults\":{\"line\":{\"color\":\"#2a3f5f\"}},\"annotationdefaults\":{\"arrowcolor\":\"#2a3f5f\",\"arrowhead\":0,\"arrowwidth\":1},\"geo\":{\"bgcolor\":\"white\",\"landcolor\":\"#E5ECF6\",\"subunitcolor\":\"white\",\"showland\":true,\"showlakes\":true,\"lakecolor\":\"white\"},\"title\":{\"x\":0.05},\"mapbox\":{\"style\":\"light\"}}},\"barmode\":\"overlay\",\"title\":{\"text\":\"H1.1\"},\"xaxis\":{\"title\":{\"text\":\"Dot prod with non-palindrome direction\"}},\"yaxis\":{\"title\":{\"text\":\"Frequency\"}},\"autosize\":false,\"width\":800,\"height\":300},                        {\"responsive\": true}                    ).then(function(){\n",
              "                            \n",
              "var gd = document.getElementById('094b4d54-3133-4810-8575-2bdb09495013');\n",
              "var x = new MutationObserver(function (mutations, observer) {{\n",
              "        var display = window.getComputedStyle(gd).display;\n",
              "        if (!display || display === 'none') {{\n",
              "            console.log([gd, 'removed!']);\n",
              "            Plotly.purge(gd);\n",
              "            observer.disconnect();\n",
              "        }}\n",
              "}});\n",
              "\n",
              "// Listen for the removal of the full notebook cells\n",
              "var notebookContainer = gd.closest('#notebook-container');\n",
              "if (notebookContainer) {{\n",
              "    x.observe(notebookContainer, {childList: true});\n",
              "}}\n",
              "\n",
              "// Listen for the clearing of the current output cell\n",
              "var outputEl = gd.closest('.output');\n",
              "if (outputEl) {{\n",
              "    x.observe(outputEl, {childList: true});\n",
              "}}\n",
              "\n",
              "                        })                };                            </script>        </div>\n",
              "</body>\n",
              "</html>"
            ]
          },
          "metadata": {}
        }
      ]
    },
    {
      "cell_type": "markdown",
      "source": [
        "From these graphs, it is clear that the output of H1.0 directly contributes greatly to the correct answer. There is a clear separation between the contributions for palindromes vs non-palindromes.\n",
        "\n",
        "H1.1 also seems to contribute a bit to boosting the non-palindromic signal for non-palindromes. However, there is not as clean of a separation between the palindrome inputs and non-palindrome inputs.\n",
        "\n",
        "The rest of the components (embed, pos_embed, H0.0, H0.1) do not seem to have significant direct impact on the results."
      ],
      "metadata": {
        "id": "Pxi97-Zfk2qm"
      }
    },
    {
      "cell_type": "markdown",
      "source": [
        "## Composition scores\n"
      ],
      "metadata": {
        "id": "4gnj4N1flt1S"
      }
    },
    {
      "cell_type": "markdown",
      "source": [
        "In the previous section, we saw that most of the direct logit attribution was coming from H1.0. Now we want to investigate how H1.0 works, and how it interacts with other heads.\n",
        "\n",
        "A good place to start is composition score analysis. We are interested in seeing which heads interact with H1.0, and in what rough capacities.\n",
        "\n",
        "We will check the composition scores between {H0.0 V, H0.1 V} and {H1.0 Q, H1.0 K, H1.0 V}.\n",
        "\n",
        "This will suggest to us if there is Q-composition, K-composition, or V-composition going on."
      ],
      "metadata": {
        "id": "5Ien0Wcxl2qY"
      }
    },
    {
      "cell_type": "code",
      "source": [
        "def get_comp_score(\n",
        "    W_A: Float[Tensor, \"in_A out_A\"],\n",
        "    W_B: Float[Tensor, \"out_A out_B\"]\n",
        ") -> float:\n",
        "    '''\n",
        "    Return the composition score between W_A and W_B.\n",
        "    '''\n",
        "    # W_A_W_B = FactoredMatrix(W_A, W_B)\n",
        "    return ((W_A @ W_B).norm() / (W_A.norm() * W_B.norm())).item()"
      ],
      "metadata": {
        "id": "EYZ_r5KpuNOT"
      },
      "execution_count": 18,
      "outputs": []
    },
    {
      "cell_type": "code",
      "source": [
        "# Get all QK and OV matrices\n",
        "W_QK = model.W_Q @ model.W_K.transpose(-1, -2)\n",
        "W_OV = model.W_V @ model.W_O\n",
        "\n",
        "# Define tensors to hold the composition scores\n",
        "composition_scores = {\n",
        "    \"Q\": t.zeros(model.cfg.n_heads, model.cfg.n_heads).to(device),\n",
        "    \"K\": t.zeros(model.cfg.n_heads, model.cfg.n_heads).to(device),\n",
        "    \"V\": t.zeros(model.cfg.n_heads, model.cfg.n_heads).to(device),\n",
        "}\n",
        "\n",
        "for i in tqdm(range(model.cfg.n_heads)):\n",
        "    for j in range(model.cfg.n_heads):\n",
        "        composition_scores[\"Q\"][i, j] = get_comp_score(W_OV[0, i], W_QK[1, j])\n",
        "        composition_scores[\"K\"][i, j] = get_comp_score(W_OV[0, i], W_QK[1, j].T)\n",
        "        composition_scores[\"V\"][i, j] = get_comp_score(W_OV[0, i], W_OV[1, j])"
      ],
      "metadata": {
        "colab": {
          "base_uri": "https://localhost:8080/"
        },
        "id": "FPbS57p-7RU7",
        "outputId": "e72a0cca-861a-4224-b298-870d3bc51ff3"
      },
      "execution_count": 19,
      "outputs": [
        {
          "output_type": "stream",
          "name": "stderr",
          "text": [
            "100%|██████████| 2/2 [00:00<00:00, 108.66it/s]\n"
          ]
        }
      ]
    },
    {
      "cell_type": "code",
      "source": [
        "# generate a baseline score\n",
        "def generate_single_random_comp_score() -> float:\n",
        "    '''\n",
        "    A function which generates a single composition score for random matrices\n",
        "    '''\n",
        "    W_A_left = t.empty(model.cfg.d_model, model.cfg.d_head)\n",
        "    W_B_left = t.empty(model.cfg.d_model, model.cfg.d_head)\n",
        "    W_A_right = t.empty(model.cfg.d_model, model.cfg.d_head)\n",
        "    W_B_right = t.empty(model.cfg.d_model, model.cfg.d_head)\n",
        "\n",
        "    for W in [W_A_left, W_B_left, W_A_right, W_B_right]:\n",
        "        nn.init.kaiming_uniform_(W, a=np.sqrt(5))\n",
        "\n",
        "    W_A = W_A_left @ W_A_right.T\n",
        "    W_B = W_B_left @ W_B_right.T\n",
        "\n",
        "    return get_comp_score(W_A, W_B)\n",
        "\n",
        "n_samples = 300\n",
        "comp_scores_baseline = np.zeros(n_samples)\n",
        "for i in tqdm(range(n_samples)):\n",
        "    comp_scores_baseline[i] = generate_single_random_comp_score()\n",
        "print(\"\\nMean:\", comp_scores_baseline.mean())\n",
        "print(\"Std:\", comp_scores_baseline.std())\n",
        "\n",
        "baseline = comp_scores_baseline.mean()\n",
        "print(baseline)"
      ],
      "metadata": {
        "colab": {
          "base_uri": "https://localhost:8080/"
        },
        "id": "MrWA5cwd70GS",
        "outputId": "e3073186-1afe-4647-dd6e-a03250265d98"
      },
      "execution_count": 20,
      "outputs": [
        {
          "output_type": "stream",
          "name": "stderr",
          "text": [
            "100%|██████████| 300/300 [00:00<00:00, 1315.35it/s]"
          ]
        },
        {
          "output_type": "stream",
          "name": "stdout",
          "text": [
            "\n",
            "Mean: 0.18756299674510957\n",
            "Std: 0.01410002791311248\n",
            "0.18756299674510957\n"
          ]
        },
        {
          "output_type": "stream",
          "name": "stderr",
          "text": [
            "\n"
          ]
        }
      ]
    },
    {
      "cell_type": "code",
      "source": [
        "for comp_type, comp_scores in composition_scores.items():\n",
        "    display(px.imshow(\n",
        "          comp_scores.cpu().detach().numpy(),\n",
        "          y=[f\"L0H{h}\" for h in range(model.cfg.n_heads)],\n",
        "          x=[f\"L1H{h}\" for h in range(model.cfg.n_heads)],\n",
        "          labels={\"x\": \"Layer 1\", \"y\": \"Layer 0\"},\n",
        "          title=f\"{comp_type} Composition Scores\",\n",
        "          color_continuous_scale=\"RdBu\" if baseline is not None else \"Blues\",\n",
        "          color_continuous_midpoint=baseline if baseline is not None else None,\n",
        "          zmin=None if baseline is not None else 0.0,\n",
        "          width=600,\n",
        "          height=400\n",
        "    ))\n"
      ],
      "metadata": {
        "colab": {
          "base_uri": "https://localhost:8080/",
          "height": 1000
        },
        "id": "cYC7xK7l8QnB",
        "outputId": "26e9af76-9d31-4eff-f804-c25491123678"
      },
      "execution_count": 21,
      "outputs": [
        {
          "output_type": "display_data",
          "data": {
            "text/html": [
              "<html>\n",
              "<head><meta charset=\"utf-8\" /></head>\n",
              "<body>\n",
              "    <div>            <script src=\"https://cdnjs.cloudflare.com/ajax/libs/mathjax/2.7.5/MathJax.js?config=TeX-AMS-MML_SVG\"></script><script type=\"text/javascript\">if (window.MathJax && window.MathJax.Hub && window.MathJax.Hub.Config) {window.MathJax.Hub.Config({SVG: {font: \"STIX-Web\"}});}</script>                <script type=\"text/javascript\">window.PlotlyConfig = {MathJaxConfig: 'local'};</script>\n",
              "        <script charset=\"utf-8\" src=\"https://cdn.plot.ly/plotly-2.24.1.min.js\"></script>                <div id=\"33aa5e9e-90bc-422c-9413-62931109e525\" class=\"plotly-graph-div\" style=\"height:400px; width:600px;\"></div>            <script type=\"text/javascript\">                                    window.PLOTLYENV=window.PLOTLYENV || {};                                    if (document.getElementById(\"33aa5e9e-90bc-422c-9413-62931109e525\")) {                    Plotly.newPlot(                        \"33aa5e9e-90bc-422c-9413-62931109e525\",                        [{\"coloraxis\":\"coloraxis\",\"name\":\"0\",\"x\":[\"L1H0\",\"L1H1\"],\"y\":[\"L0H0\",\"L0H1\"],\"z\":[[0.15508218109607697,0.17655710875988007],[0.16403664648532867,0.12144853919744492]],\"type\":\"heatmap\",\"xaxis\":\"x\",\"yaxis\":\"y\",\"hovertemplate\":\"Layer 1: %{x}\\u003cbr\\u003eLayer 0: %{y}\\u003cbr\\u003ecolor: %{z}\\u003cextra\\u003e\\u003c\\u002fextra\\u003e\"}],                        {\"template\":{\"data\":{\"histogram2dcontour\":[{\"type\":\"histogram2dcontour\",\"colorbar\":{\"outlinewidth\":0,\"ticks\":\"\"},\"colorscale\":[[0.0,\"#0d0887\"],[0.1111111111111111,\"#46039f\"],[0.2222222222222222,\"#7201a8\"],[0.3333333333333333,\"#9c179e\"],[0.4444444444444444,\"#bd3786\"],[0.5555555555555556,\"#d8576b\"],[0.6666666666666666,\"#ed7953\"],[0.7777777777777778,\"#fb9f3a\"],[0.8888888888888888,\"#fdca26\"],[1.0,\"#f0f921\"]]}],\"choropleth\":[{\"type\":\"choropleth\",\"colorbar\":{\"outlinewidth\":0,\"ticks\":\"\"}}],\"histogram2d\":[{\"type\":\"histogram2d\",\"colorbar\":{\"outlinewidth\":0,\"ticks\":\"\"},\"colorscale\":[[0.0,\"#0d0887\"],[0.1111111111111111,\"#46039f\"],[0.2222222222222222,\"#7201a8\"],[0.3333333333333333,\"#9c179e\"],[0.4444444444444444,\"#bd3786\"],[0.5555555555555556,\"#d8576b\"],[0.6666666666666666,\"#ed7953\"],[0.7777777777777778,\"#fb9f3a\"],[0.8888888888888888,\"#fdca26\"],[1.0,\"#f0f921\"]]}],\"heatmap\":[{\"type\":\"heatmap\",\"colorbar\":{\"outlinewidth\":0,\"ticks\":\"\"},\"colorscale\":[[0.0,\"#0d0887\"],[0.1111111111111111,\"#46039f\"],[0.2222222222222222,\"#7201a8\"],[0.3333333333333333,\"#9c179e\"],[0.4444444444444444,\"#bd3786\"],[0.5555555555555556,\"#d8576b\"],[0.6666666666666666,\"#ed7953\"],[0.7777777777777778,\"#fb9f3a\"],[0.8888888888888888,\"#fdca26\"],[1.0,\"#f0f921\"]]}],\"heatmapgl\":[{\"type\":\"heatmapgl\",\"colorbar\":{\"outlinewidth\":0,\"ticks\":\"\"},\"colorscale\":[[0.0,\"#0d0887\"],[0.1111111111111111,\"#46039f\"],[0.2222222222222222,\"#7201a8\"],[0.3333333333333333,\"#9c179e\"],[0.4444444444444444,\"#bd3786\"],[0.5555555555555556,\"#d8576b\"],[0.6666666666666666,\"#ed7953\"],[0.7777777777777778,\"#fb9f3a\"],[0.8888888888888888,\"#fdca26\"],[1.0,\"#f0f921\"]]}],\"contourcarpet\":[{\"type\":\"contourcarpet\",\"colorbar\":{\"outlinewidth\":0,\"ticks\":\"\"}}],\"contour\":[{\"type\":\"contour\",\"colorbar\":{\"outlinewidth\":0,\"ticks\":\"\"},\"colorscale\":[[0.0,\"#0d0887\"],[0.1111111111111111,\"#46039f\"],[0.2222222222222222,\"#7201a8\"],[0.3333333333333333,\"#9c179e\"],[0.4444444444444444,\"#bd3786\"],[0.5555555555555556,\"#d8576b\"],[0.6666666666666666,\"#ed7953\"],[0.7777777777777778,\"#fb9f3a\"],[0.8888888888888888,\"#fdca26\"],[1.0,\"#f0f921\"]]}],\"surface\":[{\"type\":\"surface\",\"colorbar\":{\"outlinewidth\":0,\"ticks\":\"\"},\"colorscale\":[[0.0,\"#0d0887\"],[0.1111111111111111,\"#46039f\"],[0.2222222222222222,\"#7201a8\"],[0.3333333333333333,\"#9c179e\"],[0.4444444444444444,\"#bd3786\"],[0.5555555555555556,\"#d8576b\"],[0.6666666666666666,\"#ed7953\"],[0.7777777777777778,\"#fb9f3a\"],[0.8888888888888888,\"#fdca26\"],[1.0,\"#f0f921\"]]}],\"mesh3d\":[{\"type\":\"mesh3d\",\"colorbar\":{\"outlinewidth\":0,\"ticks\":\"\"}}],\"scatter\":[{\"fillpattern\":{\"fillmode\":\"overlay\",\"size\":10,\"solidity\":0.2},\"type\":\"scatter\"}],\"parcoords\":[{\"type\":\"parcoords\",\"line\":{\"colorbar\":{\"outlinewidth\":0,\"ticks\":\"\"}}}],\"scatterpolargl\":[{\"type\":\"scatterpolargl\",\"marker\":{\"colorbar\":{\"outlinewidth\":0,\"ticks\":\"\"}}}],\"bar\":[{\"error_x\":{\"color\":\"#2a3f5f\"},\"error_y\":{\"color\":\"#2a3f5f\"},\"marker\":{\"line\":{\"color\":\"#E5ECF6\",\"width\":0.5},\"pattern\":{\"fillmode\":\"overlay\",\"size\":10,\"solidity\":0.2}},\"type\":\"bar\"}],\"scattergeo\":[{\"type\":\"scattergeo\",\"marker\":{\"colorbar\":{\"outlinewidth\":0,\"ticks\":\"\"}}}],\"scatterpolar\":[{\"type\":\"scatterpolar\",\"marker\":{\"colorbar\":{\"outlinewidth\":0,\"ticks\":\"\"}}}],\"histogram\":[{\"marker\":{\"pattern\":{\"fillmode\":\"overlay\",\"size\":10,\"solidity\":0.2}},\"type\":\"histogram\"}],\"scattergl\":[{\"type\":\"scattergl\",\"marker\":{\"colorbar\":{\"outlinewidth\":0,\"ticks\":\"\"}}}],\"scatter3d\":[{\"type\":\"scatter3d\",\"line\":{\"colorbar\":{\"outlinewidth\":0,\"ticks\":\"\"}},\"marker\":{\"colorbar\":{\"outlinewidth\":0,\"ticks\":\"\"}}}],\"scattermapbox\":[{\"type\":\"scattermapbox\",\"marker\":{\"colorbar\":{\"outlinewidth\":0,\"ticks\":\"\"}}}],\"scatterternary\":[{\"type\":\"scatterternary\",\"marker\":{\"colorbar\":{\"outlinewidth\":0,\"ticks\":\"\"}}}],\"scattercarpet\":[{\"type\":\"scattercarpet\",\"marker\":{\"colorbar\":{\"outlinewidth\":0,\"ticks\":\"\"}}}],\"carpet\":[{\"aaxis\":{\"endlinecolor\":\"#2a3f5f\",\"gridcolor\":\"white\",\"linecolor\":\"white\",\"minorgridcolor\":\"white\",\"startlinecolor\":\"#2a3f5f\"},\"baxis\":{\"endlinecolor\":\"#2a3f5f\",\"gridcolor\":\"white\",\"linecolor\":\"white\",\"minorgridcolor\":\"white\",\"startlinecolor\":\"#2a3f5f\"},\"type\":\"carpet\"}],\"table\":[{\"cells\":{\"fill\":{\"color\":\"#EBF0F8\"},\"line\":{\"color\":\"white\"}},\"header\":{\"fill\":{\"color\":\"#C8D4E3\"},\"line\":{\"color\":\"white\"}},\"type\":\"table\"}],\"barpolar\":[{\"marker\":{\"line\":{\"color\":\"#E5ECF6\",\"width\":0.5},\"pattern\":{\"fillmode\":\"overlay\",\"size\":10,\"solidity\":0.2}},\"type\":\"barpolar\"}],\"pie\":[{\"automargin\":true,\"type\":\"pie\"}]},\"layout\":{\"autotypenumbers\":\"strict\",\"colorway\":[\"#636efa\",\"#EF553B\",\"#00cc96\",\"#ab63fa\",\"#FFA15A\",\"#19d3f3\",\"#FF6692\",\"#B6E880\",\"#FF97FF\",\"#FECB52\"],\"font\":{\"color\":\"#2a3f5f\"},\"hovermode\":\"closest\",\"hoverlabel\":{\"align\":\"left\"},\"paper_bgcolor\":\"white\",\"plot_bgcolor\":\"#E5ECF6\",\"polar\":{\"bgcolor\":\"#E5ECF6\",\"angularaxis\":{\"gridcolor\":\"white\",\"linecolor\":\"white\",\"ticks\":\"\"},\"radialaxis\":{\"gridcolor\":\"white\",\"linecolor\":\"white\",\"ticks\":\"\"}},\"ternary\":{\"bgcolor\":\"#E5ECF6\",\"aaxis\":{\"gridcolor\":\"white\",\"linecolor\":\"white\",\"ticks\":\"\"},\"baxis\":{\"gridcolor\":\"white\",\"linecolor\":\"white\",\"ticks\":\"\"},\"caxis\":{\"gridcolor\":\"white\",\"linecolor\":\"white\",\"ticks\":\"\"}},\"coloraxis\":{\"colorbar\":{\"outlinewidth\":0,\"ticks\":\"\"}},\"colorscale\":{\"sequential\":[[0.0,\"#0d0887\"],[0.1111111111111111,\"#46039f\"],[0.2222222222222222,\"#7201a8\"],[0.3333333333333333,\"#9c179e\"],[0.4444444444444444,\"#bd3786\"],[0.5555555555555556,\"#d8576b\"],[0.6666666666666666,\"#ed7953\"],[0.7777777777777778,\"#fb9f3a\"],[0.8888888888888888,\"#fdca26\"],[1.0,\"#f0f921\"]],\"sequentialminus\":[[0.0,\"#0d0887\"],[0.1111111111111111,\"#46039f\"],[0.2222222222222222,\"#7201a8\"],[0.3333333333333333,\"#9c179e\"],[0.4444444444444444,\"#bd3786\"],[0.5555555555555556,\"#d8576b\"],[0.6666666666666666,\"#ed7953\"],[0.7777777777777778,\"#fb9f3a\"],[0.8888888888888888,\"#fdca26\"],[1.0,\"#f0f921\"]],\"diverging\":[[0,\"#8e0152\"],[0.1,\"#c51b7d\"],[0.2,\"#de77ae\"],[0.3,\"#f1b6da\"],[0.4,\"#fde0ef\"],[0.5,\"#f7f7f7\"],[0.6,\"#e6f5d0\"],[0.7,\"#b8e186\"],[0.8,\"#7fbc41\"],[0.9,\"#4d9221\"],[1,\"#276419\"]]},\"xaxis\":{\"gridcolor\":\"white\",\"linecolor\":\"white\",\"ticks\":\"\",\"title\":{\"standoff\":15},\"zerolinecolor\":\"white\",\"automargin\":true,\"zerolinewidth\":2},\"yaxis\":{\"gridcolor\":\"white\",\"linecolor\":\"white\",\"ticks\":\"\",\"title\":{\"standoff\":15},\"zerolinecolor\":\"white\",\"automargin\":true,\"zerolinewidth\":2},\"scene\":{\"xaxis\":{\"backgroundcolor\":\"#E5ECF6\",\"gridcolor\":\"white\",\"linecolor\":\"white\",\"showbackground\":true,\"ticks\":\"\",\"zerolinecolor\":\"white\",\"gridwidth\":2},\"yaxis\":{\"backgroundcolor\":\"#E5ECF6\",\"gridcolor\":\"white\",\"linecolor\":\"white\",\"showbackground\":true,\"ticks\":\"\",\"zerolinecolor\":\"white\",\"gridwidth\":2},\"zaxis\":{\"backgroundcolor\":\"#E5ECF6\",\"gridcolor\":\"white\",\"linecolor\":\"white\",\"showbackground\":true,\"ticks\":\"\",\"zerolinecolor\":\"white\",\"gridwidth\":2}},\"shapedefaults\":{\"line\":{\"color\":\"#2a3f5f\"}},\"annotationdefaults\":{\"arrowcolor\":\"#2a3f5f\",\"arrowhead\":0,\"arrowwidth\":1},\"geo\":{\"bgcolor\":\"white\",\"landcolor\":\"#E5ECF6\",\"subunitcolor\":\"white\",\"showland\":true,\"showlakes\":true,\"lakecolor\":\"white\"},\"title\":{\"x\":0.05},\"mapbox\":{\"style\":\"light\"}}},\"xaxis\":{\"anchor\":\"y\",\"domain\":[0.0,1.0],\"scaleanchor\":\"y\",\"constrain\":\"domain\",\"title\":{\"text\":\"Layer 1\"}},\"yaxis\":{\"anchor\":\"x\",\"domain\":[0.0,1.0],\"autorange\":\"reversed\",\"constrain\":\"domain\",\"title\":{\"text\":\"Layer 0\"}},\"coloraxis\":{\"colorscale\":[[0.0,\"rgb(103,0,31)\"],[0.1,\"rgb(178,24,43)\"],[0.2,\"rgb(214,96,77)\"],[0.3,\"rgb(244,165,130)\"],[0.4,\"rgb(253,219,199)\"],[0.5,\"rgb(247,247,247)\"],[0.6,\"rgb(209,229,240)\"],[0.7,\"rgb(146,197,222)\"],[0.8,\"rgb(67,147,195)\"],[0.9,\"rgb(33,102,172)\"],[1.0,\"rgb(5,48,97)\"]],\"cmid\":0.18756299674510957},\"title\":{\"text\":\"Q Composition Scores\"},\"height\":400,\"width\":600},                        {\"responsive\": true}                    ).then(function(){\n",
              "                            \n",
              "var gd = document.getElementById('33aa5e9e-90bc-422c-9413-62931109e525');\n",
              "var x = new MutationObserver(function (mutations, observer) {{\n",
              "        var display = window.getComputedStyle(gd).display;\n",
              "        if (!display || display === 'none') {{\n",
              "            console.log([gd, 'removed!']);\n",
              "            Plotly.purge(gd);\n",
              "            observer.disconnect();\n",
              "        }}\n",
              "}});\n",
              "\n",
              "// Listen for the removal of the full notebook cells\n",
              "var notebookContainer = gd.closest('#notebook-container');\n",
              "if (notebookContainer) {{\n",
              "    x.observe(notebookContainer, {childList: true});\n",
              "}}\n",
              "\n",
              "// Listen for the clearing of the current output cell\n",
              "var outputEl = gd.closest('.output');\n",
              "if (outputEl) {{\n",
              "    x.observe(outputEl, {childList: true});\n",
              "}}\n",
              "\n",
              "                        })                };                            </script>        </div>\n",
              "</body>\n",
              "</html>"
            ]
          },
          "metadata": {}
        },
        {
          "output_type": "display_data",
          "data": {
            "text/html": [
              "<html>\n",
              "<head><meta charset=\"utf-8\" /></head>\n",
              "<body>\n",
              "    <div>            <script src=\"https://cdnjs.cloudflare.com/ajax/libs/mathjax/2.7.5/MathJax.js?config=TeX-AMS-MML_SVG\"></script><script type=\"text/javascript\">if (window.MathJax && window.MathJax.Hub && window.MathJax.Hub.Config) {window.MathJax.Hub.Config({SVG: {font: \"STIX-Web\"}});}</script>                <script type=\"text/javascript\">window.PlotlyConfig = {MathJaxConfig: 'local'};</script>\n",
              "        <script charset=\"utf-8\" src=\"https://cdn.plot.ly/plotly-2.24.1.min.js\"></script>                <div id=\"3e962bb7-09d4-4849-9857-b2dba97596ce\" class=\"plotly-graph-div\" style=\"height:400px; width:600px;\"></div>            <script type=\"text/javascript\">                                    window.PLOTLYENV=window.PLOTLYENV || {};                                    if (document.getElementById(\"3e962bb7-09d4-4849-9857-b2dba97596ce\")) {                    Plotly.newPlot(                        \"3e962bb7-09d4-4849-9857-b2dba97596ce\",                        [{\"coloraxis\":\"coloraxis\",\"name\":\"0\",\"x\":[\"L1H0\",\"L1H1\"],\"y\":[\"L0H0\",\"L0H1\"],\"z\":[[0.3247682750225067,0.1745859831571579],[0.1625342071056366,0.20371980965137482]],\"type\":\"heatmap\",\"xaxis\":\"x\",\"yaxis\":\"y\",\"hovertemplate\":\"Layer 1: %{x}\\u003cbr\\u003eLayer 0: %{y}\\u003cbr\\u003ecolor: %{z}\\u003cextra\\u003e\\u003c\\u002fextra\\u003e\"}],                        {\"template\":{\"data\":{\"histogram2dcontour\":[{\"type\":\"histogram2dcontour\",\"colorbar\":{\"outlinewidth\":0,\"ticks\":\"\"},\"colorscale\":[[0.0,\"#0d0887\"],[0.1111111111111111,\"#46039f\"],[0.2222222222222222,\"#7201a8\"],[0.3333333333333333,\"#9c179e\"],[0.4444444444444444,\"#bd3786\"],[0.5555555555555556,\"#d8576b\"],[0.6666666666666666,\"#ed7953\"],[0.7777777777777778,\"#fb9f3a\"],[0.8888888888888888,\"#fdca26\"],[1.0,\"#f0f921\"]]}],\"choropleth\":[{\"type\":\"choropleth\",\"colorbar\":{\"outlinewidth\":0,\"ticks\":\"\"}}],\"histogram2d\":[{\"type\":\"histogram2d\",\"colorbar\":{\"outlinewidth\":0,\"ticks\":\"\"},\"colorscale\":[[0.0,\"#0d0887\"],[0.1111111111111111,\"#46039f\"],[0.2222222222222222,\"#7201a8\"],[0.3333333333333333,\"#9c179e\"],[0.4444444444444444,\"#bd3786\"],[0.5555555555555556,\"#d8576b\"],[0.6666666666666666,\"#ed7953\"],[0.7777777777777778,\"#fb9f3a\"],[0.8888888888888888,\"#fdca26\"],[1.0,\"#f0f921\"]]}],\"heatmap\":[{\"type\":\"heatmap\",\"colorbar\":{\"outlinewidth\":0,\"ticks\":\"\"},\"colorscale\":[[0.0,\"#0d0887\"],[0.1111111111111111,\"#46039f\"],[0.2222222222222222,\"#7201a8\"],[0.3333333333333333,\"#9c179e\"],[0.4444444444444444,\"#bd3786\"],[0.5555555555555556,\"#d8576b\"],[0.6666666666666666,\"#ed7953\"],[0.7777777777777778,\"#fb9f3a\"],[0.8888888888888888,\"#fdca26\"],[1.0,\"#f0f921\"]]}],\"heatmapgl\":[{\"type\":\"heatmapgl\",\"colorbar\":{\"outlinewidth\":0,\"ticks\":\"\"},\"colorscale\":[[0.0,\"#0d0887\"],[0.1111111111111111,\"#46039f\"],[0.2222222222222222,\"#7201a8\"],[0.3333333333333333,\"#9c179e\"],[0.4444444444444444,\"#bd3786\"],[0.5555555555555556,\"#d8576b\"],[0.6666666666666666,\"#ed7953\"],[0.7777777777777778,\"#fb9f3a\"],[0.8888888888888888,\"#fdca26\"],[1.0,\"#f0f921\"]]}],\"contourcarpet\":[{\"type\":\"contourcarpet\",\"colorbar\":{\"outlinewidth\":0,\"ticks\":\"\"}}],\"contour\":[{\"type\":\"contour\",\"colorbar\":{\"outlinewidth\":0,\"ticks\":\"\"},\"colorscale\":[[0.0,\"#0d0887\"],[0.1111111111111111,\"#46039f\"],[0.2222222222222222,\"#7201a8\"],[0.3333333333333333,\"#9c179e\"],[0.4444444444444444,\"#bd3786\"],[0.5555555555555556,\"#d8576b\"],[0.6666666666666666,\"#ed7953\"],[0.7777777777777778,\"#fb9f3a\"],[0.8888888888888888,\"#fdca26\"],[1.0,\"#f0f921\"]]}],\"surface\":[{\"type\":\"surface\",\"colorbar\":{\"outlinewidth\":0,\"ticks\":\"\"},\"colorscale\":[[0.0,\"#0d0887\"],[0.1111111111111111,\"#46039f\"],[0.2222222222222222,\"#7201a8\"],[0.3333333333333333,\"#9c179e\"],[0.4444444444444444,\"#bd3786\"],[0.5555555555555556,\"#d8576b\"],[0.6666666666666666,\"#ed7953\"],[0.7777777777777778,\"#fb9f3a\"],[0.8888888888888888,\"#fdca26\"],[1.0,\"#f0f921\"]]}],\"mesh3d\":[{\"type\":\"mesh3d\",\"colorbar\":{\"outlinewidth\":0,\"ticks\":\"\"}}],\"scatter\":[{\"fillpattern\":{\"fillmode\":\"overlay\",\"size\":10,\"solidity\":0.2},\"type\":\"scatter\"}],\"parcoords\":[{\"type\":\"parcoords\",\"line\":{\"colorbar\":{\"outlinewidth\":0,\"ticks\":\"\"}}}],\"scatterpolargl\":[{\"type\":\"scatterpolargl\",\"marker\":{\"colorbar\":{\"outlinewidth\":0,\"ticks\":\"\"}}}],\"bar\":[{\"error_x\":{\"color\":\"#2a3f5f\"},\"error_y\":{\"color\":\"#2a3f5f\"},\"marker\":{\"line\":{\"color\":\"#E5ECF6\",\"width\":0.5},\"pattern\":{\"fillmode\":\"overlay\",\"size\":10,\"solidity\":0.2}},\"type\":\"bar\"}],\"scattergeo\":[{\"type\":\"scattergeo\",\"marker\":{\"colorbar\":{\"outlinewidth\":0,\"ticks\":\"\"}}}],\"scatterpolar\":[{\"type\":\"scatterpolar\",\"marker\":{\"colorbar\":{\"outlinewidth\":0,\"ticks\":\"\"}}}],\"histogram\":[{\"marker\":{\"pattern\":{\"fillmode\":\"overlay\",\"size\":10,\"solidity\":0.2}},\"type\":\"histogram\"}],\"scattergl\":[{\"type\":\"scattergl\",\"marker\":{\"colorbar\":{\"outlinewidth\":0,\"ticks\":\"\"}}}],\"scatter3d\":[{\"type\":\"scatter3d\",\"line\":{\"colorbar\":{\"outlinewidth\":0,\"ticks\":\"\"}},\"marker\":{\"colorbar\":{\"outlinewidth\":0,\"ticks\":\"\"}}}],\"scattermapbox\":[{\"type\":\"scattermapbox\",\"marker\":{\"colorbar\":{\"outlinewidth\":0,\"ticks\":\"\"}}}],\"scatterternary\":[{\"type\":\"scatterternary\",\"marker\":{\"colorbar\":{\"outlinewidth\":0,\"ticks\":\"\"}}}],\"scattercarpet\":[{\"type\":\"scattercarpet\",\"marker\":{\"colorbar\":{\"outlinewidth\":0,\"ticks\":\"\"}}}],\"carpet\":[{\"aaxis\":{\"endlinecolor\":\"#2a3f5f\",\"gridcolor\":\"white\",\"linecolor\":\"white\",\"minorgridcolor\":\"white\",\"startlinecolor\":\"#2a3f5f\"},\"baxis\":{\"endlinecolor\":\"#2a3f5f\",\"gridcolor\":\"white\",\"linecolor\":\"white\",\"minorgridcolor\":\"white\",\"startlinecolor\":\"#2a3f5f\"},\"type\":\"carpet\"}],\"table\":[{\"cells\":{\"fill\":{\"color\":\"#EBF0F8\"},\"line\":{\"color\":\"white\"}},\"header\":{\"fill\":{\"color\":\"#C8D4E3\"},\"line\":{\"color\":\"white\"}},\"type\":\"table\"}],\"barpolar\":[{\"marker\":{\"line\":{\"color\":\"#E5ECF6\",\"width\":0.5},\"pattern\":{\"fillmode\":\"overlay\",\"size\":10,\"solidity\":0.2}},\"type\":\"barpolar\"}],\"pie\":[{\"automargin\":true,\"type\":\"pie\"}]},\"layout\":{\"autotypenumbers\":\"strict\",\"colorway\":[\"#636efa\",\"#EF553B\",\"#00cc96\",\"#ab63fa\",\"#FFA15A\",\"#19d3f3\",\"#FF6692\",\"#B6E880\",\"#FF97FF\",\"#FECB52\"],\"font\":{\"color\":\"#2a3f5f\"},\"hovermode\":\"closest\",\"hoverlabel\":{\"align\":\"left\"},\"paper_bgcolor\":\"white\",\"plot_bgcolor\":\"#E5ECF6\",\"polar\":{\"bgcolor\":\"#E5ECF6\",\"angularaxis\":{\"gridcolor\":\"white\",\"linecolor\":\"white\",\"ticks\":\"\"},\"radialaxis\":{\"gridcolor\":\"white\",\"linecolor\":\"white\",\"ticks\":\"\"}},\"ternary\":{\"bgcolor\":\"#E5ECF6\",\"aaxis\":{\"gridcolor\":\"white\",\"linecolor\":\"white\",\"ticks\":\"\"},\"baxis\":{\"gridcolor\":\"white\",\"linecolor\":\"white\",\"ticks\":\"\"},\"caxis\":{\"gridcolor\":\"white\",\"linecolor\":\"white\",\"ticks\":\"\"}},\"coloraxis\":{\"colorbar\":{\"outlinewidth\":0,\"ticks\":\"\"}},\"colorscale\":{\"sequential\":[[0.0,\"#0d0887\"],[0.1111111111111111,\"#46039f\"],[0.2222222222222222,\"#7201a8\"],[0.3333333333333333,\"#9c179e\"],[0.4444444444444444,\"#bd3786\"],[0.5555555555555556,\"#d8576b\"],[0.6666666666666666,\"#ed7953\"],[0.7777777777777778,\"#fb9f3a\"],[0.8888888888888888,\"#fdca26\"],[1.0,\"#f0f921\"]],\"sequentialminus\":[[0.0,\"#0d0887\"],[0.1111111111111111,\"#46039f\"],[0.2222222222222222,\"#7201a8\"],[0.3333333333333333,\"#9c179e\"],[0.4444444444444444,\"#bd3786\"],[0.5555555555555556,\"#d8576b\"],[0.6666666666666666,\"#ed7953\"],[0.7777777777777778,\"#fb9f3a\"],[0.8888888888888888,\"#fdca26\"],[1.0,\"#f0f921\"]],\"diverging\":[[0,\"#8e0152\"],[0.1,\"#c51b7d\"],[0.2,\"#de77ae\"],[0.3,\"#f1b6da\"],[0.4,\"#fde0ef\"],[0.5,\"#f7f7f7\"],[0.6,\"#e6f5d0\"],[0.7,\"#b8e186\"],[0.8,\"#7fbc41\"],[0.9,\"#4d9221\"],[1,\"#276419\"]]},\"xaxis\":{\"gridcolor\":\"white\",\"linecolor\":\"white\",\"ticks\":\"\",\"title\":{\"standoff\":15},\"zerolinecolor\":\"white\",\"automargin\":true,\"zerolinewidth\":2},\"yaxis\":{\"gridcolor\":\"white\",\"linecolor\":\"white\",\"ticks\":\"\",\"title\":{\"standoff\":15},\"zerolinecolor\":\"white\",\"automargin\":true,\"zerolinewidth\":2},\"scene\":{\"xaxis\":{\"backgroundcolor\":\"#E5ECF6\",\"gridcolor\":\"white\",\"linecolor\":\"white\",\"showbackground\":true,\"ticks\":\"\",\"zerolinecolor\":\"white\",\"gridwidth\":2},\"yaxis\":{\"backgroundcolor\":\"#E5ECF6\",\"gridcolor\":\"white\",\"linecolor\":\"white\",\"showbackground\":true,\"ticks\":\"\",\"zerolinecolor\":\"white\",\"gridwidth\":2},\"zaxis\":{\"backgroundcolor\":\"#E5ECF6\",\"gridcolor\":\"white\",\"linecolor\":\"white\",\"showbackground\":true,\"ticks\":\"\",\"zerolinecolor\":\"white\",\"gridwidth\":2}},\"shapedefaults\":{\"line\":{\"color\":\"#2a3f5f\"}},\"annotationdefaults\":{\"arrowcolor\":\"#2a3f5f\",\"arrowhead\":0,\"arrowwidth\":1},\"geo\":{\"bgcolor\":\"white\",\"landcolor\":\"#E5ECF6\",\"subunitcolor\":\"white\",\"showland\":true,\"showlakes\":true,\"lakecolor\":\"white\"},\"title\":{\"x\":0.05},\"mapbox\":{\"style\":\"light\"}}},\"xaxis\":{\"anchor\":\"y\",\"domain\":[0.0,1.0],\"scaleanchor\":\"y\",\"constrain\":\"domain\",\"title\":{\"text\":\"Layer 1\"}},\"yaxis\":{\"anchor\":\"x\",\"domain\":[0.0,1.0],\"autorange\":\"reversed\",\"constrain\":\"domain\",\"title\":{\"text\":\"Layer 0\"}},\"coloraxis\":{\"colorscale\":[[0.0,\"rgb(103,0,31)\"],[0.1,\"rgb(178,24,43)\"],[0.2,\"rgb(214,96,77)\"],[0.3,\"rgb(244,165,130)\"],[0.4,\"rgb(253,219,199)\"],[0.5,\"rgb(247,247,247)\"],[0.6,\"rgb(209,229,240)\"],[0.7,\"rgb(146,197,222)\"],[0.8,\"rgb(67,147,195)\"],[0.9,\"rgb(33,102,172)\"],[1.0,\"rgb(5,48,97)\"]],\"cmid\":0.18756299674510957},\"title\":{\"text\":\"K Composition Scores\"},\"height\":400,\"width\":600},                        {\"responsive\": true}                    ).then(function(){\n",
              "                            \n",
              "var gd = document.getElementById('3e962bb7-09d4-4849-9857-b2dba97596ce');\n",
              "var x = new MutationObserver(function (mutations, observer) {{\n",
              "        var display = window.getComputedStyle(gd).display;\n",
              "        if (!display || display === 'none') {{\n",
              "            console.log([gd, 'removed!']);\n",
              "            Plotly.purge(gd);\n",
              "            observer.disconnect();\n",
              "        }}\n",
              "}});\n",
              "\n",
              "// Listen for the removal of the full notebook cells\n",
              "var notebookContainer = gd.closest('#notebook-container');\n",
              "if (notebookContainer) {{\n",
              "    x.observe(notebookContainer, {childList: true});\n",
              "}}\n",
              "\n",
              "// Listen for the clearing of the current output cell\n",
              "var outputEl = gd.closest('.output');\n",
              "if (outputEl) {{\n",
              "    x.observe(outputEl, {childList: true});\n",
              "}}\n",
              "\n",
              "                        })                };                            </script>        </div>\n",
              "</body>\n",
              "</html>"
            ]
          },
          "metadata": {}
        },
        {
          "output_type": "display_data",
          "data": {
            "text/html": [
              "<html>\n",
              "<head><meta charset=\"utf-8\" /></head>\n",
              "<body>\n",
              "    <div>            <script src=\"https://cdnjs.cloudflare.com/ajax/libs/mathjax/2.7.5/MathJax.js?config=TeX-AMS-MML_SVG\"></script><script type=\"text/javascript\">if (window.MathJax && window.MathJax.Hub && window.MathJax.Hub.Config) {window.MathJax.Hub.Config({SVG: {font: \"STIX-Web\"}});}</script>                <script type=\"text/javascript\">window.PlotlyConfig = {MathJaxConfig: 'local'};</script>\n",
              "        <script charset=\"utf-8\" src=\"https://cdn.plot.ly/plotly-2.24.1.min.js\"></script>                <div id=\"927d3751-012b-49ae-bcd5-d0449bb01ab5\" class=\"plotly-graph-div\" style=\"height:400px; width:600px;\"></div>            <script type=\"text/javascript\">                                    window.PLOTLYENV=window.PLOTLYENV || {};                                    if (document.getElementById(\"927d3751-012b-49ae-bcd5-d0449bb01ab5\")) {                    Plotly.newPlot(                        \"927d3751-012b-49ae-bcd5-d0449bb01ab5\",                        [{\"coloraxis\":\"coloraxis\",\"name\":\"0\",\"x\":[\"L1H0\",\"L1H1\"],\"y\":[\"L0H0\",\"L0H1\"],\"z\":[[0.43153977394104004,0.18795649707317352],[0.10478565096855164,0.2098875343799591]],\"type\":\"heatmap\",\"xaxis\":\"x\",\"yaxis\":\"y\",\"hovertemplate\":\"Layer 1: %{x}\\u003cbr\\u003eLayer 0: %{y}\\u003cbr\\u003ecolor: %{z}\\u003cextra\\u003e\\u003c\\u002fextra\\u003e\"}],                        {\"template\":{\"data\":{\"histogram2dcontour\":[{\"type\":\"histogram2dcontour\",\"colorbar\":{\"outlinewidth\":0,\"ticks\":\"\"},\"colorscale\":[[0.0,\"#0d0887\"],[0.1111111111111111,\"#46039f\"],[0.2222222222222222,\"#7201a8\"],[0.3333333333333333,\"#9c179e\"],[0.4444444444444444,\"#bd3786\"],[0.5555555555555556,\"#d8576b\"],[0.6666666666666666,\"#ed7953\"],[0.7777777777777778,\"#fb9f3a\"],[0.8888888888888888,\"#fdca26\"],[1.0,\"#f0f921\"]]}],\"choropleth\":[{\"type\":\"choropleth\",\"colorbar\":{\"outlinewidth\":0,\"ticks\":\"\"}}],\"histogram2d\":[{\"type\":\"histogram2d\",\"colorbar\":{\"outlinewidth\":0,\"ticks\":\"\"},\"colorscale\":[[0.0,\"#0d0887\"],[0.1111111111111111,\"#46039f\"],[0.2222222222222222,\"#7201a8\"],[0.3333333333333333,\"#9c179e\"],[0.4444444444444444,\"#bd3786\"],[0.5555555555555556,\"#d8576b\"],[0.6666666666666666,\"#ed7953\"],[0.7777777777777778,\"#fb9f3a\"],[0.8888888888888888,\"#fdca26\"],[1.0,\"#f0f921\"]]}],\"heatmap\":[{\"type\":\"heatmap\",\"colorbar\":{\"outlinewidth\":0,\"ticks\":\"\"},\"colorscale\":[[0.0,\"#0d0887\"],[0.1111111111111111,\"#46039f\"],[0.2222222222222222,\"#7201a8\"],[0.3333333333333333,\"#9c179e\"],[0.4444444444444444,\"#bd3786\"],[0.5555555555555556,\"#d8576b\"],[0.6666666666666666,\"#ed7953\"],[0.7777777777777778,\"#fb9f3a\"],[0.8888888888888888,\"#fdca26\"],[1.0,\"#f0f921\"]]}],\"heatmapgl\":[{\"type\":\"heatmapgl\",\"colorbar\":{\"outlinewidth\":0,\"ticks\":\"\"},\"colorscale\":[[0.0,\"#0d0887\"],[0.1111111111111111,\"#46039f\"],[0.2222222222222222,\"#7201a8\"],[0.3333333333333333,\"#9c179e\"],[0.4444444444444444,\"#bd3786\"],[0.5555555555555556,\"#d8576b\"],[0.6666666666666666,\"#ed7953\"],[0.7777777777777778,\"#fb9f3a\"],[0.8888888888888888,\"#fdca26\"],[1.0,\"#f0f921\"]]}],\"contourcarpet\":[{\"type\":\"contourcarpet\",\"colorbar\":{\"outlinewidth\":0,\"ticks\":\"\"}}],\"contour\":[{\"type\":\"contour\",\"colorbar\":{\"outlinewidth\":0,\"ticks\":\"\"},\"colorscale\":[[0.0,\"#0d0887\"],[0.1111111111111111,\"#46039f\"],[0.2222222222222222,\"#7201a8\"],[0.3333333333333333,\"#9c179e\"],[0.4444444444444444,\"#bd3786\"],[0.5555555555555556,\"#d8576b\"],[0.6666666666666666,\"#ed7953\"],[0.7777777777777778,\"#fb9f3a\"],[0.8888888888888888,\"#fdca26\"],[1.0,\"#f0f921\"]]}],\"surface\":[{\"type\":\"surface\",\"colorbar\":{\"outlinewidth\":0,\"ticks\":\"\"},\"colorscale\":[[0.0,\"#0d0887\"],[0.1111111111111111,\"#46039f\"],[0.2222222222222222,\"#7201a8\"],[0.3333333333333333,\"#9c179e\"],[0.4444444444444444,\"#bd3786\"],[0.5555555555555556,\"#d8576b\"],[0.6666666666666666,\"#ed7953\"],[0.7777777777777778,\"#fb9f3a\"],[0.8888888888888888,\"#fdca26\"],[1.0,\"#f0f921\"]]}],\"mesh3d\":[{\"type\":\"mesh3d\",\"colorbar\":{\"outlinewidth\":0,\"ticks\":\"\"}}],\"scatter\":[{\"fillpattern\":{\"fillmode\":\"overlay\",\"size\":10,\"solidity\":0.2},\"type\":\"scatter\"}],\"parcoords\":[{\"type\":\"parcoords\",\"line\":{\"colorbar\":{\"outlinewidth\":0,\"ticks\":\"\"}}}],\"scatterpolargl\":[{\"type\":\"scatterpolargl\",\"marker\":{\"colorbar\":{\"outlinewidth\":0,\"ticks\":\"\"}}}],\"bar\":[{\"error_x\":{\"color\":\"#2a3f5f\"},\"error_y\":{\"color\":\"#2a3f5f\"},\"marker\":{\"line\":{\"color\":\"#E5ECF6\",\"width\":0.5},\"pattern\":{\"fillmode\":\"overlay\",\"size\":10,\"solidity\":0.2}},\"type\":\"bar\"}],\"scattergeo\":[{\"type\":\"scattergeo\",\"marker\":{\"colorbar\":{\"outlinewidth\":0,\"ticks\":\"\"}}}],\"scatterpolar\":[{\"type\":\"scatterpolar\",\"marker\":{\"colorbar\":{\"outlinewidth\":0,\"ticks\":\"\"}}}],\"histogram\":[{\"marker\":{\"pattern\":{\"fillmode\":\"overlay\",\"size\":10,\"solidity\":0.2}},\"type\":\"histogram\"}],\"scattergl\":[{\"type\":\"scattergl\",\"marker\":{\"colorbar\":{\"outlinewidth\":0,\"ticks\":\"\"}}}],\"scatter3d\":[{\"type\":\"scatter3d\",\"line\":{\"colorbar\":{\"outlinewidth\":0,\"ticks\":\"\"}},\"marker\":{\"colorbar\":{\"outlinewidth\":0,\"ticks\":\"\"}}}],\"scattermapbox\":[{\"type\":\"scattermapbox\",\"marker\":{\"colorbar\":{\"outlinewidth\":0,\"ticks\":\"\"}}}],\"scatterternary\":[{\"type\":\"scatterternary\",\"marker\":{\"colorbar\":{\"outlinewidth\":0,\"ticks\":\"\"}}}],\"scattercarpet\":[{\"type\":\"scattercarpet\",\"marker\":{\"colorbar\":{\"outlinewidth\":0,\"ticks\":\"\"}}}],\"carpet\":[{\"aaxis\":{\"endlinecolor\":\"#2a3f5f\",\"gridcolor\":\"white\",\"linecolor\":\"white\",\"minorgridcolor\":\"white\",\"startlinecolor\":\"#2a3f5f\"},\"baxis\":{\"endlinecolor\":\"#2a3f5f\",\"gridcolor\":\"white\",\"linecolor\":\"white\",\"minorgridcolor\":\"white\",\"startlinecolor\":\"#2a3f5f\"},\"type\":\"carpet\"}],\"table\":[{\"cells\":{\"fill\":{\"color\":\"#EBF0F8\"},\"line\":{\"color\":\"white\"}},\"header\":{\"fill\":{\"color\":\"#C8D4E3\"},\"line\":{\"color\":\"white\"}},\"type\":\"table\"}],\"barpolar\":[{\"marker\":{\"line\":{\"color\":\"#E5ECF6\",\"width\":0.5},\"pattern\":{\"fillmode\":\"overlay\",\"size\":10,\"solidity\":0.2}},\"type\":\"barpolar\"}],\"pie\":[{\"automargin\":true,\"type\":\"pie\"}]},\"layout\":{\"autotypenumbers\":\"strict\",\"colorway\":[\"#636efa\",\"#EF553B\",\"#00cc96\",\"#ab63fa\",\"#FFA15A\",\"#19d3f3\",\"#FF6692\",\"#B6E880\",\"#FF97FF\",\"#FECB52\"],\"font\":{\"color\":\"#2a3f5f\"},\"hovermode\":\"closest\",\"hoverlabel\":{\"align\":\"left\"},\"paper_bgcolor\":\"white\",\"plot_bgcolor\":\"#E5ECF6\",\"polar\":{\"bgcolor\":\"#E5ECF6\",\"angularaxis\":{\"gridcolor\":\"white\",\"linecolor\":\"white\",\"ticks\":\"\"},\"radialaxis\":{\"gridcolor\":\"white\",\"linecolor\":\"white\",\"ticks\":\"\"}},\"ternary\":{\"bgcolor\":\"#E5ECF6\",\"aaxis\":{\"gridcolor\":\"white\",\"linecolor\":\"white\",\"ticks\":\"\"},\"baxis\":{\"gridcolor\":\"white\",\"linecolor\":\"white\",\"ticks\":\"\"},\"caxis\":{\"gridcolor\":\"white\",\"linecolor\":\"white\",\"ticks\":\"\"}},\"coloraxis\":{\"colorbar\":{\"outlinewidth\":0,\"ticks\":\"\"}},\"colorscale\":{\"sequential\":[[0.0,\"#0d0887\"],[0.1111111111111111,\"#46039f\"],[0.2222222222222222,\"#7201a8\"],[0.3333333333333333,\"#9c179e\"],[0.4444444444444444,\"#bd3786\"],[0.5555555555555556,\"#d8576b\"],[0.6666666666666666,\"#ed7953\"],[0.7777777777777778,\"#fb9f3a\"],[0.8888888888888888,\"#fdca26\"],[1.0,\"#f0f921\"]],\"sequentialminus\":[[0.0,\"#0d0887\"],[0.1111111111111111,\"#46039f\"],[0.2222222222222222,\"#7201a8\"],[0.3333333333333333,\"#9c179e\"],[0.4444444444444444,\"#bd3786\"],[0.5555555555555556,\"#d8576b\"],[0.6666666666666666,\"#ed7953\"],[0.7777777777777778,\"#fb9f3a\"],[0.8888888888888888,\"#fdca26\"],[1.0,\"#f0f921\"]],\"diverging\":[[0,\"#8e0152\"],[0.1,\"#c51b7d\"],[0.2,\"#de77ae\"],[0.3,\"#f1b6da\"],[0.4,\"#fde0ef\"],[0.5,\"#f7f7f7\"],[0.6,\"#e6f5d0\"],[0.7,\"#b8e186\"],[0.8,\"#7fbc41\"],[0.9,\"#4d9221\"],[1,\"#276419\"]]},\"xaxis\":{\"gridcolor\":\"white\",\"linecolor\":\"white\",\"ticks\":\"\",\"title\":{\"standoff\":15},\"zerolinecolor\":\"white\",\"automargin\":true,\"zerolinewidth\":2},\"yaxis\":{\"gridcolor\":\"white\",\"linecolor\":\"white\",\"ticks\":\"\",\"title\":{\"standoff\":15},\"zerolinecolor\":\"white\",\"automargin\":true,\"zerolinewidth\":2},\"scene\":{\"xaxis\":{\"backgroundcolor\":\"#E5ECF6\",\"gridcolor\":\"white\",\"linecolor\":\"white\",\"showbackground\":true,\"ticks\":\"\",\"zerolinecolor\":\"white\",\"gridwidth\":2},\"yaxis\":{\"backgroundcolor\":\"#E5ECF6\",\"gridcolor\":\"white\",\"linecolor\":\"white\",\"showbackground\":true,\"ticks\":\"\",\"zerolinecolor\":\"white\",\"gridwidth\":2},\"zaxis\":{\"backgroundcolor\":\"#E5ECF6\",\"gridcolor\":\"white\",\"linecolor\":\"white\",\"showbackground\":true,\"ticks\":\"\",\"zerolinecolor\":\"white\",\"gridwidth\":2}},\"shapedefaults\":{\"line\":{\"color\":\"#2a3f5f\"}},\"annotationdefaults\":{\"arrowcolor\":\"#2a3f5f\",\"arrowhead\":0,\"arrowwidth\":1},\"geo\":{\"bgcolor\":\"white\",\"landcolor\":\"#E5ECF6\",\"subunitcolor\":\"white\",\"showland\":true,\"showlakes\":true,\"lakecolor\":\"white\"},\"title\":{\"x\":0.05},\"mapbox\":{\"style\":\"light\"}}},\"xaxis\":{\"anchor\":\"y\",\"domain\":[0.0,1.0],\"scaleanchor\":\"y\",\"constrain\":\"domain\",\"title\":{\"text\":\"Layer 1\"}},\"yaxis\":{\"anchor\":\"x\",\"domain\":[0.0,1.0],\"autorange\":\"reversed\",\"constrain\":\"domain\",\"title\":{\"text\":\"Layer 0\"}},\"coloraxis\":{\"colorscale\":[[0.0,\"rgb(103,0,31)\"],[0.1,\"rgb(178,24,43)\"],[0.2,\"rgb(214,96,77)\"],[0.3,\"rgb(244,165,130)\"],[0.4,\"rgb(253,219,199)\"],[0.5,\"rgb(247,247,247)\"],[0.6,\"rgb(209,229,240)\"],[0.7,\"rgb(146,197,222)\"],[0.8,\"rgb(67,147,195)\"],[0.9,\"rgb(33,102,172)\"],[1.0,\"rgb(5,48,97)\"]],\"cmid\":0.18756299674510957},\"title\":{\"text\":\"V Composition Scores\"},\"height\":400,\"width\":600},                        {\"responsive\": true}                    ).then(function(){\n",
              "                            \n",
              "var gd = document.getElementById('927d3751-012b-49ae-bcd5-d0449bb01ab5');\n",
              "var x = new MutationObserver(function (mutations, observer) {{\n",
              "        var display = window.getComputedStyle(gd).display;\n",
              "        if (!display || display === 'none') {{\n",
              "            console.log([gd, 'removed!']);\n",
              "            Plotly.purge(gd);\n",
              "            observer.disconnect();\n",
              "        }}\n",
              "}});\n",
              "\n",
              "// Listen for the removal of the full notebook cells\n",
              "var notebookContainer = gd.closest('#notebook-container');\n",
              "if (notebookContainer) {{\n",
              "    x.observe(notebookContainer, {childList: true});\n",
              "}}\n",
              "\n",
              "// Listen for the clearing of the current output cell\n",
              "var outputEl = gd.closest('.output');\n",
              "if (outputEl) {{\n",
              "    x.observe(outputEl, {childList: true});\n",
              "}}\n",
              "\n",
              "                        })                };                            </script>        </div>\n",
              "</body>\n",
              "</html>"
            ]
          },
          "metadata": {}
        }
      ]
    },
    {
      "cell_type": "markdown",
      "source": [
        "It is pretty clear that H0.0's OV output space overlaps significantly with H1.0's Q input space and V input space. None of the other input/output spaces have significant overlap.\n",
        "\n",
        "This suggests that H0.0 and H1.0 are related by K-composition (H0.0's output is used in H1.0's keys) and V-composition (H0.0's output is used in H1.0's values)."
      ],
      "metadata": {
        "id": "J58vNKUon6cK"
      }
    },
    {
      "cell_type": "markdown",
      "source": [
        "## H0.0 & H1.0 K-composition"
      ],
      "metadata": {
        "id": "Gem8zDMTy8yK"
      }
    },
    {
      "cell_type": "markdown",
      "source": [
        "Let's take a look at H1.0's QK circuit. We only care about the last position's attention pattern, as none of the others cannot have an impact on the output.\n",
        "\n",
        "Let's look at the last position of H1.0's attention pattern for 3 examples of a palindrome and 3 examples of a non-palindrome."
      ],
      "metadata": {
        "id": "ocmnoyG2zBjb"
      }
    },
    {
      "cell_type": "code",
      "source": [
        "def head_1_0_last_attn_vis_hook(\n",
        "    pattern: Float[Tensor, \"batch head_index dest_pos source_pos\"],\n",
        "    hook: HookPoint,\n",
        "):\n",
        "    if (hook.layer() == 1):\n",
        "        display_seq(current_tok.squeeze(), -1)\n",
        "\n",
        "        # Create a bar chart\n",
        "        last_token_attn = pattern[0,0,-1].cpu().detach().numpy().tolist()\n",
        "        fig = go.Figure(data=[\n",
        "            go.Bar(x=[f\"({i}) {s}\" for i, s in enumerate(current_tok)], y=last_token_attn)\n",
        "        ])\n",
        "\n",
        "        fig.update_layout(\n",
        "            title='Attention scores from last position',\n",
        "            xaxis_title='Target position',\n",
        "            yaxis_title='Attention score',\n",
        "            autosize=False,\n",
        "            width=500,\n",
        "            height=300,\n",
        "        )\n",
        "        fig.show()\n",
        "\n",
        "        display(\n",
        "            cv.attention.attention_patterns(\n",
        "                tokens=[f\"{s}\" for i, s in enumerate(current_tok)],\n",
        "                attention=pattern.mean(0)\n",
        "            )\n",
        "        )\n",
        "\n",
        "toks, is_palindrome = dataset[:100]\n",
        "toks_pos = toks[is_palindrome == 1]\n",
        "toks_neg = toks[is_palindrome == 0]\n",
        "\n",
        "for label, example_set in zip([\"Palindrome\", \"Non-palindrome\"], [toks_pos, toks_neg]):\n",
        "    for i in range(3):\n",
        "        print(label)\n",
        "        model.reset_hooks()\n",
        "        current_tok = example_set[i]\n",
        "        pattern_hook_names_filter = lambda name: name.endswith(\"pattern\")\n",
        "        logits = model.run_with_hooks(\n",
        "            current_tok,\n",
        "            return_type=\"logits\",\n",
        "            fwd_hooks=[\n",
        "                (pattern_hook_names_filter, head_1_0_last_attn_vis_hook)\n",
        "            ]\n",
        "        )\n",
        "\n",
        "\n"
      ],
      "metadata": {
        "colab": {
          "base_uri": "https://localhost:8080/",
          "height": 1000
        },
        "id": "aSoxbUTKTfJz",
        "outputId": "339d5d37-5a0a-4fa6-9d7d-04bc1a95758a"
      },
      "execution_count": 22,
      "outputs": [
        {
          "output_type": "stream",
          "name": "stdout",
          "text": [
            "Palindrome\n"
          ]
        },
        {
          "output_type": "display_data",
          "data": {
            "text/plain": [
              "START |\u001b[1;37m30\u001b[0m|\u001b[1;37m02\u001b[0m|\u001b[1;37m20\u001b[0m|\u001b[1;37m18\u001b[0m|\u001b[1;37m29\u001b[0m|\u001b[1;37m08\u001b[0m|\u001b[1;37m04\u001b[0m|\u001b[1;37m10\u001b[0m|\u001b[1;37m13\u001b[0m|\u001b[1;37m12\u001b[0m|\u001b[1;37m12\u001b[0m|\u001b[1;37m13\u001b[0m|\u001b[1;37m10\u001b[0m|\u001b[1;37m04\u001b[0m|\u001b[1;37m08\u001b[0m|\u001b[1;37m29\u001b[0m|\u001b[1;37m18\u001b[0m|\u001b[1;37m20\u001b[0m|\u001b[1;37m02\u001b[0m|\u001b[1;37m30\u001b[0m| END  ->  \u001b[1;36m-1.000\u001b[0m\n"
            ],
            "text/html": [
              "<pre style=\"white-space:pre;overflow-x:auto;line-height:normal;font-family:Menlo,'DejaVu Sans Mono',consolas,'Courier New',monospace\">START |<span style=\"color: #c0c0c0; text-decoration-color: #c0c0c0; font-weight: bold\">30</span>|<span style=\"color: #c0c0c0; text-decoration-color: #c0c0c0; font-weight: bold\">02</span>|<span style=\"color: #c0c0c0; text-decoration-color: #c0c0c0; font-weight: bold\">20</span>|<span style=\"color: #c0c0c0; text-decoration-color: #c0c0c0; font-weight: bold\">18</span>|<span style=\"color: #c0c0c0; text-decoration-color: #c0c0c0; font-weight: bold\">29</span>|<span style=\"color: #c0c0c0; text-decoration-color: #c0c0c0; font-weight: bold\">08</span>|<span style=\"color: #c0c0c0; text-decoration-color: #c0c0c0; font-weight: bold\">04</span>|<span style=\"color: #c0c0c0; text-decoration-color: #c0c0c0; font-weight: bold\">10</span>|<span style=\"color: #c0c0c0; text-decoration-color: #c0c0c0; font-weight: bold\">13</span>|<span style=\"color: #c0c0c0; text-decoration-color: #c0c0c0; font-weight: bold\">12</span>|<span style=\"color: #c0c0c0; text-decoration-color: #c0c0c0; font-weight: bold\">12</span>|<span style=\"color: #c0c0c0; text-decoration-color: #c0c0c0; font-weight: bold\">13</span>|<span style=\"color: #c0c0c0; text-decoration-color: #c0c0c0; font-weight: bold\">10</span>|<span style=\"color: #c0c0c0; text-decoration-color: #c0c0c0; font-weight: bold\">04</span>|<span style=\"color: #c0c0c0; text-decoration-color: #c0c0c0; font-weight: bold\">08</span>|<span style=\"color: #c0c0c0; text-decoration-color: #c0c0c0; font-weight: bold\">29</span>|<span style=\"color: #c0c0c0; text-decoration-color: #c0c0c0; font-weight: bold\">18</span>|<span style=\"color: #c0c0c0; text-decoration-color: #c0c0c0; font-weight: bold\">20</span>|<span style=\"color: #c0c0c0; text-decoration-color: #c0c0c0; font-weight: bold\">02</span>|<span style=\"color: #c0c0c0; text-decoration-color: #c0c0c0; font-weight: bold\">30</span>| END  -&gt;  <span style=\"color: #008080; text-decoration-color: #008080; font-weight: bold\">-1.000</span>\n",
              "</pre>\n"
            ]
          },
          "metadata": {}
        },
        {
          "output_type": "display_data",
          "data": {
            "text/html": [
              "<html>\n",
              "<head><meta charset=\"utf-8\" /></head>\n",
              "<body>\n",
              "    <div>            <script src=\"https://cdnjs.cloudflare.com/ajax/libs/mathjax/2.7.5/MathJax.js?config=TeX-AMS-MML_SVG\"></script><script type=\"text/javascript\">if (window.MathJax && window.MathJax.Hub && window.MathJax.Hub.Config) {window.MathJax.Hub.Config({SVG: {font: \"STIX-Web\"}});}</script>                <script type=\"text/javascript\">window.PlotlyConfig = {MathJaxConfig: 'local'};</script>\n",
              "        <script charset=\"utf-8\" src=\"https://cdn.plot.ly/plotly-2.24.1.min.js\"></script>                <div id=\"a0399ca2-a898-41ac-a1ee-6ef9696ea886\" class=\"plotly-graph-div\" style=\"height:300px; width:500px;\"></div>            <script type=\"text/javascript\">                                    window.PLOTLYENV=window.PLOTLYENV || {};                                    if (document.getElementById(\"a0399ca2-a898-41ac-a1ee-6ef9696ea886\")) {                    Plotly.newPlot(                        \"a0399ca2-a898-41ac-a1ee-6ef9696ea886\",                        [{\"x\":[\"(0) 31\",\"(1) 30\",\"(2) 2\",\"(3) 20\",\"(4) 18\",\"(5) 29\",\"(6) 8\",\"(7) 4\",\"(8) 10\",\"(9) 13\",\"(10) 12\",\"(11) 12\",\"(12) 13\",\"(13) 10\",\"(14) 4\",\"(15) 8\",\"(16) 29\",\"(17) 18\",\"(18) 20\",\"(19) 2\",\"(20) 30\",\"(21) 32\"],\"y\":[0.02122107334434986,0.023230697959661484,0.050682101398706436,0.0012949280207976699,0.21655400097370148,0.00011285802611382678,0.00011651404929580167,2.78355109912809e-05,0.00045095919631421566,0.00020340451737865806,3.2424271921627223e-05,0.019660957157611847,0.25671663880348206,0.1616554856300354,0.00563540356233716,0.012446675449609756,0.045305073261260986,0.015117455273866653,0.09456027299165726,0.0009508044458925724,0.020767444744706154,0.0532570481300354],\"type\":\"bar\"}],                        {\"template\":{\"data\":{\"histogram2dcontour\":[{\"type\":\"histogram2dcontour\",\"colorbar\":{\"outlinewidth\":0,\"ticks\":\"\"},\"colorscale\":[[0.0,\"#0d0887\"],[0.1111111111111111,\"#46039f\"],[0.2222222222222222,\"#7201a8\"],[0.3333333333333333,\"#9c179e\"],[0.4444444444444444,\"#bd3786\"],[0.5555555555555556,\"#d8576b\"],[0.6666666666666666,\"#ed7953\"],[0.7777777777777778,\"#fb9f3a\"],[0.8888888888888888,\"#fdca26\"],[1.0,\"#f0f921\"]]}],\"choropleth\":[{\"type\":\"choropleth\",\"colorbar\":{\"outlinewidth\":0,\"ticks\":\"\"}}],\"histogram2d\":[{\"type\":\"histogram2d\",\"colorbar\":{\"outlinewidth\":0,\"ticks\":\"\"},\"colorscale\":[[0.0,\"#0d0887\"],[0.1111111111111111,\"#46039f\"],[0.2222222222222222,\"#7201a8\"],[0.3333333333333333,\"#9c179e\"],[0.4444444444444444,\"#bd3786\"],[0.5555555555555556,\"#d8576b\"],[0.6666666666666666,\"#ed7953\"],[0.7777777777777778,\"#fb9f3a\"],[0.8888888888888888,\"#fdca26\"],[1.0,\"#f0f921\"]]}],\"heatmap\":[{\"type\":\"heatmap\",\"colorbar\":{\"outlinewidth\":0,\"ticks\":\"\"},\"colorscale\":[[0.0,\"#0d0887\"],[0.1111111111111111,\"#46039f\"],[0.2222222222222222,\"#7201a8\"],[0.3333333333333333,\"#9c179e\"],[0.4444444444444444,\"#bd3786\"],[0.5555555555555556,\"#d8576b\"],[0.6666666666666666,\"#ed7953\"],[0.7777777777777778,\"#fb9f3a\"],[0.8888888888888888,\"#fdca26\"],[1.0,\"#f0f921\"]]}],\"heatmapgl\":[{\"type\":\"heatmapgl\",\"colorbar\":{\"outlinewidth\":0,\"ticks\":\"\"},\"colorscale\":[[0.0,\"#0d0887\"],[0.1111111111111111,\"#46039f\"],[0.2222222222222222,\"#7201a8\"],[0.3333333333333333,\"#9c179e\"],[0.4444444444444444,\"#bd3786\"],[0.5555555555555556,\"#d8576b\"],[0.6666666666666666,\"#ed7953\"],[0.7777777777777778,\"#fb9f3a\"],[0.8888888888888888,\"#fdca26\"],[1.0,\"#f0f921\"]]}],\"contourcarpet\":[{\"type\":\"contourcarpet\",\"colorbar\":{\"outlinewidth\":0,\"ticks\":\"\"}}],\"contour\":[{\"type\":\"contour\",\"colorbar\":{\"outlinewidth\":0,\"ticks\":\"\"},\"colorscale\":[[0.0,\"#0d0887\"],[0.1111111111111111,\"#46039f\"],[0.2222222222222222,\"#7201a8\"],[0.3333333333333333,\"#9c179e\"],[0.4444444444444444,\"#bd3786\"],[0.5555555555555556,\"#d8576b\"],[0.6666666666666666,\"#ed7953\"],[0.7777777777777778,\"#fb9f3a\"],[0.8888888888888888,\"#fdca26\"],[1.0,\"#f0f921\"]]}],\"surface\":[{\"type\":\"surface\",\"colorbar\":{\"outlinewidth\":0,\"ticks\":\"\"},\"colorscale\":[[0.0,\"#0d0887\"],[0.1111111111111111,\"#46039f\"],[0.2222222222222222,\"#7201a8\"],[0.3333333333333333,\"#9c179e\"],[0.4444444444444444,\"#bd3786\"],[0.5555555555555556,\"#d8576b\"],[0.6666666666666666,\"#ed7953\"],[0.7777777777777778,\"#fb9f3a\"],[0.8888888888888888,\"#fdca26\"],[1.0,\"#f0f921\"]]}],\"mesh3d\":[{\"type\":\"mesh3d\",\"colorbar\":{\"outlinewidth\":0,\"ticks\":\"\"}}],\"scatter\":[{\"fillpattern\":{\"fillmode\":\"overlay\",\"size\":10,\"solidity\":0.2},\"type\":\"scatter\"}],\"parcoords\":[{\"type\":\"parcoords\",\"line\":{\"colorbar\":{\"outlinewidth\":0,\"ticks\":\"\"}}}],\"scatterpolargl\":[{\"type\":\"scatterpolargl\",\"marker\":{\"colorbar\":{\"outlinewidth\":0,\"ticks\":\"\"}}}],\"bar\":[{\"error_x\":{\"color\":\"#2a3f5f\"},\"error_y\":{\"color\":\"#2a3f5f\"},\"marker\":{\"line\":{\"color\":\"#E5ECF6\",\"width\":0.5},\"pattern\":{\"fillmode\":\"overlay\",\"size\":10,\"solidity\":0.2}},\"type\":\"bar\"}],\"scattergeo\":[{\"type\":\"scattergeo\",\"marker\":{\"colorbar\":{\"outlinewidth\":0,\"ticks\":\"\"}}}],\"scatterpolar\":[{\"type\":\"scatterpolar\",\"marker\":{\"colorbar\":{\"outlinewidth\":0,\"ticks\":\"\"}}}],\"histogram\":[{\"marker\":{\"pattern\":{\"fillmode\":\"overlay\",\"size\":10,\"solidity\":0.2}},\"type\":\"histogram\"}],\"scattergl\":[{\"type\":\"scattergl\",\"marker\":{\"colorbar\":{\"outlinewidth\":0,\"ticks\":\"\"}}}],\"scatter3d\":[{\"type\":\"scatter3d\",\"line\":{\"colorbar\":{\"outlinewidth\":0,\"ticks\":\"\"}},\"marker\":{\"colorbar\":{\"outlinewidth\":0,\"ticks\":\"\"}}}],\"scattermapbox\":[{\"type\":\"scattermapbox\",\"marker\":{\"colorbar\":{\"outlinewidth\":0,\"ticks\":\"\"}}}],\"scatterternary\":[{\"type\":\"scatterternary\",\"marker\":{\"colorbar\":{\"outlinewidth\":0,\"ticks\":\"\"}}}],\"scattercarpet\":[{\"type\":\"scattercarpet\",\"marker\":{\"colorbar\":{\"outlinewidth\":0,\"ticks\":\"\"}}}],\"carpet\":[{\"aaxis\":{\"endlinecolor\":\"#2a3f5f\",\"gridcolor\":\"white\",\"linecolor\":\"white\",\"minorgridcolor\":\"white\",\"startlinecolor\":\"#2a3f5f\"},\"baxis\":{\"endlinecolor\":\"#2a3f5f\",\"gridcolor\":\"white\",\"linecolor\":\"white\",\"minorgridcolor\":\"white\",\"startlinecolor\":\"#2a3f5f\"},\"type\":\"carpet\"}],\"table\":[{\"cells\":{\"fill\":{\"color\":\"#EBF0F8\"},\"line\":{\"color\":\"white\"}},\"header\":{\"fill\":{\"color\":\"#C8D4E3\"},\"line\":{\"color\":\"white\"}},\"type\":\"table\"}],\"barpolar\":[{\"marker\":{\"line\":{\"color\":\"#E5ECF6\",\"width\":0.5},\"pattern\":{\"fillmode\":\"overlay\",\"size\":10,\"solidity\":0.2}},\"type\":\"barpolar\"}],\"pie\":[{\"automargin\":true,\"type\":\"pie\"}]},\"layout\":{\"autotypenumbers\":\"strict\",\"colorway\":[\"#636efa\",\"#EF553B\",\"#00cc96\",\"#ab63fa\",\"#FFA15A\",\"#19d3f3\",\"#FF6692\",\"#B6E880\",\"#FF97FF\",\"#FECB52\"],\"font\":{\"color\":\"#2a3f5f\"},\"hovermode\":\"closest\",\"hoverlabel\":{\"align\":\"left\"},\"paper_bgcolor\":\"white\",\"plot_bgcolor\":\"#E5ECF6\",\"polar\":{\"bgcolor\":\"#E5ECF6\",\"angularaxis\":{\"gridcolor\":\"white\",\"linecolor\":\"white\",\"ticks\":\"\"},\"radialaxis\":{\"gridcolor\":\"white\",\"linecolor\":\"white\",\"ticks\":\"\"}},\"ternary\":{\"bgcolor\":\"#E5ECF6\",\"aaxis\":{\"gridcolor\":\"white\",\"linecolor\":\"white\",\"ticks\":\"\"},\"baxis\":{\"gridcolor\":\"white\",\"linecolor\":\"white\",\"ticks\":\"\"},\"caxis\":{\"gridcolor\":\"white\",\"linecolor\":\"white\",\"ticks\":\"\"}},\"coloraxis\":{\"colorbar\":{\"outlinewidth\":0,\"ticks\":\"\"}},\"colorscale\":{\"sequential\":[[0.0,\"#0d0887\"],[0.1111111111111111,\"#46039f\"],[0.2222222222222222,\"#7201a8\"],[0.3333333333333333,\"#9c179e\"],[0.4444444444444444,\"#bd3786\"],[0.5555555555555556,\"#d8576b\"],[0.6666666666666666,\"#ed7953\"],[0.7777777777777778,\"#fb9f3a\"],[0.8888888888888888,\"#fdca26\"],[1.0,\"#f0f921\"]],\"sequentialminus\":[[0.0,\"#0d0887\"],[0.1111111111111111,\"#46039f\"],[0.2222222222222222,\"#7201a8\"],[0.3333333333333333,\"#9c179e\"],[0.4444444444444444,\"#bd3786\"],[0.5555555555555556,\"#d8576b\"],[0.6666666666666666,\"#ed7953\"],[0.7777777777777778,\"#fb9f3a\"],[0.8888888888888888,\"#fdca26\"],[1.0,\"#f0f921\"]],\"diverging\":[[0,\"#8e0152\"],[0.1,\"#c51b7d\"],[0.2,\"#de77ae\"],[0.3,\"#f1b6da\"],[0.4,\"#fde0ef\"],[0.5,\"#f7f7f7\"],[0.6,\"#e6f5d0\"],[0.7,\"#b8e186\"],[0.8,\"#7fbc41\"],[0.9,\"#4d9221\"],[1,\"#276419\"]]},\"xaxis\":{\"gridcolor\":\"white\",\"linecolor\":\"white\",\"ticks\":\"\",\"title\":{\"standoff\":15},\"zerolinecolor\":\"white\",\"automargin\":true,\"zerolinewidth\":2},\"yaxis\":{\"gridcolor\":\"white\",\"linecolor\":\"white\",\"ticks\":\"\",\"title\":{\"standoff\":15},\"zerolinecolor\":\"white\",\"automargin\":true,\"zerolinewidth\":2},\"scene\":{\"xaxis\":{\"backgroundcolor\":\"#E5ECF6\",\"gridcolor\":\"white\",\"linecolor\":\"white\",\"showbackground\":true,\"ticks\":\"\",\"zerolinecolor\":\"white\",\"gridwidth\":2},\"yaxis\":{\"backgroundcolor\":\"#E5ECF6\",\"gridcolor\":\"white\",\"linecolor\":\"white\",\"showbackground\":true,\"ticks\":\"\",\"zerolinecolor\":\"white\",\"gridwidth\":2},\"zaxis\":{\"backgroundcolor\":\"#E5ECF6\",\"gridcolor\":\"white\",\"linecolor\":\"white\",\"showbackground\":true,\"ticks\":\"\",\"zerolinecolor\":\"white\",\"gridwidth\":2}},\"shapedefaults\":{\"line\":{\"color\":\"#2a3f5f\"}},\"annotationdefaults\":{\"arrowcolor\":\"#2a3f5f\",\"arrowhead\":0,\"arrowwidth\":1},\"geo\":{\"bgcolor\":\"white\",\"landcolor\":\"#E5ECF6\",\"subunitcolor\":\"white\",\"showland\":true,\"showlakes\":true,\"lakecolor\":\"white\"},\"title\":{\"x\":0.05},\"mapbox\":{\"style\":\"light\"}}},\"title\":{\"text\":\"Attention scores from last position\"},\"xaxis\":{\"title\":{\"text\":\"Target position\"}},\"yaxis\":{\"title\":{\"text\":\"Attention score\"}},\"autosize\":false,\"width\":500,\"height\":300},                        {\"responsive\": true}                    ).then(function(){\n",
              "                            \n",
              "var gd = document.getElementById('a0399ca2-a898-41ac-a1ee-6ef9696ea886');\n",
              "var x = new MutationObserver(function (mutations, observer) {{\n",
              "        var display = window.getComputedStyle(gd).display;\n",
              "        if (!display || display === 'none') {{\n",
              "            console.log([gd, 'removed!']);\n",
              "            Plotly.purge(gd);\n",
              "            observer.disconnect();\n",
              "        }}\n",
              "}});\n",
              "\n",
              "// Listen for the removal of the full notebook cells\n",
              "var notebookContainer = gd.closest('#notebook-container');\n",
              "if (notebookContainer) {{\n",
              "    x.observe(notebookContainer, {childList: true});\n",
              "}}\n",
              "\n",
              "// Listen for the clearing of the current output cell\n",
              "var outputEl = gd.closest('.output');\n",
              "if (outputEl) {{\n",
              "    x.observe(outputEl, {childList: true});\n",
              "}}\n",
              "\n",
              "                        })                };                            </script>        </div>\n",
              "</body>\n",
              "</html>"
            ]
          },
          "metadata": {}
        },
        {
          "output_type": "display_data",
          "data": {
            "text/plain": [
              "<circuitsvis.utils.render.RenderedHTML at 0x7afdd15f33a0>"
            ],
            "text/html": [
              "<div id=\"circuits-vis-75fe4d42-501a\" style=\"margin: 15px 0;\"/>\n",
              "    <script crossorigin type=\"module\">\n",
              "    import { render, AttentionPatterns } from \"https://unpkg.com/circuitsvis@1.41.0/dist/cdn/esm.js\";\n",
              "    render(\n",
              "      \"circuits-vis-75fe4d42-501a\",\n",
              "      AttentionPatterns,\n",
              "      {\"tokens\": [\"31\", \"30\", \"2\", \"20\", \"18\", \"29\", \"8\", \"4\", \"10\", \"13\", \"12\", \"12\", \"13\", \"10\", \"4\", \"8\", \"29\", \"18\", \"20\", \"2\", \"30\", \"32\"], \"attention\": [[[1.0, 0.0, 0.0, 0.0, 0.0, 0.0, 0.0, 0.0, 0.0, 0.0, 0.0, 0.0, 0.0, 0.0, 0.0, 0.0, 0.0, 0.0, 0.0, 0.0, 0.0, 0.0], [0.4137016832828522, 0.5862982869148254, 0.0, 0.0, 0.0, 0.0, 0.0, 0.0, 0.0, 0.0, 0.0, 0.0, 0.0, 0.0, 0.0, 0.0, 0.0, 0.0, 0.0, 0.0, 0.0, 0.0], [0.31937503814697266, 0.29809078574180603, 0.3825341463088989, 0.0, 0.0, 0.0, 0.0, 0.0, 0.0, 0.0, 0.0, 0.0, 0.0, 0.0, 0.0, 0.0, 0.0, 0.0, 0.0, 0.0, 0.0, 0.0], [0.26167625188827515, 0.2905304729938507, 0.2456425428390503, 0.20215076208114624, 0.0, 0.0, 0.0, 0.0, 0.0, 0.0, 0.0, 0.0, 0.0, 0.0, 0.0, 0.0, 0.0, 0.0, 0.0, 0.0, 0.0, 0.0], [0.10704448819160461, 0.25528934597969055, 0.14197170734405518, 0.017207801342010498, 0.47848671674728394, 0.0, 0.0, 0.0, 0.0, 0.0, 0.0, 0.0, 0.0, 0.0, 0.0, 0.0, 0.0, 0.0, 0.0, 0.0, 0.0, 0.0], [0.13906991481781006, 0.35004210472106934, 0.24308346211910248, 0.07136713713407516, 0.15921823680400848, 0.03721911460161209, 0.0, 0.0, 0.0, 0.0, 0.0, 0.0, 0.0, 0.0, 0.0, 0.0, 0.0, 0.0, 0.0, 0.0, 0.0, 0.0], [0.13555943965911865, 0.28607308864593506, 0.27391505241394043, 0.0629606768488884, 0.1819506138563156, 0.03169504180550575, 0.02784603089094162, 0.0, 0.0, 0.0, 0.0, 0.0, 0.0, 0.0, 0.0, 0.0, 0.0, 0.0, 0.0, 0.0, 0.0, 0.0], [0.09483806788921356, 0.2911539077758789, 0.27608782052993774, 0.05417108163237572, 0.2163858562707901, 0.02684020809829235, 0.02630469761788845, 0.014218353666365147, 0.0, 0.0, 0.0, 0.0, 0.0, 0.0, 0.0, 0.0, 0.0, 0.0, 0.0, 0.0, 0.0, 0.0], [0.12629012763500214, 0.06267109513282776, 0.2029920220375061, 0.13518117368221283, 0.10195881873369217, 0.14409850537776947, 0.06984885036945343, 0.0668812021613121, 0.090078204870224, 0.0, 0.0, 0.0, 0.0, 0.0, 0.0, 0.0, 0.0, 0.0, 0.0, 0.0, 0.0, 0.0], [0.09301291406154633, 0.28988537192344666, 0.24288184940814972, 0.049241166561841965, 0.21531812846660614, 0.023968910798430443, 0.022939937189221382, 0.011484256945550442, 0.031038835644721985, 0.020228616893291473, 0.0, 0.0, 0.0, 0.0, 0.0, 0.0, 0.0, 0.0, 0.0, 0.0, 0.0, 0.0], [0.10823152214288712, 0.13217048346996307, 0.34639474749565125, 0.07127389311790466, 0.26447784900665283, 0.012570635415613651, 0.00746349198743701, 0.004342332482337952, 0.03223016485571861, 0.01582235097885132, 0.005022468976676464, 0.0, 0.0, 0.0, 0.0, 0.0, 0.0, 0.0, 0.0, 0.0, 0.0, 0.0], [0.10774578899145126, 0.07804225385189056, 0.21095342934131622, 0.02551688440144062, 0.33946171402931213, 0.007449854630976915, 0.0050284527242183685, 0.003745975671336055, 0.017967214807868004, 0.01699642650783062, 0.004598428029567003, 0.18249358236789703, 0.0, 0.0, 0.0, 0.0, 0.0, 0.0, 0.0, 0.0, 0.0, 0.0], [0.07565011829137802, 0.15170146524906158, 0.10886391997337341, 0.012805264443159103, 0.21024933457374573, 0.00954290572553873, 0.010862930677831173, 0.006593580823391676, 0.011250238865613937, 0.013450084254145622, 0.00431623263284564, 0.058055710047483444, 0.3266581892967224, 0.0, 0.0, 0.0, 0.0, 0.0, 0.0, 0.0, 0.0, 0.0], [0.11428248882293701, 0.02516278252005577, 0.10906970500946045, 0.04826674610376358, 0.1133117526769638, 0.05217917263507843, 0.02725658379495144, 0.026037704199552536, 0.030780022963881493, 0.03795113041996956, 0.043979711830616, 0.18070051074028015, 0.11367135494947433, 0.07735030353069305, 0.0, 0.0, 0.0, 0.0, 0.0, 0.0, 0.0, 0.0], [0.05289437994360924, 0.08987482637166977, 0.12502320110797882, 0.011068028397858143, 0.1764451563358307, 0.005211674142628908, 0.00653034308925271, 0.00256728520616889, 0.00757589191198349, 0.006930186878889799, 0.0014397237682715058, 0.02949780970811844, 0.2581224739551544, 0.17252866923809052, 0.05429031699895859, 0.0, 0.0, 0.0, 0.0, 0.0, 0.0, 0.0], [0.08567741513252258, 0.08357404917478561, 0.1264299601316452, 0.032844580709934235, 0.14514245092868805, 0.016375912353396416, 0.01647060364484787, 0.006108065601438284, 0.011899677105247974, 0.011700340546667576, 0.006739198230206966, 0.07354739308357239, 0.1562298685312271, 0.0984535813331604, 0.042589444667100906, 0.08621739596128464, 0.0, 0.0, 0.0, 0.0, 0.0, 0.0], [0.08246409893035889, 0.13692842423915863, 0.07385028153657913, 0.028143126517534256, 0.10314518213272095, 0.019898729398846626, 0.026564298197627068, 0.01416208315640688, 0.024209201335906982, 0.020429912954568863, 0.011487679556012154, 0.05016767233610153, 0.11837401986122131, 0.0988813266158104, 0.051032789051532745, 0.0700235441327095, 0.07023763656616211, 0.0, 0.0, 0.0, 0.0, 0.0], [0.03558079153299332, 0.026095202192664146, 0.10308093577623367, 0.015029417350888252, 0.16185671091079712, 0.0030375232454389334, 0.0020153322257101536, 0.001145894406363368, 0.012118268758058548, 0.004780663643032312, 0.0011843645479530096, 0.04413754865527153, 0.22529563307762146, 0.23905768990516663, 0.011137126944959164, 0.01711340621113777, 0.056901730597019196, 0.040431756526231766, 0.0, 0.0, 0.0, 0.0], [0.03609931468963623, 0.032473523169755936, 0.033466778695583344, 0.03513660654425621, 0.11458143591880798, 0.030500084161758423, 0.028391243889927864, 0.02840820513665676, 0.04343773052096367, 0.053936634212732315, 0.038094762712717056, 0.06401368230581284, 0.10371803492307663, 0.07335435599088669, 0.03610146790742874, 0.040977850556373596, 0.053500946611166, 0.06582140177488327, 0.08798597753047943, 0.0, 0.0, 0.0], [0.03630799055099487, 0.07108227163553238, 0.09434720128774643, 0.01795085519552231, 0.09976771473884583, 0.013600250706076622, 0.015422315336763859, 0.00716440798714757, 0.01703077182173729, 0.011878464370965958, 0.0034690198954194784, 0.020650696009397507, 0.11745090037584305, 0.12068706005811691, 0.04195815697312355, 0.06854826956987381, 0.10913533717393875, 0.024415120482444763, 0.07360044866800308, 0.03553265705704689, 0.0, 0.0], [0.04189541935920715, 0.09301513433456421, 0.04437779262661934, 0.024638794362545013, 0.09372466802597046, 0.014310664497315884, 0.019291795790195465, 0.018471917137503624, 0.032556843012571335, 0.027152225375175476, 0.013825790025293827, 0.03614442050457001, 0.09945669025182724, 0.0888972207903862, 0.05228358507156372, 0.04341966286301613, 0.03469841927289963, 0.04684219881892204, 0.06905967742204666, 0.026485636830329895, 0.07945146411657333, 0.0], [0.02122107334434986, 0.023230697959661484, 0.050682101398706436, 0.0012949280207976699, 0.21655400097370148, 0.00011285802611382678, 0.00011651404929580167, 2.78355109912809e-05, 0.00045095919631421566, 0.00020340451737865806, 3.2424271921627223e-05, 0.019660957157611847, 0.25671663880348206, 0.1616554856300354, 0.00563540356233716, 0.012446675449609756, 0.045305073261260986, 0.015117455273866653, 0.09456027299165726, 0.0009508044458925724, 0.020767444744706154, 0.0532570481300354]], [[1.0, 0.0, 0.0, 0.0, 0.0, 0.0, 0.0, 0.0, 0.0, 0.0, 0.0, 0.0, 0.0, 0.0, 0.0, 0.0, 0.0, 0.0, 0.0, 0.0, 0.0, 0.0], [0.5261897444725037, 0.47381025552749634, 0.0, 0.0, 0.0, 0.0, 0.0, 0.0, 0.0, 0.0, 0.0, 0.0, 0.0, 0.0, 0.0, 0.0, 0.0, 0.0, 0.0, 0.0, 0.0, 0.0], [0.3471759259700775, 0.4151979684829712, 0.2376261055469513, 0.0, 0.0, 0.0, 0.0, 0.0, 0.0, 0.0, 0.0, 0.0, 0.0, 0.0, 0.0, 0.0, 0.0, 0.0, 0.0, 0.0, 0.0, 0.0], [0.2968176305294037, 0.31931930780410767, 0.20045460760593414, 0.1834084391593933, 0.0, 0.0, 0.0, 0.0, 0.0, 0.0, 0.0, 0.0, 0.0, 0.0, 0.0, 0.0, 0.0, 0.0, 0.0, 0.0, 0.0, 0.0], [0.14100518822669983, 0.5167196989059448, 0.036486826837062836, 0.20492374897003174, 0.10086459666490555, 0.0, 0.0, 0.0, 0.0, 0.0, 0.0, 0.0, 0.0, 0.0, 0.0, 0.0, 0.0, 0.0, 0.0, 0.0, 0.0, 0.0], [0.1662786602973938, 0.22016499936580658, 0.10768207162618637, 0.15697318315505981, 0.14440330862998962, 0.20449773967266083, 0.0, 0.0, 0.0, 0.0, 0.0, 0.0, 0.0, 0.0, 0.0, 0.0, 0.0, 0.0, 0.0, 0.0, 0.0, 0.0], [0.12877489626407623, 0.1914452165365219, 0.1021178811788559, 0.12388215214014053, 0.14910158514976501, 0.15732786059379578, 0.14735043048858643, 0.0, 0.0, 0.0, 0.0, 0.0, 0.0, 0.0, 0.0, 0.0, 0.0, 0.0, 0.0, 0.0, 0.0, 0.0], [0.11876187473535538, 0.20812171697616577, 0.0541900172829628, 0.10257602483034134, 0.07897923141717911, 0.20168638229370117, 0.1521768420934677, 0.08350793272256851, 0.0, 0.0, 0.0, 0.0, 0.0, 0.0, 0.0, 0.0, 0.0, 0.0, 0.0, 0.0, 0.0, 0.0], [0.12484315782785416, 0.13658085465431213, 0.07589859515428543, 0.09538549184799194, 0.14367158710956573, 0.1406269371509552, 0.0962495431303978, 0.09256280213594437, 0.09418103098869324, 0.0, 0.0, 0.0, 0.0, 0.0, 0.0, 0.0, 0.0, 0.0, 0.0, 0.0, 0.0, 0.0], [0.06892531365156174, 0.25188055634498596, 0.029934369027614594, 0.08657914400100708, 0.04515540227293968, 0.1819235384464264, 0.13004067540168762, 0.07238710671663284, 0.03829387575387955, 0.09488003700971603, 0.0, 0.0, 0.0, 0.0, 0.0, 0.0, 0.0, 0.0, 0.0, 0.0, 0.0, 0.0], [0.04776836186647415, 0.1673380732536316, 0.014723704196512699, 0.03337441012263298, 0.09890677034854889, 0.18078334629535675, 0.1075805276632309, 0.0843963697552681, 0.02510358765721321, 0.1049472838640213, 0.1350775808095932, 0.0, 0.0, 0.0, 0.0, 0.0, 0.0, 0.0, 0.0, 0.0, 0.0, 0.0], [0.04191609472036362, 0.20097893476486206, 0.013215679675340652, 0.03789358586072922, 0.08173322677612305, 0.1675819754600525, 0.1056579127907753, 0.0895276665687561, 0.025057019665837288, 0.0922323688864708, 0.123986154794693, 0.020219387486577034, 0.0, 0.0, 0.0, 0.0, 0.0, 0.0, 0.0, 0.0, 0.0, 0.0], [0.05282974615693092, 0.267897367477417, 0.025576137006282806, 0.1091352254152298, 0.02447134256362915, 0.13167959451675415, 0.11121652275323868, 0.06001751124858856, 0.033782511949539185, 0.06570280343294144, 0.09132173657417297, 0.01246055867522955, 0.013908958993852139, 0.0, 0.0, 0.0, 0.0, 0.0, 0.0, 0.0, 0.0, 0.0], [0.0766659677028656, 0.11764225363731384, 0.04901076480746269, 0.0927044227719307, 0.07414289563894272, 0.08859806507825851, 0.06482638418674469, 0.06770969182252884, 0.06508682668209076, 0.07633466273546219, 0.07890556007623672, 0.0442923828959465, 0.05207109823822975, 0.05200907960534096, 0.0, 0.0, 0.0, 0.0, 0.0, 0.0, 0.0, 0.0], [0.06779221445322037, 0.2147841900587082, 0.03125200420618057, 0.1158960685133934, 0.027882978320121765, 0.1235220804810524, 0.10390729457139969, 0.05319763720035553, 0.04685312882065773, 0.06545005738735199, 0.08754430711269379, 0.014940282329916954, 0.016474036499857903, 0.016361787915229797, 0.014141879044473171, 0.0, 0.0, 0.0, 0.0, 0.0, 0.0, 0.0], [0.05430281162261963, 0.09924545884132385, 0.07181549817323685, 0.08048132807016373, 0.06219561770558357, 0.055398132652044296, 0.059881627559661865, 0.07281387597322464, 0.05485311150550842, 0.06260588020086288, 0.05231119319796562, 0.04017861559987068, 0.0542413555085659, 0.04934176802635193, 0.07162531465291977, 0.05870833620429039, 0.0, 0.0, 0.0, 0.0, 0.0, 0.0], [0.06611452251672745, 0.10552871972322464, 0.07998359203338623, 0.0954827219247818, 0.05654233694076538, 0.05887322872877121, 0.06580378860235214, 0.05792714282870293, 0.0551329180598259, 0.05307653918862343, 0.04591964930295944, 0.03061177209019661, 0.03809832036495209, 0.044722218066453934, 0.04333191737532616, 0.05650268495082855, 0.04634794965386391, 0.0, 0.0, 0.0, 0.0, 0.0], [0.049603354185819626, 0.1594296246767044, 0.013346672989428043, 0.05594222620129585, 0.05917343124747276, 0.1404748111963272, 0.08317045867443085, 0.06050178036093712, 0.024376552551984787, 0.06352471560239792, 0.12167041748762131, 0.017610594630241394, 0.01442241296172142, 0.008333542384207249, 0.018921518698334694, 0.027771728113293648, 0.05918671190738678, 0.022539429366588593, 0.0, 0.0, 0.0, 0.0], [0.03808369114995003, 0.061603009700775146, 0.03534940630197525, 0.03463074937462807, 0.09025877714157104, 0.0472610741853714, 0.04873444139957428, 0.07641410827636719, 0.03824072703719139, 0.05321521684527397, 0.05717310681939125, 0.047282151877880096, 0.05001175031065941, 0.0380697101354599, 0.0899733453989029, 0.04629594832658768, 0.054999567568302155, 0.05161461979150772, 0.04078866168856621, 0.0, 0.0, 0.0], [0.07565537840127945, 0.12283946573734283, 0.05213562771677971, 0.11414369195699692, 0.03403305634856224, 0.07158185541629791, 0.06561324000358582, 0.03842414543032646, 0.0431930273771286, 0.044406723231077194, 0.05648888647556305, 0.018288858234882355, 0.016872569918632507, 0.02260991372168064, 0.0161102507263422, 0.036189742386341095, 0.031240807846188545, 0.035692211240530014, 0.06563903391361237, 0.038841504603624344, 0.0, 0.0], [0.059526149183511734, 0.053420208394527435, 0.05538288503885269, 0.07823909819126129, 0.03863822668790817, 0.046112336218357086, 0.049869339913129807, 0.03988179564476013, 0.04601271077990532, 0.0385623499751091, 0.05490107089281082, 0.042024027556180954, 0.026035018265247345, 0.03496083989739418, 0.030827712267637253, 0.04578074440360069, 0.037563249468803406, 0.06275477260351181, 0.06409433484077454, 0.04292130842804909, 0.05249180644750595, 0.0], [0.015485082753002644, 0.14104890823364258, 0.002813402097672224, 0.03830588981509209, 0.0099130654707551, 0.0795166939496994, 0.06360684335231781, 0.03236880153417587, 0.01106193382292986, 0.029543917626142502, 0.07543174177408218, 0.003154342295601964, 0.0023818686604499817, 0.001726978225633502, 0.00508133415132761, 0.01654670760035515, 0.01692912168800831, 0.006418099161237478, 0.0224437452852726, 0.012531029991805553, 0.4075462818145752, 0.006144235841929913]]]}\n",
              "    )\n",
              "    </script>"
            ]
          },
          "metadata": {}
        },
        {
          "output_type": "stream",
          "name": "stdout",
          "text": [
            "Palindrome\n"
          ]
        },
        {
          "output_type": "display_data",
          "data": {
            "text/plain": [
              "START |\u001b[1;37m18\u001b[0m|\u001b[1;37m20\u001b[0m|\u001b[1;37m21\u001b[0m|\u001b[1;37m28\u001b[0m|\u001b[1;37m05\u001b[0m|\u001b[1;37m13\u001b[0m|\u001b[1;37m21\u001b[0m|\u001b[1;37m01\u001b[0m|\u001b[1;37m08\u001b[0m|\u001b[1;37m16\u001b[0m|\u001b[1;37m16\u001b[0m|\u001b[1;37m08\u001b[0m|\u001b[1;37m01\u001b[0m|\u001b[1;37m21\u001b[0m|\u001b[1;37m13\u001b[0m|\u001b[1;37m05\u001b[0m|\u001b[1;37m28\u001b[0m|\u001b[1;37m21\u001b[0m|\u001b[1;37m20\u001b[0m|\u001b[1;37m18\u001b[0m| END  ->  \u001b[1;36m-1.000\u001b[0m\n"
            ],
            "text/html": [
              "<pre style=\"white-space:pre;overflow-x:auto;line-height:normal;font-family:Menlo,'DejaVu Sans Mono',consolas,'Courier New',monospace\">START |<span style=\"color: #c0c0c0; text-decoration-color: #c0c0c0; font-weight: bold\">18</span>|<span style=\"color: #c0c0c0; text-decoration-color: #c0c0c0; font-weight: bold\">20</span>|<span style=\"color: #c0c0c0; text-decoration-color: #c0c0c0; font-weight: bold\">21</span>|<span style=\"color: #c0c0c0; text-decoration-color: #c0c0c0; font-weight: bold\">28</span>|<span style=\"color: #c0c0c0; text-decoration-color: #c0c0c0; font-weight: bold\">05</span>|<span style=\"color: #c0c0c0; text-decoration-color: #c0c0c0; font-weight: bold\">13</span>|<span style=\"color: #c0c0c0; text-decoration-color: #c0c0c0; font-weight: bold\">21</span>|<span style=\"color: #c0c0c0; text-decoration-color: #c0c0c0; font-weight: bold\">01</span>|<span style=\"color: #c0c0c0; text-decoration-color: #c0c0c0; font-weight: bold\">08</span>|<span style=\"color: #c0c0c0; text-decoration-color: #c0c0c0; font-weight: bold\">16</span>|<span style=\"color: #c0c0c0; text-decoration-color: #c0c0c0; font-weight: bold\">16</span>|<span style=\"color: #c0c0c0; text-decoration-color: #c0c0c0; font-weight: bold\">08</span>|<span style=\"color: #c0c0c0; text-decoration-color: #c0c0c0; font-weight: bold\">01</span>|<span style=\"color: #c0c0c0; text-decoration-color: #c0c0c0; font-weight: bold\">21</span>|<span style=\"color: #c0c0c0; text-decoration-color: #c0c0c0; font-weight: bold\">13</span>|<span style=\"color: #c0c0c0; text-decoration-color: #c0c0c0; font-weight: bold\">05</span>|<span style=\"color: #c0c0c0; text-decoration-color: #c0c0c0; font-weight: bold\">28</span>|<span style=\"color: #c0c0c0; text-decoration-color: #c0c0c0; font-weight: bold\">21</span>|<span style=\"color: #c0c0c0; text-decoration-color: #c0c0c0; font-weight: bold\">20</span>|<span style=\"color: #c0c0c0; text-decoration-color: #c0c0c0; font-weight: bold\">18</span>| END  -&gt;  <span style=\"color: #008080; text-decoration-color: #008080; font-weight: bold\">-1.000</span>\n",
              "</pre>\n"
            ]
          },
          "metadata": {}
        },
        {
          "output_type": "display_data",
          "data": {
            "text/html": [
              "<html>\n",
              "<head><meta charset=\"utf-8\" /></head>\n",
              "<body>\n",
              "    <div>            <script src=\"https://cdnjs.cloudflare.com/ajax/libs/mathjax/2.7.5/MathJax.js?config=TeX-AMS-MML_SVG\"></script><script type=\"text/javascript\">if (window.MathJax && window.MathJax.Hub && window.MathJax.Hub.Config) {window.MathJax.Hub.Config({SVG: {font: \"STIX-Web\"}});}</script>                <script type=\"text/javascript\">window.PlotlyConfig = {MathJaxConfig: 'local'};</script>\n",
              "        <script charset=\"utf-8\" src=\"https://cdn.plot.ly/plotly-2.24.1.min.js\"></script>                <div id=\"28fc66a1-a937-458d-a44b-2795df9b6541\" class=\"plotly-graph-div\" style=\"height:300px; width:500px;\"></div>            <script type=\"text/javascript\">                                    window.PLOTLYENV=window.PLOTLYENV || {};                                    if (document.getElementById(\"28fc66a1-a937-458d-a44b-2795df9b6541\")) {                    Plotly.newPlot(                        \"28fc66a1-a937-458d-a44b-2795df9b6541\",                        [{\"x\":[\"(0) 31\",\"(1) 18\",\"(2) 20\",\"(3) 21\",\"(4) 28\",\"(5) 5\",\"(6) 13\",\"(7) 21\",\"(8) 1\",\"(9) 8\",\"(10) 16\",\"(11) 16\",\"(12) 8\",\"(13) 1\",\"(14) 21\",\"(15) 13\",\"(16) 5\",\"(17) 28\",\"(18) 21\",\"(19) 20\",\"(20) 18\",\"(21) 32\"],\"y\":[0.020538771525025368,0.11499663442373276,0.1377985030412674,0.00028561611543409526,0.16868451237678528,6.748174200765789e-05,0.00022126868134364486,2.3250659069162793e-05,2.886172296712175e-05,1.7759582988219336e-05,3.867375198751688e-06,0.004464368335902691,0.06185242161154747,0.0795508399605751,0.031776078045368195,0.057608701288700104,0.1476689875125885,0.003794959979131818,0.11712820082902908,0.0035280317533761263,0.02277698740363121,0.027183881029486656],\"type\":\"bar\"}],                        {\"template\":{\"data\":{\"histogram2dcontour\":[{\"type\":\"histogram2dcontour\",\"colorbar\":{\"outlinewidth\":0,\"ticks\":\"\"},\"colorscale\":[[0.0,\"#0d0887\"],[0.1111111111111111,\"#46039f\"],[0.2222222222222222,\"#7201a8\"],[0.3333333333333333,\"#9c179e\"],[0.4444444444444444,\"#bd3786\"],[0.5555555555555556,\"#d8576b\"],[0.6666666666666666,\"#ed7953\"],[0.7777777777777778,\"#fb9f3a\"],[0.8888888888888888,\"#fdca26\"],[1.0,\"#f0f921\"]]}],\"choropleth\":[{\"type\":\"choropleth\",\"colorbar\":{\"outlinewidth\":0,\"ticks\":\"\"}}],\"histogram2d\":[{\"type\":\"histogram2d\",\"colorbar\":{\"outlinewidth\":0,\"ticks\":\"\"},\"colorscale\":[[0.0,\"#0d0887\"],[0.1111111111111111,\"#46039f\"],[0.2222222222222222,\"#7201a8\"],[0.3333333333333333,\"#9c179e\"],[0.4444444444444444,\"#bd3786\"],[0.5555555555555556,\"#d8576b\"],[0.6666666666666666,\"#ed7953\"],[0.7777777777777778,\"#fb9f3a\"],[0.8888888888888888,\"#fdca26\"],[1.0,\"#f0f921\"]]}],\"heatmap\":[{\"type\":\"heatmap\",\"colorbar\":{\"outlinewidth\":0,\"ticks\":\"\"},\"colorscale\":[[0.0,\"#0d0887\"],[0.1111111111111111,\"#46039f\"],[0.2222222222222222,\"#7201a8\"],[0.3333333333333333,\"#9c179e\"],[0.4444444444444444,\"#bd3786\"],[0.5555555555555556,\"#d8576b\"],[0.6666666666666666,\"#ed7953\"],[0.7777777777777778,\"#fb9f3a\"],[0.8888888888888888,\"#fdca26\"],[1.0,\"#f0f921\"]]}],\"heatmapgl\":[{\"type\":\"heatmapgl\",\"colorbar\":{\"outlinewidth\":0,\"ticks\":\"\"},\"colorscale\":[[0.0,\"#0d0887\"],[0.1111111111111111,\"#46039f\"],[0.2222222222222222,\"#7201a8\"],[0.3333333333333333,\"#9c179e\"],[0.4444444444444444,\"#bd3786\"],[0.5555555555555556,\"#d8576b\"],[0.6666666666666666,\"#ed7953\"],[0.7777777777777778,\"#fb9f3a\"],[0.8888888888888888,\"#fdca26\"],[1.0,\"#f0f921\"]]}],\"contourcarpet\":[{\"type\":\"contourcarpet\",\"colorbar\":{\"outlinewidth\":0,\"ticks\":\"\"}}],\"contour\":[{\"type\":\"contour\",\"colorbar\":{\"outlinewidth\":0,\"ticks\":\"\"},\"colorscale\":[[0.0,\"#0d0887\"],[0.1111111111111111,\"#46039f\"],[0.2222222222222222,\"#7201a8\"],[0.3333333333333333,\"#9c179e\"],[0.4444444444444444,\"#bd3786\"],[0.5555555555555556,\"#d8576b\"],[0.6666666666666666,\"#ed7953\"],[0.7777777777777778,\"#fb9f3a\"],[0.8888888888888888,\"#fdca26\"],[1.0,\"#f0f921\"]]}],\"surface\":[{\"type\":\"surface\",\"colorbar\":{\"outlinewidth\":0,\"ticks\":\"\"},\"colorscale\":[[0.0,\"#0d0887\"],[0.1111111111111111,\"#46039f\"],[0.2222222222222222,\"#7201a8\"],[0.3333333333333333,\"#9c179e\"],[0.4444444444444444,\"#bd3786\"],[0.5555555555555556,\"#d8576b\"],[0.6666666666666666,\"#ed7953\"],[0.7777777777777778,\"#fb9f3a\"],[0.8888888888888888,\"#fdca26\"],[1.0,\"#f0f921\"]]}],\"mesh3d\":[{\"type\":\"mesh3d\",\"colorbar\":{\"outlinewidth\":0,\"ticks\":\"\"}}],\"scatter\":[{\"fillpattern\":{\"fillmode\":\"overlay\",\"size\":10,\"solidity\":0.2},\"type\":\"scatter\"}],\"parcoords\":[{\"type\":\"parcoords\",\"line\":{\"colorbar\":{\"outlinewidth\":0,\"ticks\":\"\"}}}],\"scatterpolargl\":[{\"type\":\"scatterpolargl\",\"marker\":{\"colorbar\":{\"outlinewidth\":0,\"ticks\":\"\"}}}],\"bar\":[{\"error_x\":{\"color\":\"#2a3f5f\"},\"error_y\":{\"color\":\"#2a3f5f\"},\"marker\":{\"line\":{\"color\":\"#E5ECF6\",\"width\":0.5},\"pattern\":{\"fillmode\":\"overlay\",\"size\":10,\"solidity\":0.2}},\"type\":\"bar\"}],\"scattergeo\":[{\"type\":\"scattergeo\",\"marker\":{\"colorbar\":{\"outlinewidth\":0,\"ticks\":\"\"}}}],\"scatterpolar\":[{\"type\":\"scatterpolar\",\"marker\":{\"colorbar\":{\"outlinewidth\":0,\"ticks\":\"\"}}}],\"histogram\":[{\"marker\":{\"pattern\":{\"fillmode\":\"overlay\",\"size\":10,\"solidity\":0.2}},\"type\":\"histogram\"}],\"scattergl\":[{\"type\":\"scattergl\",\"marker\":{\"colorbar\":{\"outlinewidth\":0,\"ticks\":\"\"}}}],\"scatter3d\":[{\"type\":\"scatter3d\",\"line\":{\"colorbar\":{\"outlinewidth\":0,\"ticks\":\"\"}},\"marker\":{\"colorbar\":{\"outlinewidth\":0,\"ticks\":\"\"}}}],\"scattermapbox\":[{\"type\":\"scattermapbox\",\"marker\":{\"colorbar\":{\"outlinewidth\":0,\"ticks\":\"\"}}}],\"scatterternary\":[{\"type\":\"scatterternary\",\"marker\":{\"colorbar\":{\"outlinewidth\":0,\"ticks\":\"\"}}}],\"scattercarpet\":[{\"type\":\"scattercarpet\",\"marker\":{\"colorbar\":{\"outlinewidth\":0,\"ticks\":\"\"}}}],\"carpet\":[{\"aaxis\":{\"endlinecolor\":\"#2a3f5f\",\"gridcolor\":\"white\",\"linecolor\":\"white\",\"minorgridcolor\":\"white\",\"startlinecolor\":\"#2a3f5f\"},\"baxis\":{\"endlinecolor\":\"#2a3f5f\",\"gridcolor\":\"white\",\"linecolor\":\"white\",\"minorgridcolor\":\"white\",\"startlinecolor\":\"#2a3f5f\"},\"type\":\"carpet\"}],\"table\":[{\"cells\":{\"fill\":{\"color\":\"#EBF0F8\"},\"line\":{\"color\":\"white\"}},\"header\":{\"fill\":{\"color\":\"#C8D4E3\"},\"line\":{\"color\":\"white\"}},\"type\":\"table\"}],\"barpolar\":[{\"marker\":{\"line\":{\"color\":\"#E5ECF6\",\"width\":0.5},\"pattern\":{\"fillmode\":\"overlay\",\"size\":10,\"solidity\":0.2}},\"type\":\"barpolar\"}],\"pie\":[{\"automargin\":true,\"type\":\"pie\"}]},\"layout\":{\"autotypenumbers\":\"strict\",\"colorway\":[\"#636efa\",\"#EF553B\",\"#00cc96\",\"#ab63fa\",\"#FFA15A\",\"#19d3f3\",\"#FF6692\",\"#B6E880\",\"#FF97FF\",\"#FECB52\"],\"font\":{\"color\":\"#2a3f5f\"},\"hovermode\":\"closest\",\"hoverlabel\":{\"align\":\"left\"},\"paper_bgcolor\":\"white\",\"plot_bgcolor\":\"#E5ECF6\",\"polar\":{\"bgcolor\":\"#E5ECF6\",\"angularaxis\":{\"gridcolor\":\"white\",\"linecolor\":\"white\",\"ticks\":\"\"},\"radialaxis\":{\"gridcolor\":\"white\",\"linecolor\":\"white\",\"ticks\":\"\"}},\"ternary\":{\"bgcolor\":\"#E5ECF6\",\"aaxis\":{\"gridcolor\":\"white\",\"linecolor\":\"white\",\"ticks\":\"\"},\"baxis\":{\"gridcolor\":\"white\",\"linecolor\":\"white\",\"ticks\":\"\"},\"caxis\":{\"gridcolor\":\"white\",\"linecolor\":\"white\",\"ticks\":\"\"}},\"coloraxis\":{\"colorbar\":{\"outlinewidth\":0,\"ticks\":\"\"}},\"colorscale\":{\"sequential\":[[0.0,\"#0d0887\"],[0.1111111111111111,\"#46039f\"],[0.2222222222222222,\"#7201a8\"],[0.3333333333333333,\"#9c179e\"],[0.4444444444444444,\"#bd3786\"],[0.5555555555555556,\"#d8576b\"],[0.6666666666666666,\"#ed7953\"],[0.7777777777777778,\"#fb9f3a\"],[0.8888888888888888,\"#fdca26\"],[1.0,\"#f0f921\"]],\"sequentialminus\":[[0.0,\"#0d0887\"],[0.1111111111111111,\"#46039f\"],[0.2222222222222222,\"#7201a8\"],[0.3333333333333333,\"#9c179e\"],[0.4444444444444444,\"#bd3786\"],[0.5555555555555556,\"#d8576b\"],[0.6666666666666666,\"#ed7953\"],[0.7777777777777778,\"#fb9f3a\"],[0.8888888888888888,\"#fdca26\"],[1.0,\"#f0f921\"]],\"diverging\":[[0,\"#8e0152\"],[0.1,\"#c51b7d\"],[0.2,\"#de77ae\"],[0.3,\"#f1b6da\"],[0.4,\"#fde0ef\"],[0.5,\"#f7f7f7\"],[0.6,\"#e6f5d0\"],[0.7,\"#b8e186\"],[0.8,\"#7fbc41\"],[0.9,\"#4d9221\"],[1,\"#276419\"]]},\"xaxis\":{\"gridcolor\":\"white\",\"linecolor\":\"white\",\"ticks\":\"\",\"title\":{\"standoff\":15},\"zerolinecolor\":\"white\",\"automargin\":true,\"zerolinewidth\":2},\"yaxis\":{\"gridcolor\":\"white\",\"linecolor\":\"white\",\"ticks\":\"\",\"title\":{\"standoff\":15},\"zerolinecolor\":\"white\",\"automargin\":true,\"zerolinewidth\":2},\"scene\":{\"xaxis\":{\"backgroundcolor\":\"#E5ECF6\",\"gridcolor\":\"white\",\"linecolor\":\"white\",\"showbackground\":true,\"ticks\":\"\",\"zerolinecolor\":\"white\",\"gridwidth\":2},\"yaxis\":{\"backgroundcolor\":\"#E5ECF6\",\"gridcolor\":\"white\",\"linecolor\":\"white\",\"showbackground\":true,\"ticks\":\"\",\"zerolinecolor\":\"white\",\"gridwidth\":2},\"zaxis\":{\"backgroundcolor\":\"#E5ECF6\",\"gridcolor\":\"white\",\"linecolor\":\"white\",\"showbackground\":true,\"ticks\":\"\",\"zerolinecolor\":\"white\",\"gridwidth\":2}},\"shapedefaults\":{\"line\":{\"color\":\"#2a3f5f\"}},\"annotationdefaults\":{\"arrowcolor\":\"#2a3f5f\",\"arrowhead\":0,\"arrowwidth\":1},\"geo\":{\"bgcolor\":\"white\",\"landcolor\":\"#E5ECF6\",\"subunitcolor\":\"white\",\"showland\":true,\"showlakes\":true,\"lakecolor\":\"white\"},\"title\":{\"x\":0.05},\"mapbox\":{\"style\":\"light\"}}},\"title\":{\"text\":\"Attention scores from last position\"},\"xaxis\":{\"title\":{\"text\":\"Target position\"}},\"yaxis\":{\"title\":{\"text\":\"Attention score\"}},\"autosize\":false,\"width\":500,\"height\":300},                        {\"responsive\": true}                    ).then(function(){\n",
              "                            \n",
              "var gd = document.getElementById('28fc66a1-a937-458d-a44b-2795df9b6541');\n",
              "var x = new MutationObserver(function (mutations, observer) {{\n",
              "        var display = window.getComputedStyle(gd).display;\n",
              "        if (!display || display === 'none') {{\n",
              "            console.log([gd, 'removed!']);\n",
              "            Plotly.purge(gd);\n",
              "            observer.disconnect();\n",
              "        }}\n",
              "}});\n",
              "\n",
              "// Listen for the removal of the full notebook cells\n",
              "var notebookContainer = gd.closest('#notebook-container');\n",
              "if (notebookContainer) {{\n",
              "    x.observe(notebookContainer, {childList: true});\n",
              "}}\n",
              "\n",
              "// Listen for the clearing of the current output cell\n",
              "var outputEl = gd.closest('.output');\n",
              "if (outputEl) {{\n",
              "    x.observe(outputEl, {childList: true});\n",
              "}}\n",
              "\n",
              "                        })                };                            </script>        </div>\n",
              "</body>\n",
              "</html>"
            ]
          },
          "metadata": {}
        },
        {
          "output_type": "display_data",
          "data": {
            "text/plain": [
              "<circuitsvis.utils.render.RenderedHTML at 0x7afdd15f3310>"
            ],
            "text/html": [
              "<div id=\"circuits-vis-43985a87-95b4\" style=\"margin: 15px 0;\"/>\n",
              "    <script crossorigin type=\"module\">\n",
              "    import { render, AttentionPatterns } from \"https://unpkg.com/circuitsvis@1.41.0/dist/cdn/esm.js\";\n",
              "    render(\n",
              "      \"circuits-vis-43985a87-95b4\",\n",
              "      AttentionPatterns,\n",
              "      {\"tokens\": [\"31\", \"18\", \"20\", \"21\", \"28\", \"5\", \"13\", \"21\", \"1\", \"8\", \"16\", \"16\", \"8\", \"1\", \"21\", \"13\", \"5\", \"28\", \"21\", \"20\", \"18\", \"32\"], \"attention\": [[[1.0, 0.0, 0.0, 0.0, 0.0, 0.0, 0.0, 0.0, 0.0, 0.0, 0.0, 0.0, 0.0, 0.0, 0.0, 0.0, 0.0, 0.0, 0.0, 0.0, 0.0, 0.0], [0.35957279801368713, 0.6404272317886353, 0.0, 0.0, 0.0, 0.0, 0.0, 0.0, 0.0, 0.0, 0.0, 0.0, 0.0, 0.0, 0.0, 0.0, 0.0, 0.0, 0.0, 0.0, 0.0, 0.0], [0.26525625586509705, 0.44211268424987793, 0.29263103008270264, 0.0, 0.0, 0.0, 0.0, 0.0, 0.0, 0.0, 0.0, 0.0, 0.0, 0.0, 0.0, 0.0, 0.0, 0.0, 0.0, 0.0, 0.0, 0.0], [0.20369133353233337, 0.2927229106426239, 0.3655720055103302, 0.1380137950181961, 0.0, 0.0, 0.0, 0.0, 0.0, 0.0, 0.0, 0.0, 0.0, 0.0, 0.0, 0.0, 0.0, 0.0, 0.0, 0.0, 0.0, 0.0], [0.08208539336919785, 0.3973730802536011, 0.20421339571475983, 0.005473841913044453, 0.3108542263507843, 0.0, 0.0, 0.0, 0.0, 0.0, 0.0, 0.0, 0.0, 0.0, 0.0, 0.0, 0.0, 0.0, 0.0, 0.0, 0.0, 0.0], [0.11309536546468735, 0.25533172488212585, 0.33995911478996277, 0.061844777315855026, 0.1565060317516327, 0.0732630044221878, 0.0, 0.0, 0.0, 0.0, 0.0, 0.0, 0.0, 0.0, 0.0, 0.0, 0.0, 0.0, 0.0, 0.0, 0.0, 0.0], [0.09334887564182281, 0.27162235975265503, 0.3924703598022461, 0.02442859299480915, 0.16569137573242188, 0.026389291509985924, 0.02604917623102665, 0.0, 0.0, 0.0, 0.0, 0.0, 0.0, 0.0, 0.0, 0.0, 0.0, 0.0, 0.0, 0.0, 0.0, 0.0], [0.1226193979382515, 0.24420380592346191, 0.30903202295303345, 0.07238952070474625, 0.14352059364318848, 0.04031072556972504, 0.037286821752786636, 0.030637133866548538, 0.0, 0.0, 0.0, 0.0, 0.0, 0.0, 0.0, 0.0, 0.0, 0.0, 0.0, 0.0, 0.0, 0.0], [0.12782245874404907, 0.19072914123535156, 0.27088212966918945, 0.0697573646903038, 0.101443812251091, 0.08876804262399673, 0.05958741530776024, 0.041614849120378494, 0.049394816160202026, 0.0, 0.0, 0.0, 0.0, 0.0, 0.0, 0.0, 0.0, 0.0, 0.0, 0.0, 0.0, 0.0], [0.10264936834573746, 0.2375941127538681, 0.35643935203552246, 0.029830193147063255, 0.19796033203601837, 0.0260305255651474, 0.021132031455636024, 0.007435864768922329, 0.01438947394490242, 0.0065387641079723835, 0.0, 0.0, 0.0, 0.0, 0.0, 0.0, 0.0, 0.0, 0.0, 0.0, 0.0, 0.0], [0.08590594679117203, 0.14334939420223236, 0.2930043339729309, 0.0896708220243454, 0.15856793522834778, 0.0663377195596695, 0.04644813388586044, 0.03202854469418526, 0.03495536744594574, 0.017360862344503403, 0.03237099200487137, 0.0, 0.0, 0.0, 0.0, 0.0, 0.0, 0.0, 0.0, 0.0, 0.0, 0.0], [0.1255819946527481, 0.149235337972641, 0.18610961735248566, 0.04456254839897156, 0.21165822446346283, 0.029979325830936432, 0.038253962993621826, 0.020044643431901932, 0.025563862174749374, 0.02061578445136547, 0.017930174246430397, 0.130464568734169, 0.0, 0.0, 0.0, 0.0, 0.0, 0.0, 0.0, 0.0, 0.0, 0.0], [0.10920771211385727, 0.21383258700370789, 0.18582983314990997, 0.007101806811988354, 0.24220336973667145, 0.0045499964617192745, 0.008414371870458126, 0.0018214804586023092, 0.003768366761505604, 0.003130426397547126, 0.0009797665989026427, 0.04096757620573044, 0.1781926155090332, 0.0, 0.0, 0.0, 0.0, 0.0, 0.0, 0.0, 0.0, 0.0], [0.12658411264419556, 0.15925677120685577, 0.12804335355758667, 0.02030549943447113, 0.11647733300924301, 0.022050177678465843, 0.027169974520802498, 0.014106545597314835, 0.018949829041957855, 0.018360275775194168, 0.0070793223567306995, 0.04374214634299278, 0.12968523800373077, 0.16818943619728088, 0.0, 0.0, 0.0, 0.0, 0.0, 0.0, 0.0, 0.0], [0.09480451047420502, 0.14921671152114868, 0.13433219492435455, 0.022987866774201393, 0.12438038736581802, 0.009130744263529778, 0.014203011058270931, 0.011178383603692055, 0.010136289522051811, 0.006552373990416527, 0.004465767182409763, 0.05474609509110451, 0.07812068611383438, 0.14717790484428406, 0.13856711983680725, 0.0, 0.0, 0.0, 0.0, 0.0, 0.0, 0.0], [0.06478232890367508, 0.11162815988063812, 0.1564888209104538, 0.013864460401237011, 0.1357700079679489, 0.015986042097210884, 0.01914266124367714, 0.008183346129953861, 0.008233698084950447, 0.0072430893778800964, 0.004007177427411079, 0.03927713632583618, 0.10360363870859146, 0.11955638974905014, 0.08818676322698593, 0.10404624044895172, 0.0, 0.0, 0.0, 0.0, 0.0, 0.0], [0.06962913274765015, 0.1250358372926712, 0.08954084664583206, 0.019836371764540672, 0.11724977195262909, 0.024996934458613396, 0.026101278141140938, 0.013785536400973797, 0.02656969428062439, 0.01650097221136093, 0.010230871848762035, 0.04711833968758583, 0.08238875865936279, 0.11500903964042664, 0.051839228719472885, 0.07904280722141266, 0.08512459695339203, 0.0, 0.0, 0.0, 0.0, 0.0], [0.025966551154851913, 0.10764269530773163, 0.14536595344543457, 0.002606845460832119, 0.14435265958309174, 0.0011573765659704804, 0.002567365299910307, 0.0003497336874715984, 0.0006152823916636407, 0.0002519601839594543, 0.00013620851677842438, 0.012711336836218834, 0.06993971765041351, 0.1087753027677536, 0.05188113823533058, 0.1237877905368805, 0.1934891790151596, 0.008402951061725616, 0.0, 0.0, 0.0, 0.0], [0.04079640656709671, 0.043729718774557114, 0.0583038255572319, 0.02426225133240223, 0.08354870229959488, 0.019949141889810562, 0.020651379600167274, 0.019130628556013107, 0.01417823601514101, 0.011679617688059807, 0.014022799208760262, 0.05842142924666405, 0.0555342473089695, 0.06844742596149445, 0.09577302634716034, 0.05797198414802551, 0.12405494600534439, 0.021004773676395416, 0.16853947937488556, 0.0, 0.0, 0.0], [0.046214647591114044, 0.050410691648721695, 0.0706811472773552, 0.033356841653585434, 0.06846709549427032, 0.034017011523246765, 0.03613375127315521, 0.019075540825724602, 0.030792057514190674, 0.022089868783950806, 0.02145530842244625, 0.05897312983870506, 0.06197572126984596, 0.07636299729347229, 0.044301897287368774, 0.0776897445321083, 0.08693836629390717, 0.027284711599349976, 0.0921417623758316, 0.04163771867752075, 0.0, 0.0], [0.04027573764324188, 0.09394232928752899, 0.07258684933185577, 0.01931922696530819, 0.09346029907464981, 0.017191417515277863, 0.01660805009305477, 0.008053272031247616, 0.017550557851791382, 0.005935492925345898, 0.006502622272819281, 0.03752141818404198, 0.046346817165613174, 0.08277971297502518, 0.04368788003921509, 0.06509876251220703, 0.07693309336900711, 0.019220946356654167, 0.1557343304157257, 0.01778043992817402, 0.0634707510471344, 0.0], [0.020538771525025368, 0.11499663442373276, 0.1377985030412674, 0.00028561611543409526, 0.16868451237678528, 6.748174200765789e-05, 0.00022126868134364486, 2.3250659069162793e-05, 2.886172296712175e-05, 1.7759582988219336e-05, 3.867375198751688e-06, 0.004464368335902691, 0.06185242161154747, 0.0795508399605751, 0.031776078045368195, 0.057608701288700104, 0.1476689875125885, 0.003794959979131818, 0.11712820082902908, 0.0035280317533761263, 0.02277698740363121, 0.027183881029486656]], [[1.0, 0.0, 0.0, 0.0, 0.0, 0.0, 0.0, 0.0, 0.0, 0.0, 0.0, 0.0, 0.0, 0.0, 0.0, 0.0, 0.0, 0.0, 0.0, 0.0, 0.0, 0.0], [0.589292585849762, 0.41070738434791565, 0.0, 0.0, 0.0, 0.0, 0.0, 0.0, 0.0, 0.0, 0.0, 0.0, 0.0, 0.0, 0.0, 0.0, 0.0, 0.0, 0.0, 0.0, 0.0, 0.0], [0.33687710762023926, 0.3184894323348999, 0.34463343024253845, 0.0, 0.0, 0.0, 0.0, 0.0, 0.0, 0.0, 0.0, 0.0, 0.0, 0.0, 0.0, 0.0, 0.0, 0.0, 0.0, 0.0, 0.0, 0.0], [0.3098756670951843, 0.23565919697284698, 0.21744336187839508, 0.23702175915241241, 0.0, 0.0, 0.0, 0.0, 0.0, 0.0, 0.0, 0.0, 0.0, 0.0, 0.0, 0.0, 0.0, 0.0, 0.0, 0.0, 0.0, 0.0], [0.22562508285045624, 0.2176411896944046, 0.10641613602638245, 0.2901538610458374, 0.1601637452840805, 0.0, 0.0, 0.0, 0.0, 0.0, 0.0, 0.0, 0.0, 0.0, 0.0, 0.0, 0.0, 0.0, 0.0, 0.0, 0.0, 0.0], [0.14672869443893433, 0.16226127743721008, 0.1524534523487091, 0.1604975014925003, 0.16496771574020386, 0.21309135854244232, 0.0, 0.0, 0.0, 0.0, 0.0, 0.0, 0.0, 0.0, 0.0, 0.0, 0.0, 0.0, 0.0, 0.0, 0.0, 0.0], [0.11168425530195236, 0.14783425629138947, 0.1111491397023201, 0.1913650631904602, 0.05596572533249855, 0.2874053418636322, 0.09459616988897324, 0.0, 0.0, 0.0, 0.0, 0.0, 0.0, 0.0, 0.0, 0.0, 0.0, 0.0, 0.0, 0.0, 0.0, 0.0], [0.15511038899421692, 0.11695098876953125, 0.09983290731906891, 0.09980491548776627, 0.10784135013818741, 0.17464536428451538, 0.0823165699839592, 0.16349755227565765, 0.0, 0.0, 0.0, 0.0, 0.0, 0.0, 0.0, 0.0, 0.0, 0.0, 0.0, 0.0, 0.0, 0.0], [0.10350856184959412, 0.10300485789775848, 0.08769470453262329, 0.08393371850252151, 0.10736245661973953, 0.14680753648281097, 0.11537119746208191, 0.08712463080883026, 0.16519233584403992, 0.0, 0.0, 0.0, 0.0, 0.0, 0.0, 0.0, 0.0, 0.0, 0.0, 0.0, 0.0, 0.0], [0.06577223539352417, 0.06046828255057335, 0.04352198913693428, 0.04123048111796379, 0.11380452662706375, 0.17791208624839783, 0.09408830106258392, 0.08414524048566818, 0.14601238071918488, 0.17304447293281555, 0.0, 0.0, 0.0, 0.0, 0.0, 0.0, 0.0, 0.0, 0.0, 0.0, 0.0, 0.0], [0.08696509152650833, 0.08785669505596161, 0.05030279606580734, 0.05215851962566376, 0.08251044899225235, 0.1422557234764099, 0.05897635594010353, 0.11501698195934296, 0.10088956356048584, 0.12467776238918304, 0.09839002043008804, 0.0, 0.0, 0.0, 0.0, 0.0, 0.0, 0.0, 0.0, 0.0, 0.0, 0.0], [0.07947811484336853, 0.09290171414613724, 0.04535138979554176, 0.055048372596502304, 0.07327210903167725, 0.12138133496046066, 0.05228963866829872, 0.12211476266384125, 0.10015814006328583, 0.10712596029043198, 0.10046301037073135, 0.050415486097335815, 0.0, 0.0, 0.0, 0.0, 0.0, 0.0, 0.0, 0.0, 0.0, 0.0], [0.03763784468173981, 0.04582560062408447, 0.028863072395324707, 0.04681931436061859, 0.06197330355644226, 0.1683196723461151, 0.0640362948179245, 0.0764048770070076, 0.09699827432632446, 0.1442243903875351, 0.1313547044992447, 0.03583277761936188, 0.06170985475182533, 0.0, 0.0, 0.0, 0.0, 0.0, 0.0, 0.0, 0.0, 0.0], [0.05357060581445694, 0.06731351464986801, 0.0544217973947525, 0.06891955435276031, 0.06044892594218254, 0.09852909296751022, 0.07584681361913681, 0.06097078695893288, 0.09952691197395325, 0.08548282831907272, 0.07805289328098297, 0.05049842596054077, 0.07275564968585968, 0.07366219162940979, 0.0, 0.0, 0.0, 0.0, 0.0, 0.0, 0.0, 0.0], [0.07248049229383469, 0.0707734003663063, 0.05744275078177452, 0.08865915238857269, 0.040695670992136, 0.1079690232872963, 0.03806275129318237, 0.11866326630115509, 0.05393374711275101, 0.07562880218029022, 0.09224666655063629, 0.041996683925390244, 0.03481420502066612, 0.029092319309711456, 0.0775410532951355, 0.0, 0.0, 0.0, 0.0, 0.0, 0.0, 0.0], [0.04969995096325874, 0.08743555843830109, 0.06727109104394913, 0.12831255793571472, 0.026857415214180946, 0.13643097877502441, 0.05255495011806488, 0.08364647626876831, 0.053793422877788544, 0.06787696480751038, 0.0943969264626503, 0.030378468334674835, 0.04108903929591179, 0.01904011145234108, 0.036704085767269135, 0.024512015283107758, 0.0, 0.0, 0.0, 0.0, 0.0, 0.0], [0.04773721471428871, 0.07098240405321121, 0.07287635654211044, 0.07540911436080933, 0.07278057932853699, 0.07173173874616623, 0.058677200227975845, 0.06670157611370087, 0.036703433841466904, 0.04585827887058258, 0.07991371303796768, 0.06065980717539787, 0.03599538654088974, 0.02785896137356758, 0.05809877812862396, 0.05132923275232315, 0.06668625771999359, 0.0, 0.0, 0.0, 0.0, 0.0], [0.03507065400481224, 0.0339282788336277, 0.013097332790493965, 0.035836588591337204, 0.020162591710686684, 0.1583448350429535, 0.030718965455889702, 0.10239283740520477, 0.0950767770409584, 0.1447838693857193, 0.13078416883945465, 0.016181744635105133, 0.03756651282310486, 0.025810735300183296, 0.04954380914568901, 0.012106344103813171, 0.04488751292228699, 0.01370636373758316, 0.0, 0.0, 0.0, 0.0], [0.05588201805949211, 0.06354140490293503, 0.052289318293333054, 0.08741637319326401, 0.0410306416451931, 0.07887531071901321, 0.035376932471990585, 0.10265043377876282, 0.03523549437522888, 0.055134739726781845, 0.09126351028680801, 0.045731641352176666, 0.025639595463871956, 0.017924103885889053, 0.06015970930457115, 0.01918223313987255, 0.04171651229262352, 0.03904874250292778, 0.05190127342939377, 0.0, 0.0, 0.0], [0.053748179227113724, 0.06377993524074554, 0.06506149470806122, 0.050039757043123245, 0.06665951013565063, 0.04037359729409218, 0.042896464467048645, 0.057653527706861496, 0.028319692239165306, 0.03197236731648445, 0.04820755124092102, 0.05834062024950981, 0.035318996757268906, 0.0321914441883564, 0.08267702162265778, 0.04352357238531113, 0.05341203510761261, 0.049685124307870865, 0.052767690271139145, 0.04337140917778015, 0.0, 0.0], [0.04506812244653702, 0.05105224624276161, 0.04681750014424324, 0.0522041879594326, 0.04950929060578346, 0.060358982533216476, 0.03367065265774727, 0.0688774585723877, 0.028229864314198494, 0.04470498859882355, 0.0614183247089386, 0.04397325590252876, 0.02860456518828869, 0.019416838884353638, 0.055126383900642395, 0.023449670523405075, 0.04762405902147293, 0.040920767933130264, 0.041715849190950394, 0.04786419868469238, 0.10939273983240128, 0.0], [0.009784812107682228, 0.012314989231526852, 0.0034783475566655397, 0.02993965893983841, 0.004993901122361422, 0.19713835418224335, 0.011595976538956165, 0.06533943861722946, 0.04747305065393448, 0.13848692178726196, 0.13508136570453644, 0.003749161958694458, 0.013597036711871624, 0.0030472942162305117, 0.0069990865886211395, 0.0016994480974972248, 0.014081539586186409, 0.005362269002944231, 0.013305535539984703, 0.010279080830514431, 0.2525201141834259, 0.01973259449005127]]]}\n",
              "    )\n",
              "    </script>"
            ]
          },
          "metadata": {}
        },
        {
          "output_type": "stream",
          "name": "stdout",
          "text": [
            "Palindrome\n"
          ]
        },
        {
          "output_type": "display_data",
          "data": {
            "text/plain": [
              "START |\u001b[1;37m16\u001b[0m|\u001b[1;37m04\u001b[0m|\u001b[1;37m29\u001b[0m|\u001b[1;37m08\u001b[0m|\u001b[1;37m10\u001b[0m|\u001b[1;37m27\u001b[0m|\u001b[1;37m24\u001b[0m|\u001b[1;37m07\u001b[0m|\u001b[1;37m18\u001b[0m|\u001b[1;37m05\u001b[0m|\u001b[1;37m05\u001b[0m|\u001b[1;37m18\u001b[0m|\u001b[1;37m07\u001b[0m|\u001b[1;37m24\u001b[0m|\u001b[1;37m27\u001b[0m|\u001b[1;37m10\u001b[0m|\u001b[1;37m08\u001b[0m|\u001b[1;37m29\u001b[0m|\u001b[1;37m04\u001b[0m|\u001b[1;37m16\u001b[0m| END  ->  \u001b[1;36m-1.000\u001b[0m\n"
            ],
            "text/html": [
              "<pre style=\"white-space:pre;overflow-x:auto;line-height:normal;font-family:Menlo,'DejaVu Sans Mono',consolas,'Courier New',monospace\">START |<span style=\"color: #c0c0c0; text-decoration-color: #c0c0c0; font-weight: bold\">16</span>|<span style=\"color: #c0c0c0; text-decoration-color: #c0c0c0; font-weight: bold\">04</span>|<span style=\"color: #c0c0c0; text-decoration-color: #c0c0c0; font-weight: bold\">29</span>|<span style=\"color: #c0c0c0; text-decoration-color: #c0c0c0; font-weight: bold\">08</span>|<span style=\"color: #c0c0c0; text-decoration-color: #c0c0c0; font-weight: bold\">10</span>|<span style=\"color: #c0c0c0; text-decoration-color: #c0c0c0; font-weight: bold\">27</span>|<span style=\"color: #c0c0c0; text-decoration-color: #c0c0c0; font-weight: bold\">24</span>|<span style=\"color: #c0c0c0; text-decoration-color: #c0c0c0; font-weight: bold\">07</span>|<span style=\"color: #c0c0c0; text-decoration-color: #c0c0c0; font-weight: bold\">18</span>|<span style=\"color: #c0c0c0; text-decoration-color: #c0c0c0; font-weight: bold\">05</span>|<span style=\"color: #c0c0c0; text-decoration-color: #c0c0c0; font-weight: bold\">05</span>|<span style=\"color: #c0c0c0; text-decoration-color: #c0c0c0; font-weight: bold\">18</span>|<span style=\"color: #c0c0c0; text-decoration-color: #c0c0c0; font-weight: bold\">07</span>|<span style=\"color: #c0c0c0; text-decoration-color: #c0c0c0; font-weight: bold\">24</span>|<span style=\"color: #c0c0c0; text-decoration-color: #c0c0c0; font-weight: bold\">27</span>|<span style=\"color: #c0c0c0; text-decoration-color: #c0c0c0; font-weight: bold\">10</span>|<span style=\"color: #c0c0c0; text-decoration-color: #c0c0c0; font-weight: bold\">08</span>|<span style=\"color: #c0c0c0; text-decoration-color: #c0c0c0; font-weight: bold\">29</span>|<span style=\"color: #c0c0c0; text-decoration-color: #c0c0c0; font-weight: bold\">04</span>|<span style=\"color: #c0c0c0; text-decoration-color: #c0c0c0; font-weight: bold\">16</span>| END  -&gt;  <span style=\"color: #008080; text-decoration-color: #008080; font-weight: bold\">-1.000</span>\n",
              "</pre>\n"
            ]
          },
          "metadata": {}
        },
        {
          "output_type": "display_data",
          "data": {
            "text/html": [
              "<html>\n",
              "<head><meta charset=\"utf-8\" /></head>\n",
              "<body>\n",
              "    <div>            <script src=\"https://cdnjs.cloudflare.com/ajax/libs/mathjax/2.7.5/MathJax.js?config=TeX-AMS-MML_SVG\"></script><script type=\"text/javascript\">if (window.MathJax && window.MathJax.Hub && window.MathJax.Hub.Config) {window.MathJax.Hub.Config({SVG: {font: \"STIX-Web\"}});}</script>                <script type=\"text/javascript\">window.PlotlyConfig = {MathJaxConfig: 'local'};</script>\n",
              "        <script charset=\"utf-8\" src=\"https://cdn.plot.ly/plotly-2.24.1.min.js\"></script>                <div id=\"5a3dc13f-138a-4934-a760-3d8a373346e0\" class=\"plotly-graph-div\" style=\"height:300px; width:500px;\"></div>            <script type=\"text/javascript\">                                    window.PLOTLYENV=window.PLOTLYENV || {};                                    if (document.getElementById(\"5a3dc13f-138a-4934-a760-3d8a373346e0\")) {                    Plotly.newPlot(                        \"5a3dc13f-138a-4934-a760-3d8a373346e0\",                        [{\"x\":[\"(0) 31\",\"(1) 16\",\"(2) 4\",\"(3) 29\",\"(4) 8\",\"(5) 10\",\"(6) 27\",\"(7) 24\",\"(8) 7\",\"(9) 18\",\"(10) 5\",\"(11) 5\",\"(12) 18\",\"(13) 7\",\"(14) 24\",\"(15) 27\",\"(16) 10\",\"(17) 8\",\"(18) 29\",\"(19) 4\",\"(20) 16\",\"(21) 32\"],\"y\":[0.023259112611413002,0.04394069314002991,0.03119056485593319,0.00044586745207197964,0.19354473054409027,0.0002474857319612056,0.00046972872223705053,0.0002408805157756433,0.0005150475772097707,0.0009867071639746428,8.287769014714286e-05,0.09097850322723389,0.1458722949028015,0.12097825109958649,0.13714353740215302,0.017517847940325737,0.061589449644088745,0.03808864951133728,0.06308057904243469,0.0033547452185302973,0.011516212485730648,0.014956287108361721],\"type\":\"bar\"}],                        {\"template\":{\"data\":{\"histogram2dcontour\":[{\"type\":\"histogram2dcontour\",\"colorbar\":{\"outlinewidth\":0,\"ticks\":\"\"},\"colorscale\":[[0.0,\"#0d0887\"],[0.1111111111111111,\"#46039f\"],[0.2222222222222222,\"#7201a8\"],[0.3333333333333333,\"#9c179e\"],[0.4444444444444444,\"#bd3786\"],[0.5555555555555556,\"#d8576b\"],[0.6666666666666666,\"#ed7953\"],[0.7777777777777778,\"#fb9f3a\"],[0.8888888888888888,\"#fdca26\"],[1.0,\"#f0f921\"]]}],\"choropleth\":[{\"type\":\"choropleth\",\"colorbar\":{\"outlinewidth\":0,\"ticks\":\"\"}}],\"histogram2d\":[{\"type\":\"histogram2d\",\"colorbar\":{\"outlinewidth\":0,\"ticks\":\"\"},\"colorscale\":[[0.0,\"#0d0887\"],[0.1111111111111111,\"#46039f\"],[0.2222222222222222,\"#7201a8\"],[0.3333333333333333,\"#9c179e\"],[0.4444444444444444,\"#bd3786\"],[0.5555555555555556,\"#d8576b\"],[0.6666666666666666,\"#ed7953\"],[0.7777777777777778,\"#fb9f3a\"],[0.8888888888888888,\"#fdca26\"],[1.0,\"#f0f921\"]]}],\"heatmap\":[{\"type\":\"heatmap\",\"colorbar\":{\"outlinewidth\":0,\"ticks\":\"\"},\"colorscale\":[[0.0,\"#0d0887\"],[0.1111111111111111,\"#46039f\"],[0.2222222222222222,\"#7201a8\"],[0.3333333333333333,\"#9c179e\"],[0.4444444444444444,\"#bd3786\"],[0.5555555555555556,\"#d8576b\"],[0.6666666666666666,\"#ed7953\"],[0.7777777777777778,\"#fb9f3a\"],[0.8888888888888888,\"#fdca26\"],[1.0,\"#f0f921\"]]}],\"heatmapgl\":[{\"type\":\"heatmapgl\",\"colorbar\":{\"outlinewidth\":0,\"ticks\":\"\"},\"colorscale\":[[0.0,\"#0d0887\"],[0.1111111111111111,\"#46039f\"],[0.2222222222222222,\"#7201a8\"],[0.3333333333333333,\"#9c179e\"],[0.4444444444444444,\"#bd3786\"],[0.5555555555555556,\"#d8576b\"],[0.6666666666666666,\"#ed7953\"],[0.7777777777777778,\"#fb9f3a\"],[0.8888888888888888,\"#fdca26\"],[1.0,\"#f0f921\"]]}],\"contourcarpet\":[{\"type\":\"contourcarpet\",\"colorbar\":{\"outlinewidth\":0,\"ticks\":\"\"}}],\"contour\":[{\"type\":\"contour\",\"colorbar\":{\"outlinewidth\":0,\"ticks\":\"\"},\"colorscale\":[[0.0,\"#0d0887\"],[0.1111111111111111,\"#46039f\"],[0.2222222222222222,\"#7201a8\"],[0.3333333333333333,\"#9c179e\"],[0.4444444444444444,\"#bd3786\"],[0.5555555555555556,\"#d8576b\"],[0.6666666666666666,\"#ed7953\"],[0.7777777777777778,\"#fb9f3a\"],[0.8888888888888888,\"#fdca26\"],[1.0,\"#f0f921\"]]}],\"surface\":[{\"type\":\"surface\",\"colorbar\":{\"outlinewidth\":0,\"ticks\":\"\"},\"colorscale\":[[0.0,\"#0d0887\"],[0.1111111111111111,\"#46039f\"],[0.2222222222222222,\"#7201a8\"],[0.3333333333333333,\"#9c179e\"],[0.4444444444444444,\"#bd3786\"],[0.5555555555555556,\"#d8576b\"],[0.6666666666666666,\"#ed7953\"],[0.7777777777777778,\"#fb9f3a\"],[0.8888888888888888,\"#fdca26\"],[1.0,\"#f0f921\"]]}],\"mesh3d\":[{\"type\":\"mesh3d\",\"colorbar\":{\"outlinewidth\":0,\"ticks\":\"\"}}],\"scatter\":[{\"fillpattern\":{\"fillmode\":\"overlay\",\"size\":10,\"solidity\":0.2},\"type\":\"scatter\"}],\"parcoords\":[{\"type\":\"parcoords\",\"line\":{\"colorbar\":{\"outlinewidth\":0,\"ticks\":\"\"}}}],\"scatterpolargl\":[{\"type\":\"scatterpolargl\",\"marker\":{\"colorbar\":{\"outlinewidth\":0,\"ticks\":\"\"}}}],\"bar\":[{\"error_x\":{\"color\":\"#2a3f5f\"},\"error_y\":{\"color\":\"#2a3f5f\"},\"marker\":{\"line\":{\"color\":\"#E5ECF6\",\"width\":0.5},\"pattern\":{\"fillmode\":\"overlay\",\"size\":10,\"solidity\":0.2}},\"type\":\"bar\"}],\"scattergeo\":[{\"type\":\"scattergeo\",\"marker\":{\"colorbar\":{\"outlinewidth\":0,\"ticks\":\"\"}}}],\"scatterpolar\":[{\"type\":\"scatterpolar\",\"marker\":{\"colorbar\":{\"outlinewidth\":0,\"ticks\":\"\"}}}],\"histogram\":[{\"marker\":{\"pattern\":{\"fillmode\":\"overlay\",\"size\":10,\"solidity\":0.2}},\"type\":\"histogram\"}],\"scattergl\":[{\"type\":\"scattergl\",\"marker\":{\"colorbar\":{\"outlinewidth\":0,\"ticks\":\"\"}}}],\"scatter3d\":[{\"type\":\"scatter3d\",\"line\":{\"colorbar\":{\"outlinewidth\":0,\"ticks\":\"\"}},\"marker\":{\"colorbar\":{\"outlinewidth\":0,\"ticks\":\"\"}}}],\"scattermapbox\":[{\"type\":\"scattermapbox\",\"marker\":{\"colorbar\":{\"outlinewidth\":0,\"ticks\":\"\"}}}],\"scatterternary\":[{\"type\":\"scatterternary\",\"marker\":{\"colorbar\":{\"outlinewidth\":0,\"ticks\":\"\"}}}],\"scattercarpet\":[{\"type\":\"scattercarpet\",\"marker\":{\"colorbar\":{\"outlinewidth\":0,\"ticks\":\"\"}}}],\"carpet\":[{\"aaxis\":{\"endlinecolor\":\"#2a3f5f\",\"gridcolor\":\"white\",\"linecolor\":\"white\",\"minorgridcolor\":\"white\",\"startlinecolor\":\"#2a3f5f\"},\"baxis\":{\"endlinecolor\":\"#2a3f5f\",\"gridcolor\":\"white\",\"linecolor\":\"white\",\"minorgridcolor\":\"white\",\"startlinecolor\":\"#2a3f5f\"},\"type\":\"carpet\"}],\"table\":[{\"cells\":{\"fill\":{\"color\":\"#EBF0F8\"},\"line\":{\"color\":\"white\"}},\"header\":{\"fill\":{\"color\":\"#C8D4E3\"},\"line\":{\"color\":\"white\"}},\"type\":\"table\"}],\"barpolar\":[{\"marker\":{\"line\":{\"color\":\"#E5ECF6\",\"width\":0.5},\"pattern\":{\"fillmode\":\"overlay\",\"size\":10,\"solidity\":0.2}},\"type\":\"barpolar\"}],\"pie\":[{\"automargin\":true,\"type\":\"pie\"}]},\"layout\":{\"autotypenumbers\":\"strict\",\"colorway\":[\"#636efa\",\"#EF553B\",\"#00cc96\",\"#ab63fa\",\"#FFA15A\",\"#19d3f3\",\"#FF6692\",\"#B6E880\",\"#FF97FF\",\"#FECB52\"],\"font\":{\"color\":\"#2a3f5f\"},\"hovermode\":\"closest\",\"hoverlabel\":{\"align\":\"left\"},\"paper_bgcolor\":\"white\",\"plot_bgcolor\":\"#E5ECF6\",\"polar\":{\"bgcolor\":\"#E5ECF6\",\"angularaxis\":{\"gridcolor\":\"white\",\"linecolor\":\"white\",\"ticks\":\"\"},\"radialaxis\":{\"gridcolor\":\"white\",\"linecolor\":\"white\",\"ticks\":\"\"}},\"ternary\":{\"bgcolor\":\"#E5ECF6\",\"aaxis\":{\"gridcolor\":\"white\",\"linecolor\":\"white\",\"ticks\":\"\"},\"baxis\":{\"gridcolor\":\"white\",\"linecolor\":\"white\",\"ticks\":\"\"},\"caxis\":{\"gridcolor\":\"white\",\"linecolor\":\"white\",\"ticks\":\"\"}},\"coloraxis\":{\"colorbar\":{\"outlinewidth\":0,\"ticks\":\"\"}},\"colorscale\":{\"sequential\":[[0.0,\"#0d0887\"],[0.1111111111111111,\"#46039f\"],[0.2222222222222222,\"#7201a8\"],[0.3333333333333333,\"#9c179e\"],[0.4444444444444444,\"#bd3786\"],[0.5555555555555556,\"#d8576b\"],[0.6666666666666666,\"#ed7953\"],[0.7777777777777778,\"#fb9f3a\"],[0.8888888888888888,\"#fdca26\"],[1.0,\"#f0f921\"]],\"sequentialminus\":[[0.0,\"#0d0887\"],[0.1111111111111111,\"#46039f\"],[0.2222222222222222,\"#7201a8\"],[0.3333333333333333,\"#9c179e\"],[0.4444444444444444,\"#bd3786\"],[0.5555555555555556,\"#d8576b\"],[0.6666666666666666,\"#ed7953\"],[0.7777777777777778,\"#fb9f3a\"],[0.8888888888888888,\"#fdca26\"],[1.0,\"#f0f921\"]],\"diverging\":[[0,\"#8e0152\"],[0.1,\"#c51b7d\"],[0.2,\"#de77ae\"],[0.3,\"#f1b6da\"],[0.4,\"#fde0ef\"],[0.5,\"#f7f7f7\"],[0.6,\"#e6f5d0\"],[0.7,\"#b8e186\"],[0.8,\"#7fbc41\"],[0.9,\"#4d9221\"],[1,\"#276419\"]]},\"xaxis\":{\"gridcolor\":\"white\",\"linecolor\":\"white\",\"ticks\":\"\",\"title\":{\"standoff\":15},\"zerolinecolor\":\"white\",\"automargin\":true,\"zerolinewidth\":2},\"yaxis\":{\"gridcolor\":\"white\",\"linecolor\":\"white\",\"ticks\":\"\",\"title\":{\"standoff\":15},\"zerolinecolor\":\"white\",\"automargin\":true,\"zerolinewidth\":2},\"scene\":{\"xaxis\":{\"backgroundcolor\":\"#E5ECF6\",\"gridcolor\":\"white\",\"linecolor\":\"white\",\"showbackground\":true,\"ticks\":\"\",\"zerolinecolor\":\"white\",\"gridwidth\":2},\"yaxis\":{\"backgroundcolor\":\"#E5ECF6\",\"gridcolor\":\"white\",\"linecolor\":\"white\",\"showbackground\":true,\"ticks\":\"\",\"zerolinecolor\":\"white\",\"gridwidth\":2},\"zaxis\":{\"backgroundcolor\":\"#E5ECF6\",\"gridcolor\":\"white\",\"linecolor\":\"white\",\"showbackground\":true,\"ticks\":\"\",\"zerolinecolor\":\"white\",\"gridwidth\":2}},\"shapedefaults\":{\"line\":{\"color\":\"#2a3f5f\"}},\"annotationdefaults\":{\"arrowcolor\":\"#2a3f5f\",\"arrowhead\":0,\"arrowwidth\":1},\"geo\":{\"bgcolor\":\"white\",\"landcolor\":\"#E5ECF6\",\"subunitcolor\":\"white\",\"showland\":true,\"showlakes\":true,\"lakecolor\":\"white\"},\"title\":{\"x\":0.05},\"mapbox\":{\"style\":\"light\"}}},\"title\":{\"text\":\"Attention scores from last position\"},\"xaxis\":{\"title\":{\"text\":\"Target position\"}},\"yaxis\":{\"title\":{\"text\":\"Attention score\"}},\"autosize\":false,\"width\":500,\"height\":300},                        {\"responsive\": true}                    ).then(function(){\n",
              "                            \n",
              "var gd = document.getElementById('5a3dc13f-138a-4934-a760-3d8a373346e0');\n",
              "var x = new MutationObserver(function (mutations, observer) {{\n",
              "        var display = window.getComputedStyle(gd).display;\n",
              "        if (!display || display === 'none') {{\n",
              "            console.log([gd, 'removed!']);\n",
              "            Plotly.purge(gd);\n",
              "            observer.disconnect();\n",
              "        }}\n",
              "}});\n",
              "\n",
              "// Listen for the removal of the full notebook cells\n",
              "var notebookContainer = gd.closest('#notebook-container');\n",
              "if (notebookContainer) {{\n",
              "    x.observe(notebookContainer, {childList: true});\n",
              "}}\n",
              "\n",
              "// Listen for the clearing of the current output cell\n",
              "var outputEl = gd.closest('.output');\n",
              "if (outputEl) {{\n",
              "    x.observe(outputEl, {childList: true});\n",
              "}}\n",
              "\n",
              "                        })                };                            </script>        </div>\n",
              "</body>\n",
              "</html>"
            ]
          },
          "metadata": {}
        },
        {
          "output_type": "display_data",
          "data": {
            "text/plain": [
              "<circuitsvis.utils.render.RenderedHTML at 0x7afdd15f3190>"
            ],
            "text/html": [
              "<div id=\"circuits-vis-d34cf162-0405\" style=\"margin: 15px 0;\"/>\n",
              "    <script crossorigin type=\"module\">\n",
              "    import { render, AttentionPatterns } from \"https://unpkg.com/circuitsvis@1.41.0/dist/cdn/esm.js\";\n",
              "    render(\n",
              "      \"circuits-vis-d34cf162-0405\",\n",
              "      AttentionPatterns,\n",
              "      {\"tokens\": [\"31\", \"16\", \"4\", \"29\", \"8\", \"10\", \"27\", \"24\", \"7\", \"18\", \"5\", \"5\", \"18\", \"7\", \"24\", \"27\", \"10\", \"8\", \"29\", \"4\", \"16\", \"32\"], \"attention\": [[[1.0, 0.0, 0.0, 0.0, 0.0, 0.0, 0.0, 0.0, 0.0, 0.0, 0.0, 0.0, 0.0, 0.0, 0.0, 0.0, 0.0, 0.0, 0.0, 0.0, 0.0, 0.0], [0.6442010402679443, 0.35579895973205566, 0.0, 0.0, 0.0, 0.0, 0.0, 0.0, 0.0, 0.0, 0.0, 0.0, 0.0, 0.0, 0.0, 0.0, 0.0, 0.0, 0.0, 0.0, 0.0, 0.0], [0.2289694994688034, 0.47867128252983093, 0.29235923290252686, 0.0, 0.0, 0.0, 0.0, 0.0, 0.0, 0.0, 0.0, 0.0, 0.0, 0.0, 0.0, 0.0, 0.0, 0.0, 0.0, 0.0, 0.0, 0.0], [0.23818644881248474, 0.34116753935813904, 0.2878815829753876, 0.13276441395282745, 0.0, 0.0, 0.0, 0.0, 0.0, 0.0, 0.0, 0.0, 0.0, 0.0, 0.0, 0.0, 0.0, 0.0, 0.0, 0.0, 0.0, 0.0], [0.18914785981178284, 0.3071324825286865, 0.1423858106136322, 0.01079852506518364, 0.3505353033542633, 0.0, 0.0, 0.0, 0.0, 0.0, 0.0, 0.0, 0.0, 0.0, 0.0, 0.0, 0.0, 0.0, 0.0, 0.0, 0.0, 0.0], [0.13777433335781097, 0.3424287736415863, 0.1898013800382614, 0.06439485400915146, 0.23921984434127808, 0.02638087049126625, 0.0, 0.0, 0.0, 0.0, 0.0, 0.0, 0.0, 0.0, 0.0, 0.0, 0.0, 0.0, 0.0, 0.0, 0.0, 0.0], [0.12396879494190216, 0.445529580116272, 0.1768304705619812, 0.06793305277824402, 0.11395183205604553, 0.03350188583135605, 0.03828434646129608, 0.0, 0.0, 0.0, 0.0, 0.0, 0.0, 0.0, 0.0, 0.0, 0.0, 0.0, 0.0, 0.0, 0.0, 0.0], [0.18160146474838257, 0.18345321714878082, 0.10436620563268661, 0.0948811024427414, 0.18244093656539917, 0.08513180166482925, 0.08178532868623734, 0.08633995056152344, 0.0, 0.0, 0.0, 0.0, 0.0, 0.0, 0.0, 0.0, 0.0, 0.0, 0.0, 0.0, 0.0, 0.0], [0.12569084763526917, 0.21401479840278625, 0.14674077928066254, 0.0899326279759407, 0.16371586918830872, 0.0641244575381279, 0.062448274344205856, 0.05368756130337715, 0.0796448364853859, 0.0, 0.0, 0.0, 0.0, 0.0, 0.0, 0.0, 0.0, 0.0, 0.0, 0.0, 0.0, 0.0], [0.12729421257972717, 0.2389012724161148, 0.1785888969898224, 0.029997598379850388, 0.28840768337249756, 0.02242121659219265, 0.02674967050552368, 0.016808830201625824, 0.03874728083610535, 0.03208332881331444, 0.0, 0.0, 0.0, 0.0, 0.0, 0.0, 0.0, 0.0, 0.0, 0.0, 0.0, 0.0], [0.10067421197891235, 0.4123978614807129, 0.1788211315870285, 0.04494350776076317, 0.11930174380540848, 0.033273521810770035, 0.02730599418282509, 0.02157384715974331, 0.026726819574832916, 0.020968656986951828, 0.014012609608471394, 0.0, 0.0, 0.0, 0.0, 0.0, 0.0, 0.0, 0.0, 0.0, 0.0, 0.0], [0.13076898455619812, 0.1976720243692398, 0.10601641237735748, 0.03470733389258385, 0.19482432305812836, 0.030884619802236557, 0.03963751345872879, 0.029967045411467552, 0.035270899534225464, 0.038529329001903534, 0.023659097030758858, 0.1380625069141388, 0.0, 0.0, 0.0, 0.0, 0.0, 0.0, 0.0, 0.0, 0.0, 0.0], [0.07794325798749924, 0.06896299123764038, 0.06840483099222183, 0.012997392565011978, 0.2179211676120758, 0.011716402135789394, 0.01713874377310276, 0.00911322608590126, 0.02809474803507328, 0.028405161574482918, 0.006767017766833305, 0.1625562608242035, 0.2899788022041321, 0.0, 0.0, 0.0, 0.0, 0.0, 0.0, 0.0, 0.0, 0.0], [0.08065479248762131, 0.0735631063580513, 0.04366886243224144, 0.01698954589664936, 0.20380675792694092, 0.013088221661746502, 0.016453595831990242, 0.01529666967689991, 0.021700909361243248, 0.024561002850532532, 0.008639534004032612, 0.1509554386138916, 0.17542557418346405, 0.15519587695598602, 0.0, 0.0, 0.0, 0.0, 0.0, 0.0, 0.0, 0.0], [0.07790761440992355, 0.03330329433083534, 0.01673893816769123, 0.016030235216021538, 0.1386466920375824, 0.016793936491012573, 0.02249644137918949, 0.026688117533922195, 0.028302164748311043, 0.032832589000463486, 0.012836870737373829, 0.11222033202648163, 0.14079079031944275, 0.13973379135131836, 0.18467825651168823, 0.0, 0.0, 0.0, 0.0, 0.0, 0.0, 0.0], [0.07512341439723969, 0.11513176560401917, 0.05055895075201988, 0.03143561631441116, 0.14186806976795197, 0.020204933360219002, 0.02021675743162632, 0.0292911846190691, 0.013418355025351048, 0.0168941430747509, 0.01753886789083481, 0.1546499878168106, 0.06148473918437958, 0.06089121475815773, 0.15607595443725586, 0.035216059535741806, 0.0, 0.0, 0.0, 0.0, 0.0, 0.0], [0.0611836314201355, 0.11281141638755798, 0.02918085642158985, 0.004640459083020687, 0.2691594362258911, 0.002548272255808115, 0.00238555739633739, 0.003424865659326315, 0.0021633331198245287, 0.004401913844048977, 0.0012340751709416509, 0.10051293671131134, 0.09726250171661377, 0.058620765805244446, 0.15341612696647644, 0.01805177889764309, 0.07900205999612808, 0.0, 0.0, 0.0, 0.0, 0.0], [0.03713240846991539, 0.05991554632782936, 0.021044624969363213, 0.000641972990706563, 0.2825483977794647, 0.0003974004357587546, 0.00047455987078137696, 0.00026180033455602825, 0.0003676299238577485, 0.000747128389775753, 0.0001081011287169531, 0.1322586089372635, 0.09582371264696121, 0.07341586798429489, 0.11832980811595917, 0.011285371147096157, 0.08195999264717102, 0.08328704535961151, 0.0, 0.0, 0.0, 0.0], [0.04104655608534813, 0.025102956220507622, 0.026877135038375854, 0.02955443412065506, 0.04636750370264053, 0.039900727570056915, 0.06510985642671585, 0.044908687472343445, 0.027825316414237022, 0.03620835766196251, 0.07400715351104736, 0.07900155335664749, 0.031185533851385117, 0.04159796983003616, 0.06609359383583069, 0.05884465202689171, 0.09080211818218231, 0.11552779376506805, 0.06003812700510025, 0.0, 0.0, 0.0], [0.044757433235645294, 0.07562708854675293, 0.08414305746555328, 0.011615102179348469, 0.08827229589223862, 0.007412425708025694, 0.009523559361696243, 0.006523705553263426, 0.006997040007263422, 0.008678287267684937, 0.005831499118357897, 0.1061754897236824, 0.05891875922679901, 0.07243932038545609, 0.08109984546899796, 0.03846767172217369, 0.09871096909046173, 0.07211132347583771, 0.09027228504419327, 0.032422881573438644, 0.0, 0.0], [0.044105567038059235, 0.031095780432224274, 0.025365609675645828, 0.04245880991220474, 0.04935619235038757, 0.046514928340911865, 0.05538049340248108, 0.06266378611326218, 0.03375585004687309, 0.04008807614445686, 0.06184839457273483, 0.06052159518003464, 0.03421128913760185, 0.03574430197477341, 0.06991272419691086, 0.03631902486085892, 0.05810437723994255, 0.08417945355176926, 0.04510064795613289, 0.025809820741415024, 0.05746331810951233, 0.0], [0.023259112611413002, 0.04394069314002991, 0.03119056485593319, 0.00044586745207197964, 0.19354473054409027, 0.0002474857319612056, 0.00046972872223705053, 0.0002408805157756433, 0.0005150475772097707, 0.0009867071639746428, 8.287769014714286e-05, 0.09097850322723389, 0.1458722949028015, 0.12097825109958649, 0.13714353740215302, 0.017517847940325737, 0.061589449644088745, 0.03808864951133728, 0.06308057904243469, 0.0033547452185302973, 0.011516212485730648, 0.014956287108361721]], [[1.0, 0.0, 0.0, 0.0, 0.0, 0.0, 0.0, 0.0, 0.0, 0.0, 0.0, 0.0, 0.0, 0.0, 0.0, 0.0, 0.0, 0.0, 0.0, 0.0, 0.0, 0.0], [0.5940607190132141, 0.4059392213821411, 0.0, 0.0, 0.0, 0.0, 0.0, 0.0, 0.0, 0.0, 0.0, 0.0, 0.0, 0.0, 0.0, 0.0, 0.0, 0.0, 0.0, 0.0, 0.0, 0.0], [0.30481603741645813, 0.4235353171825409, 0.2716486155986786, 0.0, 0.0, 0.0, 0.0, 0.0, 0.0, 0.0, 0.0, 0.0, 0.0, 0.0, 0.0, 0.0, 0.0, 0.0, 0.0, 0.0, 0.0, 0.0], [0.30525660514831543, 0.22076885402202606, 0.2578614354133606, 0.21611309051513672, 0.0, 0.0, 0.0, 0.0, 0.0, 0.0, 0.0, 0.0, 0.0, 0.0, 0.0, 0.0, 0.0, 0.0, 0.0, 0.0, 0.0, 0.0], [0.22314207255840302, 0.21770842373371124, 0.16410167515277863, 0.2415163367986679, 0.1535315215587616, 0.0, 0.0, 0.0, 0.0, 0.0, 0.0, 0.0, 0.0, 0.0, 0.0, 0.0, 0.0, 0.0, 0.0, 0.0, 0.0, 0.0], [0.21120424568653107, 0.2146967500448227, 0.08996153622865677, 0.15719756484031677, 0.11499813199043274, 0.21194174885749817, 0.0, 0.0, 0.0, 0.0, 0.0, 0.0, 0.0, 0.0, 0.0, 0.0, 0.0, 0.0, 0.0, 0.0, 0.0, 0.0], [0.14961928129196167, 0.20275069773197174, 0.10227806121110916, 0.1686907410621643, 0.07559338212013245, 0.13963687419891357, 0.1614309549331665, 0.0, 0.0, 0.0, 0.0, 0.0, 0.0, 0.0, 0.0, 0.0, 0.0, 0.0, 0.0, 0.0, 0.0, 0.0], [0.14233186841011047, 0.09193184226751328, 0.06276865303516388, 0.0766911655664444, 0.16311317682266235, 0.09387561678886414, 0.17776335775852203, 0.19152426719665527, 0.0, 0.0, 0.0, 0.0, 0.0, 0.0, 0.0, 0.0, 0.0, 0.0, 0.0, 0.0, 0.0, 0.0], [0.12189996987581253, 0.11962994933128357, 0.054690420627593994, 0.09954197704792023, 0.05889522656798363, 0.10740580409765244, 0.12625369429588318, 0.19149163365364075, 0.12019135802984238, 0.0, 0.0, 0.0, 0.0, 0.0, 0.0, 0.0, 0.0, 0.0, 0.0, 0.0, 0.0, 0.0], [0.07224363833665848, 0.07770920544862747, 0.020157545804977417, 0.0671553984284401, 0.025390226393938065, 0.10418731719255447, 0.12495478242635727, 0.2879357635974884, 0.08299612253904343, 0.1372700333595276, 0.0, 0.0, 0.0, 0.0, 0.0, 0.0, 0.0, 0.0, 0.0, 0.0, 0.0, 0.0], [0.08407337963581085, 0.10213778167963028, 0.06203625723719597, 0.07284843921661377, 0.05494580790400505, 0.08047745376825333, 0.10394362360239029, 0.12167832255363464, 0.08695701509714127, 0.10547366738319397, 0.1254282295703888, 0.0, 0.0, 0.0, 0.0, 0.0, 0.0, 0.0, 0.0, 0.0, 0.0, 0.0], [0.07622353732585907, 0.11429520696401596, 0.07310055196285248, 0.08111473172903061, 0.04588655009865761, 0.08233972638845444, 0.08994892239570618, 0.11728072166442871, 0.0835181474685669, 0.09505391120910645, 0.10098063200712204, 0.04025737941265106, 0.0, 0.0, 0.0, 0.0, 0.0, 0.0, 0.0, 0.0, 0.0, 0.0], [0.057710662484169006, 0.0654183179140091, 0.018198078498244286, 0.058221492916345596, 0.020321819931268692, 0.09441149979829788, 0.09580758213996887, 0.23484915494918823, 0.06567810475826263, 0.10567858815193176, 0.1418347805738449, 0.01290671806782484, 0.028963183984160423, 0.0, 0.0, 0.0, 0.0, 0.0, 0.0, 0.0, 0.0, 0.0], [0.07139860838651657, 0.08818639814853668, 0.03444458171725273, 0.0802101418375969, 0.025428393855690956, 0.08140860497951508, 0.07827060669660568, 0.14892303943634033, 0.07702244818210602, 0.09963381290435791, 0.12059991806745529, 0.02405121736228466, 0.039132118225097656, 0.031290099024772644, 0.0, 0.0, 0.0, 0.0, 0.0, 0.0, 0.0, 0.0], [0.06339514255523682, 0.044305283576250076, 0.03115851990878582, 0.04755529388785362, 0.059207022190093994, 0.05753115564584732, 0.07720320671796799, 0.09460148215293884, 0.06872653216123581, 0.07047415524721146, 0.0707477256655693, 0.059964608401060104, 0.06972026079893112, 0.07221687585115433, 0.11319267749786377, 0.0, 0.0, 0.0, 0.0, 0.0, 0.0, 0.0], [0.059470973908901215, 0.11459610611200333, 0.06441634148359299, 0.1158711388707161, 0.029251350089907646, 0.06498867273330688, 0.05556901916861534, 0.08112192898988724, 0.06041371077299118, 0.07513885945081711, 0.09129317104816437, 0.030482012778520584, 0.039832934737205505, 0.028452841565012932, 0.043435610830783844, 0.04566531255841255, 0.0, 0.0, 0.0, 0.0, 0.0, 0.0], [0.049541715532541275, 0.072752445936203, 0.02997095137834549, 0.06604907661676407, 0.019112905487418175, 0.07007428258657455, 0.06448021531105042, 0.11328714340925217, 0.06423209607601166, 0.09758773446083069, 0.12272275984287262, 0.016703542321920395, 0.036316193640232086, 0.02286178059875965, 0.0530870258808136, 0.057608652859926224, 0.04361146315932274, 0.0, 0.0, 0.0, 0.0, 0.0], [0.04493211209774017, 0.05820254608988762, 0.03243035450577736, 0.05957688391208649, 0.017204850912094116, 0.08903027325868607, 0.07176877558231354, 0.13053975999355316, 0.058169174939394, 0.10112477838993073, 0.12968456745147705, 0.01354993600398302, 0.030066149309277534, 0.017530201002955437, 0.04286947473883629, 0.04067132622003555, 0.0406455397605896, 0.02200324460864067, 0.0, 0.0, 0.0, 0.0], [0.049683745950460434, 0.06419757008552551, 0.084068663418293, 0.06395817548036575, 0.0499831959605217, 0.05050798878073692, 0.044826261699199677, 0.03700968995690346, 0.046926289796829224, 0.044663332402706146, 0.0465916208922863, 0.05771255120635033, 0.04788042977452278, 0.04928434640169144, 0.037010300904512405, 0.04695677384734154, 0.05106956511735916, 0.05234849080443382, 0.07532099634408951, 0.0, 0.0, 0.0], [0.05735350772738457, 0.101804718375206, 0.05791841074824333, 0.08298595249652863, 0.021690772846341133, 0.0654146745800972, 0.05292966589331627, 0.08241606503725052, 0.05703062564134598, 0.07438927888870239, 0.08666064590215683, 0.02137753926217556, 0.030722126364707947, 0.022838886827230453, 0.033089034259319305, 0.03453642874956131, 0.03336814045906067, 0.02732289582490921, 0.028615599498152733, 0.027535006403923035, 0.0, 0.0], [0.04194208234548569, 0.03978569060564041, 0.07139745354652405, 0.034660451114177704, 0.07151053845882416, 0.023679327219724655, 0.0245180893689394, 0.02030382864177227, 0.033593203872442245, 0.031869176775217056, 0.020160110667347908, 0.10792763531208038, 0.07686785608530045, 0.0780353918671608, 0.040522295981645584, 0.03445878624916077, 0.052778080105781555, 0.06649508327245712, 0.05148475617170334, 0.06251538544893265, 0.01549475733190775, 0.0], [0.017619838938117027, 0.02801760472357273, 0.007580921053886414, 0.0414164662361145, 0.003582076169550419, 0.06376557797193527, 0.04185487702488899, 0.11690392345190048, 0.028050728142261505, 0.056504081934690475, 0.13158263266086578, 0.0024175969883799553, 0.005688045639544725, 0.0025047948583960533, 0.012676124460995197, 0.012185360305011272, 0.009313753806054592, 0.009415076114237309, 0.00859407614916563, 0.009252440184354782, 0.3550148606300354, 0.03605924919247627]]]}\n",
              "    )\n",
              "    </script>"
            ]
          },
          "metadata": {}
        },
        {
          "output_type": "stream",
          "name": "stdout",
          "text": [
            "Non-palindrome\n"
          ]
        },
        {
          "output_type": "display_data",
          "data": {
            "text/plain": [
              "START |\u001b[1;38;5;208m04\u001b[0m|\u001b[1;37m16\u001b[0m|\u001b[1;38;5;208m06\u001b[0m|\u001b[1;37m27\u001b[0m|\u001b[1;38;5;208m00\u001b[0m|\u001b[1;38;5;208m10\u001b[0m|\u001b[1;38;5;208m00\u001b[0m|\u001b[1;37m09\u001b[0m|\u001b[1;38;5;208m06\u001b[0m|\u001b[1;38;5;208m09\u001b[0m|\u001b[1;38;5;208m22\u001b[0m|\u001b[1;38;5;208m25\u001b[0m|\u001b[1;37m09\u001b[0m|\u001b[1;38;5;208m01\u001b[0m|\u001b[1;38;5;208m25\u001b[0m|\u001b[1;38;5;208m26\u001b[0m|\u001b[1;37m27\u001b[0m|\u001b[1;38;5;208m29\u001b[0m|\u001b[1;37m16\u001b[0m|\u001b[1;38;5;208m25\u001b[0m| END  ->  \u001b[1;36m-1.000\u001b[0m\n"
            ],
            "text/html": [
              "<pre style=\"white-space:pre;overflow-x:auto;line-height:normal;font-family:Menlo,'DejaVu Sans Mono',consolas,'Courier New',monospace\">START |<span style=\"color: #ff8700; text-decoration-color: #ff8700; font-weight: bold\">04</span>|<span style=\"color: #c0c0c0; text-decoration-color: #c0c0c0; font-weight: bold\">16</span>|<span style=\"color: #ff8700; text-decoration-color: #ff8700; font-weight: bold\">06</span>|<span style=\"color: #c0c0c0; text-decoration-color: #c0c0c0; font-weight: bold\">27</span>|<span style=\"color: #ff8700; text-decoration-color: #ff8700; font-weight: bold\">00</span>|<span style=\"color: #ff8700; text-decoration-color: #ff8700; font-weight: bold\">10</span>|<span style=\"color: #ff8700; text-decoration-color: #ff8700; font-weight: bold\">00</span>|<span style=\"color: #c0c0c0; text-decoration-color: #c0c0c0; font-weight: bold\">09</span>|<span style=\"color: #ff8700; text-decoration-color: #ff8700; font-weight: bold\">06</span>|<span style=\"color: #ff8700; text-decoration-color: #ff8700; font-weight: bold\">09</span>|<span style=\"color: #ff8700; text-decoration-color: #ff8700; font-weight: bold\">22</span>|<span style=\"color: #ff8700; text-decoration-color: #ff8700; font-weight: bold\">25</span>|<span style=\"color: #c0c0c0; text-decoration-color: #c0c0c0; font-weight: bold\">09</span>|<span style=\"color: #ff8700; text-decoration-color: #ff8700; font-weight: bold\">01</span>|<span style=\"color: #ff8700; text-decoration-color: #ff8700; font-weight: bold\">25</span>|<span style=\"color: #ff8700; text-decoration-color: #ff8700; font-weight: bold\">26</span>|<span style=\"color: #c0c0c0; text-decoration-color: #c0c0c0; font-weight: bold\">27</span>|<span style=\"color: #ff8700; text-decoration-color: #ff8700; font-weight: bold\">29</span>|<span style=\"color: #c0c0c0; text-decoration-color: #c0c0c0; font-weight: bold\">16</span>|<span style=\"color: #ff8700; text-decoration-color: #ff8700; font-weight: bold\">25</span>| END  -&gt;  <span style=\"color: #008080; text-decoration-color: #008080; font-weight: bold\">-1.000</span>\n",
              "</pre>\n"
            ]
          },
          "metadata": {}
        },
        {
          "output_type": "display_data",
          "data": {
            "text/html": [
              "<html>\n",
              "<head><meta charset=\"utf-8\" /></head>\n",
              "<body>\n",
              "    <div>            <script src=\"https://cdnjs.cloudflare.com/ajax/libs/mathjax/2.7.5/MathJax.js?config=TeX-AMS-MML_SVG\"></script><script type=\"text/javascript\">if (window.MathJax && window.MathJax.Hub && window.MathJax.Hub.Config) {window.MathJax.Hub.Config({SVG: {font: \"STIX-Web\"}});}</script>                <script type=\"text/javascript\">window.PlotlyConfig = {MathJaxConfig: 'local'};</script>\n",
              "        <script charset=\"utf-8\" src=\"https://cdn.plot.ly/plotly-2.24.1.min.js\"></script>                <div id=\"7b4803bd-5e2a-48c3-99aa-9c1e665a5c44\" class=\"plotly-graph-div\" style=\"height:300px; width:500px;\"></div>            <script type=\"text/javascript\">                                    window.PLOTLYENV=window.PLOTLYENV || {};                                    if (document.getElementById(\"7b4803bd-5e2a-48c3-99aa-9c1e665a5c44\")) {                    Plotly.newPlot(                        \"7b4803bd-5e2a-48c3-99aa-9c1e665a5c44\",                        [{\"x\":[\"(0) 31\",\"(1) 4\",\"(2) 16\",\"(3) 6\",\"(4) 27\",\"(5) 0\",\"(6) 10\",\"(7) 0\",\"(8) 9\",\"(9) 6\",\"(10) 9\",\"(11) 22\",\"(12) 25\",\"(13) 9\",\"(14) 1\",\"(15) 25\",\"(16) 26\",\"(17) 27\",\"(18) 29\",\"(19) 16\",\"(20) 25\",\"(21) 32\"],\"y\":[2.9910528610344045e-05,4.849927427130751e-05,7.708631892455742e-05,1.7796419342630543e-06,5.880480239284225e-05,1.5825752086584544e-07,4.479657320644037e-07,1.9462778766410338e-07,8.859200306687853e-08,6.73351507884945e-07,1.9748233270888704e-08,0.20871876180171967,0.025530625134706497,5.8208126574754715e-05,0.14027196168899536,0.37469980120658875,0.0372689925134182,0.00015561369946226478,0.21307502686977386,1.0513234656173154e-06,2.947623656268661e-08,2.2918995910004014e-06],\"type\":\"bar\"}],                        {\"template\":{\"data\":{\"histogram2dcontour\":[{\"type\":\"histogram2dcontour\",\"colorbar\":{\"outlinewidth\":0,\"ticks\":\"\"},\"colorscale\":[[0.0,\"#0d0887\"],[0.1111111111111111,\"#46039f\"],[0.2222222222222222,\"#7201a8\"],[0.3333333333333333,\"#9c179e\"],[0.4444444444444444,\"#bd3786\"],[0.5555555555555556,\"#d8576b\"],[0.6666666666666666,\"#ed7953\"],[0.7777777777777778,\"#fb9f3a\"],[0.8888888888888888,\"#fdca26\"],[1.0,\"#f0f921\"]]}],\"choropleth\":[{\"type\":\"choropleth\",\"colorbar\":{\"outlinewidth\":0,\"ticks\":\"\"}}],\"histogram2d\":[{\"type\":\"histogram2d\",\"colorbar\":{\"outlinewidth\":0,\"ticks\":\"\"},\"colorscale\":[[0.0,\"#0d0887\"],[0.1111111111111111,\"#46039f\"],[0.2222222222222222,\"#7201a8\"],[0.3333333333333333,\"#9c179e\"],[0.4444444444444444,\"#bd3786\"],[0.5555555555555556,\"#d8576b\"],[0.6666666666666666,\"#ed7953\"],[0.7777777777777778,\"#fb9f3a\"],[0.8888888888888888,\"#fdca26\"],[1.0,\"#f0f921\"]]}],\"heatmap\":[{\"type\":\"heatmap\",\"colorbar\":{\"outlinewidth\":0,\"ticks\":\"\"},\"colorscale\":[[0.0,\"#0d0887\"],[0.1111111111111111,\"#46039f\"],[0.2222222222222222,\"#7201a8\"],[0.3333333333333333,\"#9c179e\"],[0.4444444444444444,\"#bd3786\"],[0.5555555555555556,\"#d8576b\"],[0.6666666666666666,\"#ed7953\"],[0.7777777777777778,\"#fb9f3a\"],[0.8888888888888888,\"#fdca26\"],[1.0,\"#f0f921\"]]}],\"heatmapgl\":[{\"type\":\"heatmapgl\",\"colorbar\":{\"outlinewidth\":0,\"ticks\":\"\"},\"colorscale\":[[0.0,\"#0d0887\"],[0.1111111111111111,\"#46039f\"],[0.2222222222222222,\"#7201a8\"],[0.3333333333333333,\"#9c179e\"],[0.4444444444444444,\"#bd3786\"],[0.5555555555555556,\"#d8576b\"],[0.6666666666666666,\"#ed7953\"],[0.7777777777777778,\"#fb9f3a\"],[0.8888888888888888,\"#fdca26\"],[1.0,\"#f0f921\"]]}],\"contourcarpet\":[{\"type\":\"contourcarpet\",\"colorbar\":{\"outlinewidth\":0,\"ticks\":\"\"}}],\"contour\":[{\"type\":\"contour\",\"colorbar\":{\"outlinewidth\":0,\"ticks\":\"\"},\"colorscale\":[[0.0,\"#0d0887\"],[0.1111111111111111,\"#46039f\"],[0.2222222222222222,\"#7201a8\"],[0.3333333333333333,\"#9c179e\"],[0.4444444444444444,\"#bd3786\"],[0.5555555555555556,\"#d8576b\"],[0.6666666666666666,\"#ed7953\"],[0.7777777777777778,\"#fb9f3a\"],[0.8888888888888888,\"#fdca26\"],[1.0,\"#f0f921\"]]}],\"surface\":[{\"type\":\"surface\",\"colorbar\":{\"outlinewidth\":0,\"ticks\":\"\"},\"colorscale\":[[0.0,\"#0d0887\"],[0.1111111111111111,\"#46039f\"],[0.2222222222222222,\"#7201a8\"],[0.3333333333333333,\"#9c179e\"],[0.4444444444444444,\"#bd3786\"],[0.5555555555555556,\"#d8576b\"],[0.6666666666666666,\"#ed7953\"],[0.7777777777777778,\"#fb9f3a\"],[0.8888888888888888,\"#fdca26\"],[1.0,\"#f0f921\"]]}],\"mesh3d\":[{\"type\":\"mesh3d\",\"colorbar\":{\"outlinewidth\":0,\"ticks\":\"\"}}],\"scatter\":[{\"fillpattern\":{\"fillmode\":\"overlay\",\"size\":10,\"solidity\":0.2},\"type\":\"scatter\"}],\"parcoords\":[{\"type\":\"parcoords\",\"line\":{\"colorbar\":{\"outlinewidth\":0,\"ticks\":\"\"}}}],\"scatterpolargl\":[{\"type\":\"scatterpolargl\",\"marker\":{\"colorbar\":{\"outlinewidth\":0,\"ticks\":\"\"}}}],\"bar\":[{\"error_x\":{\"color\":\"#2a3f5f\"},\"error_y\":{\"color\":\"#2a3f5f\"},\"marker\":{\"line\":{\"color\":\"#E5ECF6\",\"width\":0.5},\"pattern\":{\"fillmode\":\"overlay\",\"size\":10,\"solidity\":0.2}},\"type\":\"bar\"}],\"scattergeo\":[{\"type\":\"scattergeo\",\"marker\":{\"colorbar\":{\"outlinewidth\":0,\"ticks\":\"\"}}}],\"scatterpolar\":[{\"type\":\"scatterpolar\",\"marker\":{\"colorbar\":{\"outlinewidth\":0,\"ticks\":\"\"}}}],\"histogram\":[{\"marker\":{\"pattern\":{\"fillmode\":\"overlay\",\"size\":10,\"solidity\":0.2}},\"type\":\"histogram\"}],\"scattergl\":[{\"type\":\"scattergl\",\"marker\":{\"colorbar\":{\"outlinewidth\":0,\"ticks\":\"\"}}}],\"scatter3d\":[{\"type\":\"scatter3d\",\"line\":{\"colorbar\":{\"outlinewidth\":0,\"ticks\":\"\"}},\"marker\":{\"colorbar\":{\"outlinewidth\":0,\"ticks\":\"\"}}}],\"scattermapbox\":[{\"type\":\"scattermapbox\",\"marker\":{\"colorbar\":{\"outlinewidth\":0,\"ticks\":\"\"}}}],\"scatterternary\":[{\"type\":\"scatterternary\",\"marker\":{\"colorbar\":{\"outlinewidth\":0,\"ticks\":\"\"}}}],\"scattercarpet\":[{\"type\":\"scattercarpet\",\"marker\":{\"colorbar\":{\"outlinewidth\":0,\"ticks\":\"\"}}}],\"carpet\":[{\"aaxis\":{\"endlinecolor\":\"#2a3f5f\",\"gridcolor\":\"white\",\"linecolor\":\"white\",\"minorgridcolor\":\"white\",\"startlinecolor\":\"#2a3f5f\"},\"baxis\":{\"endlinecolor\":\"#2a3f5f\",\"gridcolor\":\"white\",\"linecolor\":\"white\",\"minorgridcolor\":\"white\",\"startlinecolor\":\"#2a3f5f\"},\"type\":\"carpet\"}],\"table\":[{\"cells\":{\"fill\":{\"color\":\"#EBF0F8\"},\"line\":{\"color\":\"white\"}},\"header\":{\"fill\":{\"color\":\"#C8D4E3\"},\"line\":{\"color\":\"white\"}},\"type\":\"table\"}],\"barpolar\":[{\"marker\":{\"line\":{\"color\":\"#E5ECF6\",\"width\":0.5},\"pattern\":{\"fillmode\":\"overlay\",\"size\":10,\"solidity\":0.2}},\"type\":\"barpolar\"}],\"pie\":[{\"automargin\":true,\"type\":\"pie\"}]},\"layout\":{\"autotypenumbers\":\"strict\",\"colorway\":[\"#636efa\",\"#EF553B\",\"#00cc96\",\"#ab63fa\",\"#FFA15A\",\"#19d3f3\",\"#FF6692\",\"#B6E880\",\"#FF97FF\",\"#FECB52\"],\"font\":{\"color\":\"#2a3f5f\"},\"hovermode\":\"closest\",\"hoverlabel\":{\"align\":\"left\"},\"paper_bgcolor\":\"white\",\"plot_bgcolor\":\"#E5ECF6\",\"polar\":{\"bgcolor\":\"#E5ECF6\",\"angularaxis\":{\"gridcolor\":\"white\",\"linecolor\":\"white\",\"ticks\":\"\"},\"radialaxis\":{\"gridcolor\":\"white\",\"linecolor\":\"white\",\"ticks\":\"\"}},\"ternary\":{\"bgcolor\":\"#E5ECF6\",\"aaxis\":{\"gridcolor\":\"white\",\"linecolor\":\"white\",\"ticks\":\"\"},\"baxis\":{\"gridcolor\":\"white\",\"linecolor\":\"white\",\"ticks\":\"\"},\"caxis\":{\"gridcolor\":\"white\",\"linecolor\":\"white\",\"ticks\":\"\"}},\"coloraxis\":{\"colorbar\":{\"outlinewidth\":0,\"ticks\":\"\"}},\"colorscale\":{\"sequential\":[[0.0,\"#0d0887\"],[0.1111111111111111,\"#46039f\"],[0.2222222222222222,\"#7201a8\"],[0.3333333333333333,\"#9c179e\"],[0.4444444444444444,\"#bd3786\"],[0.5555555555555556,\"#d8576b\"],[0.6666666666666666,\"#ed7953\"],[0.7777777777777778,\"#fb9f3a\"],[0.8888888888888888,\"#fdca26\"],[1.0,\"#f0f921\"]],\"sequentialminus\":[[0.0,\"#0d0887\"],[0.1111111111111111,\"#46039f\"],[0.2222222222222222,\"#7201a8\"],[0.3333333333333333,\"#9c179e\"],[0.4444444444444444,\"#bd3786\"],[0.5555555555555556,\"#d8576b\"],[0.6666666666666666,\"#ed7953\"],[0.7777777777777778,\"#fb9f3a\"],[0.8888888888888888,\"#fdca26\"],[1.0,\"#f0f921\"]],\"diverging\":[[0,\"#8e0152\"],[0.1,\"#c51b7d\"],[0.2,\"#de77ae\"],[0.3,\"#f1b6da\"],[0.4,\"#fde0ef\"],[0.5,\"#f7f7f7\"],[0.6,\"#e6f5d0\"],[0.7,\"#b8e186\"],[0.8,\"#7fbc41\"],[0.9,\"#4d9221\"],[1,\"#276419\"]]},\"xaxis\":{\"gridcolor\":\"white\",\"linecolor\":\"white\",\"ticks\":\"\",\"title\":{\"standoff\":15},\"zerolinecolor\":\"white\",\"automargin\":true,\"zerolinewidth\":2},\"yaxis\":{\"gridcolor\":\"white\",\"linecolor\":\"white\",\"ticks\":\"\",\"title\":{\"standoff\":15},\"zerolinecolor\":\"white\",\"automargin\":true,\"zerolinewidth\":2},\"scene\":{\"xaxis\":{\"backgroundcolor\":\"#E5ECF6\",\"gridcolor\":\"white\",\"linecolor\":\"white\",\"showbackground\":true,\"ticks\":\"\",\"zerolinecolor\":\"white\",\"gridwidth\":2},\"yaxis\":{\"backgroundcolor\":\"#E5ECF6\",\"gridcolor\":\"white\",\"linecolor\":\"white\",\"showbackground\":true,\"ticks\":\"\",\"zerolinecolor\":\"white\",\"gridwidth\":2},\"zaxis\":{\"backgroundcolor\":\"#E5ECF6\",\"gridcolor\":\"white\",\"linecolor\":\"white\",\"showbackground\":true,\"ticks\":\"\",\"zerolinecolor\":\"white\",\"gridwidth\":2}},\"shapedefaults\":{\"line\":{\"color\":\"#2a3f5f\"}},\"annotationdefaults\":{\"arrowcolor\":\"#2a3f5f\",\"arrowhead\":0,\"arrowwidth\":1},\"geo\":{\"bgcolor\":\"white\",\"landcolor\":\"#E5ECF6\",\"subunitcolor\":\"white\",\"showland\":true,\"showlakes\":true,\"lakecolor\":\"white\"},\"title\":{\"x\":0.05},\"mapbox\":{\"style\":\"light\"}}},\"title\":{\"text\":\"Attention scores from last position\"},\"xaxis\":{\"title\":{\"text\":\"Target position\"}},\"yaxis\":{\"title\":{\"text\":\"Attention score\"}},\"autosize\":false,\"width\":500,\"height\":300},                        {\"responsive\": true}                    ).then(function(){\n",
              "                            \n",
              "var gd = document.getElementById('7b4803bd-5e2a-48c3-99aa-9c1e665a5c44');\n",
              "var x = new MutationObserver(function (mutations, observer) {{\n",
              "        var display = window.getComputedStyle(gd).display;\n",
              "        if (!display || display === 'none') {{\n",
              "            console.log([gd, 'removed!']);\n",
              "            Plotly.purge(gd);\n",
              "            observer.disconnect();\n",
              "        }}\n",
              "}});\n",
              "\n",
              "// Listen for the removal of the full notebook cells\n",
              "var notebookContainer = gd.closest('#notebook-container');\n",
              "if (notebookContainer) {{\n",
              "    x.observe(notebookContainer, {childList: true});\n",
              "}}\n",
              "\n",
              "// Listen for the clearing of the current output cell\n",
              "var outputEl = gd.closest('.output');\n",
              "if (outputEl) {{\n",
              "    x.observe(outputEl, {childList: true});\n",
              "}}\n",
              "\n",
              "                        })                };                            </script>        </div>\n",
              "</body>\n",
              "</html>"
            ]
          },
          "metadata": {}
        },
        {
          "output_type": "display_data",
          "data": {
            "text/plain": [
              "<circuitsvis.utils.render.RenderedHTML at 0x7afda6461810>"
            ],
            "text/html": [
              "<div id=\"circuits-vis-6fa5d9c1-b4c7\" style=\"margin: 15px 0;\"/>\n",
              "    <script crossorigin type=\"module\">\n",
              "    import { render, AttentionPatterns } from \"https://unpkg.com/circuitsvis@1.41.0/dist/cdn/esm.js\";\n",
              "    render(\n",
              "      \"circuits-vis-6fa5d9c1-b4c7\",\n",
              "      AttentionPatterns,\n",
              "      {\"tokens\": [\"31\", \"4\", \"16\", \"6\", \"27\", \"0\", \"10\", \"0\", \"9\", \"6\", \"9\", \"22\", \"25\", \"9\", \"1\", \"25\", \"26\", \"27\", \"29\", \"16\", \"25\", \"32\"], \"attention\": [[[1.0, 0.0, 0.0, 0.0, 0.0, 0.0, 0.0, 0.0, 0.0, 0.0, 0.0, 0.0, 0.0, 0.0, 0.0, 0.0, 0.0, 0.0, 0.0, 0.0, 0.0, 0.0], [0.4259611666202545, 0.5740388631820679, 0.0, 0.0, 0.0, 0.0, 0.0, 0.0, 0.0, 0.0, 0.0, 0.0, 0.0, 0.0, 0.0, 0.0, 0.0, 0.0, 0.0, 0.0, 0.0, 0.0], [0.35654783248901367, 0.39980700612068176, 0.24364516139030457, 0.0, 0.0, 0.0, 0.0, 0.0, 0.0, 0.0, 0.0, 0.0, 0.0, 0.0, 0.0, 0.0, 0.0, 0.0, 0.0, 0.0, 0.0, 0.0], [0.21160076558589935, 0.3609282374382019, 0.2964736521244049, 0.13099735975265503, 0.0, 0.0, 0.0, 0.0, 0.0, 0.0, 0.0, 0.0, 0.0, 0.0, 0.0, 0.0, 0.0, 0.0, 0.0, 0.0, 0.0, 0.0], [0.22060450911521912, 0.3126263916492462, 0.26690244674682617, 0.012263402342796326, 0.18760322034358978, 0.0, 0.0, 0.0, 0.0, 0.0, 0.0, 0.0, 0.0, 0.0, 0.0, 0.0, 0.0, 0.0, 0.0, 0.0, 0.0, 0.0], [0.16232341527938843, 0.23816455900669098, 0.3862884044647217, 0.03920534998178482, 0.15956830978393555, 0.014449899084866047, 0.0, 0.0, 0.0, 0.0, 0.0, 0.0, 0.0, 0.0, 0.0, 0.0, 0.0, 0.0, 0.0, 0.0, 0.0, 0.0], [0.16114895045757294, 0.13024477660655975, 0.38575389981269836, 0.06280680000782013, 0.12477888911962509, 0.0747082531452179, 0.06055842712521553, 0.0, 0.0, 0.0, 0.0, 0.0, 0.0, 0.0, 0.0, 0.0, 0.0, 0.0, 0.0, 0.0, 0.0, 0.0], [0.18407034873962402, 0.18837584555149078, 0.27383941411972046, 0.06818508356809616, 0.1720748245716095, 0.036055635660886765, 0.038743823766708374, 0.03865499049425125, 0.0, 0.0, 0.0, 0.0, 0.0, 0.0, 0.0, 0.0, 0.0, 0.0, 0.0, 0.0, 0.0, 0.0], [0.09164896607398987, 0.11250610649585724, 0.2664552330970764, 0.08562156558036804, 0.0702771246433258, 0.06355283409357071, 0.11212210357189178, 0.06676096469163895, 0.13105514645576477, 0.0, 0.0, 0.0, 0.0, 0.0, 0.0, 0.0, 0.0, 0.0, 0.0, 0.0, 0.0, 0.0], [0.1207146942615509, 0.142931267619133, 0.29863086342811584, 0.07032328099012375, 0.19035115838050842, 0.033096689730882645, 0.035369377583265305, 0.03327842429280281, 0.024400193244218826, 0.050904057919979095, 0.0, 0.0, 0.0, 0.0, 0.0, 0.0, 0.0, 0.0, 0.0, 0.0, 0.0, 0.0], [0.08740147948265076, 0.17783498764038086, 0.3931126892566681, 0.07223078608512878, 0.10228759050369263, 0.018660128116607666, 0.048106949776411057, 0.01959086023271084, 0.03223003074526787, 0.037730343639850616, 0.01081417128443718, 0.0, 0.0, 0.0, 0.0, 0.0, 0.0, 0.0, 0.0, 0.0, 0.0, 0.0], [0.18126313388347626, 0.05056960508227348, 0.05666172504425049, 0.038906630128622055, 0.20388510823249817, 0.044563159346580505, 0.031209787353873253, 0.050544530153274536, 0.026173174381256104, 0.055946432054042816, 0.035374611616134644, 0.22490204870700836, 0.0, 0.0, 0.0, 0.0, 0.0, 0.0, 0.0, 0.0, 0.0, 0.0], [0.053798872977495193, 0.021901296451687813, 0.02249792404472828, 0.006763719022274017, 0.07284236699342728, 0.005003682337701321, 0.0026089109014719725, 0.0055268025025725365, 0.0015805948060005903, 0.008219203911721706, 0.0017522055422887206, 0.41525188088417053, 0.3822525441646576, 0.0, 0.0, 0.0, 0.0, 0.0, 0.0, 0.0, 0.0, 0.0], [0.039585791528224945, 0.035380247980356216, 0.03651396930217743, 0.009566846303641796, 0.027759043499827385, 0.0058768331073224545, 0.008389218710362911, 0.007194138132035732, 0.006852992810308933, 0.008867233991622925, 0.0035448006819933653, 0.48647812008857727, 0.2752985656261444, 0.04869217053055763, 0.0, 0.0, 0.0, 0.0, 0.0, 0.0, 0.0, 0.0], [0.133001446723938, 0.05916355550289154, 0.03311104327440262, 0.024566655978560448, 0.12833337485790253, 0.040666669607162476, 0.03165647014975548, 0.047104302793741226, 0.019446102902293205, 0.03504097834229469, 0.025684984400868416, 0.12240657210350037, 0.11029794067144394, 0.03926990553736687, 0.15025000274181366, 0.0, 0.0, 0.0, 0.0, 0.0, 0.0, 0.0], [0.12560352683067322, 0.03381099924445152, 0.03919246792793274, 0.021279316395521164, 0.13862985372543335, 0.03186177462339401, 0.014172669500112534, 0.03341444209218025, 0.011162952519953251, 0.030061710625886917, 0.01836751401424408, 0.12197870016098022, 0.11146392673254013, 0.029644081369042397, 0.13262759149074554, 0.10672850161790848, 0.0, 0.0, 0.0, 0.0, 0.0, 0.0], [0.10544204711914062, 0.06630835682153702, 0.01933387480676174, 0.02998276986181736, 0.08826310932636261, 0.047621533274650574, 0.03235402703285217, 0.05708130821585655, 0.02615133486688137, 0.044149722903966904, 0.039098940789699554, 0.07492133229970932, 0.09028255194425583, 0.047573406249284744, 0.0910995751619339, 0.09184800833463669, 0.04848815128207207, 0.0, 0.0, 0.0, 0.0, 0.0], [0.004879644140601158, 0.00155507808085531, 0.013644537888467312, 0.000485048396512866, 0.004867733921855688, 0.00022948005062062293, 0.0004685255989897996, 0.0002725895319599658, 0.00028648998704738915, 0.00032329466193914413, 0.00010492472938494757, 0.28547462821006775, 0.038815755397081375, 0.0043069301173090935, 0.2641814351081848, 0.20834633708000183, 0.1624300479888916, 0.009327499195933342, 0.0, 0.0, 0.0, 0.0], [0.09550078958272934, 0.0368492528796196, 0.01978791505098343, 0.04967590793967247, 0.10140273720026016, 0.09863146394491196, 0.07302797585725784, 0.09579288959503174, 0.06529688090085983, 0.07908235490322113, 0.13472680747509003, 0.010421921499073505, 0.013418679125607014, 0.02258119359612465, 0.010230968706309795, 0.008522148244082928, 0.0065790689550340176, 0.0720292329788208, 0.006441827863454819, 0.0, 0.0, 0.0], [0.020304910838603973, 0.01631220430135727, 0.06563795357942581, 0.014016560278832912, 0.02693985402584076, 0.010616122744977474, 0.01558709517121315, 0.011089327745139599, 0.01337825134396553, 0.010383971966803074, 0.008647187612950802, 0.08793780952692032, 0.038742221891880035, 0.034109439700841904, 0.11665479838848114, 0.0889512449502945, 0.16226114332675934, 0.02992253378033638, 0.19532670080661774, 0.03318070247769356, 0.0, 0.0], [0.030642814934253693, 0.03547212854027748, 0.10732472687959671, 0.10427220165729523, 0.047611597925424576, 0.045324619859457016, 0.030471445992588997, 0.03277100995182991, 0.03816399723291397, 0.07425208389759064, 0.04007932171225548, 0.043160997331142426, 0.0647212490439415, 0.030845480039715767, 0.02929888665676117, 0.033226121217012405, 0.03597487881779671, 0.030491696670651436, 0.03885233774781227, 0.08118792623281479, 0.025854401290416718, 0.0], [2.9910528610344045e-05, 4.849927427130751e-05, 7.708631892455742e-05, 1.7796419342630543e-06, 5.880480239284225e-05, 1.5825752086584544e-07, 4.479657320644037e-07, 1.9462778766410338e-07, 8.859200306687853e-08, 6.73351507884945e-07, 1.9748233270888704e-08, 0.20871876180171967, 0.025530625134706497, 5.8208126574754715e-05, 0.14027196168899536, 0.37469980120658875, 0.0372689925134182, 0.00015561369946226478, 0.21307502686977386, 1.0513234656173154e-06, 2.947623656268661e-08, 2.2918995910004014e-06]], [[1.0, 0.0, 0.0, 0.0, 0.0, 0.0, 0.0, 0.0, 0.0, 0.0, 0.0, 0.0, 0.0, 0.0, 0.0, 0.0, 0.0, 0.0, 0.0, 0.0, 0.0, 0.0], [0.5240945219993591, 0.4759054481983185, 0.0, 0.0, 0.0, 0.0, 0.0, 0.0, 0.0, 0.0, 0.0, 0.0, 0.0, 0.0, 0.0, 0.0, 0.0, 0.0, 0.0, 0.0, 0.0, 0.0], [0.3641424775123596, 0.2757970988750458, 0.360060453414917, 0.0, 0.0, 0.0, 0.0, 0.0, 0.0, 0.0, 0.0, 0.0, 0.0, 0.0, 0.0, 0.0, 0.0, 0.0, 0.0, 0.0, 0.0, 0.0], [0.2482077032327652, 0.33078816533088684, 0.15600086748600006, 0.2650032043457031, 0.0, 0.0, 0.0, 0.0, 0.0, 0.0, 0.0, 0.0, 0.0, 0.0, 0.0, 0.0, 0.0, 0.0, 0.0, 0.0, 0.0, 0.0], [0.2111925333738327, 0.2426932007074356, 0.11608032882213593, 0.2983180582523346, 0.13171590864658356, 0.0, 0.0, 0.0, 0.0, 0.0, 0.0, 0.0, 0.0, 0.0, 0.0, 0.0, 0.0, 0.0, 0.0, 0.0, 0.0, 0.0], [0.13050982356071472, 0.15314815938472748, 0.09192703664302826, 0.1279045194387436, 0.18210096657276154, 0.3144095540046692, 0.0, 0.0, 0.0, 0.0, 0.0, 0.0, 0.0, 0.0, 0.0, 0.0, 0.0, 0.0, 0.0, 0.0, 0.0, 0.0], [0.15900297462940216, 0.15555106103420258, 0.10941240191459656, 0.13446661829948425, 0.16247481107711792, 0.14196431636810303, 0.1371278017759323, 0.0, 0.0, 0.0, 0.0, 0.0, 0.0, 0.0, 0.0, 0.0, 0.0, 0.0, 0.0, 0.0, 0.0, 0.0], [0.11343315243721008, 0.1076357513666153, 0.08327341824769974, 0.08427806198596954, 0.16098493337631226, 0.15926028788089752, 0.11751827597618103, 0.17361608147621155, 0.0, 0.0, 0.0, 0.0, 0.0, 0.0, 0.0, 0.0, 0.0, 0.0, 0.0, 0.0, 0.0, 0.0], [0.15860822796821594, 0.09977684915065765, 0.10666267573833466, 0.0751560851931572, 0.1553419828414917, 0.10336744785308838, 0.11080681532621384, 0.08663854748010635, 0.10364135354757309, 0.0, 0.0, 0.0, 0.0, 0.0, 0.0, 0.0, 0.0, 0.0, 0.0, 0.0, 0.0, 0.0], [0.07095703482627869, 0.09725089371204376, 0.04245545715093613, 0.06577707827091217, 0.07429370284080505, 0.213129922747612, 0.07783926278352737, 0.17594318091869354, 0.0955285057425499, 0.0868249237537384, 0.0, 0.0, 0.0, 0.0, 0.0, 0.0, 0.0, 0.0, 0.0, 0.0, 0.0, 0.0], [0.08261284232139587, 0.05817040801048279, 0.04337561875581741, 0.037816647440195084, 0.087283656001091, 0.15777897834777832, 0.07529954612255096, 0.14701391756534576, 0.08793090283870697, 0.05538984388113022, 0.1673276573419571, 0.0, 0.0, 0.0, 0.0, 0.0, 0.0, 0.0, 0.0, 0.0, 0.0, 0.0], [0.06678846478462219, 0.08176933974027634, 0.073898546397686, 0.09791337698698044, 0.056849729269742966, 0.07785778492689133, 0.09443555772304535, 0.09331454336643219, 0.10451486706733704, 0.09382034838199615, 0.10533405840396881, 0.05350342392921448, 0.0, 0.0, 0.0, 0.0, 0.0, 0.0, 0.0, 0.0, 0.0, 0.0], [0.047936368733644485, 0.094076968729496, 0.0479564443230629, 0.09581778943538666, 0.042132388800382614, 0.1290680319070816, 0.06471037119626999, 0.11379535496234894, 0.08370386809110641, 0.09442783147096634, 0.1492905467748642, 0.01669405773282051, 0.0203899797052145, 0.0, 0.0, 0.0, 0.0, 0.0, 0.0, 0.0, 0.0, 0.0], [0.10016215592622757, 0.07641095668077469, 0.07391838729381561, 0.06956746429204941, 0.08720904588699341, 0.0797102302312851, 0.08023767918348312, 0.06569623202085495, 0.08213983476161957, 0.05950789153575897, 0.11404573172330856, 0.04505646228790283, 0.02859720215201378, 0.03774074465036392, 0.0, 0.0, 0.0, 0.0, 0.0, 0.0, 0.0, 0.0], [0.05213626101613045, 0.07592624425888062, 0.07433891296386719, 0.0938972532749176, 0.04613349586725235, 0.051912106573581696, 0.08084461838006973, 0.0616946779191494, 0.07309739291667938, 0.07932597398757935, 0.05634002760052681, 0.06487897038459778, 0.06154683604836464, 0.07461316883563995, 0.05331403762102127, 0.0, 0.0, 0.0, 0.0, 0.0, 0.0, 0.0], [0.0485832653939724, 0.09089343249797821, 0.0785132423043251, 0.12082216143608093, 0.045087795704603195, 0.054208360612392426, 0.06266546249389648, 0.05413764342665672, 0.06874904036521912, 0.09110216796398163, 0.06655151396989822, 0.044577132910490036, 0.048671018332242966, 0.05371496453881264, 0.0358855277299881, 0.03583727404475212, 0.0, 0.0, 0.0, 0.0, 0.0, 0.0], [0.042238909751176834, 0.05760407820343971, 0.04001571983098984, 0.059447769075632095, 0.04516362398862839, 0.058803990483284, 0.07662328332662582, 0.082852803170681, 0.06900428235530853, 0.06466389447450638, 0.06688691675662994, 0.04411764070391655, 0.04857181757688522, 0.06858902424573898, 0.05682811141014099, 0.05094709247350693, 0.06764106452465057, 0.0, 0.0, 0.0, 0.0, 0.0], [0.04520184174180031, 0.054342154413461685, 0.029913410544395447, 0.06797581166028976, 0.028223605826497078, 0.15563316643238068, 0.048801787197589874, 0.11041601002216339, 0.07898855209350586, 0.06042541563510895, 0.23475924134254456, 0.005323914345353842, 0.004584866110235453, 0.017442917451262474, 0.00951283797621727, 0.004315056838095188, 0.029374731704592705, 0.01476469449698925, 0.0, 0.0, 0.0, 0.0], [0.04548865929245949, 0.06361497938632965, 0.0815252885222435, 0.09138041734695435, 0.04156206175684929, 0.032247427850961685, 0.060216471552848816, 0.0363217256963253, 0.05691245198249817, 0.06581999361515045, 0.039682988077402115, 0.06381990015506744, 0.058996789157390594, 0.07522168755531311, 0.03252730891108513, 0.042393576353788376, 0.04438862204551697, 0.029787646606564522, 0.03809206560254097, 0.0, 0.0, 0.0], [0.0700007900595665, 0.06296239048242569, 0.07537306845188141, 0.06137329712510109, 0.07059713453054428, 0.04250262305140495, 0.049974169582128525, 0.03444098308682442, 0.05172286927700043, 0.04745244234800339, 0.061223104596138, 0.04720484837889671, 0.03249103203415871, 0.03838185966014862, 0.03742362931370735, 0.03475169092416763, 0.05627113953232765, 0.04552676901221275, 0.04000379145145416, 0.040322355926036835, 0.0, 0.0], [0.03375827148556709, 0.04594942182302475, 0.053617436438798904, 0.03183112293481827, 0.05030570179224014, 0.02689194865524769, 0.02370467782020569, 0.025776678696274757, 0.024924326688051224, 0.0367320217192173, 0.020921777933835983, 0.0796968936920166, 0.09626785665750504, 0.04776809737086296, 0.08244767785072327, 0.09829231351613998, 0.05057675018906593, 0.04307195171713829, 0.0729229599237442, 0.036139484494924545, 0.018402593210339546, 0.0], [0.0036085040774196386, 0.005811316892504692, 0.0015634101582691073, 0.006493196357041597, 0.0035748323425650597, 0.05486232787370682, 0.006156579125672579, 0.036860473453998566, 0.010480716824531555, 0.009000379592180252, 0.05943457409739494, 0.00019524864910636097, 0.00029556354274973273, 0.0011426106793805957, 0.0007171787437982857, 0.00028992118313908577, 0.001790859387256205, 0.00237436150200665, 0.001312950043939054, 0.009787118062376976, 0.7812542915344238, 0.002993559930473566]]]}\n",
              "    )\n",
              "    </script>"
            ]
          },
          "metadata": {}
        },
        {
          "output_type": "stream",
          "name": "stdout",
          "text": [
            "Non-palindrome\n"
          ]
        },
        {
          "output_type": "display_data",
          "data": {
            "text/plain": [
              "START |\u001b[1;38;5;208m30\u001b[0m|\u001b[1;37m22\u001b[0m|\u001b[1;37m22\u001b[0m|\u001b[1;37m00\u001b[0m|\u001b[1;37m28\u001b[0m|\u001b[1;37m01\u001b[0m|\u001b[1;37m00\u001b[0m|\u001b[1;38;5;208m09\u001b[0m|\u001b[1;37m23\u001b[0m|\u001b[1;37m27\u001b[0m|\u001b[1;37m27\u001b[0m|\u001b[1;37m23\u001b[0m|\u001b[1;38;5;208m30\u001b[0m|\u001b[1;37m00\u001b[0m|\u001b[1;37m01\u001b[0m|\u001b[1;37m28\u001b[0m|\u001b[1;37m00\u001b[0m|\u001b[1;37m22\u001b[0m|\u001b[1;37m22\u001b[0m|\u001b[1;38;5;208m23\u001b[0m| END  ->  \u001b[1;36m-1.000\u001b[0m\n"
            ],
            "text/html": [
              "<pre style=\"white-space:pre;overflow-x:auto;line-height:normal;font-family:Menlo,'DejaVu Sans Mono',consolas,'Courier New',monospace\">START |<span style=\"color: #ff8700; text-decoration-color: #ff8700; font-weight: bold\">30</span>|<span style=\"color: #c0c0c0; text-decoration-color: #c0c0c0; font-weight: bold\">22</span>|<span style=\"color: #c0c0c0; text-decoration-color: #c0c0c0; font-weight: bold\">22</span>|<span style=\"color: #c0c0c0; text-decoration-color: #c0c0c0; font-weight: bold\">00</span>|<span style=\"color: #c0c0c0; text-decoration-color: #c0c0c0; font-weight: bold\">28</span>|<span style=\"color: #c0c0c0; text-decoration-color: #c0c0c0; font-weight: bold\">01</span>|<span style=\"color: #c0c0c0; text-decoration-color: #c0c0c0; font-weight: bold\">00</span>|<span style=\"color: #ff8700; text-decoration-color: #ff8700; font-weight: bold\">09</span>|<span style=\"color: #c0c0c0; text-decoration-color: #c0c0c0; font-weight: bold\">23</span>|<span style=\"color: #c0c0c0; text-decoration-color: #c0c0c0; font-weight: bold\">27</span>|<span style=\"color: #c0c0c0; text-decoration-color: #c0c0c0; font-weight: bold\">27</span>|<span style=\"color: #c0c0c0; text-decoration-color: #c0c0c0; font-weight: bold\">23</span>|<span style=\"color: #ff8700; text-decoration-color: #ff8700; font-weight: bold\">30</span>|<span style=\"color: #c0c0c0; text-decoration-color: #c0c0c0; font-weight: bold\">00</span>|<span style=\"color: #c0c0c0; text-decoration-color: #c0c0c0; font-weight: bold\">01</span>|<span style=\"color: #c0c0c0; text-decoration-color: #c0c0c0; font-weight: bold\">28</span>|<span style=\"color: #c0c0c0; text-decoration-color: #c0c0c0; font-weight: bold\">00</span>|<span style=\"color: #c0c0c0; text-decoration-color: #c0c0c0; font-weight: bold\">22</span>|<span style=\"color: #c0c0c0; text-decoration-color: #c0c0c0; font-weight: bold\">22</span>|<span style=\"color: #ff8700; text-decoration-color: #ff8700; font-weight: bold\">23</span>| END  -&gt;  <span style=\"color: #008080; text-decoration-color: #008080; font-weight: bold\">-1.000</span>\n",
              "</pre>\n"
            ]
          },
          "metadata": {}
        },
        {
          "output_type": "display_data",
          "data": {
            "text/html": [
              "<html>\n",
              "<head><meta charset=\"utf-8\" /></head>\n",
              "<body>\n",
              "    <div>            <script src=\"https://cdnjs.cloudflare.com/ajax/libs/mathjax/2.7.5/MathJax.js?config=TeX-AMS-MML_SVG\"></script><script type=\"text/javascript\">if (window.MathJax && window.MathJax.Hub && window.MathJax.Hub.Config) {window.MathJax.Hub.Config({SVG: {font: \"STIX-Web\"}});}</script>                <script type=\"text/javascript\">window.PlotlyConfig = {MathJaxConfig: 'local'};</script>\n",
              "        <script charset=\"utf-8\" src=\"https://cdn.plot.ly/plotly-2.24.1.min.js\"></script>                <div id=\"06d4d64c-85b2-4641-b928-c50a50109e8d\" class=\"plotly-graph-div\" style=\"height:300px; width:500px;\"></div>            <script type=\"text/javascript\">                                    window.PLOTLYENV=window.PLOTLYENV || {};                                    if (document.getElementById(\"06d4d64c-85b2-4641-b928-c50a50109e8d\")) {                    Plotly.newPlot(                        \"06d4d64c-85b2-4641-b928-c50a50109e8d\",                        [{\"x\":[\"(0) 31\",\"(1) 30\",\"(2) 22\",\"(3) 22\",\"(4) 0\",\"(5) 28\",\"(6) 1\",\"(7) 0\",\"(8) 9\",\"(9) 23\",\"(10) 27\",\"(11) 27\",\"(12) 23\",\"(13) 30\",\"(14) 0\",\"(15) 1\",\"(16) 28\",\"(17) 0\",\"(18) 22\",\"(19) 22\",\"(20) 23\",\"(21) 32\"],\"y\":[3.5412660508882254e-05,1.3828640476276632e-05,4.90486272610724e-05,7.693835755162581e-07,7.354404078796506e-05,1.8317525984912209e-07,9.459447483095573e-07,1.1920474918269974e-07,1.4392749392300175e-07,5.758383849752136e-07,2.3484955136154895e-07,0.0004951156442984939,0.00011293007992208004,0.998711109161377,2.2494486984214745e-05,8.003833499969915e-05,5.95963228988694e-06,6.052120625099633e-06,6.37773991911672e-05,0.0002677237498573959,1.9563891839879943e-07,5.9863454225705937e-05],\"type\":\"bar\"}],                        {\"template\":{\"data\":{\"histogram2dcontour\":[{\"type\":\"histogram2dcontour\",\"colorbar\":{\"outlinewidth\":0,\"ticks\":\"\"},\"colorscale\":[[0.0,\"#0d0887\"],[0.1111111111111111,\"#46039f\"],[0.2222222222222222,\"#7201a8\"],[0.3333333333333333,\"#9c179e\"],[0.4444444444444444,\"#bd3786\"],[0.5555555555555556,\"#d8576b\"],[0.6666666666666666,\"#ed7953\"],[0.7777777777777778,\"#fb9f3a\"],[0.8888888888888888,\"#fdca26\"],[1.0,\"#f0f921\"]]}],\"choropleth\":[{\"type\":\"choropleth\",\"colorbar\":{\"outlinewidth\":0,\"ticks\":\"\"}}],\"histogram2d\":[{\"type\":\"histogram2d\",\"colorbar\":{\"outlinewidth\":0,\"ticks\":\"\"},\"colorscale\":[[0.0,\"#0d0887\"],[0.1111111111111111,\"#46039f\"],[0.2222222222222222,\"#7201a8\"],[0.3333333333333333,\"#9c179e\"],[0.4444444444444444,\"#bd3786\"],[0.5555555555555556,\"#d8576b\"],[0.6666666666666666,\"#ed7953\"],[0.7777777777777778,\"#fb9f3a\"],[0.8888888888888888,\"#fdca26\"],[1.0,\"#f0f921\"]]}],\"heatmap\":[{\"type\":\"heatmap\",\"colorbar\":{\"outlinewidth\":0,\"ticks\":\"\"},\"colorscale\":[[0.0,\"#0d0887\"],[0.1111111111111111,\"#46039f\"],[0.2222222222222222,\"#7201a8\"],[0.3333333333333333,\"#9c179e\"],[0.4444444444444444,\"#bd3786\"],[0.5555555555555556,\"#d8576b\"],[0.6666666666666666,\"#ed7953\"],[0.7777777777777778,\"#fb9f3a\"],[0.8888888888888888,\"#fdca26\"],[1.0,\"#f0f921\"]]}],\"heatmapgl\":[{\"type\":\"heatmapgl\",\"colorbar\":{\"outlinewidth\":0,\"ticks\":\"\"},\"colorscale\":[[0.0,\"#0d0887\"],[0.1111111111111111,\"#46039f\"],[0.2222222222222222,\"#7201a8\"],[0.3333333333333333,\"#9c179e\"],[0.4444444444444444,\"#bd3786\"],[0.5555555555555556,\"#d8576b\"],[0.6666666666666666,\"#ed7953\"],[0.7777777777777778,\"#fb9f3a\"],[0.8888888888888888,\"#fdca26\"],[1.0,\"#f0f921\"]]}],\"contourcarpet\":[{\"type\":\"contourcarpet\",\"colorbar\":{\"outlinewidth\":0,\"ticks\":\"\"}}],\"contour\":[{\"type\":\"contour\",\"colorbar\":{\"outlinewidth\":0,\"ticks\":\"\"},\"colorscale\":[[0.0,\"#0d0887\"],[0.1111111111111111,\"#46039f\"],[0.2222222222222222,\"#7201a8\"],[0.3333333333333333,\"#9c179e\"],[0.4444444444444444,\"#bd3786\"],[0.5555555555555556,\"#d8576b\"],[0.6666666666666666,\"#ed7953\"],[0.7777777777777778,\"#fb9f3a\"],[0.8888888888888888,\"#fdca26\"],[1.0,\"#f0f921\"]]}],\"surface\":[{\"type\":\"surface\",\"colorbar\":{\"outlinewidth\":0,\"ticks\":\"\"},\"colorscale\":[[0.0,\"#0d0887\"],[0.1111111111111111,\"#46039f\"],[0.2222222222222222,\"#7201a8\"],[0.3333333333333333,\"#9c179e\"],[0.4444444444444444,\"#bd3786\"],[0.5555555555555556,\"#d8576b\"],[0.6666666666666666,\"#ed7953\"],[0.7777777777777778,\"#fb9f3a\"],[0.8888888888888888,\"#fdca26\"],[1.0,\"#f0f921\"]]}],\"mesh3d\":[{\"type\":\"mesh3d\",\"colorbar\":{\"outlinewidth\":0,\"ticks\":\"\"}}],\"scatter\":[{\"fillpattern\":{\"fillmode\":\"overlay\",\"size\":10,\"solidity\":0.2},\"type\":\"scatter\"}],\"parcoords\":[{\"type\":\"parcoords\",\"line\":{\"colorbar\":{\"outlinewidth\":0,\"ticks\":\"\"}}}],\"scatterpolargl\":[{\"type\":\"scatterpolargl\",\"marker\":{\"colorbar\":{\"outlinewidth\":0,\"ticks\":\"\"}}}],\"bar\":[{\"error_x\":{\"color\":\"#2a3f5f\"},\"error_y\":{\"color\":\"#2a3f5f\"},\"marker\":{\"line\":{\"color\":\"#E5ECF6\",\"width\":0.5},\"pattern\":{\"fillmode\":\"overlay\",\"size\":10,\"solidity\":0.2}},\"type\":\"bar\"}],\"scattergeo\":[{\"type\":\"scattergeo\",\"marker\":{\"colorbar\":{\"outlinewidth\":0,\"ticks\":\"\"}}}],\"scatterpolar\":[{\"type\":\"scatterpolar\",\"marker\":{\"colorbar\":{\"outlinewidth\":0,\"ticks\":\"\"}}}],\"histogram\":[{\"marker\":{\"pattern\":{\"fillmode\":\"overlay\",\"size\":10,\"solidity\":0.2}},\"type\":\"histogram\"}],\"scattergl\":[{\"type\":\"scattergl\",\"marker\":{\"colorbar\":{\"outlinewidth\":0,\"ticks\":\"\"}}}],\"scatter3d\":[{\"type\":\"scatter3d\",\"line\":{\"colorbar\":{\"outlinewidth\":0,\"ticks\":\"\"}},\"marker\":{\"colorbar\":{\"outlinewidth\":0,\"ticks\":\"\"}}}],\"scattermapbox\":[{\"type\":\"scattermapbox\",\"marker\":{\"colorbar\":{\"outlinewidth\":0,\"ticks\":\"\"}}}],\"scatterternary\":[{\"type\":\"scatterternary\",\"marker\":{\"colorbar\":{\"outlinewidth\":0,\"ticks\":\"\"}}}],\"scattercarpet\":[{\"type\":\"scattercarpet\",\"marker\":{\"colorbar\":{\"outlinewidth\":0,\"ticks\":\"\"}}}],\"carpet\":[{\"aaxis\":{\"endlinecolor\":\"#2a3f5f\",\"gridcolor\":\"white\",\"linecolor\":\"white\",\"minorgridcolor\":\"white\",\"startlinecolor\":\"#2a3f5f\"},\"baxis\":{\"endlinecolor\":\"#2a3f5f\",\"gridcolor\":\"white\",\"linecolor\":\"white\",\"minorgridcolor\":\"white\",\"startlinecolor\":\"#2a3f5f\"},\"type\":\"carpet\"}],\"table\":[{\"cells\":{\"fill\":{\"color\":\"#EBF0F8\"},\"line\":{\"color\":\"white\"}},\"header\":{\"fill\":{\"color\":\"#C8D4E3\"},\"line\":{\"color\":\"white\"}},\"type\":\"table\"}],\"barpolar\":[{\"marker\":{\"line\":{\"color\":\"#E5ECF6\",\"width\":0.5},\"pattern\":{\"fillmode\":\"overlay\",\"size\":10,\"solidity\":0.2}},\"type\":\"barpolar\"}],\"pie\":[{\"automargin\":true,\"type\":\"pie\"}]},\"layout\":{\"autotypenumbers\":\"strict\",\"colorway\":[\"#636efa\",\"#EF553B\",\"#00cc96\",\"#ab63fa\",\"#FFA15A\",\"#19d3f3\",\"#FF6692\",\"#B6E880\",\"#FF97FF\",\"#FECB52\"],\"font\":{\"color\":\"#2a3f5f\"},\"hovermode\":\"closest\",\"hoverlabel\":{\"align\":\"left\"},\"paper_bgcolor\":\"white\",\"plot_bgcolor\":\"#E5ECF6\",\"polar\":{\"bgcolor\":\"#E5ECF6\",\"angularaxis\":{\"gridcolor\":\"white\",\"linecolor\":\"white\",\"ticks\":\"\"},\"radialaxis\":{\"gridcolor\":\"white\",\"linecolor\":\"white\",\"ticks\":\"\"}},\"ternary\":{\"bgcolor\":\"#E5ECF6\",\"aaxis\":{\"gridcolor\":\"white\",\"linecolor\":\"white\",\"ticks\":\"\"},\"baxis\":{\"gridcolor\":\"white\",\"linecolor\":\"white\",\"ticks\":\"\"},\"caxis\":{\"gridcolor\":\"white\",\"linecolor\":\"white\",\"ticks\":\"\"}},\"coloraxis\":{\"colorbar\":{\"outlinewidth\":0,\"ticks\":\"\"}},\"colorscale\":{\"sequential\":[[0.0,\"#0d0887\"],[0.1111111111111111,\"#46039f\"],[0.2222222222222222,\"#7201a8\"],[0.3333333333333333,\"#9c179e\"],[0.4444444444444444,\"#bd3786\"],[0.5555555555555556,\"#d8576b\"],[0.6666666666666666,\"#ed7953\"],[0.7777777777777778,\"#fb9f3a\"],[0.8888888888888888,\"#fdca26\"],[1.0,\"#f0f921\"]],\"sequentialminus\":[[0.0,\"#0d0887\"],[0.1111111111111111,\"#46039f\"],[0.2222222222222222,\"#7201a8\"],[0.3333333333333333,\"#9c179e\"],[0.4444444444444444,\"#bd3786\"],[0.5555555555555556,\"#d8576b\"],[0.6666666666666666,\"#ed7953\"],[0.7777777777777778,\"#fb9f3a\"],[0.8888888888888888,\"#fdca26\"],[1.0,\"#f0f921\"]],\"diverging\":[[0,\"#8e0152\"],[0.1,\"#c51b7d\"],[0.2,\"#de77ae\"],[0.3,\"#f1b6da\"],[0.4,\"#fde0ef\"],[0.5,\"#f7f7f7\"],[0.6,\"#e6f5d0\"],[0.7,\"#b8e186\"],[0.8,\"#7fbc41\"],[0.9,\"#4d9221\"],[1,\"#276419\"]]},\"xaxis\":{\"gridcolor\":\"white\",\"linecolor\":\"white\",\"ticks\":\"\",\"title\":{\"standoff\":15},\"zerolinecolor\":\"white\",\"automargin\":true,\"zerolinewidth\":2},\"yaxis\":{\"gridcolor\":\"white\",\"linecolor\":\"white\",\"ticks\":\"\",\"title\":{\"standoff\":15},\"zerolinecolor\":\"white\",\"automargin\":true,\"zerolinewidth\":2},\"scene\":{\"xaxis\":{\"backgroundcolor\":\"#E5ECF6\",\"gridcolor\":\"white\",\"linecolor\":\"white\",\"showbackground\":true,\"ticks\":\"\",\"zerolinecolor\":\"white\",\"gridwidth\":2},\"yaxis\":{\"backgroundcolor\":\"#E5ECF6\",\"gridcolor\":\"white\",\"linecolor\":\"white\",\"showbackground\":true,\"ticks\":\"\",\"zerolinecolor\":\"white\",\"gridwidth\":2},\"zaxis\":{\"backgroundcolor\":\"#E5ECF6\",\"gridcolor\":\"white\",\"linecolor\":\"white\",\"showbackground\":true,\"ticks\":\"\",\"zerolinecolor\":\"white\",\"gridwidth\":2}},\"shapedefaults\":{\"line\":{\"color\":\"#2a3f5f\"}},\"annotationdefaults\":{\"arrowcolor\":\"#2a3f5f\",\"arrowhead\":0,\"arrowwidth\":1},\"geo\":{\"bgcolor\":\"white\",\"landcolor\":\"#E5ECF6\",\"subunitcolor\":\"white\",\"showland\":true,\"showlakes\":true,\"lakecolor\":\"white\"},\"title\":{\"x\":0.05},\"mapbox\":{\"style\":\"light\"}}},\"title\":{\"text\":\"Attention scores from last position\"},\"xaxis\":{\"title\":{\"text\":\"Target position\"}},\"yaxis\":{\"title\":{\"text\":\"Attention score\"}},\"autosize\":false,\"width\":500,\"height\":300},                        {\"responsive\": true}                    ).then(function(){\n",
              "                            \n",
              "var gd = document.getElementById('06d4d64c-85b2-4641-b928-c50a50109e8d');\n",
              "var x = new MutationObserver(function (mutations, observer) {{\n",
              "        var display = window.getComputedStyle(gd).display;\n",
              "        if (!display || display === 'none') {{\n",
              "            console.log([gd, 'removed!']);\n",
              "            Plotly.purge(gd);\n",
              "            observer.disconnect();\n",
              "        }}\n",
              "}});\n",
              "\n",
              "// Listen for the removal of the full notebook cells\n",
              "var notebookContainer = gd.closest('#notebook-container');\n",
              "if (notebookContainer) {{\n",
              "    x.observe(notebookContainer, {childList: true});\n",
              "}}\n",
              "\n",
              "// Listen for the clearing of the current output cell\n",
              "var outputEl = gd.closest('.output');\n",
              "if (outputEl) {{\n",
              "    x.observe(outputEl, {childList: true});\n",
              "}}\n",
              "\n",
              "                        })                };                            </script>        </div>\n",
              "</body>\n",
              "</html>"
            ]
          },
          "metadata": {}
        },
        {
          "output_type": "display_data",
          "data": {
            "text/plain": [
              "<circuitsvis.utils.render.RenderedHTML at 0x7afdd15f3310>"
            ],
            "text/html": [
              "<div id=\"circuits-vis-188bb8ee-1528\" style=\"margin: 15px 0;\"/>\n",
              "    <script crossorigin type=\"module\">\n",
              "    import { render, AttentionPatterns } from \"https://unpkg.com/circuitsvis@1.41.0/dist/cdn/esm.js\";\n",
              "    render(\n",
              "      \"circuits-vis-188bb8ee-1528\",\n",
              "      AttentionPatterns,\n",
              "      {\"tokens\": [\"31\", \"30\", \"22\", \"22\", \"0\", \"28\", \"1\", \"0\", \"9\", \"23\", \"27\", \"27\", \"23\", \"30\", \"0\", \"1\", \"28\", \"0\", \"22\", \"22\", \"23\", \"32\"], \"attention\": [[[1.0, 0.0, 0.0, 0.0, 0.0, 0.0, 0.0, 0.0, 0.0, 0.0, 0.0, 0.0, 0.0, 0.0, 0.0, 0.0, 0.0, 0.0, 0.0, 0.0, 0.0, 0.0], [0.4137016832828522, 0.5862982869148254, 0.0, 0.0, 0.0, 0.0, 0.0, 0.0, 0.0, 0.0, 0.0, 0.0, 0.0, 0.0, 0.0, 0.0, 0.0, 0.0, 0.0, 0.0, 0.0, 0.0], [0.3995257019996643, 0.23483602702617645, 0.3656383156776428, 0.0, 0.0, 0.0, 0.0, 0.0, 0.0, 0.0, 0.0, 0.0, 0.0, 0.0, 0.0, 0.0, 0.0, 0.0, 0.0, 0.0, 0.0, 0.0], [0.27004194259643555, 0.2615635097026825, 0.3108149766921997, 0.15757960081100464, 0.0, 0.0, 0.0, 0.0, 0.0, 0.0, 0.0, 0.0, 0.0, 0.0, 0.0, 0.0, 0.0, 0.0, 0.0, 0.0, 0.0, 0.0], [0.19673216342926025, 0.18606668710708618, 0.14231112599372864, 0.020869402214884758, 0.4540206789970398, 0.0, 0.0, 0.0, 0.0, 0.0, 0.0, 0.0, 0.0, 0.0, 0.0, 0.0, 0.0, 0.0, 0.0, 0.0, 0.0, 0.0], [0.10501296073198318, 0.22977134585380554, 0.262374609708786, 0.04090189188718796, 0.3255707025527954, 0.03636845201253891, 0.0, 0.0, 0.0, 0.0, 0.0, 0.0, 0.0, 0.0, 0.0, 0.0, 0.0, 0.0, 0.0, 0.0, 0.0, 0.0], [0.09850690513849258, 0.19951382279396057, 0.18567770719528198, 0.055730804800987244, 0.24154885113239288, 0.0633685514330864, 0.15565337240695953, 0.0, 0.0, 0.0, 0.0, 0.0, 0.0, 0.0, 0.0, 0.0, 0.0, 0.0, 0.0, 0.0, 0.0, 0.0], [0.15239223837852478, 0.14932729303836823, 0.17940200865268707, 0.06935175508260727, 0.2367328256368637, 0.05366247519850731, 0.11333587020635605, 0.045795541256666183, 0.0, 0.0, 0.0, 0.0, 0.0, 0.0, 0.0, 0.0, 0.0, 0.0, 0.0, 0.0, 0.0, 0.0], [0.06755837053060532, 0.0820644423365593, 0.10998250544071198, 0.07444357126951218, 0.08722735196352005, 0.10578378289937973, 0.13982613384723663, 0.09860532730817795, 0.23450857400894165, 0.0, 0.0, 0.0, 0.0, 0.0, 0.0, 0.0, 0.0, 0.0, 0.0, 0.0, 0.0, 0.0], [0.10275058448314667, 0.10566012561321259, 0.17480674386024475, 0.07435683161020279, 0.14817313849925995, 0.06367895007133484, 0.09634481370449066, 0.05214838311076164, 0.09129756689071655, 0.09078282117843628, 0.0, 0.0, 0.0, 0.0, 0.0, 0.0, 0.0, 0.0, 0.0, 0.0, 0.0, 0.0], [0.10039293766021729, 0.08195731043815613, 0.2199837565422058, 0.06408210843801498, 0.1437305212020874, 0.057054754346609116, 0.08264614641666412, 0.044293079525232315, 0.08610008656978607, 0.07056942582130432, 0.04918985441327095, 0.0, 0.0, 0.0, 0.0, 0.0, 0.0, 0.0, 0.0, 0.0, 0.0, 0.0], [0.11342272907495499, 0.03646694868803024, 0.10670081526041031, 0.04157113656401634, 0.08890417963266373, 0.04442935809493065, 0.07468091696500778, 0.04146379604935646, 0.05824987217783928, 0.06567024439573288, 0.06378836929798126, 0.26465165615081787, 0.0, 0.0, 0.0, 0.0, 0.0, 0.0, 0.0, 0.0, 0.0, 0.0], [0.08802252262830734, 0.038663897663354874, 0.09238892793655396, 0.034640174359083176, 0.07984339445829391, 0.02901102602481842, 0.048016611486673355, 0.02535388618707657, 0.03841525316238403, 0.04949842765927315, 0.04357278347015381, 0.26131805777549744, 0.17125505208969116, 0.0, 0.0, 0.0, 0.0, 0.0, 0.0, 0.0, 0.0, 0.0], [0.1354372352361679, 0.02778816409409046, 0.04397384822368622, 0.0519346185028553, 0.040304169058799744, 0.05883919820189476, 0.06967630237340927, 0.06463565677404404, 0.062876395881176, 0.09572629630565643, 0.12382412701845169, 0.09976349771022797, 0.08615115284919739, 0.03906935080885887, 0.0, 0.0, 0.0, 0.0, 0.0, 0.0, 0.0, 0.0], [0.021425046026706696, 0.005652104038745165, 0.017759880051016808, 0.002185283927246928, 0.02575797773897648, 0.0007475371239706874, 0.0015720950905233622, 0.0007486725226044655, 0.00040067764348350465, 0.0012233906891196966, 0.0006121250917203724, 0.031084127724170685, 0.01717977225780487, 0.8562161326408386, 0.017435245215892792, 0.0, 0.0, 0.0, 0.0, 0.0, 0.0, 0.0], [0.05993757024407387, 0.05272892117500305, 0.08422693610191345, 0.026567358523607254, 0.09216892719268799, 0.025454478338360786, 0.05879530683159828, 0.029249349609017372, 0.018071504309773445, 0.019983794540166855, 0.023896191269159317, 0.062374234199523926, 0.03788413852453232, 0.24315445125102997, 0.07409898191690445, 0.09140787273645401, 0.0, 0.0, 0.0, 0.0, 0.0, 0.0], [0.0014299285830929875, 0.0019623686093837023, 0.003036495065316558, 0.00020981446141377091, 0.00468288641422987, 0.0001129330339608714, 0.0002670040703378618, 0.00010170028690481558, 0.00010272848885506392, 0.00014500874385703355, 8.356427861144766e-05, 0.006340886931866407, 0.003404744900763035, 0.9702579975128174, 0.0025793262757360935, 0.004277154803276062, 0.001005518832243979, 0.0, 0.0, 0.0, 0.0, 0.0], [0.010212995111942291, 0.002874803962185979, 0.012941586785018444, 0.0012521065073087811, 0.014730124734342098, 0.0005081415874883533, 0.0011078629177063704, 0.00040962069761008024, 0.0003587271785363555, 0.000833355647046119, 0.00039765879046171904, 0.029788311570882797, 0.014889189973473549, 0.8835391402244568, 0.006918604951351881, 0.011589339934289455, 0.0035300450399518013, 0.004118357785046101, 0.0, 0.0, 0.0, 0.0], [0.05719198286533356, 0.022332951426506042, 0.0652405321598053, 0.04403163492679596, 0.04063441976904869, 0.030797718092799187, 0.03232093155384064, 0.02061764895915985, 0.023791152983903885, 0.043869610875844955, 0.052564963698387146, 0.11104144155979156, 0.06373555958271027, 0.1714603155851364, 0.030468063428997993, 0.03766703978180885, 0.06144668906927109, 0.027094770222902298, 0.06369258463382721, 0.0, 0.0, 0.0], [0.04727017506957054, 0.010768252424895763, 0.06689077615737915, 0.020843341946601868, 0.04083241894841194, 0.0140274902805686, 0.0196303091943264, 0.011527902446687222, 0.011837837286293507, 0.016997529193758965, 0.01851002126932144, 0.08467063307762146, 0.044073816388845444, 0.33716341853141785, 0.03138821944594383, 0.03735216706991196, 0.047820813953876495, 0.025486674159765244, 0.03571643680334091, 0.07719172537326813, 0.0, 0.0], [0.01344403438270092, 0.05693010613322258, 0.023518860340118408, 0.033650510013103485, 0.026375170797109604, 0.0495099239051342, 0.025470195338129997, 0.029580041766166687, 0.03227631375193596, 0.0394885390996933, 0.027148034423589706, 0.022112805396318436, 0.03651054948568344, 0.021570591256022453, 0.018561774864792824, 0.022272109985351562, 0.03986538201570511, 0.0221306961029768, 0.056313253939151764, 0.02975679375231266, 0.373514324426651, 0.0], [3.5412660508882254e-05, 1.3828640476276632e-05, 4.90486272610724e-05, 7.693835755162581e-07, 7.354404078796506e-05, 1.8317525984912209e-07, 9.459447483095573e-07, 1.1920474918269974e-07, 1.4392749392300175e-07, 5.758383849752136e-07, 2.3484955136154895e-07, 0.0004951156442984939, 0.00011293007992208004, 0.998711109161377, 2.2494486984214745e-05, 8.003833499969915e-05, 5.95963228988694e-06, 6.052120625099633e-06, 6.37773991911672e-05, 0.0002677237498573959, 1.9563891839879943e-07, 5.9863454225705937e-05]], [[1.0, 0.0, 0.0, 0.0, 0.0, 0.0, 0.0, 0.0, 0.0, 0.0, 0.0, 0.0, 0.0, 0.0, 0.0, 0.0, 0.0, 0.0, 0.0, 0.0, 0.0, 0.0], [0.5261897444725037, 0.47381025552749634, 0.0, 0.0, 0.0, 0.0, 0.0, 0.0, 0.0, 0.0, 0.0, 0.0, 0.0, 0.0, 0.0, 0.0, 0.0, 0.0, 0.0, 0.0, 0.0, 0.0], [0.33257174491882324, 0.3909071087837219, 0.27652114629745483, 0.0, 0.0, 0.0, 0.0, 0.0, 0.0, 0.0, 0.0, 0.0, 0.0, 0.0, 0.0, 0.0, 0.0, 0.0, 0.0, 0.0, 0.0, 0.0], [0.3151375353336334, 0.37754932045936584, 0.15605957806110382, 0.1512536257505417, 0.0, 0.0, 0.0, 0.0, 0.0, 0.0, 0.0, 0.0, 0.0, 0.0, 0.0, 0.0, 0.0, 0.0, 0.0, 0.0, 0.0, 0.0], [0.15654319524765015, 0.4031517803668976, 0.08522503077983856, 0.18656928837299347, 0.16851069033145905, 0.0, 0.0, 0.0, 0.0, 0.0, 0.0, 0.0, 0.0, 0.0, 0.0, 0.0, 0.0, 0.0, 0.0, 0.0, 0.0, 0.0], [0.15329785645008087, 0.3462863862514496, 0.058500248938798904, 0.10459110140800476, 0.13108572363853455, 0.20623868703842163, 0.0, 0.0, 0.0, 0.0, 0.0, 0.0, 0.0, 0.0, 0.0, 0.0, 0.0, 0.0, 0.0, 0.0, 0.0, 0.0], [0.13958269357681274, 0.1820645034313202, 0.13760921359062195, 0.13886767625808716, 0.0937378779053688, 0.14282721281051636, 0.1653108149766922, 0.0, 0.0, 0.0, 0.0, 0.0, 0.0, 0.0, 0.0, 0.0, 0.0, 0.0, 0.0, 0.0, 0.0, 0.0], [0.12137244641780853, 0.1393120437860489, 0.06305987387895584, 0.06358635425567627, 0.17819777131080627, 0.11867295205593109, 0.16017363965511322, 0.15562492609024048, 0.0, 0.0, 0.0, 0.0, 0.0, 0.0, 0.0, 0.0, 0.0, 0.0, 0.0, 0.0, 0.0, 0.0], [0.16482031345367432, 0.14061249792575836, 0.11292584985494614, 0.09727689623832703, 0.0796513557434082, 0.09788120537996292, 0.11165081709623337, 0.08643164485692978, 0.10874933749437332, 0.0, 0.0, 0.0, 0.0, 0.0, 0.0, 0.0, 0.0, 0.0, 0.0, 0.0, 0.0, 0.0], [0.06798408180475235, 0.14104127883911133, 0.02338605746626854, 0.03881635144352913, 0.1035304144024849, 0.10820396989583969, 0.14046317338943481, 0.14758926630020142, 0.07857456803321838, 0.15041081607341766, 0.0, 0.0, 0.0, 0.0, 0.0, 0.0, 0.0, 0.0, 0.0, 0.0, 0.0, 0.0], [0.060376621782779694, 0.15398642420768738, 0.02472337707877159, 0.04857632517814636, 0.05495525896549225, 0.10500197857618332, 0.1000034362077713, 0.10809443891048431, 0.06615868210792542, 0.14016485214233398, 0.1379585862159729, 0.0, 0.0, 0.0, 0.0, 0.0, 0.0, 0.0, 0.0, 0.0, 0.0, 0.0], [0.05475641414523125, 0.16053493320941925, 0.027161987498402596, 0.06482233107089996, 0.0453333705663681, 0.10675442218780518, 0.08401177823543549, 0.11355283111333847, 0.07633616775274277, 0.12153708189725876, 0.11086885631084442, 0.03432977572083473, 0.0, 0.0, 0.0, 0.0, 0.0, 0.0, 0.0, 0.0, 0.0, 0.0], [0.04890189692378044, 0.10624762624502182, 0.019442489370703697, 0.03923075646162033, 0.06979703903198242, 0.08790405094623566, 0.09908836334943771, 0.12644168734550476, 0.06732261180877686, 0.11061587184667587, 0.11840043216943741, 0.04233681783080101, 0.06427034735679626, 0.0, 0.0, 0.0, 0.0, 0.0, 0.0, 0.0, 0.0, 0.0], [0.07436785101890564, 0.07927652448415756, 0.09679974615573883, 0.13998554646968842, 0.04689643904566765, 0.08044376224279404, 0.04826905578374863, 0.0719766914844513, 0.09650819003582001, 0.06384451687335968, 0.057098086923360825, 0.049295466393232346, 0.047122783958911896, 0.048115313053131104, 0.0, 0.0, 0.0, 0.0, 0.0, 0.0, 0.0, 0.0], [0.04629816114902496, 0.09400284290313721, 0.024831032380461693, 0.043728306889534, 0.07235010713338852, 0.07239342480897903, 0.0741366595029831, 0.09135348349809647, 0.05861250311136246, 0.08322159200906754, 0.10876642912626266, 0.049048617482185364, 0.058770742267370224, 0.038589783012866974, 0.08389631658792496, 0.0, 0.0, 0.0, 0.0, 0.0, 0.0, 0.0], [0.05417871102690697, 0.08764324337244034, 0.0762256532907486, 0.0797056257724762, 0.042888280004262924, 0.060592565685510635, 0.06851958483457565, 0.04980321228504181, 0.059137504547834396, 0.05693550780415535, 0.05941314995288849, 0.060019053518772125, 0.053799279034137726, 0.07288602739572525, 0.047728054225444794, 0.07052459567785263, 0.0, 0.0, 0.0, 0.0, 0.0, 0.0], [0.038528427481651306, 0.15587235987186432, 0.014368206262588501, 0.032686375081539154, 0.04095287621021271, 0.06746334582567215, 0.06242857128381729, 0.09389284253120422, 0.05036461353302002, 0.09625689685344696, 0.1351723074913025, 0.02761993557214737, 0.041661106050014496, 0.017959650605916977, 0.051681313663721085, 0.03481479361653328, 0.03827635943889618, 0.0, 0.0, 0.0, 0.0, 0.0], [0.043576400727033615, 0.09089504927396774, 0.021102283149957657, 0.038238029927015305, 0.06087808683514595, 0.06986218690872192, 0.05444563180208206, 0.08180014789104462, 0.051186591386795044, 0.07804785668849945, 0.09867743402719498, 0.03409072756767273, 0.04640340432524681, 0.023762764409184456, 0.06671619415283203, 0.03510403633117676, 0.05514363944530487, 0.05006955564022064, 0.0, 0.0, 0.0, 0.0], [0.03878923878073692, 0.06799313426017761, 0.02435796894133091, 0.02910713478922844, 0.09762132167816162, 0.061009567230939865, 0.05008591338992119, 0.0745692029595375, 0.054493408650159836, 0.043990928679704666, 0.05006455257534981, 0.0413571372628212, 0.039722707122564316, 0.05072445049881935, 0.07772333920001984, 0.049068551510572433, 0.059584878385066986, 0.05930599570274353, 0.03043060377240181, 0.0, 0.0, 0.0], [0.05487143620848656, 0.07444937527179718, 0.047749996185302734, 0.051241885870695114, 0.054556943476200104, 0.06584761291742325, 0.038970962166786194, 0.05138815566897392, 0.0622018426656723, 0.0520392581820488, 0.04590015113353729, 0.04146501421928406, 0.046120576560497284, 0.054292257875204086, 0.04532431438565254, 0.03280869126319885, 0.06157119944691658, 0.04036210477352142, 0.0400257334113121, 0.038812458515167236, 0.0, 0.0], [0.0404902808368206, 0.0465213917195797, 0.046425335109233856, 0.04183895140886307, 0.06103692203760147, 0.047063954174518585, 0.03912684693932533, 0.04643392562866211, 0.03866163641214371, 0.03741225227713585, 0.0367654412984848, 0.045019395649433136, 0.0405895859003067, 0.04844893515110016, 0.056228384375572205, 0.041568562388420105, 0.05718639865517616, 0.061697401106357574, 0.054069820791482925, 0.06808844953775406, 0.04532616585493088, 0.0], [0.002606138586997986, 0.01867097243666649, 0.0006531898397952318, 0.005485864821821451, 0.001915938570164144, 0.012500639073550701, 0.006770940963178873, 0.01588917337357998, 0.005754627753049135, 0.01594487391412258, 0.021890506148338318, 0.000896285695489496, 0.002312097931280732, 0.00021077725978102535, 0.0029951976612210274, 0.0013881891500204802, 0.0029082559049129486, 0.003251392627134919, 0.0025457467418164015, 0.0004785390046890825, 0.8732006549835205, 0.0017299175960943103]]]}\n",
              "    )\n",
              "    </script>"
            ]
          },
          "metadata": {}
        },
        {
          "output_type": "stream",
          "name": "stdout",
          "text": [
            "Non-palindrome\n"
          ]
        },
        {
          "output_type": "display_data",
          "data": {
            "text/plain": [
              "START |\u001b[1;37m13\u001b[0m|\u001b[1;38;5;208m30\u001b[0m|\u001b[1;38;5;208m18\u001b[0m|\u001b[1;38;5;208m17\u001b[0m|\u001b[1;38;5;208m25\u001b[0m|\u001b[1;38;5;208m23\u001b[0m|\u001b[1;37m11\u001b[0m|\u001b[1;38;5;208m24\u001b[0m|\u001b[1;37m09\u001b[0m|\u001b[1;38;5;208m01\u001b[0m|\u001b[1;38;5;208m17\u001b[0m|\u001b[1;37m09\u001b[0m|\u001b[1;38;5;208m28\u001b[0m|\u001b[1;37m11\u001b[0m|\u001b[1;38;5;208m29\u001b[0m|\u001b[1;38;5;208m20\u001b[0m|\u001b[1;38;5;208m09\u001b[0m|\u001b[1;38;5;208m10\u001b[0m|\u001b[1;38;5;208m25\u001b[0m|\u001b[1;37m13\u001b[0m| END  ->  \u001b[1;36m-1.000\u001b[0m\n"
            ],
            "text/html": [
              "<pre style=\"white-space:pre;overflow-x:auto;line-height:normal;font-family:Menlo,'DejaVu Sans Mono',consolas,'Courier New',monospace\">START |<span style=\"color: #c0c0c0; text-decoration-color: #c0c0c0; font-weight: bold\">13</span>|<span style=\"color: #ff8700; text-decoration-color: #ff8700; font-weight: bold\">30</span>|<span style=\"color: #ff8700; text-decoration-color: #ff8700; font-weight: bold\">18</span>|<span style=\"color: #ff8700; text-decoration-color: #ff8700; font-weight: bold\">17</span>|<span style=\"color: #ff8700; text-decoration-color: #ff8700; font-weight: bold\">25</span>|<span style=\"color: #ff8700; text-decoration-color: #ff8700; font-weight: bold\">23</span>|<span style=\"color: #c0c0c0; text-decoration-color: #c0c0c0; font-weight: bold\">11</span>|<span style=\"color: #ff8700; text-decoration-color: #ff8700; font-weight: bold\">24</span>|<span style=\"color: #c0c0c0; text-decoration-color: #c0c0c0; font-weight: bold\">09</span>|<span style=\"color: #ff8700; text-decoration-color: #ff8700; font-weight: bold\">01</span>|<span style=\"color: #ff8700; text-decoration-color: #ff8700; font-weight: bold\">17</span>|<span style=\"color: #c0c0c0; text-decoration-color: #c0c0c0; font-weight: bold\">09</span>|<span style=\"color: #ff8700; text-decoration-color: #ff8700; font-weight: bold\">28</span>|<span style=\"color: #c0c0c0; text-decoration-color: #c0c0c0; font-weight: bold\">11</span>|<span style=\"color: #ff8700; text-decoration-color: #ff8700; font-weight: bold\">29</span>|<span style=\"color: #ff8700; text-decoration-color: #ff8700; font-weight: bold\">20</span>|<span style=\"color: #ff8700; text-decoration-color: #ff8700; font-weight: bold\">09</span>|<span style=\"color: #ff8700; text-decoration-color: #ff8700; font-weight: bold\">10</span>|<span style=\"color: #ff8700; text-decoration-color: #ff8700; font-weight: bold\">25</span>|<span style=\"color: #c0c0c0; text-decoration-color: #c0c0c0; font-weight: bold\">13</span>| END  -&gt;  <span style=\"color: #008080; text-decoration-color: #008080; font-weight: bold\">-1.000</span>\n",
              "</pre>\n"
            ]
          },
          "metadata": {}
        },
        {
          "output_type": "display_data",
          "data": {
            "text/html": [
              "<html>\n",
              "<head><meta charset=\"utf-8\" /></head>\n",
              "<body>\n",
              "    <div>            <script src=\"https://cdnjs.cloudflare.com/ajax/libs/mathjax/2.7.5/MathJax.js?config=TeX-AMS-MML_SVG\"></script><script type=\"text/javascript\">if (window.MathJax && window.MathJax.Hub && window.MathJax.Hub.Config) {window.MathJax.Hub.Config({SVG: {font: \"STIX-Web\"}});}</script>                <script type=\"text/javascript\">window.PlotlyConfig = {MathJaxConfig: 'local'};</script>\n",
              "        <script charset=\"utf-8\" src=\"https://cdn.plot.ly/plotly-2.24.1.min.js\"></script>                <div id=\"79322e3a-13cf-44a4-9498-062c660f9036\" class=\"plotly-graph-div\" style=\"height:300px; width:500px;\"></div>            <script type=\"text/javascript\">                                    window.PLOTLYENV=window.PLOTLYENV || {};                                    if (document.getElementById(\"79322e3a-13cf-44a4-9498-062c660f9036\")) {                    Plotly.newPlot(                        \"79322e3a-13cf-44a4-9498-062c660f9036\",                        [{\"x\":[\"(0) 31\",\"(1) 13\",\"(2) 30\",\"(3) 18\",\"(4) 17\",\"(5) 25\",\"(6) 23\",\"(7) 11\",\"(8) 24\",\"(9) 9\",\"(10) 1\",\"(11) 17\",\"(12) 9\",\"(13) 28\",\"(14) 11\",\"(15) 29\",\"(16) 20\",\"(17) 9\",\"(18) 10\",\"(19) 25\",\"(20) 13\",\"(21) 32\"],\"y\":[1.1130277925985865e-05,3.2425959943793714e-05,3.216874392819591e-05,4.985604959983903e-07,6.081979154259898e-05,2.3886246935944655e-07,9.012877200120784e-08,2.8121950990112055e-08,9.360315544881814e-08,4.142953358154955e-08,3.0513863435999156e-08,0.028151189908385277,4.252097278367728e-05,0.7794869542121887,3.677385757328011e-05,0.11526801437139511,0.04561140760779381,5.744580448663328e-06,0.031252264976501465,4.594564416038338e-06,2.0122574824199546e-06,9.493163588558673e-07],\"type\":\"bar\"}],                        {\"template\":{\"data\":{\"histogram2dcontour\":[{\"type\":\"histogram2dcontour\",\"colorbar\":{\"outlinewidth\":0,\"ticks\":\"\"},\"colorscale\":[[0.0,\"#0d0887\"],[0.1111111111111111,\"#46039f\"],[0.2222222222222222,\"#7201a8\"],[0.3333333333333333,\"#9c179e\"],[0.4444444444444444,\"#bd3786\"],[0.5555555555555556,\"#d8576b\"],[0.6666666666666666,\"#ed7953\"],[0.7777777777777778,\"#fb9f3a\"],[0.8888888888888888,\"#fdca26\"],[1.0,\"#f0f921\"]]}],\"choropleth\":[{\"type\":\"choropleth\",\"colorbar\":{\"outlinewidth\":0,\"ticks\":\"\"}}],\"histogram2d\":[{\"type\":\"histogram2d\",\"colorbar\":{\"outlinewidth\":0,\"ticks\":\"\"},\"colorscale\":[[0.0,\"#0d0887\"],[0.1111111111111111,\"#46039f\"],[0.2222222222222222,\"#7201a8\"],[0.3333333333333333,\"#9c179e\"],[0.4444444444444444,\"#bd3786\"],[0.5555555555555556,\"#d8576b\"],[0.6666666666666666,\"#ed7953\"],[0.7777777777777778,\"#fb9f3a\"],[0.8888888888888888,\"#fdca26\"],[1.0,\"#f0f921\"]]}],\"heatmap\":[{\"type\":\"heatmap\",\"colorbar\":{\"outlinewidth\":0,\"ticks\":\"\"},\"colorscale\":[[0.0,\"#0d0887\"],[0.1111111111111111,\"#46039f\"],[0.2222222222222222,\"#7201a8\"],[0.3333333333333333,\"#9c179e\"],[0.4444444444444444,\"#bd3786\"],[0.5555555555555556,\"#d8576b\"],[0.6666666666666666,\"#ed7953\"],[0.7777777777777778,\"#fb9f3a\"],[0.8888888888888888,\"#fdca26\"],[1.0,\"#f0f921\"]]}],\"heatmapgl\":[{\"type\":\"heatmapgl\",\"colorbar\":{\"outlinewidth\":0,\"ticks\":\"\"},\"colorscale\":[[0.0,\"#0d0887\"],[0.1111111111111111,\"#46039f\"],[0.2222222222222222,\"#7201a8\"],[0.3333333333333333,\"#9c179e\"],[0.4444444444444444,\"#bd3786\"],[0.5555555555555556,\"#d8576b\"],[0.6666666666666666,\"#ed7953\"],[0.7777777777777778,\"#fb9f3a\"],[0.8888888888888888,\"#fdca26\"],[1.0,\"#f0f921\"]]}],\"contourcarpet\":[{\"type\":\"contourcarpet\",\"colorbar\":{\"outlinewidth\":0,\"ticks\":\"\"}}],\"contour\":[{\"type\":\"contour\",\"colorbar\":{\"outlinewidth\":0,\"ticks\":\"\"},\"colorscale\":[[0.0,\"#0d0887\"],[0.1111111111111111,\"#46039f\"],[0.2222222222222222,\"#7201a8\"],[0.3333333333333333,\"#9c179e\"],[0.4444444444444444,\"#bd3786\"],[0.5555555555555556,\"#d8576b\"],[0.6666666666666666,\"#ed7953\"],[0.7777777777777778,\"#fb9f3a\"],[0.8888888888888888,\"#fdca26\"],[1.0,\"#f0f921\"]]}],\"surface\":[{\"type\":\"surface\",\"colorbar\":{\"outlinewidth\":0,\"ticks\":\"\"},\"colorscale\":[[0.0,\"#0d0887\"],[0.1111111111111111,\"#46039f\"],[0.2222222222222222,\"#7201a8\"],[0.3333333333333333,\"#9c179e\"],[0.4444444444444444,\"#bd3786\"],[0.5555555555555556,\"#d8576b\"],[0.6666666666666666,\"#ed7953\"],[0.7777777777777778,\"#fb9f3a\"],[0.8888888888888888,\"#fdca26\"],[1.0,\"#f0f921\"]]}],\"mesh3d\":[{\"type\":\"mesh3d\",\"colorbar\":{\"outlinewidth\":0,\"ticks\":\"\"}}],\"scatter\":[{\"fillpattern\":{\"fillmode\":\"overlay\",\"size\":10,\"solidity\":0.2},\"type\":\"scatter\"}],\"parcoords\":[{\"type\":\"parcoords\",\"line\":{\"colorbar\":{\"outlinewidth\":0,\"ticks\":\"\"}}}],\"scatterpolargl\":[{\"type\":\"scatterpolargl\",\"marker\":{\"colorbar\":{\"outlinewidth\":0,\"ticks\":\"\"}}}],\"bar\":[{\"error_x\":{\"color\":\"#2a3f5f\"},\"error_y\":{\"color\":\"#2a3f5f\"},\"marker\":{\"line\":{\"color\":\"#E5ECF6\",\"width\":0.5},\"pattern\":{\"fillmode\":\"overlay\",\"size\":10,\"solidity\":0.2}},\"type\":\"bar\"}],\"scattergeo\":[{\"type\":\"scattergeo\",\"marker\":{\"colorbar\":{\"outlinewidth\":0,\"ticks\":\"\"}}}],\"scatterpolar\":[{\"type\":\"scatterpolar\",\"marker\":{\"colorbar\":{\"outlinewidth\":0,\"ticks\":\"\"}}}],\"histogram\":[{\"marker\":{\"pattern\":{\"fillmode\":\"overlay\",\"size\":10,\"solidity\":0.2}},\"type\":\"histogram\"}],\"scattergl\":[{\"type\":\"scattergl\",\"marker\":{\"colorbar\":{\"outlinewidth\":0,\"ticks\":\"\"}}}],\"scatter3d\":[{\"type\":\"scatter3d\",\"line\":{\"colorbar\":{\"outlinewidth\":0,\"ticks\":\"\"}},\"marker\":{\"colorbar\":{\"outlinewidth\":0,\"ticks\":\"\"}}}],\"scattermapbox\":[{\"type\":\"scattermapbox\",\"marker\":{\"colorbar\":{\"outlinewidth\":0,\"ticks\":\"\"}}}],\"scatterternary\":[{\"type\":\"scatterternary\",\"marker\":{\"colorbar\":{\"outlinewidth\":0,\"ticks\":\"\"}}}],\"scattercarpet\":[{\"type\":\"scattercarpet\",\"marker\":{\"colorbar\":{\"outlinewidth\":0,\"ticks\":\"\"}}}],\"carpet\":[{\"aaxis\":{\"endlinecolor\":\"#2a3f5f\",\"gridcolor\":\"white\",\"linecolor\":\"white\",\"minorgridcolor\":\"white\",\"startlinecolor\":\"#2a3f5f\"},\"baxis\":{\"endlinecolor\":\"#2a3f5f\",\"gridcolor\":\"white\",\"linecolor\":\"white\",\"minorgridcolor\":\"white\",\"startlinecolor\":\"#2a3f5f\"},\"type\":\"carpet\"}],\"table\":[{\"cells\":{\"fill\":{\"color\":\"#EBF0F8\"},\"line\":{\"color\":\"white\"}},\"header\":{\"fill\":{\"color\":\"#C8D4E3\"},\"line\":{\"color\":\"white\"}},\"type\":\"table\"}],\"barpolar\":[{\"marker\":{\"line\":{\"color\":\"#E5ECF6\",\"width\":0.5},\"pattern\":{\"fillmode\":\"overlay\",\"size\":10,\"solidity\":0.2}},\"type\":\"barpolar\"}],\"pie\":[{\"automargin\":true,\"type\":\"pie\"}]},\"layout\":{\"autotypenumbers\":\"strict\",\"colorway\":[\"#636efa\",\"#EF553B\",\"#00cc96\",\"#ab63fa\",\"#FFA15A\",\"#19d3f3\",\"#FF6692\",\"#B6E880\",\"#FF97FF\",\"#FECB52\"],\"font\":{\"color\":\"#2a3f5f\"},\"hovermode\":\"closest\",\"hoverlabel\":{\"align\":\"left\"},\"paper_bgcolor\":\"white\",\"plot_bgcolor\":\"#E5ECF6\",\"polar\":{\"bgcolor\":\"#E5ECF6\",\"angularaxis\":{\"gridcolor\":\"white\",\"linecolor\":\"white\",\"ticks\":\"\"},\"radialaxis\":{\"gridcolor\":\"white\",\"linecolor\":\"white\",\"ticks\":\"\"}},\"ternary\":{\"bgcolor\":\"#E5ECF6\",\"aaxis\":{\"gridcolor\":\"white\",\"linecolor\":\"white\",\"ticks\":\"\"},\"baxis\":{\"gridcolor\":\"white\",\"linecolor\":\"white\",\"ticks\":\"\"},\"caxis\":{\"gridcolor\":\"white\",\"linecolor\":\"white\",\"ticks\":\"\"}},\"coloraxis\":{\"colorbar\":{\"outlinewidth\":0,\"ticks\":\"\"}},\"colorscale\":{\"sequential\":[[0.0,\"#0d0887\"],[0.1111111111111111,\"#46039f\"],[0.2222222222222222,\"#7201a8\"],[0.3333333333333333,\"#9c179e\"],[0.4444444444444444,\"#bd3786\"],[0.5555555555555556,\"#d8576b\"],[0.6666666666666666,\"#ed7953\"],[0.7777777777777778,\"#fb9f3a\"],[0.8888888888888888,\"#fdca26\"],[1.0,\"#f0f921\"]],\"sequentialminus\":[[0.0,\"#0d0887\"],[0.1111111111111111,\"#46039f\"],[0.2222222222222222,\"#7201a8\"],[0.3333333333333333,\"#9c179e\"],[0.4444444444444444,\"#bd3786\"],[0.5555555555555556,\"#d8576b\"],[0.6666666666666666,\"#ed7953\"],[0.7777777777777778,\"#fb9f3a\"],[0.8888888888888888,\"#fdca26\"],[1.0,\"#f0f921\"]],\"diverging\":[[0,\"#8e0152\"],[0.1,\"#c51b7d\"],[0.2,\"#de77ae\"],[0.3,\"#f1b6da\"],[0.4,\"#fde0ef\"],[0.5,\"#f7f7f7\"],[0.6,\"#e6f5d0\"],[0.7,\"#b8e186\"],[0.8,\"#7fbc41\"],[0.9,\"#4d9221\"],[1,\"#276419\"]]},\"xaxis\":{\"gridcolor\":\"white\",\"linecolor\":\"white\",\"ticks\":\"\",\"title\":{\"standoff\":15},\"zerolinecolor\":\"white\",\"automargin\":true,\"zerolinewidth\":2},\"yaxis\":{\"gridcolor\":\"white\",\"linecolor\":\"white\",\"ticks\":\"\",\"title\":{\"standoff\":15},\"zerolinecolor\":\"white\",\"automargin\":true,\"zerolinewidth\":2},\"scene\":{\"xaxis\":{\"backgroundcolor\":\"#E5ECF6\",\"gridcolor\":\"white\",\"linecolor\":\"white\",\"showbackground\":true,\"ticks\":\"\",\"zerolinecolor\":\"white\",\"gridwidth\":2},\"yaxis\":{\"backgroundcolor\":\"#E5ECF6\",\"gridcolor\":\"white\",\"linecolor\":\"white\",\"showbackground\":true,\"ticks\":\"\",\"zerolinecolor\":\"white\",\"gridwidth\":2},\"zaxis\":{\"backgroundcolor\":\"#E5ECF6\",\"gridcolor\":\"white\",\"linecolor\":\"white\",\"showbackground\":true,\"ticks\":\"\",\"zerolinecolor\":\"white\",\"gridwidth\":2}},\"shapedefaults\":{\"line\":{\"color\":\"#2a3f5f\"}},\"annotationdefaults\":{\"arrowcolor\":\"#2a3f5f\",\"arrowhead\":0,\"arrowwidth\":1},\"geo\":{\"bgcolor\":\"white\",\"landcolor\":\"#E5ECF6\",\"subunitcolor\":\"white\",\"showland\":true,\"showlakes\":true,\"lakecolor\":\"white\"},\"title\":{\"x\":0.05},\"mapbox\":{\"style\":\"light\"}}},\"title\":{\"text\":\"Attention scores from last position\"},\"xaxis\":{\"title\":{\"text\":\"Target position\"}},\"yaxis\":{\"title\":{\"text\":\"Attention score\"}},\"autosize\":false,\"width\":500,\"height\":300},                        {\"responsive\": true}                    ).then(function(){\n",
              "                            \n",
              "var gd = document.getElementById('79322e3a-13cf-44a4-9498-062c660f9036');\n",
              "var x = new MutationObserver(function (mutations, observer) {{\n",
              "        var display = window.getComputedStyle(gd).display;\n",
              "        if (!display || display === 'none') {{\n",
              "            console.log([gd, 'removed!']);\n",
              "            Plotly.purge(gd);\n",
              "            observer.disconnect();\n",
              "        }}\n",
              "}});\n",
              "\n",
              "// Listen for the removal of the full notebook cells\n",
              "var notebookContainer = gd.closest('#notebook-container');\n",
              "if (notebookContainer) {{\n",
              "    x.observe(notebookContainer, {childList: true});\n",
              "}}\n",
              "\n",
              "// Listen for the clearing of the current output cell\n",
              "var outputEl = gd.closest('.output');\n",
              "if (outputEl) {{\n",
              "    x.observe(outputEl, {childList: true});\n",
              "}}\n",
              "\n",
              "                        })                };                            </script>        </div>\n",
              "</body>\n",
              "</html>"
            ]
          },
          "metadata": {}
        },
        {
          "output_type": "display_data",
          "data": {
            "text/plain": [
              "<circuitsvis.utils.render.RenderedHTML at 0x7afdd15bed10>"
            ],
            "text/html": [
              "<div id=\"circuits-vis-2f453371-ccd1\" style=\"margin: 15px 0;\"/>\n",
              "    <script crossorigin type=\"module\">\n",
              "    import { render, AttentionPatterns } from \"https://unpkg.com/circuitsvis@1.41.0/dist/cdn/esm.js\";\n",
              "    render(\n",
              "      \"circuits-vis-2f453371-ccd1\",\n",
              "      AttentionPatterns,\n",
              "      {\"tokens\": [\"31\", \"13\", \"30\", \"18\", \"17\", \"25\", \"23\", \"11\", \"24\", \"9\", \"1\", \"17\", \"9\", \"28\", \"11\", \"29\", \"20\", \"9\", \"10\", \"25\", \"13\", \"32\"], \"attention\": [[[1.0, 0.0, 0.0, 0.0, 0.0, 0.0, 0.0, 0.0, 0.0, 0.0, 0.0, 0.0, 0.0, 0.0, 0.0, 0.0, 0.0, 0.0, 0.0, 0.0, 0.0, 0.0], [0.3942424952983856, 0.605757474899292, 0.0, 0.0, 0.0, 0.0, 0.0, 0.0, 0.0, 0.0, 0.0, 0.0, 0.0, 0.0, 0.0, 0.0, 0.0, 0.0, 0.0, 0.0, 0.0, 0.0], [0.24523138999938965, 0.3954521715641022, 0.35931649804115295, 0.0, 0.0, 0.0, 0.0, 0.0, 0.0, 0.0, 0.0, 0.0, 0.0, 0.0, 0.0, 0.0, 0.0, 0.0, 0.0, 0.0, 0.0, 0.0], [0.20181868970394135, 0.28111883997917175, 0.41382870078086853, 0.10323379933834076, 0.0, 0.0, 0.0, 0.0, 0.0, 0.0, 0.0, 0.0, 0.0, 0.0, 0.0, 0.0, 0.0, 0.0, 0.0, 0.0, 0.0, 0.0], [0.12459290772676468, 0.3525412976741791, 0.1494584083557129, 0.008720389567315578, 0.36468708515167236, 0.0, 0.0, 0.0, 0.0, 0.0, 0.0, 0.0, 0.0, 0.0, 0.0, 0.0, 0.0, 0.0, 0.0, 0.0, 0.0, 0.0], [0.15636692941188812, 0.34290969371795654, 0.2555620074272156, 0.019299136474728584, 0.19761955738067627, 0.02824266068637371, 0.0, 0.0, 0.0, 0.0, 0.0, 0.0, 0.0, 0.0, 0.0, 0.0, 0.0, 0.0, 0.0, 0.0, 0.0, 0.0], [0.15893113613128662, 0.21064428985118866, 0.30141475796699524, 0.05625903978943825, 0.12455016374588013, 0.05168562009930611, 0.09651492536067963, 0.0, 0.0, 0.0, 0.0, 0.0, 0.0, 0.0, 0.0, 0.0, 0.0, 0.0, 0.0, 0.0, 0.0, 0.0], [0.12145622074604034, 0.14874745905399323, 0.1381044238805771, 0.12490880489349365, 0.12357974052429199, 0.10710409283638, 0.12161332368850708, 0.1144859790802002, 0.0, 0.0, 0.0, 0.0, 0.0, 0.0, 0.0, 0.0, 0.0, 0.0, 0.0, 0.0, 0.0, 0.0], [0.12640997767448425, 0.10225430130958557, 0.12032287567853928, 0.09064861387014389, 0.06395400315523148, 0.09113340079784393, 0.13615132868289948, 0.1418554037809372, 0.12727011740207672, 0.0, 0.0, 0.0, 0.0, 0.0, 0.0, 0.0, 0.0, 0.0, 0.0, 0.0, 0.0, 0.0], [0.10662560909986496, 0.1813696324825287, 0.267366886138916, 0.0615047924220562, 0.1445864588022232, 0.04901333153247833, 0.05126495286822319, 0.03506754711270332, 0.05686657130718231, 0.046334169805049896, 0.0, 0.0, 0.0, 0.0, 0.0, 0.0, 0.0, 0.0, 0.0, 0.0, 0.0, 0.0], [0.12397129833698273, 0.24766092002391815, 0.2544509768486023, 0.032629065215587616, 0.17403270304203033, 0.0447424054145813, 0.03743334859609604, 0.0190235897898674, 0.026962850242853165, 0.022832507267594337, 0.016260284930467606, 0.0, 0.0, 0.0, 0.0, 0.0, 0.0, 0.0, 0.0, 0.0, 0.0, 0.0], [0.05832048878073692, 0.03822503983974457, 0.03248066455125809, 0.013519078493118286, 0.1388542652130127, 0.012451131828129292, 0.0040629408322274685, 0.0037892248947173357, 0.005100748967379332, 0.004167886916548014, 0.008422885090112686, 0.6806057095527649, 0.0, 0.0, 0.0, 0.0, 0.0, 0.0, 0.0, 0.0, 0.0, 0.0], [0.05551593005657196, 0.07409629225730896, 0.09170953184366226, 0.04092851281166077, 0.07164239138364792, 0.0350712388753891, 0.03188461437821388, 0.02131500653922558, 0.03210007771849632, 0.029973752796649933, 0.02713209018111229, 0.35174858570098877, 0.13688193261623383, 0.0, 0.0, 0.0, 0.0, 0.0, 0.0, 0.0, 0.0, 0.0], [0.11551634222269058, 0.05946491286158562, 0.0507572740316391, 0.07607658207416534, 0.15944243967533112, 0.06788265705108643, 0.047573745250701904, 0.058845072984695435, 0.06660973280668259, 0.04231494292616844, 0.090189129114151, 0.10612617433071136, 0.022407034412026405, 0.036793969571590424, 0.0, 0.0, 0.0, 0.0, 0.0, 0.0, 0.0, 0.0], [0.06255007535219193, 0.04982522130012512, 0.04228056222200394, 0.0685366690158844, 0.08049964904785156, 0.05042639374732971, 0.04623594507575035, 0.0510445162653923, 0.07898057997226715, 0.04076477512717247, 0.0620817169547081, 0.1495589166879654, 0.048605769872665405, 0.08719272166490555, 0.08141651004552841, 0.0, 0.0, 0.0, 0.0, 0.0, 0.0, 0.0], [0.07323922216892242, 0.04983842372894287, 0.023528119549155235, 0.053220540285110474, 0.08074904978275299, 0.11123891919851303, 0.09835629910230637, 0.10600557923316956, 0.11361601948738098, 0.053633786737918854, 0.17575441300868988, 0.017585715278983116, 0.008930561132729053, 0.0042967586778104305, 0.02282196469604969, 0.007184620480984449, 0.0, 0.0, 0.0, 0.0, 0.0, 0.0], [0.08098332583904266, 0.055301815271377563, 0.03787920996546745, 0.052648574113845825, 0.09966392815113068, 0.0661553293466568, 0.051320064812898636, 0.04360860958695412, 0.054558027535676956, 0.036655522882938385, 0.08478579670190811, 0.11637523025274277, 0.030488939955830574, 0.0593302883207798, 0.041590526700019836, 0.04559115320444107, 0.043063633143901825, 0.0, 0.0, 0.0, 0.0, 0.0], [0.0024175774306058884, 0.0038830889388918877, 0.005890795029699802, 0.0010296140098944306, 0.0044903079979121685, 0.0006028978386893868, 0.0005588412168435752, 0.0003359499969519675, 0.0007328378269448876, 0.0004477101902011782, 0.0003048346552532166, 0.10042531043291092, 0.009132149629294872, 0.5147776007652283, 0.006957206409424543, 0.20426873862743378, 0.14111444354057312, 0.0026300617028027773, 0.0, 0.0, 0.0, 0.0], [0.06673227995634079, 0.021857794374227524, 0.032509732991456985, 0.1151680275797844, 0.08923153579235077, 0.07988614588975906, 0.07223734259605408, 0.09860385209321976, 0.09137006103992462, 0.07245011627674103, 0.14996525645256042, 0.017080193385481834, 0.012696861289441586, 0.005416401661932468, 0.020390594378113747, 0.008526846766471863, 0.009822980500757694, 0.028778135776519775, 0.007275846786797047, 0.0, 0.0, 0.0], [0.002308374270796776, 0.002309990581125021, 0.004748393781483173, 0.0003696455096360296, 0.005458350758999586, 0.0003614123852457851, 0.00014822946104686707, 8.897733641788363e-05, 0.00011221785098314285, 0.00014436629135161638, 0.00011829936556750908, 0.08125025033950806, 0.004582728259265423, 0.34536948800086975, 0.0033401604741811752, 0.2932615876197815, 0.20479801297187805, 0.0018458982231095433, 0.04839169234037399, 0.0009919211734086275, 0.0, 0.0], [0.012883668765425682, 0.02038680575788021, 0.025474296882748604, 0.012173529714345932, 0.01665433868765831, 0.008258272893726826, 0.009494575671851635, 0.004555033519864082, 0.0058423178270459175, 0.0071445307694375515, 0.005029186140745878, 0.05657251551747322, 0.03596736863255501, 0.23914560675621033, 0.016280148178339005, 0.1258363276720047, 0.12078645080327988, 0.016635693609714508, 0.22142009437084198, 0.015760445967316628, 0.023698806762695312, 0.0], [1.1130277925985865e-05, 3.2425959943793714e-05, 3.216874392819591e-05, 4.985604959983903e-07, 6.081979154259898e-05, 2.3886246935944655e-07, 9.012877200120784e-08, 2.8121950990112055e-08, 9.360315544881814e-08, 4.142953358154955e-08, 3.0513863435999156e-08, 0.028151189908385277, 4.252097278367728e-05, 0.7794869542121887, 3.677385757328011e-05, 0.11526801437139511, 0.04561140760779381, 5.744580448663328e-06, 0.031252264976501465, 4.594564416038338e-06, 2.0122574824199546e-06, 9.493163588558673e-07]], [[1.0, 0.0, 0.0, 0.0, 0.0, 0.0, 0.0, 0.0, 0.0, 0.0, 0.0, 0.0, 0.0, 0.0, 0.0, 0.0, 0.0, 0.0, 0.0, 0.0, 0.0, 0.0], [0.5463204383850098, 0.4536795914173126, 0.0, 0.0, 0.0, 0.0, 0.0, 0.0, 0.0, 0.0, 0.0, 0.0, 0.0, 0.0, 0.0, 0.0, 0.0, 0.0, 0.0, 0.0, 0.0, 0.0], [0.41851359605789185, 0.29469722509384155, 0.286789208650589, 0.0, 0.0, 0.0, 0.0, 0.0, 0.0, 0.0, 0.0, 0.0, 0.0, 0.0, 0.0, 0.0, 0.0, 0.0, 0.0, 0.0, 0.0, 0.0], [0.40813446044921875, 0.18916897475719452, 0.11300317198038101, 0.2896934747695923, 0.0, 0.0, 0.0, 0.0, 0.0, 0.0, 0.0, 0.0, 0.0, 0.0, 0.0, 0.0, 0.0, 0.0, 0.0, 0.0, 0.0, 0.0], [0.22652846574783325, 0.1426936388015747, 0.06845783442258835, 0.30810555815696716, 0.25421449542045593, 0.0, 0.0, 0.0, 0.0, 0.0, 0.0, 0.0, 0.0, 0.0, 0.0, 0.0, 0.0, 0.0, 0.0, 0.0, 0.0, 0.0], [0.16650937497615814, 0.1472724825143814, 0.07800467312335968, 0.18085841834545135, 0.14499041438102722, 0.2823646366596222, 0.0, 0.0, 0.0, 0.0, 0.0, 0.0, 0.0, 0.0, 0.0, 0.0, 0.0, 0.0, 0.0, 0.0, 0.0, 0.0], [0.14752472937107086, 0.09713326394557953, 0.05650424212217331, 0.11165186762809753, 0.132860004901886, 0.16239865124225616, 0.2919272482395172, 0.0, 0.0, 0.0, 0.0, 0.0, 0.0, 0.0, 0.0, 0.0, 0.0, 0.0, 0.0, 0.0, 0.0, 0.0], [0.10646972805261612, 0.05325566977262497, 0.03168145939707756, 0.041481226682662964, 0.198080375790596, 0.1863275021314621, 0.239091157913208, 0.14361296594142914, 0.0, 0.0, 0.0, 0.0, 0.0, 0.0, 0.0, 0.0, 0.0, 0.0, 0.0, 0.0, 0.0, 0.0], [0.1162421703338623, 0.08379632979631424, 0.06538563966751099, 0.07850093394517899, 0.15358173847198486, 0.11733214557170868, 0.13073593378067017, 0.10765135288238525, 0.1467737853527069, 0.0, 0.0, 0.0, 0.0, 0.0, 0.0, 0.0, 0.0, 0.0, 0.0, 0.0, 0.0, 0.0], [0.0780099481344223, 0.044365547597408295, 0.025359153747558594, 0.040963318198919296, 0.06978227198123932, 0.11013518273830414, 0.2034277617931366, 0.1739789992570877, 0.1637510508298874, 0.09022674709558487, 0.0, 0.0, 0.0, 0.0, 0.0, 0.0, 0.0, 0.0, 0.0, 0.0, 0.0, 0.0], [0.056005459278821945, 0.04807937145233154, 0.022064870223402977, 0.03784562647342682, 0.06517064571380615, 0.11941922456026077, 0.15110836923122406, 0.1253967583179474, 0.11295013129711151, 0.07618377357721329, 0.1857757866382599, 0.0, 0.0, 0.0, 0.0, 0.0, 0.0, 0.0, 0.0, 0.0, 0.0, 0.0], [0.04478827863931656, 0.03342745080590248, 0.024802010506391525, 0.06411924958229065, 0.06933455914258957, 0.08621829748153687, 0.1078823059797287, 0.20078444480895996, 0.10462760925292969, 0.10611439496278763, 0.13007666170597076, 0.027824755758047104, 0.0, 0.0, 0.0, 0.0, 0.0, 0.0, 0.0, 0.0, 0.0, 0.0], [0.06883213669061661, 0.04434073716402054, 0.03682093694806099, 0.05822724476456642, 0.052235011011362076, 0.06667371094226837, 0.13161174952983856, 0.16569718718528748, 0.12735868990421295, 0.09114373475313187, 0.08171242475509644, 0.02400483377277851, 0.051341623067855835, 0.0, 0.0, 0.0, 0.0, 0.0, 0.0, 0.0, 0.0, 0.0], [0.06600404530763626, 0.06635306030511856, 0.10076472908258438, 0.12481294572353363, 0.05961371585726738, 0.044320084154605865, 0.05468575656414032, 0.10628987103700638, 0.07672867923974991, 0.08131163567304611, 0.042846549302339554, 0.06871360540390015, 0.05993790179491043, 0.04761746525764465, 0.0, 0.0, 0.0, 0.0, 0.0, 0.0, 0.0, 0.0], [0.050039228051900864, 0.024328967556357384, 0.019441640004515648, 0.029248805716633797, 0.08290708065032959, 0.07127171009778976, 0.10658057034015656, 0.0918877050280571, 0.11916949599981308, 0.03939592093229294, 0.08787868171930313, 0.06381361186504364, 0.04322277754545212, 0.06108764186501503, 0.1097262054681778, 0.0, 0.0, 0.0, 0.0, 0.0, 0.0, 0.0], [0.06062284857034683, 0.0938999280333519, 0.21139413118362427, 0.12308987975120544, 0.04568714648485184, 0.02678856998682022, 0.02608480118215084, 0.028157668188214302, 0.03408259525895119, 0.04090471565723419, 0.017476698383688927, 0.09594713896512985, 0.038429144769907, 0.08150967210531235, 0.03586062043905258, 0.04006450995802879, 0.0, 0.0, 0.0, 0.0, 0.0, 0.0], [0.06270932406187057, 0.05478290468454361, 0.09718913584947586, 0.09642229974269867, 0.05980867147445679, 0.038779713213443756, 0.053090743720531464, 0.07145680487155914, 0.06163816899061203, 0.0687420517206192, 0.03313838317990303, 0.04897908866405487, 0.05248941108584404, 0.047041554003953934, 0.06338082998991013, 0.035337865352630615, 0.05501307547092438, 0.0, 0.0, 0.0, 0.0, 0.0], [0.05652514100074768, 0.02979283593595028, 0.02637169137597084, 0.04434860497713089, 0.036363158375024796, 0.055625881999731064, 0.13083258271217346, 0.12538616359233856, 0.1118895560503006, 0.07490409910678864, 0.06678151339292526, 0.014368338510394096, 0.04035002738237381, 0.019923437386751175, 0.06823640316724777, 0.024892322719097137, 0.03289474919438362, 0.04051348567008972, 0.0, 0.0, 0.0, 0.0], [0.04373234137892723, 0.048653293401002884, 0.07559724152088165, 0.0827844887971878, 0.06565967947244644, 0.03638684004545212, 0.029404092580080032, 0.0584900937974453, 0.03748318552970886, 0.05836171656847, 0.03236711770296097, 0.06878775358200073, 0.06004176288843155, 0.043686944991350174, 0.06633605808019638, 0.03044661320745945, 0.04279406741261482, 0.06713718175888062, 0.0518496036529541, 0.0, 0.0, 0.0], [0.03933343663811684, 0.04048962518572807, 0.020433051511645317, 0.0526236928999424, 0.031876709312200546, 0.06292670965194702, 0.07811080664396286, 0.1371687352657318, 0.06838951259851456, 0.09345251321792603, 0.10596420615911484, 0.01181038748472929, 0.04519066959619522, 0.014402994886040688, 0.0544162392616272, 0.022141290828585625, 0.026248879730701447, 0.03319467604160309, 0.03266633674502373, 0.029159514233469963, 0.0, 0.0], [0.05640560761094093, 0.07701776921749115, 0.1189325824379921, 0.07791253924369812, 0.020821643993258476, 0.03013741225004196, 0.03935099020600319, 0.03487281873822212, 0.025837749242782593, 0.07778165489435196, 0.023015594109892845, 0.01908988133072853, 0.057386986911296844, 0.027940627187490463, 0.024475041776895523, 0.021261081099510193, 0.051572058349847794, 0.09265515953302383, 0.027165371924638748, 0.0236296858638525, 0.07273773103952408, 0.0], [0.015059958212077618, 0.01161806471645832, 0.004514463245868683, 0.0321151427924633, 0.0113749448210001, 0.04385579377412796, 0.06581763178110123, 0.1235039010643959, 0.055742211639881134, 0.07295501977205276, 0.10267850011587143, 0.0012895135441794991, 0.014224962331354618, 0.0013560190564021468, 0.015071556903421879, 0.0027262032963335514, 0.004468598868697882, 0.013125915080308914, 0.007891182787716389, 0.011465562507510185, 0.3595477342605591, 0.029597166925668716]]]}\n",
              "    )\n",
              "    </script>"
            ]
          },
          "metadata": {}
        }
      ]
    },
    {
      "cell_type": "markdown",
      "source": [
        "Observations from the above graphs:\n",
        "- For palindromes, the attention pattern is approximately diffuse across many tokens.\n",
        "- For non-palindromes, the attention pattern is sharply concentrated on the tokens which cause the string not to be a palindrome.\n",
        "\n",
        "This suggests there is something going on with the QK circuit in H1.0 that causes it to attend to token positions in the second half that violate the palindrome condition.\n",
        "\n",
        "Since we suspect that H0.0 interacts with H1.0 through K-composition, the following is a hypothesized mechanism:\n",
        "- H0.0's value indicates whether a position breaks the palindromic property.\n",
        "- H0.0's value is used as a key in H1.0.\n",
        "- H1.0 queries for positions where the palindromic property is broken."
      ],
      "metadata": {
        "id": "Sx7eM-OB6JYz"
      }
    },
    {
      "cell_type": "markdown",
      "source": [
        "### H1.0's queries\n",
        "\n",
        "Let's examine H1.0's queries.\n",
        "\n",
        "First we will perform mean and zero ablations on H1.0's query activations to get a sense of what's going on."
      ],
      "metadata": {
        "id": "W-rVfo65mj4-"
      }
    },
    {
      "cell_type": "code",
      "source": [
        "def get_loss(logits, is_palindrome):\n",
        "    last_logits = logits[:, -1, :]\n",
        "    loss = t.nn.functional.cross_entropy(last_logits, is_palindrome.to(device))\n",
        "    return loss.item()"
      ],
      "metadata": {
        "id": "FJqOrEkXxruW"
      },
      "execution_count": 23,
      "outputs": []
    },
    {
      "cell_type": "code",
      "source": [
        "\n",
        "\n",
        "layer_to_ablate = 1\n",
        "head_to_ablate  = 0\n",
        "activations_to_ablate = 'q'\n",
        "\n",
        "def qkv_zero_ablation_hook(\n",
        "    qkv: Float[Tensor, \"batch seq n_heads d_model\"],\n",
        "    hook: HookPoint,\n",
        ") -> Float[Tensor, \"batch seq n_heads d_model\"]:\n",
        "    '''Zero-ablates a q, k, or v activation'''\n",
        "    if (hook.layer() == layer_to_ablate):\n",
        "        qkv[:,:,head_to_ablate,:] = 0\n",
        "    return qkv\n",
        "\n",
        "def qkv_mean_ablation_hook(\n",
        "    qkorv: Float[Tensor, \"batch seq n_heads d_model\"],\n",
        "    hook: HookPoint,\n",
        ") -> Float[Tensor, \"batch seq n_heads d_model\"]:\n",
        "    '''Mean-ablates a q, k, or v activation'''\n",
        "    if (hook.layer() == layer_to_ablate):\n",
        "        qkorv[:,:,head_to_ablate] = qkorv[:,:,head_to_ablate,:].mean(dim=0, keepdim=True)\n",
        "    return qkorv\n",
        "\n",
        "toks, is_palindrome = dataset[0:100]\n",
        "\n",
        "model.reset_hooks()\n",
        "logits_no_ablation = model(toks, return_type=\"logits\")\n",
        "loss_no_ablation = get_loss(logits_no_ablation, is_palindrome)\n",
        "for type, hook in zip(['mean', 'zero'], [qkv_mean_ablation_hook, qkv_zero_ablation_hook]):\n",
        "    ablated_logits = model.run_with_hooks(\n",
        "        toks,\n",
        "        return_type=\"logits\",\n",
        "        fwd_hooks=[(utils.get_act_name(activations_to_ablate, layer_to_ablate), hook)]\n",
        "    )\n",
        "    ablated_loss = get_loss(ablated_logits, is_palindrome) - loss_no_ablation\n",
        "    print(f\"loss diff {type} ablating {activations_to_ablate} in h{layer}.{head_to_ablate}: {ablated_loss}\")"
      ],
      "metadata": {
        "colab": {
          "base_uri": "https://localhost:8080/"
        },
        "id": "sRjYcDBHmuPp",
        "outputId": "bb058669-4b7b-4e75-e7f1-fdd2388798bb"
      },
      "execution_count": 24,
      "outputs": [
        {
          "output_type": "stream",
          "name": "stdout",
          "text": [
            "loss diff mean ablating q in h0.0: 0.0004616358783096075\n",
            "loss diff zero ablating q in h0.0: 2.4908793556969613\n"
          ]
        }
      ]
    },
    {
      "cell_type": "markdown",
      "source": [
        "We can deduce that\n",
        "\n",
        "1. H1.0's q values are important, since ablating them elevates loss.\n",
        "2. H1.0's q values are roughly the same for every input, since mean ablating them did not impact the loss.\n",
        "\n",
        "Therefore, we can actually simply look at the mean q and extract it."
      ],
      "metadata": {
        "id": "2mwlZQAhn9N2"
      }
    },
    {
      "cell_type": "code",
      "source": [
        "toks, is_palindrome = dataset[0:100]\n",
        "\n",
        "model.reset_hooks()\n",
        "logits, cache = model.run_with_cache(toks, return_type=\"logits\")\n",
        "\n",
        "q_h_1_0 = cache[\"q\", 1][:, :, 0, :]\n",
        "q_avg_h_1_0 = q_h_1_0.mean(0)\n",
        "\n",
        "# we only care about the query in the last position\n",
        "q_h_1_0_direction = q_avg_h_1_0[-1]"
      ],
      "metadata": {
        "id": "6b9FHpCUotMu"
      },
      "execution_count": 25,
      "outputs": []
    },
    {
      "cell_type": "markdown",
      "source": [
        "### K-composition circuit\n",
        "\n",
        "H0.0's OV circuit interacts with H1.0's QK circuit in K-composition.\n",
        "\n",
        "The circuit can be written as follows:\n",
        "\n",
        "$$\\begin{align}\n",
        "\\text{attn between pos -1 and pos i} &= -1^T W_{pos} W_{QK}^{1.0} (W_{OV}^{0.0})^T W_{pos}^T i\\\\\n",
        "&= -1^T W_{pos} W_Q^{1.0} (W_K^{1.0})^T (W_O^{0.0})^T (W_{V}^{0.0})^T W_{pos}^T i\\\\\n",
        "&= (-1^T W_{pos} W_Q^{1.0} )(i^T W_{pos} W_{OV}^{0.0}W_K^{1.0})^T\n",
        "\\end{align}$$\n",
        "\n",
        "where $-1$ and $i$ are one-hot column vectors encoding positions $-1$ and $i$ respectively. Note that the left expression in parentheses is a constant vector - that's the mean query direction we found above `q_h_1_0_direction`!\n",
        "\n",
        "The expression $W_{pos} W_{QK}^{1.0} (W_{OV}^{0.0})^T W_{pos}^T$ is a `seq_len x seq_len` matrix that maps positions (on the left) to the positions they attend to (on the right). When the input on the left is $-1$, we get a vector where the $i^{th}$ entry is the attention paid from $-1$ to the $i^{th}$ position."
      ],
      "metadata": {
        "id": "XqYTDli41lpq"
      }
    },
    {
      "cell_type": "code",
      "source": [
        "W_pos = model.W_pos\n",
        "W_E = model.W_E\n",
        "W_O_0_0 = model.W_O[0,0]\n",
        "W_V_0_0 = model.W_V[0,0]\n",
        "\n",
        "W_Q_1_0 = model.W_Q[1,0]\n",
        "W_K_1_0 = model.W_K[1,0]\n",
        "\n",
        "full_K_comp_circuit = W_pos[-1].unsqueeze(0) @ W_Q_1_0 @ W_K_1_0.T @ (W_V_0_0 @ W_O_0_0).T @ W_pos.T\n",
        "full_K_comp_circuit = full_K_comp_circuit.view(-1, 1)\n",
        "fig = px.imshow(\n",
        "    full_K_comp_circuit.T.cpu().detach().numpy(),\n",
        "    color_continuous_scale='RdBu',\n",
        "    color_continuous_midpoint=0.0,\n",
        "    title='K-composition circuit between H0.0 OV & H1.0 QK',\n",
        "    height=500, width=800)\n",
        "fig.update_yaxes(showticklabels=False)\n",
        "tickvals = list(range(full_K_comp_circuit.shape[0]))\n",
        "ticktext = [str(i) for i in tickvals]\n",
        "fig.update_xaxes(tickvals=tickvals, ticktext=ticktext)\n",
        "fig.show()\n",
        "\n",
        "fig = go.Figure(data=go.Scatter(x=list(range(0, 22)), y=full_K_comp_circuit.view(-1).cpu().detach().numpy(), mode='markers', marker=dict(color=['orange'] + ['red']*10 + ['blue']*10 + ['orange'])))\n",
        "fig.update_layout(title='K-composition circuit between H0.0 OV & H1.0 QK', xaxis_title='Target position', yaxis_title='H1.0 attention attribution', height=400, width=800)\n",
        "fig.add_shape(type='line', x0=0, y0=0, x1=22, y1=0, line=dict(color='Black'))\n",
        "fig.show()"
      ],
      "metadata": {
        "colab": {
          "base_uri": "https://localhost:8080/",
          "height": 917
        },
        "id": "XY--h7BK1aHq",
        "outputId": "d1afcf02-2047-4d9c-e7f0-3117de10a70f"
      },
      "execution_count": 26,
      "outputs": [
        {
          "output_type": "display_data",
          "data": {
            "text/html": [
              "<html>\n",
              "<head><meta charset=\"utf-8\" /></head>\n",
              "<body>\n",
              "    <div>            <script src=\"https://cdnjs.cloudflare.com/ajax/libs/mathjax/2.7.5/MathJax.js?config=TeX-AMS-MML_SVG\"></script><script type=\"text/javascript\">if (window.MathJax && window.MathJax.Hub && window.MathJax.Hub.Config) {window.MathJax.Hub.Config({SVG: {font: \"STIX-Web\"}});}</script>                <script type=\"text/javascript\">window.PlotlyConfig = {MathJaxConfig: 'local'};</script>\n",
              "        <script charset=\"utf-8\" src=\"https://cdn.plot.ly/plotly-2.24.1.min.js\"></script>                <div id=\"8237fd90-0b59-4145-8ed1-57f5e163d765\" class=\"plotly-graph-div\" style=\"height:500px; width:800px;\"></div>            <script type=\"text/javascript\">                                    window.PLOTLYENV=window.PLOTLYENV || {};                                    if (document.getElementById(\"8237fd90-0b59-4145-8ed1-57f5e163d765\")) {                    Plotly.newPlot(                        \"8237fd90-0b59-4145-8ed1-57f5e163d765\",                        [{\"coloraxis\":\"coloraxis\",\"name\":\"0\",\"z\":[[-0.033177852630615234,-0.0020864880643785,0.025839267298579216,-0.08467494696378708,0.029617495834827423,-0.0731511041522026,-0.06117275729775429,-0.10098420083522797,-0.06051996350288391,-0.07417061179876328,-0.09742095321416855,0.15115498006343842,0.15443351864814758,0.2575310468673706,0.18440453708171844,0.18392029404640198,0.17877686023712158,-0.012727709487080574,0.16100606322288513,-0.05687934160232544,-0.17080062627792358,-0.020810935646295547]],\"type\":\"heatmap\",\"xaxis\":\"x\",\"yaxis\":\"y\",\"hovertemplate\":\"x: %{x}\\u003cbr\\u003ey: %{y}\\u003cbr\\u003ecolor: %{z}\\u003cextra\\u003e\\u003c\\u002fextra\\u003e\"}],                        {\"template\":{\"data\":{\"histogram2dcontour\":[{\"type\":\"histogram2dcontour\",\"colorbar\":{\"outlinewidth\":0,\"ticks\":\"\"},\"colorscale\":[[0.0,\"#0d0887\"],[0.1111111111111111,\"#46039f\"],[0.2222222222222222,\"#7201a8\"],[0.3333333333333333,\"#9c179e\"],[0.4444444444444444,\"#bd3786\"],[0.5555555555555556,\"#d8576b\"],[0.6666666666666666,\"#ed7953\"],[0.7777777777777778,\"#fb9f3a\"],[0.8888888888888888,\"#fdca26\"],[1.0,\"#f0f921\"]]}],\"choropleth\":[{\"type\":\"choropleth\",\"colorbar\":{\"outlinewidth\":0,\"ticks\":\"\"}}],\"histogram2d\":[{\"type\":\"histogram2d\",\"colorbar\":{\"outlinewidth\":0,\"ticks\":\"\"},\"colorscale\":[[0.0,\"#0d0887\"],[0.1111111111111111,\"#46039f\"],[0.2222222222222222,\"#7201a8\"],[0.3333333333333333,\"#9c179e\"],[0.4444444444444444,\"#bd3786\"],[0.5555555555555556,\"#d8576b\"],[0.6666666666666666,\"#ed7953\"],[0.7777777777777778,\"#fb9f3a\"],[0.8888888888888888,\"#fdca26\"],[1.0,\"#f0f921\"]]}],\"heatmap\":[{\"type\":\"heatmap\",\"colorbar\":{\"outlinewidth\":0,\"ticks\":\"\"},\"colorscale\":[[0.0,\"#0d0887\"],[0.1111111111111111,\"#46039f\"],[0.2222222222222222,\"#7201a8\"],[0.3333333333333333,\"#9c179e\"],[0.4444444444444444,\"#bd3786\"],[0.5555555555555556,\"#d8576b\"],[0.6666666666666666,\"#ed7953\"],[0.7777777777777778,\"#fb9f3a\"],[0.8888888888888888,\"#fdca26\"],[1.0,\"#f0f921\"]]}],\"heatmapgl\":[{\"type\":\"heatmapgl\",\"colorbar\":{\"outlinewidth\":0,\"ticks\":\"\"},\"colorscale\":[[0.0,\"#0d0887\"],[0.1111111111111111,\"#46039f\"],[0.2222222222222222,\"#7201a8\"],[0.3333333333333333,\"#9c179e\"],[0.4444444444444444,\"#bd3786\"],[0.5555555555555556,\"#d8576b\"],[0.6666666666666666,\"#ed7953\"],[0.7777777777777778,\"#fb9f3a\"],[0.8888888888888888,\"#fdca26\"],[1.0,\"#f0f921\"]]}],\"contourcarpet\":[{\"type\":\"contourcarpet\",\"colorbar\":{\"outlinewidth\":0,\"ticks\":\"\"}}],\"contour\":[{\"type\":\"contour\",\"colorbar\":{\"outlinewidth\":0,\"ticks\":\"\"},\"colorscale\":[[0.0,\"#0d0887\"],[0.1111111111111111,\"#46039f\"],[0.2222222222222222,\"#7201a8\"],[0.3333333333333333,\"#9c179e\"],[0.4444444444444444,\"#bd3786\"],[0.5555555555555556,\"#d8576b\"],[0.6666666666666666,\"#ed7953\"],[0.7777777777777778,\"#fb9f3a\"],[0.8888888888888888,\"#fdca26\"],[1.0,\"#f0f921\"]]}],\"surface\":[{\"type\":\"surface\",\"colorbar\":{\"outlinewidth\":0,\"ticks\":\"\"},\"colorscale\":[[0.0,\"#0d0887\"],[0.1111111111111111,\"#46039f\"],[0.2222222222222222,\"#7201a8\"],[0.3333333333333333,\"#9c179e\"],[0.4444444444444444,\"#bd3786\"],[0.5555555555555556,\"#d8576b\"],[0.6666666666666666,\"#ed7953\"],[0.7777777777777778,\"#fb9f3a\"],[0.8888888888888888,\"#fdca26\"],[1.0,\"#f0f921\"]]}],\"mesh3d\":[{\"type\":\"mesh3d\",\"colorbar\":{\"outlinewidth\":0,\"ticks\":\"\"}}],\"scatter\":[{\"fillpattern\":{\"fillmode\":\"overlay\",\"size\":10,\"solidity\":0.2},\"type\":\"scatter\"}],\"parcoords\":[{\"type\":\"parcoords\",\"line\":{\"colorbar\":{\"outlinewidth\":0,\"ticks\":\"\"}}}],\"scatterpolargl\":[{\"type\":\"scatterpolargl\",\"marker\":{\"colorbar\":{\"outlinewidth\":0,\"ticks\":\"\"}}}],\"bar\":[{\"error_x\":{\"color\":\"#2a3f5f\"},\"error_y\":{\"color\":\"#2a3f5f\"},\"marker\":{\"line\":{\"color\":\"#E5ECF6\",\"width\":0.5},\"pattern\":{\"fillmode\":\"overlay\",\"size\":10,\"solidity\":0.2}},\"type\":\"bar\"}],\"scattergeo\":[{\"type\":\"scattergeo\",\"marker\":{\"colorbar\":{\"outlinewidth\":0,\"ticks\":\"\"}}}],\"scatterpolar\":[{\"type\":\"scatterpolar\",\"marker\":{\"colorbar\":{\"outlinewidth\":0,\"ticks\":\"\"}}}],\"histogram\":[{\"marker\":{\"pattern\":{\"fillmode\":\"overlay\",\"size\":10,\"solidity\":0.2}},\"type\":\"histogram\"}],\"scattergl\":[{\"type\":\"scattergl\",\"marker\":{\"colorbar\":{\"outlinewidth\":0,\"ticks\":\"\"}}}],\"scatter3d\":[{\"type\":\"scatter3d\",\"line\":{\"colorbar\":{\"outlinewidth\":0,\"ticks\":\"\"}},\"marker\":{\"colorbar\":{\"outlinewidth\":0,\"ticks\":\"\"}}}],\"scattermapbox\":[{\"type\":\"scattermapbox\",\"marker\":{\"colorbar\":{\"outlinewidth\":0,\"ticks\":\"\"}}}],\"scatterternary\":[{\"type\":\"scatterternary\",\"marker\":{\"colorbar\":{\"outlinewidth\":0,\"ticks\":\"\"}}}],\"scattercarpet\":[{\"type\":\"scattercarpet\",\"marker\":{\"colorbar\":{\"outlinewidth\":0,\"ticks\":\"\"}}}],\"carpet\":[{\"aaxis\":{\"endlinecolor\":\"#2a3f5f\",\"gridcolor\":\"white\",\"linecolor\":\"white\",\"minorgridcolor\":\"white\",\"startlinecolor\":\"#2a3f5f\"},\"baxis\":{\"endlinecolor\":\"#2a3f5f\",\"gridcolor\":\"white\",\"linecolor\":\"white\",\"minorgridcolor\":\"white\",\"startlinecolor\":\"#2a3f5f\"},\"type\":\"carpet\"}],\"table\":[{\"cells\":{\"fill\":{\"color\":\"#EBF0F8\"},\"line\":{\"color\":\"white\"}},\"header\":{\"fill\":{\"color\":\"#C8D4E3\"},\"line\":{\"color\":\"white\"}},\"type\":\"table\"}],\"barpolar\":[{\"marker\":{\"line\":{\"color\":\"#E5ECF6\",\"width\":0.5},\"pattern\":{\"fillmode\":\"overlay\",\"size\":10,\"solidity\":0.2}},\"type\":\"barpolar\"}],\"pie\":[{\"automargin\":true,\"type\":\"pie\"}]},\"layout\":{\"autotypenumbers\":\"strict\",\"colorway\":[\"#636efa\",\"#EF553B\",\"#00cc96\",\"#ab63fa\",\"#FFA15A\",\"#19d3f3\",\"#FF6692\",\"#B6E880\",\"#FF97FF\",\"#FECB52\"],\"font\":{\"color\":\"#2a3f5f\"},\"hovermode\":\"closest\",\"hoverlabel\":{\"align\":\"left\"},\"paper_bgcolor\":\"white\",\"plot_bgcolor\":\"#E5ECF6\",\"polar\":{\"bgcolor\":\"#E5ECF6\",\"angularaxis\":{\"gridcolor\":\"white\",\"linecolor\":\"white\",\"ticks\":\"\"},\"radialaxis\":{\"gridcolor\":\"white\",\"linecolor\":\"white\",\"ticks\":\"\"}},\"ternary\":{\"bgcolor\":\"#E5ECF6\",\"aaxis\":{\"gridcolor\":\"white\",\"linecolor\":\"white\",\"ticks\":\"\"},\"baxis\":{\"gridcolor\":\"white\",\"linecolor\":\"white\",\"ticks\":\"\"},\"caxis\":{\"gridcolor\":\"white\",\"linecolor\":\"white\",\"ticks\":\"\"}},\"coloraxis\":{\"colorbar\":{\"outlinewidth\":0,\"ticks\":\"\"}},\"colorscale\":{\"sequential\":[[0.0,\"#0d0887\"],[0.1111111111111111,\"#46039f\"],[0.2222222222222222,\"#7201a8\"],[0.3333333333333333,\"#9c179e\"],[0.4444444444444444,\"#bd3786\"],[0.5555555555555556,\"#d8576b\"],[0.6666666666666666,\"#ed7953\"],[0.7777777777777778,\"#fb9f3a\"],[0.8888888888888888,\"#fdca26\"],[1.0,\"#f0f921\"]],\"sequentialminus\":[[0.0,\"#0d0887\"],[0.1111111111111111,\"#46039f\"],[0.2222222222222222,\"#7201a8\"],[0.3333333333333333,\"#9c179e\"],[0.4444444444444444,\"#bd3786\"],[0.5555555555555556,\"#d8576b\"],[0.6666666666666666,\"#ed7953\"],[0.7777777777777778,\"#fb9f3a\"],[0.8888888888888888,\"#fdca26\"],[1.0,\"#f0f921\"]],\"diverging\":[[0,\"#8e0152\"],[0.1,\"#c51b7d\"],[0.2,\"#de77ae\"],[0.3,\"#f1b6da\"],[0.4,\"#fde0ef\"],[0.5,\"#f7f7f7\"],[0.6,\"#e6f5d0\"],[0.7,\"#b8e186\"],[0.8,\"#7fbc41\"],[0.9,\"#4d9221\"],[1,\"#276419\"]]},\"xaxis\":{\"gridcolor\":\"white\",\"linecolor\":\"white\",\"ticks\":\"\",\"title\":{\"standoff\":15},\"zerolinecolor\":\"white\",\"automargin\":true,\"zerolinewidth\":2},\"yaxis\":{\"gridcolor\":\"white\",\"linecolor\":\"white\",\"ticks\":\"\",\"title\":{\"standoff\":15},\"zerolinecolor\":\"white\",\"automargin\":true,\"zerolinewidth\":2},\"scene\":{\"xaxis\":{\"backgroundcolor\":\"#E5ECF6\",\"gridcolor\":\"white\",\"linecolor\":\"white\",\"showbackground\":true,\"ticks\":\"\",\"zerolinecolor\":\"white\",\"gridwidth\":2},\"yaxis\":{\"backgroundcolor\":\"#E5ECF6\",\"gridcolor\":\"white\",\"linecolor\":\"white\",\"showbackground\":true,\"ticks\":\"\",\"zerolinecolor\":\"white\",\"gridwidth\":2},\"zaxis\":{\"backgroundcolor\":\"#E5ECF6\",\"gridcolor\":\"white\",\"linecolor\":\"white\",\"showbackground\":true,\"ticks\":\"\",\"zerolinecolor\":\"white\",\"gridwidth\":2}},\"shapedefaults\":{\"line\":{\"color\":\"#2a3f5f\"}},\"annotationdefaults\":{\"arrowcolor\":\"#2a3f5f\",\"arrowhead\":0,\"arrowwidth\":1},\"geo\":{\"bgcolor\":\"white\",\"landcolor\":\"#E5ECF6\",\"subunitcolor\":\"white\",\"showland\":true,\"showlakes\":true,\"lakecolor\":\"white\"},\"title\":{\"x\":0.05},\"mapbox\":{\"style\":\"light\"}}},\"xaxis\":{\"anchor\":\"y\",\"domain\":[0.0,1.0],\"scaleanchor\":\"y\",\"constrain\":\"domain\",\"tickvals\":[0,1,2,3,4,5,6,7,8,9,10,11,12,13,14,15,16,17,18,19,20,21],\"ticktext\":[\"0\",\"1\",\"2\",\"3\",\"4\",\"5\",\"6\",\"7\",\"8\",\"9\",\"10\",\"11\",\"12\",\"13\",\"14\",\"15\",\"16\",\"17\",\"18\",\"19\",\"20\",\"21\"]},\"yaxis\":{\"anchor\":\"x\",\"domain\":[0.0,1.0],\"autorange\":\"reversed\",\"constrain\":\"domain\",\"showticklabels\":false},\"coloraxis\":{\"colorscale\":[[0.0,\"rgb(103,0,31)\"],[0.1,\"rgb(178,24,43)\"],[0.2,\"rgb(214,96,77)\"],[0.3,\"rgb(244,165,130)\"],[0.4,\"rgb(253,219,199)\"],[0.5,\"rgb(247,247,247)\"],[0.6,\"rgb(209,229,240)\"],[0.7,\"rgb(146,197,222)\"],[0.8,\"rgb(67,147,195)\"],[0.9,\"rgb(33,102,172)\"],[1.0,\"rgb(5,48,97)\"]],\"cmid\":0.0},\"title\":{\"text\":\"K-composition circuit between H0.0 OV & H1.0 QK\"},\"height\":500,\"width\":800},                        {\"responsive\": true}                    ).then(function(){\n",
              "                            \n",
              "var gd = document.getElementById('8237fd90-0b59-4145-8ed1-57f5e163d765');\n",
              "var x = new MutationObserver(function (mutations, observer) {{\n",
              "        var display = window.getComputedStyle(gd).display;\n",
              "        if (!display || display === 'none') {{\n",
              "            console.log([gd, 'removed!']);\n",
              "            Plotly.purge(gd);\n",
              "            observer.disconnect();\n",
              "        }}\n",
              "}});\n",
              "\n",
              "// Listen for the removal of the full notebook cells\n",
              "var notebookContainer = gd.closest('#notebook-container');\n",
              "if (notebookContainer) {{\n",
              "    x.observe(notebookContainer, {childList: true});\n",
              "}}\n",
              "\n",
              "// Listen for the clearing of the current output cell\n",
              "var outputEl = gd.closest('.output');\n",
              "if (outputEl) {{\n",
              "    x.observe(outputEl, {childList: true});\n",
              "}}\n",
              "\n",
              "                        })                };                            </script>        </div>\n",
              "</body>\n",
              "</html>"
            ]
          },
          "metadata": {}
        },
        {
          "output_type": "display_data",
          "data": {
            "text/html": [
              "<html>\n",
              "<head><meta charset=\"utf-8\" /></head>\n",
              "<body>\n",
              "    <div>            <script src=\"https://cdnjs.cloudflare.com/ajax/libs/mathjax/2.7.5/MathJax.js?config=TeX-AMS-MML_SVG\"></script><script type=\"text/javascript\">if (window.MathJax && window.MathJax.Hub && window.MathJax.Hub.Config) {window.MathJax.Hub.Config({SVG: {font: \"STIX-Web\"}});}</script>                <script type=\"text/javascript\">window.PlotlyConfig = {MathJaxConfig: 'local'};</script>\n",
              "        <script charset=\"utf-8\" src=\"https://cdn.plot.ly/plotly-2.24.1.min.js\"></script>                <div id=\"812d10f2-e66e-4fae-a3b0-a540431328de\" class=\"plotly-graph-div\" style=\"height:400px; width:800px;\"></div>            <script type=\"text/javascript\">                                    window.PLOTLYENV=window.PLOTLYENV || {};                                    if (document.getElementById(\"812d10f2-e66e-4fae-a3b0-a540431328de\")) {                    Plotly.newPlot(                        \"812d10f2-e66e-4fae-a3b0-a540431328de\",                        [{\"marker\":{\"color\":[\"orange\",\"red\",\"red\",\"red\",\"red\",\"red\",\"red\",\"red\",\"red\",\"red\",\"red\",\"blue\",\"blue\",\"blue\",\"blue\",\"blue\",\"blue\",\"blue\",\"blue\",\"blue\",\"blue\",\"orange\"]},\"mode\":\"markers\",\"x\":[0,1,2,3,4,5,6,7,8,9,10,11,12,13,14,15,16,17,18,19,20,21],\"y\":[-0.033177852630615234,-0.0020864880643785,0.025839267298579216,-0.08467494696378708,0.029617495834827423,-0.0731511041522026,-0.06117275729775429,-0.10098420083522797,-0.06051996350288391,-0.07417061179876328,-0.09742095321416855,0.15115498006343842,0.15443351864814758,0.2575310468673706,0.18440453708171844,0.18392029404640198,0.17877686023712158,-0.012727709487080574,0.16100606322288513,-0.05687934160232544,-0.17080062627792358,-0.020810935646295547],\"type\":\"scatter\"}],                        {\"template\":{\"data\":{\"histogram2dcontour\":[{\"type\":\"histogram2dcontour\",\"colorbar\":{\"outlinewidth\":0,\"ticks\":\"\"},\"colorscale\":[[0.0,\"#0d0887\"],[0.1111111111111111,\"#46039f\"],[0.2222222222222222,\"#7201a8\"],[0.3333333333333333,\"#9c179e\"],[0.4444444444444444,\"#bd3786\"],[0.5555555555555556,\"#d8576b\"],[0.6666666666666666,\"#ed7953\"],[0.7777777777777778,\"#fb9f3a\"],[0.8888888888888888,\"#fdca26\"],[1.0,\"#f0f921\"]]}],\"choropleth\":[{\"type\":\"choropleth\",\"colorbar\":{\"outlinewidth\":0,\"ticks\":\"\"}}],\"histogram2d\":[{\"type\":\"histogram2d\",\"colorbar\":{\"outlinewidth\":0,\"ticks\":\"\"},\"colorscale\":[[0.0,\"#0d0887\"],[0.1111111111111111,\"#46039f\"],[0.2222222222222222,\"#7201a8\"],[0.3333333333333333,\"#9c179e\"],[0.4444444444444444,\"#bd3786\"],[0.5555555555555556,\"#d8576b\"],[0.6666666666666666,\"#ed7953\"],[0.7777777777777778,\"#fb9f3a\"],[0.8888888888888888,\"#fdca26\"],[1.0,\"#f0f921\"]]}],\"heatmap\":[{\"type\":\"heatmap\",\"colorbar\":{\"outlinewidth\":0,\"ticks\":\"\"},\"colorscale\":[[0.0,\"#0d0887\"],[0.1111111111111111,\"#46039f\"],[0.2222222222222222,\"#7201a8\"],[0.3333333333333333,\"#9c179e\"],[0.4444444444444444,\"#bd3786\"],[0.5555555555555556,\"#d8576b\"],[0.6666666666666666,\"#ed7953\"],[0.7777777777777778,\"#fb9f3a\"],[0.8888888888888888,\"#fdca26\"],[1.0,\"#f0f921\"]]}],\"heatmapgl\":[{\"type\":\"heatmapgl\",\"colorbar\":{\"outlinewidth\":0,\"ticks\":\"\"},\"colorscale\":[[0.0,\"#0d0887\"],[0.1111111111111111,\"#46039f\"],[0.2222222222222222,\"#7201a8\"],[0.3333333333333333,\"#9c179e\"],[0.4444444444444444,\"#bd3786\"],[0.5555555555555556,\"#d8576b\"],[0.6666666666666666,\"#ed7953\"],[0.7777777777777778,\"#fb9f3a\"],[0.8888888888888888,\"#fdca26\"],[1.0,\"#f0f921\"]]}],\"contourcarpet\":[{\"type\":\"contourcarpet\",\"colorbar\":{\"outlinewidth\":0,\"ticks\":\"\"}}],\"contour\":[{\"type\":\"contour\",\"colorbar\":{\"outlinewidth\":0,\"ticks\":\"\"},\"colorscale\":[[0.0,\"#0d0887\"],[0.1111111111111111,\"#46039f\"],[0.2222222222222222,\"#7201a8\"],[0.3333333333333333,\"#9c179e\"],[0.4444444444444444,\"#bd3786\"],[0.5555555555555556,\"#d8576b\"],[0.6666666666666666,\"#ed7953\"],[0.7777777777777778,\"#fb9f3a\"],[0.8888888888888888,\"#fdca26\"],[1.0,\"#f0f921\"]]}],\"surface\":[{\"type\":\"surface\",\"colorbar\":{\"outlinewidth\":0,\"ticks\":\"\"},\"colorscale\":[[0.0,\"#0d0887\"],[0.1111111111111111,\"#46039f\"],[0.2222222222222222,\"#7201a8\"],[0.3333333333333333,\"#9c179e\"],[0.4444444444444444,\"#bd3786\"],[0.5555555555555556,\"#d8576b\"],[0.6666666666666666,\"#ed7953\"],[0.7777777777777778,\"#fb9f3a\"],[0.8888888888888888,\"#fdca26\"],[1.0,\"#f0f921\"]]}],\"mesh3d\":[{\"type\":\"mesh3d\",\"colorbar\":{\"outlinewidth\":0,\"ticks\":\"\"}}],\"scatter\":[{\"fillpattern\":{\"fillmode\":\"overlay\",\"size\":10,\"solidity\":0.2},\"type\":\"scatter\"}],\"parcoords\":[{\"type\":\"parcoords\",\"line\":{\"colorbar\":{\"outlinewidth\":0,\"ticks\":\"\"}}}],\"scatterpolargl\":[{\"type\":\"scatterpolargl\",\"marker\":{\"colorbar\":{\"outlinewidth\":0,\"ticks\":\"\"}}}],\"bar\":[{\"error_x\":{\"color\":\"#2a3f5f\"},\"error_y\":{\"color\":\"#2a3f5f\"},\"marker\":{\"line\":{\"color\":\"#E5ECF6\",\"width\":0.5},\"pattern\":{\"fillmode\":\"overlay\",\"size\":10,\"solidity\":0.2}},\"type\":\"bar\"}],\"scattergeo\":[{\"type\":\"scattergeo\",\"marker\":{\"colorbar\":{\"outlinewidth\":0,\"ticks\":\"\"}}}],\"scatterpolar\":[{\"type\":\"scatterpolar\",\"marker\":{\"colorbar\":{\"outlinewidth\":0,\"ticks\":\"\"}}}],\"histogram\":[{\"marker\":{\"pattern\":{\"fillmode\":\"overlay\",\"size\":10,\"solidity\":0.2}},\"type\":\"histogram\"}],\"scattergl\":[{\"type\":\"scattergl\",\"marker\":{\"colorbar\":{\"outlinewidth\":0,\"ticks\":\"\"}}}],\"scatter3d\":[{\"type\":\"scatter3d\",\"line\":{\"colorbar\":{\"outlinewidth\":0,\"ticks\":\"\"}},\"marker\":{\"colorbar\":{\"outlinewidth\":0,\"ticks\":\"\"}}}],\"scattermapbox\":[{\"type\":\"scattermapbox\",\"marker\":{\"colorbar\":{\"outlinewidth\":0,\"ticks\":\"\"}}}],\"scatterternary\":[{\"type\":\"scatterternary\",\"marker\":{\"colorbar\":{\"outlinewidth\":0,\"ticks\":\"\"}}}],\"scattercarpet\":[{\"type\":\"scattercarpet\",\"marker\":{\"colorbar\":{\"outlinewidth\":0,\"ticks\":\"\"}}}],\"carpet\":[{\"aaxis\":{\"endlinecolor\":\"#2a3f5f\",\"gridcolor\":\"white\",\"linecolor\":\"white\",\"minorgridcolor\":\"white\",\"startlinecolor\":\"#2a3f5f\"},\"baxis\":{\"endlinecolor\":\"#2a3f5f\",\"gridcolor\":\"white\",\"linecolor\":\"white\",\"minorgridcolor\":\"white\",\"startlinecolor\":\"#2a3f5f\"},\"type\":\"carpet\"}],\"table\":[{\"cells\":{\"fill\":{\"color\":\"#EBF0F8\"},\"line\":{\"color\":\"white\"}},\"header\":{\"fill\":{\"color\":\"#C8D4E3\"},\"line\":{\"color\":\"white\"}},\"type\":\"table\"}],\"barpolar\":[{\"marker\":{\"line\":{\"color\":\"#E5ECF6\",\"width\":0.5},\"pattern\":{\"fillmode\":\"overlay\",\"size\":10,\"solidity\":0.2}},\"type\":\"barpolar\"}],\"pie\":[{\"automargin\":true,\"type\":\"pie\"}]},\"layout\":{\"autotypenumbers\":\"strict\",\"colorway\":[\"#636efa\",\"#EF553B\",\"#00cc96\",\"#ab63fa\",\"#FFA15A\",\"#19d3f3\",\"#FF6692\",\"#B6E880\",\"#FF97FF\",\"#FECB52\"],\"font\":{\"color\":\"#2a3f5f\"},\"hovermode\":\"closest\",\"hoverlabel\":{\"align\":\"left\"},\"paper_bgcolor\":\"white\",\"plot_bgcolor\":\"#E5ECF6\",\"polar\":{\"bgcolor\":\"#E5ECF6\",\"angularaxis\":{\"gridcolor\":\"white\",\"linecolor\":\"white\",\"ticks\":\"\"},\"radialaxis\":{\"gridcolor\":\"white\",\"linecolor\":\"white\",\"ticks\":\"\"}},\"ternary\":{\"bgcolor\":\"#E5ECF6\",\"aaxis\":{\"gridcolor\":\"white\",\"linecolor\":\"white\",\"ticks\":\"\"},\"baxis\":{\"gridcolor\":\"white\",\"linecolor\":\"white\",\"ticks\":\"\"},\"caxis\":{\"gridcolor\":\"white\",\"linecolor\":\"white\",\"ticks\":\"\"}},\"coloraxis\":{\"colorbar\":{\"outlinewidth\":0,\"ticks\":\"\"}},\"colorscale\":{\"sequential\":[[0.0,\"#0d0887\"],[0.1111111111111111,\"#46039f\"],[0.2222222222222222,\"#7201a8\"],[0.3333333333333333,\"#9c179e\"],[0.4444444444444444,\"#bd3786\"],[0.5555555555555556,\"#d8576b\"],[0.6666666666666666,\"#ed7953\"],[0.7777777777777778,\"#fb9f3a\"],[0.8888888888888888,\"#fdca26\"],[1.0,\"#f0f921\"]],\"sequentialminus\":[[0.0,\"#0d0887\"],[0.1111111111111111,\"#46039f\"],[0.2222222222222222,\"#7201a8\"],[0.3333333333333333,\"#9c179e\"],[0.4444444444444444,\"#bd3786\"],[0.5555555555555556,\"#d8576b\"],[0.6666666666666666,\"#ed7953\"],[0.7777777777777778,\"#fb9f3a\"],[0.8888888888888888,\"#fdca26\"],[1.0,\"#f0f921\"]],\"diverging\":[[0,\"#8e0152\"],[0.1,\"#c51b7d\"],[0.2,\"#de77ae\"],[0.3,\"#f1b6da\"],[0.4,\"#fde0ef\"],[0.5,\"#f7f7f7\"],[0.6,\"#e6f5d0\"],[0.7,\"#b8e186\"],[0.8,\"#7fbc41\"],[0.9,\"#4d9221\"],[1,\"#276419\"]]},\"xaxis\":{\"gridcolor\":\"white\",\"linecolor\":\"white\",\"ticks\":\"\",\"title\":{\"standoff\":15},\"zerolinecolor\":\"white\",\"automargin\":true,\"zerolinewidth\":2},\"yaxis\":{\"gridcolor\":\"white\",\"linecolor\":\"white\",\"ticks\":\"\",\"title\":{\"standoff\":15},\"zerolinecolor\":\"white\",\"automargin\":true,\"zerolinewidth\":2},\"scene\":{\"xaxis\":{\"backgroundcolor\":\"#E5ECF6\",\"gridcolor\":\"white\",\"linecolor\":\"white\",\"showbackground\":true,\"ticks\":\"\",\"zerolinecolor\":\"white\",\"gridwidth\":2},\"yaxis\":{\"backgroundcolor\":\"#E5ECF6\",\"gridcolor\":\"white\",\"linecolor\":\"white\",\"showbackground\":true,\"ticks\":\"\",\"zerolinecolor\":\"white\",\"gridwidth\":2},\"zaxis\":{\"backgroundcolor\":\"#E5ECF6\",\"gridcolor\":\"white\",\"linecolor\":\"white\",\"showbackground\":true,\"ticks\":\"\",\"zerolinecolor\":\"white\",\"gridwidth\":2}},\"shapedefaults\":{\"line\":{\"color\":\"#2a3f5f\"}},\"annotationdefaults\":{\"arrowcolor\":\"#2a3f5f\",\"arrowhead\":0,\"arrowwidth\":1},\"geo\":{\"bgcolor\":\"white\",\"landcolor\":\"#E5ECF6\",\"subunitcolor\":\"white\",\"showland\":true,\"showlakes\":true,\"lakecolor\":\"white\"},\"title\":{\"x\":0.05},\"mapbox\":{\"style\":\"light\"}}},\"title\":{\"text\":\"K-composition circuit between H0.0 OV & H1.0 QK\"},\"xaxis\":{\"title\":{\"text\":\"Target position\"}},\"yaxis\":{\"title\":{\"text\":\"H1.0 attention attribution\"}},\"height\":400,\"width\":800,\"shapes\":[{\"line\":{\"color\":\"Black\"},\"type\":\"line\",\"x0\":0,\"x1\":22,\"y0\":0,\"y1\":0}]},                        {\"responsive\": true}                    ).then(function(){\n",
              "                            \n",
              "var gd = document.getElementById('812d10f2-e66e-4fae-a3b0-a540431328de');\n",
              "var x = new MutationObserver(function (mutations, observer) {{\n",
              "        var display = window.getComputedStyle(gd).display;\n",
              "        if (!display || display === 'none') {{\n",
              "            console.log([gd, 'removed!']);\n",
              "            Plotly.purge(gd);\n",
              "            observer.disconnect();\n",
              "        }}\n",
              "}});\n",
              "\n",
              "// Listen for the removal of the full notebook cells\n",
              "var notebookContainer = gd.closest('#notebook-container');\n",
              "if (notebookContainer) {{\n",
              "    x.observe(notebookContainer, {childList: true});\n",
              "}}\n",
              "\n",
              "// Listen for the clearing of the current output cell\n",
              "var outputEl = gd.closest('.output');\n",
              "if (outputEl) {{\n",
              "    x.observe(outputEl, {childList: true});\n",
              "}}\n",
              "\n",
              "                        })                };                            </script>        </div>\n",
              "</body>\n",
              "</html>"
            ]
          },
          "metadata": {}
        }
      ]
    },
    {
      "cell_type": "markdown",
      "source": [
        "## H0.0 & H1.0 V-composition, and the H0.0 OV circuit"
      ],
      "metadata": {
        "id": "X_EscEINpViY"
      }
    },
    {
      "cell_type": "markdown",
      "source": [
        "From the composition score analysis, it looks like H0.0 and H1.0 are involved in V-composition in addition to K-composition.\n",
        "\n",
        "Through the logit attribution analysis, we know that H1.0's outputs give the most significant logit attribution.\n",
        "\n",
        "If H0.0's output is being used in H1.0's values, then we should be able to measure the direct logit attribution of H0.0's output *through* H1.0's OV circuit.\n",
        "\n",
        "We can basically repeat the previous direct logit attribution analysis with a couple changes.\n",
        "1. We will multiply H0.0's output by H1.0's OV circuit\n",
        "2. Previously, only the last sequence position mattered. However, in this case, all the sequence positions matter, as they can be mixed in with the last position's H1.0 output.\n",
        "  - I will just average across the sequence position for now (this is not great, but still gives a sort of reasonable result)."
      ],
      "metadata": {
        "id": "QZ9ZdexxphHV"
      }
    },
    {
      "cell_type": "code",
      "source": [
        "out_by_components = get_out_by_components(model, dataset) # (n, batch, seq, d_model)\n",
        "\n",
        "# we only want to look at H0.0\n",
        "out_by_components = out_by_components[2, :, :, :].unsqueeze(0) # (1, batch, seq, d_model)\n",
        "\n",
        "# multiply by H1.0's OV circuit\n",
        "h10_W_V = model.W_V[1,0]\n",
        "h10_W_O = model.W_O[1,0]\n",
        "h10_W_OV = h10_W_V @ h10_W_O\n",
        "\n",
        "out_by_components_h10_OV = einops.einsum(out_by_components, h10_W_OV, 'n b seq d1, d1 d2-> n b seq d2')\n",
        "\n",
        "# take the mean over sequence dimension\n",
        "out_by_components_h10_OV = out_by_components_h10_OV.mean(dim=2)\n",
        "\n",
        "post_final_ln_dir = get_post_final_ln_dir(model)\n",
        "\n",
        "out_by_components_in_nonpal_dir = einops.einsum(out_by_components_h10_OV, post_final_ln_dir, 'n batch d_model, d_model -> n batch')\n",
        "\n",
        "labels = ['H0.0']\n",
        "\n",
        "for i in range(out_by_components_in_nonpal_dir.shape[0]):\n",
        "    nonpal = out_by_components_in_nonpal_dir[i][dataset.is_palindrome == 0].cpu().detach().numpy()\n",
        "    pal = out_by_components_in_nonpal_dir[i][dataset.is_palindrome == 1].cpu().detach().numpy()\n",
        "\n",
        "    overall_min = min(nonpal.min(), pal.min())\n",
        "    overall_max = max(nonpal.max(), pal.max())\n",
        "    bin_edges = np.linspace(overall_min, overall_max, num=51)  # num = number of bins + 1\n",
        "\n",
        "    fig = go.Figure()\n",
        "    fig.add_trace(go.Histogram(x=nonpal, xbins=dict(start=bin_edges[0], end=bin_edges[-1], size=(overall_max-overall_min)/50), name='non-pal', marker_color='red'))\n",
        "    fig.add_trace(go.Histogram(x=pal, xbins=dict(start=bin_edges[0], end=bin_edges[-1], size=(overall_max-overall_min)/50), name='pal', marker_color='blue'))\n",
        "\n",
        "    fig.update_layout(\n",
        "        barmode='overlay',\n",
        "        title=f'{labels[i]}',  # Sets the title for the histogram\n",
        "        xaxis_title=\"Dot prod with non-palindrome direction, after H1.0 OV applied\",  # Sets the label for the x-axis\n",
        "        yaxis_title=\"Frequency\",  # Sets the label for the y-axis\n",
        "        autosize=False,\n",
        "        width=800,\n",
        "        height=300,\n",
        "    )\n",
        "    fig.update_traces(opacity=0.60)\n",
        "    fig.show()  # Displays the histogram"
      ],
      "metadata": {
        "colab": {
          "base_uri": "https://localhost:8080/",
          "height": 317
        },
        "id": "PIdJqyOkq9pr",
        "outputId": "fc5fbf4e-bc7d-4d6b-a3c5-cebdb064f948"
      },
      "execution_count": 27,
      "outputs": [
        {
          "output_type": "display_data",
          "data": {
            "text/html": [
              "<html>\n",
              "<head><meta charset=\"utf-8\" /></head>\n",
              "<body>\n",
              "    <div>            <script src=\"https://cdnjs.cloudflare.com/ajax/libs/mathjax/2.7.5/MathJax.js?config=TeX-AMS-MML_SVG\"></script><script type=\"text/javascript\">if (window.MathJax && window.MathJax.Hub && window.MathJax.Hub.Config) {window.MathJax.Hub.Config({SVG: {font: \"STIX-Web\"}});}</script>                <script type=\"text/javascript\">window.PlotlyConfig = {MathJaxConfig: 'local'};</script>\n",
              "        <script charset=\"utf-8\" src=\"https://cdn.plot.ly/plotly-2.24.1.min.js\"></script>                <div id=\"6cc97d9c-6ff1-475a-8e27-3d3a66c1502a\" class=\"plotly-graph-div\" style=\"height:300px; width:800px;\"></div>            <script type=\"text/javascript\">                                    window.PLOTLYENV=window.PLOTLYENV || {};                                    if (document.getElementById(\"6cc97d9c-6ff1-475a-8e27-3d3a66c1502a\")) {                    Plotly.newPlot(                        \"6cc97d9c-6ff1-475a-8e27-3d3a66c1502a\",                        [{\"marker\":{\"color\":\"red\"},\"name\":\"non-pal\",\"x\":[0.28257447481155396,-0.8586523532867432,0.8384870886802673,-0.01191639993339777,-1.8864784240722656,-1.0641735792160034,-0.7376313805580139,-1.0510759353637695,-0.42250940203666687,-2.346606731414795,-1.7435725927352905,-2.038756847381592,0.5988796353340149,-0.6929600238800049,1.24122154712677,-2.682298183441162,-1.4903289079666138,-1.612056851387024,-1.5376983880996704,0.7397888898849487,0.4777938723564148,-1.9100619554519653,-2.0563693046569824,-1.3196028470993042,-2.130178689956665,-0.5906493663787842,0.25464725494384766,-1.9429081678390503,0.029213545843958855,-0.8483309149742126,-0.5887917280197144,-0.841133177280426,-0.6444435119628906,-0.4374160170555115,-1.775410771369934,0.5403379201889038,-1.0229103565216064,1.322068691253662,-0.8504613637924194,-0.4333053529262543,-0.2585813105106354,-0.28852710127830505,-0.574031412601471,-0.30772045254707336,-0.9180884957313538,0.423844575881958,0.32050055265426636,0.7408125996589661,-1.549596905708313,-1.8214753866195679],\"xbins\":{\"end\":1.322068691253662,\"size\":0.08811382293701171,\"start\":-3.0836222171783447},\"type\":\"histogram\",\"opacity\":0.6},{\"marker\":{\"color\":\"blue\"},\"name\":\"pal\",\"x\":[-2.2759950160980225,-1.7300869226455688,-2.2186331748962402,-2.3983349800109863,-1.7735681533813477,-2.404656410217285,-2.008490562438965,-1.3886414766311646,-2.490753650665283,-2.5930516719818115,-2.4096016883850098,-1.8225260972976685,-2.03265380859375,-2.7001447677612305,-1.1293268203735352,-2.193459987640381,-2.2887990474700928,-1.7580904960632324,-2.7493927478790283,-2.0010006427764893,-2.0930302143096924,-2.1496293544769287,-2.820333480834961,-3.0268123149871826,-1.9654130935668945,-1.9822570085525513,-1.9931350946426392,-2.4211947917938232,-1.816898226737976,-1.9479962587356567,-2.013716459274292,-1.8611681461334229,-2.2829582691192627,-2.037977933883667,-2.184807538986206,-2.5378024578094482,-2.542680263519287,-2.432600975036621,-1.6638606786727905,-2.2288930416107178,-2.464647054672241,-1.8828396797180176,-2.728429079055786,-2.4725048542022705,-1.4578737020492554,-1.6943680047988892,-2.6337783336639404,-1.7666200399398804,-3.0836222171783447,-2.29709529876709],\"xbins\":{\"end\":1.322068691253662,\"size\":0.08811382293701171,\"start\":-3.0836222171783447},\"type\":\"histogram\",\"opacity\":0.6}],                        {\"template\":{\"data\":{\"histogram2dcontour\":[{\"type\":\"histogram2dcontour\",\"colorbar\":{\"outlinewidth\":0,\"ticks\":\"\"},\"colorscale\":[[0.0,\"#0d0887\"],[0.1111111111111111,\"#46039f\"],[0.2222222222222222,\"#7201a8\"],[0.3333333333333333,\"#9c179e\"],[0.4444444444444444,\"#bd3786\"],[0.5555555555555556,\"#d8576b\"],[0.6666666666666666,\"#ed7953\"],[0.7777777777777778,\"#fb9f3a\"],[0.8888888888888888,\"#fdca26\"],[1.0,\"#f0f921\"]]}],\"choropleth\":[{\"type\":\"choropleth\",\"colorbar\":{\"outlinewidth\":0,\"ticks\":\"\"}}],\"histogram2d\":[{\"type\":\"histogram2d\",\"colorbar\":{\"outlinewidth\":0,\"ticks\":\"\"},\"colorscale\":[[0.0,\"#0d0887\"],[0.1111111111111111,\"#46039f\"],[0.2222222222222222,\"#7201a8\"],[0.3333333333333333,\"#9c179e\"],[0.4444444444444444,\"#bd3786\"],[0.5555555555555556,\"#d8576b\"],[0.6666666666666666,\"#ed7953\"],[0.7777777777777778,\"#fb9f3a\"],[0.8888888888888888,\"#fdca26\"],[1.0,\"#f0f921\"]]}],\"heatmap\":[{\"type\":\"heatmap\",\"colorbar\":{\"outlinewidth\":0,\"ticks\":\"\"},\"colorscale\":[[0.0,\"#0d0887\"],[0.1111111111111111,\"#46039f\"],[0.2222222222222222,\"#7201a8\"],[0.3333333333333333,\"#9c179e\"],[0.4444444444444444,\"#bd3786\"],[0.5555555555555556,\"#d8576b\"],[0.6666666666666666,\"#ed7953\"],[0.7777777777777778,\"#fb9f3a\"],[0.8888888888888888,\"#fdca26\"],[1.0,\"#f0f921\"]]}],\"heatmapgl\":[{\"type\":\"heatmapgl\",\"colorbar\":{\"outlinewidth\":0,\"ticks\":\"\"},\"colorscale\":[[0.0,\"#0d0887\"],[0.1111111111111111,\"#46039f\"],[0.2222222222222222,\"#7201a8\"],[0.3333333333333333,\"#9c179e\"],[0.4444444444444444,\"#bd3786\"],[0.5555555555555556,\"#d8576b\"],[0.6666666666666666,\"#ed7953\"],[0.7777777777777778,\"#fb9f3a\"],[0.8888888888888888,\"#fdca26\"],[1.0,\"#f0f921\"]]}],\"contourcarpet\":[{\"type\":\"contourcarpet\",\"colorbar\":{\"outlinewidth\":0,\"ticks\":\"\"}}],\"contour\":[{\"type\":\"contour\",\"colorbar\":{\"outlinewidth\":0,\"ticks\":\"\"},\"colorscale\":[[0.0,\"#0d0887\"],[0.1111111111111111,\"#46039f\"],[0.2222222222222222,\"#7201a8\"],[0.3333333333333333,\"#9c179e\"],[0.4444444444444444,\"#bd3786\"],[0.5555555555555556,\"#d8576b\"],[0.6666666666666666,\"#ed7953\"],[0.7777777777777778,\"#fb9f3a\"],[0.8888888888888888,\"#fdca26\"],[1.0,\"#f0f921\"]]}],\"surface\":[{\"type\":\"surface\",\"colorbar\":{\"outlinewidth\":0,\"ticks\":\"\"},\"colorscale\":[[0.0,\"#0d0887\"],[0.1111111111111111,\"#46039f\"],[0.2222222222222222,\"#7201a8\"],[0.3333333333333333,\"#9c179e\"],[0.4444444444444444,\"#bd3786\"],[0.5555555555555556,\"#d8576b\"],[0.6666666666666666,\"#ed7953\"],[0.7777777777777778,\"#fb9f3a\"],[0.8888888888888888,\"#fdca26\"],[1.0,\"#f0f921\"]]}],\"mesh3d\":[{\"type\":\"mesh3d\",\"colorbar\":{\"outlinewidth\":0,\"ticks\":\"\"}}],\"scatter\":[{\"fillpattern\":{\"fillmode\":\"overlay\",\"size\":10,\"solidity\":0.2},\"type\":\"scatter\"}],\"parcoords\":[{\"type\":\"parcoords\",\"line\":{\"colorbar\":{\"outlinewidth\":0,\"ticks\":\"\"}}}],\"scatterpolargl\":[{\"type\":\"scatterpolargl\",\"marker\":{\"colorbar\":{\"outlinewidth\":0,\"ticks\":\"\"}}}],\"bar\":[{\"error_x\":{\"color\":\"#2a3f5f\"},\"error_y\":{\"color\":\"#2a3f5f\"},\"marker\":{\"line\":{\"color\":\"#E5ECF6\",\"width\":0.5},\"pattern\":{\"fillmode\":\"overlay\",\"size\":10,\"solidity\":0.2}},\"type\":\"bar\"}],\"scattergeo\":[{\"type\":\"scattergeo\",\"marker\":{\"colorbar\":{\"outlinewidth\":0,\"ticks\":\"\"}}}],\"scatterpolar\":[{\"type\":\"scatterpolar\",\"marker\":{\"colorbar\":{\"outlinewidth\":0,\"ticks\":\"\"}}}],\"histogram\":[{\"marker\":{\"pattern\":{\"fillmode\":\"overlay\",\"size\":10,\"solidity\":0.2}},\"type\":\"histogram\"}],\"scattergl\":[{\"type\":\"scattergl\",\"marker\":{\"colorbar\":{\"outlinewidth\":0,\"ticks\":\"\"}}}],\"scatter3d\":[{\"type\":\"scatter3d\",\"line\":{\"colorbar\":{\"outlinewidth\":0,\"ticks\":\"\"}},\"marker\":{\"colorbar\":{\"outlinewidth\":0,\"ticks\":\"\"}}}],\"scattermapbox\":[{\"type\":\"scattermapbox\",\"marker\":{\"colorbar\":{\"outlinewidth\":0,\"ticks\":\"\"}}}],\"scatterternary\":[{\"type\":\"scatterternary\",\"marker\":{\"colorbar\":{\"outlinewidth\":0,\"ticks\":\"\"}}}],\"scattercarpet\":[{\"type\":\"scattercarpet\",\"marker\":{\"colorbar\":{\"outlinewidth\":0,\"ticks\":\"\"}}}],\"carpet\":[{\"aaxis\":{\"endlinecolor\":\"#2a3f5f\",\"gridcolor\":\"white\",\"linecolor\":\"white\",\"minorgridcolor\":\"white\",\"startlinecolor\":\"#2a3f5f\"},\"baxis\":{\"endlinecolor\":\"#2a3f5f\",\"gridcolor\":\"white\",\"linecolor\":\"white\",\"minorgridcolor\":\"white\",\"startlinecolor\":\"#2a3f5f\"},\"type\":\"carpet\"}],\"table\":[{\"cells\":{\"fill\":{\"color\":\"#EBF0F8\"},\"line\":{\"color\":\"white\"}},\"header\":{\"fill\":{\"color\":\"#C8D4E3\"},\"line\":{\"color\":\"white\"}},\"type\":\"table\"}],\"barpolar\":[{\"marker\":{\"line\":{\"color\":\"#E5ECF6\",\"width\":0.5},\"pattern\":{\"fillmode\":\"overlay\",\"size\":10,\"solidity\":0.2}},\"type\":\"barpolar\"}],\"pie\":[{\"automargin\":true,\"type\":\"pie\"}]},\"layout\":{\"autotypenumbers\":\"strict\",\"colorway\":[\"#636efa\",\"#EF553B\",\"#00cc96\",\"#ab63fa\",\"#FFA15A\",\"#19d3f3\",\"#FF6692\",\"#B6E880\",\"#FF97FF\",\"#FECB52\"],\"font\":{\"color\":\"#2a3f5f\"},\"hovermode\":\"closest\",\"hoverlabel\":{\"align\":\"left\"},\"paper_bgcolor\":\"white\",\"plot_bgcolor\":\"#E5ECF6\",\"polar\":{\"bgcolor\":\"#E5ECF6\",\"angularaxis\":{\"gridcolor\":\"white\",\"linecolor\":\"white\",\"ticks\":\"\"},\"radialaxis\":{\"gridcolor\":\"white\",\"linecolor\":\"white\",\"ticks\":\"\"}},\"ternary\":{\"bgcolor\":\"#E5ECF6\",\"aaxis\":{\"gridcolor\":\"white\",\"linecolor\":\"white\",\"ticks\":\"\"},\"baxis\":{\"gridcolor\":\"white\",\"linecolor\":\"white\",\"ticks\":\"\"},\"caxis\":{\"gridcolor\":\"white\",\"linecolor\":\"white\",\"ticks\":\"\"}},\"coloraxis\":{\"colorbar\":{\"outlinewidth\":0,\"ticks\":\"\"}},\"colorscale\":{\"sequential\":[[0.0,\"#0d0887\"],[0.1111111111111111,\"#46039f\"],[0.2222222222222222,\"#7201a8\"],[0.3333333333333333,\"#9c179e\"],[0.4444444444444444,\"#bd3786\"],[0.5555555555555556,\"#d8576b\"],[0.6666666666666666,\"#ed7953\"],[0.7777777777777778,\"#fb9f3a\"],[0.8888888888888888,\"#fdca26\"],[1.0,\"#f0f921\"]],\"sequentialminus\":[[0.0,\"#0d0887\"],[0.1111111111111111,\"#46039f\"],[0.2222222222222222,\"#7201a8\"],[0.3333333333333333,\"#9c179e\"],[0.4444444444444444,\"#bd3786\"],[0.5555555555555556,\"#d8576b\"],[0.6666666666666666,\"#ed7953\"],[0.7777777777777778,\"#fb9f3a\"],[0.8888888888888888,\"#fdca26\"],[1.0,\"#f0f921\"]],\"diverging\":[[0,\"#8e0152\"],[0.1,\"#c51b7d\"],[0.2,\"#de77ae\"],[0.3,\"#f1b6da\"],[0.4,\"#fde0ef\"],[0.5,\"#f7f7f7\"],[0.6,\"#e6f5d0\"],[0.7,\"#b8e186\"],[0.8,\"#7fbc41\"],[0.9,\"#4d9221\"],[1,\"#276419\"]]},\"xaxis\":{\"gridcolor\":\"white\",\"linecolor\":\"white\",\"ticks\":\"\",\"title\":{\"standoff\":15},\"zerolinecolor\":\"white\",\"automargin\":true,\"zerolinewidth\":2},\"yaxis\":{\"gridcolor\":\"white\",\"linecolor\":\"white\",\"ticks\":\"\",\"title\":{\"standoff\":15},\"zerolinecolor\":\"white\",\"automargin\":true,\"zerolinewidth\":2},\"scene\":{\"xaxis\":{\"backgroundcolor\":\"#E5ECF6\",\"gridcolor\":\"white\",\"linecolor\":\"white\",\"showbackground\":true,\"ticks\":\"\",\"zerolinecolor\":\"white\",\"gridwidth\":2},\"yaxis\":{\"backgroundcolor\":\"#E5ECF6\",\"gridcolor\":\"white\",\"linecolor\":\"white\",\"showbackground\":true,\"ticks\":\"\",\"zerolinecolor\":\"white\",\"gridwidth\":2},\"zaxis\":{\"backgroundcolor\":\"#E5ECF6\",\"gridcolor\":\"white\",\"linecolor\":\"white\",\"showbackground\":true,\"ticks\":\"\",\"zerolinecolor\":\"white\",\"gridwidth\":2}},\"shapedefaults\":{\"line\":{\"color\":\"#2a3f5f\"}},\"annotationdefaults\":{\"arrowcolor\":\"#2a3f5f\",\"arrowhead\":0,\"arrowwidth\":1},\"geo\":{\"bgcolor\":\"white\",\"landcolor\":\"#E5ECF6\",\"subunitcolor\":\"white\",\"showland\":true,\"showlakes\":true,\"lakecolor\":\"white\"},\"title\":{\"x\":0.05},\"mapbox\":{\"style\":\"light\"}}},\"barmode\":\"overlay\",\"title\":{\"text\":\"H0.0\"},\"xaxis\":{\"title\":{\"text\":\"Dot prod with non-palindrome direction, after H1.0 OV applied\"}},\"yaxis\":{\"title\":{\"text\":\"Frequency\"}},\"autosize\":false,\"width\":800,\"height\":300},                        {\"responsive\": true}                    ).then(function(){\n",
              "                            \n",
              "var gd = document.getElementById('6cc97d9c-6ff1-475a-8e27-3d3a66c1502a');\n",
              "var x = new MutationObserver(function (mutations, observer) {{\n",
              "        var display = window.getComputedStyle(gd).display;\n",
              "        if (!display || display === 'none') {{\n",
              "            console.log([gd, 'removed!']);\n",
              "            Plotly.purge(gd);\n",
              "            observer.disconnect();\n",
              "        }}\n",
              "}});\n",
              "\n",
              "// Listen for the removal of the full notebook cells\n",
              "var notebookContainer = gd.closest('#notebook-container');\n",
              "if (notebookContainer) {{\n",
              "    x.observe(notebookContainer, {childList: true});\n",
              "}}\n",
              "\n",
              "// Listen for the clearing of the current output cell\n",
              "var outputEl = gd.closest('.output');\n",
              "if (outputEl) {{\n",
              "    x.observe(outputEl, {childList: true});\n",
              "}}\n",
              "\n",
              "                        })                };                            </script>        </div>\n",
              "</body>\n",
              "</html>"
            ]
          },
          "metadata": {}
        }
      ]
    },
    {
      "cell_type": "markdown",
      "source": [
        "This looks pretty reasonable, even though we were a bit careless to average over the sequence position.\n",
        "\n",
        "Let's get more granular, to the level of a single example.\n",
        "\n",
        "I want to show this:\n",
        "- H0.0 generates a specific OV direction for sequence positions that violate the palindrome property.\n",
        "- This direction composes with H1.0's OV circuit, and ends up pointing in the non-palindrome direction.\n",
        "\n",
        "I will first show this on a single example."
      ],
      "metadata": {
        "id": "ds179LxUtsZC"
      }
    },
    {
      "cell_type": "code",
      "source": [
        "toks, is_palindrome = dataset[:5]\n",
        "logits, cache = model.run_with_cache(toks)\n",
        "\n",
        "# we'll focus just on a single example at index 2: START |30|22|22|00|28|01|00|09|23|27|27|23|30|00|01|28|00|22|22|23| END\n",
        "index = 2\n",
        "display_seq(dataset.toks[index])\n",
        "\n",
        "display(cv.attention.attention_patterns(\n",
        "    attention = t.concat([cache[\"pattern\", layer][index] for layer in range(model.cfg.n_layers)]),\n",
        "    tokens = dataset.str_toks[index],\n",
        "    attention_head_names = [f\"{layer}.{head}\" for layer in range(model.cfg.n_layers) for head in range(model.cfg.n_heads)],\n",
        "))"
      ],
      "metadata": {
        "colab": {
          "base_uri": "https://localhost:8080/",
          "height": 373
        },
        "id": "f_OSCSIEukUI",
        "outputId": "af9c3dea-5875-4776-84c7-5fbc07ea5f86"
      },
      "execution_count": 28,
      "outputs": [
        {
          "output_type": "display_data",
          "data": {
            "text/plain": [
              "START |\u001b[1;38;5;208m30\u001b[0m|\u001b[1;37m22\u001b[0m|\u001b[1;37m22\u001b[0m|\u001b[1;37m00\u001b[0m|\u001b[1;37m28\u001b[0m|\u001b[1;37m01\u001b[0m|\u001b[1;37m00\u001b[0m|\u001b[1;38;5;208m09\u001b[0m|\u001b[1;37m23\u001b[0m|\u001b[1;37m27\u001b[0m|\u001b[1;37m27\u001b[0m|\u001b[1;37m23\u001b[0m|\u001b[1;38;5;208m30\u001b[0m|\u001b[1;37m00\u001b[0m|\u001b[1;37m01\u001b[0m|\u001b[1;37m28\u001b[0m|\u001b[1;37m00\u001b[0m|\u001b[1;37m22\u001b[0m|\u001b[1;37m22\u001b[0m|\u001b[1;38;5;208m23\u001b[0m| END\n"
            ],
            "text/html": [
              "<pre style=\"white-space:pre;overflow-x:auto;line-height:normal;font-family:Menlo,'DejaVu Sans Mono',consolas,'Courier New',monospace\">START |<span style=\"color: #ff8700; text-decoration-color: #ff8700; font-weight: bold\">30</span>|<span style=\"color: #c0c0c0; text-decoration-color: #c0c0c0; font-weight: bold\">22</span>|<span style=\"color: #c0c0c0; text-decoration-color: #c0c0c0; font-weight: bold\">22</span>|<span style=\"color: #c0c0c0; text-decoration-color: #c0c0c0; font-weight: bold\">00</span>|<span style=\"color: #c0c0c0; text-decoration-color: #c0c0c0; font-weight: bold\">28</span>|<span style=\"color: #c0c0c0; text-decoration-color: #c0c0c0; font-weight: bold\">01</span>|<span style=\"color: #c0c0c0; text-decoration-color: #c0c0c0; font-weight: bold\">00</span>|<span style=\"color: #ff8700; text-decoration-color: #ff8700; font-weight: bold\">09</span>|<span style=\"color: #c0c0c0; text-decoration-color: #c0c0c0; font-weight: bold\">23</span>|<span style=\"color: #c0c0c0; text-decoration-color: #c0c0c0; font-weight: bold\">27</span>|<span style=\"color: #c0c0c0; text-decoration-color: #c0c0c0; font-weight: bold\">27</span>|<span style=\"color: #c0c0c0; text-decoration-color: #c0c0c0; font-weight: bold\">23</span>|<span style=\"color: #ff8700; text-decoration-color: #ff8700; font-weight: bold\">30</span>|<span style=\"color: #c0c0c0; text-decoration-color: #c0c0c0; font-weight: bold\">00</span>|<span style=\"color: #c0c0c0; text-decoration-color: #c0c0c0; font-weight: bold\">01</span>|<span style=\"color: #c0c0c0; text-decoration-color: #c0c0c0; font-weight: bold\">28</span>|<span style=\"color: #c0c0c0; text-decoration-color: #c0c0c0; font-weight: bold\">00</span>|<span style=\"color: #c0c0c0; text-decoration-color: #c0c0c0; font-weight: bold\">22</span>|<span style=\"color: #c0c0c0; text-decoration-color: #c0c0c0; font-weight: bold\">22</span>|<span style=\"color: #ff8700; text-decoration-color: #ff8700; font-weight: bold\">23</span>| END\n",
              "</pre>\n"
            ]
          },
          "metadata": {}
        },
        {
          "output_type": "display_data",
          "data": {
            "text/plain": [
              "<circuitsvis.utils.render.RenderedHTML at 0x7afdd1789d20>"
            ],
            "text/html": [
              "<div id=\"circuits-vis-cab44037-56cd\" style=\"margin: 15px 0;\"/>\n",
              "    <script crossorigin type=\"module\">\n",
              "    import { render, AttentionPatterns } from \"https://unpkg.com/circuitsvis@1.41.0/dist/cdn/esm.js\";\n",
              "    render(\n",
              "      \"circuits-vis-cab44037-56cd\",\n",
              "      AttentionPatterns,\n",
              "      {\"tokens\": [\"START\", \"30\", \"22\", \"22\", \"00\", \"28\", \"01\", \"00\", \"09\", \"23\", \"27\", \"27\", \"23\", \"30\", \"00\", \"01\", \"28\", \"00\", \"22\", \"22\", \"23\", \"END\"], \"attention\": [[[1.0, 0.0, 0.0, 0.0, 0.0, 0.0, 0.0, 0.0, 0.0, 0.0, 0.0, 0.0, 0.0, 0.0, 0.0, 0.0, 0.0, 0.0, 0.0, 0.0, 0.0, 0.0], [0.012026050128042698, 0.9879739284515381, 0.0, 0.0, 0.0, 0.0, 0.0, 0.0, 0.0, 0.0, 0.0, 0.0, 0.0, 0.0, 0.0, 0.0, 0.0, 0.0, 0.0, 0.0, 0.0, 0.0], [0.010186062194406986, 0.011955156922340393, 0.9778587222099304, 0.0, 0.0, 0.0, 0.0, 0.0, 0.0, 0.0, 0.0, 0.0, 0.0, 0.0, 0.0, 0.0, 0.0, 0.0, 0.0, 0.0, 0.0, 0.0], [0.0058303275145590305, 0.0044002230279147625, 0.04373873770236969, 0.9460307359695435, 0.0, 0.0, 0.0, 0.0, 0.0, 0.0, 0.0, 0.0, 0.0, 0.0, 0.0, 0.0, 0.0, 0.0, 0.0, 0.0, 0.0, 0.0], [0.0041765086352825165, 0.003072932828217745, 0.009863350540399551, 0.007646659389138222, 0.9752405881881714, 0.0, 0.0, 0.0, 0.0, 0.0, 0.0, 0.0, 0.0, 0.0, 0.0, 0.0, 0.0, 0.0, 0.0, 0.0, 0.0, 0.0], [0.0011957533424720168, 6.651494913967326e-05, 0.001620963797904551, 0.0017082690028473735, 0.016736425459384918, 0.9786721467971802, 0.0, 0.0, 0.0, 0.0, 0.0, 0.0, 0.0, 0.0, 0.0, 0.0, 0.0, 0.0, 0.0, 0.0, 0.0, 0.0], [0.0002235383726656437, 1.2062791938660666e-05, 0.0007779932930134237, 0.0016854825662449002, 0.0020899721421301365, 0.015091950073838234, 0.980118989944458, 0.0, 0.0, 0.0, 0.0, 0.0, 0.0, 0.0, 0.0, 0.0, 0.0, 0.0, 0.0, 0.0, 0.0, 0.0], [0.000901509658433497, 0.0021580674219876528, 0.002050376031547785, 0.006034746766090393, 0.158357173204422, 0.0270791407674551, 0.026811685413122177, 0.7766072750091553, 0.0, 0.0, 0.0, 0.0, 0.0, 0.0, 0.0, 0.0, 0.0, 0.0, 0.0, 0.0, 0.0, 0.0], [0.00018507159256841987, 0.0009129342506639659, 0.015133850276470184, 0.0015729242004454136, 0.0016313147498294711, 0.003161707427352667, 0.004761718213558197, 0.0059570856392383575, 0.9666833877563477, 0.0, 0.0, 0.0, 0.0, 0.0, 0.0, 0.0, 0.0, 0.0, 0.0, 0.0, 0.0, 0.0], [0.03707650303840637, 0.0012870783684775233, 0.0456245094537735, 0.26142439246177673, 0.00201202230527997, 0.012995889410376549, 0.002431184984743595, 0.0006267224089242518, 0.001566865830682218, 0.6349548101425171, 0.0, 0.0, 0.0, 0.0, 0.0, 0.0, 0.0, 0.0, 0.0, 0.0, 0.0, 0.0], [0.006115925032645464, 0.0018514265539124608, 0.003779185237362981, 0.009785989299416542, 9.532953299640212e-06, 1.1335495400999207e-05, 4.2963085434166715e-05, 1.0310465086149634e-06, 1.355249696644023e-05, 0.01035416778177023, 0.9680348634719849, 0.0, 0.0, 0.0, 0.0, 0.0, 0.0, 0.0, 0.0, 0.0, 0.0, 0.0], [0.0026085255667567253, 9.98343457467854e-05, 0.00038771791150793433, 0.0010064932284876704, 1.1784643902501557e-05, 1.2760273421008606e-05, 1.2237484042998403e-05, 2.044768962150556e-06, 1.4994408047641627e-05, 0.012654152698814869, 0.5644612908363342, 0.41872817277908325, 0.0, 0.0, 0.0, 0.0, 0.0, 0.0, 0.0, 0.0, 0.0, 0.0], [0.008097532205283642, 2.481352748873178e-05, 0.0037343096919357777, 0.006887324620038271, 0.004495605360716581, 0.018109504133462906, 0.0025295731611549854, 0.0032156198285520077, 0.004094447009265423, 0.5446145534515381, 0.049116041511297226, 0.039518240839242935, 0.3155623972415924, 0.0, 0.0, 0.0, 0.0, 0.0, 0.0, 0.0, 0.0, 0.0], [0.0035037361085414886, 0.06667819619178772, 0.001736211939714849, 0.0007639209507033229, 0.0011706608347594738, 0.0003909475344698876, 5.497553138411604e-05, 0.0005313370493240654, 0.00853029265999794, 0.0012659333879128098, 0.03735358640551567, 0.04629163816571236, 0.0006063376786187291, 0.8311221599578857, 0.0, 0.0, 0.0, 0.0, 0.0, 0.0, 0.0, 0.0], [0.0001147620496340096, 2.0993067664676346e-05, 8.885528950486332e-05, 0.00014809616550337523, 0.08292601257562637, 0.012382283806800842, 0.005091121885925531, 0.6137623190879822, 0.007480103988200426, 0.0006771606276743114, 1.0523040145926643e-05, 9.361287084175274e-06, 0.0006453635287471116, 0.00010908207332249731, 0.27653396129608154, 0.0, 0.0, 0.0, 0.0, 0.0, 0.0, 0.0], [8.420580707024783e-05, 9.836405752139399e-07, 0.00023221959418151528, 0.0003209249989595264, 0.003915400244295597, 0.013205149210989475, 0.6947964429855347, 0.021316060796380043, 0.0014255120186135173, 0.0008184675825759768, 3.914440094376914e-05, 5.263809362077154e-05, 0.00202906783670187, 1.4988926523074042e-05, 0.013352559879422188, 0.24839627742767334, 0.0, 0.0, 0.0, 0.0, 0.0, 0.0], [0.0010887021198868752, 1.8926990378531627e-05, 0.0004012352437712252, 0.00013266118185129017, 0.0471692755818367, 0.6976421475410461, 0.01803452894091606, 0.03825078904628754, 0.0040522473864257336, 0.0038992278277873993, 3.091705002589151e-05, 4.683653241954744e-05, 0.00638826796784997, 0.00010903870133915916, 0.032352130860090256, 0.008768854662775993, 0.14161421358585358, 0.0, 0.0, 0.0, 0.0, 0.0], [0.000537324754986912, 0.00029983860440552235, 0.0019206488505005836, 0.0006547350785695016, 0.15405356884002686, 0.07175352424383163, 0.0022276323288679123, 0.13722966611385345, 0.01623253896832466, 0.003649559337645769, 2.6287829314242117e-05, 3.3422966225771233e-05, 0.0037673357874155045, 0.000253877806244418, 0.11231384426355362, 0.0016809633234515786, 0.016955796629190445, 0.4764094352722168, 0.0, 0.0, 0.0, 0.0], [0.003320623654872179, 0.004068266600370407, 0.019506340846419334, 0.7127814888954163, 0.0029418712947517633, 0.0018969124648720026, 0.002759723924100399, 0.002326199086382985, 0.0005426660063676536, 0.00618413370102644, 0.00327239534817636, 0.0024699156638234854, 0.0037534842267632484, 0.0005035769427195191, 0.001777410157956183, 0.002403126796707511, 0.0013879159232601523, 0.0017390147550031543, 0.22636491060256958, 0.0, 0.0, 0.0], [0.004820035304874182, 0.21979454159736633, 0.1519167423248291, 0.13794557750225067, 0.002925471169874072, 0.00849432684481144, 0.0027428646571934223, 0.0008611473022028804, 0.009213699027895927, 0.003346850862726569, 0.005212308373302221, 0.009162490256130695, 0.0036367301363497972, 0.048658337444067, 0.001213866868056357, 0.0023485354613512754, 0.004089509602636099, 0.0026845054235309362, 0.21281658113002777, 0.16811592876911163, 0.0, 0.0], [0.01309153065085411, 0.08841801434755325, 0.35293105244636536, 0.11666757613420486, 0.02932349033653736, 0.018152058124542236, 0.01002096850425005, 0.010512853972613811, 0.008950777351856232, 0.014482289552688599, 0.0037221249658614397, 0.005192395765334368, 0.02689783088862896, 0.0030687926337122917, 0.020726986229419708, 0.023650888353586197, 0.03503045812249184, 0.02720034308731556, 0.11035848408937454, 0.015233217738568783, 0.06636782735586166, 0.0], [0.17420534789562225, 0.008149310946464539, 0.00468235881999135, 0.0009027689811773598, 0.03548211231827736, 0.06455617398023605, 0.001378172542899847, 0.002131075132638216, 0.0007071967120282352, 0.058559685945510864, 0.05189601331949234, 0.07840685546398163, 0.04471174627542496, 0.005629329010844231, 0.0029624036978930235, 0.00222439575009048, 0.05202396959066391, 0.023345304653048515, 0.0008302891510538757, 0.004322755616158247, 0.002858610125258565, 0.38003408908843994]], [[1.0, 0.0, 0.0, 0.0, 0.0, 0.0, 0.0, 0.0, 0.0, 0.0, 0.0, 0.0, 0.0, 0.0, 0.0, 0.0, 0.0, 0.0, 0.0, 0.0, 0.0, 0.0], [0.381006121635437, 0.618993878364563, 0.0, 0.0, 0.0, 0.0, 0.0, 0.0, 0.0, 0.0, 0.0, 0.0, 0.0, 0.0, 0.0, 0.0, 0.0, 0.0, 0.0, 0.0, 0.0, 0.0], [0.9642676711082458, 0.028438029810786247, 0.007294249255210161, 0.0, 0.0, 0.0, 0.0, 0.0, 0.0, 0.0, 0.0, 0.0, 0.0, 0.0, 0.0, 0.0, 0.0, 0.0, 0.0, 0.0, 0.0, 0.0], [0.8291080594062805, 0.052866123616695404, 0.026471352204680443, 0.0915544331073761, 0.0, 0.0, 0.0, 0.0, 0.0, 0.0, 0.0, 0.0, 0.0, 0.0, 0.0, 0.0, 0.0, 0.0, 0.0, 0.0, 0.0, 0.0], [0.04240025207400322, 0.037768103182315826, 0.1666664183139801, 0.734512209892273, 0.01865312270820141, 0.0, 0.0, 0.0, 0.0, 0.0, 0.0, 0.0, 0.0, 0.0, 0.0, 0.0, 0.0, 0.0, 0.0, 0.0, 0.0, 0.0], [0.22727058827877045, 0.046380557119846344, 0.06357456743717194, 0.11410993337631226, 0.527936577796936, 0.02072777971625328, 0.0, 0.0, 0.0, 0.0, 0.0, 0.0, 0.0, 0.0, 0.0, 0.0, 0.0, 0.0, 0.0, 0.0, 0.0, 0.0], [0.21414485573768616, 0.07200443744659424, 0.008811858482658863, 0.03830742835998535, 0.5548924803733826, 0.06437081098556519, 0.04746812582015991, 0.0, 0.0, 0.0, 0.0, 0.0, 0.0, 0.0, 0.0, 0.0, 0.0, 0.0, 0.0, 0.0, 0.0, 0.0], [0.057833269238471985, 0.1181941032409668, 0.17274416983127594, 0.11665070801973343, 0.012564114294946194, 0.10468558222055435, 0.3987107276916504, 0.01861734874546528, 0.0, 0.0, 0.0, 0.0, 0.0, 0.0, 0.0, 0.0, 0.0, 0.0, 0.0, 0.0, 0.0, 0.0], [0.23222573101520538, 0.027820440009236336, 0.02274926006793976, 0.06287504732608795, 0.14408710598945618, 0.054528336971998215, 0.14791430532932281, 0.28602272272109985, 0.02177705615758896, 0.0, 0.0, 0.0, 0.0, 0.0, 0.0, 0.0, 0.0, 0.0, 0.0, 0.0, 0.0, 0.0], [0.12168655544519424, 0.016856813803315163, 0.0428641214966774, 0.0375114306807518, 0.2849203050136566, 0.05872438848018646, 0.07721088826656342, 0.2624489665031433, 0.07229986041784286, 0.025476640090346336, 0.0, 0.0, 0.0, 0.0, 0.0, 0.0, 0.0, 0.0, 0.0, 0.0, 0.0, 0.0], [0.048030443489551544, 0.0191836915910244, 0.07424362003803253, 0.08431626111268997, 0.16928410530090332, 0.14675280451774597, 0.06659279763698578, 0.18460427224636078, 0.16206614673137665, 0.03392940014600754, 0.010996468365192413, 0.0, 0.0, 0.0, 0.0, 0.0, 0.0, 0.0, 0.0, 0.0, 0.0, 0.0], [0.03162539750337601, 0.004544256255030632, 0.032567109912633896, 0.16737902164459229, 0.17711341381072998, 0.0695677250623703, 0.07114195078611374, 0.23083142936229706, 0.1637672781944275, 0.02951383776962757, 0.012437879107892513, 0.00951072946190834, 0.0, 0.0, 0.0, 0.0, 0.0, 0.0, 0.0, 0.0, 0.0, 0.0], [0.07974423468112946, 0.004642728716135025, 0.00906858965754509, 0.06768840551376343, 0.28329962491989136, 0.018524568527936935, 0.03556492179632187, 0.38763126730918884, 0.033651240170001984, 0.01278985571116209, 0.04114212468266487, 0.021401120349764824, 0.004851299803704023, 0.0, 0.0, 0.0, 0.0, 0.0, 0.0, 0.0, 0.0, 0.0], [0.03181788697838783, 0.001973493490368128, 0.009512007236480713, 0.22006428241729736, 0.0859387218952179, 0.01942748948931694, 0.06514356285333633, 0.2378694862127304, 0.038833700120449066, 0.09960311651229858, 0.07108859717845917, 0.04558577761054039, 0.055444903671741486, 0.017697013914585114, 0.0, 0.0, 0.0, 0.0, 0.0, 0.0, 0.0, 0.0], [0.02280956692993641, 0.010949398390948772, 0.02268500253558159, 0.15379443764686584, 0.007002681028097868, 0.02171386033296585, 0.0804319679737091, 0.01011209562420845, 0.03086915612220764, 0.15089963376522064, 0.15664279460906982, 0.12033475935459137, 0.08744198083877563, 0.11283400654792786, 0.011478694155812263, 0.0, 0.0, 0.0, 0.0, 0.0, 0.0, 0.0], [0.04246837645769119, 0.005307318177074194, 0.0020291272085160017, 0.02505023218691349, 0.1705380529165268, 0.010110502131283283, 0.009024015627801418, 0.2895214855670929, 0.03316007927060127, 0.03842552378773689, 0.06697050482034683, 0.04941152036190033, 0.022923998534679413, 0.04452396184206009, 0.18165351450443268, 0.008881770074367523, 0.0, 0.0, 0.0, 0.0, 0.0, 0.0], [0.0655117928981781, 0.007549372501671314, 0.0049641928635537624, 0.05237961187958717, 0.09475407004356384, 0.001892543863505125, 0.01380391325801611, 0.16524304449558258, 0.014237611554563046, 0.031851742416620255, 0.22666949033737183, 0.1392228901386261, 0.013052264228463173, 0.04833510145545006, 0.10820222645998001, 0.010702996514737606, 0.0016271985368803144, 0.0, 0.0, 0.0, 0.0, 0.0], [0.02613203227519989, 0.03409188613295555, 0.07555141299962997, 0.11251119524240494, 0.006145313382148743, 0.03225376456975937, 0.11260011792182922, 0.008009001612663269, 0.025550974532961845, 0.11504746973514557, 0.1012066900730133, 0.07826835662126541, 0.0830119252204895, 0.037190940231084824, 0.00732841994613409, 0.09925542026758194, 0.03976795822381973, 0.006077093072235584, 0.0, 0.0, 0.0, 0.0], [0.04018212482333183, 0.0007589735905639827, 0.0005953532527200878, 0.031057363376021385, 0.06484027951955795, 0.05637054145336151, 0.012754660099744797, 0.11416548490524292, 0.030727967619895935, 0.1429525911808014, 0.044893864542245865, 0.0541406087577343, 0.10194161534309387, 0.04318296164274216, 0.11385390907526016, 0.022460727021098137, 0.03388775512576103, 0.05196879804134369, 0.03926437720656395, 0.0, 0.0, 0.0], [0.051165834069252014, 0.004035358317196369, 0.001361773000098765, 0.009183740243315697, 0.07512836903333664, 0.025797348469495773, 0.01838698424398899, 0.2095661759376526, 0.027922797948122025, 0.13755479454994202, 0.10537426918745041, 0.05824374407529831, 0.05473048612475395, 0.027218153700232506, 0.0914694219827652, 0.006838047411292791, 0.011506368406116962, 0.06928892433643341, 0.012767944484949112, 0.0024595020804554224, 0.0, 0.0], [0.019365938380360603, 0.7332450747489929, 0.013913702219724655, 0.00285698170773685, 0.020528052002191544, 0.008171129040420055, 0.004373233299702406, 0.02217591553926468, 0.004650087095797062, 0.0015907671768218279, 0.007889650762081146, 0.0041358270682394505, 0.0010403653141111135, 0.024036796763539314, 0.01240223553031683, 0.0026221952866762877, 0.0075547960586845875, 0.027874287217855453, 0.0021674297749996185, 0.01803581416606903, 0.061369750648736954, 0.0], [0.057602718472480774, 0.030233895406126976, 0.027616797015070915, 0.2279566079378128, 0.020697416737675667, 0.023562375456094742, 0.015108732506632805, 0.01473054476082325, 0.00537214707583189, 0.03853829577565193, 0.053711533546447754, 0.06537941843271255, 0.04626698046922684, 0.013074364513158798, 0.01947961188852787, 0.023267630487680435, 0.03389809653162956, 0.014455635100603104, 0.18296007812023163, 0.017155369743704796, 0.03787961229681969, 0.031052108854055405]], [[1.0, 0.0, 0.0, 0.0, 0.0, 0.0, 0.0, 0.0, 0.0, 0.0, 0.0, 0.0, 0.0, 0.0, 0.0, 0.0, 0.0, 0.0, 0.0, 0.0, 0.0, 0.0], [0.41370171308517456, 0.5862982869148254, 0.0, 0.0, 0.0, 0.0, 0.0, 0.0, 0.0, 0.0, 0.0, 0.0, 0.0, 0.0, 0.0, 0.0, 0.0, 0.0, 0.0, 0.0, 0.0, 0.0], [0.3995257019996643, 0.23483601212501526, 0.3656383156776428, 0.0, 0.0, 0.0, 0.0, 0.0, 0.0, 0.0, 0.0, 0.0, 0.0, 0.0, 0.0, 0.0, 0.0, 0.0, 0.0, 0.0, 0.0, 0.0], [0.27004191279411316, 0.2615634799003601, 0.3108149766921997, 0.15757957100868225, 0.0, 0.0, 0.0, 0.0, 0.0, 0.0, 0.0, 0.0, 0.0, 0.0, 0.0, 0.0, 0.0, 0.0, 0.0, 0.0, 0.0, 0.0], [0.19673214852809906, 0.1860666275024414, 0.14231112599372864, 0.020869402214884758, 0.4540206789970398, 0.0, 0.0, 0.0, 0.0, 0.0, 0.0, 0.0, 0.0, 0.0, 0.0, 0.0, 0.0, 0.0, 0.0, 0.0, 0.0, 0.0], [0.10501294583082199, 0.22977133095264435, 0.2623746395111084, 0.04090188443660736, 0.3255707621574402, 0.03636844456195831, 0.0, 0.0, 0.0, 0.0, 0.0, 0.0, 0.0, 0.0, 0.0, 0.0, 0.0, 0.0, 0.0, 0.0, 0.0, 0.0], [0.09850689023733139, 0.19951380789279938, 0.18567772209644318, 0.05573080852627754, 0.24154888093471527, 0.0633685365319252, 0.15565335750579834, 0.0, 0.0, 0.0, 0.0, 0.0, 0.0, 0.0, 0.0, 0.0, 0.0, 0.0, 0.0, 0.0, 0.0, 0.0], [0.1523922234773636, 0.14932729303836823, 0.17940203845500946, 0.06935176253318787, 0.23673288524150848, 0.05366246774792671, 0.11333587020635605, 0.04579553008079529, 0.0, 0.0, 0.0, 0.0, 0.0, 0.0, 0.0, 0.0, 0.0, 0.0, 0.0, 0.0, 0.0, 0.0], [0.06755837798118591, 0.08206444978713989, 0.10998252034187317, 0.07444354891777039, 0.08722735196352005, 0.10578377544879913, 0.13982613384723663, 0.09860530495643616, 0.23450851440429688, 0.0, 0.0, 0.0, 0.0, 0.0, 0.0, 0.0, 0.0, 0.0, 0.0, 0.0, 0.0, 0.0], [0.10275058448314667, 0.10566012561321259, 0.17480674386024475, 0.07435683161020279, 0.14817312359809875, 0.06367895752191544, 0.09634481370449066, 0.052148401737213135, 0.09129759669303894, 0.09078282117843628, 0.0, 0.0, 0.0, 0.0, 0.0, 0.0, 0.0, 0.0, 0.0, 0.0, 0.0, 0.0], [0.10039293766021729, 0.08195730298757553, 0.219983771443367, 0.06408210098743439, 0.1437305212020874, 0.057054754346609116, 0.08264615386724472, 0.04429307579994202, 0.08610010892152786, 0.07056943327188492, 0.04918984696269035, 0.0, 0.0, 0.0, 0.0, 0.0, 0.0, 0.0, 0.0, 0.0, 0.0, 0.0], [0.11342272162437439, 0.03646694868803024, 0.10670080035924911, 0.041571132838726044, 0.08890414983034134, 0.04442935436964035, 0.07468091696500778, 0.041463788598775864, 0.058249883353710175, 0.06567024439573288, 0.06378838419914246, 0.26465171575546265, 0.0, 0.0, 0.0, 0.0, 0.0, 0.0, 0.0, 0.0, 0.0, 0.0], [0.08802251517772675, 0.038663893938064575, 0.09238893538713455, 0.034640174359083176, 0.07984337210655212, 0.02901102416217327, 0.04801660776138306, 0.02535388432443142, 0.03841525688767433, 0.04949842765927315, 0.043572790920734406, 0.26131805777549744, 0.17125508189201355, 0.0, 0.0, 0.0, 0.0, 0.0, 0.0, 0.0, 0.0, 0.0], [0.1354372203350067, 0.027788162231445312, 0.04397384077310562, 0.051934611052274704, 0.04030416160821915, 0.05883919820189476, 0.06967629492282867, 0.06463566422462463, 0.062876395881176, 0.09572628140449524, 0.12382414191961288, 0.09976351261138916, 0.08615115284919739, 0.03906934708356857, 0.0, 0.0, 0.0, 0.0, 0.0, 0.0, 0.0, 0.0], [0.021425046026706696, 0.005652105901390314, 0.017759885638952255, 0.002185284625738859, 0.025757985189557076, 0.0007475369493477046, 0.0015720955561846495, 0.0007486727554351091, 0.0004006779345218092, 0.001223390456289053, 0.0006121252663433552, 0.03108413890004158, 0.01717977784574032, 0.8562159538269043, 0.017435256391763687, 0.0, 0.0, 0.0, 0.0, 0.0, 0.0, 0.0], [0.05993756279349327, 0.052728913724422455, 0.08422692120075226, 0.026567360386252403, 0.0921688973903656, 0.025454474613070488, 0.05879531428217888, 0.02924935333430767, 0.018071511760354042, 0.019983792677521706, 0.023896200582385063, 0.06237422674894333, 0.03788412734866142, 0.24315443634986877, 0.07409896701574326, 0.09140787273645401, 0.0, 0.0, 0.0, 0.0, 0.0, 0.0], [0.0014299285830929875, 0.0019623679108917713, 0.003036493668332696, 0.00020981446141377091, 0.004682884085923433, 0.0001129329320974648, 0.0002670040703378618, 0.0001017001923173666, 0.00010272848885506392, 0.0001450086128897965, 8.356427861144766e-05, 0.006340886931866407, 0.003404744900763035, 0.9702579975128174, 0.002579325344413519, 0.004277154803276062, 0.0010055183665826917, 0.0, 0.0, 0.0, 0.0, 0.0], [0.010212991386651993, 0.0028748030308634043, 0.012941582128405571, 0.0012521060416474938, 0.014730113558471203, 0.0005081411218270659, 0.0011078619863837957, 0.0004096203192602843, 0.0003587270330172032, 0.000833354948554188, 0.0003976584121119231, 0.029788298532366753, 0.014889185316860676, 0.8835392594337463, 0.006918605882674456, 0.01158934086561203, 0.0035300436429679394, 0.004118358250707388, 0.0, 0.0, 0.0, 0.0], [0.05719198286533356, 0.022332949563860893, 0.0652405172586441, 0.044031623750925064, 0.04063441976904869, 0.03079770877957344, 0.03232091665267944, 0.020617645233869553, 0.023791149258613586, 0.043869588524103165, 0.05256495252251625, 0.11104143410921097, 0.06373555958271027, 0.1714603751897812, 0.030468065291643143, 0.03766704350709915, 0.06144668161869049, 0.02709476836025715, 0.06369258463382721, 0.0, 0.0, 0.0], [0.047270167618989944, 0.010768254287540913, 0.06689077615737915, 0.02084333635866642, 0.04083241522312164, 0.01402748841792345, 0.019630301743745804, 0.011527898721396923, 0.011837839148938656, 0.016997521743178368, 0.01851002313196659, 0.08467062562704086, 0.044073812663555145, 0.33716344833374023, 0.03138822317123413, 0.037352174520492554, 0.0478208102285862, 0.025486677885055542, 0.03571643307805061, 0.07719172537326813, 0.0, 0.0], [0.01344403624534607, 0.05693009868264198, 0.02351885847747326, 0.033650510013103485, 0.02637517638504505, 0.0495099239051342, 0.025470193475484848, 0.02958003245294094, 0.03227631002664566, 0.039488535374403, 0.02714802697300911, 0.022112805396318436, 0.03651054576039314, 0.021570606157183647, 0.018561769276857376, 0.022272104397416115, 0.03986538201570511, 0.022130699828267097, 0.05631324276328087, 0.029756799340248108, 0.3735143840312958, 0.0], [3.5412660508882254e-05, 1.3828640476276632e-05, 4.90486272610724e-05, 7.693835755162581e-07, 7.354410627158359e-05, 1.831750751080108e-07, 9.459447483095573e-07, 1.1920474918269974e-07, 1.4392749392300175e-07, 5.758378733844438e-07, 2.3484955136154895e-07, 0.0004951156442984939, 0.00011293007992208004, 0.998711109161377, 2.2494486984214745e-05, 8.00384150352329e-05, 5.95962683291873e-06, 6.052126536815194e-06, 6.377745739882812e-05, 0.0002677237498573959, 1.9563891839879943e-07, 5.986351243336685e-05]], [[1.0, 0.0, 0.0, 0.0, 0.0, 0.0, 0.0, 0.0, 0.0, 0.0, 0.0, 0.0, 0.0, 0.0, 0.0, 0.0, 0.0, 0.0, 0.0, 0.0, 0.0, 0.0], [0.5261896848678589, 0.4738103151321411, 0.0, 0.0, 0.0, 0.0, 0.0, 0.0, 0.0, 0.0, 0.0, 0.0, 0.0, 0.0, 0.0, 0.0, 0.0, 0.0, 0.0, 0.0, 0.0, 0.0], [0.33257174491882324, 0.3909071087837219, 0.27652114629745483, 0.0, 0.0, 0.0, 0.0, 0.0, 0.0, 0.0, 0.0, 0.0, 0.0, 0.0, 0.0, 0.0, 0.0, 0.0, 0.0, 0.0, 0.0, 0.0], [0.3151375353336334, 0.37754932045936584, 0.15605957806110382, 0.1512536108493805, 0.0, 0.0, 0.0, 0.0, 0.0, 0.0, 0.0, 0.0, 0.0, 0.0, 0.0, 0.0, 0.0, 0.0, 0.0, 0.0, 0.0, 0.0], [0.15654319524765015, 0.40315181016921997, 0.08522503823041916, 0.18656928837299347, 0.16851066052913666, 0.0, 0.0, 0.0, 0.0, 0.0, 0.0, 0.0, 0.0, 0.0, 0.0, 0.0, 0.0, 0.0, 0.0, 0.0, 0.0, 0.0], [0.15329785645008087, 0.346286416053772, 0.05850023403763771, 0.10459107905626297, 0.13108570873737335, 0.2062387317419052, 0.0, 0.0, 0.0, 0.0, 0.0, 0.0, 0.0, 0.0, 0.0, 0.0, 0.0, 0.0, 0.0, 0.0, 0.0, 0.0], [0.13958269357681274, 0.18206451833248138, 0.13760921359062195, 0.13886766135692596, 0.09373787045478821, 0.14282722771167755, 0.1653107851743698, 0.0, 0.0, 0.0, 0.0, 0.0, 0.0, 0.0, 0.0, 0.0, 0.0, 0.0, 0.0, 0.0, 0.0, 0.0], [0.12137243896722794, 0.1393120437860489, 0.06305987387895584, 0.06358634680509567, 0.17819775640964508, 0.11867295950651169, 0.16017362475395203, 0.15562492609024048, 0.0, 0.0, 0.0, 0.0, 0.0, 0.0, 0.0, 0.0, 0.0, 0.0, 0.0, 0.0, 0.0, 0.0], [0.16482031345367432, 0.14061251282691956, 0.11292584985494614, 0.09727689623832703, 0.0796513557434082, 0.09788120537996292, 0.11165082454681396, 0.08643164485692978, 0.10874935239553452, 0.0, 0.0, 0.0, 0.0, 0.0, 0.0, 0.0, 0.0, 0.0, 0.0, 0.0, 0.0, 0.0], [0.06798408925533295, 0.14104127883911133, 0.023386063054203987, 0.03881634771823883, 0.1035304144024849, 0.10820398479700089, 0.14046317338943481, 0.14758926630020142, 0.07857456803321838, 0.15041080117225647, 0.0, 0.0, 0.0, 0.0, 0.0, 0.0, 0.0, 0.0, 0.0, 0.0, 0.0, 0.0], [0.060376640409231186, 0.15398643910884857, 0.02472338266670704, 0.04857632890343666, 0.05495526269078255, 0.10500199347734451, 0.1000034436583519, 0.1080944687128067, 0.06615868955850601, 0.1401648372411728, 0.1379586011171341, 0.0, 0.0, 0.0, 0.0, 0.0, 0.0, 0.0, 0.0, 0.0, 0.0, 0.0], [0.054756421595811844, 0.16053494811058044, 0.027161989361047745, 0.06482233852148056, 0.045333366841077805, 0.10675444453954697, 0.08401177823543549, 0.11355283856391907, 0.07633616775274277, 0.12153708189725876, 0.11086885631084442, 0.034329768270254135, 0.0, 0.0, 0.0, 0.0, 0.0, 0.0, 0.0, 0.0, 0.0, 0.0], [0.04890190064907074, 0.10624764114618301, 0.0194424856454134, 0.039230745285749435, 0.06979704648256302, 0.08790405839681625, 0.09908837080001831, 0.12644170224666595, 0.06732260435819626, 0.11061587184667587, 0.11840043216943741, 0.04233681410551071, 0.06427035480737686, 0.0, 0.0, 0.0, 0.0, 0.0, 0.0, 0.0, 0.0, 0.0], [0.07436786592006683, 0.07927652448415756, 0.09679975360631943, 0.13998554646968842, 0.04689644277095795, 0.08044376224279404, 0.048269059509038925, 0.07197669893503189, 0.0965081974864006, 0.06384453177452087, 0.05709809437394142, 0.04929547384381294, 0.04712279140949249, 0.0481153167784214, 0.0, 0.0, 0.0, 0.0, 0.0, 0.0, 0.0, 0.0], [0.046298153698444366, 0.09400284290313721, 0.024831034243106842, 0.043728306889534, 0.07235009968280792, 0.07239343225955963, 0.0741366595029831, 0.09135348349809647, 0.05861249938607216, 0.08322159200906754, 0.10876642912626266, 0.049048613756895065, 0.05877075344324112, 0.03858979046344757, 0.08389630168676376, 0.0, 0.0, 0.0, 0.0, 0.0, 0.0, 0.0], [0.054178714752197266, 0.08764325082302094, 0.0762256309390068, 0.0797056332230568, 0.042888276278972626, 0.060592569410800934, 0.06851958483457565, 0.049803219735622406, 0.059137504547834396, 0.05693551152944565, 0.05941315367817879, 0.06001904979348183, 0.05379927530884743, 0.07288602739572525, 0.047728054225444794, 0.07052460312843323, 0.0, 0.0, 0.0, 0.0, 0.0, 0.0], [0.03852842003107071, 0.1558723896741867, 0.014368205331265926, 0.032686371356248856, 0.04095287248492241, 0.06746336072683334, 0.06242857128381729, 0.09389286488294601, 0.05036461725831032, 0.09625689685344696, 0.1351723074913025, 0.027619928121566772, 0.04166111350059509, 0.017959648743271828, 0.05168130621314049, 0.03481479361653328, 0.038276344537734985, 0.0, 0.0, 0.0, 0.0, 0.0], [0.043576400727033615, 0.09089506417512894, 0.02110227942466736, 0.0382380336523056, 0.06087806448340416, 0.06986220180988312, 0.05444563552737236, 0.08180014044046402, 0.051186587661504745, 0.07804786413908005, 0.09867744892835617, 0.034090716391801834, 0.04640341177582741, 0.023762762546539307, 0.06671617925167084, 0.03510403260588646, 0.05514363572001457, 0.050069548189640045, 0.0, 0.0, 0.0, 0.0], [0.03878923878073692, 0.06799313426017761, 0.02435796894133091, 0.02910713292658329, 0.09762130677700043, 0.061009567230939865, 0.05008590966463089, 0.0745692029595375, 0.054493412375450134, 0.04399092495441437, 0.050064556300640106, 0.041357140988111496, 0.039722707122564316, 0.05072444677352905, 0.07772333174943924, 0.049068547785282135, 0.05958487465977669, 0.05930599197745323, 0.030430607497692108, 0.0, 0.0, 0.0], [0.054871439933776855, 0.07444937527179718, 0.047749996185302734, 0.051241885870695114, 0.0545569472014904, 0.06584762036800385, 0.03897096589207649, 0.05138815566897392, 0.0622018426656723, 0.052039261907339096, 0.04590015113353729, 0.041465017944574356, 0.04612058028578758, 0.054292261600494385, 0.04532431438565254, 0.03280869871377945, 0.06157119944691658, 0.04036210477352142, 0.0400257334113121, 0.03881245478987694, 0.0, 0.0], [0.0404902808368206, 0.0465213917195797, 0.046425335109233856, 0.041838955134153366, 0.061036914587020874, 0.047063954174518585, 0.039126843214035034, 0.04643392562866211, 0.03866162523627281, 0.03741225227713585, 0.0367654450237751, 0.04501939192414284, 0.040589578449726105, 0.04844892770051956, 0.05622837319970131, 0.041568562388420105, 0.057186394929885864, 0.061697397381067276, 0.05406981706619263, 0.06808844953775406, 0.04532616585493088, 0.0], [0.0026061376556754112, 0.01867096684873104, 0.0006531896651722491, 0.005485862959176302, 0.001915937988087535, 0.012500641867518425, 0.006770939566195011, 0.015889177098870277, 0.005754625890403986, 0.015944870188832283, 0.02189049869775772, 0.0008962849387899041, 0.002312097232788801, 0.00021077709970995784, 0.002995195100083947, 0.0013881881022825837, 0.002908254973590374, 0.0032513916958123446, 0.0025457448791712523, 0.00047853842261247337, 0.8732008337974548, 0.0017299163155257702]]], \"headLabels\": [\"0.0\", \"0.1\", \"1.0\", \"1.1\"]}\n",
              "    )\n",
              "    </script>"
            ]
          },
          "metadata": {}
        }
      ]
    },
    {
      "cell_type": "markdown",
      "source": [
        "We can see that the last postition of H1.0 places a lot of attention on the token at index 13. This corresponds to the token '30', which is (partially) responsible for the input not being a palindrome.\n",
        "\n",
        "We also see that H0.0 places high attention from index 13 to index 13. Thus, H0.0's output at index 13 is essentially the value corresponding to index 13 (passed through it's W_O).\n",
        "\n",
        "We can show that this value, when composed with H1.0's OV circuit, results in a large direct logit attribution in the 'non-palindrome direction.'"
      ],
      "metadata": {
        "id": "AY--ZwxC5MQ_"
      }
    },
    {
      "cell_type": "code",
      "source": [
        "nonpal_token_index = 13\n",
        "\n",
        "# get the value from h0.0 corresponding to the nonpal token index\n",
        "h00_v_nonpal = cache[utils.get_act_name('v', 0)][index, nonpal_token_index, 0, :].unsqueeze(0)\n",
        "\n",
        "# convert to h0.0 output\n",
        "h00_W_O = model.W_O[0,0]\n",
        "h00_o_nonpal = h00_v_nonpal @ h00_W_O\n",
        "\n",
        "# apply h1.0's OV circuit\n",
        "h10_W_V = model.W_V[1,0]\n",
        "h10_W_O = model.W_O[1,0]\n",
        "h10_o_nonpal = h00_o_nonpal @ h10_W_V @ h10_W_O\n",
        "\n",
        "# now we have a direction in residual space\n",
        "# now we can dot it with the non-pal direction\n",
        "# we expect a high dot product\n",
        "post_final_ln_dir = get_post_final_ln_dir(model).unsqueeze(0)\n",
        "dot = h10_o_nonpal @ post_final_ln_dir.T\n",
        "print(f\"Dot product corresponding to non-pal sequence position: {dot.item():.4f}\")"
      ],
      "metadata": {
        "colab": {
          "base_uri": "https://localhost:8080/"
        },
        "id": "upBMT1knuiH4",
        "outputId": "aa4faa8b-5a30-438d-8f5a-6330159e3cc0"
      },
      "execution_count": 29,
      "outputs": [
        {
          "output_type": "stream",
          "name": "stdout",
          "text": [
            "Dot product corresponding to non-pal sequence position: 20.1647\n"
          ]
        }
      ]
    },
    {
      "cell_type": "markdown",
      "source": [
        "We can check this value for every sequence position."
      ],
      "metadata": {
        "id": "cNPjPuDZ75D0"
      }
    },
    {
      "cell_type": "code",
      "source": [
        "# get the value from h0.0 corresponding to each token index\n",
        "h00_v = cache[utils.get_act_name('v', 0)][index, 1:21, 0, :]\n",
        "\n",
        "# # convert to h0.0 output\n",
        "h00_W_O = model.W_O[0,0]\n",
        "h00_o = h00_v @ h00_W_O #einops.einsum(h00_v, h00_W_O, 'seq d_head, d_head d_model -> seq d_model')\n",
        "\n",
        "\n",
        "# apply h1.0's OV circuit\n",
        "h10_W_V = model.W_V[1,0]\n",
        "h10_W_O = model.W_O[1,0]\n",
        "h10_W_OV = h10_W_V @ h10_W_O\n",
        "h10_o = einops.einsum(h00_o, h10_W_OV, 'seq d_model1, d_model1 d_model2 -> seq d_model2')\n",
        "# # now we have a direction in residual space\n",
        "# # now we can dot it with the non-pal direction\n",
        "# # we expect a high dot product\n",
        "post_final_ln_dir = get_post_final_ln_dir(model).unsqueeze(0)\n",
        "dot = einops.einsum(h10_o, post_final_ln_dir, 'seq d_model, n d_model -> seq n')\n",
        "\n",
        "fig = go.Figure(data=go.Scatter(x=list(range(1, 21)), y=dot.view(-1).cpu().detach().numpy(), mode='markers', marker=dict(color=['red']*10 + ['blue']*10)))\n",
        "fig.update_layout(title='Logit attribution of H0.0 values through H1.0 OV, on example #2', xaxis_title='Sequence position', yaxis_title='Logit attribution', height=400, width=800)\n",
        "fig.add_shape(type='line', x0=0, y0=0, x1=22, y1=0, line=dict(color='Black'))\n",
        "fig.show()"
      ],
      "metadata": {
        "colab": {
          "base_uri": "https://localhost:8080/",
          "height": 417
        },
        "id": "LcZUwGRn7VLg",
        "outputId": "a49b3253-fe98-4d78-ee9c-dd2eccb6db82"
      },
      "execution_count": 30,
      "outputs": [
        {
          "output_type": "display_data",
          "data": {
            "text/html": [
              "<html>\n",
              "<head><meta charset=\"utf-8\" /></head>\n",
              "<body>\n",
              "    <div>            <script src=\"https://cdnjs.cloudflare.com/ajax/libs/mathjax/2.7.5/MathJax.js?config=TeX-AMS-MML_SVG\"></script><script type=\"text/javascript\">if (window.MathJax && window.MathJax.Hub && window.MathJax.Hub.Config) {window.MathJax.Hub.Config({SVG: {font: \"STIX-Web\"}});}</script>                <script type=\"text/javascript\">window.PlotlyConfig = {MathJaxConfig: 'local'};</script>\n",
              "        <script charset=\"utf-8\" src=\"https://cdn.plot.ly/plotly-2.24.1.min.js\"></script>                <div id=\"4b3698b9-5fdc-4207-be00-b215a3093a42\" class=\"plotly-graph-div\" style=\"height:400px; width:800px;\"></div>            <script type=\"text/javascript\">                                    window.PLOTLYENV=window.PLOTLYENV || {};                                    if (document.getElementById(\"4b3698b9-5fdc-4207-be00-b215a3093a42\")) {                    Plotly.newPlot(                        \"4b3698b9-5fdc-4207-be00-b215a3093a42\",                        [{\"marker\":{\"color\":[\"red\",\"red\",\"red\",\"red\",\"red\",\"red\",\"red\",\"red\",\"red\",\"red\",\"blue\",\"blue\",\"blue\",\"blue\",\"blue\",\"blue\",\"blue\",\"blue\",\"blue\",\"blue\"]},\"mode\":\"markers\",\"x\":[1,2,3,4,5,6,7,8,9,10,11,12,13,14,15,16,17,18,19,20],\"y\":[4.294552803039551,2.7479116916656494,-5.126053333282471,1.5946273803710938,-7.21727180480957,-5.5016350746154785,-10.573446273803711,-9.390962600708008,-9.007956504821777,-9.10649585723877,14.003735542297363,16.51939582824707,20.164653778076172,16.80921173095703,15.766345977783203,16.15277099609375,-1.3925434350967407,12.876691818237305,-4.448551654815674,-12.572593688964844],\"type\":\"scatter\"}],                        {\"template\":{\"data\":{\"histogram2dcontour\":[{\"type\":\"histogram2dcontour\",\"colorbar\":{\"outlinewidth\":0,\"ticks\":\"\"},\"colorscale\":[[0.0,\"#0d0887\"],[0.1111111111111111,\"#46039f\"],[0.2222222222222222,\"#7201a8\"],[0.3333333333333333,\"#9c179e\"],[0.4444444444444444,\"#bd3786\"],[0.5555555555555556,\"#d8576b\"],[0.6666666666666666,\"#ed7953\"],[0.7777777777777778,\"#fb9f3a\"],[0.8888888888888888,\"#fdca26\"],[1.0,\"#f0f921\"]]}],\"choropleth\":[{\"type\":\"choropleth\",\"colorbar\":{\"outlinewidth\":0,\"ticks\":\"\"}}],\"histogram2d\":[{\"type\":\"histogram2d\",\"colorbar\":{\"outlinewidth\":0,\"ticks\":\"\"},\"colorscale\":[[0.0,\"#0d0887\"],[0.1111111111111111,\"#46039f\"],[0.2222222222222222,\"#7201a8\"],[0.3333333333333333,\"#9c179e\"],[0.4444444444444444,\"#bd3786\"],[0.5555555555555556,\"#d8576b\"],[0.6666666666666666,\"#ed7953\"],[0.7777777777777778,\"#fb9f3a\"],[0.8888888888888888,\"#fdca26\"],[1.0,\"#f0f921\"]]}],\"heatmap\":[{\"type\":\"heatmap\",\"colorbar\":{\"outlinewidth\":0,\"ticks\":\"\"},\"colorscale\":[[0.0,\"#0d0887\"],[0.1111111111111111,\"#46039f\"],[0.2222222222222222,\"#7201a8\"],[0.3333333333333333,\"#9c179e\"],[0.4444444444444444,\"#bd3786\"],[0.5555555555555556,\"#d8576b\"],[0.6666666666666666,\"#ed7953\"],[0.7777777777777778,\"#fb9f3a\"],[0.8888888888888888,\"#fdca26\"],[1.0,\"#f0f921\"]]}],\"heatmapgl\":[{\"type\":\"heatmapgl\",\"colorbar\":{\"outlinewidth\":0,\"ticks\":\"\"},\"colorscale\":[[0.0,\"#0d0887\"],[0.1111111111111111,\"#46039f\"],[0.2222222222222222,\"#7201a8\"],[0.3333333333333333,\"#9c179e\"],[0.4444444444444444,\"#bd3786\"],[0.5555555555555556,\"#d8576b\"],[0.6666666666666666,\"#ed7953\"],[0.7777777777777778,\"#fb9f3a\"],[0.8888888888888888,\"#fdca26\"],[1.0,\"#f0f921\"]]}],\"contourcarpet\":[{\"type\":\"contourcarpet\",\"colorbar\":{\"outlinewidth\":0,\"ticks\":\"\"}}],\"contour\":[{\"type\":\"contour\",\"colorbar\":{\"outlinewidth\":0,\"ticks\":\"\"},\"colorscale\":[[0.0,\"#0d0887\"],[0.1111111111111111,\"#46039f\"],[0.2222222222222222,\"#7201a8\"],[0.3333333333333333,\"#9c179e\"],[0.4444444444444444,\"#bd3786\"],[0.5555555555555556,\"#d8576b\"],[0.6666666666666666,\"#ed7953\"],[0.7777777777777778,\"#fb9f3a\"],[0.8888888888888888,\"#fdca26\"],[1.0,\"#f0f921\"]]}],\"surface\":[{\"type\":\"surface\",\"colorbar\":{\"outlinewidth\":0,\"ticks\":\"\"},\"colorscale\":[[0.0,\"#0d0887\"],[0.1111111111111111,\"#46039f\"],[0.2222222222222222,\"#7201a8\"],[0.3333333333333333,\"#9c179e\"],[0.4444444444444444,\"#bd3786\"],[0.5555555555555556,\"#d8576b\"],[0.6666666666666666,\"#ed7953\"],[0.7777777777777778,\"#fb9f3a\"],[0.8888888888888888,\"#fdca26\"],[1.0,\"#f0f921\"]]}],\"mesh3d\":[{\"type\":\"mesh3d\",\"colorbar\":{\"outlinewidth\":0,\"ticks\":\"\"}}],\"scatter\":[{\"fillpattern\":{\"fillmode\":\"overlay\",\"size\":10,\"solidity\":0.2},\"type\":\"scatter\"}],\"parcoords\":[{\"type\":\"parcoords\",\"line\":{\"colorbar\":{\"outlinewidth\":0,\"ticks\":\"\"}}}],\"scatterpolargl\":[{\"type\":\"scatterpolargl\",\"marker\":{\"colorbar\":{\"outlinewidth\":0,\"ticks\":\"\"}}}],\"bar\":[{\"error_x\":{\"color\":\"#2a3f5f\"},\"error_y\":{\"color\":\"#2a3f5f\"},\"marker\":{\"line\":{\"color\":\"#E5ECF6\",\"width\":0.5},\"pattern\":{\"fillmode\":\"overlay\",\"size\":10,\"solidity\":0.2}},\"type\":\"bar\"}],\"scattergeo\":[{\"type\":\"scattergeo\",\"marker\":{\"colorbar\":{\"outlinewidth\":0,\"ticks\":\"\"}}}],\"scatterpolar\":[{\"type\":\"scatterpolar\",\"marker\":{\"colorbar\":{\"outlinewidth\":0,\"ticks\":\"\"}}}],\"histogram\":[{\"marker\":{\"pattern\":{\"fillmode\":\"overlay\",\"size\":10,\"solidity\":0.2}},\"type\":\"histogram\"}],\"scattergl\":[{\"type\":\"scattergl\",\"marker\":{\"colorbar\":{\"outlinewidth\":0,\"ticks\":\"\"}}}],\"scatter3d\":[{\"type\":\"scatter3d\",\"line\":{\"colorbar\":{\"outlinewidth\":0,\"ticks\":\"\"}},\"marker\":{\"colorbar\":{\"outlinewidth\":0,\"ticks\":\"\"}}}],\"scattermapbox\":[{\"type\":\"scattermapbox\",\"marker\":{\"colorbar\":{\"outlinewidth\":0,\"ticks\":\"\"}}}],\"scatterternary\":[{\"type\":\"scatterternary\",\"marker\":{\"colorbar\":{\"outlinewidth\":0,\"ticks\":\"\"}}}],\"scattercarpet\":[{\"type\":\"scattercarpet\",\"marker\":{\"colorbar\":{\"outlinewidth\":0,\"ticks\":\"\"}}}],\"carpet\":[{\"aaxis\":{\"endlinecolor\":\"#2a3f5f\",\"gridcolor\":\"white\",\"linecolor\":\"white\",\"minorgridcolor\":\"white\",\"startlinecolor\":\"#2a3f5f\"},\"baxis\":{\"endlinecolor\":\"#2a3f5f\",\"gridcolor\":\"white\",\"linecolor\":\"white\",\"minorgridcolor\":\"white\",\"startlinecolor\":\"#2a3f5f\"},\"type\":\"carpet\"}],\"table\":[{\"cells\":{\"fill\":{\"color\":\"#EBF0F8\"},\"line\":{\"color\":\"white\"}},\"header\":{\"fill\":{\"color\":\"#C8D4E3\"},\"line\":{\"color\":\"white\"}},\"type\":\"table\"}],\"barpolar\":[{\"marker\":{\"line\":{\"color\":\"#E5ECF6\",\"width\":0.5},\"pattern\":{\"fillmode\":\"overlay\",\"size\":10,\"solidity\":0.2}},\"type\":\"barpolar\"}],\"pie\":[{\"automargin\":true,\"type\":\"pie\"}]},\"layout\":{\"autotypenumbers\":\"strict\",\"colorway\":[\"#636efa\",\"#EF553B\",\"#00cc96\",\"#ab63fa\",\"#FFA15A\",\"#19d3f3\",\"#FF6692\",\"#B6E880\",\"#FF97FF\",\"#FECB52\"],\"font\":{\"color\":\"#2a3f5f\"},\"hovermode\":\"closest\",\"hoverlabel\":{\"align\":\"left\"},\"paper_bgcolor\":\"white\",\"plot_bgcolor\":\"#E5ECF6\",\"polar\":{\"bgcolor\":\"#E5ECF6\",\"angularaxis\":{\"gridcolor\":\"white\",\"linecolor\":\"white\",\"ticks\":\"\"},\"radialaxis\":{\"gridcolor\":\"white\",\"linecolor\":\"white\",\"ticks\":\"\"}},\"ternary\":{\"bgcolor\":\"#E5ECF6\",\"aaxis\":{\"gridcolor\":\"white\",\"linecolor\":\"white\",\"ticks\":\"\"},\"baxis\":{\"gridcolor\":\"white\",\"linecolor\":\"white\",\"ticks\":\"\"},\"caxis\":{\"gridcolor\":\"white\",\"linecolor\":\"white\",\"ticks\":\"\"}},\"coloraxis\":{\"colorbar\":{\"outlinewidth\":0,\"ticks\":\"\"}},\"colorscale\":{\"sequential\":[[0.0,\"#0d0887\"],[0.1111111111111111,\"#46039f\"],[0.2222222222222222,\"#7201a8\"],[0.3333333333333333,\"#9c179e\"],[0.4444444444444444,\"#bd3786\"],[0.5555555555555556,\"#d8576b\"],[0.6666666666666666,\"#ed7953\"],[0.7777777777777778,\"#fb9f3a\"],[0.8888888888888888,\"#fdca26\"],[1.0,\"#f0f921\"]],\"sequentialminus\":[[0.0,\"#0d0887\"],[0.1111111111111111,\"#46039f\"],[0.2222222222222222,\"#7201a8\"],[0.3333333333333333,\"#9c179e\"],[0.4444444444444444,\"#bd3786\"],[0.5555555555555556,\"#d8576b\"],[0.6666666666666666,\"#ed7953\"],[0.7777777777777778,\"#fb9f3a\"],[0.8888888888888888,\"#fdca26\"],[1.0,\"#f0f921\"]],\"diverging\":[[0,\"#8e0152\"],[0.1,\"#c51b7d\"],[0.2,\"#de77ae\"],[0.3,\"#f1b6da\"],[0.4,\"#fde0ef\"],[0.5,\"#f7f7f7\"],[0.6,\"#e6f5d0\"],[0.7,\"#b8e186\"],[0.8,\"#7fbc41\"],[0.9,\"#4d9221\"],[1,\"#276419\"]]},\"xaxis\":{\"gridcolor\":\"white\",\"linecolor\":\"white\",\"ticks\":\"\",\"title\":{\"standoff\":15},\"zerolinecolor\":\"white\",\"automargin\":true,\"zerolinewidth\":2},\"yaxis\":{\"gridcolor\":\"white\",\"linecolor\":\"white\",\"ticks\":\"\",\"title\":{\"standoff\":15},\"zerolinecolor\":\"white\",\"automargin\":true,\"zerolinewidth\":2},\"scene\":{\"xaxis\":{\"backgroundcolor\":\"#E5ECF6\",\"gridcolor\":\"white\",\"linecolor\":\"white\",\"showbackground\":true,\"ticks\":\"\",\"zerolinecolor\":\"white\",\"gridwidth\":2},\"yaxis\":{\"backgroundcolor\":\"#E5ECF6\",\"gridcolor\":\"white\",\"linecolor\":\"white\",\"showbackground\":true,\"ticks\":\"\",\"zerolinecolor\":\"white\",\"gridwidth\":2},\"zaxis\":{\"backgroundcolor\":\"#E5ECF6\",\"gridcolor\":\"white\",\"linecolor\":\"white\",\"showbackground\":true,\"ticks\":\"\",\"zerolinecolor\":\"white\",\"gridwidth\":2}},\"shapedefaults\":{\"line\":{\"color\":\"#2a3f5f\"}},\"annotationdefaults\":{\"arrowcolor\":\"#2a3f5f\",\"arrowhead\":0,\"arrowwidth\":1},\"geo\":{\"bgcolor\":\"white\",\"landcolor\":\"#E5ECF6\",\"subunitcolor\":\"white\",\"showland\":true,\"showlakes\":true,\"lakecolor\":\"white\"},\"title\":{\"x\":0.05},\"mapbox\":{\"style\":\"light\"}}},\"title\":{\"text\":\"Logit attribution of H0.0 values through H1.0 OV, on example #2\"},\"xaxis\":{\"title\":{\"text\":\"Sequence position\"}},\"yaxis\":{\"title\":{\"text\":\"Logit attribution\"}},\"height\":400,\"width\":800,\"shapes\":[{\"line\":{\"color\":\"Black\"},\"type\":\"line\",\"x0\":0,\"x1\":22,\"y0\":0,\"y1\":0}]},                        {\"responsive\": true}                    ).then(function(){\n",
              "                            \n",
              "var gd = document.getElementById('4b3698b9-5fdc-4207-be00-b215a3093a42');\n",
              "var x = new MutationObserver(function (mutations, observer) {{\n",
              "        var display = window.getComputedStyle(gd).display;\n",
              "        if (!display || display === 'none') {{\n",
              "            console.log([gd, 'removed!']);\n",
              "            Plotly.purge(gd);\n",
              "            observer.disconnect();\n",
              "        }}\n",
              "}});\n",
              "\n",
              "// Listen for the removal of the full notebook cells\n",
              "var notebookContainer = gd.closest('#notebook-container');\n",
              "if (notebookContainer) {{\n",
              "    x.observe(notebookContainer, {childList: true});\n",
              "}}\n",
              "\n",
              "// Listen for the clearing of the current output cell\n",
              "var outputEl = gd.closest('.output');\n",
              "if (outputEl) {{\n",
              "    x.observe(outputEl, {childList: true});\n",
              "}}\n",
              "\n",
              "                        })                };                            </script>        </div>\n",
              "</body>\n",
              "</html>"
            ]
          },
          "metadata": {}
        }
      ]
    },
    {
      "cell_type": "markdown",
      "source": [
        "Let's now perform this analysis across 100 examples!"
      ],
      "metadata": {
        "id": "ulDzRDcjCXeH"
      }
    },
    {
      "cell_type": "code",
      "source": [
        "toks, is_palindrome = dataset[:100]\n",
        "logits, cache = model.run_with_cache(toks)\n",
        "\n",
        "# get the value from h0.0 corresponding to each token index\n",
        "h00_v = cache[utils.get_act_name('v', 0)][:, 1:21, 0, :] # batch seq d_head\n",
        "\n",
        "# # convert to h0.0 output\n",
        "h00_W_O = model.W_O[0,0]\n",
        "h00_o = einops.einsum(h00_v, h00_W_O, 'batch seq d_head, d_head d_model -> batch seq d_model')\n",
        "\n",
        "# apply h1.0's OV circuit\n",
        "h10_W_V = model.W_V[1,0]\n",
        "h10_W_O = model.W_O[1,0]\n",
        "h10_W_OV = h10_W_V @ h10_W_O\n",
        "h10_o = einops.einsum(h00_o, h10_W_OV, 'batch seq d_model1, d_model1 d_model2 -> batch seq d_model2')\n",
        "\n",
        "# # now we have a direction in residual space\n",
        "# # now we can dot it with the non-pal direction\n",
        "# # we expect a high dot product\n",
        "post_final_ln_dir = get_post_final_ln_dir(model).unsqueeze(0)\n",
        "dot = einops.einsum(h10_o, post_final_ln_dir, 'batch seq d_model, n d_model -> batch seq n')\n",
        "\n",
        "dot_mean = dot.mean(dim=0)\n",
        "dot_std  = dot.std(dim=0)\n",
        "print(f\"std ~= {dot_std.mean(dim=0).item()}\")\n",
        "\n",
        "fig = go.Figure(data=go.Scatter(x=list(range(1, 21)), y=dot.view(-1).cpu().detach().numpy(), mode='markers', marker=dict(color=['red']*10 + ['blue']*10)))\n",
        "fig.update_layout(title='Logit attribution of H0.0 values through H1.0 OV, across 100 examples', xaxis_title='Sequence position', yaxis_title='Logit attribution', height=400, width=800)\n",
        "fig.add_shape(type='line', x0=0, y0=0, x1=22, y1=0, line=dict(color='Black'))\n",
        "fig.show()"
      ],
      "metadata": {
        "colab": {
          "base_uri": "https://localhost:8080/",
          "height": 434
        },
        "id": "mF1_DLc6CXCs",
        "outputId": "ff389a37-8e39-48bb-f9d8-e86540ceab1e"
      },
      "execution_count": 31,
      "outputs": [
        {
          "output_type": "stream",
          "name": "stdout",
          "text": [
            "std ~= 1.6621723175048828\n"
          ]
        },
        {
          "output_type": "display_data",
          "data": {
            "text/html": [
              "<html>\n",
              "<head><meta charset=\"utf-8\" /></head>\n",
              "<body>\n",
              "    <div>            <script src=\"https://cdnjs.cloudflare.com/ajax/libs/mathjax/2.7.5/MathJax.js?config=TeX-AMS-MML_SVG\"></script><script type=\"text/javascript\">if (window.MathJax && window.MathJax.Hub && window.MathJax.Hub.Config) {window.MathJax.Hub.Config({SVG: {font: \"STIX-Web\"}});}</script>                <script type=\"text/javascript\">window.PlotlyConfig = {MathJaxConfig: 'local'};</script>\n",
              "        <script charset=\"utf-8\" src=\"https://cdn.plot.ly/plotly-2.24.1.min.js\"></script>                <div id=\"888fe94e-da89-4b17-a15e-4fea841ee26f\" class=\"plotly-graph-div\" style=\"height:400px; width:800px;\"></div>            <script type=\"text/javascript\">                                    window.PLOTLYENV=window.PLOTLYENV || {};                                    if (document.getElementById(\"888fe94e-da89-4b17-a15e-4fea841ee26f\")) {                    Plotly.newPlot(                        \"888fe94e-da89-4b17-a15e-4fea841ee26f\",                        [{\"marker\":{\"color\":[\"red\",\"red\",\"red\",\"red\",\"red\",\"red\",\"red\",\"red\",\"red\",\"red\",\"blue\",\"blue\",\"blue\",\"blue\",\"blue\",\"blue\",\"blue\",\"blue\",\"blue\",\"blue\"]},\"mode\":\"markers\",\"x\":[1,2,3,4,5,6,7,8,9,10,11,12,13,14,15,16,17,18,19,20],\"y\":[5.899608612060547,2.0451741218566895,-4.981575965881348,2.3756422996520996,-7.29243278503418,-8.92036247253418,-10.573445320129395,-9.390963554382324,-7.625630855560303,-10.799578666687012,16.079845428466797,14.434391975402832,23.85983657836914,18.769733428955078,17.20262336730957,14.305368423461914,-0.9002671241760254,13.810181617736816,-5.507198333740234,-11.378387451171875,4.294553279876709,1.8134692907333374,-4.87593936920166,3.133307933807373,-9.085453987121582,-6.602659225463867,-10.670483589172363,-8.534260749816895,-7.180214881896973,-8.728653907775879,16.675941467285156,15.831077575683594,18.30575180053711,19.17256736755371,17.284337997436523,14.658174514770508,0.33000245690345764,12.595380783081055,-4.981940269470215,-13.032743453979492,4.294553279876709,2.7479116916656494,-5.126053810119629,1.5946266651153564,-7.21727180480957,-5.5016350746154785,-10.573445320129395,-9.390963554382324,-9.007957458496094,-9.106494903564453,14.003734588623047,16.519397735595703,20.164653778076172,16.809213638305664,15.766347885131836,16.152772903442383,-1.3925429582595825,12.876691818237305,-4.448551654815674,-12.572596549987793,6.681299686431885,2.7973270416259766,-4.927460670471191,3.187798500061035,-7.536007881164551,-5.99938440322876,-9.799652099609375,-8.15705680847168,-8.514554977416992,-12.844228744506836,17.840900421142578,17.182029724121094,22.2626953125,17.93699836730957,16.371498107910156,14.195045471191406,0.24393457174301147,12.975015640258789,-4.150382041931152,-12.963481903076172,6.681692600250244,2.0479655265808105,-4.482794284820557,2.0885164737701416,-6.646978378295898,-7.2172369956970215,-9.731400489807129,-8.70407772064209,-9.149715423583984,-9.916296005249023,13.230490684509277,18.183032989501953,22.524152755737305,16.417888641357422,13.737221717834473,13.884729385375977,0.3814622759819031,12.206056594848633,-3.39178466796875,-12.647883415222168,4.658990859985352,2.497417449951172,-5.9082136154174805,3.5483169555664062,-8.193111419677734,-8.114117622375488,-10.45101261138916,-8.668111801147461,-7.926649570465088,-10.43310546875,15.021498680114746,16.99128532409668,21.475196838378906,14.799837112426758,14.721059799194336,16.230743408203125,0.7113394737243652,13.810181617736816,-3.9064688682556152,-14.226335525512695,4.658990859985352,3.658019542694092,-3.9280247688293457,1.7541449069976807,-9.459936141967773,-8.274872779846191,-8.552769660949707,-8.70407772064209,-9.858899116516113,-12.844228744506836,17.840900421142578,15.831077575683594,15.550376892089844,18.769733428955078,14.779199600219727,12.655996322631836,-1.3096157312393188,12.998764038085938,-3.39178466796875,-14.226335525512695,6.212446212768555,3.4332332611083984,-4.896193504333496,2.5620787143707275,-9.085453987121582,-7.525630950927734,-10.771909713745117,-8.541960716247559,-8.820296287536621,-14.02563190460205,16.774642944335938,14.327874183654785,19.795135498046875,17.366680145263672,15.12756633758545,14.658174514770508,-0.5905978679656982,10.968143463134766,-3.5601730346679688,-12.352160453796387,6.329715728759766,3.194122791290283,-5.338718891143799,2.7354736328125,-7.940335750579834,-5.999839782714844,-10.471435546875,-8.910648345947266,-9.277364730834961,-9.696939468383789,16.421890258789062,15.824047088623047,17.861679077148438,17.955707550048828,14.939982414245605,15.968475341796875,-0.4418289065361023,12.206056594848633,-3.3091282844543457,-12.075811386108398,4.658990859985352,3.7271082401275635,-3.5149121284484863,3.133307933807373,-10.274717330932617,-8.186752319335938,-12.99649429321289,-8.129829406738281,-9.674592971801758,-10.533527374267578,15.973596572875977,18.25564956665039,23.85983657836914,20.471521377563477,14.232505798339844,15.437686920166016,-1.8871703147888184,15.43543815612793,-3.9064688682556152,-12.124671936035156,6.329715728759766,2.7973270416259766,-4.6180620193481445,3.3126070499420166,-7.111342430114746,-5.5016350746154785,-18.27092933654785,-9.390963554382324,-9.07630729675293,-9.179449081420898,16.105215072631836,15.830613136291504,23.85983657836914,9.811904907226562,15.766347885131836,16.93886947631836,-0.06846261024475098,15.55908203125,-3.39178466796875,-12.075811386108398,5.893119812011719,3.194122791290283,-5.9082136154174805,3.5553934574127197,-8.193111419677734,-6.872282028198242,-10.985760688781738,-10.572232246398926,-6.650108337402344,-11.196913719177246,16.268484115600586,14.434391975402832,20.164653778076172,18.50485610961914,15.429302215576172,16.230743408203125,0.5500086545944214,13.810181617736816,-3.3091282844543457,-10.697978973388672,3.1557109355926514,3.4332332611083984,-5.020036697387695,2.0181405544281006,-7.940335750579834,-6.815773963928223,-9.230870246887207,-9.772756576538086,-9.149715423583984,-9.916296005249023,17.201828002929688,18.183032989501953,18.61257553100586,19.10027313232422,17.3951358795166,15.968475341796875,-1.2762584686279297,10.849333763122559,-3.5601730346679688,-12.468620300292969,6.721765518188477,1.89828622341156,-4.311807632446289,2.765334367752075,-8.022825241088867,-5.99938440322876,-9.969320297241211,-9.390963554382324,-8.804570198059082,-9.106494903564453,14.003734588623047,13.188060760498047,21.25411033630371,20.248573303222656,17.20262336730957,16.564573287963867,-0.27861320972442627,14.079166412353516,-5.160463809967041,-12.075811386108398,5.893119812011719,2.740460157394409,-4.6180620193481445,2.155956983566284,-6.8287458419799805,-8.114117622375488,-9.917362213134766,-9.655735969543457,-11.041044235229492,-8.678484916687012,15.786148071289062,16.77703094482422,17.782573699951172,19.332948684692383,14.721059799194336,15.528446197509766,-1.8871703147888184,15.55908203125,-3.3091282844543457,-10.697978973388672,3.1557109355926514,3.4332332611083984,-5.657769203186035,2.7354736328125,-7.647510528564453,-6.602659225463867,-10.45101261138916,-9.46329402923584,-9.674592971801758,-10.641602516174316,16.77153778076172,18.25564956665039,22.524152755737305,14.799837112426758,17.284337997436523,15.544819831848145,-0.4418289065361023,14.221623420715332,-3.5601730346679688,-12.468620300292969,6.212446212768555,3.8306634426116943,-4.134479522705078,2.7771565914154053,-6.5159759521484375,-8.274872779846191,-12.99649429321289,-9.390963554382324,-6.540408134460449,-9.490337371826172,13.230490684509277,15.885600090026855,23.85983657836914,19.778593063354492,12.310798645019531,15.926651954650879,-0.24036642909049988,13.570045471191406,-3.2751593589782715,-12.352160453796387,-2.083909034729004,4.245790481567383,-5.980989456176758,1.8218902349472046,-6.860036849975586,-6.815773963928223,-10.670483589172363,-8.066659927368164,-8.94709587097168,-10.533527374267578,16.77153778076172,15.698777198791504,17.352163314819336,19.17256736755371,17.3951358795166,15.878307342529297,0.47008219361305237,11.999822616577148,-5.507133960723877,-14.785954475402832,6.110354900360107,2.0451741218566895,-4.482794284820557,2.7354736328125,-9.459936141967773,-7.865489959716797,-10.240721702575684,-9.161706924438477,-9.149715423583984,-8.728653907775879,16.675941467285156,18.183032989501953,18.31850814819336,20.304161071777344,14.001504898071289,14.305368423461914,-0.4418289065361023,15.03852367401123,-5.507198333740234,-11.438100814819336,4.818576335906982,1.114471197128296,-5.951750755310059,3.187798500061035,-7.536007881164551,-5.5016350746154785,-9.132756233215332,-8.129829406738281,-7.625630855560303,-8.678484916687012,15.786148071289062,12.164505004882812,20.892494201660156,21.450279235839844,14.939982414245605,14.195045471191406,0.24393457174301147,11.850285530090332,-5.766556262969971,-18.020713806152344,4.658990859985352,2.0479655265808105,-5.338718891143799,2.1643636226654053,-13.51397705078125,-8.92036247253418,-9.799652099609375,-8.040979385375977,-9.007957458496094,-18.393333435058594,7.3932318687438965,16.519397735595703,17.782573699951172,17.93699836730957,15.363061904907227,6.664671421051025,-1.991318941116333,12.206056594848633,-4.187070369720459,-14.226335525512695,4.897721767425537,2.745408535003662,-4.896193504333496,3.381120204925537,-10.274717330932617,-8.258817672729492,-11.321296691894531,-10.580560684204102,-8.820296287536621,-18.393333435058594,7.3932318687438965,14.327874183654785,20.152435302734375,21.41351318359375,15.201337814331055,15.437686920166016,0.47008219361305237,10.968143463134766,-4.154929161071777,-12.007427215576172,6.681299686431885,1.114471197128296,-5.126053810119629,2.0181405544281006,-9.085453987121582,-6.602659225463867,-10.73007583618164,-7.240758419036865,-8.752416610717773,-9.179449081420898,16.105215072631836,18.25564956665039,19.983604431152344,20.471521377563477,17.284337997436523,16.564573287963867,-0.7103129625320435,12.876691818237305,-4.978623390197754,-12.963481903076172,4.294553279876709,-4.112735748291016,-5.182120323181152,1.5946266651153564,-8.457714080810547,-5.99938440322876,-9.989485740661621,-8.040979385375977,-7.180214881896973,-9.581589698791504,12.738000869750977,15.831077575683594,17.782573699951172,18.36301040649414,16.371498107910156,12.655996322631836,-1.3925429582595825,12.998764038085938,-10.314715385437012,-13.032743453979492,6.329715728759766,1.625529170036316,-5.126053810119629,1.795332670211792,-9.459936141967773,-5.99938440322876,-10.73007583618164,-8.910648345947266,-9.858899116516113,-9.916296005249023,17.201828002929688,16.77703094482422,17.861679077148438,18.852354049682617,16.371498107910156,14.305368423461914,-2.4164676666259766,12.876691818237305,-4.978623390197754,-12.075811386108398,4.911952972412109,2.740460157394409,-6.021627902984619,2.765334367752075,-9.085453987121582,-6.681828498840332,-12.99649429321289,-10.334687232971191,-6.650108337402344,-10.762566566467285,14.084393501281738,14.434391975402832,22.46784782409668,19.778593063354492,14.733267784118652,14.658174514770508,-0.27861320972442627,12.096258163452148,-4.06851863861084,-11.446434020996094,-2.083909034729004,2.409616231918335,-4.6180620193481445,3.3126070499420166,-5.333093166351318,-8.399532318115234,-9.989485740661621,-8.040979385375977,-6.540408134460449,-10.824225425720215,14.553539276123047,15.885600090026855,17.782573699951172,18.36301040649414,15.285802841186523,15.753740310668945,-0.06846261024475098,15.55908203125,-4.918267250061035,-18.020713806152344,6.721765518188477,3.658019542694092,-4.894447326660156,3.7519803047180176,-9.085453987121582,-7.625388145446777,-10.471435546875,-8.534260749816895,-8.399201393127441,-10.148948669433594,16.767711639404297,15.298410415649414,18.30575180053711,17.955707550048828,14.001504898071289,14.658174514770508,1.2262458801269531,11.636451721191406,-3.39178466796875,-10.940168380737305,4.42348575592041,1.727268934249878,-3.9280247688293457,1.6833136081695557,-6.860036849975586,-9.267394065856934,-9.969320297241211,-8.635348320007324,-6.540408134460449,-10.97540283203125,16.00071144104004,14.892827033996582,18.266517639160156,18.50485610961914,16.338191986083984,13.884729385375977,-2.321880340576172,13.512256622314453,-5.507133960723877,-11.706449508666992,6.681299686431885,1.625529170036316,-3.815267324447632,3.5553934574127197,-7.536007881164551,-6.872282028198242,-9.924969673156738,-8.625761985778809,-7.625630855560303,-12.203824043273926,16.522192001342773,12.164505004882812,18.86180305480957,20.443336486816406,15.429302215576172,14.195045471191406,0.5500086545944214,14.054668426513672,-4.978623390197754,-12.963481903076172,3.911386013031006,2.497417449951172,-5.657769203186035,1.6833136081695557,-10.085271835327148,-7.112733364105225,-11.79974365234375,-10.572232246398926,-8.610280990600586,-9.106494903564453,16.105215072631836,15.885600090026855,21.25411033630371,20.040122985839844,14.83842658996582,16.98480224609375,0.47008219361305237,11.776748657226562,-3.9064688682556152,-12.264993667602539,-2.083909034729004,1.114471197128296,-4.741249084472656,2.3756422996520996,-8.193111419677734,-8.274872779846191,-10.493597030639648,-10.913762092590332,-8.514554977416992,-12.203824043273926,16.522192001342773,17.182029724121094,21.25411033630371,20.304161071777344,14.58895492553711,16.230743408203125,0.7640600204467773,11.015541076660156,-5.766556262969971,-18.020713806152344,6.721765518188477,2.0479655265808105,-4.482794284820557,3.7533109188079834,-8.022825241088867,-7.2172369956970215,-11.406460762023926,-9.46329402923584,-9.282804489135742,-12.203824043273926,16.268484115600586,15.830613136291504,22.524152755737305,17.93283462524414,15.919857025146484,16.018299102783203,-1.2762584686279297,14.079166412353516,-3.9064688682556152,-10.940168380737305,4.228674411773682,2.497417449951172,-6.021627902984619,3.7533109188079834,-6.734097003936768,-7.112733364105225,-10.45101261138916,-9.161706924438477,-8.667036056518555,-14.02563190460205,16.774642944335938,14.313892364501953,18.31850814819336,14.799837112426758,17.096050262451172,13.884729385375977,0.7640600204467773,12.096258163452148,-3.9064688682556152,-12.732455253601074,5.694971084594727,2.6449947357177734,-4.981575965881348,2.4968464374542236,-7.038488864898682,-6.681828498840332,-9.625807762145996,-9.46329402923584,-10.585807800292969,-11.199081420898438,13.311870574951172,16.06682777404785,22.524152755737305,16.545068740844727,14.733267784118652,15.095108985900879,-0.43826591968536377,10.9031982421875,-3.64208984375,-11.378387451171875,6.681692600250244,4.245790481567383,-4.595335483551025,2.155956983566284,-8.27603816986084,-7.625388145446777,-10.45101261138916,-8.625761985778809,-8.667036056518555,-11.196913719177246,16.268484115600586,14.313892364501953,18.86180305480957,20.248573303222656,13.737221717834473,16.642803192138672,-1.2446625232696533,5.6758131980896,-3.542445182800293,-12.910896301269531,-2.083909034729004,2.740460157394409,-4.896193504333496,1.5946266651153564,-7.218401908874512,-8.186752319335938,-9.953696250915527,-10.572232246398926,-9.277364730834961,-12.844228744506836,17.840900421142578,15.824047088623047,21.24766731262207,16.417888641357422,15.429302215576172,16.564573287963867,-9.306045532226562,10.968143463134766,-3.0078768730163574,-18.020713806152344,4.42348575592041,2.6449947357177734,-5.200612545013428,2.7354736328125,-9.36347484588623,-7.625388145446777,-9.989485740661621,-8.625761985778809,-14.437049865722656,-11.199081420898438,13.311870574951172,16.99128532409668,19.428264617919922,18.36301040649414,14.232505798339844,13.622980117797852,-0.4418289065361023,12.206056594848633,-4.150382041931152,-11.706449508666992,4.425120830535889,2.6449947357177734,-5.657769203186035,2.4968464374542236,-6.734097003936768,-13.358914375305176,-10.471435546875,-10.334687232971191,-11.282947540283203,-9.179449081420898,16.105215072631836,15.863161087036133,20.164653778076172,16.545068740844727,14.001504898071289,13.884729385375977,-0.6903220415115356,11.776748657226562,-3.64208984375,-13.198718070983887,4.658990859985352,2.745408535003662,-5.951750755310059,2.155956983566284,-6.8287458419799805,-6.872282028198242,-10.471435546875,-8.534260749816895,-10.585807800292969,-11.196913719177246,13.311870574951172,16.06682777404785,18.30575180053711,17.955707550048828,15.429302215576172,15.528446197509766,-0.4418289065361023,11.850285530090332,-4.448551654815674,-10.697978973388672,5.216668605804443,2.497417449951172,-6.854335784912109,-5.067437648773193,-7.013060092926025,-9.267394065856934,-18.27092933654785,-8.040979385375977,-8.514554977416992,-9.404081344604492,16.573354721069336,17.182029724121094,17.782573699951172,9.811904907226562,16.338191986083984,16.578054428100586,-9.306045532226562,11.395751953125,-3.9064688682556152,-12.910896301269531,6.212446212768555,-4.112735748291016,-5.951750755310059,1.5946266651153564,-7.111342430114746,-8.057605743408203,-9.799652099609375,-8.541960716247559,-8.514554977416992,-10.178415298461914,16.640792846679688,17.182029724121094,21.25411033630371,17.93699836730957,14.83842658996582,16.93886947631836,-1.3925429582595825,11.850285530090332,-10.314715385437012,-12.352160453796387,3.911386013031006,2.1799240112304688,-4.482794284820557,3.3126070499420166,-6.860036849975586,-6.681828498840332,-9.917362213134766,-8.066659927368164,-9.858899116516113,-10.762566566467285,14.084393501281738,16.77703094482422,17.352163314819336,19.332948684692383,14.733267784118652,15.878307342529297,-0.06846261024475098,15.03852367401123,-4.650871276855469,-13.29212760925293,5.899608612060547,3.3720381259918213,-6.021627902984619,2.7771565914154053,-7.013060092926025,-8.057605743408203,-8.552769660949707,-10.580560684204102,-8.752416610717773,-11.259601593017578,16.079845428466797,13.659114837646484,20.152435302734375,18.769733428955078,14.83842658996582,16.578054428100586,-0.24036642909049988,12.096258163452148,-3.0078768730163574,-14.785954475402832,5.459012985229492,2.0451741218566895,-4.741249084472656,1.7347753047943115,-7.038488864898682,-7.31837797164917,-10.670483589172363,-10.572232246398926,-9.674592971801758,-14.02563190460205,16.774642944335938,18.25564956665039,21.25411033630371,19.17256736755371,17.20262336730957,12.655996322631836,0.5500086545944214,11.988248825073242,-5.507133960723877,-11.683250427246094,-2.083909034729004,2.3594367504119873,-5.657769203186035,1.6752650737762451,-13.51397705078125,-5.5016350746154785,-9.747466087341309,-8.70407772064209,-8.912004470825195,-10.148948669433594,16.767711639404297,16.29976463317871,15.550376892089844,19.96120834350586,15.285802841186523,14.195045471191406,-1.8871703147888184,11.776748657226562,-3.64208984375,-18.020713806152344,6.681692600250244,2.1799240112304688,-5.951750755310059,1.8218902349472046,-6.5159759521484375,-7.625388145446777,-9.917362213134766,-9.986040115356445,-7.830850124359131,-11.470376968383789,14.084393501281738,15.863161087036133,20.898841857910156,19.332948684692383,14.001504898071289,13.884729385375977,-1.4582209587097168,11.850285530090332,-4.650871276855469,-14.585770606994629,5.899608612060547,2.745408535003662,-4.894447326660156,2.155956983566284,-9.58976936340332,-8.186752319335938,-9.989485740661621,-8.040979385375977,-8.94709587097168,-9.106494903564453,16.573354721069336,12.944055557250977,17.782573699951172,17.038888931274414,14.733267784118652,6.664671421051025,-1.2446625232696533,10.9031982421875,-4.702003479003906,-12.647883415222168,6.110354900360107,-4.112735748291016,-3.815267324447632,2.5620787143707275,-8.53419017791748,-7.4608845710754395,-10.771909713745117,-8.625761985778809,-9.282804489135742,-10.641602516174316,14.068805694580078,15.830613136291504,18.86180305480957,17.366680145263672,17.20262336730957,6.664671421051025,-1.4262889623641968,10.849333763122559,-4.06851863861084,-14.39315414428711,4.42348575592041,1.8519538640975952,-4.311807632446289,1.6833136081695557,-7.038488864898682,-13.358914375305176,-8.552769660949707,-10.580560684204102,-14.437049865722656,-10.580892562866211,14.068805694580078,14.313892364501953,20.152435302734375,20.248573303222656,15.721725463867188,14.195045471191406,-2.321880340576172,13.570045471191406,-4.187070369720459,-13.198718070983887,4.294553279876709,2.6449947357177734,-4.87593936920166,2.5620787143707275,-7.21727180480957,-6.115941047668457,-9.989485740661621,-8.277749061584473,-7.830850124359131,-10.824225425720215,13.311870574951172,16.46596336364746,22.2626953125,18.36301040649414,18.63953399658203,16.152772903442383,-0.9002671241760254,11.999822616577148,-3.9064688682556152,-13.032743453979492,6.681692600250244,2.0479655265808105,-3.7743842601776123,1.6833136081695557,-6.734097003936768,-6.872282028198242,-10.73007583618164,-8.910648345947266,-8.610280990600586,-10.774505615234375,17.666526794433594,15.863161087036133,17.861679077148438,18.852354049682617,15.429302215576172,13.884729385375977,-2.321880340576172,14.58180046081543,-4.187070369720459,-12.647883415222168,4.283237457275391,2.3594367504119873,-4.2340216636657715,2.4968464374542236,-8.27603816986084,-6.115941047668457,-11.79974365234375,-8.129829406738281,-6.540408134460449,-9.916296005249023,17.201828002929688,15.885600090026855,17.352163314819336,20.248573303222656,15.363061904907227,16.642803192138672,-0.9002671241760254,14.221623420715332,-4.650871276855469,-13.29212760925293,5.893119812011719,1.8519538640975952,-6.021627902984619,2.155956983566284,-8.193111419677734,-6.872282028198242,-9.953696250915527,-9.46329402923584,-9.07630729675293,-11.196913719177246,16.268484115600586,17.551591873168945,22.524152755737305,19.90704345703125,15.429302215576172,17.641868591308594,-1.3925429582595825,13.570045471191406,-3.64208984375,-12.352160453796387,5.899608612060547,2.227287530899048,-6.854335784912109,1.0936083793640137,-6.646978378295898,-8.258817672729492,-10.985760688781738,-8.625761985778809,-9.674592971801758,-10.580892562866211,14.068805694580078,18.25564956665039,18.86180305480957,18.50485610961914,15.201337814331055,16.3710994720459,-2.051734685897827,11.395751953125,-4.477488994598389,-14.785954475402832,4.897721767425537,2.7973270416259766,-4.482794284820557,1.6833136081695557,-8.193111419677734,-7.4608845710754395,-11.406460762023926,-8.910648345947266,-8.667036056518555,-10.148948669433594,14.084393501281738,14.313892364501953,18.266517639160156,17.93283462524414,14.232505798339844,13.622980117797852,-2.321880340576172,11.776748657226562,-4.150382041931152,-12.007427215576172,-2.083909034729004,2.409616231918335,-5.200612545013428,2.7354736328125,-7.038488864898682,-8.282176971435547,-9.230870246887207,-8.668111801147461,-11.282947540283203,-11.252363204956055,16.77153778076172,17.18626594543457,21.475196838378906,19.10027313232422,12.917168617248535,15.095108985900879,-0.4418289065361023,11.015541076660156,-4.918267250061035,-18.020713806152344,4.283237457275391,3.1272711753845215,-4.482794284820557,3.7519803047180176,-7.39577579498291,-8.258817672729492,-9.731400489807129,-8.541960716247559,-8.514554977416992,-11.196913719177246,16.268484115600586,17.182029724121094,19.795135498046875,16.417888641357422,15.201337814331055,16.018299102783203,1.2262458801269531,15.03852367401123,-3.9510622024536133,-14.634665489196777,4.283237457275391,2.227287530899048,-5.9082136154174805,3.133307933807373,-7.39577579498291,-9.267394065856934,-13.124491691589355,-8.541960716247559,-9.098243713378906,-10.97540283203125,16.00071144104004,13.213726043701172,19.795135498046875,21.17694664001465,14.58895492553711,17.641868591308594,-2.051734685897827,14.58180046081543,-5.507198333740234,-14.634665489196777,5.459012985229492,2.0451741218566895,-4.195548057556152,3.187798500061035,-7.940335750579834,-5.99938440322876,-9.953696250915527,-9.46329402923584,-8.610280990600586,-10.824225425720215,14.553539276123047,15.863161087036133,22.524152755737305,19.90704345703125,16.371498107910156,15.968475341796875,0.24393457174301147,14.639206886291504,-5.507198333740234,-11.683250427246094,6.212446212768555,3.4332332611083984,-6.854335784912109,2.544433116912842,-8.457714080810547,-7.31837797164917,-11.406460762023926,-9.161706924438477,-7.926649570465088,-11.470376968383789,14.404806137084961,16.99128532409668,18.31850814819336,17.93283462524414,17.20262336730957,12.655996322631836,-0.7103129625320435,11.395751953125,-3.5601730346679688,-12.352160453796387,5.893119812011719,2.227287530899048,-12.33544635772705,1.795332670211792,-7.291325092315674,-8.274872779846191,-9.230870246887207,-9.390963554382324,-6.650108337402344,-10.824225425720215,14.553539276123047,14.434391975402832,23.85983657836914,19.10027313232422,12.310798645019531,16.98480224609375,-2.4164676666259766,5.6758131980896,-4.477488994598389,-10.697978973388672,4.4971160888671875,2.745408535003662,-4.894447326660156,2.765334367752075,-6.860036849975586,-7.31837797164917,-18.27092933654785,-8.910648345947266,-8.667036056518555,-12.329158782958984,16.412158966064453,14.313892364501953,17.861679077148438,9.811904907226562,17.20262336730957,6.664671421051025,-0.4418289065361023,14.221623420715332,-4.358699798583984,-13.65756607055664,6.721765518188477,3.3720381259918213,-5.126053810119629,3.133307933807373,-7.013060092926025,-13.358914375305176,-10.771909713745117,-8.70407772064209,-8.912004470825195,-10.533527374267578,15.973596572875977,16.29976463317871,22.524152755737305,20.248573303222656,14.001504898071289,14.658174514770508,0.7640600204467773,12.876691818237305,-3.0078768730163574,-10.940168380737305,6.681299686431885,1.9964635372161865,-3.7743842601776123,2.4968464374542236,-7.038488864898682,-9.267394065856934,-10.493597030639648,-10.913762092590332,-9.277364730834961,-10.533527374267578,15.973596572875977,15.824047088623047,21.25411033630371,16.417888641357422,16.338191986083984,15.753740310668945,-2.4164676666259766,14.58180046081543,-4.702003479003906,-12.647883415222168,6.110354900360107,2.7479116916656494,-4.6514763832092285,3.7533109188079834,-8.193111419677734,-8.274872779846191,-10.45101261138916,-9.655735969543457,-8.912004470825195,-12.203824043273926,18.69757843017578,16.99128532409668,22.2626953125,20.248573303222656,12.310798645019531,16.564573287963867,0.7640600204467773,12.781181335449219,-5.160463809967041,-11.438100814819336,4.6936540603637695,2.6449947357177734,-6.021627902984619,3.7519803047180176,-5.333093166351318,-8.258817672729492,-10.469615936279297,-9.772756576538086,-8.94709587097168,-9.916296005249023,17.201828002929688,15.698777198791504,18.61257553100586,16.311847686767578,15.201337814331055,15.753740310668945,1.2262458801269531,12.096258163452148,-3.64208984375,-14.585770606994629,5.899608612060547,1.9964635372161865,-4.896193504333496,2.5620787143707275,-6.5159759521484375,-8.057605743408203,-9.731400489807129,-7.240758419036865,-7.683434963226318,-9.106494903564453,14.003734588623047,13.21334171295166,19.428264617919922,16.417888641357422,14.83842658996582,15.926651954650879,-0.5905978679656982,10.968143463134766,-4.702003479003906,-14.785954475402832,4.818576335906982,3.8306634426116943,-6.021627902984619,3.5553934574127197,-6.646978378295898,-6.874861717224121,-8.552769660949707,-9.20274543762207,-7.498929977416992,-9.106494903564453,14.003734588623047,13.213726043701172,17.90962791442871,18.852354049682617,15.201337814331055,16.3710994720459,0.3814622759819031,12.096258163452148,-3.2751593589782715,-11.642374038696289,4.294553279876709,3.496044158935547,-5.200612545013428,2.155956983566284,-7.038488864898682,-6.815773963928223,-10.771909713745117,-9.772756576538086,-8.399201393127441,-11.470376968383789,14.404806137084961,15.298410415649414,18.61257553100586,17.366680145263672,17.3951358795166,15.095108985900879,-1.2446625232696533,11.015541076660156,-3.542445182800293,-13.032743453979492,6.681299686431885,2.0451741218566895,-3.5149121284484863,3.3126070499420166,-9.459936141967773,-7.0223708152771,-10.985760688781738,-8.70407772064209,-8.159695625305176,-8.424908638000488,13.872077941894531,15.824047088623047,15.550376892089844,17.955707550048828,13.737221717834473,15.437686920166016,-0.06846261024475098,13.512256622314453,-5.507198333740234,-12.963481903076172,4.163498401641846,3.496044158935547,-4.741249084472656,2.3756422996520996,-6.646978378295898,-7.31837797164917,-10.45101261138916,-9.772756576538086,-10.585807800292969,-9.916296005249023,17.201828002929688,15.824047088623047,17.90962791442871,14.799837112426758,17.20262336730957,16.3710994720459,-0.9002671241760254,11.999822616577148,-4.448551654815674,-14.39315414428711,6.212446212768555,2.497417449951172,-5.657769203186035,2.5620787143707275,-7.21727180480957,-7.0223708152771,-11.80601692199707,-8.625761985778809,-10.585807800292969,-9.916296005249023,17.201828002929688,16.06682777404785,18.86180305480957,20.040122985839844,13.737221717834473,16.152772903442383,-0.5905978679656982,11.776748657226562,-3.9064688682556152,-12.352160453796387,4.897721767425537,2.0451741218566895,-4.134479522705078,3.779171943664551,-8.022825241088867,-8.186752319335938,-11.321296691894531,-9.772756576538086,-9.098243713378906,-12.844228744506836,17.840900421142578,14.892827033996582,18.61257553100586,21.41351318359375,14.232505798339844,13.717833518981934,0.3814622759819031,13.570045471191406,-5.507198333740234,-12.007427215576172,5.000112533569336,1.8519538640975952,-5.126053810119629,1.6752650737762451,-9.58976936340332,-9.267394065856934,-8.552769660949707,-14.740129470825195,-8.514554977416992,-10.97540283203125,16.00071144104004,14.892827033996582,11.100730895996094,16.545068740844727,14.117615699768066,16.564573287963867,-0.7103129625320435,10.849333763122559,-4.595993995666504,-13.29212760925293,3.9487717151641846,1.89828622341156,-3.7743842601776123,1.795332670211792,-6.5159759521484375,-7.4608845710754395,-10.573445320129395,-9.998942375183105,-9.858899116516113,-11.252363204956055,16.77153778076172,16.77703094482422,17.797409057617188,16.809213638305664,13.362468719482422,15.926651954650879,-2.4164676666259766,14.58180046081543,-5.160463809967041,-12.124671936035156,5.797829627990723,3.4332332611083984,-5.951750755310059,3.7533109188079834,-6.646978378295898,-6.681828498840332,-11.80601692199707,-8.623739242553711,-9.149715423583984,-11.470376968383789,14.404806137084961,15.824047088623047,21.24766731262207,20.040122985839844,14.733267784118652,14.305368423461914,0.7640600204467773,11.988248825073242,-3.14664363861084,-12.264993667602539,4.294553279876709,3.1272711753845215,-4.87593936920166,2.378934860229492,-6.860036849975586,-6.872282028198242,-10.493597030639648,-8.040979385375977,-10.585807800292969,-10.178415298461914,16.640792846679688,16.06682777404785,17.782573699951172,17.038888931274414,15.429302215576172,15.878307342529297,-1.3279277086257935,12.595380783081055,-3.9510622024536133,-13.032743453979492,5.899608612060547,1.114471197128296,-3.815267324447632,1.7541449069976807,-7.940335750579834,-7.2172369956970215,-18.27092933654785,-8.635348320007324,-7.180214881896973,-10.533527374267578,15.973596572875977,15.831077575683594,18.266517639160156,9.811904907226562,15.919857025146484,15.968475341796875,-1.3096157312393188,14.054668426513672,-5.766556262969971,-14.785954475402832,5.797829627990723,1.727268934249878,-5.980989456176758,2.544433116912842,-7.21727180480957,-5.5016350746154785,-11.80601692199707,-10.580560684204102,-8.820296287536621,-10.641602516174316,13.872077941894531,14.327874183654785,20.152435302734375,20.040122985839844,15.766347885131836,16.152772903442383,-0.7103129625320435,11.999822616577148,-5.507133960723877,-12.264993667602539,5.459012985229492,3.496044158935547,-6.854335784912109,2.1643636226654053,-5.333093166351318,-8.399532318115234,-10.771909713745117,-9.20274543762207,-14.437049865722656,-10.824225425720215,14.553539276123047,6.50669527053833,17.90962791442871,17.366680145263672,15.285802841186523,15.753740310668945,-1.991318941116333,11.395751953125,-3.542445182800293,-11.683250427246094,4.4971160888671875,1.114471197128296,-4.741249084472656,1.6833136081695557,-10.274717330932617,-5.5016350746154785,-11.968536376953125,-8.635348320007324,-8.159695625305176,-11.199081420898438,16.767711639404297,16.3425235748291,15.550376892089844,18.769733428955078,15.766347885131836,15.69787311553955,-2.321880340576172,11.999822616577148,-5.766556262969971,-13.65756607055664,3.9487717151641846,3.8306634426116943,-4.2340216636657715,3.187798500061035,-7.29243278503418,-7.625388145446777,-9.924969673156738,-9.20274543762207,-8.667036056518555,-9.581589698791504,12.738000869750977,15.698777198791504,18.31850814819336,20.443336486816406,14.001504898071289,13.622980117797852,-0.6903220415115356,12.975015640258789,-4.154929161071777,-12.732455253601074,4.911952972412109,1.8134692907333374,-3.7743842601776123,3.3126070499420166,-7.940335750579834,-6.602659225463867,-9.747466087341309,-8.910648345947266,-8.752416610717773,-9.916296005249023,17.201828002929688,13.659114837646484,17.861679077148438,19.96120834350586,17.284337997436523,15.968475341796875,-0.06846261024475098,14.58180046081543,-4.981940269470215,-11.446434020996094,5.804702281951904,2.497417449951172,-4.134479522705078,2.0181405544281006,-7.291325092315674,-6.815773963928223,-11.79974365234375,-10.580560684204102,-9.149715423583984,-12.329158782958984,16.412158966064453,18.183032989501953,20.152435302734375,19.67569351196289,17.3951358795166,16.98480224609375,-1.2762584686279297,13.570045471191406,-3.9064688682556152,-12.572596549987793,4.228674411773682,2.7973270416259766,-4.595335483551025,2.7354736328125,-9.085453987121582,-7.865489959716797,-10.471435546875,-9.161706924438477,-7.830850124359131,-9.916296005249023,16.774642944335938,12.944055557250977,18.31850814819336,21.41351318359375,18.63953399658203,14.876681327819824,1.2262458801269531,11.810863494873047,-4.918267250061035,-12.732455253601074,4.4971160888671875,3.3720381259918213,-5.182120323181152,3.5553934574127197,-7.940335750579834,-6.872282028198242,-11.659525871276855,-10.913762092590332,-8.912004470825195,-9.581589698791504,12.738000869750977,16.29976463317871,21.25411033630371,20.471521377563477,15.429302215576172,15.968475341796875,0.5500086545944214,12.998764038085938,-3.0078768730163574,-13.65756607055664,3.1557109355926514,3.194122791290283,-4.595335483551025,3.187798500061035,-7.536007881164551,-9.267394065856934,-13.124491691589355,-7.353781700134277,-8.912004470825195,-10.97540283203125,16.00071144104004,16.29976463317871,19.983604431152344,21.17694664001465,16.338191986083984,14.195045471191406,0.24393457174301147,11.810863494873047,-3.3091282844543457,-12.468620300292969,5.694971084594727,2.7479116916656494,-5.020036697387695,1.7347753047943115,-7.013060092926025,-13.358914375305176,-18.27092933654785,-7.240758419036865,-8.610280990600586,-10.762566566467285,14.084393501281738,15.863161087036133,19.428264617919922,9.811904907226562,6.044305801391602,16.578054428100586,-1.4262889623641968,10.849333763122559,-4.448551654815674,-11.378387451171875,4.818576335906982,1.727268934249878,-4.896193504333496,3.7519803047180176,-6.5159759521484375,-7.2172369956970215,-10.471435546875,-10.572232246398926,-7.625630855560303,-9.916296005249023,16.421890258789062,12.944055557250977,20.164653778076172,18.852354049682617,14.939982414245605,16.152772903442383,1.2262458801269531,10.968143463134766,-5.507133960723877,-11.642374038696289,4.42348575592041,2.0451741218566895,-4.896193504333496,1.7541449069976807,-10.274717330932617,-8.92036247253418,-10.573445320129395,-10.913762092590332,-7.498929977416992,-10.799578666687012,18.69757843017578,13.213726043701172,21.25411033630371,16.809213638305664,15.363061904907227,15.437686920166016,-1.3096157312393188,10.968143463134766,-5.507198333740234,-11.706449508666992,6.329715728759766,1.9964635372161865,-4.927460670471191,2.544433116912842,-6.734097003936768,-7.0223708152771,-10.985760688781738,-9.998942375183105,-9.149715423583984,-9.404081344604492,16.573354721069336,18.183032989501953,17.797409057617188,18.50485610961914,13.737221717834473,13.884729385375977,-0.7103129625320435,12.975015640258789,-4.702003479003906,-12.075811386108398,3.1557109355926514,3.4332332611083984,-5.951750755310059,2.7771565914154053,-9.085453987121582,-5.999839782714844,-9.969320297241211,-10.334687232971191,-9.07630729675293,-11.470376968383789,14.404806137084961,12.944055557250977,22.46784782409668,20.248573303222656,14.939982414245605,14.658174514770508,-0.24036642909049988,11.850285530090332,-3.5601730346679688,-12.468620300292969,4.897721767425537,3.066412925720215,-5.338718891143799,3.7519803047180176,-7.038488864898682,-6.681828498840332,-9.917362213134766,-7.902493476867676,-11.041044235229492,-10.43310546875,15.021498680114746,14.327874183654785,18.266517639160156,17.955707550048828,14.733267784118652,16.018299102783203,1.2262458801269531,13.570045471191406,-4.523270130157471,-12.007427215576172,5.459012985229492,2.740460157394409,-4.896193504333496,3.187798500061035,-7.29243278503418,-13.358914375305176,-9.747466087341309,-8.70407772064209,-7.180214881896973,-8.424908638000488,14.673437118530273,15.831077575683594,15.550376892089844,20.040122985839844,6.044305801391602,13.622980117797852,0.24393457174301147,10.968143463134766,-4.650871276855469,-11.683250427246094,3.9487717151641846,2.1799240112304688,-4.6514763832092285,1.5946266651153564,-9.36347484588623,-7.2172369956970215,-10.771909713745117,-9.986040115356445,-8.752416610717773,-10.774505615234375,17.666526794433594,13.659114837646484,20.898841857910156,17.366680145263672,15.919857025146484,15.69787311553955,-1.3925429582595825,12.781181335449219,-4.650871276855469,-12.124671936035156,4.228674411773682,3.066412925720215,-5.980989456176758,3.5483169555664062,-6.734097003936768,-6.602659225463867,-10.471435546875,-9.46329402923584,-9.277364730834961,-11.196913719177246,16.268484115600586,15.824047088623047,22.524152755737305,17.955707550048828,17.284337997436523,13.884729385375977,0.7113394737243652,11.999822616577148,-4.523270130157471,-12.732455253601074,-2.083909034729004,1.114471197128296,-4.87593936920166,2.7354736328125,-7.013060092926025,-6.115941047668457,-12.99649429321289,-9.390963554382324,-7.625630855560303,-9.916296005249023,17.201828002929688,12.164505004882812,23.85983657836914,19.778593063354492,18.63953399658203,16.578054428100586,-0.4418289065361023,12.595380783081055,-5.766556262969971,-18.020713806152344,4.818576335906982,2.740460157394409,-5.980989456176758,1.6833136081695557,-9.36347484588623,-8.274872779846191,-11.321296691894531,-9.772756576538086,-7.180214881896973,-10.178415298461914,16.640792846679688,16.77703094482422,18.61257553100586,21.41351318359375,15.12756633758545,15.69787311553955,-2.321880340576172,11.999822616577148,-4.06851863861084,-11.642374038696289,5.804702281951904,3.3720381259918213,-6.021627902984619,1.6833136081695557,-7.218401908874512,-8.186752319335938,-9.989485740661621,-8.635348320007324,-7.498929977416992,-11.196913719177246,16.268484115600586,13.213726043701172,18.266517639160156,18.36301040649414,14.232505798339844,13.82813549041748,-2.321880340576172,12.096258163452148,-3.0078768730163574,-12.572596549987793],\"type\":\"scatter\"}],                        {\"template\":{\"data\":{\"histogram2dcontour\":[{\"type\":\"histogram2dcontour\",\"colorbar\":{\"outlinewidth\":0,\"ticks\":\"\"},\"colorscale\":[[0.0,\"#0d0887\"],[0.1111111111111111,\"#46039f\"],[0.2222222222222222,\"#7201a8\"],[0.3333333333333333,\"#9c179e\"],[0.4444444444444444,\"#bd3786\"],[0.5555555555555556,\"#d8576b\"],[0.6666666666666666,\"#ed7953\"],[0.7777777777777778,\"#fb9f3a\"],[0.8888888888888888,\"#fdca26\"],[1.0,\"#f0f921\"]]}],\"choropleth\":[{\"type\":\"choropleth\",\"colorbar\":{\"outlinewidth\":0,\"ticks\":\"\"}}],\"histogram2d\":[{\"type\":\"histogram2d\",\"colorbar\":{\"outlinewidth\":0,\"ticks\":\"\"},\"colorscale\":[[0.0,\"#0d0887\"],[0.1111111111111111,\"#46039f\"],[0.2222222222222222,\"#7201a8\"],[0.3333333333333333,\"#9c179e\"],[0.4444444444444444,\"#bd3786\"],[0.5555555555555556,\"#d8576b\"],[0.6666666666666666,\"#ed7953\"],[0.7777777777777778,\"#fb9f3a\"],[0.8888888888888888,\"#fdca26\"],[1.0,\"#f0f921\"]]}],\"heatmap\":[{\"type\":\"heatmap\",\"colorbar\":{\"outlinewidth\":0,\"ticks\":\"\"},\"colorscale\":[[0.0,\"#0d0887\"],[0.1111111111111111,\"#46039f\"],[0.2222222222222222,\"#7201a8\"],[0.3333333333333333,\"#9c179e\"],[0.4444444444444444,\"#bd3786\"],[0.5555555555555556,\"#d8576b\"],[0.6666666666666666,\"#ed7953\"],[0.7777777777777778,\"#fb9f3a\"],[0.8888888888888888,\"#fdca26\"],[1.0,\"#f0f921\"]]}],\"heatmapgl\":[{\"type\":\"heatmapgl\",\"colorbar\":{\"outlinewidth\":0,\"ticks\":\"\"},\"colorscale\":[[0.0,\"#0d0887\"],[0.1111111111111111,\"#46039f\"],[0.2222222222222222,\"#7201a8\"],[0.3333333333333333,\"#9c179e\"],[0.4444444444444444,\"#bd3786\"],[0.5555555555555556,\"#d8576b\"],[0.6666666666666666,\"#ed7953\"],[0.7777777777777778,\"#fb9f3a\"],[0.8888888888888888,\"#fdca26\"],[1.0,\"#f0f921\"]]}],\"contourcarpet\":[{\"type\":\"contourcarpet\",\"colorbar\":{\"outlinewidth\":0,\"ticks\":\"\"}}],\"contour\":[{\"type\":\"contour\",\"colorbar\":{\"outlinewidth\":0,\"ticks\":\"\"},\"colorscale\":[[0.0,\"#0d0887\"],[0.1111111111111111,\"#46039f\"],[0.2222222222222222,\"#7201a8\"],[0.3333333333333333,\"#9c179e\"],[0.4444444444444444,\"#bd3786\"],[0.5555555555555556,\"#d8576b\"],[0.6666666666666666,\"#ed7953\"],[0.7777777777777778,\"#fb9f3a\"],[0.8888888888888888,\"#fdca26\"],[1.0,\"#f0f921\"]]}],\"surface\":[{\"type\":\"surface\",\"colorbar\":{\"outlinewidth\":0,\"ticks\":\"\"},\"colorscale\":[[0.0,\"#0d0887\"],[0.1111111111111111,\"#46039f\"],[0.2222222222222222,\"#7201a8\"],[0.3333333333333333,\"#9c179e\"],[0.4444444444444444,\"#bd3786\"],[0.5555555555555556,\"#d8576b\"],[0.6666666666666666,\"#ed7953\"],[0.7777777777777778,\"#fb9f3a\"],[0.8888888888888888,\"#fdca26\"],[1.0,\"#f0f921\"]]}],\"mesh3d\":[{\"type\":\"mesh3d\",\"colorbar\":{\"outlinewidth\":0,\"ticks\":\"\"}}],\"scatter\":[{\"fillpattern\":{\"fillmode\":\"overlay\",\"size\":10,\"solidity\":0.2},\"type\":\"scatter\"}],\"parcoords\":[{\"type\":\"parcoords\",\"line\":{\"colorbar\":{\"outlinewidth\":0,\"ticks\":\"\"}}}],\"scatterpolargl\":[{\"type\":\"scatterpolargl\",\"marker\":{\"colorbar\":{\"outlinewidth\":0,\"ticks\":\"\"}}}],\"bar\":[{\"error_x\":{\"color\":\"#2a3f5f\"},\"error_y\":{\"color\":\"#2a3f5f\"},\"marker\":{\"line\":{\"color\":\"#E5ECF6\",\"width\":0.5},\"pattern\":{\"fillmode\":\"overlay\",\"size\":10,\"solidity\":0.2}},\"type\":\"bar\"}],\"scattergeo\":[{\"type\":\"scattergeo\",\"marker\":{\"colorbar\":{\"outlinewidth\":0,\"ticks\":\"\"}}}],\"scatterpolar\":[{\"type\":\"scatterpolar\",\"marker\":{\"colorbar\":{\"outlinewidth\":0,\"ticks\":\"\"}}}],\"histogram\":[{\"marker\":{\"pattern\":{\"fillmode\":\"overlay\",\"size\":10,\"solidity\":0.2}},\"type\":\"histogram\"}],\"scattergl\":[{\"type\":\"scattergl\",\"marker\":{\"colorbar\":{\"outlinewidth\":0,\"ticks\":\"\"}}}],\"scatter3d\":[{\"type\":\"scatter3d\",\"line\":{\"colorbar\":{\"outlinewidth\":0,\"ticks\":\"\"}},\"marker\":{\"colorbar\":{\"outlinewidth\":0,\"ticks\":\"\"}}}],\"scattermapbox\":[{\"type\":\"scattermapbox\",\"marker\":{\"colorbar\":{\"outlinewidth\":0,\"ticks\":\"\"}}}],\"scatterternary\":[{\"type\":\"scatterternary\",\"marker\":{\"colorbar\":{\"outlinewidth\":0,\"ticks\":\"\"}}}],\"scattercarpet\":[{\"type\":\"scattercarpet\",\"marker\":{\"colorbar\":{\"outlinewidth\":0,\"ticks\":\"\"}}}],\"carpet\":[{\"aaxis\":{\"endlinecolor\":\"#2a3f5f\",\"gridcolor\":\"white\",\"linecolor\":\"white\",\"minorgridcolor\":\"white\",\"startlinecolor\":\"#2a3f5f\"},\"baxis\":{\"endlinecolor\":\"#2a3f5f\",\"gridcolor\":\"white\",\"linecolor\":\"white\",\"minorgridcolor\":\"white\",\"startlinecolor\":\"#2a3f5f\"},\"type\":\"carpet\"}],\"table\":[{\"cells\":{\"fill\":{\"color\":\"#EBF0F8\"},\"line\":{\"color\":\"white\"}},\"header\":{\"fill\":{\"color\":\"#C8D4E3\"},\"line\":{\"color\":\"white\"}},\"type\":\"table\"}],\"barpolar\":[{\"marker\":{\"line\":{\"color\":\"#E5ECF6\",\"width\":0.5},\"pattern\":{\"fillmode\":\"overlay\",\"size\":10,\"solidity\":0.2}},\"type\":\"barpolar\"}],\"pie\":[{\"automargin\":true,\"type\":\"pie\"}]},\"layout\":{\"autotypenumbers\":\"strict\",\"colorway\":[\"#636efa\",\"#EF553B\",\"#00cc96\",\"#ab63fa\",\"#FFA15A\",\"#19d3f3\",\"#FF6692\",\"#B6E880\",\"#FF97FF\",\"#FECB52\"],\"font\":{\"color\":\"#2a3f5f\"},\"hovermode\":\"closest\",\"hoverlabel\":{\"align\":\"left\"},\"paper_bgcolor\":\"white\",\"plot_bgcolor\":\"#E5ECF6\",\"polar\":{\"bgcolor\":\"#E5ECF6\",\"angularaxis\":{\"gridcolor\":\"white\",\"linecolor\":\"white\",\"ticks\":\"\"},\"radialaxis\":{\"gridcolor\":\"white\",\"linecolor\":\"white\",\"ticks\":\"\"}},\"ternary\":{\"bgcolor\":\"#E5ECF6\",\"aaxis\":{\"gridcolor\":\"white\",\"linecolor\":\"white\",\"ticks\":\"\"},\"baxis\":{\"gridcolor\":\"white\",\"linecolor\":\"white\",\"ticks\":\"\"},\"caxis\":{\"gridcolor\":\"white\",\"linecolor\":\"white\",\"ticks\":\"\"}},\"coloraxis\":{\"colorbar\":{\"outlinewidth\":0,\"ticks\":\"\"}},\"colorscale\":{\"sequential\":[[0.0,\"#0d0887\"],[0.1111111111111111,\"#46039f\"],[0.2222222222222222,\"#7201a8\"],[0.3333333333333333,\"#9c179e\"],[0.4444444444444444,\"#bd3786\"],[0.5555555555555556,\"#d8576b\"],[0.6666666666666666,\"#ed7953\"],[0.7777777777777778,\"#fb9f3a\"],[0.8888888888888888,\"#fdca26\"],[1.0,\"#f0f921\"]],\"sequentialminus\":[[0.0,\"#0d0887\"],[0.1111111111111111,\"#46039f\"],[0.2222222222222222,\"#7201a8\"],[0.3333333333333333,\"#9c179e\"],[0.4444444444444444,\"#bd3786\"],[0.5555555555555556,\"#d8576b\"],[0.6666666666666666,\"#ed7953\"],[0.7777777777777778,\"#fb9f3a\"],[0.8888888888888888,\"#fdca26\"],[1.0,\"#f0f921\"]],\"diverging\":[[0,\"#8e0152\"],[0.1,\"#c51b7d\"],[0.2,\"#de77ae\"],[0.3,\"#f1b6da\"],[0.4,\"#fde0ef\"],[0.5,\"#f7f7f7\"],[0.6,\"#e6f5d0\"],[0.7,\"#b8e186\"],[0.8,\"#7fbc41\"],[0.9,\"#4d9221\"],[1,\"#276419\"]]},\"xaxis\":{\"gridcolor\":\"white\",\"linecolor\":\"white\",\"ticks\":\"\",\"title\":{\"standoff\":15},\"zerolinecolor\":\"white\",\"automargin\":true,\"zerolinewidth\":2},\"yaxis\":{\"gridcolor\":\"white\",\"linecolor\":\"white\",\"ticks\":\"\",\"title\":{\"standoff\":15},\"zerolinecolor\":\"white\",\"automargin\":true,\"zerolinewidth\":2},\"scene\":{\"xaxis\":{\"backgroundcolor\":\"#E5ECF6\",\"gridcolor\":\"white\",\"linecolor\":\"white\",\"showbackground\":true,\"ticks\":\"\",\"zerolinecolor\":\"white\",\"gridwidth\":2},\"yaxis\":{\"backgroundcolor\":\"#E5ECF6\",\"gridcolor\":\"white\",\"linecolor\":\"white\",\"showbackground\":true,\"ticks\":\"\",\"zerolinecolor\":\"white\",\"gridwidth\":2},\"zaxis\":{\"backgroundcolor\":\"#E5ECF6\",\"gridcolor\":\"white\",\"linecolor\":\"white\",\"showbackground\":true,\"ticks\":\"\",\"zerolinecolor\":\"white\",\"gridwidth\":2}},\"shapedefaults\":{\"line\":{\"color\":\"#2a3f5f\"}},\"annotationdefaults\":{\"arrowcolor\":\"#2a3f5f\",\"arrowhead\":0,\"arrowwidth\":1},\"geo\":{\"bgcolor\":\"white\",\"landcolor\":\"#E5ECF6\",\"subunitcolor\":\"white\",\"showland\":true,\"showlakes\":true,\"lakecolor\":\"white\"},\"title\":{\"x\":0.05},\"mapbox\":{\"style\":\"light\"}}},\"title\":{\"text\":\"Logit attribution of H0.0 values through H1.0 OV, across 100 examples\"},\"xaxis\":{\"title\":{\"text\":\"Sequence position\"}},\"yaxis\":{\"title\":{\"text\":\"Logit attribution\"}},\"height\":400,\"width\":800,\"shapes\":[{\"line\":{\"color\":\"Black\"},\"type\":\"line\",\"x0\":0,\"x1\":22,\"y0\":0,\"y1\":0}]},                        {\"responsive\": true}                    ).then(function(){\n",
              "                            \n",
              "var gd = document.getElementById('888fe94e-da89-4b17-a15e-4fea841ee26f');\n",
              "var x = new MutationObserver(function (mutations, observer) {{\n",
              "        var display = window.getComputedStyle(gd).display;\n",
              "        if (!display || display === 'none') {{\n",
              "            console.log([gd, 'removed!']);\n",
              "            Plotly.purge(gd);\n",
              "            observer.disconnect();\n",
              "        }}\n",
              "}});\n",
              "\n",
              "// Listen for the removal of the full notebook cells\n",
              "var notebookContainer = gd.closest('#notebook-container');\n",
              "if (notebookContainer) {{\n",
              "    x.observe(notebookContainer, {childList: true});\n",
              "}}\n",
              "\n",
              "// Listen for the clearing of the current output cell\n",
              "var outputEl = gd.closest('.output');\n",
              "if (outputEl) {{\n",
              "    x.observe(outputEl, {childList: true});\n",
              "}}\n",
              "\n",
              "                        })                };                            </script>        </div>\n",
              "</body>\n",
              "</html>"
            ]
          },
          "metadata": {}
        }
      ]
    },
    {
      "cell_type": "markdown",
      "source": [
        "### The H0.0 OV & H1.1 OV circuits, and the full V-composition circuit\n",
        "\n",
        "From the above plot, we can roughly see what the H0.0 and H1.0 OV circuits are doing.\n",
        "\n",
        "$W_{OV}^{0.0}$ is detecting if the sequence position is in the first half or second half. If in the second half, it outputs a vector that, when run through  $W_{OV}^{1.0}$, points in the direction of 'non-palindrome'. If in the first half, the resulting vector is in the opposite direction.\n",
        "\n",
        "$W_{OV}^{1.0}$ is responsible for taking the vectors emitted by H0.0 and transforming them according to the above relation, so that the output is either in the 'non-palindrome' direction, or in the opposite.\n",
        "\n",
        "We can describe the full circuit like this:\n",
        "$$W_{pos} W_{OV}^{0.0} W_{OV}^{1.0} \\cdot \\text{post_ln_dir}$$\n",
        "\n",
        "The above `seq x 1` circuit maps a position to a 'non-palindrome' score.\n",
        "\n",
        "When an input is a palindrome, H0.0 will attend strongly to tokens in the first half from all positions. When an input is a non-palindrome, H0.0 will strongly self-attend for some position in the second half. Thus, in the circuit above, we expect indices 1-10 to map to negative values (resulting in a vote for 'palindrome'), and indices 11-20 to map to positive values (resulting in a vote for 'non-palindrome').\n",
        "\n",
        "We compute and display the full circuit:"
      ],
      "metadata": {
        "id": "MvJQ89_3fm1S"
      }
    },
    {
      "cell_type": "code",
      "source": [
        "W_pos = model.W_pos\n",
        "W_O_0_0 = model.W_O[0,0]\n",
        "W_V_0_0 = model.W_V[0,0]\n",
        "W_O_1_0 = model.W_O[1,0]\n",
        "W_V_1_0 = model.W_V[1,0]\n",
        "post_final_ln_dir = get_post_final_ln_dir(model).unsqueeze(0)\n",
        "\n",
        "full_composed_OV_circuit = W_pos @ W_V_0_0 @ W_O_0_0 @ W_V_1_0 @ W_O_1_0 @ post_final_ln_dir.T\n",
        "\n",
        "fig = px.imshow(\n",
        "    full_composed_OV_circuit.T.cpu().detach().numpy(),\n",
        "    color_continuous_scale='RdBu',\n",
        "    color_continuous_midpoint=0.0,\n",
        "    title='V-composition circuit between H0.0 OV & H1.0 OV',\n",
        "    height=500, width=800)\n",
        "fig.update_yaxes(showticklabels=False)\n",
        "tickvals = list(range(full_composed_OV_circuit.shape[0]))\n",
        "ticktext = [str(i) for i in tickvals]\n",
        "fig.update_xaxes(tickvals=tickvals, ticktext=ticktext)\n",
        "fig.show()\n",
        "\n",
        "fig = go.Figure(data=go.Scatter(x=list(range(0, 22)), y=full_composed_OV_circuit.view(-1).cpu().detach().numpy(), mode='markers', marker=dict(color=['orange'] + ['red']*10 + ['blue']*10 + ['orange'])))\n",
        "fig.update_layout(title='V-composition circuit between H0.0 OV & H1.0 OV', xaxis_title='Sequence position', yaxis_title='Logit attribution', height=400, width=800)\n",
        "fig.add_shape(type='line', x0=0, y0=0, x1=22, y1=0, line=dict(color='Black'))\n",
        "fig.show()"
      ],
      "metadata": {
        "colab": {
          "base_uri": "https://localhost:8080/",
          "height": 917
        },
        "id": "tFkDcBuoTarS",
        "outputId": "e7db98b1-e64d-4d96-c59c-37635ff16b7f"
      },
      "execution_count": 32,
      "outputs": [
        {
          "output_type": "display_data",
          "data": {
            "text/html": [
              "<html>\n",
              "<head><meta charset=\"utf-8\" /></head>\n",
              "<body>\n",
              "    <div>            <script src=\"https://cdnjs.cloudflare.com/ajax/libs/mathjax/2.7.5/MathJax.js?config=TeX-AMS-MML_SVG\"></script><script type=\"text/javascript\">if (window.MathJax && window.MathJax.Hub && window.MathJax.Hub.Config) {window.MathJax.Hub.Config({SVG: {font: \"STIX-Web\"}});}</script>                <script type=\"text/javascript\">window.PlotlyConfig = {MathJaxConfig: 'local'};</script>\n",
              "        <script charset=\"utf-8\" src=\"https://cdn.plot.ly/plotly-2.24.1.min.js\"></script>                <div id=\"a893daac-a4e5-445b-8dc2-9c53c6434a37\" class=\"plotly-graph-div\" style=\"height:500px; width:800px;\"></div>            <script type=\"text/javascript\">                                    window.PLOTLYENV=window.PLOTLYENV || {};                                    if (document.getElementById(\"a893daac-a4e5-445b-8dc2-9c53c6434a37\")) {                    Plotly.newPlot(                        \"a893daac-a4e5-445b-8dc2-9c53c6434a37\",                        [{\"coloraxis\":\"coloraxis\",\"name\":\"0\",\"z\":[[-0.21900160610675812,0.9606218338012695,0.42147576808929443,-1.295946717262268,0.39188727736473083,-1.7326104640960693,-1.5855731964111328,-2.12894606590271,-1.9713728427886963,-1.8236900568008423,-2.2242751121520996,3.0236356258392334,2.9450180530548096,4.197085857391357,3.4717836380004883,2.980442523956299,3.148763418197632,-0.299987256526947,3.0285003185272217,-1.1088268756866455,-3.144618511199951,0.051672033965587616]],\"type\":\"heatmap\",\"xaxis\":\"x\",\"yaxis\":\"y\",\"hovertemplate\":\"x: %{x}\\u003cbr\\u003ey: %{y}\\u003cbr\\u003ecolor: %{z}\\u003cextra\\u003e\\u003c\\u002fextra\\u003e\"}],                        {\"template\":{\"data\":{\"histogram2dcontour\":[{\"type\":\"histogram2dcontour\",\"colorbar\":{\"outlinewidth\":0,\"ticks\":\"\"},\"colorscale\":[[0.0,\"#0d0887\"],[0.1111111111111111,\"#46039f\"],[0.2222222222222222,\"#7201a8\"],[0.3333333333333333,\"#9c179e\"],[0.4444444444444444,\"#bd3786\"],[0.5555555555555556,\"#d8576b\"],[0.6666666666666666,\"#ed7953\"],[0.7777777777777778,\"#fb9f3a\"],[0.8888888888888888,\"#fdca26\"],[1.0,\"#f0f921\"]]}],\"choropleth\":[{\"type\":\"choropleth\",\"colorbar\":{\"outlinewidth\":0,\"ticks\":\"\"}}],\"histogram2d\":[{\"type\":\"histogram2d\",\"colorbar\":{\"outlinewidth\":0,\"ticks\":\"\"},\"colorscale\":[[0.0,\"#0d0887\"],[0.1111111111111111,\"#46039f\"],[0.2222222222222222,\"#7201a8\"],[0.3333333333333333,\"#9c179e\"],[0.4444444444444444,\"#bd3786\"],[0.5555555555555556,\"#d8576b\"],[0.6666666666666666,\"#ed7953\"],[0.7777777777777778,\"#fb9f3a\"],[0.8888888888888888,\"#fdca26\"],[1.0,\"#f0f921\"]]}],\"heatmap\":[{\"type\":\"heatmap\",\"colorbar\":{\"outlinewidth\":0,\"ticks\":\"\"},\"colorscale\":[[0.0,\"#0d0887\"],[0.1111111111111111,\"#46039f\"],[0.2222222222222222,\"#7201a8\"],[0.3333333333333333,\"#9c179e\"],[0.4444444444444444,\"#bd3786\"],[0.5555555555555556,\"#d8576b\"],[0.6666666666666666,\"#ed7953\"],[0.7777777777777778,\"#fb9f3a\"],[0.8888888888888888,\"#fdca26\"],[1.0,\"#f0f921\"]]}],\"heatmapgl\":[{\"type\":\"heatmapgl\",\"colorbar\":{\"outlinewidth\":0,\"ticks\":\"\"},\"colorscale\":[[0.0,\"#0d0887\"],[0.1111111111111111,\"#46039f\"],[0.2222222222222222,\"#7201a8\"],[0.3333333333333333,\"#9c179e\"],[0.4444444444444444,\"#bd3786\"],[0.5555555555555556,\"#d8576b\"],[0.6666666666666666,\"#ed7953\"],[0.7777777777777778,\"#fb9f3a\"],[0.8888888888888888,\"#fdca26\"],[1.0,\"#f0f921\"]]}],\"contourcarpet\":[{\"type\":\"contourcarpet\",\"colorbar\":{\"outlinewidth\":0,\"ticks\":\"\"}}],\"contour\":[{\"type\":\"contour\",\"colorbar\":{\"outlinewidth\":0,\"ticks\":\"\"},\"colorscale\":[[0.0,\"#0d0887\"],[0.1111111111111111,\"#46039f\"],[0.2222222222222222,\"#7201a8\"],[0.3333333333333333,\"#9c179e\"],[0.4444444444444444,\"#bd3786\"],[0.5555555555555556,\"#d8576b\"],[0.6666666666666666,\"#ed7953\"],[0.7777777777777778,\"#fb9f3a\"],[0.8888888888888888,\"#fdca26\"],[1.0,\"#f0f921\"]]}],\"surface\":[{\"type\":\"surface\",\"colorbar\":{\"outlinewidth\":0,\"ticks\":\"\"},\"colorscale\":[[0.0,\"#0d0887\"],[0.1111111111111111,\"#46039f\"],[0.2222222222222222,\"#7201a8\"],[0.3333333333333333,\"#9c179e\"],[0.4444444444444444,\"#bd3786\"],[0.5555555555555556,\"#d8576b\"],[0.6666666666666666,\"#ed7953\"],[0.7777777777777778,\"#fb9f3a\"],[0.8888888888888888,\"#fdca26\"],[1.0,\"#f0f921\"]]}],\"mesh3d\":[{\"type\":\"mesh3d\",\"colorbar\":{\"outlinewidth\":0,\"ticks\":\"\"}}],\"scatter\":[{\"fillpattern\":{\"fillmode\":\"overlay\",\"size\":10,\"solidity\":0.2},\"type\":\"scatter\"}],\"parcoords\":[{\"type\":\"parcoords\",\"line\":{\"colorbar\":{\"outlinewidth\":0,\"ticks\":\"\"}}}],\"scatterpolargl\":[{\"type\":\"scatterpolargl\",\"marker\":{\"colorbar\":{\"outlinewidth\":0,\"ticks\":\"\"}}}],\"bar\":[{\"error_x\":{\"color\":\"#2a3f5f\"},\"error_y\":{\"color\":\"#2a3f5f\"},\"marker\":{\"line\":{\"color\":\"#E5ECF6\",\"width\":0.5},\"pattern\":{\"fillmode\":\"overlay\",\"size\":10,\"solidity\":0.2}},\"type\":\"bar\"}],\"scattergeo\":[{\"type\":\"scattergeo\",\"marker\":{\"colorbar\":{\"outlinewidth\":0,\"ticks\":\"\"}}}],\"scatterpolar\":[{\"type\":\"scatterpolar\",\"marker\":{\"colorbar\":{\"outlinewidth\":0,\"ticks\":\"\"}}}],\"histogram\":[{\"marker\":{\"pattern\":{\"fillmode\":\"overlay\",\"size\":10,\"solidity\":0.2}},\"type\":\"histogram\"}],\"scattergl\":[{\"type\":\"scattergl\",\"marker\":{\"colorbar\":{\"outlinewidth\":0,\"ticks\":\"\"}}}],\"scatter3d\":[{\"type\":\"scatter3d\",\"line\":{\"colorbar\":{\"outlinewidth\":0,\"ticks\":\"\"}},\"marker\":{\"colorbar\":{\"outlinewidth\":0,\"ticks\":\"\"}}}],\"scattermapbox\":[{\"type\":\"scattermapbox\",\"marker\":{\"colorbar\":{\"outlinewidth\":0,\"ticks\":\"\"}}}],\"scatterternary\":[{\"type\":\"scatterternary\",\"marker\":{\"colorbar\":{\"outlinewidth\":0,\"ticks\":\"\"}}}],\"scattercarpet\":[{\"type\":\"scattercarpet\",\"marker\":{\"colorbar\":{\"outlinewidth\":0,\"ticks\":\"\"}}}],\"carpet\":[{\"aaxis\":{\"endlinecolor\":\"#2a3f5f\",\"gridcolor\":\"white\",\"linecolor\":\"white\",\"minorgridcolor\":\"white\",\"startlinecolor\":\"#2a3f5f\"},\"baxis\":{\"endlinecolor\":\"#2a3f5f\",\"gridcolor\":\"white\",\"linecolor\":\"white\",\"minorgridcolor\":\"white\",\"startlinecolor\":\"#2a3f5f\"},\"type\":\"carpet\"}],\"table\":[{\"cells\":{\"fill\":{\"color\":\"#EBF0F8\"},\"line\":{\"color\":\"white\"}},\"header\":{\"fill\":{\"color\":\"#C8D4E3\"},\"line\":{\"color\":\"white\"}},\"type\":\"table\"}],\"barpolar\":[{\"marker\":{\"line\":{\"color\":\"#E5ECF6\",\"width\":0.5},\"pattern\":{\"fillmode\":\"overlay\",\"size\":10,\"solidity\":0.2}},\"type\":\"barpolar\"}],\"pie\":[{\"automargin\":true,\"type\":\"pie\"}]},\"layout\":{\"autotypenumbers\":\"strict\",\"colorway\":[\"#636efa\",\"#EF553B\",\"#00cc96\",\"#ab63fa\",\"#FFA15A\",\"#19d3f3\",\"#FF6692\",\"#B6E880\",\"#FF97FF\",\"#FECB52\"],\"font\":{\"color\":\"#2a3f5f\"},\"hovermode\":\"closest\",\"hoverlabel\":{\"align\":\"left\"},\"paper_bgcolor\":\"white\",\"plot_bgcolor\":\"#E5ECF6\",\"polar\":{\"bgcolor\":\"#E5ECF6\",\"angularaxis\":{\"gridcolor\":\"white\",\"linecolor\":\"white\",\"ticks\":\"\"},\"radialaxis\":{\"gridcolor\":\"white\",\"linecolor\":\"white\",\"ticks\":\"\"}},\"ternary\":{\"bgcolor\":\"#E5ECF6\",\"aaxis\":{\"gridcolor\":\"white\",\"linecolor\":\"white\",\"ticks\":\"\"},\"baxis\":{\"gridcolor\":\"white\",\"linecolor\":\"white\",\"ticks\":\"\"},\"caxis\":{\"gridcolor\":\"white\",\"linecolor\":\"white\",\"ticks\":\"\"}},\"coloraxis\":{\"colorbar\":{\"outlinewidth\":0,\"ticks\":\"\"}},\"colorscale\":{\"sequential\":[[0.0,\"#0d0887\"],[0.1111111111111111,\"#46039f\"],[0.2222222222222222,\"#7201a8\"],[0.3333333333333333,\"#9c179e\"],[0.4444444444444444,\"#bd3786\"],[0.5555555555555556,\"#d8576b\"],[0.6666666666666666,\"#ed7953\"],[0.7777777777777778,\"#fb9f3a\"],[0.8888888888888888,\"#fdca26\"],[1.0,\"#f0f921\"]],\"sequentialminus\":[[0.0,\"#0d0887\"],[0.1111111111111111,\"#46039f\"],[0.2222222222222222,\"#7201a8\"],[0.3333333333333333,\"#9c179e\"],[0.4444444444444444,\"#bd3786\"],[0.5555555555555556,\"#d8576b\"],[0.6666666666666666,\"#ed7953\"],[0.7777777777777778,\"#fb9f3a\"],[0.8888888888888888,\"#fdca26\"],[1.0,\"#f0f921\"]],\"diverging\":[[0,\"#8e0152\"],[0.1,\"#c51b7d\"],[0.2,\"#de77ae\"],[0.3,\"#f1b6da\"],[0.4,\"#fde0ef\"],[0.5,\"#f7f7f7\"],[0.6,\"#e6f5d0\"],[0.7,\"#b8e186\"],[0.8,\"#7fbc41\"],[0.9,\"#4d9221\"],[1,\"#276419\"]]},\"xaxis\":{\"gridcolor\":\"white\",\"linecolor\":\"white\",\"ticks\":\"\",\"title\":{\"standoff\":15},\"zerolinecolor\":\"white\",\"automargin\":true,\"zerolinewidth\":2},\"yaxis\":{\"gridcolor\":\"white\",\"linecolor\":\"white\",\"ticks\":\"\",\"title\":{\"standoff\":15},\"zerolinecolor\":\"white\",\"automargin\":true,\"zerolinewidth\":2},\"scene\":{\"xaxis\":{\"backgroundcolor\":\"#E5ECF6\",\"gridcolor\":\"white\",\"linecolor\":\"white\",\"showbackground\":true,\"ticks\":\"\",\"zerolinecolor\":\"white\",\"gridwidth\":2},\"yaxis\":{\"backgroundcolor\":\"#E5ECF6\",\"gridcolor\":\"white\",\"linecolor\":\"white\",\"showbackground\":true,\"ticks\":\"\",\"zerolinecolor\":\"white\",\"gridwidth\":2},\"zaxis\":{\"backgroundcolor\":\"#E5ECF6\",\"gridcolor\":\"white\",\"linecolor\":\"white\",\"showbackground\":true,\"ticks\":\"\",\"zerolinecolor\":\"white\",\"gridwidth\":2}},\"shapedefaults\":{\"line\":{\"color\":\"#2a3f5f\"}},\"annotationdefaults\":{\"arrowcolor\":\"#2a3f5f\",\"arrowhead\":0,\"arrowwidth\":1},\"geo\":{\"bgcolor\":\"white\",\"landcolor\":\"#E5ECF6\",\"subunitcolor\":\"white\",\"showland\":true,\"showlakes\":true,\"lakecolor\":\"white\"},\"title\":{\"x\":0.05},\"mapbox\":{\"style\":\"light\"}}},\"xaxis\":{\"anchor\":\"y\",\"domain\":[0.0,1.0],\"scaleanchor\":\"y\",\"constrain\":\"domain\",\"tickvals\":[0,1,2,3,4,5,6,7,8,9,10,11,12,13,14,15,16,17,18,19,20,21],\"ticktext\":[\"0\",\"1\",\"2\",\"3\",\"4\",\"5\",\"6\",\"7\",\"8\",\"9\",\"10\",\"11\",\"12\",\"13\",\"14\",\"15\",\"16\",\"17\",\"18\",\"19\",\"20\",\"21\"]},\"yaxis\":{\"anchor\":\"x\",\"domain\":[0.0,1.0],\"autorange\":\"reversed\",\"constrain\":\"domain\",\"showticklabels\":false},\"coloraxis\":{\"colorscale\":[[0.0,\"rgb(103,0,31)\"],[0.1,\"rgb(178,24,43)\"],[0.2,\"rgb(214,96,77)\"],[0.3,\"rgb(244,165,130)\"],[0.4,\"rgb(253,219,199)\"],[0.5,\"rgb(247,247,247)\"],[0.6,\"rgb(209,229,240)\"],[0.7,\"rgb(146,197,222)\"],[0.8,\"rgb(67,147,195)\"],[0.9,\"rgb(33,102,172)\"],[1.0,\"rgb(5,48,97)\"]],\"cmid\":0.0},\"title\":{\"text\":\"V-composition circuit between H0.0 OV & H1.0 OV\"},\"height\":500,\"width\":800},                        {\"responsive\": true}                    ).then(function(){\n",
              "                            \n",
              "var gd = document.getElementById('a893daac-a4e5-445b-8dc2-9c53c6434a37');\n",
              "var x = new MutationObserver(function (mutations, observer) {{\n",
              "        var display = window.getComputedStyle(gd).display;\n",
              "        if (!display || display === 'none') {{\n",
              "            console.log([gd, 'removed!']);\n",
              "            Plotly.purge(gd);\n",
              "            observer.disconnect();\n",
              "        }}\n",
              "}});\n",
              "\n",
              "// Listen for the removal of the full notebook cells\n",
              "var notebookContainer = gd.closest('#notebook-container');\n",
              "if (notebookContainer) {{\n",
              "    x.observe(notebookContainer, {childList: true});\n",
              "}}\n",
              "\n",
              "// Listen for the clearing of the current output cell\n",
              "var outputEl = gd.closest('.output');\n",
              "if (outputEl) {{\n",
              "    x.observe(outputEl, {childList: true});\n",
              "}}\n",
              "\n",
              "                        })                };                            </script>        </div>\n",
              "</body>\n",
              "</html>"
            ]
          },
          "metadata": {}
        },
        {
          "output_type": "display_data",
          "data": {
            "text/html": [
              "<html>\n",
              "<head><meta charset=\"utf-8\" /></head>\n",
              "<body>\n",
              "    <div>            <script src=\"https://cdnjs.cloudflare.com/ajax/libs/mathjax/2.7.5/MathJax.js?config=TeX-AMS-MML_SVG\"></script><script type=\"text/javascript\">if (window.MathJax && window.MathJax.Hub && window.MathJax.Hub.Config) {window.MathJax.Hub.Config({SVG: {font: \"STIX-Web\"}});}</script>                <script type=\"text/javascript\">window.PlotlyConfig = {MathJaxConfig: 'local'};</script>\n",
              "        <script charset=\"utf-8\" src=\"https://cdn.plot.ly/plotly-2.24.1.min.js\"></script>                <div id=\"3e70c7c8-4a57-49c1-940a-667a843c0357\" class=\"plotly-graph-div\" style=\"height:400px; width:800px;\"></div>            <script type=\"text/javascript\">                                    window.PLOTLYENV=window.PLOTLYENV || {};                                    if (document.getElementById(\"3e70c7c8-4a57-49c1-940a-667a843c0357\")) {                    Plotly.newPlot(                        \"3e70c7c8-4a57-49c1-940a-667a843c0357\",                        [{\"marker\":{\"color\":[\"orange\",\"red\",\"red\",\"red\",\"red\",\"red\",\"red\",\"red\",\"red\",\"red\",\"red\",\"blue\",\"blue\",\"blue\",\"blue\",\"blue\",\"blue\",\"blue\",\"blue\",\"blue\",\"blue\",\"orange\"]},\"mode\":\"markers\",\"x\":[0,1,2,3,4,5,6,7,8,9,10,11,12,13,14,15,16,17,18,19,20,21],\"y\":[-0.21900160610675812,0.9606218338012695,0.42147576808929443,-1.295946717262268,0.39188727736473083,-1.7326104640960693,-1.5855731964111328,-2.12894606590271,-1.9713728427886963,-1.8236900568008423,-2.2242751121520996,3.0236356258392334,2.9450180530548096,4.197085857391357,3.4717836380004883,2.980442523956299,3.148763418197632,-0.299987256526947,3.0285003185272217,-1.1088268756866455,-3.144618511199951,0.051672033965587616],\"type\":\"scatter\"}],                        {\"template\":{\"data\":{\"histogram2dcontour\":[{\"type\":\"histogram2dcontour\",\"colorbar\":{\"outlinewidth\":0,\"ticks\":\"\"},\"colorscale\":[[0.0,\"#0d0887\"],[0.1111111111111111,\"#46039f\"],[0.2222222222222222,\"#7201a8\"],[0.3333333333333333,\"#9c179e\"],[0.4444444444444444,\"#bd3786\"],[0.5555555555555556,\"#d8576b\"],[0.6666666666666666,\"#ed7953\"],[0.7777777777777778,\"#fb9f3a\"],[0.8888888888888888,\"#fdca26\"],[1.0,\"#f0f921\"]]}],\"choropleth\":[{\"type\":\"choropleth\",\"colorbar\":{\"outlinewidth\":0,\"ticks\":\"\"}}],\"histogram2d\":[{\"type\":\"histogram2d\",\"colorbar\":{\"outlinewidth\":0,\"ticks\":\"\"},\"colorscale\":[[0.0,\"#0d0887\"],[0.1111111111111111,\"#46039f\"],[0.2222222222222222,\"#7201a8\"],[0.3333333333333333,\"#9c179e\"],[0.4444444444444444,\"#bd3786\"],[0.5555555555555556,\"#d8576b\"],[0.6666666666666666,\"#ed7953\"],[0.7777777777777778,\"#fb9f3a\"],[0.8888888888888888,\"#fdca26\"],[1.0,\"#f0f921\"]]}],\"heatmap\":[{\"type\":\"heatmap\",\"colorbar\":{\"outlinewidth\":0,\"ticks\":\"\"},\"colorscale\":[[0.0,\"#0d0887\"],[0.1111111111111111,\"#46039f\"],[0.2222222222222222,\"#7201a8\"],[0.3333333333333333,\"#9c179e\"],[0.4444444444444444,\"#bd3786\"],[0.5555555555555556,\"#d8576b\"],[0.6666666666666666,\"#ed7953\"],[0.7777777777777778,\"#fb9f3a\"],[0.8888888888888888,\"#fdca26\"],[1.0,\"#f0f921\"]]}],\"heatmapgl\":[{\"type\":\"heatmapgl\",\"colorbar\":{\"outlinewidth\":0,\"ticks\":\"\"},\"colorscale\":[[0.0,\"#0d0887\"],[0.1111111111111111,\"#46039f\"],[0.2222222222222222,\"#7201a8\"],[0.3333333333333333,\"#9c179e\"],[0.4444444444444444,\"#bd3786\"],[0.5555555555555556,\"#d8576b\"],[0.6666666666666666,\"#ed7953\"],[0.7777777777777778,\"#fb9f3a\"],[0.8888888888888888,\"#fdca26\"],[1.0,\"#f0f921\"]]}],\"contourcarpet\":[{\"type\":\"contourcarpet\",\"colorbar\":{\"outlinewidth\":0,\"ticks\":\"\"}}],\"contour\":[{\"type\":\"contour\",\"colorbar\":{\"outlinewidth\":0,\"ticks\":\"\"},\"colorscale\":[[0.0,\"#0d0887\"],[0.1111111111111111,\"#46039f\"],[0.2222222222222222,\"#7201a8\"],[0.3333333333333333,\"#9c179e\"],[0.4444444444444444,\"#bd3786\"],[0.5555555555555556,\"#d8576b\"],[0.6666666666666666,\"#ed7953\"],[0.7777777777777778,\"#fb9f3a\"],[0.8888888888888888,\"#fdca26\"],[1.0,\"#f0f921\"]]}],\"surface\":[{\"type\":\"surface\",\"colorbar\":{\"outlinewidth\":0,\"ticks\":\"\"},\"colorscale\":[[0.0,\"#0d0887\"],[0.1111111111111111,\"#46039f\"],[0.2222222222222222,\"#7201a8\"],[0.3333333333333333,\"#9c179e\"],[0.4444444444444444,\"#bd3786\"],[0.5555555555555556,\"#d8576b\"],[0.6666666666666666,\"#ed7953\"],[0.7777777777777778,\"#fb9f3a\"],[0.8888888888888888,\"#fdca26\"],[1.0,\"#f0f921\"]]}],\"mesh3d\":[{\"type\":\"mesh3d\",\"colorbar\":{\"outlinewidth\":0,\"ticks\":\"\"}}],\"scatter\":[{\"fillpattern\":{\"fillmode\":\"overlay\",\"size\":10,\"solidity\":0.2},\"type\":\"scatter\"}],\"parcoords\":[{\"type\":\"parcoords\",\"line\":{\"colorbar\":{\"outlinewidth\":0,\"ticks\":\"\"}}}],\"scatterpolargl\":[{\"type\":\"scatterpolargl\",\"marker\":{\"colorbar\":{\"outlinewidth\":0,\"ticks\":\"\"}}}],\"bar\":[{\"error_x\":{\"color\":\"#2a3f5f\"},\"error_y\":{\"color\":\"#2a3f5f\"},\"marker\":{\"line\":{\"color\":\"#E5ECF6\",\"width\":0.5},\"pattern\":{\"fillmode\":\"overlay\",\"size\":10,\"solidity\":0.2}},\"type\":\"bar\"}],\"scattergeo\":[{\"type\":\"scattergeo\",\"marker\":{\"colorbar\":{\"outlinewidth\":0,\"ticks\":\"\"}}}],\"scatterpolar\":[{\"type\":\"scatterpolar\",\"marker\":{\"colorbar\":{\"outlinewidth\":0,\"ticks\":\"\"}}}],\"histogram\":[{\"marker\":{\"pattern\":{\"fillmode\":\"overlay\",\"size\":10,\"solidity\":0.2}},\"type\":\"histogram\"}],\"scattergl\":[{\"type\":\"scattergl\",\"marker\":{\"colorbar\":{\"outlinewidth\":0,\"ticks\":\"\"}}}],\"scatter3d\":[{\"type\":\"scatter3d\",\"line\":{\"colorbar\":{\"outlinewidth\":0,\"ticks\":\"\"}},\"marker\":{\"colorbar\":{\"outlinewidth\":0,\"ticks\":\"\"}}}],\"scattermapbox\":[{\"type\":\"scattermapbox\",\"marker\":{\"colorbar\":{\"outlinewidth\":0,\"ticks\":\"\"}}}],\"scatterternary\":[{\"type\":\"scatterternary\",\"marker\":{\"colorbar\":{\"outlinewidth\":0,\"ticks\":\"\"}}}],\"scattercarpet\":[{\"type\":\"scattercarpet\",\"marker\":{\"colorbar\":{\"outlinewidth\":0,\"ticks\":\"\"}}}],\"carpet\":[{\"aaxis\":{\"endlinecolor\":\"#2a3f5f\",\"gridcolor\":\"white\",\"linecolor\":\"white\",\"minorgridcolor\":\"white\",\"startlinecolor\":\"#2a3f5f\"},\"baxis\":{\"endlinecolor\":\"#2a3f5f\",\"gridcolor\":\"white\",\"linecolor\":\"white\",\"minorgridcolor\":\"white\",\"startlinecolor\":\"#2a3f5f\"},\"type\":\"carpet\"}],\"table\":[{\"cells\":{\"fill\":{\"color\":\"#EBF0F8\"},\"line\":{\"color\":\"white\"}},\"header\":{\"fill\":{\"color\":\"#C8D4E3\"},\"line\":{\"color\":\"white\"}},\"type\":\"table\"}],\"barpolar\":[{\"marker\":{\"line\":{\"color\":\"#E5ECF6\",\"width\":0.5},\"pattern\":{\"fillmode\":\"overlay\",\"size\":10,\"solidity\":0.2}},\"type\":\"barpolar\"}],\"pie\":[{\"automargin\":true,\"type\":\"pie\"}]},\"layout\":{\"autotypenumbers\":\"strict\",\"colorway\":[\"#636efa\",\"#EF553B\",\"#00cc96\",\"#ab63fa\",\"#FFA15A\",\"#19d3f3\",\"#FF6692\",\"#B6E880\",\"#FF97FF\",\"#FECB52\"],\"font\":{\"color\":\"#2a3f5f\"},\"hovermode\":\"closest\",\"hoverlabel\":{\"align\":\"left\"},\"paper_bgcolor\":\"white\",\"plot_bgcolor\":\"#E5ECF6\",\"polar\":{\"bgcolor\":\"#E5ECF6\",\"angularaxis\":{\"gridcolor\":\"white\",\"linecolor\":\"white\",\"ticks\":\"\"},\"radialaxis\":{\"gridcolor\":\"white\",\"linecolor\":\"white\",\"ticks\":\"\"}},\"ternary\":{\"bgcolor\":\"#E5ECF6\",\"aaxis\":{\"gridcolor\":\"white\",\"linecolor\":\"white\",\"ticks\":\"\"},\"baxis\":{\"gridcolor\":\"white\",\"linecolor\":\"white\",\"ticks\":\"\"},\"caxis\":{\"gridcolor\":\"white\",\"linecolor\":\"white\",\"ticks\":\"\"}},\"coloraxis\":{\"colorbar\":{\"outlinewidth\":0,\"ticks\":\"\"}},\"colorscale\":{\"sequential\":[[0.0,\"#0d0887\"],[0.1111111111111111,\"#46039f\"],[0.2222222222222222,\"#7201a8\"],[0.3333333333333333,\"#9c179e\"],[0.4444444444444444,\"#bd3786\"],[0.5555555555555556,\"#d8576b\"],[0.6666666666666666,\"#ed7953\"],[0.7777777777777778,\"#fb9f3a\"],[0.8888888888888888,\"#fdca26\"],[1.0,\"#f0f921\"]],\"sequentialminus\":[[0.0,\"#0d0887\"],[0.1111111111111111,\"#46039f\"],[0.2222222222222222,\"#7201a8\"],[0.3333333333333333,\"#9c179e\"],[0.4444444444444444,\"#bd3786\"],[0.5555555555555556,\"#d8576b\"],[0.6666666666666666,\"#ed7953\"],[0.7777777777777778,\"#fb9f3a\"],[0.8888888888888888,\"#fdca26\"],[1.0,\"#f0f921\"]],\"diverging\":[[0,\"#8e0152\"],[0.1,\"#c51b7d\"],[0.2,\"#de77ae\"],[0.3,\"#f1b6da\"],[0.4,\"#fde0ef\"],[0.5,\"#f7f7f7\"],[0.6,\"#e6f5d0\"],[0.7,\"#b8e186\"],[0.8,\"#7fbc41\"],[0.9,\"#4d9221\"],[1,\"#276419\"]]},\"xaxis\":{\"gridcolor\":\"white\",\"linecolor\":\"white\",\"ticks\":\"\",\"title\":{\"standoff\":15},\"zerolinecolor\":\"white\",\"automargin\":true,\"zerolinewidth\":2},\"yaxis\":{\"gridcolor\":\"white\",\"linecolor\":\"white\",\"ticks\":\"\",\"title\":{\"standoff\":15},\"zerolinecolor\":\"white\",\"automargin\":true,\"zerolinewidth\":2},\"scene\":{\"xaxis\":{\"backgroundcolor\":\"#E5ECF6\",\"gridcolor\":\"white\",\"linecolor\":\"white\",\"showbackground\":true,\"ticks\":\"\",\"zerolinecolor\":\"white\",\"gridwidth\":2},\"yaxis\":{\"backgroundcolor\":\"#E5ECF6\",\"gridcolor\":\"white\",\"linecolor\":\"white\",\"showbackground\":true,\"ticks\":\"\",\"zerolinecolor\":\"white\",\"gridwidth\":2},\"zaxis\":{\"backgroundcolor\":\"#E5ECF6\",\"gridcolor\":\"white\",\"linecolor\":\"white\",\"showbackground\":true,\"ticks\":\"\",\"zerolinecolor\":\"white\",\"gridwidth\":2}},\"shapedefaults\":{\"line\":{\"color\":\"#2a3f5f\"}},\"annotationdefaults\":{\"arrowcolor\":\"#2a3f5f\",\"arrowhead\":0,\"arrowwidth\":1},\"geo\":{\"bgcolor\":\"white\",\"landcolor\":\"#E5ECF6\",\"subunitcolor\":\"white\",\"showland\":true,\"showlakes\":true,\"lakecolor\":\"white\"},\"title\":{\"x\":0.05},\"mapbox\":{\"style\":\"light\"}}},\"title\":{\"text\":\"V-composition circuit between H0.0 OV & H1.0 OV\"},\"xaxis\":{\"title\":{\"text\":\"Sequence position\"}},\"yaxis\":{\"title\":{\"text\":\"Logit attribution\"}},\"height\":400,\"width\":800,\"shapes\":[{\"line\":{\"color\":\"Black\"},\"type\":\"line\",\"x0\":0,\"x1\":22,\"y0\":0,\"y1\":0}]},                        {\"responsive\": true}                    ).then(function(){\n",
              "                            \n",
              "var gd = document.getElementById('3e70c7c8-4a57-49c1-940a-667a843c0357');\n",
              "var x = new MutationObserver(function (mutations, observer) {{\n",
              "        var display = window.getComputedStyle(gd).display;\n",
              "        if (!display || display === 'none') {{\n",
              "            console.log([gd, 'removed!']);\n",
              "            Plotly.purge(gd);\n",
              "            observer.disconnect();\n",
              "        }}\n",
              "}});\n",
              "\n",
              "// Listen for the removal of the full notebook cells\n",
              "var notebookContainer = gd.closest('#notebook-container');\n",
              "if (notebookContainer) {{\n",
              "    x.observe(notebookContainer, {childList: true});\n",
              "}}\n",
              "\n",
              "// Listen for the clearing of the current output cell\n",
              "var outputEl = gd.closest('.output');\n",
              "if (outputEl) {{\n",
              "    x.observe(outputEl, {childList: true});\n",
              "}}\n",
              "\n",
              "                        })                };                            </script>        </div>\n",
              "</body>\n",
              "</html>"
            ]
          },
          "metadata": {}
        }
      ]
    },
    {
      "cell_type": "markdown",
      "source": [
        "### Some adversarial examples\n",
        "\n",
        "Looking at the plot, our theory breaks down at the very beginning of the sequence and at the very end of the sequence (positions 1, 2, 4 and their corresponding 17, 19, 20).\n",
        "\n",
        "But it turns out that the model's functionality breaks down at these positions as well!\n",
        "\n",
        " Here are some adversarial examples that I created to take advantage of this. All four of these examples are non-palindromes, and the non-palindromic violations come at these weak positions (1, 2, 4 and 17, 19, 20). The model classifies them as palindromes!"
      ],
      "metadata": {
        "id": "NcqXV_TcO5Cf"
      }
    },
    {
      "cell_type": "code",
      "source": [
        "custom_toks = t.tensor(\n",
        "    [\n",
        "        [31, 1, 2, 3, 4, 5, 6, 7, 8, 9, 10, 10, 9, 8, 7, 6, 5, 4, 3, 15, 1, 32],\n",
        "        [31, 1, 2, 3, 15, 5, 6, 7, 8, 9, 10, 10, 9, 8, 7, 6, 5, 4, 3, 2, 1, 32],\n",
        "        [31, 1, 2, 3, 3, 3, 6, 7, 8, 9, 10, 10, 9, 8, 7, 6, 3, 3, 3, 2, 3, 32],\n",
        "        [31, 1, 2, 3, 4, 5, 6, 7, 8, 9, 10, 10, 9, 8, 7, 6, 5, 15, 3, 15, 1, 32],\n",
        "    ]\n",
        ")\n",
        "\n",
        "custom_logits, custom_cache = model.run_with_cache(custom_toks)\n",
        "\n",
        "custom_logits = custom_logits[:, -1]\n",
        "probs = custom_logits.softmax(-1)\n",
        "probs_palindrome = probs[:, 1]\n",
        "\n",
        "for i in range(custom_toks.shape[0]):\n",
        "    display_seq(custom_toks[i], probs_palindrome[i])"
      ],
      "metadata": {
        "colab": {
          "base_uri": "https://localhost:8080/",
          "height": 81
        },
        "id": "mGlARRipHf7Y",
        "outputId": "ae66f87b-8cb0-490d-81a8-569ad34db2e1"
      },
      "execution_count": 33,
      "outputs": [
        {
          "output_type": "display_data",
          "data": {
            "text/plain": [
              "START |\u001b[1;37m01\u001b[0m|\u001b[1;38;5;208m02\u001b[0m|\u001b[1;37m03\u001b[0m|\u001b[1;37m04\u001b[0m|\u001b[1;37m05\u001b[0m|\u001b[1;37m06\u001b[0m|\u001b[1;37m07\u001b[0m|\u001b[1;37m08\u001b[0m|\u001b[1;37m09\u001b[0m|\u001b[1;37m10\u001b[0m|\u001b[1;37m10\u001b[0m|\u001b[1;37m09\u001b[0m|\u001b[1;37m08\u001b[0m|\u001b[1;37m07\u001b[0m|\u001b[1;37m06\u001b[0m|\u001b[1;37m05\u001b[0m|\u001b[1;37m04\u001b[0m|\u001b[1;37m03\u001b[0m|\u001b[1;38;5;208m15\u001b[0m|\u001b[1;37m01\u001b[0m| END  ->  \u001b[1;36m0.997\u001b[0m\n"
            ],
            "text/html": [
              "<pre style=\"white-space:pre;overflow-x:auto;line-height:normal;font-family:Menlo,'DejaVu Sans Mono',consolas,'Courier New',monospace\">START |<span style=\"color: #c0c0c0; text-decoration-color: #c0c0c0; font-weight: bold\">01</span>|<span style=\"color: #ff8700; text-decoration-color: #ff8700; font-weight: bold\">02</span>|<span style=\"color: #c0c0c0; text-decoration-color: #c0c0c0; font-weight: bold\">03</span>|<span style=\"color: #c0c0c0; text-decoration-color: #c0c0c0; font-weight: bold\">04</span>|<span style=\"color: #c0c0c0; text-decoration-color: #c0c0c0; font-weight: bold\">05</span>|<span style=\"color: #c0c0c0; text-decoration-color: #c0c0c0; font-weight: bold\">06</span>|<span style=\"color: #c0c0c0; text-decoration-color: #c0c0c0; font-weight: bold\">07</span>|<span style=\"color: #c0c0c0; text-decoration-color: #c0c0c0; font-weight: bold\">08</span>|<span style=\"color: #c0c0c0; text-decoration-color: #c0c0c0; font-weight: bold\">09</span>|<span style=\"color: #c0c0c0; text-decoration-color: #c0c0c0; font-weight: bold\">10</span>|<span style=\"color: #c0c0c0; text-decoration-color: #c0c0c0; font-weight: bold\">10</span>|<span style=\"color: #c0c0c0; text-decoration-color: #c0c0c0; font-weight: bold\">09</span>|<span style=\"color: #c0c0c0; text-decoration-color: #c0c0c0; font-weight: bold\">08</span>|<span style=\"color: #c0c0c0; text-decoration-color: #c0c0c0; font-weight: bold\">07</span>|<span style=\"color: #c0c0c0; text-decoration-color: #c0c0c0; font-weight: bold\">06</span>|<span style=\"color: #c0c0c0; text-decoration-color: #c0c0c0; font-weight: bold\">05</span>|<span style=\"color: #c0c0c0; text-decoration-color: #c0c0c0; font-weight: bold\">04</span>|<span style=\"color: #c0c0c0; text-decoration-color: #c0c0c0; font-weight: bold\">03</span>|<span style=\"color: #ff8700; text-decoration-color: #ff8700; font-weight: bold\">15</span>|<span style=\"color: #c0c0c0; text-decoration-color: #c0c0c0; font-weight: bold\">01</span>| END  -&gt;  <span style=\"color: #008080; text-decoration-color: #008080; font-weight: bold\">0.997</span>\n",
              "</pre>\n"
            ]
          },
          "metadata": {}
        },
        {
          "output_type": "display_data",
          "data": {
            "text/plain": [
              "START |\u001b[1;37m01\u001b[0m|\u001b[1;37m02\u001b[0m|\u001b[1;37m03\u001b[0m|\u001b[1;38;5;208m15\u001b[0m|\u001b[1;37m05\u001b[0m|\u001b[1;37m06\u001b[0m|\u001b[1;37m07\u001b[0m|\u001b[1;37m08\u001b[0m|\u001b[1;37m09\u001b[0m|\u001b[1;37m10\u001b[0m|\u001b[1;37m10\u001b[0m|\u001b[1;37m09\u001b[0m|\u001b[1;37m08\u001b[0m|\u001b[1;37m07\u001b[0m|\u001b[1;37m06\u001b[0m|\u001b[1;37m05\u001b[0m|\u001b[1;38;5;208m04\u001b[0m|\u001b[1;37m03\u001b[0m|\u001b[1;37m02\u001b[0m|\u001b[1;37m01\u001b[0m| END  ->  \u001b[1;36m0.998\u001b[0m\n"
            ],
            "text/html": [
              "<pre style=\"white-space:pre;overflow-x:auto;line-height:normal;font-family:Menlo,'DejaVu Sans Mono',consolas,'Courier New',monospace\">START |<span style=\"color: #c0c0c0; text-decoration-color: #c0c0c0; font-weight: bold\">01</span>|<span style=\"color: #c0c0c0; text-decoration-color: #c0c0c0; font-weight: bold\">02</span>|<span style=\"color: #c0c0c0; text-decoration-color: #c0c0c0; font-weight: bold\">03</span>|<span style=\"color: #ff8700; text-decoration-color: #ff8700; font-weight: bold\">15</span>|<span style=\"color: #c0c0c0; text-decoration-color: #c0c0c0; font-weight: bold\">05</span>|<span style=\"color: #c0c0c0; text-decoration-color: #c0c0c0; font-weight: bold\">06</span>|<span style=\"color: #c0c0c0; text-decoration-color: #c0c0c0; font-weight: bold\">07</span>|<span style=\"color: #c0c0c0; text-decoration-color: #c0c0c0; font-weight: bold\">08</span>|<span style=\"color: #c0c0c0; text-decoration-color: #c0c0c0; font-weight: bold\">09</span>|<span style=\"color: #c0c0c0; text-decoration-color: #c0c0c0; font-weight: bold\">10</span>|<span style=\"color: #c0c0c0; text-decoration-color: #c0c0c0; font-weight: bold\">10</span>|<span style=\"color: #c0c0c0; text-decoration-color: #c0c0c0; font-weight: bold\">09</span>|<span style=\"color: #c0c0c0; text-decoration-color: #c0c0c0; font-weight: bold\">08</span>|<span style=\"color: #c0c0c0; text-decoration-color: #c0c0c0; font-weight: bold\">07</span>|<span style=\"color: #c0c0c0; text-decoration-color: #c0c0c0; font-weight: bold\">06</span>|<span style=\"color: #c0c0c0; text-decoration-color: #c0c0c0; font-weight: bold\">05</span>|<span style=\"color: #ff8700; text-decoration-color: #ff8700; font-weight: bold\">04</span>|<span style=\"color: #c0c0c0; text-decoration-color: #c0c0c0; font-weight: bold\">03</span>|<span style=\"color: #c0c0c0; text-decoration-color: #c0c0c0; font-weight: bold\">02</span>|<span style=\"color: #c0c0c0; text-decoration-color: #c0c0c0; font-weight: bold\">01</span>| END  -&gt;  <span style=\"color: #008080; text-decoration-color: #008080; font-weight: bold\">0.998</span>\n",
              "</pre>\n"
            ]
          },
          "metadata": {}
        },
        {
          "output_type": "display_data",
          "data": {
            "text/plain": [
              "START |\u001b[1;38;5;208m01\u001b[0m|\u001b[1;37m02\u001b[0m|\u001b[1;37m03\u001b[0m|\u001b[1;37m03\u001b[0m|\u001b[1;37m03\u001b[0m|\u001b[1;37m06\u001b[0m|\u001b[1;37m07\u001b[0m|\u001b[1;37m08\u001b[0m|\u001b[1;37m09\u001b[0m|\u001b[1;37m10\u001b[0m|\u001b[1;37m10\u001b[0m|\u001b[1;37m09\u001b[0m|\u001b[1;37m08\u001b[0m|\u001b[1;37m07\u001b[0m|\u001b[1;37m06\u001b[0m|\u001b[1;37m03\u001b[0m|\u001b[1;37m03\u001b[0m|\u001b[1;37m03\u001b[0m|\u001b[1;37m02\u001b[0m|\u001b[1;38;5;208m03\u001b[0m| END  ->  \u001b[1;36m0.981\u001b[0m\n"
            ],
            "text/html": [
              "<pre style=\"white-space:pre;overflow-x:auto;line-height:normal;font-family:Menlo,'DejaVu Sans Mono',consolas,'Courier New',monospace\">START |<span style=\"color: #ff8700; text-decoration-color: #ff8700; font-weight: bold\">01</span>|<span style=\"color: #c0c0c0; text-decoration-color: #c0c0c0; font-weight: bold\">02</span>|<span style=\"color: #c0c0c0; text-decoration-color: #c0c0c0; font-weight: bold\">03</span>|<span style=\"color: #c0c0c0; text-decoration-color: #c0c0c0; font-weight: bold\">03</span>|<span style=\"color: #c0c0c0; text-decoration-color: #c0c0c0; font-weight: bold\">03</span>|<span style=\"color: #c0c0c0; text-decoration-color: #c0c0c0; font-weight: bold\">06</span>|<span style=\"color: #c0c0c0; text-decoration-color: #c0c0c0; font-weight: bold\">07</span>|<span style=\"color: #c0c0c0; text-decoration-color: #c0c0c0; font-weight: bold\">08</span>|<span style=\"color: #c0c0c0; text-decoration-color: #c0c0c0; font-weight: bold\">09</span>|<span style=\"color: #c0c0c0; text-decoration-color: #c0c0c0; font-weight: bold\">10</span>|<span style=\"color: #c0c0c0; text-decoration-color: #c0c0c0; font-weight: bold\">10</span>|<span style=\"color: #c0c0c0; text-decoration-color: #c0c0c0; font-weight: bold\">09</span>|<span style=\"color: #c0c0c0; text-decoration-color: #c0c0c0; font-weight: bold\">08</span>|<span style=\"color: #c0c0c0; text-decoration-color: #c0c0c0; font-weight: bold\">07</span>|<span style=\"color: #c0c0c0; text-decoration-color: #c0c0c0; font-weight: bold\">06</span>|<span style=\"color: #c0c0c0; text-decoration-color: #c0c0c0; font-weight: bold\">03</span>|<span style=\"color: #c0c0c0; text-decoration-color: #c0c0c0; font-weight: bold\">03</span>|<span style=\"color: #c0c0c0; text-decoration-color: #c0c0c0; font-weight: bold\">03</span>|<span style=\"color: #c0c0c0; text-decoration-color: #c0c0c0; font-weight: bold\">02</span>|<span style=\"color: #ff8700; text-decoration-color: #ff8700; font-weight: bold\">03</span>| END  -&gt;  <span style=\"color: #008080; text-decoration-color: #008080; font-weight: bold\">0.981</span>\n",
              "</pre>\n"
            ]
          },
          "metadata": {}
        },
        {
          "output_type": "display_data",
          "data": {
            "text/plain": [
              "START |\u001b[1;37m01\u001b[0m|\u001b[1;38;5;208m02\u001b[0m|\u001b[1;37m03\u001b[0m|\u001b[1;38;5;208m04\u001b[0m|\u001b[1;37m05\u001b[0m|\u001b[1;37m06\u001b[0m|\u001b[1;37m07\u001b[0m|\u001b[1;37m08\u001b[0m|\u001b[1;37m09\u001b[0m|\u001b[1;37m10\u001b[0m|\u001b[1;37m10\u001b[0m|\u001b[1;37m09\u001b[0m|\u001b[1;37m08\u001b[0m|\u001b[1;37m07\u001b[0m|\u001b[1;37m06\u001b[0m|\u001b[1;37m05\u001b[0m|\u001b[1;38;5;208m15\u001b[0m|\u001b[1;37m03\u001b[0m|\u001b[1;38;5;208m15\u001b[0m|\u001b[1;37m01\u001b[0m| END  ->  \u001b[1;36m0.997\u001b[0m\n"
            ],
            "text/html": [
              "<pre style=\"white-space:pre;overflow-x:auto;line-height:normal;font-family:Menlo,'DejaVu Sans Mono',consolas,'Courier New',monospace\">START |<span style=\"color: #c0c0c0; text-decoration-color: #c0c0c0; font-weight: bold\">01</span>|<span style=\"color: #ff8700; text-decoration-color: #ff8700; font-weight: bold\">02</span>|<span style=\"color: #c0c0c0; text-decoration-color: #c0c0c0; font-weight: bold\">03</span>|<span style=\"color: #ff8700; text-decoration-color: #ff8700; font-weight: bold\">04</span>|<span style=\"color: #c0c0c0; text-decoration-color: #c0c0c0; font-weight: bold\">05</span>|<span style=\"color: #c0c0c0; text-decoration-color: #c0c0c0; font-weight: bold\">06</span>|<span style=\"color: #c0c0c0; text-decoration-color: #c0c0c0; font-weight: bold\">07</span>|<span style=\"color: #c0c0c0; text-decoration-color: #c0c0c0; font-weight: bold\">08</span>|<span style=\"color: #c0c0c0; text-decoration-color: #c0c0c0; font-weight: bold\">09</span>|<span style=\"color: #c0c0c0; text-decoration-color: #c0c0c0; font-weight: bold\">10</span>|<span style=\"color: #c0c0c0; text-decoration-color: #c0c0c0; font-weight: bold\">10</span>|<span style=\"color: #c0c0c0; text-decoration-color: #c0c0c0; font-weight: bold\">09</span>|<span style=\"color: #c0c0c0; text-decoration-color: #c0c0c0; font-weight: bold\">08</span>|<span style=\"color: #c0c0c0; text-decoration-color: #c0c0c0; font-weight: bold\">07</span>|<span style=\"color: #c0c0c0; text-decoration-color: #c0c0c0; font-weight: bold\">06</span>|<span style=\"color: #c0c0c0; text-decoration-color: #c0c0c0; font-weight: bold\">05</span>|<span style=\"color: #ff8700; text-decoration-color: #ff8700; font-weight: bold\">15</span>|<span style=\"color: #c0c0c0; text-decoration-color: #c0c0c0; font-weight: bold\">03</span>|<span style=\"color: #ff8700; text-decoration-color: #ff8700; font-weight: bold\">15</span>|<span style=\"color: #c0c0c0; text-decoration-color: #c0c0c0; font-weight: bold\">01</span>| END  -&gt;  <span style=\"color: #008080; text-decoration-color: #008080; font-weight: bold\">0.997</span>\n",
              "</pre>\n"
            ]
          },
          "metadata": {}
        }
      ]
    },
    {
      "cell_type": "markdown",
      "source": [
        "## Further work"
      ],
      "metadata": {
        "id": "Csx3rPrGad-Q"
      }
    },
    {
      "cell_type": "markdown",
      "source": [
        "- What role does H0.1 play?\n",
        "  - Head ablations (see [Other experiments -> Head ablation](#scrollTo=H1q6NbMy0XIs)) show that H0.1 plays some role in the mechanism:\n",
        "    - When zero-ablated, loss increases.\n",
        "    - When mean-ablated, there's no change in loss."
      ],
      "metadata": {
        "id": "rVHa8N6acS2q"
      }
    },
    {
      "cell_type": "markdown",
      "source": [
        "## Other experiments"
      ],
      "metadata": {
        "id": "qZyTr0Nsaleq"
      }
    },
    {
      "cell_type": "markdown",
      "source": [
        "### Head ablations"
      ],
      "metadata": {
        "id": "H1q6NbMy0XIs"
      }
    },
    {
      "cell_type": "markdown",
      "source": [
        "We can perform abltion analysis to identify which heads are most important."
      ],
      "metadata": {
        "id": "jYXanY2F2dqw"
      }
    },
    {
      "cell_type": "code",
      "source": [
        "def get_loss(logits, is_palindrome):\n",
        "    last_logits = logits[:, -1, :]\n",
        "    loss = t.nn.functional.cross_entropy(last_logits, is_palindrome.to(device))\n",
        "    return loss.item()"
      ],
      "metadata": {
        "id": "cN5Br-UO2hJp"
      },
      "execution_count": 34,
      "outputs": []
    },
    {
      "cell_type": "code",
      "source": [
        "def head_ablation_hook(\n",
        "    attn_result: Float[Tensor, \"batch seq n_heads d_model\"],\n",
        "    hook: HookPoint,\n",
        "    head_index_to_ablate: int,\n",
        "    ablation_type: str, # either 'zero', 'random', 'mean'\n",
        ") -> Float[Tensor, \"batch seq n_heads d_model\"]:\n",
        "    if ablation_type == 'zero':\n",
        "        attn_result[:,:,head_index_to_ablate,:] = 0\n",
        "    elif ablation_type == 'random':\n",
        "        attn_result[:,:,head_index_to_ablate] = t.randn_like(attn_result[:,:,head_index_to_ablate])\n",
        "    elif ablation_type == 'mean':\n",
        "        attn_result[:,:,head_index_to_ablate] = attn_result[:,:,head_index_to_ablate].mean(0, keepdim=True)\n",
        "    return attn_result"
      ],
      "metadata": {
        "id": "Kz0-zeE9hiD8"
      },
      "execution_count": 35,
      "outputs": []
    },
    {
      "cell_type": "code",
      "source": [
        "dataset = PalindromeDataset(size=500, max_value=30, half_length=10)\n",
        "toks, is_palindrome = dataset[:500]\n",
        "\n",
        "ablation_scores = t.zeros((model.cfg.n_layers, model.cfg.n_heads))\n",
        "\n",
        "model.reset_hooks()\n",
        "logits_no_ablation = model(toks, return_type=\"logits\")\n",
        "loss_no_ablation = get_loss(logits_no_ablation, is_palindrome)\n",
        "print(f\"loss_no_ablation: {loss_no_ablation}\")\n",
        "for ablation_type in ['zero', 'random', 'mean']:\n",
        "    ablation_scores = t.zeros((model.cfg.n_layers, model.cfg.n_heads))\n",
        "    for layer in range(model.cfg.n_layers):\n",
        "        for head in range(model.cfg.n_heads):\n",
        "            temp_hook_fn = functools.partial(\n",
        "                head_ablation_hook,\n",
        "                head_index_to_ablate=head,\n",
        "                ablation_type=ablation_type)\n",
        "            ablated_logits = model.run_with_hooks(\n",
        "                toks,\n",
        "                return_type=\"logits\",\n",
        "                fwd_hooks=[(utils.get_act_name(\"result\", layer), temp_hook_fn)]\n",
        "            )\n",
        "            ablated_loss = get_loss(ablated_logits, is_palindrome) - loss_no_ablation\n",
        "            ablation_scores[layer, head] = ablated_loss\n",
        "            # print(f\"loss diff ablating {layer}.{head}: {ablated_loss}\")\n",
        "\n",
        "    imshow(\n",
        "        ablation_scores,\n",
        "        labels={\"x\": \"Head\", \"y\": \"Layer\", \"color\": \"Logit diff\"},\n",
        "        title=f\"Loss Difference After Ablating Heads, ablation_type: {ablation_type}\",\n",
        "        text_auto=\".2f\",\n",
        "        width=900, height=400\n",
        "    )"
      ],
      "metadata": {
        "colab": {
          "base_uri": "https://localhost:8080/",
          "height": 1000
        },
        "id": "-mQn82XK298-",
        "outputId": "624b4877-e75a-4069-fb32-774d069f4b15"
      },
      "execution_count": 36,
      "outputs": [
        {
          "output_type": "stream",
          "name": "stdout",
          "text": [
            "loss_no_ablation: 0.013713347725570202\n"
          ]
        },
        {
          "output_type": "display_data",
          "data": {
            "text/html": [
              "<html>\n",
              "<head><meta charset=\"utf-8\" /></head>\n",
              "<body>\n",
              "    <div>            <script src=\"https://cdnjs.cloudflare.com/ajax/libs/mathjax/2.7.5/MathJax.js?config=TeX-AMS-MML_SVG\"></script><script type=\"text/javascript\">if (window.MathJax && window.MathJax.Hub && window.MathJax.Hub.Config) {window.MathJax.Hub.Config({SVG: {font: \"STIX-Web\"}});}</script>                <script type=\"text/javascript\">window.PlotlyConfig = {MathJaxConfig: 'local'};</script>\n",
              "        <script charset=\"utf-8\" src=\"https://cdn.plot.ly/plotly-2.24.1.min.js\"></script>                <div id=\"fc635f83-362a-4118-ba60-2af08aeaa294\" class=\"plotly-graph-div\" style=\"height:400px; width:900px;\"></div>            <script type=\"text/javascript\">                                    window.PLOTLYENV=window.PLOTLYENV || {};                                    if (document.getElementById(\"fc635f83-362a-4118-ba60-2af08aeaa294\")) {                    Plotly.newPlot(                        \"fc635f83-362a-4118-ba60-2af08aeaa294\",                        [{\"coloraxis\":\"coloraxis\",\"name\":\"0\",\"texttemplate\":\"%{z:.2f}\",\"z\":[[1.6087027788162231,1.353227972984314],[1.6668589115142822,0.008961404673755169]],\"type\":\"heatmap\",\"xaxis\":\"x\",\"yaxis\":\"y\",\"hovertemplate\":\"Head: %{x}\\u003cbr\\u003eLayer: %{y}\\u003cbr\\u003eLogit diff: %{z}\\u003cextra\\u003e\\u003c\\u002fextra\\u003e\"}],                        {\"template\":{\"data\":{\"histogram2dcontour\":[{\"type\":\"histogram2dcontour\",\"colorbar\":{\"outlinewidth\":0,\"ticks\":\"\"},\"colorscale\":[[0.0,\"#0d0887\"],[0.1111111111111111,\"#46039f\"],[0.2222222222222222,\"#7201a8\"],[0.3333333333333333,\"#9c179e\"],[0.4444444444444444,\"#bd3786\"],[0.5555555555555556,\"#d8576b\"],[0.6666666666666666,\"#ed7953\"],[0.7777777777777778,\"#fb9f3a\"],[0.8888888888888888,\"#fdca26\"],[1.0,\"#f0f921\"]]}],\"choropleth\":[{\"type\":\"choropleth\",\"colorbar\":{\"outlinewidth\":0,\"ticks\":\"\"}}],\"histogram2d\":[{\"type\":\"histogram2d\",\"colorbar\":{\"outlinewidth\":0,\"ticks\":\"\"},\"colorscale\":[[0.0,\"#0d0887\"],[0.1111111111111111,\"#46039f\"],[0.2222222222222222,\"#7201a8\"],[0.3333333333333333,\"#9c179e\"],[0.4444444444444444,\"#bd3786\"],[0.5555555555555556,\"#d8576b\"],[0.6666666666666666,\"#ed7953\"],[0.7777777777777778,\"#fb9f3a\"],[0.8888888888888888,\"#fdca26\"],[1.0,\"#f0f921\"]]}],\"heatmap\":[{\"type\":\"heatmap\",\"colorbar\":{\"outlinewidth\":0,\"ticks\":\"\"},\"colorscale\":[[0.0,\"#0d0887\"],[0.1111111111111111,\"#46039f\"],[0.2222222222222222,\"#7201a8\"],[0.3333333333333333,\"#9c179e\"],[0.4444444444444444,\"#bd3786\"],[0.5555555555555556,\"#d8576b\"],[0.6666666666666666,\"#ed7953\"],[0.7777777777777778,\"#fb9f3a\"],[0.8888888888888888,\"#fdca26\"],[1.0,\"#f0f921\"]]}],\"heatmapgl\":[{\"type\":\"heatmapgl\",\"colorbar\":{\"outlinewidth\":0,\"ticks\":\"\"},\"colorscale\":[[0.0,\"#0d0887\"],[0.1111111111111111,\"#46039f\"],[0.2222222222222222,\"#7201a8\"],[0.3333333333333333,\"#9c179e\"],[0.4444444444444444,\"#bd3786\"],[0.5555555555555556,\"#d8576b\"],[0.6666666666666666,\"#ed7953\"],[0.7777777777777778,\"#fb9f3a\"],[0.8888888888888888,\"#fdca26\"],[1.0,\"#f0f921\"]]}],\"contourcarpet\":[{\"type\":\"contourcarpet\",\"colorbar\":{\"outlinewidth\":0,\"ticks\":\"\"}}],\"contour\":[{\"type\":\"contour\",\"colorbar\":{\"outlinewidth\":0,\"ticks\":\"\"},\"colorscale\":[[0.0,\"#0d0887\"],[0.1111111111111111,\"#46039f\"],[0.2222222222222222,\"#7201a8\"],[0.3333333333333333,\"#9c179e\"],[0.4444444444444444,\"#bd3786\"],[0.5555555555555556,\"#d8576b\"],[0.6666666666666666,\"#ed7953\"],[0.7777777777777778,\"#fb9f3a\"],[0.8888888888888888,\"#fdca26\"],[1.0,\"#f0f921\"]]}],\"surface\":[{\"type\":\"surface\",\"colorbar\":{\"outlinewidth\":0,\"ticks\":\"\"},\"colorscale\":[[0.0,\"#0d0887\"],[0.1111111111111111,\"#46039f\"],[0.2222222222222222,\"#7201a8\"],[0.3333333333333333,\"#9c179e\"],[0.4444444444444444,\"#bd3786\"],[0.5555555555555556,\"#d8576b\"],[0.6666666666666666,\"#ed7953\"],[0.7777777777777778,\"#fb9f3a\"],[0.8888888888888888,\"#fdca26\"],[1.0,\"#f0f921\"]]}],\"mesh3d\":[{\"type\":\"mesh3d\",\"colorbar\":{\"outlinewidth\":0,\"ticks\":\"\"}}],\"scatter\":[{\"fillpattern\":{\"fillmode\":\"overlay\",\"size\":10,\"solidity\":0.2},\"type\":\"scatter\"}],\"parcoords\":[{\"type\":\"parcoords\",\"line\":{\"colorbar\":{\"outlinewidth\":0,\"ticks\":\"\"}}}],\"scatterpolargl\":[{\"type\":\"scatterpolargl\",\"marker\":{\"colorbar\":{\"outlinewidth\":0,\"ticks\":\"\"}}}],\"bar\":[{\"error_x\":{\"color\":\"#2a3f5f\"},\"error_y\":{\"color\":\"#2a3f5f\"},\"marker\":{\"line\":{\"color\":\"#E5ECF6\",\"width\":0.5},\"pattern\":{\"fillmode\":\"overlay\",\"size\":10,\"solidity\":0.2}},\"type\":\"bar\"}],\"scattergeo\":[{\"type\":\"scattergeo\",\"marker\":{\"colorbar\":{\"outlinewidth\":0,\"ticks\":\"\"}}}],\"scatterpolar\":[{\"type\":\"scatterpolar\",\"marker\":{\"colorbar\":{\"outlinewidth\":0,\"ticks\":\"\"}}}],\"histogram\":[{\"marker\":{\"pattern\":{\"fillmode\":\"overlay\",\"size\":10,\"solidity\":0.2}},\"type\":\"histogram\"}],\"scattergl\":[{\"type\":\"scattergl\",\"marker\":{\"colorbar\":{\"outlinewidth\":0,\"ticks\":\"\"}}}],\"scatter3d\":[{\"type\":\"scatter3d\",\"line\":{\"colorbar\":{\"outlinewidth\":0,\"ticks\":\"\"}},\"marker\":{\"colorbar\":{\"outlinewidth\":0,\"ticks\":\"\"}}}],\"scattermapbox\":[{\"type\":\"scattermapbox\",\"marker\":{\"colorbar\":{\"outlinewidth\":0,\"ticks\":\"\"}}}],\"scatterternary\":[{\"type\":\"scatterternary\",\"marker\":{\"colorbar\":{\"outlinewidth\":0,\"ticks\":\"\"}}}],\"scattercarpet\":[{\"type\":\"scattercarpet\",\"marker\":{\"colorbar\":{\"outlinewidth\":0,\"ticks\":\"\"}}}],\"carpet\":[{\"aaxis\":{\"endlinecolor\":\"#2a3f5f\",\"gridcolor\":\"white\",\"linecolor\":\"white\",\"minorgridcolor\":\"white\",\"startlinecolor\":\"#2a3f5f\"},\"baxis\":{\"endlinecolor\":\"#2a3f5f\",\"gridcolor\":\"white\",\"linecolor\":\"white\",\"minorgridcolor\":\"white\",\"startlinecolor\":\"#2a3f5f\"},\"type\":\"carpet\"}],\"table\":[{\"cells\":{\"fill\":{\"color\":\"#EBF0F8\"},\"line\":{\"color\":\"white\"}},\"header\":{\"fill\":{\"color\":\"#C8D4E3\"},\"line\":{\"color\":\"white\"}},\"type\":\"table\"}],\"barpolar\":[{\"marker\":{\"line\":{\"color\":\"#E5ECF6\",\"width\":0.5},\"pattern\":{\"fillmode\":\"overlay\",\"size\":10,\"solidity\":0.2}},\"type\":\"barpolar\"}],\"pie\":[{\"automargin\":true,\"type\":\"pie\"}]},\"layout\":{\"autotypenumbers\":\"strict\",\"colorway\":[\"#636efa\",\"#EF553B\",\"#00cc96\",\"#ab63fa\",\"#FFA15A\",\"#19d3f3\",\"#FF6692\",\"#B6E880\",\"#FF97FF\",\"#FECB52\"],\"font\":{\"color\":\"#2a3f5f\"},\"hovermode\":\"closest\",\"hoverlabel\":{\"align\":\"left\"},\"paper_bgcolor\":\"white\",\"plot_bgcolor\":\"#E5ECF6\",\"polar\":{\"bgcolor\":\"#E5ECF6\",\"angularaxis\":{\"gridcolor\":\"white\",\"linecolor\":\"white\",\"ticks\":\"\"},\"radialaxis\":{\"gridcolor\":\"white\",\"linecolor\":\"white\",\"ticks\":\"\"}},\"ternary\":{\"bgcolor\":\"#E5ECF6\",\"aaxis\":{\"gridcolor\":\"white\",\"linecolor\":\"white\",\"ticks\":\"\"},\"baxis\":{\"gridcolor\":\"white\",\"linecolor\":\"white\",\"ticks\":\"\"},\"caxis\":{\"gridcolor\":\"white\",\"linecolor\":\"white\",\"ticks\":\"\"}},\"coloraxis\":{\"colorbar\":{\"outlinewidth\":0,\"ticks\":\"\"}},\"colorscale\":{\"sequential\":[[0.0,\"#0d0887\"],[0.1111111111111111,\"#46039f\"],[0.2222222222222222,\"#7201a8\"],[0.3333333333333333,\"#9c179e\"],[0.4444444444444444,\"#bd3786\"],[0.5555555555555556,\"#d8576b\"],[0.6666666666666666,\"#ed7953\"],[0.7777777777777778,\"#fb9f3a\"],[0.8888888888888888,\"#fdca26\"],[1.0,\"#f0f921\"]],\"sequentialminus\":[[0.0,\"#0d0887\"],[0.1111111111111111,\"#46039f\"],[0.2222222222222222,\"#7201a8\"],[0.3333333333333333,\"#9c179e\"],[0.4444444444444444,\"#bd3786\"],[0.5555555555555556,\"#d8576b\"],[0.6666666666666666,\"#ed7953\"],[0.7777777777777778,\"#fb9f3a\"],[0.8888888888888888,\"#fdca26\"],[1.0,\"#f0f921\"]],\"diverging\":[[0,\"#8e0152\"],[0.1,\"#c51b7d\"],[0.2,\"#de77ae\"],[0.3,\"#f1b6da\"],[0.4,\"#fde0ef\"],[0.5,\"#f7f7f7\"],[0.6,\"#e6f5d0\"],[0.7,\"#b8e186\"],[0.8,\"#7fbc41\"],[0.9,\"#4d9221\"],[1,\"#276419\"]]},\"xaxis\":{\"gridcolor\":\"white\",\"linecolor\":\"white\",\"ticks\":\"\",\"title\":{\"standoff\":15},\"zerolinecolor\":\"white\",\"automargin\":true,\"zerolinewidth\":2},\"yaxis\":{\"gridcolor\":\"white\",\"linecolor\":\"white\",\"ticks\":\"\",\"title\":{\"standoff\":15},\"zerolinecolor\":\"white\",\"automargin\":true,\"zerolinewidth\":2},\"scene\":{\"xaxis\":{\"backgroundcolor\":\"#E5ECF6\",\"gridcolor\":\"white\",\"linecolor\":\"white\",\"showbackground\":true,\"ticks\":\"\",\"zerolinecolor\":\"white\",\"gridwidth\":2},\"yaxis\":{\"backgroundcolor\":\"#E5ECF6\",\"gridcolor\":\"white\",\"linecolor\":\"white\",\"showbackground\":true,\"ticks\":\"\",\"zerolinecolor\":\"white\",\"gridwidth\":2},\"zaxis\":{\"backgroundcolor\":\"#E5ECF6\",\"gridcolor\":\"white\",\"linecolor\":\"white\",\"showbackground\":true,\"ticks\":\"\",\"zerolinecolor\":\"white\",\"gridwidth\":2}},\"shapedefaults\":{\"line\":{\"color\":\"#2a3f5f\"}},\"annotationdefaults\":{\"arrowcolor\":\"#2a3f5f\",\"arrowhead\":0,\"arrowwidth\":1},\"geo\":{\"bgcolor\":\"white\",\"landcolor\":\"#E5ECF6\",\"subunitcolor\":\"white\",\"showland\":true,\"showlakes\":true,\"lakecolor\":\"white\"},\"title\":{\"x\":0.05},\"mapbox\":{\"style\":\"light\"}}},\"xaxis\":{\"anchor\":\"y\",\"domain\":[0.0,1.0],\"scaleanchor\":\"y\",\"constrain\":\"domain\",\"title\":{\"text\":\"Head\"}},\"yaxis\":{\"anchor\":\"x\",\"domain\":[0.0,1.0],\"autorange\":\"reversed\",\"constrain\":\"domain\",\"title\":{\"text\":\"Layer\"}},\"coloraxis\":{\"colorbar\":{\"title\":{\"text\":\"Logit diff\"}},\"colorscale\":[[0.0,\"rgb(103,0,31)\"],[0.1,\"rgb(178,24,43)\"],[0.2,\"rgb(214,96,77)\"],[0.3,\"rgb(244,165,130)\"],[0.4,\"rgb(253,219,199)\"],[0.5,\"rgb(247,247,247)\"],[0.6,\"rgb(209,229,240)\"],[0.7,\"rgb(146,197,222)\"],[0.8,\"rgb(67,147,195)\"],[0.9,\"rgb(33,102,172)\"],[1.0,\"rgb(5,48,97)\"]],\"cmid\":0.0},\"title\":{\"text\":\"Loss Difference After Ablating Heads, ablation_type: zero\"},\"height\":400,\"width\":900},                        {\"staticPlot\": false, \"responsive\": true}                    ).then(function(){\n",
              "                            \n",
              "var gd = document.getElementById('fc635f83-362a-4118-ba60-2af08aeaa294');\n",
              "var x = new MutationObserver(function (mutations, observer) {{\n",
              "        var display = window.getComputedStyle(gd).display;\n",
              "        if (!display || display === 'none') {{\n",
              "            console.log([gd, 'removed!']);\n",
              "            Plotly.purge(gd);\n",
              "            observer.disconnect();\n",
              "        }}\n",
              "}});\n",
              "\n",
              "// Listen for the removal of the full notebook cells\n",
              "var notebookContainer = gd.closest('#notebook-container');\n",
              "if (notebookContainer) {{\n",
              "    x.observe(notebookContainer, {childList: true});\n",
              "}}\n",
              "\n",
              "// Listen for the clearing of the current output cell\n",
              "var outputEl = gd.closest('.output');\n",
              "if (outputEl) {{\n",
              "    x.observe(outputEl, {childList: true});\n",
              "}}\n",
              "\n",
              "                        })                };                            </script>        </div>\n",
              "</body>\n",
              "</html>"
            ]
          },
          "metadata": {}
        },
        {
          "output_type": "display_data",
          "data": {
            "text/html": [
              "<html>\n",
              "<head><meta charset=\"utf-8\" /></head>\n",
              "<body>\n",
              "    <div>            <script src=\"https://cdnjs.cloudflare.com/ajax/libs/mathjax/2.7.5/MathJax.js?config=TeX-AMS-MML_SVG\"></script><script type=\"text/javascript\">if (window.MathJax && window.MathJax.Hub && window.MathJax.Hub.Config) {window.MathJax.Hub.Config({SVG: {font: \"STIX-Web\"}});}</script>                <script type=\"text/javascript\">window.PlotlyConfig = {MathJaxConfig: 'local'};</script>\n",
              "        <script charset=\"utf-8\" src=\"https://cdn.plot.ly/plotly-2.24.1.min.js\"></script>                <div id=\"eef6b7a9-51aa-4fab-a84d-b72c56b1798f\" class=\"plotly-graph-div\" style=\"height:400px; width:900px;\"></div>            <script type=\"text/javascript\">                                    window.PLOTLYENV=window.PLOTLYENV || {};                                    if (document.getElementById(\"eef6b7a9-51aa-4fab-a84d-b72c56b1798f\")) {                    Plotly.newPlot(                        \"eef6b7a9-51aa-4fab-a84d-b72c56b1798f\",                        [{\"coloraxis\":\"coloraxis\",\"name\":\"0\",\"texttemplate\":\"%{z:.2f}\",\"z\":[[1.4758710861206055,0.874293863773346],[1.0497562885284424,0.10723722726106644]],\"type\":\"heatmap\",\"xaxis\":\"x\",\"yaxis\":\"y\",\"hovertemplate\":\"Head: %{x}\\u003cbr\\u003eLayer: %{y}\\u003cbr\\u003eLogit diff: %{z}\\u003cextra\\u003e\\u003c\\u002fextra\\u003e\"}],                        {\"template\":{\"data\":{\"histogram2dcontour\":[{\"type\":\"histogram2dcontour\",\"colorbar\":{\"outlinewidth\":0,\"ticks\":\"\"},\"colorscale\":[[0.0,\"#0d0887\"],[0.1111111111111111,\"#46039f\"],[0.2222222222222222,\"#7201a8\"],[0.3333333333333333,\"#9c179e\"],[0.4444444444444444,\"#bd3786\"],[0.5555555555555556,\"#d8576b\"],[0.6666666666666666,\"#ed7953\"],[0.7777777777777778,\"#fb9f3a\"],[0.8888888888888888,\"#fdca26\"],[1.0,\"#f0f921\"]]}],\"choropleth\":[{\"type\":\"choropleth\",\"colorbar\":{\"outlinewidth\":0,\"ticks\":\"\"}}],\"histogram2d\":[{\"type\":\"histogram2d\",\"colorbar\":{\"outlinewidth\":0,\"ticks\":\"\"},\"colorscale\":[[0.0,\"#0d0887\"],[0.1111111111111111,\"#46039f\"],[0.2222222222222222,\"#7201a8\"],[0.3333333333333333,\"#9c179e\"],[0.4444444444444444,\"#bd3786\"],[0.5555555555555556,\"#d8576b\"],[0.6666666666666666,\"#ed7953\"],[0.7777777777777778,\"#fb9f3a\"],[0.8888888888888888,\"#fdca26\"],[1.0,\"#f0f921\"]]}],\"heatmap\":[{\"type\":\"heatmap\",\"colorbar\":{\"outlinewidth\":0,\"ticks\":\"\"},\"colorscale\":[[0.0,\"#0d0887\"],[0.1111111111111111,\"#46039f\"],[0.2222222222222222,\"#7201a8\"],[0.3333333333333333,\"#9c179e\"],[0.4444444444444444,\"#bd3786\"],[0.5555555555555556,\"#d8576b\"],[0.6666666666666666,\"#ed7953\"],[0.7777777777777778,\"#fb9f3a\"],[0.8888888888888888,\"#fdca26\"],[1.0,\"#f0f921\"]]}],\"heatmapgl\":[{\"type\":\"heatmapgl\",\"colorbar\":{\"outlinewidth\":0,\"ticks\":\"\"},\"colorscale\":[[0.0,\"#0d0887\"],[0.1111111111111111,\"#46039f\"],[0.2222222222222222,\"#7201a8\"],[0.3333333333333333,\"#9c179e\"],[0.4444444444444444,\"#bd3786\"],[0.5555555555555556,\"#d8576b\"],[0.6666666666666666,\"#ed7953\"],[0.7777777777777778,\"#fb9f3a\"],[0.8888888888888888,\"#fdca26\"],[1.0,\"#f0f921\"]]}],\"contourcarpet\":[{\"type\":\"contourcarpet\",\"colorbar\":{\"outlinewidth\":0,\"ticks\":\"\"}}],\"contour\":[{\"type\":\"contour\",\"colorbar\":{\"outlinewidth\":0,\"ticks\":\"\"},\"colorscale\":[[0.0,\"#0d0887\"],[0.1111111111111111,\"#46039f\"],[0.2222222222222222,\"#7201a8\"],[0.3333333333333333,\"#9c179e\"],[0.4444444444444444,\"#bd3786\"],[0.5555555555555556,\"#d8576b\"],[0.6666666666666666,\"#ed7953\"],[0.7777777777777778,\"#fb9f3a\"],[0.8888888888888888,\"#fdca26\"],[1.0,\"#f0f921\"]]}],\"surface\":[{\"type\":\"surface\",\"colorbar\":{\"outlinewidth\":0,\"ticks\":\"\"},\"colorscale\":[[0.0,\"#0d0887\"],[0.1111111111111111,\"#46039f\"],[0.2222222222222222,\"#7201a8\"],[0.3333333333333333,\"#9c179e\"],[0.4444444444444444,\"#bd3786\"],[0.5555555555555556,\"#d8576b\"],[0.6666666666666666,\"#ed7953\"],[0.7777777777777778,\"#fb9f3a\"],[0.8888888888888888,\"#fdca26\"],[1.0,\"#f0f921\"]]}],\"mesh3d\":[{\"type\":\"mesh3d\",\"colorbar\":{\"outlinewidth\":0,\"ticks\":\"\"}}],\"scatter\":[{\"fillpattern\":{\"fillmode\":\"overlay\",\"size\":10,\"solidity\":0.2},\"type\":\"scatter\"}],\"parcoords\":[{\"type\":\"parcoords\",\"line\":{\"colorbar\":{\"outlinewidth\":0,\"ticks\":\"\"}}}],\"scatterpolargl\":[{\"type\":\"scatterpolargl\",\"marker\":{\"colorbar\":{\"outlinewidth\":0,\"ticks\":\"\"}}}],\"bar\":[{\"error_x\":{\"color\":\"#2a3f5f\"},\"error_y\":{\"color\":\"#2a3f5f\"},\"marker\":{\"line\":{\"color\":\"#E5ECF6\",\"width\":0.5},\"pattern\":{\"fillmode\":\"overlay\",\"size\":10,\"solidity\":0.2}},\"type\":\"bar\"}],\"scattergeo\":[{\"type\":\"scattergeo\",\"marker\":{\"colorbar\":{\"outlinewidth\":0,\"ticks\":\"\"}}}],\"scatterpolar\":[{\"type\":\"scatterpolar\",\"marker\":{\"colorbar\":{\"outlinewidth\":0,\"ticks\":\"\"}}}],\"histogram\":[{\"marker\":{\"pattern\":{\"fillmode\":\"overlay\",\"size\":10,\"solidity\":0.2}},\"type\":\"histogram\"}],\"scattergl\":[{\"type\":\"scattergl\",\"marker\":{\"colorbar\":{\"outlinewidth\":0,\"ticks\":\"\"}}}],\"scatter3d\":[{\"type\":\"scatter3d\",\"line\":{\"colorbar\":{\"outlinewidth\":0,\"ticks\":\"\"}},\"marker\":{\"colorbar\":{\"outlinewidth\":0,\"ticks\":\"\"}}}],\"scattermapbox\":[{\"type\":\"scattermapbox\",\"marker\":{\"colorbar\":{\"outlinewidth\":0,\"ticks\":\"\"}}}],\"scatterternary\":[{\"type\":\"scatterternary\",\"marker\":{\"colorbar\":{\"outlinewidth\":0,\"ticks\":\"\"}}}],\"scattercarpet\":[{\"type\":\"scattercarpet\",\"marker\":{\"colorbar\":{\"outlinewidth\":0,\"ticks\":\"\"}}}],\"carpet\":[{\"aaxis\":{\"endlinecolor\":\"#2a3f5f\",\"gridcolor\":\"white\",\"linecolor\":\"white\",\"minorgridcolor\":\"white\",\"startlinecolor\":\"#2a3f5f\"},\"baxis\":{\"endlinecolor\":\"#2a3f5f\",\"gridcolor\":\"white\",\"linecolor\":\"white\",\"minorgridcolor\":\"white\",\"startlinecolor\":\"#2a3f5f\"},\"type\":\"carpet\"}],\"table\":[{\"cells\":{\"fill\":{\"color\":\"#EBF0F8\"},\"line\":{\"color\":\"white\"}},\"header\":{\"fill\":{\"color\":\"#C8D4E3\"},\"line\":{\"color\":\"white\"}},\"type\":\"table\"}],\"barpolar\":[{\"marker\":{\"line\":{\"color\":\"#E5ECF6\",\"width\":0.5},\"pattern\":{\"fillmode\":\"overlay\",\"size\":10,\"solidity\":0.2}},\"type\":\"barpolar\"}],\"pie\":[{\"automargin\":true,\"type\":\"pie\"}]},\"layout\":{\"autotypenumbers\":\"strict\",\"colorway\":[\"#636efa\",\"#EF553B\",\"#00cc96\",\"#ab63fa\",\"#FFA15A\",\"#19d3f3\",\"#FF6692\",\"#B6E880\",\"#FF97FF\",\"#FECB52\"],\"font\":{\"color\":\"#2a3f5f\"},\"hovermode\":\"closest\",\"hoverlabel\":{\"align\":\"left\"},\"paper_bgcolor\":\"white\",\"plot_bgcolor\":\"#E5ECF6\",\"polar\":{\"bgcolor\":\"#E5ECF6\",\"angularaxis\":{\"gridcolor\":\"white\",\"linecolor\":\"white\",\"ticks\":\"\"},\"radialaxis\":{\"gridcolor\":\"white\",\"linecolor\":\"white\",\"ticks\":\"\"}},\"ternary\":{\"bgcolor\":\"#E5ECF6\",\"aaxis\":{\"gridcolor\":\"white\",\"linecolor\":\"white\",\"ticks\":\"\"},\"baxis\":{\"gridcolor\":\"white\",\"linecolor\":\"white\",\"ticks\":\"\"},\"caxis\":{\"gridcolor\":\"white\",\"linecolor\":\"white\",\"ticks\":\"\"}},\"coloraxis\":{\"colorbar\":{\"outlinewidth\":0,\"ticks\":\"\"}},\"colorscale\":{\"sequential\":[[0.0,\"#0d0887\"],[0.1111111111111111,\"#46039f\"],[0.2222222222222222,\"#7201a8\"],[0.3333333333333333,\"#9c179e\"],[0.4444444444444444,\"#bd3786\"],[0.5555555555555556,\"#d8576b\"],[0.6666666666666666,\"#ed7953\"],[0.7777777777777778,\"#fb9f3a\"],[0.8888888888888888,\"#fdca26\"],[1.0,\"#f0f921\"]],\"sequentialminus\":[[0.0,\"#0d0887\"],[0.1111111111111111,\"#46039f\"],[0.2222222222222222,\"#7201a8\"],[0.3333333333333333,\"#9c179e\"],[0.4444444444444444,\"#bd3786\"],[0.5555555555555556,\"#d8576b\"],[0.6666666666666666,\"#ed7953\"],[0.7777777777777778,\"#fb9f3a\"],[0.8888888888888888,\"#fdca26\"],[1.0,\"#f0f921\"]],\"diverging\":[[0,\"#8e0152\"],[0.1,\"#c51b7d\"],[0.2,\"#de77ae\"],[0.3,\"#f1b6da\"],[0.4,\"#fde0ef\"],[0.5,\"#f7f7f7\"],[0.6,\"#e6f5d0\"],[0.7,\"#b8e186\"],[0.8,\"#7fbc41\"],[0.9,\"#4d9221\"],[1,\"#276419\"]]},\"xaxis\":{\"gridcolor\":\"white\",\"linecolor\":\"white\",\"ticks\":\"\",\"title\":{\"standoff\":15},\"zerolinecolor\":\"white\",\"automargin\":true,\"zerolinewidth\":2},\"yaxis\":{\"gridcolor\":\"white\",\"linecolor\":\"white\",\"ticks\":\"\",\"title\":{\"standoff\":15},\"zerolinecolor\":\"white\",\"automargin\":true,\"zerolinewidth\":2},\"scene\":{\"xaxis\":{\"backgroundcolor\":\"#E5ECF6\",\"gridcolor\":\"white\",\"linecolor\":\"white\",\"showbackground\":true,\"ticks\":\"\",\"zerolinecolor\":\"white\",\"gridwidth\":2},\"yaxis\":{\"backgroundcolor\":\"#E5ECF6\",\"gridcolor\":\"white\",\"linecolor\":\"white\",\"showbackground\":true,\"ticks\":\"\",\"zerolinecolor\":\"white\",\"gridwidth\":2},\"zaxis\":{\"backgroundcolor\":\"#E5ECF6\",\"gridcolor\":\"white\",\"linecolor\":\"white\",\"showbackground\":true,\"ticks\":\"\",\"zerolinecolor\":\"white\",\"gridwidth\":2}},\"shapedefaults\":{\"line\":{\"color\":\"#2a3f5f\"}},\"annotationdefaults\":{\"arrowcolor\":\"#2a3f5f\",\"arrowhead\":0,\"arrowwidth\":1},\"geo\":{\"bgcolor\":\"white\",\"landcolor\":\"#E5ECF6\",\"subunitcolor\":\"white\",\"showland\":true,\"showlakes\":true,\"lakecolor\":\"white\"},\"title\":{\"x\":0.05},\"mapbox\":{\"style\":\"light\"}}},\"xaxis\":{\"anchor\":\"y\",\"domain\":[0.0,1.0],\"scaleanchor\":\"y\",\"constrain\":\"domain\",\"title\":{\"text\":\"Head\"}},\"yaxis\":{\"anchor\":\"x\",\"domain\":[0.0,1.0],\"autorange\":\"reversed\",\"constrain\":\"domain\",\"title\":{\"text\":\"Layer\"}},\"coloraxis\":{\"colorbar\":{\"title\":{\"text\":\"Logit diff\"}},\"colorscale\":[[0.0,\"rgb(103,0,31)\"],[0.1,\"rgb(178,24,43)\"],[0.2,\"rgb(214,96,77)\"],[0.3,\"rgb(244,165,130)\"],[0.4,\"rgb(253,219,199)\"],[0.5,\"rgb(247,247,247)\"],[0.6,\"rgb(209,229,240)\"],[0.7,\"rgb(146,197,222)\"],[0.8,\"rgb(67,147,195)\"],[0.9,\"rgb(33,102,172)\"],[1.0,\"rgb(5,48,97)\"]],\"cmid\":0.0},\"title\":{\"text\":\"Loss Difference After Ablating Heads, ablation_type: random\"},\"height\":400,\"width\":900},                        {\"staticPlot\": false, \"responsive\": true}                    ).then(function(){\n",
              "                            \n",
              "var gd = document.getElementById('eef6b7a9-51aa-4fab-a84d-b72c56b1798f');\n",
              "var x = new MutationObserver(function (mutations, observer) {{\n",
              "        var display = window.getComputedStyle(gd).display;\n",
              "        if (!display || display === 'none') {{\n",
              "            console.log([gd, 'removed!']);\n",
              "            Plotly.purge(gd);\n",
              "            observer.disconnect();\n",
              "        }}\n",
              "}});\n",
              "\n",
              "// Listen for the removal of the full notebook cells\n",
              "var notebookContainer = gd.closest('#notebook-container');\n",
              "if (notebookContainer) {{\n",
              "    x.observe(notebookContainer, {childList: true});\n",
              "}}\n",
              "\n",
              "// Listen for the clearing of the current output cell\n",
              "var outputEl = gd.closest('.output');\n",
              "if (outputEl) {{\n",
              "    x.observe(outputEl, {childList: true});\n",
              "}}\n",
              "\n",
              "                        })                };                            </script>        </div>\n",
              "</body>\n",
              "</html>"
            ]
          },
          "metadata": {}
        },
        {
          "output_type": "display_data",
          "data": {
            "text/html": [
              "<html>\n",
              "<head><meta charset=\"utf-8\" /></head>\n",
              "<body>\n",
              "    <div>            <script src=\"https://cdnjs.cloudflare.com/ajax/libs/mathjax/2.7.5/MathJax.js?config=TeX-AMS-MML_SVG\"></script><script type=\"text/javascript\">if (window.MathJax && window.MathJax.Hub && window.MathJax.Hub.Config) {window.MathJax.Hub.Config({SVG: {font: \"STIX-Web\"}});}</script>                <script type=\"text/javascript\">window.PlotlyConfig = {MathJaxConfig: 'local'};</script>\n",
              "        <script charset=\"utf-8\" src=\"https://cdn.plot.ly/plotly-2.24.1.min.js\"></script>                <div id=\"df212d73-9eec-4ac2-9d9d-2b3bca5dd989\" class=\"plotly-graph-div\" style=\"height:400px; width:900px;\"></div>            <script type=\"text/javascript\">                                    window.PLOTLYENV=window.PLOTLYENV || {};                                    if (document.getElementById(\"df212d73-9eec-4ac2-9d9d-2b3bca5dd989\")) {                    Plotly.newPlot(                        \"df212d73-9eec-4ac2-9d9d-2b3bca5dd989\",                        [{\"coloraxis\":\"coloraxis\",\"name\":\"0\",\"texttemplate\":\"%{z:.2f}\",\"z\":[[3.2354681491851807,0.08919192850589752],[3.8853583335876465,0.012499605305492878]],\"type\":\"heatmap\",\"xaxis\":\"x\",\"yaxis\":\"y\",\"hovertemplate\":\"Head: %{x}\\u003cbr\\u003eLayer: %{y}\\u003cbr\\u003eLogit diff: %{z}\\u003cextra\\u003e\\u003c\\u002fextra\\u003e\"}],                        {\"template\":{\"data\":{\"histogram2dcontour\":[{\"type\":\"histogram2dcontour\",\"colorbar\":{\"outlinewidth\":0,\"ticks\":\"\"},\"colorscale\":[[0.0,\"#0d0887\"],[0.1111111111111111,\"#46039f\"],[0.2222222222222222,\"#7201a8\"],[0.3333333333333333,\"#9c179e\"],[0.4444444444444444,\"#bd3786\"],[0.5555555555555556,\"#d8576b\"],[0.6666666666666666,\"#ed7953\"],[0.7777777777777778,\"#fb9f3a\"],[0.8888888888888888,\"#fdca26\"],[1.0,\"#f0f921\"]]}],\"choropleth\":[{\"type\":\"choropleth\",\"colorbar\":{\"outlinewidth\":0,\"ticks\":\"\"}}],\"histogram2d\":[{\"type\":\"histogram2d\",\"colorbar\":{\"outlinewidth\":0,\"ticks\":\"\"},\"colorscale\":[[0.0,\"#0d0887\"],[0.1111111111111111,\"#46039f\"],[0.2222222222222222,\"#7201a8\"],[0.3333333333333333,\"#9c179e\"],[0.4444444444444444,\"#bd3786\"],[0.5555555555555556,\"#d8576b\"],[0.6666666666666666,\"#ed7953\"],[0.7777777777777778,\"#fb9f3a\"],[0.8888888888888888,\"#fdca26\"],[1.0,\"#f0f921\"]]}],\"heatmap\":[{\"type\":\"heatmap\",\"colorbar\":{\"outlinewidth\":0,\"ticks\":\"\"},\"colorscale\":[[0.0,\"#0d0887\"],[0.1111111111111111,\"#46039f\"],[0.2222222222222222,\"#7201a8\"],[0.3333333333333333,\"#9c179e\"],[0.4444444444444444,\"#bd3786\"],[0.5555555555555556,\"#d8576b\"],[0.6666666666666666,\"#ed7953\"],[0.7777777777777778,\"#fb9f3a\"],[0.8888888888888888,\"#fdca26\"],[1.0,\"#f0f921\"]]}],\"heatmapgl\":[{\"type\":\"heatmapgl\",\"colorbar\":{\"outlinewidth\":0,\"ticks\":\"\"},\"colorscale\":[[0.0,\"#0d0887\"],[0.1111111111111111,\"#46039f\"],[0.2222222222222222,\"#7201a8\"],[0.3333333333333333,\"#9c179e\"],[0.4444444444444444,\"#bd3786\"],[0.5555555555555556,\"#d8576b\"],[0.6666666666666666,\"#ed7953\"],[0.7777777777777778,\"#fb9f3a\"],[0.8888888888888888,\"#fdca26\"],[1.0,\"#f0f921\"]]}],\"contourcarpet\":[{\"type\":\"contourcarpet\",\"colorbar\":{\"outlinewidth\":0,\"ticks\":\"\"}}],\"contour\":[{\"type\":\"contour\",\"colorbar\":{\"outlinewidth\":0,\"ticks\":\"\"},\"colorscale\":[[0.0,\"#0d0887\"],[0.1111111111111111,\"#46039f\"],[0.2222222222222222,\"#7201a8\"],[0.3333333333333333,\"#9c179e\"],[0.4444444444444444,\"#bd3786\"],[0.5555555555555556,\"#d8576b\"],[0.6666666666666666,\"#ed7953\"],[0.7777777777777778,\"#fb9f3a\"],[0.8888888888888888,\"#fdca26\"],[1.0,\"#f0f921\"]]}],\"surface\":[{\"type\":\"surface\",\"colorbar\":{\"outlinewidth\":0,\"ticks\":\"\"},\"colorscale\":[[0.0,\"#0d0887\"],[0.1111111111111111,\"#46039f\"],[0.2222222222222222,\"#7201a8\"],[0.3333333333333333,\"#9c179e\"],[0.4444444444444444,\"#bd3786\"],[0.5555555555555556,\"#d8576b\"],[0.6666666666666666,\"#ed7953\"],[0.7777777777777778,\"#fb9f3a\"],[0.8888888888888888,\"#fdca26\"],[1.0,\"#f0f921\"]]}],\"mesh3d\":[{\"type\":\"mesh3d\",\"colorbar\":{\"outlinewidth\":0,\"ticks\":\"\"}}],\"scatter\":[{\"fillpattern\":{\"fillmode\":\"overlay\",\"size\":10,\"solidity\":0.2},\"type\":\"scatter\"}],\"parcoords\":[{\"type\":\"parcoords\",\"line\":{\"colorbar\":{\"outlinewidth\":0,\"ticks\":\"\"}}}],\"scatterpolargl\":[{\"type\":\"scatterpolargl\",\"marker\":{\"colorbar\":{\"outlinewidth\":0,\"ticks\":\"\"}}}],\"bar\":[{\"error_x\":{\"color\":\"#2a3f5f\"},\"error_y\":{\"color\":\"#2a3f5f\"},\"marker\":{\"line\":{\"color\":\"#E5ECF6\",\"width\":0.5},\"pattern\":{\"fillmode\":\"overlay\",\"size\":10,\"solidity\":0.2}},\"type\":\"bar\"}],\"scattergeo\":[{\"type\":\"scattergeo\",\"marker\":{\"colorbar\":{\"outlinewidth\":0,\"ticks\":\"\"}}}],\"scatterpolar\":[{\"type\":\"scatterpolar\",\"marker\":{\"colorbar\":{\"outlinewidth\":0,\"ticks\":\"\"}}}],\"histogram\":[{\"marker\":{\"pattern\":{\"fillmode\":\"overlay\",\"size\":10,\"solidity\":0.2}},\"type\":\"histogram\"}],\"scattergl\":[{\"type\":\"scattergl\",\"marker\":{\"colorbar\":{\"outlinewidth\":0,\"ticks\":\"\"}}}],\"scatter3d\":[{\"type\":\"scatter3d\",\"line\":{\"colorbar\":{\"outlinewidth\":0,\"ticks\":\"\"}},\"marker\":{\"colorbar\":{\"outlinewidth\":0,\"ticks\":\"\"}}}],\"scattermapbox\":[{\"type\":\"scattermapbox\",\"marker\":{\"colorbar\":{\"outlinewidth\":0,\"ticks\":\"\"}}}],\"scatterternary\":[{\"type\":\"scatterternary\",\"marker\":{\"colorbar\":{\"outlinewidth\":0,\"ticks\":\"\"}}}],\"scattercarpet\":[{\"type\":\"scattercarpet\",\"marker\":{\"colorbar\":{\"outlinewidth\":0,\"ticks\":\"\"}}}],\"carpet\":[{\"aaxis\":{\"endlinecolor\":\"#2a3f5f\",\"gridcolor\":\"white\",\"linecolor\":\"white\",\"minorgridcolor\":\"white\",\"startlinecolor\":\"#2a3f5f\"},\"baxis\":{\"endlinecolor\":\"#2a3f5f\",\"gridcolor\":\"white\",\"linecolor\":\"white\",\"minorgridcolor\":\"white\",\"startlinecolor\":\"#2a3f5f\"},\"type\":\"carpet\"}],\"table\":[{\"cells\":{\"fill\":{\"color\":\"#EBF0F8\"},\"line\":{\"color\":\"white\"}},\"header\":{\"fill\":{\"color\":\"#C8D4E3\"},\"line\":{\"color\":\"white\"}},\"type\":\"table\"}],\"barpolar\":[{\"marker\":{\"line\":{\"color\":\"#E5ECF6\",\"width\":0.5},\"pattern\":{\"fillmode\":\"overlay\",\"size\":10,\"solidity\":0.2}},\"type\":\"barpolar\"}],\"pie\":[{\"automargin\":true,\"type\":\"pie\"}]},\"layout\":{\"autotypenumbers\":\"strict\",\"colorway\":[\"#636efa\",\"#EF553B\",\"#00cc96\",\"#ab63fa\",\"#FFA15A\",\"#19d3f3\",\"#FF6692\",\"#B6E880\",\"#FF97FF\",\"#FECB52\"],\"font\":{\"color\":\"#2a3f5f\"},\"hovermode\":\"closest\",\"hoverlabel\":{\"align\":\"left\"},\"paper_bgcolor\":\"white\",\"plot_bgcolor\":\"#E5ECF6\",\"polar\":{\"bgcolor\":\"#E5ECF6\",\"angularaxis\":{\"gridcolor\":\"white\",\"linecolor\":\"white\",\"ticks\":\"\"},\"radialaxis\":{\"gridcolor\":\"white\",\"linecolor\":\"white\",\"ticks\":\"\"}},\"ternary\":{\"bgcolor\":\"#E5ECF6\",\"aaxis\":{\"gridcolor\":\"white\",\"linecolor\":\"white\",\"ticks\":\"\"},\"baxis\":{\"gridcolor\":\"white\",\"linecolor\":\"white\",\"ticks\":\"\"},\"caxis\":{\"gridcolor\":\"white\",\"linecolor\":\"white\",\"ticks\":\"\"}},\"coloraxis\":{\"colorbar\":{\"outlinewidth\":0,\"ticks\":\"\"}},\"colorscale\":{\"sequential\":[[0.0,\"#0d0887\"],[0.1111111111111111,\"#46039f\"],[0.2222222222222222,\"#7201a8\"],[0.3333333333333333,\"#9c179e\"],[0.4444444444444444,\"#bd3786\"],[0.5555555555555556,\"#d8576b\"],[0.6666666666666666,\"#ed7953\"],[0.7777777777777778,\"#fb9f3a\"],[0.8888888888888888,\"#fdca26\"],[1.0,\"#f0f921\"]],\"sequentialminus\":[[0.0,\"#0d0887\"],[0.1111111111111111,\"#46039f\"],[0.2222222222222222,\"#7201a8\"],[0.3333333333333333,\"#9c179e\"],[0.4444444444444444,\"#bd3786\"],[0.5555555555555556,\"#d8576b\"],[0.6666666666666666,\"#ed7953\"],[0.7777777777777778,\"#fb9f3a\"],[0.8888888888888888,\"#fdca26\"],[1.0,\"#f0f921\"]],\"diverging\":[[0,\"#8e0152\"],[0.1,\"#c51b7d\"],[0.2,\"#de77ae\"],[0.3,\"#f1b6da\"],[0.4,\"#fde0ef\"],[0.5,\"#f7f7f7\"],[0.6,\"#e6f5d0\"],[0.7,\"#b8e186\"],[0.8,\"#7fbc41\"],[0.9,\"#4d9221\"],[1,\"#276419\"]]},\"xaxis\":{\"gridcolor\":\"white\",\"linecolor\":\"white\",\"ticks\":\"\",\"title\":{\"standoff\":15},\"zerolinecolor\":\"white\",\"automargin\":true,\"zerolinewidth\":2},\"yaxis\":{\"gridcolor\":\"white\",\"linecolor\":\"white\",\"ticks\":\"\",\"title\":{\"standoff\":15},\"zerolinecolor\":\"white\",\"automargin\":true,\"zerolinewidth\":2},\"scene\":{\"xaxis\":{\"backgroundcolor\":\"#E5ECF6\",\"gridcolor\":\"white\",\"linecolor\":\"white\",\"showbackground\":true,\"ticks\":\"\",\"zerolinecolor\":\"white\",\"gridwidth\":2},\"yaxis\":{\"backgroundcolor\":\"#E5ECF6\",\"gridcolor\":\"white\",\"linecolor\":\"white\",\"showbackground\":true,\"ticks\":\"\",\"zerolinecolor\":\"white\",\"gridwidth\":2},\"zaxis\":{\"backgroundcolor\":\"#E5ECF6\",\"gridcolor\":\"white\",\"linecolor\":\"white\",\"showbackground\":true,\"ticks\":\"\",\"zerolinecolor\":\"white\",\"gridwidth\":2}},\"shapedefaults\":{\"line\":{\"color\":\"#2a3f5f\"}},\"annotationdefaults\":{\"arrowcolor\":\"#2a3f5f\",\"arrowhead\":0,\"arrowwidth\":1},\"geo\":{\"bgcolor\":\"white\",\"landcolor\":\"#E5ECF6\",\"subunitcolor\":\"white\",\"showland\":true,\"showlakes\":true,\"lakecolor\":\"white\"},\"title\":{\"x\":0.05},\"mapbox\":{\"style\":\"light\"}}},\"xaxis\":{\"anchor\":\"y\",\"domain\":[0.0,1.0],\"scaleanchor\":\"y\",\"constrain\":\"domain\",\"title\":{\"text\":\"Head\"}},\"yaxis\":{\"anchor\":\"x\",\"domain\":[0.0,1.0],\"autorange\":\"reversed\",\"constrain\":\"domain\",\"title\":{\"text\":\"Layer\"}},\"coloraxis\":{\"colorbar\":{\"title\":{\"text\":\"Logit diff\"}},\"colorscale\":[[0.0,\"rgb(103,0,31)\"],[0.1,\"rgb(178,24,43)\"],[0.2,\"rgb(214,96,77)\"],[0.3,\"rgb(244,165,130)\"],[0.4,\"rgb(253,219,199)\"],[0.5,\"rgb(247,247,247)\"],[0.6,\"rgb(209,229,240)\"],[0.7,\"rgb(146,197,222)\"],[0.8,\"rgb(67,147,195)\"],[0.9,\"rgb(33,102,172)\"],[1.0,\"rgb(5,48,97)\"]],\"cmid\":0.0},\"title\":{\"text\":\"Loss Difference After Ablating Heads, ablation_type: mean\"},\"height\":400,\"width\":900},                        {\"staticPlot\": false, \"responsive\": true}                    ).then(function(){\n",
              "                            \n",
              "var gd = document.getElementById('df212d73-9eec-4ac2-9d9d-2b3bca5dd989');\n",
              "var x = new MutationObserver(function (mutations, observer) {{\n",
              "        var display = window.getComputedStyle(gd).display;\n",
              "        if (!display || display === 'none') {{\n",
              "            console.log([gd, 'removed!']);\n",
              "            Plotly.purge(gd);\n",
              "            observer.disconnect();\n",
              "        }}\n",
              "}});\n",
              "\n",
              "// Listen for the removal of the full notebook cells\n",
              "var notebookContainer = gd.closest('#notebook-container');\n",
              "if (notebookContainer) {{\n",
              "    x.observe(notebookContainer, {childList: true});\n",
              "}}\n",
              "\n",
              "// Listen for the clearing of the current output cell\n",
              "var outputEl = gd.closest('.output');\n",
              "if (outputEl) {{\n",
              "    x.observe(outputEl, {childList: true});\n",
              "}}\n",
              "\n",
              "                        })                };                            </script>        </div>\n",
              "</body>\n",
              "</html>"
            ]
          },
          "metadata": {}
        }
      ]
    },
    {
      "cell_type": "markdown",
      "source": [
        "Some conclusions from this ablation analysis:\n",
        "- **Head 1.1 seems to be doing absolutely nothing.**\n",
        "- Heads 0.0, 0.1, and 1.0 are quite important to the mechanism.\n",
        "- Mean-ablating head 0.1 seems to have no impact on performance. This suggests that its output is roughly the same for all inputs (?)\n"
      ],
      "metadata": {
        "id": "TQWpe3FA3DXh"
      }
    },
    {
      "cell_type": "markdown",
      "source": [
        "### QKV ablations\n",
        "\n",
        "We can ablate the indivudal Q, K, and V activations for each head."
      ],
      "metadata": {
        "id": "Js1Ulc91cCQj"
      }
    },
    {
      "cell_type": "code",
      "source": [
        "def qkv_zero_ablation_hook(\n",
        "    qkorv: Float[Tensor, \"batch seq n_heads d_model\"],\n",
        "    hook: HookPoint,\n",
        ") -> Float[Tensor, \"batch seq n_heads d_model\"]:\n",
        "    if (hook.layer() == layer):\n",
        "        qkorv[:,:,head,:] = 0\n",
        "    return qkorv\n",
        "\n",
        "def qkv_mean_ablation_hook(\n",
        "    qkorv: Float[Tensor, \"batch seq n_heads d_model\"],\n",
        "    hook: HookPoint,\n",
        ") -> Float[Tensor, \"batch seq n_heads d_model\"]:\n",
        "    if (hook.layer() == layer):\n",
        "        qkorv[:,:,head] = qkorv[:,:,head,:].mean(dim=0, keepdim=True)\n",
        "    return qkorv\n",
        "\n",
        "toks, is_palindrome = dataset[0:200]\n",
        "\n",
        "for type in ['q', 'k', 'v']:\n",
        "    print(f\"Mean ablating {type}\")\n",
        "    for layer in [0,1]:\n",
        "        for head in [0,1]:\n",
        "            model.reset_hooks()\n",
        "            logits_no_ablation = model(toks, return_type=\"logits\")\n",
        "            loss_no_ablation = get_loss(logits_no_ablation, is_palindrome)\n",
        "\n",
        "            ablated_logits = model.run_with_hooks(\n",
        "                toks,\n",
        "                return_type=\"logits\",\n",
        "                fwd_hooks=[(utils.get_act_name(type, layer), qkv_mean_ablation_hook)]\n",
        "            )\n",
        "            ablated_loss = get_loss(ablated_logits, is_palindrome) - loss_no_ablation\n",
        "            print(f\"loss diff mean ablating {type} in h{layer}.{head}: {ablated_loss}\")\n",
        "\n",
        "print('\\n\\n')\n",
        "\n",
        "for type in ['q', 'k', 'v']:\n",
        "    print(f\"Zero ablating {type}\")\n",
        "    for layer in [0,1]:\n",
        "        for head in [0,1]:\n",
        "            model.reset_hooks()\n",
        "            logits_no_ablation = model(toks, return_type=\"logits\")\n",
        "            loss_no_ablation = get_loss(logits_no_ablation, is_palindrome)\n",
        "\n",
        "            ablated_logits = model.run_with_hooks(\n",
        "                toks,\n",
        "                return_type=\"logits\",\n",
        "                fwd_hooks=[(utils.get_act_name(type, layer), qkv_zero_ablation_hook)]\n",
        "            )\n",
        "            ablated_loss = get_loss(ablated_logits, is_palindrome) - loss_no_ablation\n",
        "            print(f\"loss diff zero ablating {type} in h{layer}.{head}: {ablated_loss}\")"
      ],
      "metadata": {
        "colab": {
          "base_uri": "https://localhost:8080/"
        },
        "id": "bKXlwJYrCqdA",
        "outputId": "c94ecb48-95e9-4f60-bdc1-b420537a08c1"
      },
      "execution_count": 37,
      "outputs": [
        {
          "output_type": "stream",
          "name": "stdout",
          "text": [
            "Mean ablating q\n",
            "loss diff mean ablating q in h0.0: 1.289652420207858\n",
            "loss diff mean ablating q in h0.1: 0.0038201939314603806\n",
            "loss diff mean ablating q in h1.0: 0.0001571420580148697\n",
            "loss diff mean ablating q in h1.1: 0.0001202831044793129\n",
            "Mean ablating k\n",
            "loss diff mean ablating k in h0.0: 0.9433671962469816\n",
            "loss diff mean ablating k in h0.1: 0.027933679521083832\n",
            "loss diff mean ablating k in h1.0: 0.2121445070952177\n",
            "loss diff mean ablating k in h1.1: 0.0009737040381878614\n",
            "Mean ablating v\n",
            "loss diff mean ablating v in h0.0: 0.9077602755278349\n",
            "loss diff mean ablating v in h0.1: 0.0028489665128290653\n",
            "loss diff mean ablating v in h1.0: 0.6797835361212492\n",
            "loss diff mean ablating v in h1.1: -4.720850847661495e-05\n",
            "\n",
            "\n",
            "\n",
            "Zero ablating q\n",
            "loss diff zero ablating q in h0.0: 2.9085682164877653\n",
            "loss diff zero ablating q in h0.1: -0.0005261398619040847\n",
            "loss diff zero ablating q in h1.0: 1.8412707578390837\n",
            "loss diff zero ablating q in h1.1: -0.0014881233219057322\n",
            "Zero ablating k\n",
            "loss diff zero ablating k in h0.0: 2.9085682164877653\n",
            "loss diff zero ablating k in h0.1: -0.0005261398619040847\n",
            "loss diff zero ablating k in h1.0: 1.8412707578390837\n",
            "loss diff zero ablating k in h1.1: -0.0014881233219057322\n",
            "Zero ablating v\n",
            "loss diff zero ablating v in h0.0: 1.7085642348974943\n",
            "loss diff zero ablating v in h0.1: 1.385250760242343\n",
            "loss diff zero ablating v in h1.0: 1.6470503341406584\n",
            "loss diff zero ablating v in h1.1: 0.001103077083826065\n"
          ]
        }
      ]
    }
  ],
  "metadata": {
    "kernelspec": {
      "display_name": "Python 3",
      "name": "python3"
    },
    "language_info": {
      "codemirror_mode": {
        "name": "ipython",
        "version": 3
      },
      "file_extension": ".py",
      "mimetype": "text/x-python",
      "name": "python",
      "nbconvert_exporter": "python",
      "pygments_lexer": "ipython3",
      "version": "3.10.9"
    },
    "orig_nbformat": 4,
    "colab": {
      "provenance": [],
      "collapsed_sections": [
        "qZyTr0Nsaleq",
        "H1q6NbMy0XIs",
        "Js1Ulc91cCQj"
      ],
      "gpuType": "T4",
      "toc_visible": true,
      "include_colab_link": true
    },
    "accelerator": "GPU"
  },
  "nbformat": 4,
  "nbformat_minor": 0
}